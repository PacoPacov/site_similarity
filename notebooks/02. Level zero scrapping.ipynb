{
 "cells": [
  {
   "cell_type": "code",
   "execution_count": 1,
   "metadata": {
    "collapsed": true
   },
   "outputs": [
    {
     "name": "stdout",
     "output_type": "stream",
     "text": [
      "1066\n",
      "OrderedDict([('source_url', 'http://www.villagevoice.com/'), ('source_url_processed', 'villagevoice.com'), ('URL', 'http://mediabiasfactcheck.com/the-village-voice/'), ('fact', 'HIGH'), ('bias', 'left')])\n"
     ]
    }
   ],
   "source": [
    "import pandas as pd\n",
    "from dataprep.load_annotated_data import load_corpus\n",
    "\n",
    "data = load_corpus('modified_corpus.csv')\n",
    "print(len(data))\n",
    "print(data[0])"
   ]
  },
  {
   "cell_type": "code",
   "execution_count": 2,
   "outputs": [
    {
     "name": "stderr",
     "output_type": "stream",
     "text": [
      "100%|██████████| 1066/1066 [02:50<00:00,  6.25it/s]\n"
     ]
    }
   ],
   "source": [
    "from dataprep.alexa_scrapper import ScrapeAlexa\n",
    "from tqdm import tqdm\n",
    "\n",
    "results = {}\n",
    "for row in tqdm(data):\n",
    "    results[row['source_url_processed']] = ScrapeAlexa(row['source_url_processed']).scrape_alexa_site_info()"
   ],
   "metadata": {
    "collapsed": false,
    "pycharm": {
     "name": "#%%\n"
    }
   }
  },
  {
   "cell_type": "code",
   "execution_count": 3,
   "outputs": [
    {
     "data": {
      "text/plain": "{'site': 'villagevoice.com',\n 'score': [{'url': 'nylon.com', 'overlap_score': 4.1, 'alexa_rank': 51694.0},\n  {'url': 'slantmagazine.com', 'overlap_score': 2.5, 'alexa_rank': 92418.0},\n  {'url': 'gothamist.com', 'overlap_score': 2.4, 'alexa_rank': 16813.0},\n  {'url': 'screendaily.com', 'overlap_score': 2.1, 'alexa_rank': 110772.0},\n  {'url': 'amny.com', 'overlap_score': 2.1, 'alexa_rank': 69192.0}],\n 'audience_geography': [{'country': 'United States', 'percent': 77.2}]}"
     },
     "execution_count": 3,
     "metadata": {},
     "output_type": "execute_result"
    }
   ],
   "source": [
    "results['villagevoice.com']"
   ],
   "metadata": {
    "collapsed": false,
    "pycharm": {
     "name": "#%%\n"
    }
   }
  },
  {
   "cell_type": "code",
   "execution_count": 4,
   "outputs": [
    {
     "data": {
      "text/plain": "                                        site  \\\nvillagevoice.com            villagevoice.com   \ninsideclimatenews.org  insideclimatenews.org   \nfury.news                          fury.news   \nnow8news.com                    now8news.com   \nconstitution.com            constitution.com   \n\n                                                                   score  \\\nvillagevoice.com       [{'url': 'nylon.com', 'overlap_score': 4.1, 'a...   \ninsideclimatenews.org  [{'url': 'wri.org', 'overlap_score': 12.8, 'al...   \nfury.news              [{'url': 'settingrecordstraight.blogspot.com',...   \nnow8news.com           [{'url': 'donatebits.com', 'overlap_score': 11...   \nconstitution.com       [{'url': 'themilreview.com', 'overlap_score': ...   \n\n                                                      audience_geography  \nvillagevoice.com         [{'country': 'United States', 'percent': 77.2}]  \ninsideclimatenews.org  [{'country': 'United States', 'percent': 69.0}...  \nfury.news                                                             []  \nnow8news.com                                                          []  \nconstitution.com                                                      []  ",
      "text/html": "<div>\n<style scoped>\n    .dataframe tbody tr th:only-of-type {\n        vertical-align: middle;\n    }\n\n    .dataframe tbody tr th {\n        vertical-align: top;\n    }\n\n    .dataframe thead th {\n        text-align: right;\n    }\n</style>\n<table border=\"1\" class=\"dataframe\">\n  <thead>\n    <tr style=\"text-align: right;\">\n      <th></th>\n      <th>site</th>\n      <th>score</th>\n      <th>audience_geography</th>\n    </tr>\n  </thead>\n  <tbody>\n    <tr>\n      <th>villagevoice.com</th>\n      <td>villagevoice.com</td>\n      <td>[{'url': 'nylon.com', 'overlap_score': 4.1, 'a...</td>\n      <td>[{'country': 'United States', 'percent': 77.2}]</td>\n    </tr>\n    <tr>\n      <th>insideclimatenews.org</th>\n      <td>insideclimatenews.org</td>\n      <td>[{'url': 'wri.org', 'overlap_score': 12.8, 'al...</td>\n      <td>[{'country': 'United States', 'percent': 69.0}...</td>\n    </tr>\n    <tr>\n      <th>fury.news</th>\n      <td>fury.news</td>\n      <td>[{'url': 'settingrecordstraight.blogspot.com',...</td>\n      <td>[]</td>\n    </tr>\n    <tr>\n      <th>now8news.com</th>\n      <td>now8news.com</td>\n      <td>[{'url': 'donatebits.com', 'overlap_score': 11...</td>\n      <td>[]</td>\n    </tr>\n    <tr>\n      <th>constitution.com</th>\n      <td>constitution.com</td>\n      <td>[{'url': 'themilreview.com', 'overlap_score': ...</td>\n      <td>[]</td>\n    </tr>\n  </tbody>\n</table>\n</div>"
     },
     "execution_count": 4,
     "metadata": {},
     "output_type": "execute_result"
    }
   ],
   "source": [
    "res_df = pd.DataFrame.from_dict(results, orient='index')\n",
    "\n",
    "res_df.head()"
   ],
   "metadata": {
    "collapsed": false,
    "pycharm": {
     "name": "#%%\n"
    }
   }
  },
  {
   "cell_type": "code",
   "execution_count": 5,
   "outputs": [
    {
     "data": {
      "text/plain": "0"
     },
     "execution_count": 5,
     "metadata": {},
     "output_type": "execute_result"
    }
   ],
   "source": [
    "# Number of records with no results\n",
    "\n",
    "res_df['score'].isnull().sum()"
   ],
   "metadata": {
    "collapsed": false,
    "pycharm": {
     "name": "#%%\n"
    }
   }
  },
  {
   "cell_type": "code",
   "execution_count": 6,
   "outputs": [
    {
     "data": {
      "text/plain": "Empty DataFrame\nColumns: [site, score, audience_geography]\nIndex: []",
      "text/html": "<div>\n<style scoped>\n    .dataframe tbody tr th:only-of-type {\n        vertical-align: middle;\n    }\n\n    .dataframe tbody tr th {\n        vertical-align: top;\n    }\n\n    .dataframe thead th {\n        text-align: right;\n    }\n</style>\n<table border=\"1\" class=\"dataframe\">\n  <thead>\n    <tr style=\"text-align: right;\">\n      <th></th>\n      <th>site</th>\n      <th>score</th>\n      <th>audience_geography</th>\n    </tr>\n  </thead>\n  <tbody>\n  </tbody>\n</table>\n</div>"
     },
     "execution_count": 6,
     "metadata": {},
     "output_type": "execute_result"
    }
   ],
   "source": [
    "res_df[res_df['score'].isnull()]"
   ],
   "metadata": {
    "collapsed": false,
    "pycharm": {
     "name": "#%%\n"
    }
   }
  },
  {
   "cell_type": "code",
   "execution_count": 7,
   "outputs": [
    {
     "data": {
      "text/plain": "5    939\n0     63\n1     18\n2     16\n4     14\n3     12\nName: score, dtype: int64"
     },
     "execution_count": 7,
     "metadata": {},
     "output_type": "execute_result"
    }
   ],
   "source": [
    "res_df['score'].apply(lambda x: len(x) if x else 0).value_counts()"
   ],
   "metadata": {
    "collapsed": false,
    "pycharm": {
     "name": "#%%\n"
    }
   }
  },
  {
   "cell_type": "code",
   "execution_count": 8,
   "outputs": [
    {
     "data": {
      "text/plain": "                                        site  \\\nloser.com                          loser.com   \ngawken.com                        gawken.com   \nbrokenworldnews.com      brokenworldnews.com   \nharvardpolitics.com      harvardpolitics.com   \nviralcords.com                viralcords.com   \nprogressivestoday.com  progressivestoday.com   \ndeepstatenation.com      deepstatenation.com   \nconservativetoday.com  conservativetoday.com   \nlondonwebnews.com          londonwebnews.com   \nmodernliberals.com        modernliberals.com   \noppositionreport.com    oppositionreport.com   \nnewsandgutsmedia.com    newsandgutsmedia.com   \nglobalvoices.org            globalvoices.org   \nloveknowledge.org          loveknowledge.org   \nthecitizenpress.com      thecitizenpress.com   \nliberalbias.com              liberalbias.com   \nreductress.com                reductress.com   \neveningharold.com          eveningharold.com   \n\n                                                                   score  \\\nloser.com              [{'url': 'theamericanscoop.com', 'overlap_scor...   \ngawken.com             [{'url': 'canipunchnazis.com', 'overlap_score'...   \nbrokenworldnews.com    [{'url': 'roman-catholic.com', 'overlap_score'...   \nharvardpolitics.com    [{'url': 'thecrimson.com', 'overlap_score': 1....   \nviralcords.com         [{'url': 'fakenewscodex.com', 'overlap_score':...   \nprogressivestoday.com  [{'url': 'libertynewsdaily.com', 'overlap_scor...   \ndeepstatenation.com    [{'url': 'deepstatenation.news', 'overlap_scor...   \nconservativetoday.com  [{'url': 'according2hiphop.com', 'overlap_scor...   \nlondonwebnews.com      [{'url': 'americablog.com', 'overlap_score': 1...   \nmodernliberals.com     [{'url': 'politicalgarbagechute.com', 'overlap...   \noppositionreport.com   [{'url': 'humblysubmitted.blogspot.com', 'over...   \nnewsandgutsmedia.com   [{'url': 'danrather.com', 'overlap_score': 12....   \nglobalvoices.org       [{'url': 'cpj.org', 'overlap_score': 1.1, 'ale...   \nloveknowledge.org      [{'url': 'fitsafety.biz', 'overlap_score': 10....   \nthecitizenpress.com    [{'url': 'mochimachine.org', 'overlap_score': ...   \nliberalbias.com        [{'url': 'crewof42.com', 'overlap_score': 7.7,...   \nreductress.com         [{'url': 'maccablo.com', 'overlap_score': 1.0,...   \neveningharold.com      [{'url': 'quotanium.tumblr.com', 'overlap_scor...   \n\n                                                      audience_geography  \nloser.com                                                             []  \ngawken.com                                                            []  \nbrokenworldnews.com                                                   []  \nharvardpolitics.com                                                   []  \nviralcords.com                                                        []  \nprogressivestoday.com                                                 []  \ndeepstatenation.com                                                   []  \nconservativetoday.com                                                 []  \nlondonwebnews.com                                                     []  \nmodernliberals.com                                                    []  \noppositionreport.com                                                  []  \nnewsandgutsmedia.com                                                  []  \nglobalvoices.org       [{'country': 'United States', 'percent': 15.7}...  \nloveknowledge.org                                                     []  \nthecitizenpress.com                                                   []  \nliberalbias.com                                                       []  \nreductress.com         [{'country': 'United States', 'percent': 74.2}...  \neveningharold.com                                                     []  ",
      "text/html": "<div>\n<style scoped>\n    .dataframe tbody tr th:only-of-type {\n        vertical-align: middle;\n    }\n\n    .dataframe tbody tr th {\n        vertical-align: top;\n    }\n\n    .dataframe thead th {\n        text-align: right;\n    }\n</style>\n<table border=\"1\" class=\"dataframe\">\n  <thead>\n    <tr style=\"text-align: right;\">\n      <th></th>\n      <th>site</th>\n      <th>score</th>\n      <th>audience_geography</th>\n    </tr>\n  </thead>\n  <tbody>\n    <tr>\n      <th>loser.com</th>\n      <td>loser.com</td>\n      <td>[{'url': 'theamericanscoop.com', 'overlap_scor...</td>\n      <td>[]</td>\n    </tr>\n    <tr>\n      <th>gawken.com</th>\n      <td>gawken.com</td>\n      <td>[{'url': 'canipunchnazis.com', 'overlap_score'...</td>\n      <td>[]</td>\n    </tr>\n    <tr>\n      <th>brokenworldnews.com</th>\n      <td>brokenworldnews.com</td>\n      <td>[{'url': 'roman-catholic.com', 'overlap_score'...</td>\n      <td>[]</td>\n    </tr>\n    <tr>\n      <th>harvardpolitics.com</th>\n      <td>harvardpolitics.com</td>\n      <td>[{'url': 'thecrimson.com', 'overlap_score': 1....</td>\n      <td>[]</td>\n    </tr>\n    <tr>\n      <th>viralcords.com</th>\n      <td>viralcords.com</td>\n      <td>[{'url': 'fakenewscodex.com', 'overlap_score':...</td>\n      <td>[]</td>\n    </tr>\n    <tr>\n      <th>progressivestoday.com</th>\n      <td>progressivestoday.com</td>\n      <td>[{'url': 'libertynewsdaily.com', 'overlap_scor...</td>\n      <td>[]</td>\n    </tr>\n    <tr>\n      <th>deepstatenation.com</th>\n      <td>deepstatenation.com</td>\n      <td>[{'url': 'deepstatenation.news', 'overlap_scor...</td>\n      <td>[]</td>\n    </tr>\n    <tr>\n      <th>conservativetoday.com</th>\n      <td>conservativetoday.com</td>\n      <td>[{'url': 'according2hiphop.com', 'overlap_scor...</td>\n      <td>[]</td>\n    </tr>\n    <tr>\n      <th>londonwebnews.com</th>\n      <td>londonwebnews.com</td>\n      <td>[{'url': 'americablog.com', 'overlap_score': 1...</td>\n      <td>[]</td>\n    </tr>\n    <tr>\n      <th>modernliberals.com</th>\n      <td>modernliberals.com</td>\n      <td>[{'url': 'politicalgarbagechute.com', 'overlap...</td>\n      <td>[]</td>\n    </tr>\n    <tr>\n      <th>oppositionreport.com</th>\n      <td>oppositionreport.com</td>\n      <td>[{'url': 'humblysubmitted.blogspot.com', 'over...</td>\n      <td>[]</td>\n    </tr>\n    <tr>\n      <th>newsandgutsmedia.com</th>\n      <td>newsandgutsmedia.com</td>\n      <td>[{'url': 'danrather.com', 'overlap_score': 12....</td>\n      <td>[]</td>\n    </tr>\n    <tr>\n      <th>globalvoices.org</th>\n      <td>globalvoices.org</td>\n      <td>[{'url': 'cpj.org', 'overlap_score': 1.1, 'ale...</td>\n      <td>[{'country': 'United States', 'percent': 15.7}...</td>\n    </tr>\n    <tr>\n      <th>loveknowledge.org</th>\n      <td>loveknowledge.org</td>\n      <td>[{'url': 'fitsafety.biz', 'overlap_score': 10....</td>\n      <td>[]</td>\n    </tr>\n    <tr>\n      <th>thecitizenpress.com</th>\n      <td>thecitizenpress.com</td>\n      <td>[{'url': 'mochimachine.org', 'overlap_score': ...</td>\n      <td>[]</td>\n    </tr>\n    <tr>\n      <th>liberalbias.com</th>\n      <td>liberalbias.com</td>\n      <td>[{'url': 'crewof42.com', 'overlap_score': 7.7,...</td>\n      <td>[]</td>\n    </tr>\n    <tr>\n      <th>reductress.com</th>\n      <td>reductress.com</td>\n      <td>[{'url': 'maccablo.com', 'overlap_score': 1.0,...</td>\n      <td>[{'country': 'United States', 'percent': 74.2}...</td>\n    </tr>\n    <tr>\n      <th>eveningharold.com</th>\n      <td>eveningharold.com</td>\n      <td>[{'url': 'quotanium.tumblr.com', 'overlap_scor...</td>\n      <td>[]</td>\n    </tr>\n  </tbody>\n</table>\n</div>"
     },
     "execution_count": 8,
     "metadata": {},
     "output_type": "execute_result"
    }
   ],
   "source": [
    "res_df[res_df['score'].apply(lambda x: len(x) if x else 0) == 1]\n"
   ],
   "metadata": {
    "collapsed": false,
    "pycharm": {
     "name": "#%%\n"
    }
   }
  },
  {
   "cell_type": "code",
   "execution_count": 9,
   "outputs": [
    {
     "data": {
      "text/plain": "                                          site  \\\nliberaldarkness.com        liberaldarkness.com   \ndeepleftfield.info          deepleftfield.info   \nnewsuptoday.com                newsuptoday.com   \ndailydems.com                    dailydems.com   \naddictinginfo.org            addictinginfo.org   \nsurenews.com                      surenews.com   \nmbganews.com                      mbganews.com   \nglobetoday.com                  globetoday.com   \nsyriana-analysis.com      syriana-analysis.com   \nclickhole.com                    clickhole.com   \nexposinggovernment.com  exposinggovernment.com   \nacculturated.com              acculturated.com   \nmeanlefthook.com              meanlefthook.com   \nviralliberty.com              viralliberty.com   \nliberalexaminer.com        liberalexaminer.com   \ncarepublican.com              carepublican.com   \n\n                                                                    score  \\\nliberaldarkness.com     [{'url': 'grubwear.com', 'overlap_score': 4.9,...   \ndeepleftfield.info      [{'url': 'politicalflare.com', 'overlap_score'...   \nnewsuptoday.com         [{'url': 'theconservativeteam.com', 'overlap_s...   \ndailydems.com           [{'url': 'resistancegenealogy.com', 'overlap_s...   \naddictinginfo.org       [{'url': 'liberaltruthnow.blogspot.com', 'over...   \nsurenews.com            [{'url': 'bustedlocals.com', 'overlap_score': ...   \nmbganews.com            [{'url': 'peoplescharter.org', 'overlap_score'...   \nglobetoday.com          [{'url': 'petsite.net', 'overlap_score': 4.4, ...   \nsyriana-analysis.com    [{'url': 'ingaza.wordpress.com', 'overlap_scor...   \nclickhole.com           [{'url': 'theonion.com', 'overlap_score': 2.7,...   \nexposinggovernment.com  [{'url': 'wuc-news.com', 'overlap_score': 2.5,...   \nacculturated.com        [{'url': 'gosmartlife.com', 'overlap_score': 1...   \nmeanlefthook.com        [{'url': 'yogalifepw.com', 'overlap_score': 5....   \nviralliberty.com        [{'url': 'viralpatriot.com', 'overlap_score': ...   \nliberalexaminer.com     [{'url': 'usatodaynews.live', 'overlap_score':...   \ncarepublican.com        [{'url': 'cragop.org', 'overlap_score': 4.9, '...   \n\n                                                     audience_geography  \nliberaldarkness.com                                                  []  \ndeepleftfield.info      [{'country': 'United States', 'percent': 96.8}]  \nnewsuptoday.com                                                      []  \ndailydems.com                                                        []  \naddictinginfo.org                                                    []  \nsurenews.com                                                         []  \nmbganews.com                                                         []  \nglobetoday.com                                                       []  \nsyriana-analysis.com                                                 []  \nclickhole.com           [{'country': 'United States', 'percent': 67.9}]  \nexposinggovernment.com                                               []  \nacculturated.com                                                     []  \nmeanlefthook.com                                                     []  \nviralliberty.com                                                     []  \nliberalexaminer.com                                                  []  \ncarepublican.com                                                     []  ",
      "text/html": "<div>\n<style scoped>\n    .dataframe tbody tr th:only-of-type {\n        vertical-align: middle;\n    }\n\n    .dataframe tbody tr th {\n        vertical-align: top;\n    }\n\n    .dataframe thead th {\n        text-align: right;\n    }\n</style>\n<table border=\"1\" class=\"dataframe\">\n  <thead>\n    <tr style=\"text-align: right;\">\n      <th></th>\n      <th>site</th>\n      <th>score</th>\n      <th>audience_geography</th>\n    </tr>\n  </thead>\n  <tbody>\n    <tr>\n      <th>liberaldarkness.com</th>\n      <td>liberaldarkness.com</td>\n      <td>[{'url': 'grubwear.com', 'overlap_score': 4.9,...</td>\n      <td>[]</td>\n    </tr>\n    <tr>\n      <th>deepleftfield.info</th>\n      <td>deepleftfield.info</td>\n      <td>[{'url': 'politicalflare.com', 'overlap_score'...</td>\n      <td>[{'country': 'United States', 'percent': 96.8}]</td>\n    </tr>\n    <tr>\n      <th>newsuptoday.com</th>\n      <td>newsuptoday.com</td>\n      <td>[{'url': 'theconservativeteam.com', 'overlap_s...</td>\n      <td>[]</td>\n    </tr>\n    <tr>\n      <th>dailydems.com</th>\n      <td>dailydems.com</td>\n      <td>[{'url': 'resistancegenealogy.com', 'overlap_s...</td>\n      <td>[]</td>\n    </tr>\n    <tr>\n      <th>addictinginfo.org</th>\n      <td>addictinginfo.org</td>\n      <td>[{'url': 'liberaltruthnow.blogspot.com', 'over...</td>\n      <td>[]</td>\n    </tr>\n    <tr>\n      <th>surenews.com</th>\n      <td>surenews.com</td>\n      <td>[{'url': 'bustedlocals.com', 'overlap_score': ...</td>\n      <td>[]</td>\n    </tr>\n    <tr>\n      <th>mbganews.com</th>\n      <td>mbganews.com</td>\n      <td>[{'url': 'peoplescharter.org', 'overlap_score'...</td>\n      <td>[]</td>\n    </tr>\n    <tr>\n      <th>globetoday.com</th>\n      <td>globetoday.com</td>\n      <td>[{'url': 'petsite.net', 'overlap_score': 4.4, ...</td>\n      <td>[]</td>\n    </tr>\n    <tr>\n      <th>syriana-analysis.com</th>\n      <td>syriana-analysis.com</td>\n      <td>[{'url': 'ingaza.wordpress.com', 'overlap_scor...</td>\n      <td>[]</td>\n    </tr>\n    <tr>\n      <th>clickhole.com</th>\n      <td>clickhole.com</td>\n      <td>[{'url': 'theonion.com', 'overlap_score': 2.7,...</td>\n      <td>[{'country': 'United States', 'percent': 67.9}]</td>\n    </tr>\n    <tr>\n      <th>exposinggovernment.com</th>\n      <td>exposinggovernment.com</td>\n      <td>[{'url': 'wuc-news.com', 'overlap_score': 2.5,...</td>\n      <td>[]</td>\n    </tr>\n    <tr>\n      <th>acculturated.com</th>\n      <td>acculturated.com</td>\n      <td>[{'url': 'gosmartlife.com', 'overlap_score': 1...</td>\n      <td>[]</td>\n    </tr>\n    <tr>\n      <th>meanlefthook.com</th>\n      <td>meanlefthook.com</td>\n      <td>[{'url': 'yogalifepw.com', 'overlap_score': 5....</td>\n      <td>[]</td>\n    </tr>\n    <tr>\n      <th>viralliberty.com</th>\n      <td>viralliberty.com</td>\n      <td>[{'url': 'viralpatriot.com', 'overlap_score': ...</td>\n      <td>[]</td>\n    </tr>\n    <tr>\n      <th>liberalexaminer.com</th>\n      <td>liberalexaminer.com</td>\n      <td>[{'url': 'usatodaynews.live', 'overlap_score':...</td>\n      <td>[]</td>\n    </tr>\n    <tr>\n      <th>carepublican.com</th>\n      <td>carepublican.com</td>\n      <td>[{'url': 'cragop.org', 'overlap_score': 4.9, '...</td>\n      <td>[]</td>\n    </tr>\n  </tbody>\n</table>\n</div>"
     },
     "execution_count": 9,
     "metadata": {},
     "output_type": "execute_result"
    }
   ],
   "source": [
    "res_df[res_df['score'].apply(lambda x: len(x) if x else 0) == 2]\n"
   ],
   "metadata": {
    "collapsed": false,
    "pycharm": {
     "name": "#%%\n"
    }
   }
  },
  {
   "cell_type": "code",
   "execution_count": 10,
   "outputs": [
    {
     "data": {
      "text/plain": "                                                site  \\\naceflashman.wordpress.com  aceflashman.wordpress.com   \nnewsbreakshere.com                newsbreakshere.com   \npacificresearch.org              pacificresearch.org   \ntrumpservativenews.info      trumpservativenews.info   \nfairobserver.com                    fairobserver.com   \nnewromantimes.com                  newromantimes.com   \nextranewsfeed.com                  extranewsfeed.com   \nibleedredwhiteblue.com        ibleedredwhiteblue.com   \namericantruthseekers.com    americantruthseekers.com   \nnewcenturytimes.com              newcenturytimes.com   \nhillarydaily.com                    hillarydaily.com   \nthedailymash.co.uk                thedailymash.co.uk   \n\n                                                                       score  \\\naceflashman.wordpress.com  [{'url': 'alisonangel.com', 'overlap_score': 3...   \nnewsbreakshere.com         [{'url': 'moroccanews.com', 'overlap_score': 7...   \npacificresearch.org        [{'url': 'notmytollroad.com', 'overlap_score':...   \ntrumpservativenews.info    [{'url': 'patriotsforamerica.org', 'overlap_sc...   \nfairobserver.com           [{'url': 'fpif.org', 'overlap_score': 1.4, 'al...   \nnewromantimes.com          [{'url': 'physicsofsex.blogspot.com', 'overlap...   \nextranewsfeed.com          [{'url': 'rlslawyers.com', 'overlap_score': 1....   \nibleedredwhiteblue.com     [{'url': 'republicmainstreet.wordpress.com', '...   \namericantruthseekers.com   [{'url': 'irumormill.com', 'overlap_score': 1....   \nnewcenturytimes.com        [{'url': 'nct.news', 'overlap_score': 9.6, 'al...   \nhillarydaily.com           [{'url': 'newsofmonth.com', 'overlap_score': 3...   \nthedailymash.co.uk         [{'url': 'newsthump.com', 'overlap_score': 1.7...   \n\n                                                          audience_geography  \naceflashman.wordpress.com                                                 []  \nnewsbreakshere.com                                                        []  \npacificresearch.org        [{'country': 'United States', 'percent': 48.0}...  \ntrumpservativenews.info                                                   []  \nfairobserver.com           [{'country': 'India', 'percent': 41.5}, {'coun...  \nnewromantimes.com                                                         []  \nextranewsfeed.com            [{'country': 'United States', 'percent': 86.4}]  \nibleedredwhiteblue.com                                                    []  \namericantruthseekers.com                                                  []  \nnewcenturytimes.com                                                       []  \nhillarydaily.com                                                          []  \nthedailymash.co.uk         [{'country': 'United Kingdom', 'percent': 55.0...  ",
      "text/html": "<div>\n<style scoped>\n    .dataframe tbody tr th:only-of-type {\n        vertical-align: middle;\n    }\n\n    .dataframe tbody tr th {\n        vertical-align: top;\n    }\n\n    .dataframe thead th {\n        text-align: right;\n    }\n</style>\n<table border=\"1\" class=\"dataframe\">\n  <thead>\n    <tr style=\"text-align: right;\">\n      <th></th>\n      <th>site</th>\n      <th>score</th>\n      <th>audience_geography</th>\n    </tr>\n  </thead>\n  <tbody>\n    <tr>\n      <th>aceflashman.wordpress.com</th>\n      <td>aceflashman.wordpress.com</td>\n      <td>[{'url': 'alisonangel.com', 'overlap_score': 3...</td>\n      <td>[]</td>\n    </tr>\n    <tr>\n      <th>newsbreakshere.com</th>\n      <td>newsbreakshere.com</td>\n      <td>[{'url': 'moroccanews.com', 'overlap_score': 7...</td>\n      <td>[]</td>\n    </tr>\n    <tr>\n      <th>pacificresearch.org</th>\n      <td>pacificresearch.org</td>\n      <td>[{'url': 'notmytollroad.com', 'overlap_score':...</td>\n      <td>[{'country': 'United States', 'percent': 48.0}...</td>\n    </tr>\n    <tr>\n      <th>trumpservativenews.info</th>\n      <td>trumpservativenews.info</td>\n      <td>[{'url': 'patriotsforamerica.org', 'overlap_sc...</td>\n      <td>[]</td>\n    </tr>\n    <tr>\n      <th>fairobserver.com</th>\n      <td>fairobserver.com</td>\n      <td>[{'url': 'fpif.org', 'overlap_score': 1.4, 'al...</td>\n      <td>[{'country': 'India', 'percent': 41.5}, {'coun...</td>\n    </tr>\n    <tr>\n      <th>newromantimes.com</th>\n      <td>newromantimes.com</td>\n      <td>[{'url': 'physicsofsex.blogspot.com', 'overlap...</td>\n      <td>[]</td>\n    </tr>\n    <tr>\n      <th>extranewsfeed.com</th>\n      <td>extranewsfeed.com</td>\n      <td>[{'url': 'rlslawyers.com', 'overlap_score': 1....</td>\n      <td>[{'country': 'United States', 'percent': 86.4}]</td>\n    </tr>\n    <tr>\n      <th>ibleedredwhiteblue.com</th>\n      <td>ibleedredwhiteblue.com</td>\n      <td>[{'url': 'republicmainstreet.wordpress.com', '...</td>\n      <td>[]</td>\n    </tr>\n    <tr>\n      <th>americantruthseekers.com</th>\n      <td>americantruthseekers.com</td>\n      <td>[{'url': 'irumormill.com', 'overlap_score': 1....</td>\n      <td>[]</td>\n    </tr>\n    <tr>\n      <th>newcenturytimes.com</th>\n      <td>newcenturytimes.com</td>\n      <td>[{'url': 'nct.news', 'overlap_score': 9.6, 'al...</td>\n      <td>[]</td>\n    </tr>\n    <tr>\n      <th>hillarydaily.com</th>\n      <td>hillarydaily.com</td>\n      <td>[{'url': 'newsofmonth.com', 'overlap_score': 3...</td>\n      <td>[]</td>\n    </tr>\n    <tr>\n      <th>thedailymash.co.uk</th>\n      <td>thedailymash.co.uk</td>\n      <td>[{'url': 'newsthump.com', 'overlap_score': 1.7...</td>\n      <td>[{'country': 'United Kingdom', 'percent': 55.0...</td>\n    </tr>\n  </tbody>\n</table>\n</div>"
     },
     "execution_count": 10,
     "metadata": {},
     "output_type": "execute_result"
    }
   ],
   "source": [
    "res_df[res_df['score'].apply(lambda x: len(x) if x else 0) == 3]"
   ],
   "metadata": {
    "collapsed": false,
    "pycharm": {
     "name": "#%%\n"
    }
   }
  },
  {
   "cell_type": "markdown",
   "source": [
    "# Save results from scrapping level 0"
   ],
   "metadata": {
    "collapsed": false,
    "pycharm": {
     "name": "#%% md\n"
    }
   }
  },
  {
   "cell_type": "code",
   "execution_count": 11,
   "outputs": [],
   "source": [
    "import json\n",
    "\n",
    "with open(\"/home/paco/Documents/site_similarity/data/scrapping_results/level 0 results.json\", 'w') as f:\n",
    "    json.dump(results, f, indent=4)\n"
   ],
   "metadata": {
    "collapsed": false,
    "pycharm": {
     "name": "#%%\n"
    }
   }
  }
 ],
 "metadata": {
  "kernelspec": {
   "display_name": "Python 3",
   "language": "python",
   "name": "python3"
  },
  "language_info": {
   "codemirror_mode": {
    "name": "ipython",
    "version": 2
   },
   "file_extension": ".py",
   "mimetype": "text/x-python",
   "name": "python",
   "nbconvert_exporter": "python",
   "pygments_lexer": "ipython2",
   "version": "2.7.6"
  }
 },
 "nbformat": 4,
 "nbformat_minor": 0
}