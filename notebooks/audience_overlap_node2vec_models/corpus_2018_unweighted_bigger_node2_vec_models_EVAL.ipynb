{
 "cells": [
  {
   "cell_type": "code",
   "execution_count": 1,
   "metadata": {},
   "outputs": [],
   "source": [
    "import sys,os\n",
    "sys.path.append(\"/media/panayot/cf151fc4-0692-4c72-9d73-892b9c408127/home/panayot/Documents/site_similarity\")"
   ]
  },
  {
   "cell_type": "code",
   "execution_count": 2,
   "metadata": {
    "tags": []
   },
   "outputs": [
    {
     "name": "stdout",
     "output_type": "stream",
     "text": [
      "Using model: corpus_2018_unweighted_lvl_three_128D.model\n",
      "Start training...\n",
      "Accuracy: 63.41463414634146\n",
      "Macro-F1: 53.903141210963\n",
      "Flip Error-rate: 10.881801125703564\n",
      "MAE: 0.474671669793621\n",
      "Start training...\n",
      "Accuracy: 63.69606003752345\n",
      "Macro-F1: 53.79933219545603\n",
      "Flip Error-rate: 10.787992495309568\n",
      "MAE: 0.4709193245778612\n",
      "Start training...\n",
      "Accuracy: 63.03939962476548\n",
      "Macro-F1: 55.26270727590791\n",
      "Flip Error-rate: 10.412757973733584\n",
      "MAE: 0.47373358348968103\n",
      "Start training...\n",
      "Accuracy: 65.57223264540337\n",
      "Macro-F1: 56.955570821907386\n",
      "Flip Error-rate: 9.00562851782364\n",
      "MAE: 0.4343339587242026\n"
     ]
    }
   ],
   "source": [
    "from utils.notebook_utils import train_model, load_node2vec_model\n",
    "from sklearn.linear_model import LogisticRegressionCV\n",
    "from sklearn.ensemble import GradientBoostingClassifier\n",
    "from sklearn import svm\n",
    "\n",
    "\n",
    "models = [\n",
    "    'corpus_2018_unweighted_lvl_three_128D.model'\n",
    "]\n",
    "\n",
    "\n",
    "for model in models:\n",
    "    print(f'Using model: {model}')\n",
    "    node2vec_model = load_node2vec_model(model)\n",
    "\n",
    "    clf = LogisticRegressionCV(\n",
    "        Cs=10, cv=5, scoring=\"accuracy\", multi_class=\"ovr\", max_iter=300, random_state=42\n",
    "    )\n",
    "    train_model(clf, node2vec_model=node2vec_model, data_year='2018')\n",
    "\n",
    "    clf2 = LogisticRegressionCV(\n",
    "        Cs=10, cv=10, scoring=\"accuracy\", multi_class=\"ovr\", max_iter=300, random_state=42\n",
    "    )\n",
    "    train_model(clf2, node2vec_model=node2vec_model, data_year='2018')\n",
    "\n",
    "    tree_clf = GradientBoostingClassifier(random_state=42)\n",
    "    train_model(tree_clf, node2vec_model=node2vec_model, data_year='2018')\n",
    "\n",
    "    svm_clf = svm.SVC(decision_function_shape='ovo', probability=True) \n",
    "    train_model(svm_clf, node2vec_model=node2vec_model, data_year='2018')"
   ]
  },
  {
   "cell_type": "code",
   "execution_count": 2,
   "metadata": {
    "tags": []
   },
   "outputs": [
    {
     "name": "stdout",
     "output_type": "stream",
     "text": [
      "Using model: corpus_2018_unweighted_lvl_three_256D.model\n",
      "Start training...\n",
      "Accuracy: 64.16510318949344\n",
      "Macro-F1: 53.26530311920264\n",
      "Flip Error-rate: 11.163227016885553\n",
      "MAE: 0.4699812382739212\n",
      "Start training...\n",
      "Accuracy: 63.22701688555347\n",
      "Macro-F1: 53.33424317002628\n",
      "Flip Error-rate: 10.975609756097562\n",
      "MAE: 0.4774859287054409\n",
      "Start training...\n",
      "Accuracy: 64.25891181988743\n",
      "Macro-F1: 56.785201160236035\n",
      "Flip Error-rate: 8.630393996247655\n",
      "MAE: 0.4437148217636023\n",
      "Start training...\n",
      "Accuracy: 66.04127579737336\n",
      "Macro-F1: 57.334997319511\n",
      "Flip Error-rate: 8.72420262664165\n",
      "MAE: 0.4268292682926829\n"
     ]
    }
   ],
   "source": [
    "from utils.notebook_utils import train_model, load_node2vec_model\n",
    "from sklearn.linear_model import LogisticRegressionCV\n",
    "from sklearn.ensemble import GradientBoostingClassifier\n",
    "from sklearn import svm\n",
    "\n",
    "\n",
    "models = [\n",
    "    'corpus_2018_unweighted_lvl_three_256D.model'\n",
    "]\n",
    "\n",
    "\n",
    "for model in models:\n",
    "    print(f'Using model: {model}')\n",
    "    node2vec_model = load_node2vec_model(model)\n",
    "\n",
    "    clf = LogisticRegressionCV(\n",
    "        Cs=10, cv=5, scoring=\"accuracy\", multi_class=\"ovr\", max_iter=300, random_state=42\n",
    "    )\n",
    "    train_model(clf, node2vec_model=node2vec_model, data_year='2018')\n",
    "\n",
    "    clf2 = LogisticRegressionCV(\n",
    "        Cs=10, cv=10, scoring=\"accuracy\", multi_class=\"ovr\", max_iter=300, random_state=42\n",
    "    )\n",
    "    train_model(clf2, node2vec_model=node2vec_model, data_year='2018')\n",
    "\n",
    "    tree_clf = GradientBoostingClassifier(random_state=42)\n",
    "    train_model(tree_clf, node2vec_model=node2vec_model, data_year='2018')\n",
    "\n",
    "    svm_clf = svm.SVC(decision_function_shape='ovo', probability=True) \n",
    "    train_model(svm_clf, node2vec_model=node2vec_model, data_year='2018')"
   ]
  },
  {
   "cell_type": "code",
   "execution_count": 2,
   "metadata": {},
   "outputs": [],
   "source": [
    "from utils.notebook_utils import eval_node2vec_models"
   ]
  },
  {
   "cell_type": "code",
   "execution_count": 3,
   "metadata": {},
   "outputs": [],
   "source": [
    "models = [\n",
    "    'corpus_2018_audience_overlap_sites_lvl_three_unweighted_64D.model',\n",
    "    'corpus_2018_audience_overlap_sites_lvl_three_unweighted_512D.model',\n",
    "    'corpus_2018_audience_overlap_sites_lvl_three_unweighted_1024D.model',\n",
    "    'corpus_2018_audience_overlap_sites_lvl_four_unweighted_64D.model',\n",
    "    'corpus_2018_audience_overlap_sites_lvl_four_unweighted_128D.model',\n",
    "    'corpus_2018_audience_overlap_sites_lvl_four_unweighted_256D.model',\n",
    "    'corpus_2018_audience_overlap_sites_lvl_four_unweighted_512D.model',\n",
    "    'corpus_2018_audience_overlap_sites_lvl_four_unweighted_1024D.model'\n",
    "]"
   ]
  },
  {
   "cell_type": "code",
   "execution_count": 4,
   "metadata": {},
   "outputs": [
    {
     "name": "stdout",
     "output_type": "stream",
     "text": [
      "Using model: corpus_2018_audience_overlap_sites_lvl_three_unweighted_64D.model\n",
      "Start training...\n",
      "Start training...\n",
      "Start training...\n",
      "Start training...\n",
      "Using model: corpus_2018_audience_overlap_sites_lvl_three_unweighted_512D.model\n",
      "Start training...\n",
      "Start training...\n",
      "Start training...\n",
      "Start training...\n",
      "Using model: corpus_2018_audience_overlap_sites_lvl_three_unweighted_1024D.model\n",
      "Start training...\n",
      "Start training...\n",
      "Start training...\n",
      "Start training...\n",
      "Using model: corpus_2018_audience_overlap_sites_lvl_four_unweighted_64D.model\n",
      "Start training...\n",
      "Start training...\n",
      "Start training...\n",
      "Start training...\n",
      "Using model: corpus_2018_audience_overlap_sites_lvl_four_unweighted_128D.model\n",
      "Start training...\n",
      "Start training...\n",
      "Start training...\n",
      "Start training...\n",
      "Using model: corpus_2018_audience_overlap_sites_lvl_four_unweighted_256D.model\n",
      "Start training...\n",
      "Start training...\n",
      "Start training...\n",
      "Start training...\n",
      "Using model: corpus_2018_audience_overlap_sites_lvl_four_unweighted_512D.model\n",
      "Start training...\n",
      "Start training...\n",
      "Start training...\n",
      "Start training...\n",
      "Using model: corpus_2018_audience_overlap_sites_lvl_four_unweighted_1024D.model\n",
      "Start training...\n",
      "Start training...\n",
      "Start training...\n",
      "Start training...\n"
     ]
    }
   ],
   "source": [
    "results_2018 = eval_node2vec_models(models, data_year='2018')"
   ]
  },
  {
   "cell_type": "code",
   "execution_count": 5,
   "metadata": {},
   "outputs": [
    {
     "data": {
      "text/html": "<div>\n<style scoped>\n    .dataframe tbody tr th:only-of-type {\n        vertical-align: middle;\n    }\n\n    .dataframe tbody tr th {\n        vertical-align: top;\n    }\n\n    .dataframe thead th {\n        text-align: right;\n    }\n</style>\n<table border=\"1\" class=\"dataframe\">\n  <thead>\n    <tr style=\"text-align: right;\">\n      <th></th>\n      <th>Feature</th>\n      <th>Classifier</th>\n      <th>Accuracy</th>\n      <th>Balanced Accuracy score</th>\n      <th>F1 micro score</th>\n      <th>F1 macro score</th>\n      <th>F1 weighted score</th>\n      <th>MAE</th>\n      <th>Confusion matrix</th>\n    </tr>\n  </thead>\n  <tbody>\n    <tr>\n      <th>0</th>\n      <td>corpus_2018_audience_overlap_sites_lvl_three_u...</td>\n      <td>LogisticRegression CV = 5</td>\n      <td>0.605634</td>\n      <td>0.491318</td>\n      <td>0.605634</td>\n      <td>0.436426</td>\n      <td>0.515077</td>\n      <td>0.537089</td>\n      <td>[[134, 0, 121], [76, 3, 189], [31, 3, 508]]</td>\n    </tr>\n    <tr>\n      <th>1</th>\n      <td>corpus_2018_audience_overlap_sites_lvl_three_u...</td>\n      <td>LogisticRegression CV = 10</td>\n      <td>0.608451</td>\n      <td>0.502214</td>\n      <td>0.608451</td>\n      <td>0.475855</td>\n      <td>0.545982</td>\n      <td>0.523005</td>\n      <td>[[128, 15, 112], [73, 24, 171], [28, 18, 496]]</td>\n    </tr>\n    <tr>\n      <th>2</th>\n      <td>corpus_2018_audience_overlap_sites_lvl_three_u...</td>\n      <td>GradientBoostingClassifier</td>\n      <td>0.617840</td>\n      <td>0.536152</td>\n      <td>0.617840</td>\n      <td>0.537165</td>\n      <td>0.596574</td>\n      <td>0.487324</td>\n      <td>[[120, 60, 75], [66, 77, 125], [37, 44, 461]]</td>\n    </tr>\n    <tr>\n      <th>3</th>\n      <td>corpus_2018_audience_overlap_sites_lvl_three_u...</td>\n      <td>SVC ovo</td>\n      <td>0.648826</td>\n      <td>0.565514</td>\n      <td>0.648826</td>\n      <td>0.560635</td>\n      <td>0.619071</td>\n      <td>0.446948</td>\n      <td>[[144, 43, 68], [72, 65, 131], [34, 26, 482]]</td>\n    </tr>\n    <tr>\n      <th>4</th>\n      <td>corpus_2018_audience_overlap_sites_lvl_three_u...</td>\n      <td>LogisticRegression CV = 5</td>\n      <td>0.649765</td>\n      <td>0.575687</td>\n      <td>0.649765</td>\n      <td>0.573888</td>\n      <td>0.629116</td>\n      <td>0.439437</td>\n      <td>[[146, 49, 60], [73, 78, 117], [35, 39, 468]]</td>\n    </tr>\n    <tr>\n      <th>5</th>\n      <td>corpus_2018_audience_overlap_sites_lvl_three_u...</td>\n      <td>LogisticRegression CV = 10</td>\n      <td>0.656338</td>\n      <td>0.583580</td>\n      <td>0.656338</td>\n      <td>0.580280</td>\n      <td>0.634087</td>\n      <td>0.433803</td>\n      <td>[[153, 43, 59], [73, 76, 119], [37, 35, 470]]</td>\n    </tr>\n    <tr>\n      <th>6</th>\n      <td>corpus_2018_audience_overlap_sites_lvl_three_u...</td>\n      <td>GradientBoostingClassifier</td>\n      <td>0.647887</td>\n      <td>0.570236</td>\n      <td>0.647887</td>\n      <td>0.575002</td>\n      <td>0.629839</td>\n      <td>0.437559</td>\n      <td>[[129, 60, 66], [60, 90, 118], [25, 46, 471]]</td>\n    </tr>\n    <tr>\n      <th>7</th>\n      <td>corpus_2018_audience_overlap_sites_lvl_three_u...</td>\n      <td>SVC ovo</td>\n      <td>0.661033</td>\n      <td>0.577218</td>\n      <td>0.661033</td>\n      <td>0.576815</td>\n      <td>0.632565</td>\n      <td>0.430047</td>\n      <td>[[143, 41, 71], [66, 72, 130], [26, 27, 489]]</td>\n    </tr>\n    <tr>\n      <th>8</th>\n      <td>corpus_2018_audience_overlap_sites_lvl_three_u...</td>\n      <td>LogisticRegression CV = 5</td>\n      <td>0.636620</td>\n      <td>0.564562</td>\n      <td>0.636620</td>\n      <td>0.561592</td>\n      <td>0.615567</td>\n      <td>0.462911</td>\n      <td>[[146, 46, 63], [70, 74, 124], [43, 41, 458]]</td>\n    </tr>\n    <tr>\n      <th>9</th>\n      <td>corpus_2018_audience_overlap_sites_lvl_three_u...</td>\n      <td>LogisticRegression CV = 10</td>\n      <td>0.633803</td>\n      <td>0.564165</td>\n      <td>0.633803</td>\n      <td>0.559777</td>\n      <td>0.614156</td>\n      <td>0.461033</td>\n      <td>[[149, 46, 60], [76, 73, 119], [41, 48, 453]]</td>\n    </tr>\n    <tr>\n      <th>10</th>\n      <td>corpus_2018_audience_overlap_sites_lvl_three_u...</td>\n      <td>GradientBoostingClassifier</td>\n      <td>0.642254</td>\n      <td>0.565790</td>\n      <td>0.642254</td>\n      <td>0.571674</td>\n      <td>0.623910</td>\n      <td>0.455399</td>\n      <td>[[127, 52, 76], [56, 91, 121], [28, 48, 466]]</td>\n    </tr>\n    <tr>\n      <th>11</th>\n      <td>corpus_2018_audience_overlap_sites_lvl_three_u...</td>\n      <td>SVC ovo</td>\n      <td>0.654460</td>\n      <td>0.570398</td>\n      <td>0.654460</td>\n      <td>0.567535</td>\n      <td>0.625233</td>\n      <td>0.437559</td>\n      <td>[[143, 40, 72], [73, 68, 127], [26, 30, 486]]</td>\n    </tr>\n    <tr>\n      <th>12</th>\n      <td>corpus_2018_audience_overlap_sites_lvl_four_un...</td>\n      <td>LogisticRegression CV = 5</td>\n      <td>0.619718</td>\n      <td>0.511037</td>\n      <td>0.619718</td>\n      <td>0.494165</td>\n      <td>0.561511</td>\n      <td>0.514554</td>\n      <td>[[121, 14, 120], [67, 34, 167], [23, 14, 505]]</td>\n    </tr>\n    <tr>\n      <th>13</th>\n      <td>corpus_2018_audience_overlap_sites_lvl_four_un...</td>\n      <td>LogisticRegression CV = 10</td>\n      <td>0.607512</td>\n      <td>0.498270</td>\n      <td>0.607512</td>\n      <td>0.454943</td>\n      <td>0.529816</td>\n      <td>0.529577</td>\n      <td>[[135, 6, 114], [78, 11, 179], [32, 9, 501]]</td>\n    </tr>\n    <tr>\n      <th>14</th>\n      <td>corpus_2018_audience_overlap_sites_lvl_four_un...</td>\n      <td>GradientBoostingClassifier</td>\n      <td>0.628169</td>\n      <td>0.545939</td>\n      <td>0.628169</td>\n      <td>0.545925</td>\n      <td>0.603118</td>\n      <td>0.484507</td>\n      <td>[[128, 40, 87], [72, 73, 123], [33, 41, 468]]</td>\n    </tr>\n    <tr>\n      <th>15</th>\n      <td>corpus_2018_audience_overlap_sites_lvl_four_un...</td>\n      <td>SVC ovo</td>\n      <td>0.648826</td>\n      <td>0.564130</td>\n      <td>0.648826</td>\n      <td>0.560013</td>\n      <td>0.618944</td>\n      <td>0.443192</td>\n      <td>[[142, 43, 70], [73, 65, 130], [28, 30, 484]]</td>\n    </tr>\n    <tr>\n      <th>16</th>\n      <td>corpus_2018_audience_overlap_sites_lvl_four_un...</td>\n      <td>LogisticRegression CV = 5</td>\n      <td>0.620657</td>\n      <td>0.524792</td>\n      <td>0.620657</td>\n      <td>0.521536</td>\n      <td>0.582988</td>\n      <td>0.497653</td>\n      <td>[[120, 34, 101], [64, 56, 148], [25, 32, 485]]</td>\n    </tr>\n    <tr>\n      <th>17</th>\n      <td>corpus_2018_audience_overlap_sites_lvl_four_un...</td>\n      <td>LogisticRegression CV = 10</td>\n      <td>0.620657</td>\n      <td>0.524988</td>\n      <td>0.620657</td>\n      <td>0.511794</td>\n      <td>0.574516</td>\n      <td>0.504225</td>\n      <td>[[133, 21, 101], [71, 42, 155], [32, 24, 486]]</td>\n    </tr>\n    <tr>\n      <th>18</th>\n      <td>corpus_2018_audience_overlap_sites_lvl_four_un...</td>\n      <td>GradientBoostingClassifier</td>\n      <td>0.628169</td>\n      <td>0.550341</td>\n      <td>0.628169</td>\n      <td>0.553384</td>\n      <td>0.607864</td>\n      <td>0.471362</td>\n      <td>[[128, 49, 78], [63, 80, 125], [28, 53, 461]]</td>\n    </tr>\n    <tr>\n      <th>19</th>\n      <td>corpus_2018_audience_overlap_sites_lvl_four_un...</td>\n      <td>SVC ovo</td>\n      <td>0.644131</td>\n      <td>0.560426</td>\n      <td>0.644131</td>\n      <td>0.555983</td>\n      <td>0.614566</td>\n      <td>0.449765</td>\n      <td>[[142, 40, 73], [75, 64, 129], [27, 35, 480]]</td>\n    </tr>\n    <tr>\n      <th>20</th>\n      <td>corpus_2018_audience_overlap_sites_lvl_four_un...</td>\n      <td>LogisticRegression CV = 5</td>\n      <td>0.639437</td>\n      <td>0.553261</td>\n      <td>0.639437</td>\n      <td>0.549624</td>\n      <td>0.608521</td>\n      <td>0.460094</td>\n      <td>[[137, 39, 79], [72, 63, 133], [27, 34, 481]]</td>\n    </tr>\n    <tr>\n      <th>21</th>\n      <td>corpus_2018_audience_overlap_sites_lvl_four_un...</td>\n      <td>LogisticRegression CV = 10</td>\n      <td>0.643192</td>\n      <td>0.558242</td>\n      <td>0.643192</td>\n      <td>0.549447</td>\n      <td>0.608092</td>\n      <td>0.460094</td>\n      <td>[[147, 30, 78], [76, 56, 136], [32, 28, 482]]</td>\n    </tr>\n    <tr>\n      <th>22</th>\n      <td>corpus_2018_audience_overlap_sites_lvl_four_un...</td>\n      <td>GradientBoostingClassifier</td>\n      <td>0.642254</td>\n      <td>0.564659</td>\n      <td>0.642254</td>\n      <td>0.568329</td>\n      <td>0.623122</td>\n      <td>0.453521</td>\n      <td>[[129, 51, 75], [66, 87, 115], [27, 47, 468]]</td>\n    </tr>\n    <tr>\n      <th>23</th>\n      <td>corpus_2018_audience_overlap_sites_lvl_four_un...</td>\n      <td>SVC ovo</td>\n      <td>0.656338</td>\n      <td>0.573013</td>\n      <td>0.656338</td>\n      <td>0.570115</td>\n      <td>0.627735</td>\n      <td>0.429108</td>\n      <td>[[145, 42, 68], [73, 68, 127], [23, 33, 486]]</td>\n    </tr>\n    <tr>\n      <th>24</th>\n      <td>corpus_2018_audience_overlap_sites_lvl_four_un...</td>\n      <td>LogisticRegression CV = 5</td>\n      <td>0.654460</td>\n      <td>0.579270</td>\n      <td>0.654460</td>\n      <td>0.576927</td>\n      <td>0.628696</td>\n      <td>0.432864</td>\n      <td>[[154, 33, 68], [68, 70, 130], [25, 44, 473]]</td>\n    </tr>\n    <tr>\n      <th>25</th>\n      <td>corpus_2018_audience_overlap_sites_lvl_four_un...</td>\n      <td>LogisticRegression CV = 10</td>\n      <td>0.651643</td>\n      <td>0.575412</td>\n      <td>0.651643</td>\n      <td>0.572940</td>\n      <td>0.625754</td>\n      <td>0.434742</td>\n      <td>[[152, 36, 67], [68, 69, 131], [25, 44, 473]]</td>\n    </tr>\n    <tr>\n      <th>26</th>\n      <td>corpus_2018_audience_overlap_sites_lvl_four_un...</td>\n      <td>GradientBoostingClassifier</td>\n      <td>0.634742</td>\n      <td>0.554772</td>\n      <td>0.634742</td>\n      <td>0.557984</td>\n      <td>0.613325</td>\n      <td>0.454460</td>\n      <td>[[130, 52, 73], [62, 78, 128], [22, 52, 468]]</td>\n    </tr>\n    <tr>\n      <th>27</th>\n      <td>corpus_2018_audience_overlap_sites_lvl_four_un...</td>\n      <td>SVC ovo</td>\n      <td>0.659155</td>\n      <td>0.574292</td>\n      <td>0.659155</td>\n      <td>0.571025</td>\n      <td>0.629173</td>\n      <td>0.421596</td>\n      <td>[[146, 44, 65], [71, 66, 131], [21, 31, 490]]</td>\n    </tr>\n    <tr>\n      <th>28</th>\n      <td>corpus_2018_audience_overlap_sites_lvl_four_un...</td>\n      <td>LogisticRegression CV = 5</td>\n      <td>0.658216</td>\n      <td>0.584055</td>\n      <td>0.658216</td>\n      <td>0.583286</td>\n      <td>0.634546</td>\n      <td>0.438498</td>\n      <td>[[151, 32, 72], [70, 77, 121], [31, 38, 473]]</td>\n    </tr>\n    <tr>\n      <th>29</th>\n      <td>corpus_2018_audience_overlap_sites_lvl_four_un...</td>\n      <td>LogisticRegression CV = 10</td>\n      <td>0.661972</td>\n      <td>0.588089</td>\n      <td>0.661972</td>\n      <td>0.584772</td>\n      <td>0.636788</td>\n      <td>0.434742</td>\n      <td>[[156, 30, 69], [74, 74, 120], [34, 33, 475]]</td>\n    </tr>\n    <tr>\n      <th>30</th>\n      <td>corpus_2018_audience_overlap_sites_lvl_four_un...</td>\n      <td>GradientBoostingClassifier</td>\n      <td>0.648826</td>\n      <td>0.569091</td>\n      <td>0.648826</td>\n      <td>0.572670</td>\n      <td>0.627936</td>\n      <td>0.443192</td>\n      <td>[[131, 51, 73], [65, 85, 118], [25, 42, 475]]</td>\n    </tr>\n    <tr>\n      <th>31</th>\n      <td>corpus_2018_audience_overlap_sites_lvl_four_un...</td>\n      <td>SVC ovo</td>\n      <td>0.658216</td>\n      <td>0.579215</td>\n      <td>0.658216</td>\n      <td>0.573815</td>\n      <td>0.630180</td>\n      <td>0.422535</td>\n      <td>[[154, 40, 61], [75, 66, 127], [25, 36, 481]]</td>\n    </tr>\n  </tbody>\n</table>\n</div>",
      "text/plain": "                                              Feature  \\\n0   corpus_2018_audience_overlap_sites_lvl_three_u...   \n1   corpus_2018_audience_overlap_sites_lvl_three_u...   \n2   corpus_2018_audience_overlap_sites_lvl_three_u...   \n3   corpus_2018_audience_overlap_sites_lvl_three_u...   \n4   corpus_2018_audience_overlap_sites_lvl_three_u...   \n5   corpus_2018_audience_overlap_sites_lvl_three_u...   \n6   corpus_2018_audience_overlap_sites_lvl_three_u...   \n7   corpus_2018_audience_overlap_sites_lvl_three_u...   \n8   corpus_2018_audience_overlap_sites_lvl_three_u...   \n9   corpus_2018_audience_overlap_sites_lvl_three_u...   \n10  corpus_2018_audience_overlap_sites_lvl_three_u...   \n11  corpus_2018_audience_overlap_sites_lvl_three_u...   \n12  corpus_2018_audience_overlap_sites_lvl_four_un...   \n13  corpus_2018_audience_overlap_sites_lvl_four_un...   \n14  corpus_2018_audience_overlap_sites_lvl_four_un...   \n15  corpus_2018_audience_overlap_sites_lvl_four_un...   \n16  corpus_2018_audience_overlap_sites_lvl_four_un...   \n17  corpus_2018_audience_overlap_sites_lvl_four_un...   \n18  corpus_2018_audience_overlap_sites_lvl_four_un...   \n19  corpus_2018_audience_overlap_sites_lvl_four_un...   \n20  corpus_2018_audience_overlap_sites_lvl_four_un...   \n21  corpus_2018_audience_overlap_sites_lvl_four_un...   \n22  corpus_2018_audience_overlap_sites_lvl_four_un...   \n23  corpus_2018_audience_overlap_sites_lvl_four_un...   \n24  corpus_2018_audience_overlap_sites_lvl_four_un...   \n25  corpus_2018_audience_overlap_sites_lvl_four_un...   \n26  corpus_2018_audience_overlap_sites_lvl_four_un...   \n27  corpus_2018_audience_overlap_sites_lvl_four_un...   \n28  corpus_2018_audience_overlap_sites_lvl_four_un...   \n29  corpus_2018_audience_overlap_sites_lvl_four_un...   \n30  corpus_2018_audience_overlap_sites_lvl_four_un...   \n31  corpus_2018_audience_overlap_sites_lvl_four_un...   \n\n                    Classifier  Accuracy  Balanced Accuracy score  \\\n0    LogisticRegression CV = 5  0.605634                 0.491318   \n1   LogisticRegression CV = 10  0.608451                 0.502214   \n2   GradientBoostingClassifier  0.617840                 0.536152   \n3                      SVC ovo  0.648826                 0.565514   \n4    LogisticRegression CV = 5  0.649765                 0.575687   \n5   LogisticRegression CV = 10  0.656338                 0.583580   \n6   GradientBoostingClassifier  0.647887                 0.570236   \n7                      SVC ovo  0.661033                 0.577218   \n8    LogisticRegression CV = 5  0.636620                 0.564562   \n9   LogisticRegression CV = 10  0.633803                 0.564165   \n10  GradientBoostingClassifier  0.642254                 0.565790   \n11                     SVC ovo  0.654460                 0.570398   \n12   LogisticRegression CV = 5  0.619718                 0.511037   \n13  LogisticRegression CV = 10  0.607512                 0.498270   \n14  GradientBoostingClassifier  0.628169                 0.545939   \n15                     SVC ovo  0.648826                 0.564130   \n16   LogisticRegression CV = 5  0.620657                 0.524792   \n17  LogisticRegression CV = 10  0.620657                 0.524988   \n18  GradientBoostingClassifier  0.628169                 0.550341   \n19                     SVC ovo  0.644131                 0.560426   \n20   LogisticRegression CV = 5  0.639437                 0.553261   \n21  LogisticRegression CV = 10  0.643192                 0.558242   \n22  GradientBoostingClassifier  0.642254                 0.564659   \n23                     SVC ovo  0.656338                 0.573013   \n24   LogisticRegression CV = 5  0.654460                 0.579270   \n25  LogisticRegression CV = 10  0.651643                 0.575412   \n26  GradientBoostingClassifier  0.634742                 0.554772   \n27                     SVC ovo  0.659155                 0.574292   \n28   LogisticRegression CV = 5  0.658216                 0.584055   \n29  LogisticRegression CV = 10  0.661972                 0.588089   \n30  GradientBoostingClassifier  0.648826                 0.569091   \n31                     SVC ovo  0.658216                 0.579215   \n\n    F1 micro score  F1 macro score  F1 weighted score       MAE  \\\n0         0.605634        0.436426           0.515077  0.537089   \n1         0.608451        0.475855           0.545982  0.523005   \n2         0.617840        0.537165           0.596574  0.487324   \n3         0.648826        0.560635           0.619071  0.446948   \n4         0.649765        0.573888           0.629116  0.439437   \n5         0.656338        0.580280           0.634087  0.433803   \n6         0.647887        0.575002           0.629839  0.437559   \n7         0.661033        0.576815           0.632565  0.430047   \n8         0.636620        0.561592           0.615567  0.462911   \n9         0.633803        0.559777           0.614156  0.461033   \n10        0.642254        0.571674           0.623910  0.455399   \n11        0.654460        0.567535           0.625233  0.437559   \n12        0.619718        0.494165           0.561511  0.514554   \n13        0.607512        0.454943           0.529816  0.529577   \n14        0.628169        0.545925           0.603118  0.484507   \n15        0.648826        0.560013           0.618944  0.443192   \n16        0.620657        0.521536           0.582988  0.497653   \n17        0.620657        0.511794           0.574516  0.504225   \n18        0.628169        0.553384           0.607864  0.471362   \n19        0.644131        0.555983           0.614566  0.449765   \n20        0.639437        0.549624           0.608521  0.460094   \n21        0.643192        0.549447           0.608092  0.460094   \n22        0.642254        0.568329           0.623122  0.453521   \n23        0.656338        0.570115           0.627735  0.429108   \n24        0.654460        0.576927           0.628696  0.432864   \n25        0.651643        0.572940           0.625754  0.434742   \n26        0.634742        0.557984           0.613325  0.454460   \n27        0.659155        0.571025           0.629173  0.421596   \n28        0.658216        0.583286           0.634546  0.438498   \n29        0.661972        0.584772           0.636788  0.434742   \n30        0.648826        0.572670           0.627936  0.443192   \n31        0.658216        0.573815           0.630180  0.422535   \n\n                                  Confusion matrix  \n0      [[134, 0, 121], [76, 3, 189], [31, 3, 508]]  \n1   [[128, 15, 112], [73, 24, 171], [28, 18, 496]]  \n2    [[120, 60, 75], [66, 77, 125], [37, 44, 461]]  \n3    [[144, 43, 68], [72, 65, 131], [34, 26, 482]]  \n4    [[146, 49, 60], [73, 78, 117], [35, 39, 468]]  \n5    [[153, 43, 59], [73, 76, 119], [37, 35, 470]]  \n6    [[129, 60, 66], [60, 90, 118], [25, 46, 471]]  \n7    [[143, 41, 71], [66, 72, 130], [26, 27, 489]]  \n8    [[146, 46, 63], [70, 74, 124], [43, 41, 458]]  \n9    [[149, 46, 60], [76, 73, 119], [41, 48, 453]]  \n10   [[127, 52, 76], [56, 91, 121], [28, 48, 466]]  \n11   [[143, 40, 72], [73, 68, 127], [26, 30, 486]]  \n12  [[121, 14, 120], [67, 34, 167], [23, 14, 505]]  \n13    [[135, 6, 114], [78, 11, 179], [32, 9, 501]]  \n14   [[128, 40, 87], [72, 73, 123], [33, 41, 468]]  \n15   [[142, 43, 70], [73, 65, 130], [28, 30, 484]]  \n16  [[120, 34, 101], [64, 56, 148], [25, 32, 485]]  \n17  [[133, 21, 101], [71, 42, 155], [32, 24, 486]]  \n18   [[128, 49, 78], [63, 80, 125], [28, 53, 461]]  \n19   [[142, 40, 73], [75, 64, 129], [27, 35, 480]]  \n20   [[137, 39, 79], [72, 63, 133], [27, 34, 481]]  \n21   [[147, 30, 78], [76, 56, 136], [32, 28, 482]]  \n22   [[129, 51, 75], [66, 87, 115], [27, 47, 468]]  \n23   [[145, 42, 68], [73, 68, 127], [23, 33, 486]]  \n24   [[154, 33, 68], [68, 70, 130], [25, 44, 473]]  \n25   [[152, 36, 67], [68, 69, 131], [25, 44, 473]]  \n26   [[130, 52, 73], [62, 78, 128], [22, 52, 468]]  \n27   [[146, 44, 65], [71, 66, 131], [21, 31, 490]]  \n28   [[151, 32, 72], [70, 77, 121], [31, 38, 473]]  \n29   [[156, 30, 69], [74, 74, 120], [34, 33, 475]]  \n30   [[131, 51, 73], [65, 85, 118], [25, 42, 475]]  \n31   [[154, 40, 61], [75, 66, 127], [25, 36, 481]]  "
     },
     "execution_count": 5,
     "metadata": {},
     "output_type": "execute_result"
    }
   ],
   "source": [
    "results_2018"
   ]
  }
 ],
 "metadata": {
  "kernelspec": {
   "display_name": "Python 3.7.9 64-bit ('site_similarity': conda)",
   "name": "python37964bitsitesimilarityconda3458ba63412949049ad8944d4d78b811"
  },
  "language_info": {
   "codemirror_mode": {
    "name": "ipython",
    "version": 3
   },
   "file_extension": ".py",
   "mimetype": "text/x-python",
   "name": "python",
   "nbconvert_exporter": "python",
   "pygments_lexer": "ipython3",
   "version": "3.7.9"
  },
  "orig_nbformat": 2
 },
 "nbformat": 4,
 "nbformat_minor": 2
}