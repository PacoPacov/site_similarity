{
 "metadata": {
  "language_info": {
   "codemirror_mode": {
    "name": "ipython",
    "version": 3
   },
   "file_extension": ".py",
   "mimetype": "text/x-python",
   "name": "python",
   "nbconvert_exporter": "python",
   "pygments_lexer": "ipython3",
   "version": "3.6.10-final"
  },
  "orig_nbformat": 2,
  "kernelspec": {
   "name": "python361064bitsitesimilarityconda5cc228f1d50144ce9681545e76d7f6e7",
   "display_name": "Python 3.6.10 64-bit ('site_similarity': conda)"
  }
 },
 "nbformat": 4,
 "nbformat_minor": 2,
 "cells": [
  {
   "cell_type": "code",
   "execution_count": 1,
   "metadata": {},
   "outputs": [],
   "source": [
    "import sys,os\n",
    "sys.path.append(\"/home/paco/Documents/site_similarity\")"
   ]
  },
  {
   "cell_type": "code",
   "execution_count": 2,
   "metadata": {},
   "outputs": [],
   "source": [
    "from utils.notebook_utils import load_level_data, create_nodes, create_graph, draw_graph"
   ]
  },
  {
   "cell_type": "code",
   "execution_count": 3,
   "metadata": {
    "tags": []
   },
   "outputs": [
    {
     "output_type": "stream",
     "name": "stdout",
     "text": "Loaded 3489 nodes with records level <= 1 and child size:16981\n"
    }
   ],
   "source": [
    "lvl_one = load_level_data(data_path='/home/paco/Documents/site_similarity/notebooks/clean_data_20200808.json', level=1)  "
   ]
  },
  {
   "cell_type": "code",
   "execution_count": 4,
   "metadata": {},
   "outputs": [],
   "source": [
    "lvl_one_nodes = create_nodes(lvl_one)"
   ]
  },
  {
   "cell_type": "code",
   "execution_count": 5,
   "metadata": {},
   "outputs": [
    {
     "output_type": "execute_result",
     "data": {
      "text/plain": "[('crooked.com', 'votesaveamerica.com'),\n ('crooked.com', 'art19.com'),\n ('crooked.com', 'promocodeportal.com'),\n ('crooked.com', 'mediamatters.org'),\n ('crooked.com', 'actblue.com'),\n ('deepleftfield.info', 'politicalflare.com'),\n ('deepleftfield.info', 'bluedotdaily.com'),\n ('antifascistnews.net', 'angrywhitemen.org'),\n ('antifascistnews.net', 'itsgoingdown.org'),\n ('antifascistnews.net', 'torchantifa.org')]"
     },
     "metadata": {},
     "execution_count": 5
    }
   ],
   "source": [
    "lvl_one_nodes[:10]"
   ]
  },
  {
   "cell_type": "code",
   "execution_count": 6,
   "metadata": {},
   "outputs": [
    {
     "output_type": "execute_result",
     "data": {
      "text/plain": "[('politicalmayhem.news', 'politicalmayhem.news')]"
     },
     "metadata": {},
     "execution_count": 6
    }
   ],
   "source": [
    "[(k, v) for k, v in lvl_one_nodes if k == 'politicalmayhem.news']"
   ]
  },
  {
   "cell_type": "code",
   "execution_count": 6,
   "metadata": {},
   "outputs": [
    {
     "output_type": "execute_result",
     "data": {
      "text/plain": "3489"
     },
     "metadata": {},
     "execution_count": 6
    }
   ],
   "source": [
    "len(lvl_one)"
   ]
  },
  {
   "cell_type": "code",
   "execution_count": 7,
   "metadata": {},
   "outputs": [],
   "source": [
    "from stellargraph import StellarGraph\n",
    "import pandas as pd\n",
    "\n",
    "\n",
    "lvl_one_graph = StellarGraph(edges=pd.DataFrame(lvl_one_nodes, columns=['source', 'target']))"
   ]
  },
  {
   "cell_type": "code",
   "execution_count": 8,
   "metadata": {
    "tags": []
   },
   "outputs": [
    {
     "output_type": "stream",
     "name": "stdout",
     "text": "Number of random walks: 101610\n"
    }
   ],
   "source": [
    "from stellargraph.data import BiasedRandomWalk\n",
    "\n",
    "rw = BiasedRandomWalk(lvl_one_graph)\n",
    "\n",
    "walks = rw.run(\n",
    "    nodes=list(lvl_one_graph.nodes()),  # root nodes\n",
    "    length=100,  # maximum length of a random walk\n",
    "    n=10,  # number of random walks per root node\n",
    "    p=0.5,  # Defines (unormalised) probability, 1/p, of returning to source node\n",
    "    q=2.0,  # Defines (unormalised) probability, 1/q, for moving away from source node\n",
    ")\n",
    "print(\"Number of random walks: {}\".format(len(walks)))"
   ]
  },
  {
   "cell_type": "code",
   "execution_count": 9,
   "metadata": {},
   "outputs": [],
   "source": [
    "from gensim.models import Word2Vec\n",
    "\n",
    "str_walks = [[str(n) for n in walk] for walk in walks]\n",
    "model = Word2Vec(str_walks, size=128, window=5, min_count=0, sg=1, workers=2, iter=1)\n",
    "\n",
    "model.save(\"node2vec_lvl_one_new_corpus.model\")"
   ]
  },
  {
   "cell_type": "code",
   "execution_count": 3,
   "metadata": {},
   "outputs": [],
   "source": [
    "# Load model\n",
    "\n",
    "from gensim.models import Word2Vec\n",
    "\n",
    "model = Word2Vec.load(\"node2vec_lvl_one_new_corpus.model\")"
   ]
  },
  {
   "cell_type": "code",
   "execution_count": 5,
   "metadata": {},
   "outputs": [
    {
     "output_type": "execute_result",
     "data": {
      "text/plain": "(128,)"
     },
     "metadata": {},
     "execution_count": 5
    }
   ],
   "source": [
    "model.wv['crooked.com'].shape"
   ]
  },
  {
   "cell_type": "code",
   "execution_count": 4,
   "metadata": {
    "tags": []
   },
   "outputs": [
    {
     "output_type": "stream",
     "name": "stdout",
     "text": "dict_keys(['test-0', 'train-0', 'test-1', 'train-1', 'test-2', 'train-2', 'test-3', 'train-3', 'test-4', 'train-4'])\n"
    }
   ],
   "source": [
    "from dataprep.load_annotated_data import apply_splits\n",
    "from utils.notebook_utils import load_corpus\n",
    "from modelling.baselines import eval_model\n",
    "import pandas as pd\n",
    "\n",
    "DATA = load_corpus('new_corpus_2020.csv')\n",
    "SPLITS = apply_splits(DATA, 'modified_splits_new_corpus_2020.json')\n",
    "\n",
    "print(SPLITS.keys())\n",
    "\n",
    "train = pd.DataFrame(SPLITS['train-0'])\n",
    "\n",
    "test = pd.DataFrame(SPLITS['test-0'])"
   ]
  },
  {
   "cell_type": "code",
   "execution_count": 5,
   "metadata": {},
   "outputs": [],
   "source": [
    "X_train = train.apply(lambda x: model.wv[x['source_url_processed']], axis=1)\n",
    "\n",
    "y_train = train.apply(lambda x: x['fact'], axis=1)"
   ]
  },
  {
   "cell_type": "code",
   "execution_count": 6,
   "metadata": {},
   "outputs": [],
   "source": [
    "X_test = test.apply(lambda x: model.wv[x['source_url_processed']], axis=1)\n",
    "\n",
    "y_test = test.apply(lambda x: x['fact'], axis=1)"
   ]
  },
  {
   "cell_type": "code",
   "execution_count": 7,
   "metadata": {
    "tags": []
   },
   "outputs": [
    {
     "output_type": "stream",
     "name": "stderr",
     "text": "[Parallel(n_jobs=1)]: Using backend SequentialBackend with 1 concurrent workers.\n[Parallel(n_jobs=1)]: Done  15 out of  15 | elapsed:    3.7s finished\n"
    },
    {
     "output_type": "execute_result",
     "data": {
      "text/plain": "LogisticRegressionCV(cv=5, max_iter=300, multi_class='ovr', random_state=42,\n                     scoring='accuracy', verbose=True)"
     },
     "metadata": {},
     "execution_count": 7
    }
   ],
   "source": [
    "from sklearn.linear_model import LogisticRegressionCV\n",
    "from sklearn.metrics import accuracy_score\n",
    "\n",
    "clf = LogisticRegressionCV(\n",
    "    Cs=10, cv=5, scoring=\"accuracy\", verbose=True, multi_class=\"ovr\", max_iter=300, random_state=42\n",
    ")\n",
    "clf.fit(X_train.values.tolist(), y_train.values.tolist())"
   ]
  },
  {
   "cell_type": "code",
   "execution_count": 8,
   "metadata": {},
   "outputs": [
    {
     "output_type": "execute_result",
     "data": {
      "text/plain": "0.5813953488372093"
     },
     "metadata": {},
     "execution_count": 8
    }
   ],
   "source": [
    "y_pred = clf.predict(X_test.values.tolist())\n",
    "\n",
    "accuracy_score(y_test, y_pred)"
   ]
  },
  {
   "cell_type": "code",
   "execution_count": 11,
   "metadata": {},
   "outputs": [
    {
     "output_type": "execute_result",
     "data": {
      "text/plain": "GradientBoostingClassifier(random_state=42)"
     },
     "metadata": {},
     "execution_count": 11
    }
   ],
   "source": [
    "from sklearn.ensemble import GradientBoostingClassifier\n",
    "\n",
    "clf = GradientBoostingClassifier(random_state=42)\n",
    "clf.fit(X_train.tolist(), y_train.tolist())"
   ]
  },
  {
   "cell_type": "code",
   "execution_count": 12,
   "metadata": {},
   "outputs": [
    {
     "output_type": "execute_result",
     "data": {
      "text/plain": "0.7034883720930233"
     },
     "metadata": {},
     "execution_count": 12
    }
   ],
   "source": [
    "tree_predict = clf.predict(X_test.tolist())\n",
    "accuracy_score(y_test, tree_predict)"
   ]
  },
  {
   "cell_type": "code",
   "execution_count": 13,
   "metadata": {},
   "outputs": [
    {
     "output_type": "execute_result",
     "data": {
      "text/plain": "SVC(decision_function_shape='ovo')"
     },
     "metadata": {},
     "execution_count": 13
    }
   ],
   "source": [
    "from sklearn import svm\n",
    "\n",
    "svm_clf = svm.SVC(decision_function_shape='ovo')\n",
    "\n",
    "svm_clf.fit(X_train.tolist(), y_train.tolist())"
   ]
  },
  {
   "cell_type": "code",
   "execution_count": 14,
   "metadata": {},
   "outputs": [
    {
     "output_type": "execute_result",
     "data": {
      "text/plain": "0.6511627906976745"
     },
     "metadata": {},
     "execution_count": 14
    }
   ],
   "source": [
    "svm_predict = svm_clf.predict(X_test.tolist())\n",
    "accuracy_score(y_test, svm_predict)"
   ]
  },
  {
   "cell_type": "code",
   "execution_count": 15,
   "metadata": {},
   "outputs": [
    {
     "output_type": "execute_result",
     "data": {
      "text/plain": "LinearSVC()"
     },
     "metadata": {},
     "execution_count": 15
    }
   ],
   "source": [
    "lin_clf = svm.LinearSVC() # one-vs-rest\n",
    "lin_clf.fit(X_train.tolist(), y_train.tolist())"
   ]
  },
  {
   "cell_type": "code",
   "execution_count": 16,
   "metadata": {},
   "outputs": [
    {
     "output_type": "execute_result",
     "data": {
      "text/plain": "0.6104651162790697"
     },
     "metadata": {},
     "execution_count": 16
    }
   ],
   "source": [
    "lin_predict = lin_clf.predict(X_test.tolist())\n",
    "accuracy_score(y_test, lin_predict)"
   ]
  },
  {
   "cell_type": "code",
   "execution_count": null,
   "metadata": {},
   "outputs": [],
   "source": []
  },
  {
   "cell_type": "code",
   "execution_count": null,
   "metadata": {},
   "outputs": [],
   "source": []
  }
 ]
}