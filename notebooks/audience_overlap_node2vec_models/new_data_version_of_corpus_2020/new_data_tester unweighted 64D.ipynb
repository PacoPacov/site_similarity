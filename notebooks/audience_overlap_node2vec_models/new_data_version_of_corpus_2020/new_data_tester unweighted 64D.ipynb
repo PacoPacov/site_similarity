{
 "metadata": {
  "language_info": {
   "codemirror_mode": {
    "name": "ipython",
    "version": 3
   },
   "file_extension": ".py",
   "mimetype": "text/x-python",
   "name": "python",
   "nbconvert_exporter": "python",
   "pygments_lexer": "ipython3",
   "version": "3.6.10-final"
  },
  "orig_nbformat": 2,
  "kernelspec": {
   "name": "python361064bitsitesimilarityconda5cc228f1d50144ce9681545e76d7f6e7",
   "display_name": "Python 3.6.10 64-bit ('site_similarity': conda)"
  }
 },
 "nbformat": 4,
 "nbformat_minor": 2,
 "cells": [
  {
   "cell_type": "code",
   "execution_count": 1,
   "metadata": {},
   "outputs": [],
   "source": [
    "import sys\n",
    "sys.path.append(\"/home/paco/Documents/site_similarity\")"
   ]
  },
  {
   "cell_type": "code",
   "execution_count": 2,
   "metadata": {},
   "outputs": [],
   "source": [
    "from utils.notebook_utils import load_level_data, create_nodes, create_graph, draw_graph"
   ]
  },
  {
   "cell_type": "code",
   "execution_count": 3,
   "metadata": {
    "tags": []
   },
   "outputs": [
    {
     "output_type": "stream",
     "name": "stdout",
     "text": "Loaded 3489 nodes with records level <= 1 and child size:16981\n"
    }
   ],
   "source": [
    "lvl_one = load_level_data(data_path='/home/paco/Documents/site_similarity/notebooks/clean_data_20200808.json', level=1)  "
   ]
  },
  {
   "cell_type": "code",
   "execution_count": 4,
   "metadata": {},
   "outputs": [],
   "source": [
    "lvl_one_nodes = create_nodes(lvl_one)"
   ]
  },
  {
   "cell_type": "code",
   "execution_count": 5,
   "metadata": {},
   "outputs": [
    {
     "output_type": "execute_result",
     "data": {
      "text/plain": "[('crooked.com', 'votesaveamerica.com'),\n ('crooked.com', 'art19.com'),\n ('crooked.com', 'promocodeportal.com'),\n ('crooked.com', 'mediamatters.org'),\n ('crooked.com', 'actblue.com'),\n ('deepleftfield.info', 'politicalflare.com'),\n ('deepleftfield.info', 'bluedotdaily.com'),\n ('antifascistnews.net', 'angrywhitemen.org'),\n ('antifascistnews.net', 'itsgoingdown.org'),\n ('antifascistnews.net', 'torchantifa.org')]"
     },
     "metadata": {},
     "execution_count": 5
    }
   ],
   "source": [
    "lvl_one_nodes[:10]"
   ]
  },
  {
   "cell_type": "code",
   "execution_count": 6,
   "metadata": {},
   "outputs": [],
   "source": [
    "from stellargraph import StellarGraph\n",
    "import pandas as pd\n",
    "\n",
    "\n",
    "lvl_one_graph = StellarGraph(edges=pd.DataFrame(lvl_one_nodes, columns=['source', 'target']))"
   ]
  },
  {
   "cell_type": "code",
   "execution_count": 7,
   "metadata": {
    "tags": []
   },
   "outputs": [
    {
     "output_type": "stream",
     "name": "stdout",
     "text": "Number of random walks: 101610\n"
    }
   ],
   "source": [
    "from stellargraph.data import BiasedRandomWalk\n",
    "\n",
    "rw = BiasedRandomWalk(lvl_one_graph)\n",
    "\n",
    "walks = rw.run(\n",
    "    nodes=list(lvl_one_graph.nodes()),  # root nodes\n",
    "    length=100,  # maximum length of a random walk\n",
    "    n=10,  # number of random walks per root node\n",
    "    p=0.5,  # Defines (unormalised) probability, 1/p, of returning to source node\n",
    "    q=2.0,  # Defines (unormalised) probability, 1/q, for moving away from source node\n",
    ")\n",
    "print(\"Number of random walks: {}\".format(len(walks)))"
   ]
  },
  {
   "cell_type": "code",
   "execution_count": 8,
   "metadata": {},
   "outputs": [],
   "source": [
    "from gensim.models import Word2Vec\n",
    "\n",
    "str_walks = [[str(n) for n in walk] for walk in walks]\n",
    "model = Word2Vec(str_walks, size=64, window=5, min_count=0, sg=1, workers=2, iter=1)\n",
    "\n",
    "model.save(\"node2vec_lvl_one_new_corpus_64D.model\")"
   ]
  },
  {
   "cell_type": "code",
   "execution_count": 3,
   "metadata": {},
   "outputs": [],
   "source": [
    "# Load model\n",
    "\n",
    "from gensim.models import Word2Vec\n",
    "\n",
    "model = Word2Vec.load(\"node2vec_lvl_one_new_corpus_64D.model\")"
   ]
  },
  {
   "cell_type": "code",
   "execution_count": 4,
   "metadata": {},
   "outputs": [
    {
     "output_type": "execute_result",
     "data": {
      "text/plain": "(64,)"
     },
     "metadata": {},
     "execution_count": 4
    }
   ],
   "source": [
    "model.wv['crooked.com'].shape"
   ]
  },
  {
   "cell_type": "code",
   "execution_count": 5,
   "metadata": {
    "tags": []
   },
   "outputs": [
    {
     "output_type": "stream",
     "name": "stdout",
     "text": "dict_keys(['test-0', 'train-0', 'test-1', 'train-1', 'test-2', 'train-2', 'test-3', 'train-3', 'test-4', 'train-4'])\n"
    }
   ],
   "source": [
    "from dataprep.load_annotated_data import apply_splits\n",
    "from utils.notebook_utils import load_corpus\n",
    "from modelling.baselines import eval_model\n",
    "import pandas as pd\n",
    "\n",
    "\n",
    "DATA = load_corpus('new_corpus_2020.csv')\n",
    "SPLITS = apply_splits(DATA, 'modified_splits_new_corpus_2020.json')\n",
    "\n",
    "print(SPLITS.keys())\n",
    "\n",
    "train = pd.DataFrame(SPLITS['train-0'])\n",
    "\n",
    "test = pd.DataFrame(SPLITS['test-0'])"
   ]
  },
  {
   "cell_type": "code",
   "execution_count": 6,
   "metadata": {},
   "outputs": [
    {
     "output_type": "execute_result",
     "data": {
      "text/html": "<div>\n<style scoped>\n    .dataframe tbody tr th:only-of-type {\n        vertical-align: middle;\n    }\n\n    .dataframe tbody tr th {\n        vertical-align: top;\n    }\n\n    .dataframe thead th {\n        text-align: right;\n    }\n</style>\n<table border=\"1\" class=\"dataframe\">\n  <thead>\n    <tr style=\"text-align: right;\">\n      <th></th>\n      <th>source_url</th>\n      <th>source_url_processed</th>\n      <th>URL</th>\n      <th>fact</th>\n      <th>bias</th>\n    </tr>\n  </thead>\n  <tbody>\n    <tr>\n      <th>0</th>\n      <td>https://crooked.com</td>\n      <td>crooked.com</td>\n      <td>https://mediabiasfactcheck.com/crooked-media/</td>\n      <td>high</td>\n      <td>left</td>\n    </tr>\n    <tr>\n      <th>1</th>\n      <td>http://deepleftfield.info</td>\n      <td>deepleftfield.info</td>\n      <td>https://mediabiasfactcheck.com/deep-left-field/</td>\n      <td>mixed</td>\n      <td>left</td>\n    </tr>\n    <tr>\n      <th>2</th>\n      <td>https://antifascistnews.net</td>\n      <td>antifascistnews.net</td>\n      <td>https://mediabiasfactcheck.com/anti-fascist-news/</td>\n      <td>high</td>\n      <td>left</td>\n    </tr>\n    <tr>\n      <th>3</th>\n      <td>http://www.cnn.com</td>\n      <td>cnn.com</td>\n      <td>http://mediabiasfactcheck.com/cnn/</td>\n      <td>mixed</td>\n      <td>left</td>\n    </tr>\n    <tr>\n      <th>4</th>\n      <td>http://www.dailykos.com</td>\n      <td>dailykos.com</td>\n      <td>http://mediabiasfactcheck.com/daily-kos/</td>\n      <td>mixed</td>\n      <td>left</td>\n    </tr>\n  </tbody>\n</table>\n</div>",
      "text/plain": "                    source_url source_url_processed  \\\n0          https://crooked.com          crooked.com   \n1    http://deepleftfield.info   deepleftfield.info   \n2  https://antifascistnews.net  antifascistnews.net   \n3           http://www.cnn.com              cnn.com   \n4      http://www.dailykos.com         dailykos.com   \n\n                                                 URL   fact  bias  \n0      https://mediabiasfactcheck.com/crooked-media/   high  left  \n1    https://mediabiasfactcheck.com/deep-left-field/  mixed  left  \n2  https://mediabiasfactcheck.com/anti-fascist-news/   high  left  \n3                 http://mediabiasfactcheck.com/cnn/  mixed  left  \n4           http://mediabiasfactcheck.com/daily-kos/  mixed  left  "
     },
     "metadata": {},
     "execution_count": 6
    }
   ],
   "source": [
    "train.head()"
   ]
  },
  {
   "cell_type": "code",
   "execution_count": 7,
   "metadata": {},
   "outputs": [],
   "source": [
    "X_train = train.apply(lambda x: model.wv[x['source_url_processed']], axis=1)\n",
    "\n",
    "y_train = train.apply(lambda x: x['fact'], axis=1)"
   ]
  },
  {
   "cell_type": "code",
   "execution_count": 8,
   "metadata": {},
   "outputs": [],
   "source": [
    "X_test = test.apply(lambda x: model.wv[x['source_url_processed']], axis=1)\n",
    "\n",
    "y_test = test.apply(lambda x: x['fact'], axis=1)"
   ]
  },
  {
   "cell_type": "code",
   "execution_count": 9,
   "metadata": {
    "tags": []
   },
   "outputs": [
    {
     "output_type": "stream",
     "name": "stderr",
     "text": "[Parallel(n_jobs=1)]: Using backend SequentialBackend with 1 concurrent workers.\n[Parallel(n_jobs=1)]: Done  15 out of  15 | elapsed:    1.7s finished\n"
    },
    {
     "output_type": "execute_result",
     "data": {
      "text/plain": "LogisticRegressionCV(cv=5, max_iter=300, multi_class='ovr', random_state=42,\n                     scoring='accuracy', verbose=True)"
     },
     "metadata": {},
     "execution_count": 9
    }
   ],
   "source": [
    "from sklearn.linear_model import LogisticRegressionCV\n",
    "from sklearn.metrics import accuracy_score\n",
    "\n",
    "clf = LogisticRegressionCV(\n",
    "    Cs=10, cv=5, scoring=\"accuracy\", verbose=True, multi_class=\"ovr\", max_iter=300, random_state=42\n",
    ")\n",
    "clf.fit(X_train.values.tolist(), y_train.values.tolist())"
   ]
  },
  {
   "cell_type": "code",
   "execution_count": 10,
   "metadata": {},
   "outputs": [
    {
     "output_type": "execute_result",
     "data": {
      "text/plain": "0.6104651162790697"
     },
     "metadata": {},
     "execution_count": 10
    }
   ],
   "source": [
    "y_pred = clf.predict(X_test.values.tolist())\n",
    "\n",
    "accuracy_score(y_test, y_pred)"
   ]
  },
  {
   "cell_type": "code",
   "execution_count": 11,
   "metadata": {},
   "outputs": [
    {
     "output_type": "execute_result",
     "data": {
      "text/plain": "GradientBoostingClassifier(random_state=42)"
     },
     "metadata": {},
     "execution_count": 11
    }
   ],
   "source": [
    "from sklearn.ensemble import GradientBoostingClassifier\n",
    "\n",
    "clf = GradientBoostingClassifier(random_state=42)\n",
    "clf.fit(X_train.tolist(), y_train.tolist())"
   ]
  },
  {
   "cell_type": "code",
   "execution_count": 12,
   "metadata": {},
   "outputs": [
    {
     "output_type": "execute_result",
     "data": {
      "text/plain": "0.627906976744186"
     },
     "metadata": {},
     "execution_count": 12
    }
   ],
   "source": [
    "tree_predict = clf.predict(X_test.tolist())\n",
    "accuracy_score(y_test, tree_predict)"
   ]
  },
  {
   "cell_type": "code",
   "execution_count": 13,
   "metadata": {},
   "outputs": [
    {
     "output_type": "execute_result",
     "data": {
      "text/plain": "SVC(decision_function_shape='ovo')"
     },
     "metadata": {},
     "execution_count": 13
    }
   ],
   "source": [
    "from sklearn import svm\n",
    "\n",
    "svm_clf = svm.SVC(decision_function_shape='ovo')\n",
    "\n",
    "svm_clf.fit(X_train.tolist(), y_train.tolist())"
   ]
  },
  {
   "cell_type": "code",
   "execution_count": 14,
   "metadata": {},
   "outputs": [
    {
     "output_type": "execute_result",
     "data": {
      "text/plain": "0.6686046511627907"
     },
     "metadata": {},
     "execution_count": 14
    }
   ],
   "source": [
    "svm_predict = svm_clf.predict(X_test.tolist())\n",
    "accuracy_score(y_test, svm_predict)"
   ]
  },
  {
   "cell_type": "code",
   "execution_count": 15,
   "metadata": {},
   "outputs": [
    {
     "output_type": "execute_result",
     "data": {
      "text/plain": "LinearSVC()"
     },
     "metadata": {},
     "execution_count": 15
    }
   ],
   "source": [
    "lin_clf = svm.LinearSVC() # one-vs-rest\n",
    "lin_clf.fit(X_train.tolist(), y_train.tolist())"
   ]
  },
  {
   "cell_type": "code",
   "execution_count": 16,
   "metadata": {},
   "outputs": [
    {
     "output_type": "execute_result",
     "data": {
      "text/plain": "0.6104651162790697"
     },
     "metadata": {},
     "execution_count": 16
    }
   ],
   "source": [
    "lin_predict = lin_clf.predict(X_test.tolist())\n",
    "accuracy_score(y_test, lin_predict)"
   ]
  },
  {
   "cell_type": "code",
   "execution_count": null,
   "metadata": {},
   "outputs": [],
   "source": []
  },
  {
   "cell_type": "code",
   "execution_count": null,
   "metadata": {},
   "outputs": [],
   "source": []
  }
 ]
}