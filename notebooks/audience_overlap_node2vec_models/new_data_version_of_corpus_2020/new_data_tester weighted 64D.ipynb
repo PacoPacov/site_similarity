{
 "metadata": {
  "language_info": {
   "codemirror_mode": {
    "name": "ipython",
    "version": 3
   },
   "file_extension": ".py",
   "mimetype": "text/x-python",
   "name": "python",
   "nbconvert_exporter": "python",
   "pygments_lexer": "ipython3",
   "version": "3.6.10-final"
  },
  "orig_nbformat": 2,
  "kernelspec": {
   "name": "python361064bitsitesimilarityconda5cc228f1d50144ce9681545e76d7f6e7",
   "display_name": "Python 3.6.10 64-bit ('site_similarity': conda)"
  }
 },
 "nbformat": 4,
 "nbformat_minor": 2,
 "cells": [
  {
   "cell_type": "code",
   "execution_count": 3,
   "metadata": {},
   "outputs": [],
   "source": [
    "import sys,os\n",
    "sys.path.append(\"/home/paco/Documents/site_similarity\")"
   ]
  },
  {
   "cell_type": "code",
   "execution_count": 4,
   "metadata": {},
   "outputs": [],
   "source": [
    "from utils.notebook_utils import load_level_data, create_weighted_nodes, create_graph, draw_graph"
   ]
  },
  {
   "cell_type": "code",
   "execution_count": 4,
   "metadata": {
    "tags": []
   },
   "outputs": [
    {
     "output_type": "stream",
     "name": "stdout",
     "text": "Loaded 3489 nodes with records level <= 1 and child size:16981\n"
    }
   ],
   "source": [
    "lvl_one = load_level_data(data_path='/home/paco/Documents/site_similarity/notebooks/clean_data_20200808.json', level=1)"
   ]
  },
  {
   "cell_type": "code",
   "execution_count": 5,
   "metadata": {},
   "outputs": [],
   "source": [
    "lvl_one_nodes = create_weighted_nodes(lvl_one)"
   ]
  },
  {
   "cell_type": "code",
   "execution_count": 6,
   "metadata": {},
   "outputs": [
    {
     "output_type": "execute_result",
     "data": {
      "text/plain": "[('crooked.com', 'votesaveamerica.com', 23.7),\n ('crooked.com', 'art19.com', 6.6),\n ('crooked.com', 'promocodeportal.com', 5.0),\n ('crooked.com', 'mediamatters.org', 4.2),\n ('crooked.com', 'actblue.com', 4.2),\n ('deepleftfield.info', 'politicalflare.com', 1.9),\n ('deepleftfield.info', 'bluedotdaily.com', 1.2),\n ('antifascistnews.net', 'angrywhitemen.org', 8.2),\n ('antifascistnews.net', 'itsgoingdown.org', 5.3),\n ('antifascistnews.net', 'torchantifa.org', 5.0)]"
     },
     "metadata": {},
     "execution_count": 6
    }
   ],
   "source": [
    "lvl_one_nodes[:10]"
   ]
  },
  {
   "cell_type": "code",
   "execution_count": 7,
   "metadata": {},
   "outputs": [
    {
     "output_type": "execute_result",
     "data": {
      "text/plain": "[('crooked.com', 'votesaveamerica.com', 23.7),\n ('crooked.com', 'art19.com', 6.6),\n ('crooked.com', 'promocodeportal.com', 5.0),\n ('crooked.com', 'mediamatters.org', 4.2),\n ('crooked.com', 'actblue.com', 4.2)]"
     },
     "metadata": {},
     "execution_count": 7
    }
   ],
   "source": [
    "[(k, v, w) for k, v, w in lvl_one_nodes if k == 'crooked.com']"
   ]
  },
  {
   "cell_type": "code",
   "execution_count": 8,
   "metadata": {},
   "outputs": [],
   "source": [
    "from stellargraph import StellarGraph\n",
    "import pandas as pd\n",
    "\n",
    "\n",
    "lvl_one_graph = StellarGraph(edges=pd.DataFrame(lvl_one_nodes, columns=['source', 'target', 'weight']))"
   ]
  },
  {
   "cell_type": "code",
   "execution_count": 9,
   "metadata": {
    "tags": []
   },
   "outputs": [
    {
     "output_type": "stream",
     "name": "stdout",
     "text": "StellarGraph: Undirected multigraph\n Nodes: 10161, Edges: 17010\n\n Node types:\n  default: [10161]\n    Features: none\n    Edge types: default-default->default\n\n Edge types:\n    default-default->default: [17010]\n        Weights: range=[0.5, 98.7], mean=12.9548, std=13.1882\n        Features: none\n"
    }
   ],
   "source": [
    "print(lvl_one_graph.info())"
   ]
  },
  {
   "cell_type": "code",
   "execution_count": 10,
   "metadata": {
    "tags": []
   },
   "outputs": [
    {
     "output_type": "stream",
     "name": "stdout",
     "text": "Number of random walks: 101610\n"
    }
   ],
   "source": [
    "from stellargraph.data import BiasedRandomWalk\n",
    "\n",
    "rw = BiasedRandomWalk(lvl_one_graph)\n",
    "\n",
    "walks = rw.run(\n",
    "    nodes=list(lvl_one_graph.nodes()),  # root nodes\n",
    "    length=100,  # maximum length of a random walk\n",
    "    n=10,  # number of random walks per root node\n",
    "    p=0.5,  # Defines (unormalised) probability, 1/p, of returning to source node\n",
    "    q=2.0,  # Defines (unormalised) probability, 1/q, for moving away from source node\n",
    "    weighted=True,  # for weighted random walks\n",
    "    seed=42,  # random seed fixed for reproducibility\n",
    ")\n",
    "print(\"Number of random walks: {}\".format(len(walks)))"
   ]
  },
  {
   "cell_type": "code",
   "execution_count": 11,
   "metadata": {},
   "outputs": [],
   "source": [
    "from gensim.models import Word2Vec\n",
    "\n",
    "str_walks = [[str(n) for n in walk] for walk in walks]\n",
    "model = Word2Vec(str_walks, size=64, window=5, min_count=0, sg=1, workers=2, iter=1)\n",
    "\n",
    "model.save(\"node2vec_lvl_one_new_corpus_WEIGHTED_64.model\")"
   ]
  },
  {
   "cell_type": "code",
   "execution_count": 6,
   "metadata": {},
   "outputs": [],
   "source": [
    "# Load model\n",
    "\n",
    "from gensim.models import Word2Vec\n",
    "\n",
    "model = Word2Vec.load(\"node2vec_lvl_one_new_corpus_WEIGHTED_64.model\")"
   ]
  },
  {
   "cell_type": "code",
   "execution_count": 7,
   "metadata": {},
   "outputs": [
    {
     "output_type": "execute_result",
     "data": {
      "text/plain": "(64,)"
     },
     "metadata": {},
     "execution_count": 7
    }
   ],
   "source": [
    "model.wv['crooked.com'].shape"
   ]
  },
  {
   "cell_type": "code",
   "execution_count": 8,
   "metadata": {
    "tags": []
   },
   "outputs": [
    {
     "output_type": "stream",
     "name": "stdout",
     "text": "dict_keys(['test-0', 'train-0', 'test-1', 'train-1', 'test-2', 'train-2', 'test-3', 'train-3', 'test-4', 'train-4'])\n"
    }
   ],
   "source": [
    "from dataprep.load_annotated_data import apply_splits\n",
    "from utils.notebook_utils import load_corpus\n",
    "from modelling.baselines import eval_model\n",
    "import pandas as pd\n",
    "\n",
    "DATA = load_corpus('new_corpus_2020.csv')\n",
    "SPLITS = apply_splits(DATA, 'modified_splits_new_corpus_2020.json')\n",
    "\n",
    "print(SPLITS.keys())\n",
    "\n",
    "train = pd.DataFrame(SPLITS['train-0'])\n",
    "\n",
    "test = pd.DataFrame(SPLITS['test-0'])"
   ]
  },
  {
   "cell_type": "code",
   "execution_count": 9,
   "metadata": {},
   "outputs": [],
   "source": [
    "X_train = train.apply(lambda x: model.wv[x['source_url_processed']], axis=1)\n",
    "\n",
    "y_train = train.apply(lambda x: x['fact'], axis=1)"
   ]
  },
  {
   "cell_type": "code",
   "execution_count": 10,
   "metadata": {},
   "outputs": [],
   "source": [
    "X_test = test.apply(lambda x: model.wv[x['source_url_processed']], axis=1)\n",
    "\n",
    "y_test = test.apply(lambda x: x['fact'], axis=1)"
   ]
  },
  {
   "cell_type": "code",
   "execution_count": 11,
   "metadata": {
    "tags": []
   },
   "outputs": [
    {
     "output_type": "stream",
     "name": "stderr",
     "text": "[Parallel(n_jobs=1)]: Using backend SequentialBackend with 1 concurrent workers.\n[Parallel(n_jobs=1)]: Done  15 out of  15 | elapsed:    1.8s finished\n"
    },
    {
     "output_type": "execute_result",
     "data": {
      "text/plain": "LogisticRegressionCV(cv=5, max_iter=300, multi_class='ovr', random_state=42,\n                     scoring='accuracy', verbose=True)"
     },
     "metadata": {},
     "execution_count": 11
    }
   ],
   "source": [
    "from sklearn.linear_model import LogisticRegressionCV\n",
    "from sklearn.metrics import accuracy_score\n",
    "\n",
    "clf = LogisticRegressionCV(\n",
    "    Cs=10, cv=5, scoring=\"accuracy\", verbose=True, multi_class=\"ovr\", max_iter=300, random_state=42\n",
    ")\n",
    "clf.fit(X_train.values.tolist(), y_train.values.tolist())"
   ]
  },
  {
   "cell_type": "code",
   "execution_count": 12,
   "metadata": {},
   "outputs": [
    {
     "output_type": "execute_result",
     "data": {
      "text/plain": "0.5988372093023255"
     },
     "metadata": {},
     "execution_count": 12
    }
   ],
   "source": [
    "y_pred = clf.predict(X_test.values.tolist())\n",
    "\n",
    "accuracy_score(y_test, y_pred)"
   ]
  },
  {
   "cell_type": "code",
   "execution_count": 18,
   "metadata": {},
   "outputs": [
    {
     "output_type": "execute_result",
     "data": {
      "text/plain": "GradientBoostingClassifier(random_state=42)"
     },
     "metadata": {},
     "execution_count": 18
    }
   ],
   "source": [
    "from sklearn.ensemble import GradientBoostingClassifier\n",
    "\n",
    "clf = GradientBoostingClassifier(random_state=42)\n",
    "clf.fit(X_train.tolist(), y_train.tolist())"
   ]
  },
  {
   "cell_type": "code",
   "execution_count": 19,
   "metadata": {},
   "outputs": [
    {
     "output_type": "execute_result",
     "data": {
      "text/plain": "0.6337209302325582"
     },
     "metadata": {},
     "execution_count": 19
    }
   ],
   "source": [
    "tree_predict = clf.predict(X_test.tolist())\n",
    "accuracy_score(y_test, tree_predict)"
   ]
  },
  {
   "cell_type": "code",
   "execution_count": 20,
   "metadata": {},
   "outputs": [
    {
     "output_type": "execute_result",
     "data": {
      "text/plain": "SVC(decision_function_shape='ovo')"
     },
     "metadata": {},
     "execution_count": 20
    }
   ],
   "source": [
    "from sklearn import svm\n",
    "\n",
    "svm_clf = svm.SVC(decision_function_shape='ovo')\n",
    "\n",
    "svm_clf.fit(X_train.tolist(), y_train.tolist())"
   ]
  },
  {
   "cell_type": "code",
   "execution_count": 21,
   "metadata": {},
   "outputs": [
    {
     "output_type": "execute_result",
     "data": {
      "text/plain": "0.6744186046511628"
     },
     "metadata": {},
     "execution_count": 21
    }
   ],
   "source": [
    "svm_predict = svm_clf.predict(X_test.tolist())\n",
    "accuracy_score(y_test, svm_predict)"
   ]
  },
  {
   "cell_type": "code",
   "execution_count": 22,
   "metadata": {},
   "outputs": [
    {
     "output_type": "execute_result",
     "data": {
      "text/plain": "LinearSVC()"
     },
     "metadata": {},
     "execution_count": 22
    }
   ],
   "source": [
    "lin_clf = svm.LinearSVC() # one-vs-rest\n",
    "lin_clf.fit(X_train.tolist(), y_train.tolist())"
   ]
  },
  {
   "cell_type": "code",
   "execution_count": 23,
   "metadata": {},
   "outputs": [
    {
     "output_type": "execute_result",
     "data": {
      "text/plain": "0.6104651162790697"
     },
     "metadata": {},
     "execution_count": 23
    }
   ],
   "source": [
    "lin_predict = lin_clf.predict(X_test.tolist())\n",
    "accuracy_score(y_test, lin_predict)"
   ]
  }
 ]
}