{
 "metadata": {
  "language_info": {
   "codemirror_mode": {
    "name": "ipython",
    "version": 3
   },
   "file_extension": ".py",
   "mimetype": "text/x-python",
   "name": "python",
   "nbconvert_exporter": "python",
   "pygments_lexer": "ipython3",
   "version": "3.6.10-final"
  },
  "orig_nbformat": 2,
  "kernelspec": {
   "name": "python361064bitsitesimilarityconda5cc228f1d50144ce9681545e76d7f6e7",
   "display_name": "Python 3.6.10 64-bit ('site_similarity': conda)"
  }
 },
 "nbformat": 4,
 "nbformat_minor": 2,
 "cells": [
  {
   "cell_type": "code",
   "execution_count": 1,
   "metadata": {},
   "outputs": [],
   "source": [
    "import sys\n",
    "sys.path.append(\"/home/paco/Documents/site_similarity\")"
   ]
  },
  {
   "cell_type": "code",
   "execution_count": 7,
   "metadata": {},
   "outputs": [],
   "source": [
    "from utils.notebook_utils import load_level_data, create_weighted_nodes, create_graph, create_nodes, create_node2vec_model\n"
   ]
  },
  {
   "cell_type": "code",
   "execution_count": 4,
   "metadata": {
    "tags": []
   },
   "outputs": [
    {
     "output_type": "stream",
     "name": "stdout",
     "text": "Loaded 4238 nodes with records level <= 1 and child size:20335\n"
    }
   ],
   "source": [
    "lvl_one_2018 = load_level_data(data_path='/home/paco/Documents/site_similarity/data/corpus_2018_audience_overlap_sites_scrapping_result.json', level=1)"
   ]
  },
  {
   "cell_type": "code",
   "execution_count": 5,
   "metadata": {
    "tags": []
   },
   "outputs": [
    {
     "output_type": "stream",
     "name": "stdout",
     "text": "Loaded 3489 nodes with records level <= 1 and child size:16981\n"
    }
   ],
   "source": [
    "lvl_one_2020 = load_level_data(data_path='/home/paco/Documents/site_similarity/data/corpus_2020_audience_overlap_sites_scrapping_result.json', level=1)"
   ]
  },
  {
   "cell_type": "code",
   "execution_count": 8,
   "metadata": {},
   "outputs": [],
   "source": [
    "lvl_one_nodes_2018 = create_nodes(lvl_one_2018)"
   ]
  },
  {
   "cell_type": "code",
   "execution_count": 9,
   "metadata": {},
   "outputs": [],
   "source": [
    "lvl_one_nodes_2020 = create_nodes(lvl_one_2020)"
   ]
  },
  {
   "cell_type": "code",
   "execution_count": 10,
   "metadata": {},
   "outputs": [
    {
     "output_type": "execute_result",
     "data": {
      "text/plain": "[('villagevoice.com', 'nylon.com'), ('villagevoice.com', 'slantmagazine.com')]"
     },
     "metadata": {},
     "execution_count": 10
    }
   ],
   "source": [
    "lvl_one_nodes_2018[:2]"
   ]
  },
  {
   "cell_type": "code",
   "execution_count": 11,
   "metadata": {},
   "outputs": [
    {
     "output_type": "execute_result",
     "data": {
      "text/plain": "[('crooked.com', 'votesaveamerica.com'), ('crooked.com', 'art19.com')]"
     },
     "metadata": {},
     "execution_count": 11
    }
   ],
   "source": [
    "lvl_one_nodes_2020[:2]"
   ]
  },
  {
   "cell_type": "code",
   "execution_count": 12,
   "metadata": {},
   "outputs": [],
   "source": [
    "combine_nodes = list(set([*lvl_one_nodes_2018, *lvl_one_nodes_2020]))"
   ]
  },
  {
   "cell_type": "code",
   "execution_count": 13,
   "metadata": {},
   "outputs": [
    {
     "output_type": "execute_result",
     "data": {
      "text/plain": "25956"
     },
     "metadata": {},
     "execution_count": 13
    }
   ],
   "source": [
    "len(combine_nodes)"
   ]
  },
  {
   "cell_type": "code",
   "execution_count": null,
   "metadata": {},
   "outputs": [],
   "source": []
  },
  {
   "cell_type": "code",
   "execution_count": 21,
   "metadata": {
    "tags": []
   },
   "outputs": [
    {
     "output_type": "stream",
     "name": "stdout",
     "text": "Number of random walks: 150640\n"
    }
   ],
   "source": [
    "combined_data_unweighted_lvl_one_128D = create_node2vec_model(combine_nodes, dimension=128, is_weighted=False, file_name='combined_data_unweighted_lvl_one_128D.model')"
   ]
  },
  {
   "cell_type": "code",
   "execution_count": 22,
   "metadata": {
    "tags": []
   },
   "outputs": [
    {
     "output_type": "stream",
     "name": "stdout",
     "text": "Number of random walks: 150640\n"
    }
   ],
   "source": [
    "combined_data_unweighted_lvl_one_64D = create_node2vec_model(combine_nodes, dimension=64, is_weighted=False, file_name='combined_data_unweighted_lvl_one_64D.model')"
   ]
  },
  {
   "cell_type": "code",
   "execution_count": 23,
   "metadata": {
    "tags": []
   },
   "outputs": [
    {
     "output_type": "stream",
     "name": "stdout",
     "text": "weighted_2018: 20399\nweighted_2020: 17010\n"
    }
   ],
   "source": [
    "lvl_one_weighted_nodes_2018 = create_weighted_nodes(lvl_one_2018)\n",
    "\n",
    "lvl_one_weighted_nodes_2020 = create_weighted_nodes(lvl_one_2020)\n",
    "\n",
    "print('weighted_2018:', len(lvl_one_weighted_nodes_2018))\n",
    "print('weighted_2020:', len(lvl_one_weighted_nodes_2020))"
   ]
  },
  {
   "cell_type": "code",
   "execution_count": 24,
   "metadata": {
    "tags": []
   },
   "outputs": [
    {
     "output_type": "stream",
     "name": "stdout",
     "text": "combine_weighted_nodes: 26161\n"
    }
   ],
   "source": [
    "combine_weighted_nodes = list(set([*lvl_one_weighted_nodes_2018, *lvl_one_weighted_nodes_2020]))\n",
    "\n",
    "print('combine_weighted_nodes:', len(combine_weighted_nodes))"
   ]
  },
  {
   "cell_type": "code",
   "execution_count": 25,
   "metadata": {
    "tags": []
   },
   "outputs": [
    {
     "output_type": "stream",
     "name": "stdout",
     "text": "Number of random walks: 150640\nNumber of random walks: 150640\n"
    }
   ],
   "source": [
    "combined_data_weighted_lvl_one_128D = create_node2vec_model(combine_weighted_nodes, dimension=128, is_weighted=True, file_name='combined_data_weighted_lvl_one_128D.model')\n",
    "\n",
    "combined_data_weighted_lvl_one_64D = create_node2vec_model(combine_weighted_nodes, dimension=64, is_weighted=True, file_name='combined_data_weighted_lvl_one_64D.model')"
   ]
  },
  {
   "cell_type": "markdown",
   "metadata": {},
   "source": [
    "# Eval models with this feature"
   ]
  },
  {
   "cell_type": "code",
   "execution_count": 26,
   "metadata": {
    "tags": []
   },
   "outputs": [
    {
     "output_type": "stream",
     "name": "stdout",
     "text": "Using model: combined_data_unweighted_lvl_one_64D.model\nStart training...\nAccuracy: 58.67287543655413\nMacro-F1: 40.09282106985352\nFlip Error-rate: 13.038416763678695\nMAE: 0.5436554132712457\nStart training...\nAccuracy: 58.78928987194412\nMacro-F1: 42.78911629995174\nFlip Error-rate: 12.805587892898721\nMAE: 0.540162980209546\nStart training...\nAccuracy: 61.9324796274738\nMacro-F1: 53.38991957315379\nFlip Error-rate: 8.614668218859139\nMAE: 0.4668218859138533\nStart training...\nAccuracy: 63.56228172293365\nMacro-F1: 53.75860505523985\nFlip Error-rate: 9.080325960419092\nMAE: 0.4551804423748545\nUsing model: combined_data_unweighted_lvl_one_128D.model\nStart training...\nAccuracy: 57.62514551804424\nMacro-F1: 38.98396341942812\nFlip Error-rate: 13.50407450523865\nMAE: 0.5587892898719441\nStart training...\nAccuracy: 59.25494761350407\nMacro-F1: 45.75202771914926\nFlip Error-rate: 11.40861466821886\nMAE: 0.5215366705471478\nStart training...\nAccuracy: 60.18626309662398\nMacro-F1: 51.391895313031796\nFlip Error-rate: 9.19674039580908\nMAE: 0.490104772991851\nStart training...\nAccuracy: 63.91152502910361\nMacro-F1: 54.57886703830398\nFlip Error-rate: 9.19674039580908\nMAE: 0.4528521536670547\nUsing model: combined_data_weighted_lvl_one_64D.model\nStart training...\nAccuracy: 57.741559953434226\nMacro-F1: 42.1511605165296\nFlip Error-rate: 13.154831199068685\nMAE: 0.5541327124563445\nStart training...\nAccuracy: 57.97438882421421\nMacro-F1: 43.262348579025975\nFlip Error-rate: 12.689173457508732\nMAE: 0.5471478463329453\nStart training...\nAccuracy: 59.837019790454015\nMacro-F1: 50.38033223543845\nFlip Error-rate: 9.662398137369035\nMAE: 0.49825378346915017\nStart training...\nAccuracy: 62.514551804423746\nMacro-F1: 51.89442682160062\nFlip Error-rate: 10.128055878928988\nMAE: 0.47613504074505236\nUsing model: combined_data_weighted_lvl_one_128D.model\nStart training...\nAccuracy: 58.55646100116414\nMacro-F1: 47.06660714661332\nFlip Error-rate: 11.525029103608848\nMAE: 0.529685681024447\nStart training...\nAccuracy: 60.884749708963916\nMacro-F1: 49.62519427804568\nFlip Error-rate: 11.525029103608848\nMAE: 0.5064027939464494\nStart training...\nAccuracy: 61.23399301513388\nMacro-F1: 52.86908189480351\nFlip Error-rate: 9.19674039580908\nMAE: 0.479627473806752\nStart training...\nAccuracy: 62.04889406286379\nMacro-F1: 50.42952350123241\nFlip Error-rate: 10.360884749708964\nMAE: 0.4831199068684517\n"
    }
   ],
   "source": [
    "from utils.notebook_utils import train_model, load_node2vec_model\n",
    "from sklearn.linear_model import LogisticRegressionCV\n",
    "from sklearn.ensemble import GradientBoostingClassifier\n",
    "from sklearn import svm\n",
    "\n",
    "\n",
    "models = [\n",
    "    'combined_data_unweighted_lvl_one_64D.model',\n",
    "    'combined_data_unweighted_lvl_one_128D.model',\n",
    "    'combined_data_weighted_lvl_one_64D.model',\n",
    "    'combined_data_weighted_lvl_one_128D.model'\n",
    "]\n",
    "\n",
    "\n",
    "for model in models:\n",
    "    print(f'Using model: {model}')\n",
    "    node2vec_model = load_node2vec_model(model)\n",
    "\n",
    "    clf = LogisticRegressionCV(\n",
    "        Cs=10, cv=5, scoring=\"accuracy\", multi_class=\"ovr\", max_iter=300, random_state=42\n",
    "    )\n",
    "    train_model(clf, node2vec_model=node2vec_model, data_year='2020')\n",
    "\n",
    "\n",
    "    clf2 = LogisticRegressionCV(\n",
    "        Cs=10, cv=10, scoring=\"accuracy\", multi_class=\"ovr\", max_iter=300, random_state=42\n",
    "    )\n",
    "    train_model(clf2, node2vec_model=node2vec_model, data_year='2020')\n",
    "\n",
    "    tree_clf = GradientBoostingClassifier(random_state=42)\n",
    "    train_model(tree_clf, node2vec_model=node2vec_model, data_year='2020')\n",
    "\n",
    "    svm_clf = svm.SVC(decision_function_shape='ovo', probability=True) \n",
    "    train_model(svm_clf, node2vec_model=node2vec_model, data_year='2020')"
   ]
  },
  {
   "cell_type": "code",
   "execution_count": 27,
   "metadata": {
    "tags": []
   },
   "outputs": [
    {
     "output_type": "stream",
     "name": "stdout",
     "text": "Using model: combined_data_unweighted_lvl_one_64D.model\nStart training...\nAccuracy: 58.067542213883684\nMacro-F1: 44.27634444996561\nFlip Error-rate: 16.416510318949342\nMAE: 0.5834896810506567\nStart training...\nAccuracy: 57.3170731707317\nMacro-F1: 39.349052489163036\nFlip Error-rate: 17.5422138836773\nMAE: 0.6022514071294559\nStart training...\nAccuracy: 58.536585365853654\nMacro-F1: 50.61833751973411\nFlip Error-rate: 12.851782363977485\nMAE: 0.5431519699812383\nStart training...\nAccuracy: 64.72795497185741\nMacro-F1: 55.772952403263346\nFlip Error-rate: 10.694183864915573\nMAE: 0.4596622889305816\nUsing model: combined_data_unweighted_lvl_one_128D.model\nStart training...\nAccuracy: 59.756097560975604\nMacro-F1: 48.828183679054106\nFlip Error-rate: 14.540337711069418\nMAE: 0.5478424015009381\nStart training...\nAccuracy: 59.47467166979362\nMacro-F1: 47.0254266805991\nFlip Error-rate: 15.196998123827393\nMAE: 0.5572232645403377\nStart training...\nAccuracy: 60.31894934333959\nMacro-F1: 52.003589025373884\nFlip Error-rate: 10.975609756097562\nMAE: 0.5065666041275797\nStart training...\nAccuracy: 64.07129455909943\nMacro-F1: 55.11574795547196\nFlip Error-rate: 10.600375234521577\nMAE: 0.4652908067542214\nUsing model: combined_data_weighted_lvl_one_64D.model\nStart training...\nAccuracy: 57.410881801125704\nMacro-F1: 45.53553356526063\nFlip Error-rate: 15.572232645403378\nMAE: 0.5816135084427767\nStart training...\nAccuracy: 57.78611632270169\nMacro-F1: 46.007814749376585\nFlip Error-rate: 15.384615384615385\nMAE: 0.575984990619137\nStart training...\nAccuracy: 59.28705440900563\nMacro-F1: 51.29127798698795\nFlip Error-rate: 12.851782363977485\nMAE: 0.5356472795497186\nStart training...\nAccuracy: 62.10131332082551\nMacro-F1: 52.51820947541683\nFlip Error-rate: 11.819887429643527\nMAE: 0.4971857410881801\nUsing model: combined_data_weighted_lvl_one_128D.model\nStart training...\nAccuracy: 56.84803001876173\nMacro-F1: 45.68555451556388\nFlip Error-rate: 16.22889305816135\nMAE: 0.5938086303939962\nStart training...\nAccuracy: 57.129455909943715\nMacro-F1: 45.56734486834822\nFlip Error-rate: 16.416510318949342\nMAE: 0.5928705440900562\nStart training...\nAccuracy: 59.56848030018762\nMacro-F1: 51.345231327208175\nFlip Error-rate: 12.757973733583489\nMAE: 0.5318949343339587\nStart training...\nAccuracy: 62.007504690431524\nMacro-F1: 51.960942650392674\nFlip Error-rate: 11.632270168855536\nMAE: 0.49624765478424016\n"
    }
   ],
   "source": [
    "from utils.notebook_utils import train_model, load_node2vec_model\n",
    "from sklearn.linear_model import LogisticRegressionCV\n",
    "from sklearn.ensemble import GradientBoostingClassifier\n",
    "from sklearn import svm\n",
    "\n",
    "\n",
    "models = [\n",
    "    'combined_data_unweighted_lvl_one_64D.model',\n",
    "    'combined_data_unweighted_lvl_one_128D.model',\n",
    "    'combined_data_weighted_lvl_one_64D.model',\n",
    "    'combined_data_weighted_lvl_one_128D.model'\n",
    "]\n",
    "\n",
    "\n",
    "for model in models:\n",
    "    print(f'Using model: {model}')\n",
    "    node2vec_model = load_node2vec_model(model)\n",
    "\n",
    "    clf = LogisticRegressionCV(\n",
    "        Cs=10, cv=5, scoring=\"accuracy\", multi_class=\"ovr\", max_iter=300, random_state=42\n",
    "    )\n",
    "    train_model(clf, node2vec_model=node2vec_model, data_year='2018')\n",
    "\n",
    "\n",
    "    clf2 = LogisticRegressionCV(\n",
    "        Cs=10, cv=10, scoring=\"accuracy\", multi_class=\"ovr\", max_iter=300, random_state=42\n",
    "    )\n",
    "    train_model(clf2, node2vec_model=node2vec_model, data_year='2018')\n",
    "\n",
    "    tree_clf = GradientBoostingClassifier(random_state=42)\n",
    "    train_model(tree_clf, node2vec_model=node2vec_model, data_year='2018')\n",
    "\n",
    "    svm_clf = svm.SVC(decision_function_shape='ovo', probability=True) \n",
    "    train_model(svm_clf, node2vec_model=node2vec_model, data_year='2018')"
   ]
  },
  {
   "cell_type": "code",
   "execution_count": null,
   "metadata": {},
   "outputs": [],
   "source": []
  }
 ]
}