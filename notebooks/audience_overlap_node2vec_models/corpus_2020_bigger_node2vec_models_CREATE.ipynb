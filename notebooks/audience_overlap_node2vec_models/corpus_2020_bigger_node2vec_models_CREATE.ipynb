{
 "cells": [
  {
   "cell_type": "code",
   "execution_count": 1,
   "metadata": {},
   "outputs": [],
   "source": [
    "import sys\n",
    "sys.path.append(\"/home/panayot/Documents/site_similarity\")"
   ]
  },
  {
   "cell_type": "code",
   "execution_count": 2,
   "metadata": {},
   "outputs": [],
   "source": [
    "from utils.notebook_utils import load_level_data, create_weighted_nodes, create_graph, create_nodes, create_node2vec_model"
   ]
  },
  {
   "cell_type": "code",
   "execution_count": 3,
   "metadata": {
    "tags": []
   },
   "outputs": [
    {
     "name": "stdout",
     "output_type": "stream",
     "text": [
      "Loaded 26573 nodes with records level <= 3 and child size:128548\n"
     ]
    }
   ],
   "source": [
    "lvl_three_2020 = load_level_data(data_path='/home/paco/Documents/site_similarity/data/corpus_2020_audience_overlap_sites_scrapping_result.json', level=3)"
   ]
  },
  {
   "cell_type": "code",
   "execution_count": 4,
   "metadata": {},
   "outputs": [],
   "source": [
    "lvl_three_nodes_2020 = create_nodes(lvl_three_2020)"
   ]
  },
  {
   "cell_type": "code",
   "execution_count": 5,
   "metadata": {
    "tags": []
   },
   "outputs": [
    {
     "name": "stdout",
     "output_type": "stream",
     "text": [
      "Number of random walks: 673510\n"
     ]
    }
   ],
   "source": [
    "combined_data_unweighted_lvl_one_128D = create_node2vec_model(lvl_three_nodes_2020, dimension=128, is_weighted=False, file_name='corpus_2020_unweighted_lvl_three_128D.model')"
   ]
  },
  {
   "cell_type": "code",
   "execution_count": 6,
   "metadata": {
    "tags": []
   },
   "outputs": [
    {
     "name": "stdout",
     "output_type": "stream",
     "text": [
      "Number of random walks: 673510\n"
     ]
    }
   ],
   "source": [
    "combined_data_unweighted_lvl_one_256D = create_node2vec_model(lvl_three_nodes_2020, dimension=256, is_weighted=False, file_name='corpus_2020_unweighted_lvl_three_256D.model')"
   ]
  },
  {
   "cell_type": "markdown",
   "metadata": {},
   "source": [
    "# Create new corpus 2020 node2vec model with bigger dimensions"
   ]
  },
  {
   "cell_type": "code",
   "execution_count": 3,
   "metadata": {},
   "outputs": [
    {
     "name": "stdout",
     "output_type": "stream",
     "text": [
      "Loaded 26573 nodes with records level <= 3 and child size:128548\n"
     ]
    }
   ],
   "source": [
    "lvl_three_2020 = load_level_data(data_path='/home/panayot/Documents/site_similarity/data/corpus_2020_audience_overlap_sites_scrapping_result.json', level=3)"
   ]
  },
  {
   "cell_type": "code",
   "execution_count": 4,
   "metadata": {},
   "outputs": [],
   "source": [
    "lvl_three_nodes_2020 = create_nodes(lvl_three_2020)"
   ]
  },
  {
   "cell_type": "code",
   "execution_count": 6,
   "metadata": {},
   "outputs": [
    {
     "name": "stdout",
     "output_type": "stream",
     "text": [
      "Start creating random walks\n",
      "Number of random walks: 673510\n",
      "Successful save of model: corpus_2020_audience_overlap_sites_lvl_three_unweighted_64D.model!\n",
      "Successful save of model: corpus_2020_audience_overlap_sites_lvl_three_unweighted_512D.model!\n",
      "Successful save of model: corpus_2020_audience_overlap_sites_lvl_three_unweighted_1024D.model!\n"
     ]
    }
   ],
   "source": [
    "create_node2vec_model(lvl_three_nodes_2020, dimensions=[64, 512, 1024], is_weighted=False, prefix='corpus_2020_audience_overlap_sites_lvl_three')"
   ]
  },
  {
   "cell_type": "code",
   "execution_count": 7,
   "metadata": {},
   "outputs": [
    {
     "name": "stdout",
     "output_type": "stream",
     "text": [
      "Loaded 67351 nodes with records level <= 4 and child size:324417\n",
      "Start creating random walks\n",
      "Number of random walks: 1685230\n",
      "Successful save of model: corpus_2020_audience_overlap_sites_lvl_four_unweighted_64D.model!\n",
      "Successful save of model: corpus_2020_audience_overlap_sites_lvl_four_unweighted_128D.model!\n",
      "Successful save of model: corpus_2020_audience_overlap_sites_lvl_four_unweighted_256D.model!\n",
      "Successful save of model: corpus_2020_audience_overlap_sites_lvl_four_unweighted_512D.model!\n",
      "Successful save of model: corpus_2020_audience_overlap_sites_lvl_four_unweighted_1024D.model!\n"
     ]
    }
   ],
   "source": [
    "lvl_four_2020 = load_level_data(data_path='/home/panayot/Documents/site_similarity/data/corpus_2020_audience_overlap_sites_scrapping_result.json', level=4)\n",
    "\n",
    "lvl_four_nodes_2020 = create_nodes(lvl_four_2020)\n",
    "\n",
    "create_node2vec_model(lvl_four_nodes_2020, dimensions=[64, 128, 256, 512, 1024], is_weighted=False, prefix='corpus_2020_audience_overlap_sites_lvl_four')"
   ]
  },
  {
   "cell_type": "markdown",
   "metadata": {},
   "source": [
    "# Create weighted models"
   ]
  },
  {
   "cell_type": "code",
   "execution_count": 7,
   "metadata": {},
   "outputs": [],
   "source": [
    "lvl_three_weighted_nodes_2020 = create_weighted_nodes(lvl_three_2020)"
   ]
  },
  {
   "cell_type": "code",
   "execution_count": 10,
   "metadata": {
    "tags": []
   },
   "outputs": [
    {
     "name": "stdout",
     "output_type": "stream",
     "text": [
      "Number of random walks: 673510\n"
     ]
    }
   ],
   "source": [
    "combined_data_weighted_lvl_one_128D = create_node2vec_model(lvl_three_weighted_nodes_2020, dimension=128, is_weighted=True, file_name='corpus_2020_weighted_lvl_three_128D.model')"
   ]
  },
  {
   "cell_type": "code",
   "execution_count": 11,
   "metadata": {
    "tags": []
   },
   "outputs": [
    {
     "name": "stdout",
     "output_type": "stream",
     "text": [
      "Number of random walks: 673510\n"
     ]
    }
   ],
   "source": [
    "combined_data_weighted_lvl_one_256D = create_node2vec_model(lvl_three_weighted_nodes_2020, dimension=256, is_weighted=True, file_name='corpus_2020_weighted_lvl_three_256D.model')"
   ]
  },
  {
   "cell_type": "code",
   "execution_count": null,
   "metadata": {},
   "outputs": [],
   "source": []
  }
 ],
 "metadata": {
  "kernelspec": {
   "display_name": "Python 3.7.9 64-bit ('site_similarity': conda)",
   "metadata": {
    "interpreter": {
     "hash": "72b3faef5542ae75c34eb0d3b11ce0fc432eb00b9ccfc309dfbebb58f482608a"
    }
   },
   "name": "python3"
  },
  "language_info": {
   "codemirror_mode": {
    "name": "ipython",
    "version": 3
   },
   "file_extension": ".py",
   "mimetype": "text/x-python",
   "name": "python",
   "nbconvert_exporter": "python",
   "pygments_lexer": "ipython3",
   "version": "3.7.9"
  },
  "orig_nbformat": 2
 },
 "nbformat": 4,
 "nbformat_minor": 2
}