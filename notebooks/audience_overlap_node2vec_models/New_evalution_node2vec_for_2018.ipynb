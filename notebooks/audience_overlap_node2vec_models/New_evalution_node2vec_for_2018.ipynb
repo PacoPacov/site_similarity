{
 "metadata": {
  "language_info": {
   "codemirror_mode": {
    "name": "ipython",
    "version": 3
   },
   "file_extension": ".py",
   "mimetype": "text/x-python",
   "name": "python",
   "nbconvert_exporter": "python",
   "pygments_lexer": "ipython3",
   "version": "3.6.10-final"
  },
  "orig_nbformat": 2,
  "kernelspec": {
   "name": "python361064bitsitesimilarityconda5cc228f1d50144ce9681545e76d7f6e7",
   "display_name": "Python 3.6.10 64-bit ('site_similarity': conda)"
  }
 },
 "nbformat": 4,
 "nbformat_minor": 2,
 "cells": [
  {
   "cell_type": "code",
   "execution_count": 1,
   "metadata": {},
   "outputs": [],
   "source": [
    "import sys,os\n",
    "sys.path.append(\"/home/paco/Documents/site_similarity\")"
   ]
  },
  {
   "cell_type": "code",
   "execution_count": 2,
   "metadata": {
    "tags": []
   },
   "outputs": [
    {
     "output_type": "stream",
     "name": "stdout",
     "text": "Using model: corpus_2018_unweighted_lvl_one_64D.model\nStart training...\n[Parallel(n_jobs=1)]: Using backend SequentialBackend with 1 concurrent workers.\n[Parallel(n_jobs=1)]: Done  15 out of  15 | elapsed:    4.4s finished\n[Parallel(n_jobs=1)]: Using backend SequentialBackend with 1 concurrent workers.\nERROR:root:Internal Python error in the inspect module.\nBelow is the traceback from this internal error.\n\nTraceback (most recent call last):\n  File \"/home/paco/.conda/envs/site_similarity/lib/python3.6/site-packages/IPython/core/interactiveshell.py\", line 3331, in run_code\n    exec(code_obj, self.user_global_ns, self.user_ns)\n  File \"<ipython-input-2-e0cc06b1435b>\", line 22, in <module>\n    train_model(clf, node2vec_model=node2vec_model, data_year='2018')\n  File \"/home/paco/Documents/site_similarity/utils/notebook_utils.py\", line 122, in train_model\n    clf.fit(X[\"train\"], y[\"train\"])\n  File \"/home/paco/.conda/envs/site_similarity/lib/python3.6/site-packages/sklearn/linear_model/_logistic.py\", line 1899, in fit\n    for label in iter_encoded_labels\n  File \"/home/paco/.conda/envs/site_similarity/lib/python3.6/site-packages/joblib/parallel.py\", line 1032, in __call__\n    while self.dispatch_one_batch(iterator):\n  File \"/home/paco/.conda/envs/site_similarity/lib/python3.6/site-packages/joblib/parallel.py\", line 847, in dispatch_one_batch\n    self._dispatch(tasks)\n  File \"/home/paco/.conda/envs/site_similarity/lib/python3.6/site-packages/joblib/parallel.py\", line 765, in _dispatch\n    job = self._backend.apply_async(batch, callback=cb)\n  File \"/home/paco/.conda/envs/site_similarity/lib/python3.6/site-packages/joblib/_parallel_backends.py\", line 208, in apply_async\n    result = ImmediateResult(func)\n  File \"/home/paco/.conda/envs/site_similarity/lib/python3.6/site-packages/joblib/_parallel_backends.py\", line 572, in __init__\n    self.results = batch()\n  File \"/home/paco/.conda/envs/site_similarity/lib/python3.6/site-packages/joblib/parallel.py\", line 253, in __call__\n    for func, args, kwargs in self.items]\n  File \"/home/paco/.conda/envs/site_similarity/lib/python3.6/site-packages/joblib/parallel.py\", line 253, in <listcomp>\n    for func, args, kwargs in self.items]\n  File \"/home/paco/.conda/envs/site_similarity/lib/python3.6/site-packages/sklearn/linear_model/_logistic.py\", line 972, in _log_reg_scoring_path\n    max_squared_sum=max_squared_sum, sample_weight=sample_weight)\n  File \"/home/paco/.conda/envs/site_similarity/lib/python3.6/site-packages/sklearn/linear_model/_logistic.py\", line 632, in _logistic_regression_path\n    Cs = np.logspace(-4, 4, Cs)\n  File \"<__array_function__ internals>\", line 6, in logspace\n  File \"/home/paco/.conda/envs/site_similarity/lib/python3.6/site-packages/numpy/core/function_base.py\", line 272, in logspace\n    y = linspace(start, stop, num=num, endpoint=endpoint, axis=axis)\n  File \"<__array_function__ internals>\", line 6, in linspace\n  File \"/home/paco/.conda/envs/site_similarity/lib/python3.6/site-packages/numpy/core/function_base.py\", line 132, in linspace\n    dt = result_type(start, stop, float(num))\n  File \"<__array_function__ internals>\", line 6, in result_type\nKeyboardInterrupt\n\nDuring handling of the above exception, another exception occurred:\n\nTraceback (most recent call last):\n  File \"/home/paco/.conda/envs/site_similarity/lib/python3.6/site-packages/IPython/core/interactiveshell.py\", line 2044, in showtraceback\n    stb = value._render_traceback_()\nAttributeError: 'KeyboardInterrupt' object has no attribute '_render_traceback_'\n\nDuring handling of the above exception, another exception occurred:\n\nTraceback (most recent call last):\n  File \"/home/paco/.conda/envs/site_similarity/lib/python3.6/site-packages/IPython/core/ultratb.py\", line 1148, in get_records\n    return _fixed_getinnerframes(etb, number_of_lines_of_context, tb_offset)\n  File \"/home/paco/.conda/envs/site_similarity/lib/python3.6/site-packages/IPython/core/ultratb.py\", line 316, in wrapped\n    return f(*args, **kwargs)\n  File \"/home/paco/.conda/envs/site_similarity/lib/python3.6/site-packages/IPython/core/ultratb.py\", line 350, in _fixed_getinnerframes\n    records = fix_frame_records_filenames(inspect.getinnerframes(etb, context))\n  File \"/home/paco/.conda/envs/site_similarity/lib/python3.6/inspect.py\", line 1490, in getinnerframes\n    frameinfo = (tb.tb_frame,) + getframeinfo(tb, context)\n  File \"/home/paco/.conda/envs/site_similarity/lib/python3.6/inspect.py\", line 1448, in getframeinfo\n    filename = getsourcefile(frame) or getfile(frame)\n  File \"/home/paco/.conda/envs/site_similarity/lib/python3.6/inspect.py\", line 696, in getsourcefile\n    if getattr(getmodule(object, filename), '__loader__', None) is not None:\n  File \"/home/paco/.conda/envs/site_similarity/lib/python3.6/inspect.py\", line 732, in getmodule\n    for modname, module in list(sys.modules.items()):\nKeyboardInterrupt\n"
    },
    {
     "output_type": "error",
     "ename": "KeyboardInterrupt",
     "evalue": "",
     "traceback": [
      "\u001b[0;31m---------------------------------------------------------------------------\u001b[0m"
     ]
    }
   ],
   "source": [
    "from utils.notebook_utils import train_model, load_node2vec_model\n",
    "from sklearn.linear_model import LogisticRegressionCV\n",
    "from sklearn.ensemble import GradientBoostingClassifier\n",
    "from sklearn import svm\n",
    "\n",
    "\n",
    "models = [\n",
    "    'corpus_2018_unweighted_lvl_one_64D.model',\n",
    "    'corpus_2018_unweighted_lvl_one_128D.model',\n",
    "    'corpus_2018_weighted_lvl_one_64D.model',\n",
    "    'corpus_2018_weighted_lvl_one_128D.model'\n",
    "]\n",
    "\n",
    "\n",
    "for model in models:\n",
    "    print(f'Using model: {model}')\n",
    "    node2vec_model = load_node2vec_model(model)\n",
    "\n",
    "    clf = LogisticRegressionCV(\n",
    "        Cs=10, cv=5, scoring=\"accuracy\", multi_class=\"ovr\", max_iter=300, random_state=42\n",
    "    )\n",
    "    train_model(clf, node2vec_model=node2vec_model, data_year='2018')\n",
    "\n",
    "\n",
    "    clf2 = LogisticRegressionCV(\n",
    "        Cs=10, cv=10, scoring=\"accuracy\", multi_class=\"ovr\", max_iter=300, random_state=42\n",
    "    )\n",
    "    train_model(clf2, node2vec_model=node2vec_model, data_year='2018')\n",
    "\n",
    "    tree_clf = GradientBoostingClassifier(random_state=42)\n",
    "    train_model(tree_clf, node2vec_model=node2vec_model, data_year='2018')\n",
    "\n",
    "    svm_clf = svm.SVC(decision_function_shape='ovo', probability=True) \n",
    "    train_model(svm_clf, node2vec_model=node2vec_model, data_year='2018')"
   ]
  },
  {
   "cell_type": "code",
   "execution_count": null,
   "metadata": {},
   "outputs": [],
   "source": []
  }
 ]
}