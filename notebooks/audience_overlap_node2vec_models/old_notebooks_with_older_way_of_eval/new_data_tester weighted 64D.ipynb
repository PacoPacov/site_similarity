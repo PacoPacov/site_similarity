{
 "metadata": {
  "language_info": {
   "codemirror_mode": {
    "name": "ipython",
    "version": 3
   },
   "file_extension": ".py",
   "mimetype": "text/x-python",
   "name": "python",
   "nbconvert_exporter": "python",
   "pygments_lexer": "ipython3",
   "version": "3.6.10-final"
  },
  "orig_nbformat": 2,
  "kernelspec": {
   "name": "python361064bitsitesimilarityconda5cc228f1d50144ce9681545e76d7f6e7",
   "display_name": "Python 3.6.10 64-bit ('site_similarity': conda)"
  }
 },
 "nbformat": 4,
 "nbformat_minor": 2,
 "cells": [
  {
   "cell_type": "code",
   "execution_count": 1,
   "metadata": {},
   "outputs": [],
   "source": [
    "import sys,os\n",
    "sys.path.append(\"/home/paco/Documents/site_similarity\")"
   ]
  },
  {
   "cell_type": "code",
   "execution_count": 2,
   "metadata": {},
   "outputs": [],
   "source": [
    "from utils.notebook_utils import load_level_data, create_weighted_nodes, create_graph, draw_graph"
   ]
  },
  {
   "cell_type": "code",
   "execution_count": 3,
   "metadata": {
    "tags": []
   },
   "outputs": [
    {
     "output_type": "stream",
     "name": "stdout",
     "text": "Loaded 4238 nodes with records level <= 1 and child size:20335\n"
    }
   ],
   "source": [
    "lvl_one = load_level_data(level=1)  "
   ]
  },
  {
   "cell_type": "code",
   "execution_count": 4,
   "metadata": {},
   "outputs": [],
   "source": [
    "lvl_one_nodes = create_weighted_nodes(lvl_one)"
   ]
  },
  {
   "cell_type": "code",
   "execution_count": 5,
   "metadata": {},
   "outputs": [
    {
     "output_type": "execute_result",
     "data": {
      "text/plain": "[('villagevoice.com', 'nylon.com', 4.1),\n ('villagevoice.com', 'slantmagazine.com', 2.5),\n ('villagevoice.com', 'gothamist.com', 2.4),\n ('villagevoice.com', 'screendaily.com', 2.1),\n ('villagevoice.com', 'amny.com', 2.1),\n ('insideclimatenews.org', 'wri.org', 12.8),\n ('insideclimatenews.org', 'carbonbrief.org', 12.3),\n ('insideclimatenews.org', 'oneonta.edu', 10.1),\n ('insideclimatenews.org', 'skepticalscience.com', 6.7),\n ('insideclimatenews.org', 'ucsusa.org', 5.2)]"
     },
     "metadata": {},
     "execution_count": 5
    }
   ],
   "source": [
    "lvl_one_nodes[:10]"
   ]
  },
  {
   "cell_type": "code",
   "execution_count": 6,
   "metadata": {},
   "outputs": [
    {
     "output_type": "execute_result",
     "data": {
      "text/plain": "[('politicalmayhem.news', 'politicalmayhem.news', 0.5)]"
     },
     "metadata": {},
     "execution_count": 6
    }
   ],
   "source": [
    "[(k, v, w) for k, v, w in lvl_one_nodes if k == 'politicalmayhem.news']"
   ]
  },
  {
   "cell_type": "code",
   "execution_count": 7,
   "metadata": {},
   "outputs": [],
   "source": [
    "from stellargraph import StellarGraph\n",
    "import pandas as pd\n",
    "\n",
    "\n",
    "lvl_one_graph = StellarGraph(edges=pd.DataFrame(lvl_one_nodes, columns=['source', 'target', 'weight']))"
   ]
  },
  {
   "cell_type": "code",
   "execution_count": 8,
   "metadata": {
    "tags": []
   },
   "outputs": [
    {
     "output_type": "stream",
     "name": "stdout",
     "text": "StellarGraph: Undirected multigraph\n Nodes: 11865, Edges: 20399\n\n Node types:\n  default: [11865]\n    Features: none\n    Edge types: default-default->default\n\n Edge types:\n    default-default->default: [20399]\n        Weights: range=[0.5, 96.2], mean=13.1116, std=12.6289\n        Features: none\n"
    }
   ],
   "source": [
    "print(lvl_one_graph.info())"
   ]
  },
  {
   "cell_type": "code",
   "execution_count": 9,
   "metadata": {
    "tags": []
   },
   "outputs": [
    {
     "output_type": "stream",
     "name": "stdout",
     "text": "Number of random walks: 118650\n"
    }
   ],
   "source": [
    "from stellargraph.data import BiasedRandomWalk\n",
    "\n",
    "rw = BiasedRandomWalk(lvl_one_graph)\n",
    "\n",
    "walks = rw.run(\n",
    "    nodes=list(lvl_one_graph.nodes()),  # root nodes\n",
    "    length=100,  # maximum length of a random walk\n",
    "    n=10,  # number of random walks per root node\n",
    "    p=0.5,  # Defines (unormalised) probability, 1/p, of returning to source node\n",
    "    q=2.0,  # Defines (unormalised) probability, 1/q, for moving away from source node\n",
    "    weighted=True,  # for weighted random walks\n",
    "    seed=42,  # random seed fixed for reproducibility\n",
    ")\n",
    "print(\"Number of random walks: {}\".format(len(walks)))"
   ]
  },
  {
   "cell_type": "code",
   "execution_count": 10,
   "metadata": {},
   "outputs": [],
   "source": [
    "from gensim.models import Word2Vec\n",
    "\n",
    "str_walks = [[str(n) for n in walk] for walk in walks]\n",
    "model = Word2Vec(str_walks, size=64, window=5, min_count=0, sg=1, workers=2, iter=1)\n",
    "\n",
    "model.save(\"node2vec_lvl_one_new_data_WEIGHTED_64.model\")"
   ]
  },
  {
   "cell_type": "code",
   "execution_count": 11,
   "metadata": {},
   "outputs": [
    {
     "output_type": "execute_result",
     "data": {
      "text/plain": "(64,)"
     },
     "metadata": {},
     "execution_count": 11
    }
   ],
   "source": [
    "model.wv['villagevoice.com'].shape"
   ]
  },
  {
   "cell_type": "code",
   "execution_count": 12,
   "metadata": {
    "tags": []
   },
   "outputs": [
    {
     "output_type": "stream",
     "name": "stdout",
     "text": "dict_keys(['test-0', 'train-0', 'test-1', 'train-1', 'test-2', 'train-2', 'test-3', 'train-3', 'test-4', 'train-4'])\n"
    }
   ],
   "source": [
    "from dataprep.load_annotated_data import apply_splits\n",
    "from utils.notebook_utils import load_corpus\n",
    "from modelling.baselines import eval_model\n",
    "\n",
    "DATA = load_corpus('modified_corpus.csv')\n",
    "SPLITS = apply_splits(DATA)\n",
    "\n",
    "print(SPLITS.keys())\n",
    "\n",
    "train = pd.DataFrame(SPLITS['train-0'])\n",
    "\n",
    "test = pd.DataFrame(SPLITS['test-0'])"
   ]
  },
  {
   "cell_type": "code",
   "execution_count": 13,
   "metadata": {},
   "outputs": [],
   "source": [
    "X_train = train.apply(lambda x: model.wv[x['source_url_processed']], axis=1)\n",
    "\n",
    "y_train = train.apply(lambda x: x['fact'], axis=1)"
   ]
  },
  {
   "cell_type": "code",
   "execution_count": 14,
   "metadata": {},
   "outputs": [],
   "source": [
    "X_test = test.apply(lambda x: model.wv[x['source_url_processed']], axis=1)\n",
    "\n",
    "y_test = test.apply(lambda x: x['fact'], axis=1)"
   ]
  },
  {
   "cell_type": "code",
   "execution_count": 15,
   "metadata": {
    "tags": []
   },
   "outputs": [
    {
     "output_type": "stream",
     "name": "stderr",
     "text": "[Parallel(n_jobs=1)]: Using backend SequentialBackend with 1 concurrent workers.\n[Parallel(n_jobs=1)]: Done  30 out of  30 | elapsed:    2.3s finished\n"
    },
    {
     "output_type": "execute_result",
     "data": {
      "text/plain": "LogisticRegressionCV(cv=10, max_iter=300, multi_class='ovr', scoring='accuracy',\n                     verbose=True)"
     },
     "metadata": {},
     "execution_count": 15
    }
   ],
   "source": [
    "from sklearn.linear_model import LogisticRegressionCV\n",
    "from sklearn.metrics import accuracy_score\n",
    "\n",
    "clf = LogisticRegressionCV(\n",
    "    Cs=10, cv=10, scoring=\"accuracy\", verbose=True, multi_class=\"ovr\", max_iter=300\n",
    ")\n",
    "clf.fit(X_train.values.tolist(), y_train.values.tolist())"
   ]
  },
  {
   "cell_type": "code",
   "execution_count": 16,
   "metadata": {},
   "outputs": [
    {
     "output_type": "execute_result",
     "data": {
      "text/plain": "0.5761904761904761"
     },
     "metadata": {},
     "execution_count": 16
    }
   ],
   "source": [
    "y_pred = clf.predict(X_test.values.tolist())\n",
    "\n",
    "accuracy_score(y_test, y_pred)"
   ]
  },
  {
   "cell_type": "code",
   "execution_count": 17,
   "metadata": {},
   "outputs": [],
   "source": [
    "from sklearn.ensemble import GradientBoostingClassifier\n",
    "\n",
    "clf = GradientBoostingClassifier(random_state=42)"
   ]
  },
  {
   "cell_type": "code",
   "execution_count": 18,
   "metadata": {},
   "outputs": [
    {
     "output_type": "execute_result",
     "data": {
      "text/plain": "GradientBoostingClassifier(random_state=42)"
     },
     "metadata": {},
     "execution_count": 18
    }
   ],
   "source": [
    "clf.fit(X_train.tolist(), y_train.tolist())"
   ]
  },
  {
   "cell_type": "code",
   "execution_count": 19,
   "metadata": {},
   "outputs": [
    {
     "output_type": "execute_result",
     "data": {
      "text/plain": "0.5857142857142857"
     },
     "metadata": {},
     "execution_count": 19
    }
   ],
   "source": [
    "tree_predict = clf.predict(X_test.tolist())\n",
    "accuracy_score(y_test, tree_predict)"
   ]
  },
  {
   "cell_type": "code",
   "execution_count": 20,
   "metadata": {},
   "outputs": [
    {
     "output_type": "execute_result",
     "data": {
      "text/plain": "SVC(decision_function_shape='ovo')"
     },
     "metadata": {},
     "execution_count": 20
    }
   ],
   "source": [
    "from sklearn import svm\n",
    "\n",
    "svm_clf = svm.SVC(decision_function_shape='ovo')\n",
    "\n",
    "svm_clf.fit(X_train.tolist(), y_train.tolist())"
   ]
  },
  {
   "cell_type": "code",
   "execution_count": 21,
   "metadata": {},
   "outputs": [
    {
     "output_type": "execute_result",
     "data": {
      "text/plain": "0.5952380952380952"
     },
     "metadata": {},
     "execution_count": 21
    }
   ],
   "source": [
    "svm_predict = svm_clf.predict(X_test.tolist())\n",
    "accuracy_score(y_test, svm_predict)"
   ]
  },
  {
   "cell_type": "code",
   "execution_count": 22,
   "metadata": {},
   "outputs": [
    {
     "output_type": "execute_result",
     "data": {
      "text/plain": "LinearSVC()"
     },
     "metadata": {},
     "execution_count": 22
    }
   ],
   "source": [
    "lin_clf = svm.LinearSVC() # one-vs-rest\n",
    "lin_clf.fit(X_train.tolist(), y_train.tolist())"
   ]
  },
  {
   "cell_type": "code",
   "execution_count": 23,
   "metadata": {},
   "outputs": [
    {
     "output_type": "execute_result",
     "data": {
      "text/plain": "0.5761904761904761"
     },
     "metadata": {},
     "execution_count": 23
    }
   ],
   "source": [
    "lin_predict = lin_clf.predict(X_test.tolist())\n",
    "accuracy_score(y_test, lin_predict)"
   ]
  },
  {
   "cell_type": "code",
   "execution_count": null,
   "metadata": {},
   "outputs": [],
   "source": []
  },
  {
   "cell_type": "code",
   "execution_count": null,
   "metadata": {},
   "outputs": [],
   "source": []
  }
 ]
}