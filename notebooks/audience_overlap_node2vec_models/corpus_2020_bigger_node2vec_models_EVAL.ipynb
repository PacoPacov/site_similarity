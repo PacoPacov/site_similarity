{
 "cells": [
  {
   "cell_type": "code",
   "execution_count": 1,
   "metadata": {},
   "outputs": [],
   "source": [
    "import sys\n",
    "sys.path.append(\"/home/panayot/Documents/site_similarity\")"
   ]
  },
  {
   "cell_type": "code",
   "execution_count": 2,
   "metadata": {},
   "outputs": [],
   "source": [
    "from utils.notebook_utils import eval_node2vec_models"
   ]
  },
  {
   "cell_type": "code",
   "execution_count": 3,
   "metadata": {},
   "outputs": [],
   "source": [
    "models = [\n",
    "    'corpus_2020_audience_overlap_sites_lvl_three_unweighted_64D.model',\n",
    "    'corpus_2020_audience_overlap_sites_lvl_three_unweighted_512D.model',\n",
    "    'corpus_2020_audience_overlap_sites_lvl_three_unweighted_1024D.model',\n",
    "    'corpus_2020_audience_overlap_sites_lvl_four_unweighted_64D.model',\n",
    "    'corpus_2020_audience_overlap_sites_lvl_four_unweighted_128D.model',\n",
    "    'corpus_2020_audience_overlap_sites_lvl_four_unweighted_256D.model',\n",
    "    'corpus_2020_audience_overlap_sites_lvl_four_unweighted_512D.model',\n",
    "    'corpus_2020_audience_overlap_sites_lvl_four_unweighted_1024D.model'\n",
    "]"
   ]
  },
  {
   "cell_type": "code",
   "execution_count": 4,
   "metadata": {},
   "outputs": [
    {
     "name": "stdout",
     "output_type": "stream",
     "text": [
      "Using model: corpus_2020_audience_overlap_sites_lvl_three_unweighted_64D.model\n",
      "Start training...\n",
      "Start training...\n",
      "Start training...\n",
      "Start training...\n",
      "Using model: corpus_2020_audience_overlap_sites_lvl_three_unweighted_512D.model\n",
      "Start training...\n",
      "Start training...\n",
      "Start training...\n",
      "Start training...\n",
      "Using model: corpus_2020_audience_overlap_sites_lvl_three_unweighted_1024D.model\n",
      "Start training...\n",
      "Start training...\n",
      "Start training...\n",
      "Start training...\n",
      "Using model: corpus_2020_audience_overlap_sites_lvl_four_unweighted_64D.model\n",
      "Start training...\n",
      "Start training...\n",
      "Start training...\n",
      "Start training...\n",
      "Using model: corpus_2020_audience_overlap_sites_lvl_four_unweighted_128D.model\n",
      "Start training...\n",
      "Start training...\n",
      "Start training...\n",
      "Start training...\n",
      "Using model: corpus_2020_audience_overlap_sites_lvl_four_unweighted_256D.model\n",
      "Start training...\n",
      "Start training...\n",
      "Start training...\n",
      "Start training...\n",
      "Using model: corpus_2020_audience_overlap_sites_lvl_four_unweighted_512D.model\n",
      "Start training...\n",
      "Start training...\n",
      "Start training...\n",
      "Start training...\n",
      "Using model: corpus_2020_audience_overlap_sites_lvl_four_unweighted_1024D.model\n",
      "Start training...\n",
      "Start training...\n",
      "Start training...\n",
      "Start training...\n"
     ]
    }
   ],
   "source": [
    "results_2020 = eval_node2vec_models(models, data_year='2020')"
   ]
  },
  {
   "cell_type": "code",
   "execution_count": 5,
   "metadata": {},
   "outputs": [
    {
     "data": {
      "text/html": "<div>\n<style scoped>\n    .dataframe tbody tr th:only-of-type {\n        vertical-align: middle;\n    }\n\n    .dataframe tbody tr th {\n        vertical-align: top;\n    }\n\n    .dataframe thead th {\n        text-align: right;\n    }\n</style>\n<table border=\"1\" class=\"dataframe\">\n  <thead>\n    <tr style=\"text-align: right;\">\n      <th></th>\n      <th>Feature</th>\n      <th>Classifier</th>\n      <th>Accuracy</th>\n      <th>Balanced Accuracy score</th>\n      <th>F1 micro score</th>\n      <th>F1 macro score</th>\n      <th>F1 weighted score</th>\n      <th>MAE</th>\n      <th>Confusion matrix</th>\n    </tr>\n  </thead>\n  <tbody>\n    <tr>\n      <th>0</th>\n      <td>corpus_2020_audience_overlap_sites_lvl_three_u...</td>\n      <td>LogisticRegression CV = 5</td>\n      <td>0.563446</td>\n      <td>0.404711</td>\n      <td>0.563446</td>\n      <td>0.360921</td>\n      <td>0.454235</td>\n      <td>0.589057</td>\n      <td>[[31, 8, 123], [18, 11, 216], [8, 2, 442]]</td>\n    </tr>\n    <tr>\n      <th>1</th>\n      <td>corpus_2020_audience_overlap_sites_lvl_three_u...</td>\n      <td>LogisticRegression CV = 10</td>\n      <td>0.555297</td>\n      <td>0.396655</td>\n      <td>0.555297</td>\n      <td>0.337130</td>\n      <td>0.430607</td>\n      <td>0.604191</td>\n      <td>[[34, 0, 128], [21, 0, 224], [9, 0, 443]]</td>\n    </tr>\n    <tr>\n      <th>2</th>\n      <td>corpus_2020_audience_overlap_sites_lvl_three_u...</td>\n      <td>GradientBoostingClassifier</td>\n      <td>0.612340</td>\n      <td>0.524037</td>\n      <td>0.612340</td>\n      <td>0.533535</td>\n      <td>0.591380</td>\n      <td>0.477299</td>\n      <td>[[63, 41, 58], [31, 85, 129], [19, 55, 378]]</td>\n    </tr>\n    <tr>\n      <th>3</th>\n      <td>corpus_2020_audience_overlap_sites_lvl_three_u...</td>\n      <td>SVC ovo</td>\n      <td>0.654249</td>\n      <td>0.549487</td>\n      <td>0.654249</td>\n      <td>0.560604</td>\n      <td>0.621263</td>\n      <td>0.431898</td>\n      <td>[[65, 35, 62], [29, 79, 137], [12, 22, 418]]</td>\n    </tr>\n    <tr>\n      <th>4</th>\n      <td>corpus_2020_audience_overlap_sites_lvl_three_u...</td>\n      <td>LogisticRegression CV = 5</td>\n      <td>0.570431</td>\n      <td>0.412430</td>\n      <td>0.570431</td>\n      <td>0.383564</td>\n      <td>0.482604</td>\n      <td>0.559953</td>\n      <td>[[25, 31, 106], [22, 29, 194], [6, 10, 436]]</td>\n    </tr>\n    <tr>\n      <th>5</th>\n      <td>corpus_2020_audience_overlap_sites_lvl_three_u...</td>\n      <td>LogisticRegression CV = 10</td>\n      <td>0.578580</td>\n      <td>0.438894</td>\n      <td>0.578580</td>\n      <td>0.426851</td>\n      <td>0.514393</td>\n      <td>0.534342</td>\n      <td>[[35, 39, 88], [27, 42, 176], [9, 23, 420]]</td>\n    </tr>\n    <tr>\n      <th>6</th>\n      <td>corpus_2020_audience_overlap_sites_lvl_three_u...</td>\n      <td>GradientBoostingClassifier</td>\n      <td>0.621653</td>\n      <td>0.532503</td>\n      <td>0.621653</td>\n      <td>0.541594</td>\n      <td>0.601545</td>\n      <td>0.455180</td>\n      <td>[[64, 46, 52], [36, 87, 122], [14, 55, 383]]</td>\n    </tr>\n    <tr>\n      <th>7</th>\n      <td>corpus_2020_audience_overlap_sites_lvl_three_u...</td>\n      <td>SVC ovo</td>\n      <td>0.656577</td>\n      <td>0.552610</td>\n      <td>0.656577</td>\n      <td>0.565673</td>\n      <td>0.627413</td>\n      <td>0.424913</td>\n      <td>[[62, 41, 59], [27, 88, 130], [11, 27, 414]]</td>\n    </tr>\n    <tr>\n      <th>8</th>\n      <td>corpus_2020_audience_overlap_sites_lvl_three_u...</td>\n      <td>LogisticRegression CV = 5</td>\n      <td>0.548312</td>\n      <td>0.385260</td>\n      <td>0.548312</td>\n      <td>0.334836</td>\n      <td>0.437585</td>\n      <td>0.608847</td>\n      <td>[[24, 14, 124], [24, 10, 211], [11, 4, 437]]</td>\n    </tr>\n    <tr>\n      <th>9</th>\n      <td>corpus_2020_audience_overlap_sites_lvl_three_u...</td>\n      <td>LogisticRegression CV = 10</td>\n      <td>0.564610</td>\n      <td>0.418607</td>\n      <td>0.564610</td>\n      <td>0.396463</td>\n      <td>0.486559</td>\n      <td>0.572759</td>\n      <td>[[32, 25, 105], [24, 30, 191], [13, 16, 423]]</td>\n    </tr>\n    <tr>\n      <th>10</th>\n      <td>corpus_2020_audience_overlap_sites_lvl_three_u...</td>\n      <td>GradientBoostingClassifier</td>\n      <td>0.633295</td>\n      <td>0.541599</td>\n      <td>0.633295</td>\n      <td>0.551898</td>\n      <td>0.612758</td>\n      <td>0.450524</td>\n      <td>[[62, 45, 55], [32, 94, 119], [17, 47, 388]]</td>\n    </tr>\n    <tr>\n      <th>11</th>\n      <td>corpus_2020_audience_overlap_sites_lvl_three_u...</td>\n      <td>SVC ovo</td>\n      <td>0.653085</td>\n      <td>0.547134</td>\n      <td>0.653085</td>\n      <td>0.558589</td>\n      <td>0.623175</td>\n      <td>0.429569</td>\n      <td>[[60, 43, 59], [29, 87, 129], [12, 26, 414]]</td>\n    </tr>\n    <tr>\n      <th>12</th>\n      <td>corpus_2020_audience_overlap_sites_lvl_four_un...</td>\n      <td>LogisticRegression CV = 5</td>\n      <td>0.585565</td>\n      <td>0.435281</td>\n      <td>0.585565</td>\n      <td>0.420774</td>\n      <td>0.519319</td>\n      <td>0.534342</td>\n      <td>[[19, 42, 101], [15, 63, 167], [2, 29, 421]]</td>\n    </tr>\n    <tr>\n      <th>13</th>\n      <td>corpus_2020_audience_overlap_sites_lvl_four_un...</td>\n      <td>LogisticRegression CV = 10</td>\n      <td>0.582072</td>\n      <td>0.428707</td>\n      <td>0.582072</td>\n      <td>0.411869</td>\n      <td>0.510634</td>\n      <td>0.549476</td>\n      <td>[[19, 34, 109], [15, 56, 174], [4, 23, 425]]</td>\n    </tr>\n    <tr>\n      <th>14</th>\n      <td>corpus_2020_audience_overlap_sites_lvl_four_un...</td>\n      <td>GradientBoostingClassifier</td>\n      <td>0.599534</td>\n      <td>0.499608</td>\n      <td>0.599534</td>\n      <td>0.507584</td>\n      <td>0.575264</td>\n      <td>0.476135</td>\n      <td>[[53, 56, 53], [32, 80, 133], [12, 58, 382]]</td>\n    </tr>\n    <tr>\n      <th>15</th>\n      <td>corpus_2020_audience_overlap_sites_lvl_four_un...</td>\n      <td>SVC ovo</td>\n      <td>0.636787</td>\n      <td>0.517926</td>\n      <td>0.636787</td>\n      <td>0.526637</td>\n      <td>0.599749</td>\n      <td>0.442375</td>\n      <td>[[49, 53, 60], [24, 80, 141], [8, 26, 418]]</td>\n    </tr>\n    <tr>\n      <th>16</th>\n      <td>corpus_2020_audience_overlap_sites_lvl_four_un...</td>\n      <td>LogisticRegression CV = 5</td>\n      <td>0.573923</td>\n      <td>0.423841</td>\n      <td>0.573923</td>\n      <td>0.407437</td>\n      <td>0.503345</td>\n      <td>0.550640</td>\n      <td>[[23, 37, 102], [18, 48, 179], [5, 25, 422]]</td>\n    </tr>\n    <tr>\n      <th>17</th>\n      <td>corpus_2020_audience_overlap_sites_lvl_four_un...</td>\n      <td>LogisticRegression CV = 10</td>\n      <td>0.590221</td>\n      <td>0.435738</td>\n      <td>0.590221</td>\n      <td>0.420873</td>\n      <td>0.517811</td>\n      <td>0.543655</td>\n      <td>[[19, 32, 111], [8, 59, 178], [4, 19, 429]]</td>\n    </tr>\n    <tr>\n      <th>18</th>\n      <td>corpus_2020_audience_overlap_sites_lvl_four_un...</td>\n      <td>GradientBoostingClassifier</td>\n      <td>0.591385</td>\n      <td>0.494594</td>\n      <td>0.591385</td>\n      <td>0.502941</td>\n      <td>0.567056</td>\n      <td>0.490105</td>\n      <td>[[55, 48, 59], [33, 76, 136], [11, 64, 377]]</td>\n    </tr>\n    <tr>\n      <th>19</th>\n      <td>corpus_2020_audience_overlap_sites_lvl_four_un...</td>\n      <td>SVC ovo</td>\n      <td>0.626310</td>\n      <td>0.508723</td>\n      <td>0.626310</td>\n      <td>0.516558</td>\n      <td>0.589915</td>\n      <td>0.454016</td>\n      <td>[[48, 53, 61], [25, 78, 142], [8, 32, 412]]</td>\n    </tr>\n    <tr>\n      <th>20</th>\n      <td>corpus_2020_audience_overlap_sites_lvl_four_un...</td>\n      <td>LogisticRegression CV = 5</td>\n      <td>0.582072</td>\n      <td>0.440366</td>\n      <td>0.582072</td>\n      <td>0.430800</td>\n      <td>0.524750</td>\n      <td>0.535506</td>\n      <td>[[25, 43, 94], [25, 62, 158], [7, 32, 413]]</td>\n    </tr>\n    <tr>\n      <th>21</th>\n      <td>corpus_2020_audience_overlap_sites_lvl_four_un...</td>\n      <td>LogisticRegression CV = 10</td>\n      <td>0.592549</td>\n      <td>0.454956</td>\n      <td>0.592549</td>\n      <td>0.448764</td>\n      <td>0.541055</td>\n      <td>0.516880</td>\n      <td>[[23, 48, 91], [18, 79, 148], [3, 42, 407]]</td>\n    </tr>\n    <tr>\n      <th>22</th>\n      <td>corpus_2020_audience_overlap_sites_lvl_four_un...</td>\n      <td>GradientBoostingClassifier</td>\n      <td>0.606519</td>\n      <td>0.512577</td>\n      <td>0.606519</td>\n      <td>0.521845</td>\n      <td>0.583853</td>\n      <td>0.471478</td>\n      <td>[[59, 48, 55], [33, 81, 131], [12, 59, 381]]</td>\n    </tr>\n    <tr>\n      <th>23</th>\n      <td>corpus_2020_audience_overlap_sites_lvl_four_un...</td>\n      <td>SVC ovo</td>\n      <td>0.642608</td>\n      <td>0.529238</td>\n      <td>0.642608</td>\n      <td>0.539941</td>\n      <td>0.610233</td>\n      <td>0.438882</td>\n      <td>[[51, 49, 62], [26, 88, 131], [8, 31, 413]]</td>\n    </tr>\n    <tr>\n      <th>24</th>\n      <td>corpus_2020_audience_overlap_sites_lvl_four_un...</td>\n      <td>LogisticRegression CV = 5</td>\n      <td>0.582072</td>\n      <td>0.436659</td>\n      <td>0.582072</td>\n      <td>0.422115</td>\n      <td>0.523418</td>\n      <td>0.533178</td>\n      <td>[[17, 54, 91], [17, 73, 155], [8, 34, 410]]</td>\n    </tr>\n    <tr>\n      <th>25</th>\n      <td>corpus_2020_audience_overlap_sites_lvl_four_un...</td>\n      <td>LogisticRegression CV = 10</td>\n      <td>0.582072</td>\n      <td>0.440767</td>\n      <td>0.582072</td>\n      <td>0.431158</td>\n      <td>0.526065</td>\n      <td>0.530850</td>\n      <td>[[22, 49, 91], [18, 69, 158], [6, 37, 409]]</td>\n    </tr>\n    <tr>\n      <th>26</th>\n      <td>corpus_2020_audience_overlap_sites_lvl_four_un...</td>\n      <td>GradientBoostingClassifier</td>\n      <td>0.630966</td>\n      <td>0.536459</td>\n      <td>0.630966</td>\n      <td>0.546635</td>\n      <td>0.607604</td>\n      <td>0.444703</td>\n      <td>[[63, 47, 52], [32, 86, 127], [13, 46, 393]]</td>\n    </tr>\n    <tr>\n      <th>27</th>\n      <td>corpus_2020_audience_overlap_sites_lvl_four_un...</td>\n      <td>SVC ovo</td>\n      <td>0.643772</td>\n      <td>0.530673</td>\n      <td>0.643772</td>\n      <td>0.541980</td>\n      <td>0.611308</td>\n      <td>0.434226</td>\n      <td>[[52, 51, 59], [24, 87, 134], [8, 30, 414]]</td>\n    </tr>\n    <tr>\n      <th>28</th>\n      <td>corpus_2020_audience_overlap_sites_lvl_four_un...</td>\n      <td>LogisticRegression CV = 5</td>\n      <td>0.593714</td>\n      <td>0.443189</td>\n      <td>0.593714</td>\n      <td>0.425462</td>\n      <td>0.529207</td>\n      <td>0.519208</td>\n      <td>[[14, 55, 93], [8, 78, 159], [4, 30, 418]]</td>\n    </tr>\n    <tr>\n      <th>29</th>\n      <td>corpus_2020_audience_overlap_sites_lvl_four_un...</td>\n      <td>LogisticRegression CV = 10</td>\n      <td>0.591385</td>\n      <td>0.451430</td>\n      <td>0.591385</td>\n      <td>0.441087</td>\n      <td>0.538245</td>\n      <td>0.514552</td>\n      <td>[[19, 57, 86], [14, 83, 148], [5, 41, 406]]</td>\n    </tr>\n    <tr>\n      <th>30</th>\n      <td>corpus_2020_audience_overlap_sites_lvl_four_un...</td>\n      <td>GradientBoostingClassifier</td>\n      <td>0.639115</td>\n      <td>0.549469</td>\n      <td>0.639115</td>\n      <td>0.561106</td>\n      <td>0.617855</td>\n      <td>0.428405</td>\n      <td>[[68, 46, 48], [32, 88, 125], [10, 49, 393]]</td>\n    </tr>\n    <tr>\n      <th>31</th>\n      <td>corpus_2020_audience_overlap_sites_lvl_four_un...</td>\n      <td>SVC ovo</td>\n      <td>0.650757</td>\n      <td>0.538984</td>\n      <td>0.650757</td>\n      <td>0.551961</td>\n      <td>0.618823</td>\n      <td>0.429569</td>\n      <td>[[54, 47, 61], [23, 89, 133], [8, 28, 416]]</td>\n    </tr>\n  </tbody>\n</table>\n</div>",
      "text/plain": "                                              Feature  \\\n0   corpus_2020_audience_overlap_sites_lvl_three_u...   \n1   corpus_2020_audience_overlap_sites_lvl_three_u...   \n2   corpus_2020_audience_overlap_sites_lvl_three_u...   \n3   corpus_2020_audience_overlap_sites_lvl_three_u...   \n4   corpus_2020_audience_overlap_sites_lvl_three_u...   \n5   corpus_2020_audience_overlap_sites_lvl_three_u...   \n6   corpus_2020_audience_overlap_sites_lvl_three_u...   \n7   corpus_2020_audience_overlap_sites_lvl_three_u...   \n8   corpus_2020_audience_overlap_sites_lvl_three_u...   \n9   corpus_2020_audience_overlap_sites_lvl_three_u...   \n10  corpus_2020_audience_overlap_sites_lvl_three_u...   \n11  corpus_2020_audience_overlap_sites_lvl_three_u...   \n12  corpus_2020_audience_overlap_sites_lvl_four_un...   \n13  corpus_2020_audience_overlap_sites_lvl_four_un...   \n14  corpus_2020_audience_overlap_sites_lvl_four_un...   \n15  corpus_2020_audience_overlap_sites_lvl_four_un...   \n16  corpus_2020_audience_overlap_sites_lvl_four_un...   \n17  corpus_2020_audience_overlap_sites_lvl_four_un...   \n18  corpus_2020_audience_overlap_sites_lvl_four_un...   \n19  corpus_2020_audience_overlap_sites_lvl_four_un...   \n20  corpus_2020_audience_overlap_sites_lvl_four_un...   \n21  corpus_2020_audience_overlap_sites_lvl_four_un...   \n22  corpus_2020_audience_overlap_sites_lvl_four_un...   \n23  corpus_2020_audience_overlap_sites_lvl_four_un...   \n24  corpus_2020_audience_overlap_sites_lvl_four_un...   \n25  corpus_2020_audience_overlap_sites_lvl_four_un...   \n26  corpus_2020_audience_overlap_sites_lvl_four_un...   \n27  corpus_2020_audience_overlap_sites_lvl_four_un...   \n28  corpus_2020_audience_overlap_sites_lvl_four_un...   \n29  corpus_2020_audience_overlap_sites_lvl_four_un...   \n30  corpus_2020_audience_overlap_sites_lvl_four_un...   \n31  corpus_2020_audience_overlap_sites_lvl_four_un...   \n\n                    Classifier  Accuracy  Balanced Accuracy score  \\\n0    LogisticRegression CV = 5  0.563446                 0.404711   \n1   LogisticRegression CV = 10  0.555297                 0.396655   \n2   GradientBoostingClassifier  0.612340                 0.524037   \n3                      SVC ovo  0.654249                 0.549487   \n4    LogisticRegression CV = 5  0.570431                 0.412430   \n5   LogisticRegression CV = 10  0.578580                 0.438894   \n6   GradientBoostingClassifier  0.621653                 0.532503   \n7                      SVC ovo  0.656577                 0.552610   \n8    LogisticRegression CV = 5  0.548312                 0.385260   \n9   LogisticRegression CV = 10  0.564610                 0.418607   \n10  GradientBoostingClassifier  0.633295                 0.541599   \n11                     SVC ovo  0.653085                 0.547134   \n12   LogisticRegression CV = 5  0.585565                 0.435281   \n13  LogisticRegression CV = 10  0.582072                 0.428707   \n14  GradientBoostingClassifier  0.599534                 0.499608   \n15                     SVC ovo  0.636787                 0.517926   \n16   LogisticRegression CV = 5  0.573923                 0.423841   \n17  LogisticRegression CV = 10  0.590221                 0.435738   \n18  GradientBoostingClassifier  0.591385                 0.494594   \n19                     SVC ovo  0.626310                 0.508723   \n20   LogisticRegression CV = 5  0.582072                 0.440366   \n21  LogisticRegression CV = 10  0.592549                 0.454956   \n22  GradientBoostingClassifier  0.606519                 0.512577   \n23                     SVC ovo  0.642608                 0.529238   \n24   LogisticRegression CV = 5  0.582072                 0.436659   \n25  LogisticRegression CV = 10  0.582072                 0.440767   \n26  GradientBoostingClassifier  0.630966                 0.536459   \n27                     SVC ovo  0.643772                 0.530673   \n28   LogisticRegression CV = 5  0.593714                 0.443189   \n29  LogisticRegression CV = 10  0.591385                 0.451430   \n30  GradientBoostingClassifier  0.639115                 0.549469   \n31                     SVC ovo  0.650757                 0.538984   \n\n    F1 micro score  F1 macro score  F1 weighted score       MAE  \\\n0         0.563446        0.360921           0.454235  0.589057   \n1         0.555297        0.337130           0.430607  0.604191   \n2         0.612340        0.533535           0.591380  0.477299   \n3         0.654249        0.560604           0.621263  0.431898   \n4         0.570431        0.383564           0.482604  0.559953   \n5         0.578580        0.426851           0.514393  0.534342   \n6         0.621653        0.541594           0.601545  0.455180   \n7         0.656577        0.565673           0.627413  0.424913   \n8         0.548312        0.334836           0.437585  0.608847   \n9         0.564610        0.396463           0.486559  0.572759   \n10        0.633295        0.551898           0.612758  0.450524   \n11        0.653085        0.558589           0.623175  0.429569   \n12        0.585565        0.420774           0.519319  0.534342   \n13        0.582072        0.411869           0.510634  0.549476   \n14        0.599534        0.507584           0.575264  0.476135   \n15        0.636787        0.526637           0.599749  0.442375   \n16        0.573923        0.407437           0.503345  0.550640   \n17        0.590221        0.420873           0.517811  0.543655   \n18        0.591385        0.502941           0.567056  0.490105   \n19        0.626310        0.516558           0.589915  0.454016   \n20        0.582072        0.430800           0.524750  0.535506   \n21        0.592549        0.448764           0.541055  0.516880   \n22        0.606519        0.521845           0.583853  0.471478   \n23        0.642608        0.539941           0.610233  0.438882   \n24        0.582072        0.422115           0.523418  0.533178   \n25        0.582072        0.431158           0.526065  0.530850   \n26        0.630966        0.546635           0.607604  0.444703   \n27        0.643772        0.541980           0.611308  0.434226   \n28        0.593714        0.425462           0.529207  0.519208   \n29        0.591385        0.441087           0.538245  0.514552   \n30        0.639115        0.561106           0.617855  0.428405   \n31        0.650757        0.551961           0.618823  0.429569   \n\n                                 Confusion matrix  \n0      [[31, 8, 123], [18, 11, 216], [8, 2, 442]]  \n1       [[34, 0, 128], [21, 0, 224], [9, 0, 443]]  \n2    [[63, 41, 58], [31, 85, 129], [19, 55, 378]]  \n3    [[65, 35, 62], [29, 79, 137], [12, 22, 418]]  \n4    [[25, 31, 106], [22, 29, 194], [6, 10, 436]]  \n5     [[35, 39, 88], [27, 42, 176], [9, 23, 420]]  \n6    [[64, 46, 52], [36, 87, 122], [14, 55, 383]]  \n7    [[62, 41, 59], [27, 88, 130], [11, 27, 414]]  \n8    [[24, 14, 124], [24, 10, 211], [11, 4, 437]]  \n9   [[32, 25, 105], [24, 30, 191], [13, 16, 423]]  \n10   [[62, 45, 55], [32, 94, 119], [17, 47, 388]]  \n11   [[60, 43, 59], [29, 87, 129], [12, 26, 414]]  \n12   [[19, 42, 101], [15, 63, 167], [2, 29, 421]]  \n13   [[19, 34, 109], [15, 56, 174], [4, 23, 425]]  \n14   [[53, 56, 53], [32, 80, 133], [12, 58, 382]]  \n15    [[49, 53, 60], [24, 80, 141], [8, 26, 418]]  \n16   [[23, 37, 102], [18, 48, 179], [5, 25, 422]]  \n17    [[19, 32, 111], [8, 59, 178], [4, 19, 429]]  \n18   [[55, 48, 59], [33, 76, 136], [11, 64, 377]]  \n19    [[48, 53, 61], [25, 78, 142], [8, 32, 412]]  \n20    [[25, 43, 94], [25, 62, 158], [7, 32, 413]]  \n21    [[23, 48, 91], [18, 79, 148], [3, 42, 407]]  \n22   [[59, 48, 55], [33, 81, 131], [12, 59, 381]]  \n23    [[51, 49, 62], [26, 88, 131], [8, 31, 413]]  \n24    [[17, 54, 91], [17, 73, 155], [8, 34, 410]]  \n25    [[22, 49, 91], [18, 69, 158], [6, 37, 409]]  \n26   [[63, 47, 52], [32, 86, 127], [13, 46, 393]]  \n27    [[52, 51, 59], [24, 87, 134], [8, 30, 414]]  \n28     [[14, 55, 93], [8, 78, 159], [4, 30, 418]]  \n29    [[19, 57, 86], [14, 83, 148], [5, 41, 406]]  \n30   [[68, 46, 48], [32, 88, 125], [10, 49, 393]]  \n31    [[54, 47, 61], [23, 89, 133], [8, 28, 416]]  "
     },
     "execution_count": 5,
     "metadata": {},
     "output_type": "execute_result"
    }
   ],
   "source": [
    "results_2020"
   ]
  },
  {
   "cell_type": "code",
   "execution_count": null,
   "metadata": {},
   "outputs": [],
   "source": []
  }
 ],
 "metadata": {
  "kernelspec": {
   "display_name": "Python 3.7.9 64-bit ('site_similarity': conda)",
   "metadata": {
    "interpreter": {
     "hash": "72b3faef5542ae75c34eb0d3b11ce0fc432eb00b9ccfc309dfbebb58f482608a"
    }
   },
   "name": "python3"
  },
  "language_info": {
   "codemirror_mode": {
    "name": "ipython",
    "version": 3
   },
   "file_extension": ".py",
   "mimetype": "text/x-python",
   "name": "python",
   "nbconvert_exporter": "python",
   "pygments_lexer": "ipython3",
   "version": "3.7.9"
  },
  "orig_nbformat": 2
 },
 "nbformat": 4,
 "nbformat_minor": 2
}