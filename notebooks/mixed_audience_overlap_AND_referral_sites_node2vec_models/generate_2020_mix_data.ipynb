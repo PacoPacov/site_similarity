{
 "cells": [
  {
   "cell_type": "code",
   "execution_count": 3,
   "metadata": {},
   "outputs": [],
   "source": [
    "import sys,os\n",
    "sys.path.append(\"/home/panayot/Documents/site_similarity\")"
   ]
  },
  {
   "cell_type": "code",
   "execution_count": 4,
   "metadata": {},
   "outputs": [],
   "source": [
    "from utils.notebook_utils import combined_nodes_referral_sites_audience_overlap"
   ]
  },
  {
   "cell_type": "code",
   "execution_count": 5,
   "metadata": {},
   "outputs": [
    {
     "name": "stdout",
     "output_type": "stream",
     "text": [
      "For file \"corpus_2020_referral_sites.json\" -> load 859 records\n",
      "For file \"corpus_2020_referral_sites_level_1.json\" -> load 2333 records\n",
      "For file \"corpus_2020_referral_sites_level_2.json\" -> load 5954 records\n",
      "For file \"corpus_2020_referral_sites_level_3.json\" -> load 13320 records\n",
      "Loaded 26573 nodes with records level <= 3 and child size:128548\n",
      "referral_sites node size: 57785 audience_overlap node size: 128582\n"
     ]
    }
   ],
   "source": [
    "data = combined_nodes_referral_sites_audience_overlap(level=3, add_edge_type=True)"
   ]
  },
  {
   "cell_type": "code",
   "execution_count": 6,
   "metadata": {},
   "outputs": [
    {
     "data": {
      "text/plain": "[('crooked.com', 'votesaveamerica.com', 'similar_by_audience_overlap_to'),\n ('crooked.com', 'art19.com', 'similar_by_audience_overlap_to'),\n ('crooked.com', 'promocodeportal.com', 'similar_by_audience_overlap_to'),\n ('crooked.com', 'mediamatters.org', 'similar_by_audience_overlap_to'),\n ('crooked.com', 'actblue.com', 'similar_by_audience_overlap_to'),\n ('deepleftfield.info',\n  'politicalflare.com',\n  'similar_by_audience_overlap_to'),\n ('deepleftfield.info', 'bluedotdaily.com', 'similar_by_audience_overlap_to'),\n ('antifascistnews.net',\n  'angrywhitemen.org',\n  'similar_by_audience_overlap_to'),\n ('antifascistnews.net', 'itsgoingdown.org', 'similar_by_audience_overlap_to'),\n ('antifascistnews.net', 'torchantifa.org', 'similar_by_audience_overlap_to')]"
     },
     "execution_count": 6,
     "metadata": {},
     "output_type": "execute_result"
    }
   ],
   "source": [
    "data[:10]"
   ]
  },
  {
   "cell_type": "code",
   "execution_count": 7,
   "metadata": {},
   "outputs": [],
   "source": [
    "import csv"
   ]
  },
  {
   "cell_type": "code",
   "execution_count": 8,
   "metadata": {},
   "outputs": [],
   "source": [
    "with open('data_for_trainig_model_corpus_2020_audience_overlap_sites_level_3_and_referral_data_2020_corpus_level3_deep.csv', 'w') as f:\n",
    "    csv_writer = csv.writer(f)\n",
    "\n",
    "    csv_writer.writerow(['source', 'target', 'type'])\n",
    "    csv_writer.writerows(data)"
   ]
  },
  {
   "cell_type": "code",
   "execution_count": null,
   "metadata": {},
   "outputs": [],
   "source": []
  }
 ],
 "metadata": {
  "kernelspec": {
   "display_name": "Python 3",
   "name": "python3"
  },
  "language_info": {
   "codemirror_mode": {
    "name": "ipython",
    "version": 3
   },
   "file_extension": ".py",
   "mimetype": "text/x-python",
   "name": "python",
   "nbconvert_exporter": "python",
   "pygments_lexer": "ipython3",
   "version": "3.7.9"
  },
  "orig_nbformat": 2
 },
 "nbformat": 4,
 "nbformat_minor": 2
}