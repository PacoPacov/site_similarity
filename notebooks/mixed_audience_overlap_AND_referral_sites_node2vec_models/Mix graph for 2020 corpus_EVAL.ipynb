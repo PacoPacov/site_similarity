{
 "cells": [
  {
   "cell_type": "code",
   "execution_count": 2,
   "metadata": {},
   "outputs": [
    {
     "name": "stdout",
     "output_type": "stream",
     "text": [
      "/home/panayot/anaconda3/envs/site_similarity/bin/python\n"
     ]
    }
   ],
   "source": [
    "import sys,os\n",
    "sys.path.append(\"/home/panayot/Documents/site_similarity\")\n",
    "print(sys.executable)"
   ]
  },
  {
   "cell_type": "code",
   "execution_count": 3,
   "metadata": {},
   "outputs": [
    {
     "name": "stdout",
     "output_type": "stream",
     "text": [
      "/home/panayot/anaconda3/envs/site_similarity/bin/python\n"
     ]
    }
   ],
   "source": [
    "import sys,os\n",
    "sys.path.append('/media/panayot/cf151fc4-0692-4c72-9d73-892b9c408127/home/panayot/Documents/site_similarity/')\n",
    "\n",
    "print(sys.executable)"
   ]
  },
  {
   "cell_type": "markdown",
   "metadata": {},
   "source": [
    "Base on this file - data_for_trainig_model_corpus_2020_audience_overlap_sites_level_3_and_referral_data_2020_corpus_level3_deep.csv.\n",
    "\n",
    "I've created two Node2Vec models. Note these models were generated with Google Colab!"
   ]
  },
  {
   "cell_type": "code",
   "execution_count": 4,
   "metadata": {},
   "outputs": [],
   "source": [
    "from utils.notebook_utils import eval_node2vec_models"
   ]
  },
  {
   "cell_type": "code",
   "execution_count": 5,
   "metadata": {},
   "outputs": [],
   "source": [
    "path = '/home/panayot/Documents/site_similarity/notebooks/mixed_audience_overlap_AND_referral_sites_node2vec_models/mixed_models-20201123T064246Z-001/corpus 2020'"
   ]
  },
  {
   "cell_type": "code",
   "execution_count": 6,
   "metadata": {},
   "outputs": [],
   "source": [
    "# models = [\n",
    "#     'corpus_2020_mixed_unweighted_64D.model',\n",
    "#     'corpus_2020_mixed_unweighted_128D.model',\n",
    "#     'corpus_2020_mixed_unweighted_256D.model',\n",
    "#     'corpus_2020_mixed_unweighted_512D.model'\n",
    "# ]\n",
    "models = ['corpus_2020_mixed_unweighted_1024D.model']"
   ]
  },
  {
   "cell_type": "code",
   "execution_count": 7,
   "metadata": {},
   "outputs": [],
   "source": [
    "models_2020 = [os.path.join(path, file_name) for file_name in models]"
   ]
  },
  {
   "cell_type": "code",
   "execution_count": 8,
   "metadata": {},
   "outputs": [
    {
     "data": {
      "text/plain": "['/home/panayot/Documents/site_similarity/notebooks/mixed_audience_overlap_AND_referral_sites_node2vec_models/mixed_models-20201123T064246Z-001/corpus 2020/corpus_2020_mixed_unweighted_1024D.model']"
     },
     "execution_count": 8,
     "metadata": {},
     "output_type": "execute_result"
    }
   ],
   "source": [
    "models_2020"
   ]
  },
  {
   "cell_type": "code",
   "execution_count": 9,
   "metadata": {},
   "outputs": [
    {
     "name": "stdout",
     "output_type": "stream",
     "text": [
      "Using model: /home/panayot/Documents/site_similarity/notebooks/mixed_audience_overlap_AND_referral_sites_node2vec_models/mixed_models-20201123T064246Z-001/corpus 2020/corpus_2020_mixed_unweighted_1024D.model\n",
      "Start training...\n",
      "Start training...\n",
      "Start training...\n",
      "Start training...\n"
     ]
    }
   ],
   "source": [
    "res = eval_node2vec_models(models_2020, data_year='2020')"
   ]
  },
  {
   "cell_type": "code",
   "execution_count": 8,
   "metadata": {},
   "outputs": [
    {
     "data": {
      "text/html": "<div>\n<style scoped>\n    .dataframe tbody tr th:only-of-type {\n        vertical-align: middle;\n    }\n\n    .dataframe tbody tr th {\n        vertical-align: top;\n    }\n\n    .dataframe thead th {\n        text-align: right;\n    }\n</style>\n<table border=\"1\" class=\"dataframe\">\n  <thead>\n    <tr style=\"text-align: right;\">\n      <th></th>\n      <th>Feature</th>\n      <th>Classifier</th>\n      <th>Accuracy</th>\n      <th>Balanced Accuracy score</th>\n      <th>F1 micro score</th>\n      <th>F1 macro score</th>\n      <th>F1 weighted score</th>\n      <th>MAE</th>\n      <th>Confusion matrix</th>\n    </tr>\n  </thead>\n  <tbody>\n    <tr>\n      <th>0</th>\n      <td>/home/panayot/Documents/site_similarity/notebo...</td>\n      <td>LogisticRegression CV = 5</td>\n      <td>0.594878</td>\n      <td>0.473487</td>\n      <td>0.594878</td>\n      <td>0.477752</td>\n      <td>0.549880</td>\n      <td>0.530850</td>\n      <td>[[43, 29, 90], [18, 64, 163], [18, 30, 404]]</td>\n    </tr>\n    <tr>\n      <th>1</th>\n      <td>/home/panayot/Documents/site_similarity/notebo...</td>\n      <td>LogisticRegression CV = 10</td>\n      <td>0.589057</td>\n      <td>0.457222</td>\n      <td>0.589057</td>\n      <td>0.456261</td>\n      <td>0.538277</td>\n      <td>0.542491</td>\n      <td>[[33, 32, 97], [18, 65, 162], [16, 28, 408]]</td>\n    </tr>\n    <tr>\n      <th>2</th>\n      <td>/home/panayot/Documents/site_similarity/notebo...</td>\n      <td>GradientBoostingClassifier</td>\n      <td>0.634459</td>\n      <td>0.544755</td>\n      <td>0.634459</td>\n      <td>0.556317</td>\n      <td>0.615791</td>\n      <td>0.450524</td>\n      <td>[[61, 48, 53], [26, 100, 119], [20, 48, 384]]</td>\n    </tr>\n    <tr>\n      <th>3</th>\n      <td>/home/panayot/Documents/site_similarity/notebo...</td>\n      <td>SVC ovo</td>\n      <td>0.651921</td>\n      <td>0.549037</td>\n      <td>0.651921</td>\n      <td>0.563580</td>\n      <td>0.622833</td>\n      <td>0.431898</td>\n      <td>[[62, 37, 63], [25, 87, 133], [9, 32, 411]]</td>\n    </tr>\n    <tr>\n      <th>4</th>\n      <td>/home/panayot/Documents/site_similarity/notebo...</td>\n      <td>LogisticRegression CV = 5</td>\n      <td>0.591385</td>\n      <td>0.454113</td>\n      <td>0.591385</td>\n      <td>0.449883</td>\n      <td>0.537008</td>\n      <td>0.534342</td>\n      <td>[[30, 39, 93], [18, 64, 163], [15, 23, 414]]</td>\n    </tr>\n    <tr>\n      <th>5</th>\n      <td>/home/panayot/Documents/site_similarity/notebo...</td>\n      <td>LogisticRegression CV = 10</td>\n      <td>0.591385</td>\n      <td>0.451621</td>\n      <td>0.591385</td>\n      <td>0.446152</td>\n      <td>0.533600</td>\n      <td>0.533178</td>\n      <td>[[30, 38, 94], [17, 60, 168], [13, 21, 418]]</td>\n    </tr>\n    <tr>\n      <th>6</th>\n      <td>/home/panayot/Documents/site_similarity/notebo...</td>\n      <td>GradientBoostingClassifier</td>\n      <td>0.641444</td>\n      <td>0.548081</td>\n      <td>0.641444</td>\n      <td>0.558595</td>\n      <td>0.620284</td>\n      <td>0.434226</td>\n      <td>[[63, 49, 50], [32, 94, 119], [15, 43, 394]]</td>\n    </tr>\n    <tr>\n      <th>7</th>\n      <td>/home/panayot/Documents/site_similarity/notebo...</td>\n      <td>SVC ovo</td>\n      <td>0.665891</td>\n      <td>0.569768</td>\n      <td>0.665891</td>\n      <td>0.584941</td>\n      <td>0.638613</td>\n      <td>0.409779</td>\n      <td>[[71, 37, 54], [24, 87, 134], [11, 27, 414]]</td>\n    </tr>\n    <tr>\n      <th>8</th>\n      <td>/home/panayot/Documents/site_similarity/notebo...</td>\n      <td>LogisticRegression CV = 5</td>\n      <td>0.598370</td>\n      <td>0.460555</td>\n      <td>0.598370</td>\n      <td>0.458621</td>\n      <td>0.542971</td>\n      <td>0.513388</td>\n      <td>[[32, 42, 88], [14, 63, 168], [8, 25, 419]]</td>\n    </tr>\n    <tr>\n      <th>9</th>\n      <td>/home/panayot/Documents/site_similarity/notebo...</td>\n      <td>LogisticRegression CV = 10</td>\n      <td>0.606519</td>\n      <td>0.477049</td>\n      <td>0.606519</td>\n      <td>0.480151</td>\n      <td>0.554721</td>\n      <td>0.511059</td>\n      <td>[[42, 31, 89], [16, 60, 169], [12, 21, 419]]</td>\n    </tr>\n    <tr>\n      <th>10</th>\n      <td>/home/panayot/Documents/site_similarity/notebo...</td>\n      <td>GradientBoostingClassifier</td>\n      <td>0.644936</td>\n      <td>0.550294</td>\n      <td>0.644936</td>\n      <td>0.561774</td>\n      <td>0.622822</td>\n      <td>0.430733</td>\n      <td>[[63, 49, 50], [29, 94, 122], [15, 40, 397]]</td>\n    </tr>\n    <tr>\n      <th>11</th>\n      <td>/home/panayot/Documents/site_similarity/notebo...</td>\n      <td>SVC ovo</td>\n      <td>0.668219</td>\n      <td>0.574358</td>\n      <td>0.668219</td>\n      <td>0.590962</td>\n      <td>0.643446</td>\n      <td>0.405122</td>\n      <td>[[71, 37, 54], [24, 92, 129], [9, 32, 411]]</td>\n    </tr>\n    <tr>\n      <th>12</th>\n      <td>/home/panayot/Documents/site_similarity/notebo...</td>\n      <td>LogisticRegression CV = 5</td>\n      <td>0.599534</td>\n      <td>0.462137</td>\n      <td>0.599534</td>\n      <td>0.458957</td>\n      <td>0.542550</td>\n      <td>0.520373</td>\n      <td>[[35, 33, 94], [22, 58, 165], [9, 21, 422]]</td>\n    </tr>\n    <tr>\n      <th>13</th>\n      <td>/home/panayot/Documents/site_similarity/notebo...</td>\n      <td>LogisticRegression CV = 10</td>\n      <td>0.625146</td>\n      <td>0.500909</td>\n      <td>0.625146</td>\n      <td>0.509113</td>\n      <td>0.581358</td>\n      <td>0.481956</td>\n      <td>[[45, 36, 81], [18, 73, 154], [11, 22, 419]]</td>\n    </tr>\n    <tr>\n      <th>14</th>\n      <td>/home/panayot/Documents/site_similarity/notebo...</td>\n      <td>GradientBoostingClassifier</td>\n      <td>0.651921</td>\n      <td>0.564287</td>\n      <td>0.651921</td>\n      <td>0.574984</td>\n      <td>0.634337</td>\n      <td>0.427241</td>\n      <td>[[66, 46, 50], [33, 103, 109], [18, 43, 391]]</td>\n    </tr>\n    <tr>\n      <th>15</th>\n      <td>/home/panayot/Documents/site_similarity/notebo...</td>\n      <td>SVC ovo</td>\n      <td>0.671711</td>\n      <td>0.582548</td>\n      <td>0.671711</td>\n      <td>0.597431</td>\n      <td>0.647796</td>\n      <td>0.401630</td>\n      <td>[[76, 34, 52], [27, 91, 127], [11, 31, 410]]</td>\n    </tr>\n  </tbody>\n</table>\n</div>",
      "text/plain": "                                              Feature  \\\n0   /home/panayot/Documents/site_similarity/notebo...   \n1   /home/panayot/Documents/site_similarity/notebo...   \n2   /home/panayot/Documents/site_similarity/notebo...   \n3   /home/panayot/Documents/site_similarity/notebo...   \n4   /home/panayot/Documents/site_similarity/notebo...   \n5   /home/panayot/Documents/site_similarity/notebo...   \n6   /home/panayot/Documents/site_similarity/notebo...   \n7   /home/panayot/Documents/site_similarity/notebo...   \n8   /home/panayot/Documents/site_similarity/notebo...   \n9   /home/panayot/Documents/site_similarity/notebo...   \n10  /home/panayot/Documents/site_similarity/notebo...   \n11  /home/panayot/Documents/site_similarity/notebo...   \n12  /home/panayot/Documents/site_similarity/notebo...   \n13  /home/panayot/Documents/site_similarity/notebo...   \n14  /home/panayot/Documents/site_similarity/notebo...   \n15  /home/panayot/Documents/site_similarity/notebo...   \n\n                    Classifier  Accuracy  Balanced Accuracy score  \\\n0    LogisticRegression CV = 5  0.594878                 0.473487   \n1   LogisticRegression CV = 10  0.589057                 0.457222   \n2   GradientBoostingClassifier  0.634459                 0.544755   \n3                      SVC ovo  0.651921                 0.549037   \n4    LogisticRegression CV = 5  0.591385                 0.454113   \n5   LogisticRegression CV = 10  0.591385                 0.451621   \n6   GradientBoostingClassifier  0.641444                 0.548081   \n7                      SVC ovo  0.665891                 0.569768   \n8    LogisticRegression CV = 5  0.598370                 0.460555   \n9   LogisticRegression CV = 10  0.606519                 0.477049   \n10  GradientBoostingClassifier  0.644936                 0.550294   \n11                     SVC ovo  0.668219                 0.574358   \n12   LogisticRegression CV = 5  0.599534                 0.462137   \n13  LogisticRegression CV = 10  0.625146                 0.500909   \n14  GradientBoostingClassifier  0.651921                 0.564287   \n15                     SVC ovo  0.671711                 0.582548   \n\n    F1 micro score  F1 macro score  F1 weighted score       MAE  \\\n0         0.594878        0.477752           0.549880  0.530850   \n1         0.589057        0.456261           0.538277  0.542491   \n2         0.634459        0.556317           0.615791  0.450524   \n3         0.651921        0.563580           0.622833  0.431898   \n4         0.591385        0.449883           0.537008  0.534342   \n5         0.591385        0.446152           0.533600  0.533178   \n6         0.641444        0.558595           0.620284  0.434226   \n7         0.665891        0.584941           0.638613  0.409779   \n8         0.598370        0.458621           0.542971  0.513388   \n9         0.606519        0.480151           0.554721  0.511059   \n10        0.644936        0.561774           0.622822  0.430733   \n11        0.668219        0.590962           0.643446  0.405122   \n12        0.599534        0.458957           0.542550  0.520373   \n13        0.625146        0.509113           0.581358  0.481956   \n14        0.651921        0.574984           0.634337  0.427241   \n15        0.671711        0.597431           0.647796  0.401630   \n\n                                 Confusion matrix  \n0    [[43, 29, 90], [18, 64, 163], [18, 30, 404]]  \n1    [[33, 32, 97], [18, 65, 162], [16, 28, 408]]  \n2   [[61, 48, 53], [26, 100, 119], [20, 48, 384]]  \n3     [[62, 37, 63], [25, 87, 133], [9, 32, 411]]  \n4    [[30, 39, 93], [18, 64, 163], [15, 23, 414]]  \n5    [[30, 38, 94], [17, 60, 168], [13, 21, 418]]  \n6    [[63, 49, 50], [32, 94, 119], [15, 43, 394]]  \n7    [[71, 37, 54], [24, 87, 134], [11, 27, 414]]  \n8     [[32, 42, 88], [14, 63, 168], [8, 25, 419]]  \n9    [[42, 31, 89], [16, 60, 169], [12, 21, 419]]  \n10   [[63, 49, 50], [29, 94, 122], [15, 40, 397]]  \n11    [[71, 37, 54], [24, 92, 129], [9, 32, 411]]  \n12    [[35, 33, 94], [22, 58, 165], [9, 21, 422]]  \n13   [[45, 36, 81], [18, 73, 154], [11, 22, 419]]  \n14  [[66, 46, 50], [33, 103, 109], [18, 43, 391]]  \n15   [[76, 34, 52], [27, 91, 127], [11, 31, 410]]  "
     },
     "execution_count": 8,
     "metadata": {},
     "output_type": "execute_result"
    }
   ],
   "source": [
    "res"
   ]
  },
  {
   "cell_type": "code",
   "execution_count": 10,
   "metadata": {},
   "outputs": [
    {
     "data": {
      "text/html": "<div>\n<style scoped>\n    .dataframe tbody tr th:only-of-type {\n        vertical-align: middle;\n    }\n\n    .dataframe tbody tr th {\n        vertical-align: top;\n    }\n\n    .dataframe thead th {\n        text-align: right;\n    }\n</style>\n<table border=\"1\" class=\"dataframe\">\n  <thead>\n    <tr style=\"text-align: right;\">\n      <th></th>\n      <th>Feature</th>\n      <th>Classifier</th>\n      <th>Accuracy</th>\n      <th>Balanced Accuracy score</th>\n      <th>F1 micro score</th>\n      <th>F1 macro score</th>\n      <th>F1 weighted score</th>\n      <th>MAE</th>\n      <th>Confusion matrix</th>\n    </tr>\n  </thead>\n  <tbody>\n    <tr>\n      <th>0</th>\n      <td>/home/panayot/Documents/site_similarity/notebo...</td>\n      <td>LogisticRegression CV = 5</td>\n      <td>0.578580</td>\n      <td>0.428153</td>\n      <td>0.578580</td>\n      <td>0.406983</td>\n      <td>0.494420</td>\n      <td>0.555297</td>\n      <td>[[33, 21, 108], [16, 29, 200], [7, 10, 435]]</td>\n    </tr>\n    <tr>\n      <th>1</th>\n      <td>/home/panayot/Documents/site_similarity/notebo...</td>\n      <td>LogisticRegression CV = 10</td>\n      <td>0.589057</td>\n      <td>0.453600</td>\n      <td>0.589057</td>\n      <td>0.442903</td>\n      <td>0.521985</td>\n      <td>0.534342</td>\n      <td>[[43, 25, 94], [24, 38, 183], [12, 15, 425]]</td>\n    </tr>\n    <tr>\n      <th>2</th>\n      <td>/home/panayot/Documents/site_similarity/notebo...</td>\n      <td>GradientBoostingClassifier</td>\n      <td>0.651921</td>\n      <td>0.565829</td>\n      <td>0.651921</td>\n      <td>0.581005</td>\n      <td>0.633085</td>\n      <td>0.416764</td>\n      <td>[[70, 45, 47], [24, 97, 124], [12, 47, 393]]</td>\n    </tr>\n    <tr>\n      <th>3</th>\n      <td>/home/panayot/Documents/site_similarity/notebo...</td>\n      <td>SVC ovo</td>\n      <td>0.663562</td>\n      <td>0.574745</td>\n      <td>0.663562</td>\n      <td>0.589882</td>\n      <td>0.640394</td>\n      <td>0.410943</td>\n      <td>[[74, 35, 53], [26, 91, 128], [11, 36, 405]]</td>\n    </tr>\n  </tbody>\n</table>\n</div>",
      "text/plain": "                                             Feature  \\\n0  /home/panayot/Documents/site_similarity/notebo...   \n1  /home/panayot/Documents/site_similarity/notebo...   \n2  /home/panayot/Documents/site_similarity/notebo...   \n3  /home/panayot/Documents/site_similarity/notebo...   \n\n                   Classifier  Accuracy  Balanced Accuracy score  \\\n0   LogisticRegression CV = 5  0.578580                 0.428153   \n1  LogisticRegression CV = 10  0.589057                 0.453600   \n2  GradientBoostingClassifier  0.651921                 0.565829   \n3                     SVC ovo  0.663562                 0.574745   \n\n   F1 micro score  F1 macro score  F1 weighted score       MAE  \\\n0        0.578580        0.406983           0.494420  0.555297   \n1        0.589057        0.442903           0.521985  0.534342   \n2        0.651921        0.581005           0.633085  0.416764   \n3        0.663562        0.589882           0.640394  0.410943   \n\n                               Confusion matrix  \n0  [[33, 21, 108], [16, 29, 200], [7, 10, 435]]  \n1  [[43, 25, 94], [24, 38, 183], [12, 15, 425]]  \n2  [[70, 45, 47], [24, 97, 124], [12, 47, 393]]  \n3  [[74, 35, 53], [26, 91, 128], [11, 36, 405]]  "
     },
     "execution_count": 10,
     "metadata": {},
     "output_type": "execute_result"
    }
   ],
   "source": [
    "res"
   ]
  },
  {
   "cell_type": "code",
   "execution_count": null,
   "metadata": {},
   "outputs": [],
   "source": []
  }
 ],
 "metadata": {
  "kernelspec": {
   "display_name": "Python 3",
   "name": "python3"
  },
  "language_info": {
   "codemirror_mode": {
    "name": "ipython",
    "version": 3
   },
   "file_extension": ".py",
   "mimetype": "text/x-python",
   "name": "python",
   "nbconvert_exporter": "python",
   "pygments_lexer": "ipython3",
   "version": "3.7.9"
  }
 },
 "nbformat": 4,
 "nbformat_minor": 4
}