{
 "cells": [
  {
   "cell_type": "code",
   "execution_count": 1,
   "metadata": {},
   "outputs": [
    {
     "name": "stdout",
     "output_type": "stream",
     "text": [
      "/home/panayot/anaconda3/envs/site_similarity/bin/python\n"
     ]
    }
   ],
   "source": [
    "import sys,os\n",
    "sys.path.append(\"/home/panayot/Documents/site_similarity\")\n",
    "print(sys.executable)"
   ]
  },
  {
   "cell_type": "markdown",
   "metadata": {},
   "source": [
    "Base on this file - data_for_trainig_model_corpus_2018_audience_overlap_sites_level_3_and_referral_data_2018_corpus_level3_deep.csv.\n",
    "\n",
    "I've created two Node2Vec models. Note these models were generated with Google Colab!"
   ]
  },
  {
   "cell_type": "code",
   "execution_count": 2,
   "metadata": {},
   "outputs": [],
   "source": [
    "from utils.notebook_utils import eval_node2vec_models"
   ]
  },
  {
   "cell_type": "code",
   "execution_count": 3,
   "metadata": {},
   "outputs": [],
   "source": [
    "path = '/home/panayot/Documents/site_similarity/notebooks/mixed_audience_overlap_AND_referral_sites_node2vec_models/mixed_models-20201123T064246Z-001/corpus 2018'"
   ]
  },
  {
   "cell_type": "code",
   "execution_count": 5,
   "metadata": {},
   "outputs": [],
   "source": [
    "# models = [\n",
    "#     'corpus_2018_mixed_unweighted_64D.model',\n",
    "#     'corpus_2018_mixed_unweighted_128D.model',\n",
    "#     'corpus_2018_mixed_unweighted_256D.model',\n",
    "#     'corpus_2018_mixed_unweighted_512D.model'\n",
    "# ]\n",
    "\n",
    "models = ['corpus_2018_mixed_unweighted_1024D.model']"
   ]
  },
  {
   "cell_type": "code",
   "execution_count": 6,
   "metadata": {},
   "outputs": [],
   "source": [
    "models_2018 = [os.path.join(path, file_name) for file_name in models]"
   ]
  },
  {
   "cell_type": "code",
   "execution_count": 7,
   "metadata": {},
   "outputs": [
    {
     "data": {
      "text/plain": "['/home/panayot/Documents/site_similarity/notebooks/mixed_audience_overlap_AND_referral_sites_node2vec_models/mixed_models-20201123T064246Z-001/corpus 2018/corpus_2018_mixed_unweighted_1024D.model']"
     },
     "execution_count": 7,
     "metadata": {},
     "output_type": "execute_result"
    }
   ],
   "source": [
    "models_2018"
   ]
  },
  {
   "cell_type": "code",
   "execution_count": 8,
   "metadata": {},
   "outputs": [
    {
     "name": "stdout",
     "output_type": "stream",
     "text": [
      "Using model: /home/panayot/Documents/site_similarity/notebooks/mixed_audience_overlap_AND_referral_sites_node2vec_models/mixed_models-20201123T064246Z-001/corpus 2018/corpus_2018_mixed_unweighted_1024D.model\n",
      "Start training...\n",
      "Start training...\n",
      "Start training...\n",
      "Start training...\n"
     ]
    }
   ],
   "source": [
    "res = eval_node2vec_models(models_2018, data_year='2018')"
   ]
  },
  {
   "cell_type": "code",
   "execution_count": 9,
   "metadata": {},
   "outputs": [
    {
     "data": {
      "text/html": "<div>\n<style scoped>\n    .dataframe tbody tr th:only-of-type {\n        vertical-align: middle;\n    }\n\n    .dataframe tbody tr th {\n        vertical-align: top;\n    }\n\n    .dataframe thead th {\n        text-align: right;\n    }\n</style>\n<table border=\"1\" class=\"dataframe\">\n  <thead>\n    <tr style=\"text-align: right;\">\n      <th></th>\n      <th>Feature</th>\n      <th>Classifier</th>\n      <th>Accuracy</th>\n      <th>Balanced Accuracy score</th>\n      <th>F1 micro score</th>\n      <th>F1 macro score</th>\n      <th>F1 weighted score</th>\n      <th>MAE</th>\n      <th>Confusion matrix</th>\n    </tr>\n  </thead>\n  <tbody>\n    <tr>\n      <th>0</th>\n      <td>/home/panayot/Documents/site_similarity/notebo...</td>\n      <td>LogisticRegression CV = 5</td>\n      <td>0.621596</td>\n      <td>0.521196</td>\n      <td>0.621596</td>\n      <td>0.514580</td>\n      <td>0.575279</td>\n      <td>0.506103</td>\n      <td>[[123, 20, 112], [57, 46, 165], [24, 25, 493]]</td>\n    </tr>\n    <tr>\n      <th>1</th>\n      <td>/home/panayot/Documents/site_similarity/notebo...</td>\n      <td>LogisticRegression CV = 10</td>\n      <td>0.626291</td>\n      <td>0.529053</td>\n      <td>0.626291</td>\n      <td>0.521591</td>\n      <td>0.582157</td>\n      <td>0.492958</td>\n      <td>[[129, 24, 102], [61, 47, 160], [25, 26, 491]]</td>\n    </tr>\n    <tr>\n      <th>2</th>\n      <td>/home/panayot/Documents/site_similarity/notebo...</td>\n      <td>GradientBoostingClassifier</td>\n      <td>0.636620</td>\n      <td>0.560277</td>\n      <td>0.636620</td>\n      <td>0.566081</td>\n      <td>0.617523</td>\n      <td>0.462911</td>\n      <td>[[128, 48, 79], [55, 87, 126], [27, 52, 463]]</td>\n    </tr>\n    <tr>\n      <th>3</th>\n      <td>/home/panayot/Documents/site_similarity/notebo...</td>\n      <td>SVC ovo</td>\n      <td>0.666667</td>\n      <td>0.586129</td>\n      <td>0.666667</td>\n      <td>0.587287</td>\n      <td>0.640815</td>\n      <td>0.420657</td>\n      <td>[[146, 38, 71], [67, 77, 124], [22, 33, 487]]</td>\n    </tr>\n    <tr>\n      <th>4</th>\n      <td>/home/panayot/Documents/site_similarity/notebo...</td>\n      <td>LogisticRegression CV = 5</td>\n      <td>0.655399</td>\n      <td>0.578437</td>\n      <td>0.655399</td>\n      <td>0.576180</td>\n      <td>0.628150</td>\n      <td>0.446948</td>\n      <td>[[151, 27, 77], [70, 71, 127], [32, 34, 476]]</td>\n    </tr>\n    <tr>\n      <th>5</th>\n      <td>/home/panayot/Documents/site_similarity/notebo...</td>\n      <td>LogisticRegression CV = 10</td>\n      <td>0.653521</td>\n      <td>0.576705</td>\n      <td>0.653521</td>\n      <td>0.572142</td>\n      <td>0.625355</td>\n      <td>0.448826</td>\n      <td>[[153, 26, 76], [75, 68, 125], [33, 34, 475]]</td>\n    </tr>\n    <tr>\n      <th>6</th>\n      <td>/home/panayot/Documents/site_similarity/notebo...</td>\n      <td>GradientBoostingClassifier</td>\n      <td>0.644131</td>\n      <td>0.569535</td>\n      <td>0.644131</td>\n      <td>0.575856</td>\n      <td>0.626750</td>\n      <td>0.459155</td>\n      <td>[[127, 50, 78], [55, 95, 118], [32, 46, 464]]</td>\n    </tr>\n    <tr>\n      <th>7</th>\n      <td>/home/panayot/Documents/site_similarity/notebo...</td>\n      <td>SVC ovo</td>\n      <td>0.671362</td>\n      <td>0.592728</td>\n      <td>0.671362</td>\n      <td>0.592201</td>\n      <td>0.645386</td>\n      <td>0.413146</td>\n      <td>[[152, 36, 67], [70, 76, 122], [23, 32, 487]]</td>\n    </tr>\n    <tr>\n      <th>8</th>\n      <td>/home/panayot/Documents/site_similarity/notebo...</td>\n      <td>LogisticRegression CV = 5</td>\n      <td>0.653521</td>\n      <td>0.581043</td>\n      <td>0.653521</td>\n      <td>0.578784</td>\n      <td>0.631209</td>\n      <td>0.438498</td>\n      <td>[[152, 37, 66], [73, 76, 119], [32, 42, 468]]</td>\n    </tr>\n    <tr>\n      <th>9</th>\n      <td>/home/panayot/Documents/site_similarity/notebo...</td>\n      <td>LogisticRegression CV = 10</td>\n      <td>0.647887</td>\n      <td>0.565528</td>\n      <td>0.647887</td>\n      <td>0.562055</td>\n      <td>0.618097</td>\n      <td>0.453521</td>\n      <td>[[144, 34, 77], [71, 66, 131], [31, 31, 480]]</td>\n    </tr>\n    <tr>\n      <th>10</th>\n      <td>/home/panayot/Documents/site_similarity/notebo...</td>\n      <td>GradientBoostingClassifier</td>\n      <td>0.643192</td>\n      <td>0.568233</td>\n      <td>0.643192</td>\n      <td>0.570871</td>\n      <td>0.625638</td>\n      <td>0.437559</td>\n      <td>[[136, 60, 59], [63, 84, 121], [27, 50, 465]]</td>\n    </tr>\n    <tr>\n      <th>11</th>\n      <td>/home/panayot/Documents/site_similarity/notebo...</td>\n      <td>SVC ovo</td>\n      <td>0.670423</td>\n      <td>0.593434</td>\n      <td>0.670423</td>\n      <td>0.592784</td>\n      <td>0.645397</td>\n      <td>0.415023</td>\n      <td>[[153, 37, 65], [69, 77, 122], [26, 32, 484]]</td>\n    </tr>\n    <tr>\n      <th>12</th>\n      <td>/home/panayot/Documents/site_similarity/notebo...</td>\n      <td>LogisticRegression CV = 5</td>\n      <td>0.657277</td>\n      <td>0.578732</td>\n      <td>0.657277</td>\n      <td>0.562449</td>\n      <td>0.621536</td>\n      <td>0.432864</td>\n      <td>[[166, 30, 59], [86, 53, 129], [37, 24, 481]]</td>\n    </tr>\n    <tr>\n      <th>13</th>\n      <td>/home/panayot/Documents/site_similarity/notebo...</td>\n      <td>LogisticRegression CV = 10</td>\n      <td>0.662911</td>\n      <td>0.588710</td>\n      <td>0.662911</td>\n      <td>0.577951</td>\n      <td>0.632975</td>\n      <td>0.426291</td>\n      <td>[[166, 29, 60], [82, 63, 123], [35, 30, 477]]</td>\n    </tr>\n    <tr>\n      <th>14</th>\n      <td>/home/panayot/Documents/site_similarity/notebo...</td>\n      <td>GradientBoostingClassifier</td>\n      <td>0.640376</td>\n      <td>0.563746</td>\n      <td>0.640376</td>\n      <td>0.564219</td>\n      <td>0.621344</td>\n      <td>0.452582</td>\n      <td>[[134, 58, 63], [70, 82, 116], [36, 40, 466]]</td>\n    </tr>\n    <tr>\n      <th>15</th>\n      <td>/home/panayot/Documents/site_similarity/notebo...</td>\n      <td>SVC ovo</td>\n      <td>0.676995</td>\n      <td>0.601073</td>\n      <td>0.676995</td>\n      <td>0.600005</td>\n      <td>0.652979</td>\n      <td>0.401878</td>\n      <td>[[156, 40, 59], [71, 79, 118], [25, 31, 486]]</td>\n    </tr>\n  </tbody>\n</table>\n</div>",
      "text/plain": "                                              Feature  \\\n0   /home/panayot/Documents/site_similarity/notebo...   \n1   /home/panayot/Documents/site_similarity/notebo...   \n2   /home/panayot/Documents/site_similarity/notebo...   \n3   /home/panayot/Documents/site_similarity/notebo...   \n4   /home/panayot/Documents/site_similarity/notebo...   \n5   /home/panayot/Documents/site_similarity/notebo...   \n6   /home/panayot/Documents/site_similarity/notebo...   \n7   /home/panayot/Documents/site_similarity/notebo...   \n8   /home/panayot/Documents/site_similarity/notebo...   \n9   /home/panayot/Documents/site_similarity/notebo...   \n10  /home/panayot/Documents/site_similarity/notebo...   \n11  /home/panayot/Documents/site_similarity/notebo...   \n12  /home/panayot/Documents/site_similarity/notebo...   \n13  /home/panayot/Documents/site_similarity/notebo...   \n14  /home/panayot/Documents/site_similarity/notebo...   \n15  /home/panayot/Documents/site_similarity/notebo...   \n\n                    Classifier  Accuracy  Balanced Accuracy score  \\\n0    LogisticRegression CV = 5  0.621596                 0.521196   \n1   LogisticRegression CV = 10  0.626291                 0.529053   \n2   GradientBoostingClassifier  0.636620                 0.560277   \n3                      SVC ovo  0.666667                 0.586129   \n4    LogisticRegression CV = 5  0.655399                 0.578437   \n5   LogisticRegression CV = 10  0.653521                 0.576705   \n6   GradientBoostingClassifier  0.644131                 0.569535   \n7                      SVC ovo  0.671362                 0.592728   \n8    LogisticRegression CV = 5  0.653521                 0.581043   \n9   LogisticRegression CV = 10  0.647887                 0.565528   \n10  GradientBoostingClassifier  0.643192                 0.568233   \n11                     SVC ovo  0.670423                 0.593434   \n12   LogisticRegression CV = 5  0.657277                 0.578732   \n13  LogisticRegression CV = 10  0.662911                 0.588710   \n14  GradientBoostingClassifier  0.640376                 0.563746   \n15                     SVC ovo  0.676995                 0.601073   \n\n    F1 micro score  F1 macro score  F1 weighted score       MAE  \\\n0         0.621596        0.514580           0.575279  0.506103   \n1         0.626291        0.521591           0.582157  0.492958   \n2         0.636620        0.566081           0.617523  0.462911   \n3         0.666667        0.587287           0.640815  0.420657   \n4         0.655399        0.576180           0.628150  0.446948   \n5         0.653521        0.572142           0.625355  0.448826   \n6         0.644131        0.575856           0.626750  0.459155   \n7         0.671362        0.592201           0.645386  0.413146   \n8         0.653521        0.578784           0.631209  0.438498   \n9         0.647887        0.562055           0.618097  0.453521   \n10        0.643192        0.570871           0.625638  0.437559   \n11        0.670423        0.592784           0.645397  0.415023   \n12        0.657277        0.562449           0.621536  0.432864   \n13        0.662911        0.577951           0.632975  0.426291   \n14        0.640376        0.564219           0.621344  0.452582   \n15        0.676995        0.600005           0.652979  0.401878   \n\n                                  Confusion matrix  \n0   [[123, 20, 112], [57, 46, 165], [24, 25, 493]]  \n1   [[129, 24, 102], [61, 47, 160], [25, 26, 491]]  \n2    [[128, 48, 79], [55, 87, 126], [27, 52, 463]]  \n3    [[146, 38, 71], [67, 77, 124], [22, 33, 487]]  \n4    [[151, 27, 77], [70, 71, 127], [32, 34, 476]]  \n5    [[153, 26, 76], [75, 68, 125], [33, 34, 475]]  \n6    [[127, 50, 78], [55, 95, 118], [32, 46, 464]]  \n7    [[152, 36, 67], [70, 76, 122], [23, 32, 487]]  \n8    [[152, 37, 66], [73, 76, 119], [32, 42, 468]]  \n9    [[144, 34, 77], [71, 66, 131], [31, 31, 480]]  \n10   [[136, 60, 59], [63, 84, 121], [27, 50, 465]]  \n11   [[153, 37, 65], [69, 77, 122], [26, 32, 484]]  \n12   [[166, 30, 59], [86, 53, 129], [37, 24, 481]]  \n13   [[166, 29, 60], [82, 63, 123], [35, 30, 477]]  \n14   [[134, 58, 63], [70, 82, 116], [36, 40, 466]]  \n15   [[156, 40, 59], [71, 79, 118], [25, 31, 486]]  "
     },
     "execution_count": 9,
     "metadata": {},
     "output_type": "execute_result"
    }
   ],
   "source": [
    "res "
   ]
  },
  {
   "cell_type": "code",
   "execution_count": 9,
   "metadata": {},
   "outputs": [
    {
     "data": {
      "text/html": "<div>\n<style scoped>\n    .dataframe tbody tr th:only-of-type {\n        vertical-align: middle;\n    }\n\n    .dataframe tbody tr th {\n        vertical-align: top;\n    }\n\n    .dataframe thead th {\n        text-align: right;\n    }\n</style>\n<table border=\"1\" class=\"dataframe\">\n  <thead>\n    <tr style=\"text-align: right;\">\n      <th></th>\n      <th>Feature</th>\n      <th>Classifier</th>\n      <th>Accuracy</th>\n      <th>Balanced Accuracy score</th>\n      <th>F1 micro score</th>\n      <th>F1 macro score</th>\n      <th>F1 weighted score</th>\n      <th>MAE</th>\n      <th>Confusion matrix</th>\n    </tr>\n  </thead>\n  <tbody>\n    <tr>\n      <th>0</th>\n      <td>/home/panayot/Documents/site_similarity/notebo...</td>\n      <td>LogisticRegression CV = 5</td>\n      <td>0.665728</td>\n      <td>0.586032</td>\n      <td>0.665728</td>\n      <td>0.564358</td>\n      <td>0.623351</td>\n      <td>0.426291</td>\n      <td>[[174, 20, 61], [87, 47, 134], [37, 17, 488]]</td>\n    </tr>\n    <tr>\n      <th>1</th>\n      <td>/home/panayot/Documents/site_similarity/notebo...</td>\n      <td>LogisticRegression CV = 10</td>\n      <td>0.653521</td>\n      <td>0.579289</td>\n      <td>0.653521</td>\n      <td>0.567170</td>\n      <td>0.623488</td>\n      <td>0.437559</td>\n      <td>[[164, 32, 59], [83, 60, 125], [38, 32, 472]]</td>\n    </tr>\n    <tr>\n      <th>2</th>\n      <td>/home/panayot/Documents/site_similarity/notebo...</td>\n      <td>GradientBoostingClassifier</td>\n      <td>0.645070</td>\n      <td>0.568206</td>\n      <td>0.645070</td>\n      <td>0.569833</td>\n      <td>0.626133</td>\n      <td>0.436620</td>\n      <td>[[136, 58, 61], [68, 82, 118], [26, 47, 469]]</td>\n    </tr>\n    <tr>\n      <th>3</th>\n      <td>/home/panayot/Documents/site_similarity/notebo...</td>\n      <td>SVC ovo</td>\n      <td>0.677934</td>\n      <td>0.604394</td>\n      <td>0.677934</td>\n      <td>0.602777</td>\n      <td>0.654768</td>\n      <td>0.401878</td>\n      <td>[[159, 39, 57], [71, 80, 117], [28, 31, 483]]</td>\n    </tr>\n  </tbody>\n</table>\n</div>",
      "text/plain": "                                             Feature  \\\n0  /home/panayot/Documents/site_similarity/notebo...   \n1  /home/panayot/Documents/site_similarity/notebo...   \n2  /home/panayot/Documents/site_similarity/notebo...   \n3  /home/panayot/Documents/site_similarity/notebo...   \n\n                   Classifier  Accuracy  Balanced Accuracy score  \\\n0   LogisticRegression CV = 5  0.665728                 0.586032   \n1  LogisticRegression CV = 10  0.653521                 0.579289   \n2  GradientBoostingClassifier  0.645070                 0.568206   \n3                     SVC ovo  0.677934                 0.604394   \n\n   F1 micro score  F1 macro score  F1 weighted score       MAE  \\\n0        0.665728        0.564358           0.623351  0.426291   \n1        0.653521        0.567170           0.623488  0.437559   \n2        0.645070        0.569833           0.626133  0.436620   \n3        0.677934        0.602777           0.654768  0.401878   \n\n                                Confusion matrix  \n0  [[174, 20, 61], [87, 47, 134], [37, 17, 488]]  \n1  [[164, 32, 59], [83, 60, 125], [38, 32, 472]]  \n2  [[136, 58, 61], [68, 82, 118], [26, 47, 469]]  \n3  [[159, 39, 57], [71, 80, 117], [28, 31, 483]]  "
     },
     "execution_count": 9,
     "metadata": {},
     "output_type": "execute_result"
    }
   ],
   "source": [
    "res"
   ]
  },
  {
   "cell_type": "code",
   "execution_count": null,
   "metadata": {},
   "outputs": [],
   "source": []
  }
 ],
 "metadata": {
  "kernelspec": {
   "display_name": "Python 3.7.9 64-bit",
   "metadata": {
    "interpreter": {
     "hash": "72b3faef5542ae75c34eb0d3b11ce0fc432eb00b9ccfc309dfbebb58f482608a"
    }
   },
   "name": "python3"
  },
  "language_info": {
   "codemirror_mode": {
    "name": "ipython",
    "version": 3
   },
   "file_extension": ".py",
   "mimetype": "text/x-python",
   "name": "python",
   "nbconvert_exporter": "python",
   "pygments_lexer": "ipython3",
   "version": "3.7.9"
  }
 },
 "nbformat": 4,
 "nbformat_minor": 4
}