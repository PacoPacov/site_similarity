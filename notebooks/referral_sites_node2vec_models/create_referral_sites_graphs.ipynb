{
 "cells": [
  {
   "cell_type": "markdown",
   "metadata": {},
   "source": [
    "# Create unweighted referral_site graph"
   ]
  },
  {
   "cell_type": "code",
   "execution_count": 1,
   "metadata": {},
   "outputs": [],
   "source": [
    "import sys\n",
    "\n",
    "sys.path.append('/home/panayot/Documents/site_similarity')"
   ]
  },
  {
   "cell_type": "markdown",
   "metadata": {},
   "source": [
    "# load referral_site data for corpus 2018"
   ]
  },
  {
   "cell_type": "code",
   "execution_count": 2,
   "metadata": {
    "tags": []
   },
   "outputs": [
    {
     "name": "stdout",
     "output_type": "stream",
     "text": [
      "For file \"modified_corpus_2018_referral_sites.json\" -> load 1062 records\n",
      "For file \"modified_corpus_2018_referral_sites_level_1.json\" -> load 2835 records\n",
      "For file \"modified_corpus_2018_referral_sites_level_2.json\" -> load 7099 records\n",
      "For file \"modified_corpus_2018_referral_sites_level_3.json\" -> load 15767 records\n"
     ]
    }
   ],
   "source": [
    "from utils.notebook_utils import _DATA_PATH, load_json\n",
    "import os\n",
    "\n",
    "corpus_2018_referral_files = [\n",
    "    'modified_corpus_2018_referral_sites.json',\n",
    "    'modified_corpus_2018_referral_sites_level_1.json',\n",
    "    'modified_corpus_2018_referral_sites_level_2.json',\n",
    "    'modified_corpus_2018_referral_sites_level_3.json'\n",
    "]\n",
    "\n",
    "corpus_2018_referral_sites_nodes = {}\n",
    "\n",
    "for f in corpus_2018_referral_files:\n",
    "    loaded_data = load_json(os.path.join(_DATA_PATH,f))\n",
    "    print(f'For file \"{f}\" -> load {len(loaded_data)} records')\n",
    "    corpus_2018_referral_sites_nodes.update(loaded_data)"
   ]
  },
  {
   "cell_type": "code",
   "execution_count": 4,
   "metadata": {},
   "outputs": [
    {
     "data": {
      "text/plain": "17452"
     },
     "execution_count": 4,
     "metadata": {},
     "output_type": "execute_result"
    }
   ],
   "source": [
    "len(corpus_2018_referral_sites_nodes)"
   ]
  },
  {
   "cell_type": "code",
   "execution_count": 5,
   "metadata": {},
   "outputs": [
    {
     "data": {
      "text/plain": "[['villagevoice.com', '13.1 k'],\n ['gothamist.com', '8.5 k'],\n ['amny.com', '2.1 k'],\n ['robertchristgau.com', '701'],\n ['tonyortega.org', '424']]"
     },
     "execution_count": 5,
     "metadata": {},
     "output_type": "execute_result"
    }
   ],
   "source": [
    "corpus_2018_referral_sites_nodes['villagevoice.com']"
   ]
  },
  {
   "cell_type": "code",
   "execution_count": 6,
   "metadata": {},
   "outputs": [
    {
     "data": {
      "text/plain": "[]"
     },
     "execution_count": 6,
     "metadata": {},
     "output_type": "execute_result"
    }
   ],
   "source": [
    "corpus_2018_referral_sites_nodes['fury.news']"
   ]
  },
  {
   "cell_type": "code",
   "execution_count": 7,
   "metadata": {},
   "outputs": [],
   "source": [
    "from utils.notebook_utils import get_referral_sites_edges"
   ]
  },
  {
   "cell_type": "code",
   "execution_count": 14,
   "metadata": {},
   "outputs": [
    {
     "name": "stdout",
     "output_type": "stream",
     "text": [
      "Node length: 68157\n",
      "Distinct node length: 68157\n",
      "68157\n"
     ]
    }
   ],
   "source": [
    "r_nodes = list(get_referral_sites_edges(corpus_2018_referral_sites_nodes))\n",
    "\n",
    "print(len(r_nodes))"
   ]
  },
  {
   "cell_type": "code",
   "execution_count": 15,
   "metadata": {},
   "outputs": [
    {
     "data": {
      "text/plain": "[('invezz.com', 'shareprices.com'),\n ('studio-news.com', 'interiorsmonthly.co.uk'),\n ('yourgibraltartv.com', 'gibraltar.gov.gi'),\n ('kingstondemocrats.com', 'ulstercountydemocrats.com'),\n ('discordpy.readthedocs.io', 'twentysix26.github.io'),\n ('bioethics.net', 'englishwithimpact.com'),\n ('seeitlive.co', 'superstarmagazine.com'),\n ('milescity.com', 'milescitychamber.com'),\n ('brisbanecomedyfestival.com', 'sydneycomedyfest.com.au'),\n ('altlib.org', 'alternativeslibrary.org')]"
     },
     "execution_count": 15,
     "metadata": {},
     "output_type": "execute_result"
    }
   ],
   "source": [
    "r_nodes[:10]"
   ]
  },
  {
   "cell_type": "code",
   "execution_count": 16,
   "metadata": {},
   "outputs": [],
   "source": [
    "from utils.notebook_utils import create_node2vec_model"
   ]
  },
  {
   "cell_type": "code",
   "execution_count": 17,
   "metadata": {
    "tags": []
   },
   "outputs": [
    {
     "name": "stdout",
     "output_type": "stream",
     "text": [
      "Start creating random walks\n",
      "Number of random walks: 356800\n",
      "Successful save of model: corpus_2018_referral_sites_lvl_three_unweighted_64D.model!\n",
      "Successful save of model: corpus_2018_referral_sites_lvl_three_unweighted_128D.model!\n",
      "Successful save of model: corpus_2018_referral_sites_lvl_three_unweighted_256D.model!\n",
      "Successful save of model: corpus_2018_referral_sites_lvl_three_unweighted_512D.model!\n",
      "Successful save of model: corpus_2018_referral_sites_lvl_three_unweighted_1024D.model!\n"
     ]
    }
   ],
   "source": [
    "create_node2vec_model(r_nodes, is_weighted=False,\n",
    "                      dimensions=[64, 128, 256, 512, 1024],\n",
    "                      prefix='corpus_2018_referral_sites_lvl_three')\n",
    "\n",
    "# Start creating random walks\n",
    "# Number of random walks: 173590\n",
    "# Successful save of model: corpus_2018_referral_sites_unweighted_64_D.model!\n",
    "# Successful save of model: corpus_2018_referral_sites_unweighted_128_D.model!"
   ]
  },
  {
   "cell_type": "markdown",
   "metadata": {},
   "source": [
    "# Load referral_site data for corpus 2020"
   ]
  },
  {
   "cell_type": "code",
   "execution_count": 21,
   "metadata": {
    "tags": []
   },
   "outputs": [
    {
     "name": "stdout",
     "output_type": "stream",
     "text": [
      "For file \"corpus_2020_referral_sites.json\" -> load 859 records\n",
      "For file \"corpus_2020_referral_sites_level_1.json\" -> load 2333 records\n",
      "For file \"corpus_2020_referral_sites_level_2.json\" -> load 5954 records\n",
      "For file \"corpus_2020_referral_sites_level_3.json\" -> load 13320 records\n",
      "14783\n"
     ]
    }
   ],
   "source": [
    "corpus_2020_referral_files = [\n",
    "    'corpus_2020_referral_sites.json',\n",
    "    'corpus_2020_referral_sites_level_1.json',\n",
    "    'corpus_2020_referral_sites_level_2.json',\n",
    "    'corpus_2020_referral_sites_level_3.json',\n",
    "]\n",
    "\n",
    "corpus_2020_referral_sites_nodes = {}\n",
    "\n",
    "for f in corpus_2020_referral_files:\n",
    "    loaded_data = load_json(os.path.join(_DATA_PATH,f))\n",
    "    print(f'For file \"{f}\" -> load {len(loaded_data)} records')\n",
    "    corpus_2020_referral_sites_nodes.update(loaded_data)\n",
    "\n",
    "print(len(corpus_2020_referral_sites_nodes))"
   ]
  },
  {
   "cell_type": "code",
   "execution_count": 20,
   "metadata": {},
   "outputs": [
    {
     "data": {
      "text/plain": "[]"
     },
     "execution_count": 20,
     "metadata": {},
     "output_type": "execute_result"
    }
   ],
   "source": [
    "corpus_2018_referral_sites_nodes['deepleftfield.info']"
   ]
  },
  {
   "cell_type": "code",
   "execution_count": 22,
   "metadata": {},
   "outputs": [
    {
     "name": "stdout",
     "output_type": "stream",
     "text": [
      "Node length: 57785\n",
      "Distinct node length: 57785\n",
      "57785\n"
     ]
    }
   ],
   "source": [
    "r_nodes = list(get_referral_sites_edges(corpus_2020_referral_sites_nodes))\n",
    "\n",
    "print(len(r_nodes))"
   ]
  },
  {
   "cell_type": "code",
   "execution_count": 23,
   "metadata": {},
   "outputs": [
    {
     "data": {
      "text/plain": "[('invezz.com', 'shareprices.com'),\n ('studio-news.com', 'interiorsmonthly.co.uk'),\n ('yourgibraltartv.com', 'gibraltar.gov.gi'),\n ('kingstondemocrats.com', 'ulstercountydemocrats.com'),\n ('discordpy.readthedocs.io', 'twentysix26.github.io'),\n ('thedailyhoosier.com', 'hoosiersportsreport.com'),\n ('alfakhamalarabiya.com', 'abwmonline.com'),\n ('susps.org', 'learnforeverlearn.com'),\n ('seeitlive.co', 'superstarmagazine.com'),\n ('thetrumptimes.com', 'phibetaiota.net')]"
     },
     "execution_count": 23,
     "metadata": {},
     "output_type": "execute_result"
    }
   ],
   "source": [
    "r_nodes[:10]"
   ]
  },
  {
   "cell_type": "code",
   "execution_count": 24,
   "metadata": {
    "tags": []
   },
   "outputs": [
    {
     "name": "stdout",
     "output_type": "stream",
     "text": [
      "Start creating random walks\n",
      "Number of random walks: 302830\n",
      "Successful save of model: corpus_2020_referral_sites_lvl_three_unweighted_64D.model!\n",
      "Successful save of model: corpus_2020_referral_sites_lvl_three_unweighted_128D.model!\n",
      "Successful save of model: corpus_2020_referral_sites_lvl_three_unweighted_256D.model!\n",
      "Successful save of model: corpus_2020_referral_sites_lvl_three_unweighted_512D.model!\n",
      "Successful save of model: corpus_2020_referral_sites_lvl_three_unweighted_1024D.model!\n"
     ]
    }
   ],
   "source": [
    "from utils.notebook_utils import create_node2vec_model\n",
    "\n",
    "create_node2vec_model(r_nodes, is_weighted=False,\n",
    "                      dimensions=[64, 128, 256, 512, 1024],\n",
    "                      prefix='corpus_2020_referral_sites_lvl_three')\n",
    "\n",
    "# Start creating random walks\n",
    "# Number of random walks: 147830\n",
    "# Successful save of model: corpus_2020_referral_sites_unweighted_64_D.model!\n",
    "# Successful save of model: corpus_2020_referral_sites_unweighted_128_D.model!"
   ]
  },
  {
   "cell_type": "code",
   "execution_count": null,
   "metadata": {},
   "outputs": [],
   "source": []
  }
 ],
 "metadata": {
  "kernelspec": {
   "display_name": "Python 3.7.9 64-bit ('site_similarity': conda)",
   "metadata": {
    "interpreter": {
     "hash": "72b3faef5542ae75c34eb0d3b11ce0fc432eb00b9ccfc309dfbebb58f482608a"
    }
   },
   "name": "python3"
  },
  "language_info": {
   "codemirror_mode": {
    "name": "ipython",
    "version": 3
   },
   "file_extension": ".py",
   "mimetype": "text/x-python",
   "name": "python",
   "nbconvert_exporter": "python",
   "pygments_lexer": "ipython3",
   "version": "3.7.9"
  }
 },
 "nbformat": 4,
 "nbformat_minor": 2
}