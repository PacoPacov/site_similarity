{
 "cells": [
  {
   "cell_type": "code",
   "execution_count": 1,
   "metadata": {},
   "outputs": [
    {
     "name": "stdout",
     "output_type": "stream",
     "text": [
      "/home/panayot/anaconda3/envs/site_similarity/bin/python\n"
     ]
    }
   ],
   "source": [
    "import sys\n",
    "\n",
    "sys.path.append(\"/home/panayot/Documents/site_similarity\")\n",
    "print(sys.executable)"
   ]
  },
  {
   "cell_type": "markdown",
   "metadata": {},
   "source": [
    "# Eval corpus 2018 referral_sites node2vec models"
   ]
  },
  {
   "cell_type": "code",
   "execution_count": 6,
   "metadata": {
    "tags": []
   },
   "outputs": [
    {
     "name": "stdout",
     "output_type": "stream",
     "text": [
      "Using model: corpus_2018_referral_sites_unweighted_64_D.model\n",
      "Start training...\n",
      "train 851 851\n",
      "test 215 215\n",
      "train 852 852\n",
      "test 214 214\n",
      "train 853 853\n",
      "test 213 213\n",
      "train 854 854\n",
      "test 212 212\n",
      "train 854 854\n",
      "test 212 212\n",
      "Start training...\n",
      "train 851 851\n",
      "test 215 215\n",
      "train 852 852\n",
      "test 214 214\n",
      "train 853 853\n",
      "test 213 213\n",
      "train 854 854\n",
      "test 212 212\n",
      "train 854 854\n",
      "test 212 212\n",
      "Start training...\n",
      "train 851 851\n",
      "test 215 215\n",
      "train 852 852\n",
      "test 214 214\n",
      "train 853 853\n",
      "test 213 213\n",
      "train 854 854\n",
      "test 212 212\n",
      "train 854 854\n",
      "test 212 212\n",
      "Start training...\n",
      "train 851 851\n",
      "test 215 215\n",
      "train 852 852\n",
      "test 214 214\n",
      "train 853 853\n",
      "test 213 213\n",
      "train 854 854\n",
      "test 212 212\n",
      "train 854 854\n",
      "test 212 212\n",
      "Using model: corpus_2018_referral_sites_unweighted_128_D.model\n",
      "Start training...\n",
      "train 851 851\n",
      "test 215 215\n",
      "train 852 852\n",
      "test 214 214\n",
      "train 853 853\n",
      "test 213 213\n",
      "train 854 854\n",
      "test 212 212\n",
      "train 854 854\n",
      "test 212 212\n",
      "Start training...\n",
      "train 851 851\n",
      "test 215 215\n",
      "train 852 852\n",
      "test 214 214\n",
      "train 853 853\n",
      "test 213 213\n",
      "train 854 854\n",
      "test 212 212\n",
      "train 854 854\n",
      "test 212 212\n",
      "Start training...\n",
      "train 851 851\n",
      "test 215 215\n",
      "train 852 852\n",
      "test 214 214\n",
      "train 853 853\n",
      "test 213 213\n",
      "train 854 854\n",
      "test 212 212\n",
      "train 854 854\n",
      "test 212 212\n",
      "Start training...\n",
      "train 851 851\n",
      "test 215 215\n",
      "train 852 852\n",
      "test 214 214\n",
      "train 853 853\n",
      "test 213 213\n",
      "train 854 854\n",
      "test 212 212\n",
      "train 854 854\n",
      "test 212 212\n"
     ]
    }
   ],
   "source": [
    "from utils.notebook_utils import eval_node2vec_models\n",
    "\n",
    "models = [\n",
    "    'corpus_2018_referral_sites_unweighted_64_D.model',\n",
    "    'corpus_2018_referral_sites_unweighted_128_D.model',\n",
    "]\n",
    "\n",
    "\n",
    "result_table_2018 = eval_node2vec_models(models, data_year='2018')"
   ]
  },
  {
   "cell_type": "code",
   "execution_count": 7,
   "metadata": {},
   "outputs": [
    {
     "data": {
      "text/html": "<div>\n<style scoped>\n    .dataframe tbody tr th:only-of-type {\n        vertical-align: middle;\n    }\n\n    .dataframe tbody tr th {\n        vertical-align: top;\n    }\n\n    .dataframe thead th {\n        text-align: right;\n    }\n</style>\n<table border=\"1\" class=\"dataframe\">\n  <thead>\n    <tr style=\"text-align: right;\">\n      <th></th>\n      <th>Feature</th>\n      <th>Classifier</th>\n      <th>Accuracy</th>\n      <th>Balanced Accuracy score</th>\n      <th>F1 micro score</th>\n      <th>F1 macro score</th>\n      <th>F1 weighted score</th>\n      <th>MAE</th>\n      <th>Confusion matrix</th>\n    </tr>\n  </thead>\n  <tbody>\n    <tr>\n      <th>0</th>\n      <td>corpus_2018_referral_sites_unweighted_64_D</td>\n      <td>LogisticRegression CV = 5</td>\n      <td>0.545966</td>\n      <td>0.425135</td>\n      <td>0.545966</td>\n      <td>0.412144</td>\n      <td>0.490206</td>\n      <td>0.622889</td>\n      <td>[[47, 54, 154], [34, 56, 178], [26, 38, 479]]</td>\n    </tr>\n    <tr>\n      <th>1</th>\n      <td>corpus_2018_referral_sites_unweighted_64_D</td>\n      <td>LogisticRegression CV = 10</td>\n      <td>0.569418</td>\n      <td>0.457324</td>\n      <td>0.569418</td>\n      <td>0.427886</td>\n      <td>0.501147</td>\n      <td>0.615385</td>\n      <td>[[104, 4, 147], [65, 20, 183], [50, 10, 483]]</td>\n    </tr>\n    <tr>\n      <th>2</th>\n      <td>corpus_2018_referral_sites_unweighted_64_D</td>\n      <td>GradientBoostingClassifier</td>\n      <td>0.598499</td>\n      <td>0.514529</td>\n      <td>0.598499</td>\n      <td>0.515461</td>\n      <td>0.576012</td>\n      <td>0.521576</td>\n      <td>[[110, 53, 92], [69, 74, 125], [36, 53, 454]]</td>\n    </tr>\n    <tr>\n      <th>3</th>\n      <td>corpus_2018_referral_sites_unweighted_64_D</td>\n      <td>SVC ovo</td>\n      <td>0.651032</td>\n      <td>0.560130</td>\n      <td>0.651032</td>\n      <td>0.556223</td>\n      <td>0.615326</td>\n      <td>0.453096</td>\n      <td>[[138, 33, 84], [69, 61, 138], [27, 21, 495]]</td>\n    </tr>\n    <tr>\n      <th>4</th>\n      <td>corpus_2018_referral_sites_unweighted_128_D</td>\n      <td>LogisticRegression CV = 5</td>\n      <td>0.576923</td>\n      <td>0.460202</td>\n      <td>0.576923</td>\n      <td>0.455394</td>\n      <td>0.526588</td>\n      <td>0.585366</td>\n      <td>[[62, 43, 150], [37, 63, 168], [23, 30, 490]]</td>\n    </tr>\n    <tr>\n      <th>5</th>\n      <td>corpus_2018_referral_sites_unweighted_128_D</td>\n      <td>LogisticRegression CV = 10</td>\n      <td>0.575047</td>\n      <td>0.459482</td>\n      <td>0.575047</td>\n      <td>0.453626</td>\n      <td>0.525000</td>\n      <td>0.584428</td>\n      <td>[[70, 41, 144], [43, 55, 170], [26, 29, 488]]</td>\n    </tr>\n    <tr>\n      <th>6</th>\n      <td>corpus_2018_referral_sites_unweighted_128_D</td>\n      <td>GradientBoostingClassifier</td>\n      <td>0.628518</td>\n      <td>0.549232</td>\n      <td>0.628518</td>\n      <td>0.554533</td>\n      <td>0.608301</td>\n      <td>0.486867</td>\n      <td>[[119, 46, 90], [59, 88, 121], [33, 47, 463]]</td>\n    </tr>\n    <tr>\n      <th>7</th>\n      <td>corpus_2018_referral_sites_unweighted_128_D</td>\n      <td>SVC ovo</td>\n      <td>0.665103</td>\n      <td>0.580241</td>\n      <td>0.665103</td>\n      <td>0.575846</td>\n      <td>0.631551</td>\n      <td>0.430582</td>\n      <td>[[151, 29, 75], [70, 64, 134], [27, 22, 494]]</td>\n    </tr>\n  </tbody>\n</table>\n</div>",
      "text/plain": "                                       Feature                  Classifier  \\\n0   corpus_2018_referral_sites_unweighted_64_D   LogisticRegression CV = 5   \n1   corpus_2018_referral_sites_unweighted_64_D  LogisticRegression CV = 10   \n2   corpus_2018_referral_sites_unweighted_64_D  GradientBoostingClassifier   \n3   corpus_2018_referral_sites_unweighted_64_D                     SVC ovo   \n4  corpus_2018_referral_sites_unweighted_128_D   LogisticRegression CV = 5   \n5  corpus_2018_referral_sites_unweighted_128_D  LogisticRegression CV = 10   \n6  corpus_2018_referral_sites_unweighted_128_D  GradientBoostingClassifier   \n7  corpus_2018_referral_sites_unweighted_128_D                     SVC ovo   \n\n   Accuracy  Balanced Accuracy score  F1 micro score  F1 macro score  \\\n0  0.545966                 0.425135        0.545966        0.412144   \n1  0.569418                 0.457324        0.569418        0.427886   \n2  0.598499                 0.514529        0.598499        0.515461   \n3  0.651032                 0.560130        0.651032        0.556223   \n4  0.576923                 0.460202        0.576923        0.455394   \n5  0.575047                 0.459482        0.575047        0.453626   \n6  0.628518                 0.549232        0.628518        0.554533   \n7  0.665103                 0.580241        0.665103        0.575846   \n\n   F1 weighted score       MAE                               Confusion matrix  \n0           0.490206  0.622889  [[47, 54, 154], [34, 56, 178], [26, 38, 479]]  \n1           0.501147  0.615385  [[104, 4, 147], [65, 20, 183], [50, 10, 483]]  \n2           0.576012  0.521576  [[110, 53, 92], [69, 74, 125], [36, 53, 454]]  \n3           0.615326  0.453096  [[138, 33, 84], [69, 61, 138], [27, 21, 495]]  \n4           0.526588  0.585366  [[62, 43, 150], [37, 63, 168], [23, 30, 490]]  \n5           0.525000  0.584428  [[70, 41, 144], [43, 55, 170], [26, 29, 488]]  \n6           0.608301  0.486867  [[119, 46, 90], [59, 88, 121], [33, 47, 463]]  \n7           0.631551  0.430582  [[151, 29, 75], [70, 64, 134], [27, 22, 494]]  "
     },
     "execution_count": 7,
     "metadata": {},
     "output_type": "execute_result"
    }
   ],
   "source": [
    "result_table_2018"
   ]
  },
  {
   "cell_type": "code",
   "execution_count": 3,
   "metadata": {},
   "outputs": [
    {
     "name": "stdout",
     "output_type": "stream",
     "text": [
      "Using model: corpus_2018_referral_sites_lvl_three_unweighted_64D.model\n",
      "Start training...\n",
      "Start training...\n",
      "Start training...\n",
      "Start training...\n",
      "Using model: corpus_2018_referral_sites_lvl_three_unweighted_128D.model\n",
      "Start training...\n",
      "Start training...\n",
      "Start training...\n",
      "Start training...\n",
      "Using model: corpus_2018_referral_sites_lvl_three_unweighted_256D.model\n",
      "Start training...\n",
      "Start training...\n",
      "Start training...\n",
      "Start training...\n",
      "Using model: corpus_2018_referral_sites_lvl_three_unweighted_512D.model\n",
      "Start training...\n",
      "Start training...\n",
      "Start training...\n",
      "Start training...\n",
      "Using model: corpus_2018_referral_sites_lvl_three_unweighted_1024D.model\n",
      "Start training...\n",
      "Start training...\n",
      "Start training...\n",
      "Start training...\n"
     ]
    }
   ],
   "source": [
    "from utils.notebook_utils import eval_node2vec_models\n",
    "\n",
    "\n",
    "corpus_2018_referral_sites_lvl_three_models = [\n",
    "    'corpus_2018_referral_sites_lvl_three_unweighted_64D.model',\n",
    "    'corpus_2018_referral_sites_lvl_three_unweighted_128D.model',\n",
    "    'corpus_2018_referral_sites_lvl_three_unweighted_256D.model',\n",
    "    'corpus_2018_referral_sites_lvl_three_unweighted_512D.model',\n",
    "    'corpus_2018_referral_sites_lvl_three_unweighted_1024D.model'\n",
    "]\n",
    "\n",
    "result_table_2018_referral_sites_lvl_three = eval_node2vec_models(corpus_2018_referral_sites_lvl_three_models,\n",
    "                                                                  data_year='2018')"
   ]
  },
  {
   "cell_type": "code",
   "execution_count": 5,
   "metadata": {},
   "outputs": [
    {
     "data": {
      "text/html": "<div>\n<style scoped>\n    .dataframe tbody tr th:only-of-type {\n        vertical-align: middle;\n    }\n\n    .dataframe tbody tr th {\n        vertical-align: top;\n    }\n\n    .dataframe thead th {\n        text-align: right;\n    }\n</style>\n<table border=\"1\" class=\"dataframe\">\n  <thead>\n    <tr style=\"text-align: right;\">\n      <th></th>\n      <th>Feature</th>\n      <th>Classifier</th>\n      <th>Accuracy</th>\n      <th>Balanced Accuracy score</th>\n      <th>F1 micro score</th>\n      <th>F1 macro score</th>\n      <th>F1 weighted score</th>\n      <th>MAE</th>\n      <th>Confusion matrix</th>\n    </tr>\n  </thead>\n  <tbody>\n    <tr>\n      <th>0</th>\n      <td>corpus_2018_referral_sites_lvl_three_unweighte...</td>\n      <td>LogisticRegression CV = 5</td>\n      <td>0.554930</td>\n      <td>0.421585</td>\n      <td>0.554930</td>\n      <td>0.399364</td>\n      <td>0.483465</td>\n      <td>0.615962</td>\n      <td>[[34, 50, 171], [28, 55, 185], [11, 29, 502]]</td>\n    </tr>\n    <tr>\n      <th>1</th>\n      <td>corpus_2018_referral_sites_lvl_three_unweighte...</td>\n      <td>LogisticRegression CV = 10</td>\n      <td>0.549296</td>\n      <td>0.417457</td>\n      <td>0.549296</td>\n      <td>0.396478</td>\n      <td>0.479208</td>\n      <td>0.633803</td>\n      <td>[[37, 41, 177], [32, 51, 185], [18, 27, 497]]</td>\n    </tr>\n    <tr>\n      <th>2</th>\n      <td>corpus_2018_referral_sites_lvl_three_unweighte...</td>\n      <td>GradientBoostingClassifier</td>\n      <td>0.602817</td>\n      <td>0.516183</td>\n      <td>0.602817</td>\n      <td>0.518362</td>\n      <td>0.576875</td>\n      <td>0.523944</td>\n      <td>[[109, 44, 102], [62, 73, 133], [33, 49, 460]]</td>\n    </tr>\n    <tr>\n      <th>3</th>\n      <td>corpus_2018_referral_sites_lvl_three_unweighte...</td>\n      <td>SVC ovo</td>\n      <td>0.652582</td>\n      <td>0.564703</td>\n      <td>0.652582</td>\n      <td>0.560211</td>\n      <td>0.617619</td>\n      <td>0.457277</td>\n      <td>[[142, 27, 86], [72, 62, 134], [31, 20, 491]]</td>\n    </tr>\n    <tr>\n      <th>4</th>\n      <td>corpus_2018_referral_sites_lvl_three_unweighte...</td>\n      <td>LogisticRegression CV = 5</td>\n      <td>0.567136</td>\n      <td>0.439963</td>\n      <td>0.567136</td>\n      <td>0.425695</td>\n      <td>0.505849</td>\n      <td>0.594366</td>\n      <td>[[49, 52, 154], [39, 55, 174], [18, 24, 500]]</td>\n    </tr>\n    <tr>\n      <th>5</th>\n      <td>corpus_2018_referral_sites_lvl_three_unweighte...</td>\n      <td>LogisticRegression CV = 10</td>\n      <td>0.574648</td>\n      <td>0.459921</td>\n      <td>0.574648</td>\n      <td>0.453689</td>\n      <td>0.525986</td>\n      <td>0.589671</td>\n      <td>[[68, 44, 143], [48, 58, 162], [32, 24, 486]]</td>\n    </tr>\n    <tr>\n      <th>6</th>\n      <td>corpus_2018_referral_sites_lvl_three_unweighte...</td>\n      <td>GradientBoostingClassifier</td>\n      <td>0.594366</td>\n      <td>0.508381</td>\n      <td>0.594366</td>\n      <td>0.509763</td>\n      <td>0.571031</td>\n      <td>0.532394</td>\n      <td>[[103, 56, 96], [65, 76, 127], [39, 49, 454]]</td>\n    </tr>\n    <tr>\n      <th>7</th>\n      <td>corpus_2018_referral_sites_lvl_three_unweighte...</td>\n      <td>SVC ovo</td>\n      <td>0.660094</td>\n      <td>0.575536</td>\n      <td>0.660094</td>\n      <td>0.572568</td>\n      <td>0.627869</td>\n      <td>0.447887</td>\n      <td>[[146, 27, 82], [71, 67, 130], [33, 19, 490]]</td>\n    </tr>\n    <tr>\n      <th>8</th>\n      <td>corpus_2018_referral_sites_lvl_three_unweighte...</td>\n      <td>LogisticRegression CV = 5</td>\n      <td>0.596244</td>\n      <td>0.489796</td>\n      <td>0.596244</td>\n      <td>0.490316</td>\n      <td>0.552947</td>\n      <td>0.568075</td>\n      <td>[[88, 25, 142], [46, 61, 161], [33, 23, 486]]</td>\n    </tr>\n    <tr>\n      <th>9</th>\n      <td>corpus_2018_referral_sites_lvl_three_unweighte...</td>\n      <td>LogisticRegression CV = 10</td>\n      <td>0.600000</td>\n      <td>0.496409</td>\n      <td>0.600000</td>\n      <td>0.497055</td>\n      <td>0.558493</td>\n      <td>0.563380</td>\n      <td>[[94, 23, 138], [50, 61, 157], [36, 22, 484]]</td>\n    </tr>\n    <tr>\n      <th>10</th>\n      <td>corpus_2018_referral_sites_lvl_three_unweighte...</td>\n      <td>GradientBoostingClassifier</td>\n      <td>0.614085</td>\n      <td>0.539668</td>\n      <td>0.614085</td>\n      <td>0.543524</td>\n      <td>0.594424</td>\n      <td>0.507042</td>\n      <td>[[125, 41, 89], [56, 81, 131], [40, 54, 448]]</td>\n    </tr>\n    <tr>\n      <th>11</th>\n      <td>corpus_2018_referral_sites_lvl_three_unweighte...</td>\n      <td>SVC ovo</td>\n      <td>0.660094</td>\n      <td>0.578680</td>\n      <td>0.660094</td>\n      <td>0.578318</td>\n      <td>0.630895</td>\n      <td>0.448826</td>\n      <td>[[146, 27, 82], [66, 72, 130], [34, 23, 485]]</td>\n    </tr>\n    <tr>\n      <th>12</th>\n      <td>corpus_2018_referral_sites_lvl_three_unweighte...</td>\n      <td>LogisticRegression CV = 5</td>\n      <td>0.600000</td>\n      <td>0.496156</td>\n      <td>0.600000</td>\n      <td>0.498358</td>\n      <td>0.559452</td>\n      <td>0.563380</td>\n      <td>[[90, 25, 140], [47, 65, 156], [34, 24, 484]]</td>\n    </tr>\n    <tr>\n      <th>13</th>\n      <td>corpus_2018_referral_sites_lvl_three_unweighte...</td>\n      <td>LogisticRegression CV = 10</td>\n      <td>0.600939</td>\n      <td>0.515835</td>\n      <td>0.600939</td>\n      <td>0.516462</td>\n      <td>0.573526</td>\n      <td>0.550235</td>\n      <td>[[113, 30, 112], [67, 70, 131], [49, 36, 457]]</td>\n    </tr>\n    <tr>\n      <th>14</th>\n      <td>corpus_2018_referral_sites_lvl_three_unweighte...</td>\n      <td>GradientBoostingClassifier</td>\n      <td>0.610329</td>\n      <td>0.531290</td>\n      <td>0.610329</td>\n      <td>0.536908</td>\n      <td>0.590768</td>\n      <td>0.508920</td>\n      <td>[[111, 50, 94], [54, 87, 127], [33, 57, 452]]</td>\n    </tr>\n    <tr>\n      <th>15</th>\n      <td>corpus_2018_referral_sites_lvl_three_unweighte...</td>\n      <td>SVC ovo</td>\n      <td>0.661033</td>\n      <td>0.579860</td>\n      <td>0.661033</td>\n      <td>0.578383</td>\n      <td>0.633280</td>\n      <td>0.448826</td>\n      <td>[[145, 28, 82], [77, 74, 117], [35, 22, 485]]</td>\n    </tr>\n    <tr>\n      <th>16</th>\n      <td>corpus_2018_referral_sites_lvl_three_unweighte...</td>\n      <td>LogisticRegression CV = 5</td>\n      <td>0.610329</td>\n      <td>0.521103</td>\n      <td>0.610329</td>\n      <td>0.524756</td>\n      <td>0.580621</td>\n      <td>0.539906</td>\n      <td>[[109, 27, 119], [58, 73, 137], [41, 33, 468]]</td>\n    </tr>\n    <tr>\n      <th>17</th>\n      <td>corpus_2018_referral_sites_lvl_three_unweighte...</td>\n      <td>LogisticRegression CV = 10</td>\n      <td>0.607512</td>\n      <td>0.511707</td>\n      <td>0.607512</td>\n      <td>0.515552</td>\n      <td>0.574059</td>\n      <td>0.544601</td>\n      <td>[[99, 28, 128], [55, 72, 141], [34, 32, 476]]</td>\n    </tr>\n    <tr>\n      <th>18</th>\n      <td>corpus_2018_referral_sites_lvl_three_unweighte...</td>\n      <td>GradientBoostingClassifier</td>\n      <td>0.621596</td>\n      <td>0.539235</td>\n      <td>0.621596</td>\n      <td>0.543645</td>\n      <td>0.601142</td>\n      <td>0.493897</td>\n      <td>[[110, 56, 89], [61, 89, 118], [34, 45, 463]]</td>\n    </tr>\n    <tr>\n      <th>19</th>\n      <td>corpus_2018_referral_sites_lvl_three_unweighte...</td>\n      <td>SVC ovo</td>\n      <td>0.666667</td>\n      <td>0.585880</td>\n      <td>0.666667</td>\n      <td>0.582022</td>\n      <td>0.636716</td>\n      <td>0.438498</td>\n      <td>[[152, 26, 77], [77, 70, 121], [35, 19, 488]]</td>\n    </tr>\n  </tbody>\n</table>\n</div>",
      "text/plain": "                                              Feature  \\\n0   corpus_2018_referral_sites_lvl_three_unweighte...   \n1   corpus_2018_referral_sites_lvl_three_unweighte...   \n2   corpus_2018_referral_sites_lvl_three_unweighte...   \n3   corpus_2018_referral_sites_lvl_three_unweighte...   \n4   corpus_2018_referral_sites_lvl_three_unweighte...   \n5   corpus_2018_referral_sites_lvl_three_unweighte...   \n6   corpus_2018_referral_sites_lvl_three_unweighte...   \n7   corpus_2018_referral_sites_lvl_three_unweighte...   \n8   corpus_2018_referral_sites_lvl_three_unweighte...   \n9   corpus_2018_referral_sites_lvl_three_unweighte...   \n10  corpus_2018_referral_sites_lvl_three_unweighte...   \n11  corpus_2018_referral_sites_lvl_three_unweighte...   \n12  corpus_2018_referral_sites_lvl_three_unweighte...   \n13  corpus_2018_referral_sites_lvl_three_unweighte...   \n14  corpus_2018_referral_sites_lvl_three_unweighte...   \n15  corpus_2018_referral_sites_lvl_three_unweighte...   \n16  corpus_2018_referral_sites_lvl_three_unweighte...   \n17  corpus_2018_referral_sites_lvl_three_unweighte...   \n18  corpus_2018_referral_sites_lvl_three_unweighte...   \n19  corpus_2018_referral_sites_lvl_three_unweighte...   \n\n                    Classifier  Accuracy  Balanced Accuracy score  \\\n0    LogisticRegression CV = 5  0.554930                 0.421585   \n1   LogisticRegression CV = 10  0.549296                 0.417457   \n2   GradientBoostingClassifier  0.602817                 0.516183   \n3                      SVC ovo  0.652582                 0.564703   \n4    LogisticRegression CV = 5  0.567136                 0.439963   \n5   LogisticRegression CV = 10  0.574648                 0.459921   \n6   GradientBoostingClassifier  0.594366                 0.508381   \n7                      SVC ovo  0.660094                 0.575536   \n8    LogisticRegression CV = 5  0.596244                 0.489796   \n9   LogisticRegression CV = 10  0.600000                 0.496409   \n10  GradientBoostingClassifier  0.614085                 0.539668   \n11                     SVC ovo  0.660094                 0.578680   \n12   LogisticRegression CV = 5  0.600000                 0.496156   \n13  LogisticRegression CV = 10  0.600939                 0.515835   \n14  GradientBoostingClassifier  0.610329                 0.531290   \n15                     SVC ovo  0.661033                 0.579860   \n16   LogisticRegression CV = 5  0.610329                 0.521103   \n17  LogisticRegression CV = 10  0.607512                 0.511707   \n18  GradientBoostingClassifier  0.621596                 0.539235   \n19                     SVC ovo  0.666667                 0.585880   \n\n    F1 micro score  F1 macro score  F1 weighted score       MAE  \\\n0         0.554930        0.399364           0.483465  0.615962   \n1         0.549296        0.396478           0.479208  0.633803   \n2         0.602817        0.518362           0.576875  0.523944   \n3         0.652582        0.560211           0.617619  0.457277   \n4         0.567136        0.425695           0.505849  0.594366   \n5         0.574648        0.453689           0.525986  0.589671   \n6         0.594366        0.509763           0.571031  0.532394   \n7         0.660094        0.572568           0.627869  0.447887   \n8         0.596244        0.490316           0.552947  0.568075   \n9         0.600000        0.497055           0.558493  0.563380   \n10        0.614085        0.543524           0.594424  0.507042   \n11        0.660094        0.578318           0.630895  0.448826   \n12        0.600000        0.498358           0.559452  0.563380   \n13        0.600939        0.516462           0.573526  0.550235   \n14        0.610329        0.536908           0.590768  0.508920   \n15        0.661033        0.578383           0.633280  0.448826   \n16        0.610329        0.524756           0.580621  0.539906   \n17        0.607512        0.515552           0.574059  0.544601   \n18        0.621596        0.543645           0.601142  0.493897   \n19        0.666667        0.582022           0.636716  0.438498   \n\n                                  Confusion matrix  \n0    [[34, 50, 171], [28, 55, 185], [11, 29, 502]]  \n1    [[37, 41, 177], [32, 51, 185], [18, 27, 497]]  \n2   [[109, 44, 102], [62, 73, 133], [33, 49, 460]]  \n3    [[142, 27, 86], [72, 62, 134], [31, 20, 491]]  \n4    [[49, 52, 154], [39, 55, 174], [18, 24, 500]]  \n5    [[68, 44, 143], [48, 58, 162], [32, 24, 486]]  \n6    [[103, 56, 96], [65, 76, 127], [39, 49, 454]]  \n7    [[146, 27, 82], [71, 67, 130], [33, 19, 490]]  \n8    [[88, 25, 142], [46, 61, 161], [33, 23, 486]]  \n9    [[94, 23, 138], [50, 61, 157], [36, 22, 484]]  \n10   [[125, 41, 89], [56, 81, 131], [40, 54, 448]]  \n11   [[146, 27, 82], [66, 72, 130], [34, 23, 485]]  \n12   [[90, 25, 140], [47, 65, 156], [34, 24, 484]]  \n13  [[113, 30, 112], [67, 70, 131], [49, 36, 457]]  \n14   [[111, 50, 94], [54, 87, 127], [33, 57, 452]]  \n15   [[145, 28, 82], [77, 74, 117], [35, 22, 485]]  \n16  [[109, 27, 119], [58, 73, 137], [41, 33, 468]]  \n17   [[99, 28, 128], [55, 72, 141], [34, 32, 476]]  \n18   [[110, 56, 89], [61, 89, 118], [34, 45, 463]]  \n19   [[152, 26, 77], [77, 70, 121], [35, 19, 488]]  "
     },
     "execution_count": 5,
     "metadata": {},
     "output_type": "execute_result"
    }
   ],
   "source": [
    "result_table_2018_referral_sites_lvl_three"
   ]
  },
  {
   "cell_type": "markdown",
   "metadata": {},
   "source": [
    "# Eval corpus 2020 referral_sites node2vec models"
   ]
  },
  {
   "cell_type": "code",
   "execution_count": 2,
   "metadata": {
    "tags": []
   },
   "outputs": [
    {
     "name": "stdout",
     "output_type": "stream",
     "text": [
      "Using model: corpus_2020_referral_sites_unweighted_64_D.model\n",
      "Start training...\n",
      "train 687 687\n",
      "test 172 172\n",
      "train 687 687\n",
      "test 172 172\n",
      "train 687 687\n",
      "test 172 172\n",
      "train 687 687\n",
      "test 172 172\n",
      "train 688 688\n",
      "test 171 171\n",
      "Start training...\n",
      "train 687 687\n",
      "test 172 172\n",
      "train 687 687\n",
      "test 172 172\n",
      "train 687 687\n",
      "test 172 172\n",
      "train 687 687\n",
      "test 172 172\n",
      "train 688 688\n",
      "test 171 171\n",
      "Start training...\n",
      "train 687 687\n",
      "test 172 172\n",
      "train 687 687\n",
      "test 172 172\n",
      "train 687 687\n",
      "test 172 172\n",
      "train 687 687\n",
      "test 172 172\n",
      "train 688 688\n",
      "test 171 171\n",
      "Start training...\n",
      "train 687 687\n",
      "test 172 172\n",
      "train 687 687\n",
      "test 172 172\n",
      "train 687 687\n",
      "test 172 172\n",
      "train 687 687\n",
      "test 172 172\n",
      "train 688 688\n",
      "test 171 171\n",
      "Using model: corpus_2020_referral_sites_unweighted_128_D.model\n",
      "Start training...\n",
      "train 687 687\n",
      "test 172 172\n",
      "train 687 687\n",
      "test 172 172\n",
      "train 687 687\n",
      "test 172 172\n",
      "train 687 687\n",
      "test 172 172\n",
      "train 688 688\n",
      "test 171 171\n",
      "Start training...\n",
      "train 687 687\n",
      "test 172 172\n",
      "train 687 687\n",
      "test 172 172\n",
      "train 687 687\n",
      "test 172 172\n",
      "train 687 687\n",
      "test 172 172\n",
      "train 688 688\n",
      "test 171 171\n",
      "Start training...\n",
      "train 687 687\n",
      "test 172 172\n",
      "train 687 687\n",
      "test 172 172\n",
      "train 687 687\n",
      "test 172 172\n",
      "train 687 687\n",
      "test 172 172\n",
      "train 688 688\n",
      "test 171 171\n",
      "Start training...\n",
      "train 687 687\n",
      "test 172 172\n",
      "train 687 687\n",
      "test 172 172\n",
      "train 687 687\n",
      "test 172 172\n",
      "train 687 687\n",
      "test 172 172\n",
      "train 688 688\n",
      "test 171 171\n"
     ]
    }
   ],
   "source": [
    "from utils.notebook_utils import eval_node2vec_models\n",
    "\n",
    "models = [\n",
    "    'corpus_2020_referral_sites_unweighted_64_D.model',\n",
    "    'corpus_2020_referral_sites_unweighted_128_D.model',\n",
    "]\n",
    "\n",
    "\n",
    "result_table_2020 = eval_node2vec_models(models, data_year='2020')"
   ]
  },
  {
   "cell_type": "code",
   "execution_count": 4,
   "metadata": {},
   "outputs": [
    {
     "data": {
      "text/html": "<div>\n<style scoped>\n    .dataframe tbody tr th:only-of-type {\n        vertical-align: middle;\n    }\n\n    .dataframe tbody tr th {\n        vertical-align: top;\n    }\n\n    .dataframe thead th {\n        text-align: right;\n    }\n</style>\n<table border=\"1\" class=\"dataframe\">\n  <thead>\n    <tr style=\"text-align: right;\">\n      <th></th>\n      <th>Feature</th>\n      <th>Classifier</th>\n      <th>Accuracy</th>\n      <th>Balanced Accuracy score</th>\n      <th>F1 micro score</th>\n      <th>F1 macro score</th>\n      <th>F1 weighted score</th>\n      <th>MAE</th>\n      <th>Confusion matrix</th>\n    </tr>\n  </thead>\n  <tbody>\n    <tr>\n      <th>0</th>\n      <td>corpus_2020_referral_sites_unweighted_64_D</td>\n      <td>LogisticRegression CV = 5</td>\n      <td>0.573923</td>\n      <td>0.423471</td>\n      <td>0.573923</td>\n      <td>0.406738</td>\n      <td>0.505432</td>\n      <td>0.552969</td>\n      <td>[[18, 42, 102], [10, 58, 177], [7, 28, 417]]</td>\n    </tr>\n    <tr>\n      <th>1</th>\n      <td>corpus_2020_referral_sites_unweighted_64_D</td>\n      <td>LogisticRegression CV = 10</td>\n      <td>0.615832</td>\n      <td>0.482980</td>\n      <td>0.615832</td>\n      <td>0.486497</td>\n      <td>0.567706</td>\n      <td>0.499418</td>\n      <td>[[34, 39, 89], [15, 77, 153], [10, 24, 418]]</td>\n    </tr>\n    <tr>\n      <th>2</th>\n      <td>corpus_2020_referral_sites_unweighted_64_D</td>\n      <td>GradientBoostingClassifier</td>\n      <td>0.620489</td>\n      <td>0.520686</td>\n      <td>0.620489</td>\n      <td>0.528357</td>\n      <td>0.598574</td>\n      <td>0.481956</td>\n      <td>[[49, 47, 66], [32, 101, 112], [22, 47, 383]]</td>\n    </tr>\n    <tr>\n      <th>3</th>\n      <td>corpus_2020_referral_sites_unweighted_64_D</td>\n      <td>SVC ovo</td>\n      <td>0.633295</td>\n      <td>0.517984</td>\n      <td>0.633295</td>\n      <td>0.528838</td>\n      <td>0.599367</td>\n      <td>0.471478</td>\n      <td>[[46, 38, 78], [22, 90, 133], [12, 32, 408]]</td>\n    </tr>\n    <tr>\n      <th>4</th>\n      <td>corpus_2020_referral_sites_unweighted_128_D</td>\n      <td>LogisticRegression CV = 5</td>\n      <td>0.610012</td>\n      <td>0.492315</td>\n      <td>0.610012</td>\n      <td>0.497731</td>\n      <td>0.566698</td>\n      <td>0.504075</td>\n      <td>[[50, 30, 82], [23, 64, 158], [16, 26, 410]]</td>\n    </tr>\n    <tr>\n      <th>5</th>\n      <td>corpus_2020_referral_sites_unweighted_128_D</td>\n      <td>LogisticRegression CV = 10</td>\n      <td>0.614668</td>\n      <td>0.497684</td>\n      <td>0.614668</td>\n      <td>0.505389</td>\n      <td>0.573942</td>\n      <td>0.499418</td>\n      <td>[[49, 31, 82], [21, 70, 154], [16, 27, 409]]</td>\n    </tr>\n    <tr>\n      <th>6</th>\n      <td>corpus_2020_referral_sites_unweighted_128_D</td>\n      <td>GradientBoostingClassifier</td>\n      <td>0.606519</td>\n      <td>0.513601</td>\n      <td>0.606519</td>\n      <td>0.523179</td>\n      <td>0.585708</td>\n      <td>0.481956</td>\n      <td>[[56, 46, 60], [31, 89, 125], [16, 60, 376]]</td>\n    </tr>\n    <tr>\n      <th>7</th>\n      <td>corpus_2020_referral_sites_unweighted_128_D</td>\n      <td>SVC ovo</td>\n      <td>0.632130</td>\n      <td>0.516920</td>\n      <td>0.632130</td>\n      <td>0.527131</td>\n      <td>0.596301</td>\n      <td>0.463329</td>\n      <td>[[50, 40, 72], [24, 81, 140], [10, 30, 412]]</td>\n    </tr>\n  </tbody>\n</table>\n</div>",
      "text/plain": "                                       Feature                  Classifier  \\\n0   corpus_2020_referral_sites_unweighted_64_D   LogisticRegression CV = 5   \n1   corpus_2020_referral_sites_unweighted_64_D  LogisticRegression CV = 10   \n2   corpus_2020_referral_sites_unweighted_64_D  GradientBoostingClassifier   \n3   corpus_2020_referral_sites_unweighted_64_D                     SVC ovo   \n4  corpus_2020_referral_sites_unweighted_128_D   LogisticRegression CV = 5   \n5  corpus_2020_referral_sites_unweighted_128_D  LogisticRegression CV = 10   \n6  corpus_2020_referral_sites_unweighted_128_D  GradientBoostingClassifier   \n7  corpus_2020_referral_sites_unweighted_128_D                     SVC ovo   \n\n   Accuracy  Balanced Accuracy score  F1 micro score  F1 macro score  \\\n0  0.573923                 0.423471        0.573923        0.406738   \n1  0.615832                 0.482980        0.615832        0.486497   \n2  0.620489                 0.520686        0.620489        0.528357   \n3  0.633295                 0.517984        0.633295        0.528838   \n4  0.610012                 0.492315        0.610012        0.497731   \n5  0.614668                 0.497684        0.614668        0.505389   \n6  0.606519                 0.513601        0.606519        0.523179   \n7  0.632130                 0.516920        0.632130        0.527131   \n\n   F1 weighted score       MAE                               Confusion matrix  \n0           0.505432  0.552969   [[18, 42, 102], [10, 58, 177], [7, 28, 417]]  \n1           0.567706  0.499418   [[34, 39, 89], [15, 77, 153], [10, 24, 418]]  \n2           0.598574  0.481956  [[49, 47, 66], [32, 101, 112], [22, 47, 383]]  \n3           0.599367  0.471478   [[46, 38, 78], [22, 90, 133], [12, 32, 408]]  \n4           0.566698  0.504075   [[50, 30, 82], [23, 64, 158], [16, 26, 410]]  \n5           0.573942  0.499418   [[49, 31, 82], [21, 70, 154], [16, 27, 409]]  \n6           0.585708  0.481956   [[56, 46, 60], [31, 89, 125], [16, 60, 376]]  \n7           0.596301  0.463329   [[50, 40, 72], [24, 81, 140], [10, 30, 412]]  "
     },
     "execution_count": 4,
     "metadata": {},
     "output_type": "execute_result"
    }
   ],
   "source": [
    "result_table_2020"
   ]
  },
  {
   "cell_type": "code",
   "execution_count": 6,
   "metadata": {},
   "outputs": [
    {
     "name": "stdout",
     "output_type": "stream",
     "text": [
      "Using model: corpus_2020_referral_sites_lvl_three_unweighted_64D.model\n",
      "Start training...\n",
      "Start training...\n",
      "Start training...\n",
      "Start training...\n",
      "Using model: corpus_2020_referral_sites_lvl_three_unweighted_128D.model\n",
      "Start training...\n",
      "Start training...\n",
      "Start training...\n",
      "Start training...\n",
      "Using model: corpus_2020_referral_sites_lvl_three_unweighted_256D.model\n",
      "Start training...\n",
      "Start training...\n",
      "Start training...\n",
      "Start training...\n",
      "Using model: corpus_2020_referral_sites_lvl_three_unweighted_512D.model\n",
      "Start training...\n",
      "Start training...\n",
      "Start training...\n",
      "Start training...\n",
      "Using model: corpus_2020_referral_sites_lvl_three_unweighted_1024D.model\n",
      "Start training...\n",
      "Start training...\n",
      "Start training...\n",
      "Start training...\n"
     ]
    }
   ],
   "source": [
    "from utils.notebook_utils import eval_node2vec_models\n",
    "\n",
    "\n",
    "corpus_2020_referral_sites_lvl_three_models = [\n",
    "    'corpus_2020_referral_sites_lvl_three_unweighted_64D.model',\n",
    "    'corpus_2020_referral_sites_lvl_three_unweighted_128D.model',\n",
    "    'corpus_2020_referral_sites_lvl_three_unweighted_256D.model',\n",
    "    'corpus_2020_referral_sites_lvl_three_unweighted_512D.model',\n",
    "    'corpus_2020_referral_sites_lvl_three_unweighted_1024D.model'\n",
    "]\n",
    "\n",
    "result_table_2020_referral_sites_lvl_three = eval_node2vec_models(corpus_2020_referral_sites_lvl_three_models,\n",
    "                                                                  data_year='2020')"
   ]
  },
  {
   "cell_type": "code",
   "execution_count": 7,
   "metadata": {},
   "outputs": [
    {
     "data": {
      "text/html": "<div>\n<style scoped>\n    .dataframe tbody tr th:only-of-type {\n        vertical-align: middle;\n    }\n\n    .dataframe tbody tr th {\n        vertical-align: top;\n    }\n\n    .dataframe thead th {\n        text-align: right;\n    }\n</style>\n<table border=\"1\" class=\"dataframe\">\n  <thead>\n    <tr style=\"text-align: right;\">\n      <th></th>\n      <th>Feature</th>\n      <th>Classifier</th>\n      <th>Accuracy</th>\n      <th>Balanced Accuracy score</th>\n      <th>F1 micro score</th>\n      <th>F1 macro score</th>\n      <th>F1 weighted score</th>\n      <th>MAE</th>\n      <th>Confusion matrix</th>\n    </tr>\n  </thead>\n  <tbody>\n    <tr>\n      <th>0</th>\n      <td>corpus_2020_referral_sites_lvl_three_unweighte...</td>\n      <td>LogisticRegression CV = 5</td>\n      <td>0.571595</td>\n      <td>0.419472</td>\n      <td>0.571595</td>\n      <td>0.400560</td>\n      <td>0.491544</td>\n      <td>0.569267</td>\n      <td>[[26, 20, 116], [13, 37, 195], [5, 19, 428]]</td>\n    </tr>\n    <tr>\n      <th>1</th>\n      <td>corpus_2020_referral_sites_lvl_three_unweighte...</td>\n      <td>LogisticRegression CV = 10</td>\n      <td>0.592549</td>\n      <td>0.453752</td>\n      <td>0.592549</td>\n      <td>0.450323</td>\n      <td>0.533909</td>\n      <td>0.534342</td>\n      <td>[[32, 29, 101], [17, 58, 170], [8, 25, 419]]</td>\n    </tr>\n    <tr>\n      <th>2</th>\n      <td>corpus_2020_referral_sites_lvl_three_unweighte...</td>\n      <td>GradientBoostingClassifier</td>\n      <td>0.598370</td>\n      <td>0.499969</td>\n      <td>0.598370</td>\n      <td>0.507635</td>\n      <td>0.574290</td>\n      <td>0.504075</td>\n      <td>[[51, 41, 70], [33, 86, 126], [18, 57, 377]]</td>\n    </tr>\n    <tr>\n      <th>3</th>\n      <td>corpus_2020_referral_sites_lvl_three_unweighte...</td>\n      <td>SVC ovo</td>\n      <td>0.641444</td>\n      <td>0.530444</td>\n      <td>0.641444</td>\n      <td>0.547574</td>\n      <td>0.608915</td>\n      <td>0.456345</td>\n      <td>[[52, 34, 76], [14, 89, 142], [8, 34, 410]]</td>\n    </tr>\n    <tr>\n      <th>4</th>\n      <td>corpus_2020_referral_sites_lvl_three_unweighte...</td>\n      <td>LogisticRegression CV = 5</td>\n      <td>0.611176</td>\n      <td>0.499221</td>\n      <td>0.611176</td>\n      <td>0.489409</td>\n      <td>0.554480</td>\n      <td>0.500582</td>\n      <td>[[66, 15, 81], [40, 40, 165], [15, 18, 419]]</td>\n    </tr>\n    <tr>\n      <th>5</th>\n      <td>corpus_2020_referral_sites_lvl_three_unweighte...</td>\n      <td>LogisticRegression CV = 10</td>\n      <td>0.629802</td>\n      <td>0.519226</td>\n      <td>0.629802</td>\n      <td>0.529225</td>\n      <td>0.590510</td>\n      <td>0.471478</td>\n      <td>[[59, 25, 78], [26, 68, 151], [9, 29, 414]]</td>\n    </tr>\n    <tr>\n      <th>6</th>\n      <td>corpus_2020_referral_sites_lvl_three_unweighte...</td>\n      <td>GradientBoostingClassifier</td>\n      <td>0.626310</td>\n      <td>0.531228</td>\n      <td>0.626310</td>\n      <td>0.543171</td>\n      <td>0.606146</td>\n      <td>0.472643</td>\n      <td>[[49, 42, 71], [22, 112, 111], [14, 61, 377]]</td>\n    </tr>\n    <tr>\n      <th>7</th>\n      <td>corpus_2020_referral_sites_lvl_three_unweighte...</td>\n      <td>SVC ovo</td>\n      <td>0.651921</td>\n      <td>0.541813</td>\n      <td>0.651921</td>\n      <td>0.559895</td>\n      <td>0.618632</td>\n      <td>0.444703</td>\n      <td>[[57, 29, 76], [17, 86, 142], [7, 28, 417]]</td>\n    </tr>\n    <tr>\n      <th>8</th>\n      <td>corpus_2020_referral_sites_lvl_three_unweighte...</td>\n      <td>LogisticRegression CV = 5</td>\n      <td>0.637951</td>\n      <td>0.535794</td>\n      <td>0.637951</td>\n      <td>0.538537</td>\n      <td>0.598688</td>\n      <td>0.463329</td>\n      <td>[[70, 20, 72], [40, 63, 142], [15, 22, 415]]</td>\n    </tr>\n    <tr>\n      <th>9</th>\n      <td>corpus_2020_referral_sites_lvl_three_unweighte...</td>\n      <td>LogisticRegression CV = 10</td>\n      <td>0.649593</td>\n      <td>0.548555</td>\n      <td>0.649593</td>\n      <td>0.559780</td>\n      <td>0.617225</td>\n      <td>0.450524</td>\n      <td>[[67, 24, 71], [30, 78, 137], [15, 24, 413]]</td>\n    </tr>\n    <tr>\n      <th>10</th>\n      <td>corpus_2020_referral_sites_lvl_three_unweighte...</td>\n      <td>GradientBoostingClassifier</td>\n      <td>0.621653</td>\n      <td>0.532133</td>\n      <td>0.621653</td>\n      <td>0.544253</td>\n      <td>0.602327</td>\n      <td>0.471478</td>\n      <td>[[59, 37, 66], [30, 97, 118], [14, 60, 378]]</td>\n    </tr>\n    <tr>\n      <th>11</th>\n      <td>corpus_2020_referral_sites_lvl_three_unweighte...</td>\n      <td>SVC ovo</td>\n      <td>0.657742</td>\n      <td>0.555216</td>\n      <td>0.657742</td>\n      <td>0.575176</td>\n      <td>0.629086</td>\n      <td>0.435390</td>\n      <td>[[62, 29, 71], [16, 91, 138], [9, 31, 412]]</td>\n    </tr>\n    <tr>\n      <th>12</th>\n      <td>corpus_2020_referral_sites_lvl_three_unweighte...</td>\n      <td>LogisticRegression CV = 5</td>\n      <td>0.623981</td>\n      <td>0.502559</td>\n      <td>0.623981</td>\n      <td>0.504939</td>\n      <td>0.577996</td>\n      <td>0.477299</td>\n      <td>[[52, 35, 75], [32, 62, 151], [12, 18, 422]]</td>\n    </tr>\n    <tr>\n      <th>13</th>\n      <td>corpus_2020_referral_sites_lvl_three_unweighte...</td>\n      <td>LogisticRegression CV = 10</td>\n      <td>0.620489</td>\n      <td>0.515195</td>\n      <td>0.620489</td>\n      <td>0.522053</td>\n      <td>0.586707</td>\n      <td>0.472643</td>\n      <td>[[59, 35, 68], [34, 71, 140], [12, 37, 403]]</td>\n    </tr>\n    <tr>\n      <th>14</th>\n      <td>corpus_2020_referral_sites_lvl_three_unweighte...</td>\n      <td>GradientBoostingClassifier</td>\n      <td>0.622817</td>\n      <td>0.524474</td>\n      <td>0.622817</td>\n      <td>0.533963</td>\n      <td>0.599597</td>\n      <td>0.465658</td>\n      <td>[[55, 43, 64], [35, 92, 118], [12, 52, 388]]</td>\n    </tr>\n    <tr>\n      <th>15</th>\n      <td>corpus_2020_referral_sites_lvl_three_unweighte...</td>\n      <td>SVC ovo</td>\n      <td>0.655413</td>\n      <td>0.549084</td>\n      <td>0.655413</td>\n      <td>0.565662</td>\n      <td>0.625722</td>\n      <td>0.436554</td>\n      <td>[[58, 34, 70], [21, 92, 132], [9, 30, 413]]</td>\n    </tr>\n    <tr>\n      <th>16</th>\n      <td>corpus_2020_referral_sites_lvl_three_unweighte...</td>\n      <td>LogisticRegression CV = 5</td>\n      <td>0.629802</td>\n      <td>0.523482</td>\n      <td>0.629802</td>\n      <td>0.524722</td>\n      <td>0.588602</td>\n      <td>0.467986</td>\n      <td>[[66, 27, 69], [39, 60, 146], [15, 22, 415]]</td>\n    </tr>\n    <tr>\n      <th>17</th>\n      <td>corpus_2020_referral_sites_lvl_three_unweighte...</td>\n      <td>LogisticRegression CV = 10</td>\n      <td>0.629802</td>\n      <td>0.523556</td>\n      <td>0.629802</td>\n      <td>0.523837</td>\n      <td>0.587425</td>\n      <td>0.466822</td>\n      <td>[[67, 26, 69], [40, 58, 147], [14, 22, 416]]</td>\n    </tr>\n    <tr>\n      <th>18</th>\n      <td>corpus_2020_referral_sites_lvl_three_unweighte...</td>\n      <td>GradientBoostingClassifier</td>\n      <td>0.625146</td>\n      <td>0.534895</td>\n      <td>0.625146</td>\n      <td>0.548025</td>\n      <td>0.606683</td>\n      <td>0.456345</td>\n      <td>[[58, 47, 57], [25, 100, 120], [13, 60, 379]]</td>\n    </tr>\n    <tr>\n      <th>19</th>\n      <td>corpus_2020_referral_sites_lvl_three_unweighte...</td>\n      <td>SVC ovo</td>\n      <td>0.646100</td>\n      <td>0.535960</td>\n      <td>0.646100</td>\n      <td>0.549087</td>\n      <td>0.615035</td>\n      <td>0.447031</td>\n      <td>[[53, 40, 69], [23, 91, 131], [11, 30, 411]]</td>\n    </tr>\n  </tbody>\n</table>\n</div>",
      "text/plain": "                                              Feature  \\\n0   corpus_2020_referral_sites_lvl_three_unweighte...   \n1   corpus_2020_referral_sites_lvl_three_unweighte...   \n2   corpus_2020_referral_sites_lvl_three_unweighte...   \n3   corpus_2020_referral_sites_lvl_three_unweighte...   \n4   corpus_2020_referral_sites_lvl_three_unweighte...   \n5   corpus_2020_referral_sites_lvl_three_unweighte...   \n6   corpus_2020_referral_sites_lvl_three_unweighte...   \n7   corpus_2020_referral_sites_lvl_three_unweighte...   \n8   corpus_2020_referral_sites_lvl_three_unweighte...   \n9   corpus_2020_referral_sites_lvl_three_unweighte...   \n10  corpus_2020_referral_sites_lvl_three_unweighte...   \n11  corpus_2020_referral_sites_lvl_three_unweighte...   \n12  corpus_2020_referral_sites_lvl_three_unweighte...   \n13  corpus_2020_referral_sites_lvl_three_unweighte...   \n14  corpus_2020_referral_sites_lvl_three_unweighte...   \n15  corpus_2020_referral_sites_lvl_three_unweighte...   \n16  corpus_2020_referral_sites_lvl_three_unweighte...   \n17  corpus_2020_referral_sites_lvl_three_unweighte...   \n18  corpus_2020_referral_sites_lvl_three_unweighte...   \n19  corpus_2020_referral_sites_lvl_three_unweighte...   \n\n                    Classifier  Accuracy  Balanced Accuracy score  \\\n0    LogisticRegression CV = 5  0.571595                 0.419472   \n1   LogisticRegression CV = 10  0.592549                 0.453752   \n2   GradientBoostingClassifier  0.598370                 0.499969   \n3                      SVC ovo  0.641444                 0.530444   \n4    LogisticRegression CV = 5  0.611176                 0.499221   \n5   LogisticRegression CV = 10  0.629802                 0.519226   \n6   GradientBoostingClassifier  0.626310                 0.531228   \n7                      SVC ovo  0.651921                 0.541813   \n8    LogisticRegression CV = 5  0.637951                 0.535794   \n9   LogisticRegression CV = 10  0.649593                 0.548555   \n10  GradientBoostingClassifier  0.621653                 0.532133   \n11                     SVC ovo  0.657742                 0.555216   \n12   LogisticRegression CV = 5  0.623981                 0.502559   \n13  LogisticRegression CV = 10  0.620489                 0.515195   \n14  GradientBoostingClassifier  0.622817                 0.524474   \n15                     SVC ovo  0.655413                 0.549084   \n16   LogisticRegression CV = 5  0.629802                 0.523482   \n17  LogisticRegression CV = 10  0.629802                 0.523556   \n18  GradientBoostingClassifier  0.625146                 0.534895   \n19                     SVC ovo  0.646100                 0.535960   \n\n    F1 micro score  F1 macro score  F1 weighted score       MAE  \\\n0         0.571595        0.400560           0.491544  0.569267   \n1         0.592549        0.450323           0.533909  0.534342   \n2         0.598370        0.507635           0.574290  0.504075   \n3         0.641444        0.547574           0.608915  0.456345   \n4         0.611176        0.489409           0.554480  0.500582   \n5         0.629802        0.529225           0.590510  0.471478   \n6         0.626310        0.543171           0.606146  0.472643   \n7         0.651921        0.559895           0.618632  0.444703   \n8         0.637951        0.538537           0.598688  0.463329   \n9         0.649593        0.559780           0.617225  0.450524   \n10        0.621653        0.544253           0.602327  0.471478   \n11        0.657742        0.575176           0.629086  0.435390   \n12        0.623981        0.504939           0.577996  0.477299   \n13        0.620489        0.522053           0.586707  0.472643   \n14        0.622817        0.533963           0.599597  0.465658   \n15        0.655413        0.565662           0.625722  0.436554   \n16        0.629802        0.524722           0.588602  0.467986   \n17        0.629802        0.523837           0.587425  0.466822   \n18        0.625146        0.548025           0.606683  0.456345   \n19        0.646100        0.549087           0.615035  0.447031   \n\n                                 Confusion matrix  \n0    [[26, 20, 116], [13, 37, 195], [5, 19, 428]]  \n1    [[32, 29, 101], [17, 58, 170], [8, 25, 419]]  \n2    [[51, 41, 70], [33, 86, 126], [18, 57, 377]]  \n3     [[52, 34, 76], [14, 89, 142], [8, 34, 410]]  \n4    [[66, 15, 81], [40, 40, 165], [15, 18, 419]]  \n5     [[59, 25, 78], [26, 68, 151], [9, 29, 414]]  \n6   [[49, 42, 71], [22, 112, 111], [14, 61, 377]]  \n7     [[57, 29, 76], [17, 86, 142], [7, 28, 417]]  \n8    [[70, 20, 72], [40, 63, 142], [15, 22, 415]]  \n9    [[67, 24, 71], [30, 78, 137], [15, 24, 413]]  \n10   [[59, 37, 66], [30, 97, 118], [14, 60, 378]]  \n11    [[62, 29, 71], [16, 91, 138], [9, 31, 412]]  \n12   [[52, 35, 75], [32, 62, 151], [12, 18, 422]]  \n13   [[59, 35, 68], [34, 71, 140], [12, 37, 403]]  \n14   [[55, 43, 64], [35, 92, 118], [12, 52, 388]]  \n15    [[58, 34, 70], [21, 92, 132], [9, 30, 413]]  \n16   [[66, 27, 69], [39, 60, 146], [15, 22, 415]]  \n17   [[67, 26, 69], [40, 58, 147], [14, 22, 416]]  \n18  [[58, 47, 57], [25, 100, 120], [13, 60, 379]]  \n19   [[53, 40, 69], [23, 91, 131], [11, 30, 411]]  "
     },
     "execution_count": 7,
     "metadata": {},
     "output_type": "execute_result"
    }
   ],
   "source": [
    "result_table_2020_referral_sites_lvl_three"
   ]
  }
 ],
 "metadata": {
  "kernelspec": {
   "display_name": "Python 3.7.9 64-bit ('site_similarity': conda)",
   "metadata": {
    "interpreter": {
     "hash": "72b3faef5542ae75c34eb0d3b11ce0fc432eb00b9ccfc309dfbebb58f482608a"
    }
   },
   "name": "python3"
  },
  "language_info": {
   "codemirror_mode": {
    "name": "ipython",
    "version": 3
   },
   "file_extension": ".py",
   "mimetype": "text/x-python",
   "name": "python",
   "nbconvert_exporter": "python",
   "pygments_lexer": "ipython3",
   "version": "3.7.9"
  }
 },
 "nbformat": 4,
 "nbformat_minor": 2
}