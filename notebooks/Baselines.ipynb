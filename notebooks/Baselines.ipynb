{
 "cells": [
  {
   "cell_type": "code",
   "execution_count": 1,
   "metadata": {
    "collapsed": true
   },
   "outputs": [
    {
     "name": "stdout",
     "output_type": "stream",
     "text": [
      "dict_keys(['test-0', 'train-0', 'test-1', 'train-1', 'test-2', 'train-2', 'test-3', 'train-3', 'test-4', 'train-4'])\n"
     ]
    }
   ],
   "source": [
    "from dataprep.load_annotated_data import apply_splits, load_corpus\n",
    "from modelling.baselines import eval_model\n",
    "\n",
    "DATA = load_corpus('modified_corpus.csv')\n",
    "SPLITS = apply_splits(DATA)\n",
    "\n",
    "print(SPLITS.keys())"
   ]
  },
  {
   "cell_type": "markdown",
   "source": [
    "# Look at MostFrequentClassifier"
   ],
   "metadata": {
    "collapsed": false
   }
  },
  {
   "cell_type": "code",
   "execution_count": 2,
   "outputs": [
    {
     "name": "stdout",
     "output_type": "stream",
     "text": [
      "['HIGH', 'MIXED', 'LOW']\n"
     ]
    }
   ],
   "source": [
    "from modelling.baselines import MostFrequentClassifier\n",
    "\n",
    "\n",
    "baseline_one = MostFrequentClassifier()\n",
    "baseline_one.fit(SPLITS['train-0'])\n",
    "\n",
    "print(baseline_one.most_frequent_classes_)"
   ],
   "metadata": {
    "collapsed": false,
    "pycharm": {
     "name": "#%%\n"
    }
   }
  },
  {
   "cell_type": "code",
   "execution_count": 3,
   "outputs": [
    {
     "data": {
      "text/plain": "[('HIGH', 418), ('MIXED', 204), ('LOW', 202)]"
     },
     "execution_count": 3,
     "metadata": {},
     "output_type": "execute_result"
    }
   ],
   "source": [
    "from collections import Counter\n",
    "\n",
    "Counter([item['fact'] for item in SPLITS['train-0']]).most_common()"
   ],
   "metadata": {
    "collapsed": false,
    "pycharm": {
     "name": "#%%\n"
    }
   }
  },
  {
   "cell_type": "code",
   "execution_count": 4,
   "outputs": [
    {
     "name": "stderr",
     "output_type": "stream",
     "text": [
      "100%|██████████| 210/210 [00:35<00:00,  5.98it/s]\n"
     ]
    },
    {
     "name": "stdout",
     "output_type": "stream",
     "text": [
      "URL: inthesetimes.com Annotations Counter: {'HIGH': 1} ==> RESULT label: HIGH\n",
      "URL: ibtimes.com Annotations Counter: {'HIGH': 1} ==> RESULT label: HIGH\n",
      "URL: adelaidenow.com.au Annotations Counter: {'HIGH': 1} ==> RESULT label: HIGH\n",
      "URL: wral.com Annotations Counter: {'HIGH': 1} ==> RESULT label: HIGH\n",
      "URL: 70news.wordpress.com Annotations Counter: {'LOW': 1} ==> RESULT label: LOW\n",
      "URL: thewest.com.au Annotations Counter: {'MIXED': 1} ==> RESULT label: MIXED\n",
      "URL: newsobserver.com Annotations Counter: {'HIGH': 1} ==> RESULT label: HIGH\n",
      "URL: newsbiscuit.com Annotations Counter: {'LOW': 1} ==> RESULT label: LOW\n",
      "URL: economist.com Annotations Counter: {'HIGH': 1} ==> RESULT label: HIGH\n",
      "URL: newsthump.com Annotations Counter: {'LOW': 1, 'HIGH': 1} ==> RESULT label: HIGH\n",
      "URL: metro.us Annotations Counter: {'HIGH': 1} ==> RESULT label: HIGH\n",
      "URL: en-volve.com Annotations Counter: {'LOW': 1} ==> RESULT label: LOW\n",
      "URL: leadstories.com Annotations Counter: {'LOW': 1} ==> RESULT label: LOW\n",
      "URL: theblacksphere.net Annotations Counter: {'LOW': 1} ==> RESULT label: LOW\n",
      "URL: libertynation.com Annotations Counter: {'HIGH': 1} ==> RESULT label: HIGH\n",
      "URL: ndtv.com Annotations Counter: {'HIGH': 1} ==> RESULT label: HIGH\n",
      "URL: americanprogress.org Annotations Counter: {'HIGH': 1} ==> RESULT label: HIGH\n",
      "URL: discovermagazine.com Annotations Counter: {'HIGH': 1} ==> RESULT label: HIGH\n",
      "URL: huzlers.com Annotations Counter: {'HIGH': 1} ==> RESULT label: HIGH\n",
      "URL: fedsoc.org Annotations Counter: {'HIGH': 1} ==> RESULT label: HIGH\n",
      "URL: steadfastandloyal.com Annotations Counter: {'MIXED': 1, 'LOW': 1} ==> RESULT label: MIXED\n",
      "URL: independentsentinel.com Annotations Counter: {'HIGH': 1} ==> RESULT label: HIGH\n",
      "URL: 100percentfedup.com Annotations Counter: {'HIGH': 1} ==> RESULT label: HIGH\n",
      "URL: pacificpundit.com Annotations Counter: {'LOW': 1} ==> RESULT label: LOW\n",
      "URL: newyorker.com Annotations Counter: {'HIGH': 1} ==> RESULT label: HIGH\n",
      "URL: newyorker.com Annotations Counter: {'HIGH': 1} ==> RESULT label: HIGH\n"
     ]
    }
   ],
   "source": [
    "result_baseline_one = baseline_one.predict(SPLITS['test-0'])"
   ],
   "metadata": {
    "collapsed": false,
    "pycharm": {
     "name": "#%%\n"
    }
   }
  },
  {
   "cell_type": "code",
   "execution_count": 5,
   "outputs": [
    {
     "name": "stdout",
     "output_type": "stream",
     "text": [
      "Accuracy: 0.5119617224880383\n",
      "Precision: 0.5095238095238095\n"
     ]
    }
   ],
   "source": [
    "eval_model(SPLITS['test-0'], result_baseline_one)\n"
   ],
   "metadata": {
    "collapsed": false,
    "pycharm": {
     "name": "#%%\n"
    }
   }
  },
  {
   "cell_type": "markdown",
   "source": [
    "# Look at OverlapClassifier"
   ],
   "metadata": {
    "collapsed": false,
    "pycharm": {
     "name": "#%% md\n"
    }
   }
  },
  {
   "cell_type": "code",
   "execution_count": 6,
   "outputs": [
    {
     "name": "stdout",
     "output_type": "stream",
     "text": [
      "['HIGH', 'MIXED', 'LOW']\n"
     ]
    }
   ],
   "source": [
    "from modelling.baselines import OverlapClassifier\n",
    "\n",
    "baseline_two = OverlapClassifier()\n",
    "baseline_two.fit(SPLITS['train-0'])\n",
    "\n",
    "print(baseline_two.most_frequent_classes_)"
   ],
   "metadata": {
    "collapsed": false,
    "pycharm": {
     "name": "#%%\n"
    }
   }
  },
  {
   "cell_type": "code",
   "execution_count": 7,
   "outputs": [
    {
     "name": "stderr",
     "output_type": "stream",
     "text": [
      "100%|██████████| 210/210 [00:35<00:00,  5.93it/s]\n"
     ]
    },
    {
     "name": "stdout",
     "output_type": "stream",
     "text": [
      "URL: inthesetimes.com Annotations Counter: {'talkingpointsmemo.com': 'HIGH'} == > RESULT label: HIGH\n",
      "URL: ibtimes.com Annotations Counter: {'heavy.com': 'HIGH'} == > RESULT label: HIGH\n",
      "URL: adelaidenow.com.au Annotations Counter: {'couriermail.com.au': 'HIGH'} == > RESULT label: HIGH\n",
      "URL: wral.com Annotations Counter: {'newsobserver.com': 'HIGH'} == > RESULT label: HIGH\n",
      "URL: 70news.wordpress.com Annotations Counter: {'pacificpundit.com': 'LOW'} == > RESULT label: LOW\n",
      "URL: thewest.com.au Annotations Counter: {'adelaidenow.com.au': 'MIXED'} == > RESULT label: MIXED\n",
      "URL: newsobserver.com Annotations Counter: {'wral.com': 'HIGH'} == > RESULT label: HIGH\n",
      "URL: newsbiscuit.com Annotations Counter: {'newsthump.com': 'LOW'} == > RESULT label: LOW\n",
      "URL: economist.com Annotations Counter: {'theatlantic.com': 'HIGH'} == > RESULT label: HIGH\n",
      "URL: newsthump.com Annotations Counter: {'newsbiscuit.com': 'LOW', 'thecanary.co': 'HIGH'} == > RESULT label: LOW\n",
      "URL: metro.us Annotations Counter: {'amny.com': 'HIGH'} == > RESULT label: HIGH\n",
      "URL: en-volve.com Annotations Counter: {'conservativefighters.com': 'LOW'} == > RESULT label: LOW\n",
      "URL: leadstories.com Annotations Counter: {'huzlers.com': 'LOW'} == > RESULT label: LOW\n",
      "URL: theblacksphere.net Annotations Counter: {'steadfastandloyal.com': 'LOW'} == > RESULT label: LOW\n",
      "URL: libertynation.com Annotations Counter: {'independentsentinel.com': 'HIGH'} == > RESULT label: HIGH\n",
      "URL: ndtv.com Annotations Counter: {'indianexpress.com': 'HIGH'} == > RESULT label: HIGH\n",
      "URL: americanprogress.org Annotations Counter: {'pewresearch.org': 'HIGH'} == > RESULT label: HIGH\n",
      "URL: discovermagazine.com Annotations Counter: {'newscientist.com': 'HIGH'} == > RESULT label: HIGH\n",
      "URL: huzlers.com Annotations Counter: {'leadstories.com': 'HIGH'} == > RESULT label: HIGH\n",
      "URL: fedsoc.org Annotations Counter: {'scotusblog.com': 'HIGH'} == > RESULT label: HIGH\n",
      "URL: steadfastandloyal.com Annotations Counter: {'theblacksphere.net': 'MIXED', 'puppetstringnews.com': 'LOW'} == > RESULT label: MIXED\n",
      "URL: independentsentinel.com Annotations Counter: {'libertynation.com': 'HIGH'} == > RESULT label: HIGH\n",
      "URL: 100percentfedup.com Annotations Counter: {'independentsentinel.com': 'HIGH'} == > RESULT label: HIGH\n",
      "URL: pacificpundit.com Annotations Counter: {'70news.wordpress.com': 'LOW'} == > RESULT label: LOW\n",
      "URL: newyorker.com Annotations Counter: {'theatlantic.com': 'HIGH'} == > RESULT label: HIGH\n",
      "URL: newyorker.com Annotations Counter: {'theatlantic.com': 'HIGH'} == > RESULT label: HIGH\n"
     ]
    }
   ],
   "source": [
    "result_baseline_two = baseline_two.predict(SPLITS['test-0'])"
   ],
   "metadata": {
    "collapsed": false,
    "pycharm": {
     "name": "#%%\n"
    }
   }
  },
  {
   "cell_type": "code",
   "execution_count": 8,
   "outputs": [
    {
     "name": "stdout",
     "output_type": "stream",
     "text": [
      "Accuracy: 0.5167464114832536\n",
      "Precision: 0.5142857142857142\n"
     ]
    }
   ],
   "source": [
    "eval_model(SPLITS['test-0'], result_baseline_two)\n"
   ],
   "metadata": {
    "collapsed": false,
    "pycharm": {
     "name": "#%%\n"
    }
   }
  },
  {
   "cell_type": "markdown",
   "source": [
    "# Look at FirstAnnotatedSiteClassifier"
   ],
   "metadata": {
    "collapsed": false
   }
  },
  {
   "cell_type": "code",
   "execution_count": 2,
   "outputs": [
    {
     "name": "stdout",
     "output_type": "stream",
     "text": [
      "['HIGH', 'MIXED', 'LOW']\n"
     ]
    }
   ],
   "source": [
    "from modelling.baselines import FirstAnnotatedSiteClassifier\n",
    "\n",
    "baseline_three = FirstAnnotatedSiteClassifier()\n",
    "baseline_three.fit(SPLITS['train-0'])\n",
    "\n",
    "print(baseline_three.most_frequent_classes_)"
   ],
   "metadata": {
    "collapsed": false,
    "pycharm": {
     "name": "#%%\n"
    }
   }
  },
  {
   "cell_type": "code",
   "execution_count": 3,
   "outputs": [
    {
     "name": "stderr",
     "output_type": "stream",
     "text": [
      "100%|██████████| 210/210 [00:34<00:00,  6.17it/s]\n"
     ]
    }
   ],
   "source": [
    "result_baseline_three = baseline_three.predict(SPLITS['test-0'])"
   ],
   "metadata": {
    "collapsed": false,
    "pycharm": {
     "name": "#%%\n"
    }
   }
  },
  {
   "cell_type": "code",
   "execution_count": 4,
   "outputs": [
    {
     "name": "stdout",
     "output_type": "stream",
     "text": [
      "Accuracy: 0.5167464114832536\n",
      "Precision: 0.5142857142857142\n"
     ]
    }
   ],
   "source": [
    "eval_model(SPLITS['test-0'], result_baseline_three)"
   ],
   "metadata": {
    "collapsed": false,
    "pycharm": {
     "name": "#%%\n"
    }
   }
  }
 ],
 "metadata": {
  "kernelspec": {
   "display_name": "Python 3",
   "language": "python",
   "name": "python3"
  },
  "language_info": {
   "codemirror_mode": {
    "name": "ipython",
    "version": 2
   },
   "file_extension": ".py",
   "mimetype": "text/x-python",
   "name": "python",
   "nbconvert_exporter": "python",
   "pygments_lexer": "ipython2",
   "version": "2.7.6"
  }
 },
 "nbformat": 4,
 "nbformat_minor": 0
}