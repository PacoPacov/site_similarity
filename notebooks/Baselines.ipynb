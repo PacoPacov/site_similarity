{
 "cells": [
  {
   "cell_type": "code",
   "execution_count": 1,
   "metadata": {},
   "outputs": [],
   "source": [
    "import sys,os\n",
    "sys.path.append(\"C:\\\\Users\\\\Paco\\\\Documents\\\\site_similarity\")"
   ]
  },
  {
   "cell_type": "code",
   "execution_count": 2,
   "metadata": {},
   "outputs": [],
   "source": [
    "from utils.notebook_utils import train_model"
   ]
  },
  {
   "cell_type": "markdown",
   "metadata": {},
   "source": [
    "# Look at MostFrequentClassifier"
   ]
  },
  {
   "cell_type": "code",
   "execution_count": 3,
   "metadata": {
    "pycharm": {
     "name": "#%%\n"
    },
    "tags": []
   },
   "outputs": [
    {
     "output_type": "stream",
     "name": "stdout",
     "text": "Start training...\n"
    },
    {
     "output_type": "execute_result",
     "data": {
      "text/plain": "{'Accuracy': 0.5820721769499418,\n 'Balanced Accuracy score': 0.4142164830533983,\n 'F1 micro score': 0.5820721769499418,\n 'F1 macro score': 0.3704003138072182,\n 'F1 weighted score': 0.49163031963935616,\n 'MAE': 0.5657741559953434,\n 'Confusion matrix': [[0, 35, 127], [0, 73, 172], [0, 25, 427]]}"
     },
     "metadata": {},
     "execution_count": 3
    }
   ],
   "source": [
    "from modelling.baselines import MostFrequentClassifier\n",
    "\n",
    "\n",
    "baseline_one = MostFrequentClassifier()\n",
    "train_model(baseline_one, data_year='2020')"
   ]
  },
  {
   "cell_type": "markdown",
   "metadata": {
    "pycharm": {
     "name": "#%% md\n"
    }
   },
   "source": [
    "# Look at OverlapClassifier"
   ]
  },
  {
   "cell_type": "code",
   "execution_count": 4,
   "metadata": {
    "pycharm": {
     "name": "#%%\n"
    },
    "tags": []
   },
   "outputs": [
    {
     "output_type": "stream",
     "name": "stdout",
     "text": "Start training...\n"
    },
    {
     "output_type": "execute_result",
     "data": {
      "text/plain": "{'Accuracy': 0.610011641443539,\n 'Balanced Accuracy score': 0.4748574683888633,\n 'F1 micro score': 0.610011641443539,\n 'F1 macro score': 0.47734454307381463,\n 'F1 weighted score': 0.5585016389709611,\n 'MAE': 0.5145518044237486,\n 'Confusion matrix': [[33, 27, 102], [19, 72, 154], [5, 28, 419]]}"
     },
     "metadata": {},
     "execution_count": 4
    }
   ],
   "source": [
    "from modelling.baselines import OverlapClassifier\n",
    "\n",
    "baseline_two = OverlapClassifier()\n",
    "train_model(baseline_two, data_year='2020')"
   ]
  },
  {
   "cell_type": "markdown",
   "metadata": {},
   "source": [
    "# Look at FirstAnnotatedSiteClassifier"
   ]
  },
  {
   "cell_type": "code",
   "execution_count": 5,
   "metadata": {
    "pycharm": {
     "name": "#%%\n"
    },
    "tags": []
   },
   "outputs": [
    {
     "output_type": "stream",
     "name": "stdout",
     "text": "Start training...\n"
    },
    {
     "output_type": "execute_result",
     "data": {
      "text/plain": "{'Accuracy': 0.5774155995343423,\n 'Balanced Accuracy score': 0.41064354945518033,\n 'F1 micro score': 0.5774155995343423,\n 'F1 macro score': 0.3677709968032549,\n 'F1 weighted score': 0.4872740854565181,\n 'MAE': 0.5797438882421421,\n 'Confusion matrix': [[0, 27, 135], [0, 72, 173], [0, 28, 424]]}"
     },
     "metadata": {},
     "execution_count": 5
    }
   ],
   "source": [
    "from modelling.baselines import FirstAnnotatedSiteClassifier\n",
    "\n",
    "baseline_three = FirstAnnotatedSiteClassifier()\n",
    "train_model(baseline_three, data_year='2020')"
   ]
  }
 ],
 "metadata": {
  "kernelspec": {
   "display_name": "Python 3.6.12 64-bit",
   "language": "python",
   "name": "python361264bit3d20f2086b6e40b0a9a1c989b417ca11"
  },
  "language_info": {
   "codemirror_mode": {
    "name": "ipython",
    "version": 3
   },
   "file_extension": ".py",
   "mimetype": "text/x-python",
   "name": "python",
   "nbconvert_exporter": "python",
   "pygments_lexer": "ipython3",
   "version": "3.7.9-final"
  }
 },
 "nbformat": 4,
 "nbformat_minor": 1
}