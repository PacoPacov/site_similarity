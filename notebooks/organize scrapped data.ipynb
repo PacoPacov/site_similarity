{
 "metadata": {
  "language_info": {
   "codemirror_mode": {
    "name": "ipython",
    "version": 3
   },
   "file_extension": ".py",
   "mimetype": "text/x-python",
   "name": "python",
   "nbconvert_exporter": "python",
   "pygments_lexer": "ipython3",
   "version": "3.7.9-final"
  },
  "orig_nbformat": 2,
  "kernelspec": {
   "name": "python361264bit3d20f2086b6e40b0a9a1c989b417ca11",
   "display_name": "Python 3.6.12 64-bit"
  }
 },
 "nbformat": 4,
 "nbformat_minor": 2,
 "cells": [
  {
   "cell_type": "code",
   "execution_count": 1,
   "metadata": {},
   "outputs": [],
   "source": [
    "import json\n",
    "\n",
    "\n",
    "def load_level_data(level=0):\n",
    "    with open(f\"/home/paco/Documents/site_similarity/data/scrapping_results/processed level {level} results.json\", 'r') as f:\n",
    "        data = json.load(f)\n",
    "\n",
    "    print(f'Loaded level {level} data with key size:{len(data)} values size:{sum([len(v) for v in data.values()])}')\n",
    "\n",
    "    return data"
   ]
  },
  {
   "cell_type": "code",
   "execution_count": 2,
   "metadata": {
    "tags": []
   },
   "outputs": [
    {
     "output_type": "stream",
     "name": "stdout",
     "text": "Loaded level 0 data with key size:1062 values size:1062\n"
    }
   ],
   "source": [
    "lvl_zero_data = load_level_data()"
   ]
  },
  {
   "cell_type": "code",
   "execution_count": 3,
   "metadata": {
    "tags": []
   },
   "outputs": [
    {
     "output_type": "stream",
     "name": "stdout",
     "text": "Loaded level 1 data with key size:1062 values size:4837\n"
    }
   ],
   "source": [
    "lvl_one_data = load_level_data(level=1)"
   ]
  },
  {
   "cell_type": "code",
   "execution_count": 4,
   "metadata": {
    "tags": []
   },
   "outputs": [
    {
     "output_type": "stream",
     "name": "stdout",
     "text": "Loaded level 2 data with key size:3560 values size:17408\n"
    }
   ],
   "source": [
    "lvl_two_data = load_level_data(level=2)"
   ]
  },
  {
   "cell_type": "code",
   "execution_count": 5,
   "metadata": {},
   "outputs": [
    {
     "output_type": "execute_result",
     "data": {
      "text/plain": "{'amazingnews.net': {'site': 'amazingnews.net',\n  'score': [],\n  'audience_geography': []}}"
     },
     "metadata": {},
     "execution_count": 5
    }
   ],
   "source": [
    "lvl_zero_data['amazingnews.net']"
   ]
  },
  {
   "cell_type": "code",
   "execution_count": 6,
   "metadata": {},
   "outputs": [
    {
     "output_type": "execute_result",
     "data": {
      "text/plain": "{'villagevoice.com': {'site': 'villagevoice.com',\n  'score': [{'url': 'nylon.com', 'overlap_score': 4.1, 'alexa_rank': 51694.0},\n   {'url': 'slantmagazine.com', 'overlap_score': 2.5, 'alexa_rank': 92418.0},\n   {'url': 'gothamist.com', 'overlap_score': 2.4, 'alexa_rank': 16813.0},\n   {'url': 'screendaily.com', 'overlap_score': 2.1, 'alexa_rank': 110772.0},\n   {'url': 'amny.com', 'overlap_score': 2.1, 'alexa_rank': 69192.0}],\n  'audience_geography': [{'country': 'United States', 'percent': 77.2}]}}"
     },
     "metadata": {},
     "execution_count": 6
    }
   ],
   "source": [
    "list(lvl_zero_data.values())[0]"
   ]
  },
  {
   "cell_type": "code",
   "execution_count": 7,
   "metadata": {},
   "outputs": [
    {
     "output_type": "execute_result",
     "data": {
      "text/plain": "(dict, 1)"
     },
     "metadata": {},
     "execution_count": 7
    }
   ],
   "source": [
    "type(lvl_zero_data['villagevoice.com']), len(lvl_zero_data['villagevoice.com'])"
   ]
  },
  {
   "cell_type": "code",
   "execution_count": 8,
   "metadata": {},
   "outputs": [
    {
     "output_type": "execute_result",
     "data": {
      "text/plain": "(dict, 5)"
     },
     "metadata": {},
     "execution_count": 8
    }
   ],
   "source": [
    "type(lvl_one_data['villagevoice.com']), len(lvl_one_data['villagevoice.com'])"
   ]
  },
  {
   "cell_type": "code",
   "execution_count": 9,
   "metadata": {},
   "outputs": [
    {
     "output_type": "execute_result",
     "data": {
      "text/plain": "(dict, 5)"
     },
     "metadata": {},
     "execution_count": 9
    }
   ],
   "source": [
    "type(lvl_two_data['nylon.com']), len(lvl_two_data['nylon.com'])"
   ]
  },
  {
   "cell_type": "code",
   "execution_count": 10,
   "metadata": {
    "tags": []
   },
   "outputs": [
    {
     "output_type": "execute_result",
     "data": {
      "text/html": "<div>\n<style scoped>\n    .dataframe tbody tr th:only-of-type {\n        vertical-align: middle;\n    }\n\n    .dataframe tbody tr th {\n        vertical-align: top;\n    }\n\n    .dataframe thead th {\n        text-align: right;\n    }\n</style>\n<table border=\"1\" class=\"dataframe\">\n  <thead>\n    <tr style=\"text-align: right;\">\n      <th></th>\n      <th>sites</th>\n      <th>overlap_sites</th>\n      <th>audience_geography</th>\n      <th>levels</th>\n      <th>dates</th>\n    </tr>\n  </thead>\n  <tbody>\n    <tr>\n      <th>0</th>\n      <td>villagevoice.com</td>\n      <td>[{'url': 'nylon.com', 'overlap_score': 4.1, 'a...</td>\n      <td>[{'country': 'United States', 'percent': 77.2}]</td>\n      <td>0</td>\n      <td>2020-06-29 19:55:15.620467</td>\n    </tr>\n    <tr>\n      <th>1</th>\n      <td>insideclimatenews.org</td>\n      <td>[{'url': 'wri.org', 'overlap_score': 12.8, 'al...</td>\n      <td>[{'country': 'United States', 'percent': 69.0}...</td>\n      <td>0</td>\n      <td>2020-07-03 18:41:39.438563</td>\n    </tr>\n    <tr>\n      <th>2</th>\n      <td>fury.news</td>\n      <td>[{'url': 'settingrecordstraight.blogspot.com',...</td>\n      <td>[]</td>\n      <td>0</td>\n      <td>2020-06-29 19:55:17.684495</td>\n    </tr>\n    <tr>\n      <th>3</th>\n      <td>now8news.com</td>\n      <td>[{'url': 'donatebits.com', 'overlap_score': 11...</td>\n      <td>[]</td>\n      <td>0</td>\n      <td>2020-07-03 18:50:18.138572</td>\n    </tr>\n    <tr>\n      <th>4</th>\n      <td>constitution.com</td>\n      <td>[{'url': 'themilreview.com', 'overlap_score': ...</td>\n      <td>[]</td>\n      <td>0</td>\n      <td>2020-07-03 18:53:18.803963</td>\n    </tr>\n  </tbody>\n</table>\n</div>",
      "text/plain": "                   sites                                      overlap_sites  \\\n0       villagevoice.com  [{'url': 'nylon.com', 'overlap_score': 4.1, 'a...   \n1  insideclimatenews.org  [{'url': 'wri.org', 'overlap_score': 12.8, 'al...   \n2              fury.news  [{'url': 'settingrecordstraight.blogspot.com',...   \n3           now8news.com  [{'url': 'donatebits.com', 'overlap_score': 11...   \n4       constitution.com  [{'url': 'themilreview.com', 'overlap_score': ...   \n\n                                  audience_geography levels  \\\n0    [{'country': 'United States', 'percent': 77.2}]      0   \n1  [{'country': 'United States', 'percent': 69.0}...      0   \n2                                                 []      0   \n3                                                 []      0   \n4                                                 []      0   \n\n                       dates  \n0 2020-06-29 19:55:15.620467  \n1 2020-07-03 18:41:39.438563  \n2 2020-06-29 19:55:17.684495  \n3 2020-07-03 18:50:18.138572  \n4 2020-07-03 18:53:18.803963  "
     },
     "metadata": {},
     "execution_count": 10
    }
   ],
   "source": [
    "from datetime import datetime\n",
    "import os\n",
    "\n",
    "\n",
    "def normalize_sites(lvl_data, result_data=[], level=0):\n",
    "\n",
    "    sites = []\n",
    "    overlap_sites = []\n",
    "    audience_geography = []\n",
    "    levels = []\n",
    "    dates = []\n",
    "\n",
    "    for big_k, v in lvl_data.items():\n",
    "        for k in v:\n",
    "            if not result_data or k not in result_data['sites'].values:\n",
    "                if k == 'anullws.co':\n",
    "                    print(big_k, v)\n",
    "                sites.append(k)\n",
    "                overlap_sites.append(v[k]['score'])\n",
    "                audience_geography.append(v[k]['audience_geography'])\n",
    "                levels.append(level)\n",
    "                if os.path.exists(f\"/home/paco/Documents/site_similarity/data/all_data/{k}.html\"):\n",
    "                    dates.append(datetime.fromtimestamp(os.stat(f\"/home/paco/Documents/site_similarity/data/all_data/{k}.html\").st_mtime))\n",
    "                else:\n",
    "                    dates.append(None)\n",
    "    return [sites, overlap_sites, audience_geography, levels, dates]\n",
    "\n",
    "\n",
    "\n",
    "import pandas as pd\n",
    "\n",
    "\n",
    "total_data = normalize_sites(lvl_zero_data, [])\n",
    "r0 = pd.DataFrame(total_data).transpose().rename(columns={0:'sites', 1:'overlap_sites', 2:'audience_geography', 3:'levels', 4:'dates'})\n",
    "\n",
    "r0.head()"
   ]
  },
  {
   "cell_type": "code",
   "execution_count": 11,
   "metadata": {},
   "outputs": [
    {
     "output_type": "execute_result",
     "data": {
      "text/plain": "(Timestamp('2020-06-29 19:55:15.620467'),\n Timestamp('2020-07-05 13:28:06.672250'))"
     },
     "metadata": {},
     "execution_count": 11
    }
   ],
   "source": [
    "r0['dates'].min(), r0['dates'].max() "
   ]
  },
  {
   "cell_type": "code",
   "execution_count": 12,
   "metadata": {},
   "outputs": [
    {
     "output_type": "execute_result",
     "data": {
      "text/plain": "True"
     },
     "metadata": {},
     "execution_count": 12
    }
   ],
   "source": [
    "'villagevoice.com' in r0['sites'].values"
   ]
  },
  {
   "cell_type": "code",
   "execution_count": 13,
   "metadata": {
    "tags": []
   },
   "outputs": [
    {
     "output_type": "stream",
     "name": "stdout",
     "text": "nylon.com\nslantmagazine.com\ngothamist.com\nscreendaily.com\namny.com\n"
    }
   ],
   "source": [
    "for k in list(lvl_one_data.values())[0]:\n",
    "    print(k)\n",
    "    #['villagevoice.com']"
   ]
  },
  {
   "cell_type": "code",
   "execution_count": 14,
   "metadata": {},
   "outputs": [
    {
     "output_type": "execute_result",
     "data": {
      "text/plain": "{'nylon.com': {'site': 'nylon.com',\n  'score': [{'url': 'compatible-astrology.com',\n    'overlap_score': 16.1,\n    'alexa_rank': 173807.0},\n   {'url': 'astrology-zodiac-signs.com',\n    'overlap_score': 14.1,\n    'alexa_rank': 18913.0},\n   {'url': 'papermag.com', 'overlap_score': 13.8, 'alexa_rank': 31762.0},\n   {'url': 'astrology.com', 'overlap_score': 12.7, 'alexa_rank': 16859.0},\n   {'url': 'flaunt.com', 'overlap_score': 11.1, 'alexa_rank': 10267.0}],\n  'audience_geography': [{'country': 'United States', 'percent': 75.0},\n   {'country': 'Canada', 'percent': 4.8},\n   {'country': 'India', 'percent': 2.3}]},\n 'slantmagazine.com': {'site': 'slantmagazine.com',\n  'score': [{'url': 'criterion.com',\n    'overlap_score': 11.3,\n    'alexa_rank': 38257.0},\n   {'url': 'rogerebert.com', 'overlap_score': 5.2, 'alexa_rank': 13105.0},\n   {'url': 'empireonline.com', 'overlap_score': 4.6, 'alexa_rank': 37046.0},\n   {'url': 'dvdbeaver.com', 'overlap_score': 4.6, 'alexa_rank': 291202.0},\n   {'url': 'letterboxd.com', 'overlap_score': 4.2, 'alexa_rank': 2817.0}],\n  'audience_geography': [{'country': 'United States', 'percent': 54.8},\n   {'country': 'Canada', 'percent': 7.4},\n   {'country': 'India', 'percent': 6.2}]},\n 'gothamist.com': {'site': 'gothamist.com',\n  'score': [{'url': 'nbcnewyork.com',\n    'overlap_score': 18.3,\n    'alexa_rank': 14853.0},\n   {'url': 'abc7ny.com', 'overlap_score': 17.5, 'alexa_rank': 17272.0},\n   {'url': 'ny1.com', 'overlap_score': 15.2, 'alexa_rank': 41637.0},\n   {'url': 'nyc.gov', 'overlap_score': 15.2, 'alexa_rank': 2881.0},\n   {'url': 'amny.com', 'overlap_score': 15.2, 'alexa_rank': 69870.0}],\n  'audience_geography': [{'country': 'United States', 'percent': 93.8},\n   {'country': 'Canada', 'percent': 1.0},\n   {'country': 'India', 'percent': 0.5}]},\n 'screendaily.com': {'site': 'screendaily.com',\n  'score': [{'url': 'cineuropa.org',\n    'overlap_score': 15.7,\n    'alexa_rank': 68374.0},\n   {'url': 'theplaylist.net', 'overlap_score': 5.6, 'alexa_rank': 65383.0},\n   {'url': 'boxofficemojo.com', 'overlap_score': 5.4, 'alexa_rank': 14132.0},\n   {'url': 'moviemeter.nl', 'overlap_score': 5.2, 'alexa_rank': 215832.0},\n   {'url': 'letterboxd.com', 'overlap_score': 5.0, 'alexa_rank': 2817.0}],\n  'audience_geography': [{'country': 'United States', 'percent': 19.6},\n   {'country': 'India', 'percent': 9.8},\n   {'country': 'Canada', 'percent': 4.3}]},\n 'amny.com': {'site': 'amny.com',\n  'score': [{'url': 'gothamist.com',\n    'overlap_score': 15.2,\n    'alexa_rank': 16740.0},\n   {'url': 'ny1.com', 'overlap_score': 14.9, 'alexa_rank': 41637.0},\n   {'url': 'abc7ny.com', 'overlap_score': 14.4, 'alexa_rank': 17272.0},\n   {'url': 'nbcnewyork.com', 'overlap_score': 13.8, 'alexa_rank': 14853.0},\n   {'url': 'pix11.com', 'overlap_score': 11.0, 'alexa_rank': 52648.0}],\n  'audience_geography': [{'country': 'United States', 'percent': 90.6},\n   {'country': 'Bangladesh', 'percent': 0.8}]}}"
     },
     "metadata": {},
     "execution_count": 14
    }
   ],
   "source": [
    "lvl_one_data['villagevoice.com']"
   ]
  },
  {
   "cell_type": "code",
   "execution_count": 15,
   "metadata": {},
   "outputs": [],
   "source": [
    "lvl_two_df = normalize_sites(lvl_one_data, [], level=1)\n",
    "\n",
    "\n",
    "r1 = pd.DataFrame(lvl_two_df).transpose().rename(columns={0:'sites', 1:'overlap_sites', 2:'audience_geography', 3:'levels', 4:'dates'})"
   ]
  },
  {
   "cell_type": "code",
   "execution_count": 16,
   "metadata": {},
   "outputs": [
    {
     "output_type": "execute_result",
     "data": {
      "text/html": "<div>\n<style scoped>\n    .dataframe tbody tr th:only-of-type {\n        vertical-align: middle;\n    }\n\n    .dataframe tbody tr th {\n        vertical-align: top;\n    }\n\n    .dataframe thead th {\n        text-align: right;\n    }\n</style>\n<table border=\"1\" class=\"dataframe\">\n  <thead>\n    <tr style=\"text-align: right;\">\n      <th></th>\n      <th>sites</th>\n      <th>overlap_sites</th>\n      <th>audience_geography</th>\n      <th>levels</th>\n      <th>dates</th>\n    </tr>\n  </thead>\n  <tbody>\n    <tr>\n      <th>0</th>\n      <td>nylon.com</td>\n      <td>[{'url': 'compatible-astrology.com', 'overlap_...</td>\n      <td>[{'country': 'United States', 'percent': 75.0}...</td>\n      <td>1</td>\n      <td>2020-07-02 16:57:20.845460</td>\n    </tr>\n    <tr>\n      <th>1</th>\n      <td>slantmagazine.com</td>\n      <td>[{'url': 'criterion.com', 'overlap_score': 11....</td>\n      <td>[{'country': 'United States', 'percent': 54.8}...</td>\n      <td>1</td>\n      <td>2020-07-02 16:57:32.397555</td>\n    </tr>\n    <tr>\n      <th>2</th>\n      <td>gothamist.com</td>\n      <td>[{'url': 'nbcnewyork.com', 'overlap_score': 18...</td>\n      <td>[{'country': 'United States', 'percent': 93.8}...</td>\n      <td>1</td>\n      <td>2020-07-03 18:41:04.942296</td>\n    </tr>\n    <tr>\n      <th>3</th>\n      <td>screendaily.com</td>\n      <td>[{'url': 'cineuropa.org', 'overlap_score': 15....</td>\n      <td>[{'country': 'United States', 'percent': 19.6}...</td>\n      <td>1</td>\n      <td>2020-07-02 16:57:54.349734</td>\n    </tr>\n    <tr>\n      <th>4</th>\n      <td>amny.com</td>\n      <td>[{'url': 'gothamist.com', 'overlap_score': 15....</td>\n      <td>[{'country': 'United States', 'percent': 90.6}...</td>\n      <td>1</td>\n      <td>2020-07-03 18:40:04.853829</td>\n    </tr>\n  </tbody>\n</table>\n</div>",
      "text/plain": "               sites                                      overlap_sites  \\\n0          nylon.com  [{'url': 'compatible-astrology.com', 'overlap_...   \n1  slantmagazine.com  [{'url': 'criterion.com', 'overlap_score': 11....   \n2      gothamist.com  [{'url': 'nbcnewyork.com', 'overlap_score': 18...   \n3    screendaily.com  [{'url': 'cineuropa.org', 'overlap_score': 15....   \n4           amny.com  [{'url': 'gothamist.com', 'overlap_score': 15....   \n\n                                  audience_geography levels  \\\n0  [{'country': 'United States', 'percent': 75.0}...      1   \n1  [{'country': 'United States', 'percent': 54.8}...      1   \n2  [{'country': 'United States', 'percent': 93.8}...      1   \n3  [{'country': 'United States', 'percent': 19.6}...      1   \n4  [{'country': 'United States', 'percent': 90.6}...      1   \n\n                       dates  \n0 2020-07-02 16:57:20.845460  \n1 2020-07-02 16:57:32.397555  \n2 2020-07-03 18:41:04.942296  \n3 2020-07-02 16:57:54.349734  \n4 2020-07-03 18:40:04.853829  "
     },
     "metadata": {},
     "execution_count": 16
    }
   ],
   "source": [
    "r1.head()"
   ]
  },
  {
   "cell_type": "code",
   "execution_count": 17,
   "metadata": {},
   "outputs": [
    {
     "output_type": "execute_result",
     "data": {
      "text/plain": "(4837, 5)"
     },
     "metadata": {},
     "execution_count": 17
    }
   ],
   "source": [
    "r1.shape"
   ]
  },
  {
   "cell_type": "code",
   "execution_count": 18,
   "metadata": {},
   "outputs": [
    {
     "output_type": "execute_result",
     "data": {
      "text/plain": "False"
     },
     "metadata": {},
     "execution_count": 18
    }
   ],
   "source": [
    "'villagevoice.com' in r1['sites'].values"
   ]
  },
  {
   "cell_type": "code",
   "execution_count": 19,
   "metadata": {
    "tags": []
   },
   "outputs": [
    {
     "output_type": "stream",
     "name": "stdout",
     "text": "breaking-news.ca {'thewatchtowers.org': {'site': 'thewatchtowers.org', 'score': [{'url': 'breaking-news.ca', 'overlap_score': 10.3, 'alexa_rank': 8791216.0}, {'url': 'breakingwide.com', 'overlap_score': 7.4, 'alexa_rank': 376105.0}, {'url': 'kwpa.gov.ir', 'overlap_score': 3.9, 'alexa_rank': None}, {'url': 'praecursator007.co.uk', 'overlap_score': 3.8, 'alexa_rank': 3007841.0}, {'url': 'magamedia.org', 'overlap_score': 3.6, 'alexa_rank': 704833.0}], 'audience_geography': []}, 'pdgc2014c.wordpress.com': {'site': 'pdgc2014c.wordpress.com', 'score': [{'url': 'fabmimi.com', 'overlap_score': 7.0, 'alexa_rank': 1087711.0}, {'url': 'breaking-news.ca', 'overlap_score': 5.9, 'alexa_rank': 8791216.0}, {'url': 'fbinvestigations.blogspot.com', 'overlap_score': 2.9, 'alexa_rank': None}], 'audience_geography': []}, 'vivaliberty.com': {'site': 'vivaliberty.com', 'score': [{'url': 'truthcdm.com', 'overlap_score': 5.7, 'alexa_rank': None}, {'url': 'breaking-news.ca', 'overlap_score': 4.9, 'alexa_rank': 8791216.0}, {'url': 'redrightvideos.com', 'overlap_score': 1.9, 'alexa_rank': None}, {'url': 'reconsider.news', 'overlap_score': 1.5, 'alexa_rank': 10132041.0}, {'url': 'silenceisconsent.net', 'overlap_score': 1.1, 'alexa_rank': 9911326.0}], 'audience_geography': []}, 'fabmimi.com': {'site': 'fabmimi.com', 'score': [{'url': 'linknaija.com', 'overlap_score': 7.8, 'alexa_rank': 1158136.0}, {'url': 'pdgc2014c.wordpress.com', 'overlap_score': 7.0, 'alexa_rank': None}, {'url': 'atiterkula.wordpress.com', 'overlap_score': 5.0, 'alexa_rank': 4979546.0}, {'url': 'samuelortom.com', 'overlap_score': 4.5, 'alexa_rank': 2510639.0}, {'url': 'nigerianconcord.com.ng', 'overlap_score': 4.3, 'alexa_rank': None}], 'audience_geography': []}, 'anullws.co': {'site': 'anullws.co', 'score': [{'url': 'weloveanimals.me', 'overlap_score': 4.9, 'alexa_rank': 525321.0}, {'url': 'saydorsblog.com', 'overlap_score': 4.0, 'alexa_rank': None}, {'url': 'thedailynet.com', 'overlap_score': 2.5, 'alexa_rank': 4664291.0}, {'url': 'bentrovatowhippingboy.wordpress.com', 'overlap_score': 2.5, 'alexa_rank': None}, {'url': 'upliftingtoday.com', 'overlap_score': 2.2, 'alexa_rank': 264912.0}], 'audience_geography': []}}\n"
    }
   ],
   "source": [
    "lvl_three_df = normalize_sites(lvl_two_data, [], level=2)\n",
    "\n",
    "\n",
    "r2 = pd.DataFrame(lvl_three_df).transpose().rename(columns={0:'sites', 1:'overlap_sites', 2:'audience_geography', 3:'levels', 4:'dates'})"
   ]
  },
  {
   "cell_type": "code",
   "execution_count": 20,
   "metadata": {},
   "outputs": [
    {
     "output_type": "execute_result",
     "data": {
      "text/html": "<div>\n<style scoped>\n    .dataframe tbody tr th:only-of-type {\n        vertical-align: middle;\n    }\n\n    .dataframe tbody tr th {\n        vertical-align: top;\n    }\n\n    .dataframe thead th {\n        text-align: right;\n    }\n</style>\n<table border=\"1\" class=\"dataframe\">\n  <thead>\n    <tr style=\"text-align: right;\">\n      <th></th>\n      <th>sites</th>\n      <th>overlap_sites</th>\n      <th>audience_geography</th>\n      <th>levels</th>\n      <th>dates</th>\n    </tr>\n  </thead>\n  <tbody>\n    <tr>\n      <th>0</th>\n      <td>compatible-astrology.com</td>\n      <td>[{'url': 'astrology-zodiac-signs.com', 'overla...</td>\n      <td>[{'country': 'United States', 'percent': 41.7}...</td>\n      <td>2</td>\n      <td>2020-07-03 14:14:57.211172</td>\n    </tr>\n    <tr>\n      <th>1</th>\n      <td>astrology-zodiac-signs.com</td>\n      <td>[{'url': 'astrology.com', 'overlap_score': 69....</td>\n      <td>[{'country': 'United States', 'percent': 46.2}...</td>\n      <td>2</td>\n      <td>2020-07-03 14:15:08.879345</td>\n    </tr>\n    <tr>\n      <th>2</th>\n      <td>papermag.com</td>\n      <td>[{'url': 'nylon.com', 'overlap_score': 13.8, '...</td>\n      <td>[{'country': 'United States', 'percent': 81.7}...</td>\n      <td>2</td>\n      <td>2020-07-03 14:15:20.427515</td>\n    </tr>\n    <tr>\n      <th>3</th>\n      <td>astrology.com</td>\n      <td>[{'url': 'astrology-zodiac-signs.com', 'overla...</td>\n      <td>[{'country': 'United States', 'percent': 44.8}...</td>\n      <td>2</td>\n      <td>2020-07-03 14:15:31.859682</td>\n    </tr>\n    <tr>\n      <th>4</th>\n      <td>flaunt.com</td>\n      <td>[{'url': 'earmilk.com', 'overlap_score': 19.6,...</td>\n      <td>[{'country': 'United States', 'percent': 58.36...</td>\n      <td>2</td>\n      <td>2020-07-03 14:15:43.379848</td>\n    </tr>\n  </tbody>\n</table>\n</div>",
      "text/plain": "                        sites  \\\n0    compatible-astrology.com   \n1  astrology-zodiac-signs.com   \n2                papermag.com   \n3               astrology.com   \n4                  flaunt.com   \n\n                                       overlap_sites  \\\n0  [{'url': 'astrology-zodiac-signs.com', 'overla...   \n1  [{'url': 'astrology.com', 'overlap_score': 69....   \n2  [{'url': 'nylon.com', 'overlap_score': 13.8, '...   \n3  [{'url': 'astrology-zodiac-signs.com', 'overla...   \n4  [{'url': 'earmilk.com', 'overlap_score': 19.6,...   \n\n                                  audience_geography levels  \\\n0  [{'country': 'United States', 'percent': 41.7}...      2   \n1  [{'country': 'United States', 'percent': 46.2}...      2   \n2  [{'country': 'United States', 'percent': 81.7}...      2   \n3  [{'country': 'United States', 'percent': 44.8}...      2   \n4  [{'country': 'United States', 'percent': 58.36...      2   \n\n                       dates  \n0 2020-07-03 14:14:57.211172  \n1 2020-07-03 14:15:08.879345  \n2 2020-07-03 14:15:20.427515  \n3 2020-07-03 14:15:31.859682  \n4 2020-07-03 14:15:43.379848  "
     },
     "metadata": {},
     "execution_count": 20
    }
   ],
   "source": [
    "\n",
    "r2.head()"
   ]
  },
  {
   "cell_type": "code",
   "execution_count": 21,
   "metadata": {},
   "outputs": [
    {
     "output_type": "execute_result",
     "data": {
      "text/html": "<div>\n<style scoped>\n    .dataframe tbody tr th:only-of-type {\n        vertical-align: middle;\n    }\n\n    .dataframe tbody tr th {\n        vertical-align: top;\n    }\n\n    .dataframe thead th {\n        text-align: right;\n    }\n</style>\n<table border=\"1\" class=\"dataframe\">\n  <thead>\n    <tr style=\"text-align: right;\">\n      <th></th>\n      <th>sites</th>\n      <th>overlap_sites</th>\n      <th>audience_geography</th>\n      <th>levels</th>\n      <th>dates</th>\n    </tr>\n  </thead>\n  <tbody>\n    <tr>\n      <th>5424</th>\n      <td>anullws.co</td>\n      <td>[{'url': 'weloveanimals.me', 'overlap_score': ...</td>\n      <td>[]</td>\n      <td>2</td>\n      <td>NaT</td>\n    </tr>\n    <tr>\n      <th>13452</th>\n      <td>nullsuchrecipes.com</td>\n      <td>[{'url': 'suicidefood.blogspot.com', 'overlap_...</td>\n      <td>[]</td>\n      <td>2</td>\n      <td>NaT</td>\n    </tr>\n  </tbody>\n</table>\n</div>",
      "text/plain": "                     sites                                      overlap_sites  \\\n5424            anullws.co  [{'url': 'weloveanimals.me', 'overlap_score': ...   \n13452  nullsuchrecipes.com  [{'url': 'suicidefood.blogspot.com', 'overlap_...   \n\n      audience_geography levels dates  \n5424                  []      2   NaT  \n13452                 []      2   NaT  "
     },
     "metadata": {},
     "execution_count": 21
    }
   ],
   "source": [
    "r2[r2['dates'].isnull()]"
   ]
  },
  {
   "cell_type": "code",
   "execution_count": 22,
   "metadata": {
    "tags": []
   },
   "outputs": [
    {
     "output_type": "stream",
     "name": "stdout",
     "text": "Loaded level 3 data with key size:10650 values size:51865\n"
    }
   ],
   "source": [
    "\n",
    "lvl_three_data = load_level_data(level=3)"
   ]
  },
  {
   "cell_type": "code",
   "execution_count": 23,
   "metadata": {},
   "outputs": [],
   "source": [
    "lvl_four_df = normalize_sites(lvl_three_data, [], level=3)\n",
    "\n",
    "\n",
    "r3 = pd.DataFrame(lvl_four_df).transpose().rename(columns={0:'sites', 1:'overlap_sites', 2:'audience_geography', 3:'levels', 4:'dates'})"
   ]
  },
  {
   "cell_type": "code",
   "execution_count": 24,
   "metadata": {},
   "outputs": [
    {
     "output_type": "execute_result",
     "data": {
      "text/html": "<div>\n<style scoped>\n    .dataframe tbody tr th:only-of-type {\n        vertical-align: middle;\n    }\n\n    .dataframe tbody tr th {\n        vertical-align: top;\n    }\n\n    .dataframe thead th {\n        text-align: right;\n    }\n</style>\n<table border=\"1\" class=\"dataframe\">\n  <thead>\n    <tr style=\"text-align: right;\">\n      <th></th>\n      <th>sites</th>\n      <th>overlap_sites</th>\n      <th>audience_geography</th>\n      <th>levels</th>\n      <th>dates</th>\n    </tr>\n  </thead>\n  <tbody>\n    <tr>\n      <th>0</th>\n      <td>astrology-zodiac-signs.com</td>\n      <td>[{'url': 'astrology.com', 'overlap_score': 69....</td>\n      <td>[{'country': 'United States', 'percent': 46.2}...</td>\n      <td>3</td>\n      <td>2020-07-03 14:15:08.879345</td>\n    </tr>\n    <tr>\n      <th>1</th>\n      <td>astrology.com</td>\n      <td>[{'url': 'astrology-zodiac-signs.com', 'overla...</td>\n      <td>[{'country': 'United States', 'percent': 44.8}...</td>\n      <td>3</td>\n      <td>2020-07-03 14:15:31.859682</td>\n    </tr>\n    <tr>\n      <th>2</th>\n      <td>astromatcha.com</td>\n      <td>[{'url': 'compatible-astrology.com', 'overlap_...</td>\n      <td>[]</td>\n      <td>3</td>\n      <td>2020-07-08 16:29:55.575374</td>\n    </tr>\n    <tr>\n      <th>3</th>\n      <td>ganeshaspeaks.com</td>\n      <td>[{'url': 'astrology.com', 'overlap_score': 49....</td>\n      <td>[{'country': 'India', 'percent': 68.2}, {'coun...</td>\n      <td>3</td>\n      <td>2020-07-08 16:30:06.687489</td>\n    </tr>\n    <tr>\n      <th>4</th>\n      <td>astrostyle.com</td>\n      <td>[{'url': 'astrology.com', 'overlap_score': 59....</td>\n      <td>[{'country': 'United States', 'percent': 53.2}...</td>\n      <td>3</td>\n      <td>2020-07-08 16:30:17.867604</td>\n    </tr>\n  </tbody>\n</table>\n</div>",
      "text/plain": "                        sites  \\\n0  astrology-zodiac-signs.com   \n1               astrology.com   \n2             astromatcha.com   \n3           ganeshaspeaks.com   \n4              astrostyle.com   \n\n                                       overlap_sites  \\\n0  [{'url': 'astrology.com', 'overlap_score': 69....   \n1  [{'url': 'astrology-zodiac-signs.com', 'overla...   \n2  [{'url': 'compatible-astrology.com', 'overlap_...   \n3  [{'url': 'astrology.com', 'overlap_score': 49....   \n4  [{'url': 'astrology.com', 'overlap_score': 59....   \n\n                                  audience_geography levels  \\\n0  [{'country': 'United States', 'percent': 46.2}...      3   \n1  [{'country': 'United States', 'percent': 44.8}...      3   \n2                                                 []      3   \n3  [{'country': 'India', 'percent': 68.2}, {'coun...      3   \n4  [{'country': 'United States', 'percent': 53.2}...      3   \n\n                       dates  \n0 2020-07-03 14:15:08.879345  \n1 2020-07-03 14:15:31.859682  \n2 2020-07-08 16:29:55.575374  \n3 2020-07-08 16:30:06.687489  \n4 2020-07-08 16:30:17.867604  "
     },
     "metadata": {},
     "execution_count": 24
    }
   ],
   "source": [
    "r3.head()"
   ]
  },
  {
   "cell_type": "code",
   "execution_count": 25,
   "metadata": {},
   "outputs": [
    {
     "output_type": "execute_result",
     "data": {
      "text/plain": "(51865, 5)"
     },
     "metadata": {},
     "execution_count": 25
    }
   ],
   "source": [
    "\n",
    "r3.shape"
   ]
  },
  {
   "cell_type": "code",
   "execution_count": 26,
   "metadata": {
    "tags": []
   },
   "outputs": [
    {
     "output_type": "stream",
     "name": "stdout",
     "text": "<class 'pandas.core.frame.DataFrame'>\nRangeIndex: 51865 entries, 0 to 51864\nData columns (total 5 columns):\n #   Column              Non-Null Count  Dtype         \n---  ------              --------------  -----         \n 0   sites               51865 non-null  object        \n 1   overlap_sites       51865 non-null  object        \n 2   audience_geography  51865 non-null  object        \n 3   levels              51865 non-null  object        \n 4   dates               51865 non-null  datetime64[ns]\ndtypes: datetime64[ns](1), object(4)\nmemory usage: 2.0+ MB\n"
    }
   ],
   "source": [
    "r3.info()"
   ]
  },
  {
   "cell_type": "code",
   "execution_count": 27,
   "metadata": {},
   "outputs": [
    {
     "output_type": "execute_result",
     "data": {
      "text/html": "<div>\n<style scoped>\n    .dataframe tbody tr th:only-of-type {\n        vertical-align: middle;\n    }\n\n    .dataframe tbody tr th {\n        vertical-align: top;\n    }\n\n    .dataframe thead th {\n        text-align: right;\n    }\n</style>\n<table border=\"1\" class=\"dataframe\">\n  <thead>\n    <tr style=\"text-align: right;\">\n      <th></th>\n      <th>sites</th>\n      <th>overlap_sites</th>\n      <th>audience_geography</th>\n      <th>levels</th>\n      <th>dates</th>\n    </tr>\n  </thead>\n  <tbody>\n  </tbody>\n</table>\n</div>",
      "text/plain": "Empty DataFrame\nColumns: [sites, overlap_sites, audience_geography, levels, dates]\nIndex: []"
     },
     "metadata": {},
     "execution_count": 27
    }
   ],
   "source": [
    "\n",
    "r3[r3['dates'].isnull()]"
   ]
  },
  {
   "cell_type": "code",
   "execution_count": 29,
   "metadata": {
    "tags": []
   },
   "outputs": [
    {
     "output_type": "stream",
     "name": "stdout",
     "text": "Loaded level 4 data with key size:28871 values size:139994\n"
    }
   ],
   "source": [
    "lvl_four_data = load_level_data(level=4)\n"
   ]
  },
  {
   "cell_type": "code",
   "execution_count": 30,
   "metadata": {},
   "outputs": [],
   "source": [
    "\n",
    "lvl_fifth_df = normalize_sites(lvl_four_data, [], level=4)\n",
    "\n",
    "\n",
    "r4 = pd.DataFrame(lvl_fifth_df).transpose().rename(columns={0:'sites', 1:'overlap_sites', 2:'audience_geography', 3:'levels', 4:'dates'})"
   ]
  },
  {
   "cell_type": "code",
   "execution_count": 31,
   "metadata": {},
   "outputs": [
    {
     "output_type": "execute_result",
     "data": {
      "text/html": "<div>\n<style scoped>\n    .dataframe tbody tr th:only-of-type {\n        vertical-align: middle;\n    }\n\n    .dataframe tbody tr th {\n        vertical-align: top;\n    }\n\n    .dataframe thead th {\n        text-align: right;\n    }\n</style>\n<table border=\"1\" class=\"dataframe\">\n  <thead>\n    <tr style=\"text-align: right;\">\n      <th></th>\n      <th>sites</th>\n      <th>overlap_sites</th>\n      <th>audience_geography</th>\n      <th>levels</th>\n      <th>dates</th>\n    </tr>\n  </thead>\n  <tbody>\n    <tr>\n      <th>0</th>\n      <td>astrology.com</td>\n      <td>[{'url': 'astrology-zodiac-signs.com', 'overla...</td>\n      <td>[{'country': 'United States', 'percent': 44.8}...</td>\n      <td>4</td>\n      <td>2020-07-03 14:15:31.859682</td>\n    </tr>\n    <tr>\n      <th>1</th>\n      <td>compatible-astrology.com</td>\n      <td>[{'url': 'astrology-zodiac-signs.com', 'overla...</td>\n      <td>[{'country': 'United States', 'percent': 41.7}...</td>\n      <td>4</td>\n      <td>2020-07-03 14:14:57.211172</td>\n    </tr>\n    <tr>\n      <th>2</th>\n      <td>astrostyle.com</td>\n      <td>[{'url': 'astrology.com', 'overlap_score': 59....</td>\n      <td>[{'country': 'United States', 'percent': 53.2}...</td>\n      <td>4</td>\n      <td>2020-07-08 16:30:17.867604</td>\n    </tr>\n    <tr>\n      <th>3</th>\n      <td>thehoroscope.co</td>\n      <td>[{'url': 'sunsigns.org', 'overlap_score': 55.3...</td>\n      <td>[{'country': 'United States', 'percent': 49.3}...</td>\n      <td>4</td>\n      <td>2020-07-08 16:30:30.499735</td>\n    </tr>\n    <tr>\n      <th>4</th>\n      <td>ganeshaspeaks.com</td>\n      <td>[{'url': 'astrology.com', 'overlap_score': 49....</td>\n      <td>[{'country': 'India', 'percent': 68.2}, {'coun...</td>\n      <td>4</td>\n      <td>2020-07-08 16:30:06.687489</td>\n    </tr>\n  </tbody>\n</table>\n</div>",
      "text/plain": "                      sites  \\\n0             astrology.com   \n1  compatible-astrology.com   \n2            astrostyle.com   \n3           thehoroscope.co   \n4         ganeshaspeaks.com   \n\n                                       overlap_sites  \\\n0  [{'url': 'astrology-zodiac-signs.com', 'overla...   \n1  [{'url': 'astrology-zodiac-signs.com', 'overla...   \n2  [{'url': 'astrology.com', 'overlap_score': 59....   \n3  [{'url': 'sunsigns.org', 'overlap_score': 55.3...   \n4  [{'url': 'astrology.com', 'overlap_score': 49....   \n\n                                  audience_geography levels  \\\n0  [{'country': 'United States', 'percent': 44.8}...      4   \n1  [{'country': 'United States', 'percent': 41.7}...      4   \n2  [{'country': 'United States', 'percent': 53.2}...      4   \n3  [{'country': 'United States', 'percent': 49.3}...      4   \n4  [{'country': 'India', 'percent': 68.2}, {'coun...      4   \n\n                       dates  \n0 2020-07-03 14:15:31.859682  \n1 2020-07-03 14:14:57.211172  \n2 2020-07-08 16:30:17.867604  \n3 2020-07-08 16:30:30.499735  \n4 2020-07-08 16:30:06.687489  "
     },
     "metadata": {},
     "execution_count": 31
    }
   ],
   "source": [
    "r4.head()"
   ]
  },
  {
   "cell_type": "code",
   "execution_count": 33,
   "metadata": {},
   "outputs": [
    {
     "output_type": "execute_result",
     "data": {
      "text/plain": "(139994, 5)"
     },
     "metadata": {},
     "execution_count": 33
    }
   ],
   "source": [
    "r4.shape"
   ]
  },
  {
   "cell_type": "code",
   "execution_count": 32,
   "metadata": {},
   "outputs": [
    {
     "output_type": "execute_result",
     "data": {
      "text/html": "<div>\n<style scoped>\n    .dataframe tbody tr th:only-of-type {\n        vertical-align: middle;\n    }\n\n    .dataframe tbody tr th {\n        vertical-align: top;\n    }\n\n    .dataframe thead th {\n        text-align: right;\n    }\n</style>\n<table border=\"1\" class=\"dataframe\">\n  <thead>\n    <tr style=\"text-align: right;\">\n      <th></th>\n      <th>sites</th>\n      <th>overlap_sites</th>\n      <th>audience_geography</th>\n      <th>levels</th>\n      <th>dates</th>\n    </tr>\n  </thead>\n  <tbody>\n  </tbody>\n</table>\n</div>",
      "text/plain": "Empty DataFrame\nColumns: [sites, overlap_sites, audience_geography, levels, dates]\nIndex: []"
     },
     "metadata": {},
     "execution_count": 32
    }
   ],
   "source": [
    "\n",
    "r4[r4['dates'].isnull()]\n"
   ]
  },
  {
   "cell_type": "code",
   "execution_count": 34,
   "metadata": {},
   "outputs": [],
   "source": [
    "total_df = pd.concat([r0, r1, r2, r3, r4])"
   ]
  },
  {
   "cell_type": "code",
   "execution_count": 35,
   "metadata": {},
   "outputs": [
    {
     "output_type": "execute_result",
     "data": {
      "text/plain": "(215166, 5)"
     },
     "metadata": {},
     "execution_count": 35
    }
   ],
   "source": [
    "total_df.shape"
   ]
  },
  {
   "cell_type": "code",
   "execution_count": 36,
   "metadata": {},
   "outputs": [
    {
     "output_type": "execute_result",
     "data": {
      "text/html": "<div>\n<style scoped>\n    .dataframe tbody tr th:only-of-type {\n        vertical-align: middle;\n    }\n\n    .dataframe tbody tr th {\n        vertical-align: top;\n    }\n\n    .dataframe thead th {\n        text-align: right;\n    }\n</style>\n<table border=\"1\" class=\"dataframe\">\n  <thead>\n    <tr style=\"text-align: right;\">\n      <th></th>\n      <th>sites</th>\n      <th>overlap_sites</th>\n      <th>audience_geography</th>\n      <th>levels</th>\n      <th>dates</th>\n    </tr>\n  </thead>\n  <tbody>\n    <tr>\n      <th>0</th>\n      <td>villagevoice.com</td>\n      <td>[{'url': 'nylon.com', 'overlap_score': 4.1, 'a...</td>\n      <td>[{'country': 'United States', 'percent': 77.2}]</td>\n      <td>0</td>\n      <td>2020-06-29 19:55:15.620467</td>\n    </tr>\n    <tr>\n      <th>1</th>\n      <td>insideclimatenews.org</td>\n      <td>[{'url': 'wri.org', 'overlap_score': 12.8, 'al...</td>\n      <td>[{'country': 'United States', 'percent': 69.0}...</td>\n      <td>0</td>\n      <td>2020-07-03 18:41:39.438563</td>\n    </tr>\n    <tr>\n      <th>2</th>\n      <td>fury.news</td>\n      <td>[{'url': 'settingrecordstraight.blogspot.com',...</td>\n      <td>[]</td>\n      <td>0</td>\n      <td>2020-06-29 19:55:17.684495</td>\n    </tr>\n    <tr>\n      <th>3</th>\n      <td>now8news.com</td>\n      <td>[{'url': 'donatebits.com', 'overlap_score': 11...</td>\n      <td>[]</td>\n      <td>0</td>\n      <td>2020-07-03 18:50:18.138572</td>\n    </tr>\n    <tr>\n      <th>4</th>\n      <td>constitution.com</td>\n      <td>[{'url': 'themilreview.com', 'overlap_score': ...</td>\n      <td>[]</td>\n      <td>0</td>\n      <td>2020-07-03 18:53:18.803963</td>\n    </tr>\n  </tbody>\n</table>\n</div>",
      "text/plain": "                   sites                                      overlap_sites  \\\n0       villagevoice.com  [{'url': 'nylon.com', 'overlap_score': 4.1, 'a...   \n1  insideclimatenews.org  [{'url': 'wri.org', 'overlap_score': 12.8, 'al...   \n2              fury.news  [{'url': 'settingrecordstraight.blogspot.com',...   \n3           now8news.com  [{'url': 'donatebits.com', 'overlap_score': 11...   \n4       constitution.com  [{'url': 'themilreview.com', 'overlap_score': ...   \n\n                                  audience_geography levels  \\\n0    [{'country': 'United States', 'percent': 77.2}]      0   \n1  [{'country': 'United States', 'percent': 69.0}...      0   \n2                                                 []      0   \n3                                                 []      0   \n4                                                 []      0   \n\n                       dates  \n0 2020-06-29 19:55:15.620467  \n1 2020-07-03 18:41:39.438563  \n2 2020-06-29 19:55:17.684495  \n3 2020-07-03 18:50:18.138572  \n4 2020-07-03 18:53:18.803963  "
     },
     "metadata": {},
     "execution_count": 36
    }
   ],
   "source": [
    "\n",
    "total_df.head()"
   ]
  },
  {
   "cell_type": "code",
   "execution_count": 37,
   "metadata": {},
   "outputs": [
    {
     "output_type": "execute_result",
     "data": {
      "text/plain": "78431"
     },
     "metadata": {},
     "execution_count": 37
    }
   ],
   "source": [
    "len(total_df['sites'].unique())"
   ]
  },
  {
   "cell_type": "code",
   "execution_count": 52,
   "metadata": {},
   "outputs": [
    {
     "output_type": "execute_result",
     "data": {
      "text/plain": "['eastasiaforum.org',\n 'thewatchmakerproject.com',\n 'barbarycoasttrail.org',\n 'ewanpaterson.net',\n 'theraisedright.com',\n 'massterlist.com',\n 'streetheattv.com',\n 'grantcountywa.gov',\n 'essexanimalhospital.com',\n 'cienciologia.wordpress.com']"
     },
     "metadata": {},
     "execution_count": 52
    }
   ],
   "source": [
    "list(set(r3['sites'].values.tolist()).difference(set(r4['sites'].values.tolist())))[:10]"
   ]
  },
  {
   "cell_type": "code",
   "execution_count": 53,
   "metadata": {},
   "outputs": [
    {
     "output_type": "execute_result",
     "data": {
      "text/html": "<div>\n<style scoped>\n    .dataframe tbody tr th:only-of-type {\n        vertical-align: middle;\n    }\n\n    .dataframe tbody tr th {\n        vertical-align: top;\n    }\n\n    .dataframe thead th {\n        text-align: right;\n    }\n</style>\n<table border=\"1\" class=\"dataframe\">\n  <thead>\n    <tr style=\"text-align: right;\">\n      <th></th>\n      <th>sites</th>\n      <th>overlap_sites</th>\n      <th>audience_geography</th>\n      <th>levels</th>\n      <th>dates</th>\n    </tr>\n  </thead>\n  <tbody>\n    <tr>\n      <th>340</th>\n      <td>eastasiaforum.org</td>\n      <td>[{'url': 'thediplomat.com', 'overlap_score': 6...</td>\n      <td>[{'country': 'Cambodia', 'percent': 4.9}, {'co...</td>\n      <td>1</td>\n      <td>2020-07-02 18:00:03.220459</td>\n    </tr>\n    <tr>\n      <th>5723</th>\n      <td>eastasiaforum.org</td>\n      <td>[{'url': 'thediplomat.com', 'overlap_score': 6...</td>\n      <td>[{'country': 'Cambodia', 'percent': 4.9}, {'co...</td>\n      <td>3</td>\n      <td>2020-07-02 18:00:03.220459</td>\n    </tr>\n  </tbody>\n</table>\n</div>",
      "text/plain": "                  sites                                      overlap_sites  \\\n340   eastasiaforum.org  [{'url': 'thediplomat.com', 'overlap_score': 6...   \n5723  eastasiaforum.org  [{'url': 'thediplomat.com', 'overlap_score': 6...   \n\n                                     audience_geography levels  \\\n340   [{'country': 'Cambodia', 'percent': 4.9}, {'co...      1   \n5723  [{'country': 'Cambodia', 'percent': 4.9}, {'co...      3   \n\n                          dates  \n340  2020-07-02 18:00:03.220459  \n5723 2020-07-02 18:00:03.220459  "
     },
     "metadata": {},
     "execution_count": 53
    }
   ],
   "source": [
    "total_df[total_df['sites'] == 'eastasiaforum.org']"
   ]
  },
  {
   "cell_type": "code",
   "execution_count": 58,
   "metadata": {},
   "outputs": [
    {
     "output_type": "execute_result",
     "data": {
      "text/html": "<div>\n<style scoped>\n    .dataframe tbody tr th:only-of-type {\n        vertical-align: middle;\n    }\n\n    .dataframe tbody tr th {\n        vertical-align: top;\n    }\n\n    .dataframe thead th {\n        text-align: right;\n    }\n</style>\n<table border=\"1\" class=\"dataframe\">\n  <thead>\n    <tr style=\"text-align: right;\">\n      <th></th>\n      <th>sites</th>\n      <th>overlap_sites</th>\n      <th>audience_geography</th>\n      <th>levels</th>\n      <th>dates</th>\n    </tr>\n  </thead>\n  <tbody>\n    <tr>\n      <th>78</th>\n      <td>atimes.com</td>\n      <td>[{'url': 'thediplomat.com', 'overlap_score': 3...</td>\n      <td>[]</td>\n      <td>0</td>\n      <td>2020-06-29 19:56:15.497266</td>\n    </tr>\n    <tr>\n      <th>1627</th>\n      <td>eastwestcenter.org</td>\n      <td>[{'url': 'eastasiaforum.org', 'overlap_score':...</td>\n      <td>[]</td>\n      <td>2</td>\n      <td>2020-07-03 22:19:44.514778</td>\n    </tr>\n    <tr>\n      <th>16480</th>\n      <td>eastwestcenter.org</td>\n      <td>[{'url': 'eastasiaforum.org', 'overlap_score':...</td>\n      <td>[]</td>\n      <td>4</td>\n      <td>2020-07-03 22:19:44.514778</td>\n    </tr>\n    <tr>\n      <th>115699</th>\n      <td>nbr.org</td>\n      <td>[{'url': 'spfusa.org', 'overlap_score': 2.1, '...</td>\n      <td>[]</td>\n      <td>4</td>\n      <td>2020-07-18 11:42:39.919250</td>\n    </tr>\n    <tr>\n      <th>115732</th>\n      <td>nbr.org</td>\n      <td>[{'url': 'spfusa.org', 'overlap_score': 2.1, '...</td>\n      <td>[]</td>\n      <td>4</td>\n      <td>2020-07-18 11:42:39.919250</td>\n    </tr>\n  </tbody>\n</table>\n</div>",
      "text/plain": "                     sites                                      overlap_sites  \\\n78              atimes.com  [{'url': 'thediplomat.com', 'overlap_score': 3...   \n1627    eastwestcenter.org  [{'url': 'eastasiaforum.org', 'overlap_score':...   \n16480   eastwestcenter.org  [{'url': 'eastasiaforum.org', 'overlap_score':...   \n115699             nbr.org  [{'url': 'spfusa.org', 'overlap_score': 2.1, '...   \n115732             nbr.org  [{'url': 'spfusa.org', 'overlap_score': 2.1, '...   \n\n       audience_geography levels                      dates  \n78                     []      0 2020-06-29 19:56:15.497266  \n1627                   []      2 2020-07-03 22:19:44.514778  \n16480                  []      4 2020-07-03 22:19:44.514778  \n115699                 []      4 2020-07-18 11:42:39.919250  \n115732                 []      4 2020-07-18 11:42:39.919250  "
     },
     "metadata": {},
     "execution_count": 58
    }
   ],
   "source": [
    "total_df[total_df.apply(lambda x: any('eastasiaforum.org' in y['url'] for y in  x['overlap_sites']), axis=1)]"
   ]
  },
  {
   "cell_type": "code",
   "execution_count": 45,
   "metadata": {},
   "outputs": [],
   "source": [
    "total_df.to_csv(f\"/home/paco/Documents/site_similarity/data/total_data.csv\", index=False)"
   ]
  },
  {
   "cell_type": "code",
   "execution_count": 46,
   "metadata": {},
   "outputs": [
    {
     "output_type": "execute_result",
     "data": {
      "text/html": "<div>\n<style scoped>\n    .dataframe tbody tr th:only-of-type {\n        vertical-align: middle;\n    }\n\n    .dataframe tbody tr th {\n        vertical-align: top;\n    }\n\n    .dataframe thead th {\n        text-align: right;\n    }\n</style>\n<table border=\"1\" class=\"dataframe\">\n  <thead>\n    <tr style=\"text-align: right;\">\n      <th></th>\n      <th>sites</th>\n      <th>overlap_sites</th>\n      <th>audience_geography</th>\n      <th>levels</th>\n      <th>dates</th>\n    </tr>\n  </thead>\n  <tbody>\n    <tr>\n      <th>5424</th>\n      <td>anullws.co</td>\n      <td>[{'url': 'weloveanimals.me', 'overlap_score': ...</td>\n      <td>[]</td>\n      <td>2</td>\n      <td>NaT</td>\n    </tr>\n    <tr>\n      <th>13452</th>\n      <td>nullsuchrecipes.com</td>\n      <td>[{'url': 'suicidefood.blogspot.com', 'overlap_...</td>\n      <td>[]</td>\n      <td>2</td>\n      <td>NaT</td>\n    </tr>\n  </tbody>\n</table>\n</div>",
      "text/plain": "                     sites                                      overlap_sites  \\\n5424            anullws.co  [{'url': 'weloveanimals.me', 'overlap_score': ...   \n13452  nullsuchrecipes.com  [{'url': 'suicidefood.blogspot.com', 'overlap_...   \n\n      audience_geography levels dates  \n5424                  []      2   NaT  \n13452                 []      2   NaT  "
     },
     "metadata": {},
     "execution_count": 46
    }
   ],
   "source": [
    "total_df[total_df['dates'].isnull()]"
   ]
  },
  {
   "cell_type": "code",
   "execution_count": 49,
   "metadata": {},
   "outputs": [
    {
     "output_type": "execute_result",
     "data": {
      "text/plain": "5    205697\n3      2778\n4      2743\n2      2327\n1      1448\n0       173\ndtype: int64"
     },
     "metadata": {},
     "execution_count": 49
    }
   ],
   "source": [
    "total_df.apply(lambda x: len(x['overlap_sites']), axis=1).value_counts()"
   ]
  },
  {
   "cell_type": "code",
   "execution_count": 62,
   "metadata": {},
   "outputs": [],
   "source": [
    "unique_df = total_df.drop_duplicates(subset=['sites'])"
   ]
  },
  {
   "cell_type": "code",
   "execution_count": 63,
   "metadata": {},
   "outputs": [
    {
     "output_type": "execute_result",
     "data": {
      "text/plain": "(78431, 5)"
     },
     "metadata": {},
     "execution_count": 63
    }
   ],
   "source": [
    "unique_df.shape"
   ]
  },
  {
   "cell_type": "code",
   "execution_count": 67,
   "metadata": {},
   "outputs": [
    {
     "output_type": "execute_result",
     "data": {
      "text/html": "<div>\n<style scoped>\n    .dataframe tbody tr th:only-of-type {\n        vertical-align: middle;\n    }\n\n    .dataframe tbody tr th {\n        vertical-align: top;\n    }\n\n    .dataframe thead th {\n        text-align: right;\n    }\n</style>\n<table border=\"1\" class=\"dataframe\">\n  <thead>\n    <tr style=\"text-align: right;\">\n      <th></th>\n      <th>sites</th>\n      <th>overlap_sites</th>\n      <th>audience_geography</th>\n      <th>dates</th>\n    </tr>\n    <tr>\n      <th>levels</th>\n      <th></th>\n      <th></th>\n      <th></th>\n      <th></th>\n    </tr>\n  </thead>\n  <tbody>\n    <tr>\n      <th>0</th>\n      <td>1062</td>\n      <td>1062</td>\n      <td>1062</td>\n      <td>1062</td>\n    </tr>\n    <tr>\n      <th>1</th>\n      <td>3176</td>\n      <td>3176</td>\n      <td>3176</td>\n      <td>3176</td>\n    </tr>\n    <tr>\n      <th>2</th>\n      <td>7631</td>\n      <td>7631</td>\n      <td>7631</td>\n      <td>7629</td>\n    </tr>\n    <tr>\n      <th>3</th>\n      <td>19022</td>\n      <td>19022</td>\n      <td>19022</td>\n      <td>19022</td>\n    </tr>\n    <tr>\n      <th>4</th>\n      <td>47540</td>\n      <td>47540</td>\n      <td>47540</td>\n      <td>47540</td>\n    </tr>\n  </tbody>\n</table>\n</div>",
      "text/plain": "        sites  overlap_sites  audience_geography  dates\nlevels                                                 \n0        1062           1062                1062   1062\n1        3176           3176                3176   3176\n2        7631           7631                7631   7629\n3       19022          19022               19022  19022\n4       47540          47540               47540  47540"
     },
     "metadata": {},
     "execution_count": 67
    }
   ],
   "source": [
    "unique_df.groupby('levels').count()"
   ]
  },
  {
   "cell_type": "markdown",
   "metadata": {},
   "source": [
    "Loaded level 0 key size:1062  values size:1062  \n",
    "Loaded level 1 key size:1062  values size:4837  \n",
    "Loaded level 2 key size:3560  values size:17408  \n",
    "Loaded level 3 key size:10650 values size:51865  \n",
    "Loaded level 4 key size:28871 values size:139994  "
   ]
  },
  {
   "cell_type": "code",
   "execution_count": 68,
   "metadata": {},
   "outputs": [
    {
     "output_type": "execute_result",
     "data": {
      "text/html": "<div>\n<style scoped>\n    .dataframe tbody tr th:only-of-type {\n        vertical-align: middle;\n    }\n\n    .dataframe tbody tr th {\n        vertical-align: top;\n    }\n\n    .dataframe thead th {\n        text-align: right;\n    }\n</style>\n<table border=\"1\" class=\"dataframe\">\n  <thead>\n    <tr style=\"text-align: right;\">\n      <th></th>\n      <th>sites</th>\n      <th>overlap_sites</th>\n      <th>audience_geography</th>\n      <th>levels</th>\n      <th>dates</th>\n    </tr>\n  </thead>\n  <tbody>\n    <tr>\n      <th>78</th>\n      <td>atimes.com</td>\n      <td>[{'url': 'thediplomat.com', 'overlap_score': 3...</td>\n      <td>[]</td>\n      <td>0</td>\n      <td>2020-06-29 19:56:15.497266</td>\n    </tr>\n    <tr>\n      <th>1627</th>\n      <td>eastwestcenter.org</td>\n      <td>[{'url': 'eastasiaforum.org', 'overlap_score':...</td>\n      <td>[]</td>\n      <td>2</td>\n      <td>2020-07-03 22:19:44.514778</td>\n    </tr>\n    <tr>\n      <th>115699</th>\n      <td>nbr.org</td>\n      <td>[{'url': 'spfusa.org', 'overlap_score': 2.1, '...</td>\n      <td>[]</td>\n      <td>4</td>\n      <td>2020-07-18 11:42:39.919250</td>\n    </tr>\n  </tbody>\n</table>\n</div>",
      "text/plain": "                     sites                                      overlap_sites  \\\n78              atimes.com  [{'url': 'thediplomat.com', 'overlap_score': 3...   \n1627    eastwestcenter.org  [{'url': 'eastasiaforum.org', 'overlap_score':...   \n115699             nbr.org  [{'url': 'spfusa.org', 'overlap_score': 2.1, '...   \n\n       audience_geography levels                      dates  \n78                     []      0 2020-06-29 19:56:15.497266  \n1627                   []      2 2020-07-03 22:19:44.514778  \n115699                 []      4 2020-07-18 11:42:39.919250  "
     },
     "metadata": {},
     "execution_count": 68
    }
   ],
   "source": [
    "unique_df[unique_df.apply(lambda x: any('eastasiaforum.org' in y['url'] for y in  x['overlap_sites']), axis=1)]"
   ]
  },
  {
   "cell_type": "code",
   "execution_count": 69,
   "metadata": {},
   "outputs": [
    {
     "output_type": "execute_result",
     "data": {
      "text/html": "<div>\n<style scoped>\n    .dataframe tbody tr th:only-of-type {\n        vertical-align: middle;\n    }\n\n    .dataframe tbody tr th {\n        vertical-align: top;\n    }\n\n    .dataframe thead th {\n        text-align: right;\n    }\n</style>\n<table border=\"1\" class=\"dataframe\">\n  <thead>\n    <tr style=\"text-align: right;\">\n      <th></th>\n      <th>sites</th>\n      <th>overlap_sites</th>\n      <th>audience_geography</th>\n      <th>levels</th>\n      <th>dates</th>\n    </tr>\n  </thead>\n  <tbody>\n    <tr>\n      <th>340</th>\n      <td>eastasiaforum.org</td>\n      <td>[{'url': 'thediplomat.com', 'overlap_score': 6...</td>\n      <td>[{'country': 'Cambodia', 'percent': 4.9}, {'co...</td>\n      <td>1</td>\n      <td>2020-07-02 18:00:03.220459</td>\n    </tr>\n  </tbody>\n</table>\n</div>",
      "text/plain": "                 sites                                      overlap_sites  \\\n340  eastasiaforum.org  [{'url': 'thediplomat.com', 'overlap_score': 6...   \n\n                                    audience_geography levels  \\\n340  [{'country': 'Cambodia', 'percent': 4.9}, {'co...      1   \n\n                         dates  \n340 2020-07-02 18:00:03.220459  "
     },
     "metadata": {},
     "execution_count": 69
    }
   ],
   "source": [
    "unique_df[unique_df['sites'] == 'eastasiaforum.org']"
   ]
  },
  {
   "cell_type": "code",
   "execution_count": 70,
   "metadata": {},
   "outputs": [
    {
     "output_type": "execute_result",
     "data": {
      "text/html": "<div>\n<style scoped>\n    .dataframe tbody tr th:only-of-type {\n        vertical-align: middle;\n    }\n\n    .dataframe tbody tr th {\n        vertical-align: top;\n    }\n\n    .dataframe thead th {\n        text-align: right;\n    }\n</style>\n<table border=\"1\" class=\"dataframe\">\n  <thead>\n    <tr style=\"text-align: right;\">\n      <th></th>\n      <th>sites</th>\n      <th>overlap_sites</th>\n      <th>audience_geography</th>\n      <th>levels</th>\n      <th>dates</th>\n    </tr>\n  </thead>\n  <tbody>\n    <tr>\n      <th>5424</th>\n      <td>anullws.co</td>\n      <td>[{'url': 'weloveanimals.me', 'overlap_score': ...</td>\n      <td>[]</td>\n      <td>2</td>\n      <td>NaT</td>\n    </tr>\n    <tr>\n      <th>13452</th>\n      <td>nullsuchrecipes.com</td>\n      <td>[{'url': 'suicidefood.blogspot.com', 'overlap_...</td>\n      <td>[]</td>\n      <td>2</td>\n      <td>NaT</td>\n    </tr>\n  </tbody>\n</table>\n</div>",
      "text/plain": "                     sites                                      overlap_sites  \\\n5424            anullws.co  [{'url': 'weloveanimals.me', 'overlap_score': ...   \n13452  nullsuchrecipes.com  [{'url': 'suicidefood.blogspot.com', 'overlap_...   \n\n      audience_geography levels dates  \n5424                  []      2   NaT  \n13452                 []      2   NaT  "
     },
     "metadata": {},
     "execution_count": 70
    }
   ],
   "source": [
    "unique_df[unique_df['dates'].isnull()]"
   ]
  },
  {
   "cell_type": "code",
   "execution_count": 73,
   "metadata": {},
   "outputs": [
    {
     "output_type": "execute_result",
     "data": {
      "text/html": "<div>\n<style scoped>\n    .dataframe tbody tr th:only-of-type {\n        vertical-align: middle;\n    }\n\n    .dataframe tbody tr th {\n        vertical-align: top;\n    }\n\n    .dataframe thead th {\n        text-align: right;\n    }\n</style>\n<table border=\"1\" class=\"dataframe\">\n  <thead>\n    <tr style=\"text-align: right;\">\n      <th></th>\n      <th>sites</th>\n      <th>overlap_sites</th>\n      <th>audience_geography</th>\n      <th>levels</th>\n      <th>dates</th>\n    </tr>\n  </thead>\n  <tbody>\n  </tbody>\n</table>\n</div>",
      "text/plain": "Empty DataFrame\nColumns: [sites, overlap_sites, audience_geography, levels, dates]\nIndex: []"
     },
     "metadata": {},
     "execution_count": 73
    }
   ],
   "source": [
    "unique_df[unique_df.apply(lambda x: any('anullws.co' in y['url'] for y in  x['overlap_sites']), axis=1)]"
   ]
  },
  {
   "cell_type": "code",
   "execution_count": 74,
   "metadata": {},
   "outputs": [
    {
     "output_type": "execute_result",
     "data": {
      "text/html": "<div>\n<style scoped>\n    .dataframe tbody tr th:only-of-type {\n        vertical-align: middle;\n    }\n\n    .dataframe tbody tr th {\n        vertical-align: top;\n    }\n\n    .dataframe thead th {\n        text-align: right;\n    }\n</style>\n<table border=\"1\" class=\"dataframe\">\n  <thead>\n    <tr style=\"text-align: right;\">\n      <th></th>\n      <th>sites</th>\n      <th>overlap_sites</th>\n      <th>audience_geography</th>\n      <th>levels</th>\n      <th>dates</th>\n    </tr>\n  </thead>\n  <tbody>\n  </tbody>\n</table>\n</div>",
      "text/plain": "Empty DataFrame\nColumns: [sites, overlap_sites, audience_geography, levels, dates]\nIndex: []"
     },
     "metadata": {},
     "execution_count": 74
    }
   ],
   "source": [
    "unique_df[unique_df.apply(lambda x: any('nullsuchrecipes.com' in y['url'] for y in  x['overlap_sites']), axis=1)]"
   ]
  },
  {
   "cell_type": "code",
   "execution_count": 83,
   "metadata": {},
   "outputs": [],
   "source": [
    "from bs4 import BeautifulSoup\n",
    "\n",
    "\n",
    "def get_referal_sites(site):\n",
    "    file_name = f\"/home/paco/Documents/site_similarity/data/all_data/{site}.html\"\n",
    "\n",
    "    if not os.path.exists(file_name):\n",
    "        return\n",
    "    \n",
    "    with open(file_name) as f:\n",
    "        text = f.read()\n",
    "\n",
    "    text = BeautifulSoup(text, 'html')\n",
    "\n",
    "    referal_sites = text.find('div', {'id': 'card_referralsites'})\n",
    "\n",
    "    if not referal_sites:\n",
    "        return []\n",
    "\n",
    "    found_sites = referal_sites.find_all('div', {'class': 'Row'})\n",
    "\n",
    "    return [(found_site.find('div', {'class', 'site'}).a['href'].split('/')[-1], \n",
    "            found_site.find('span', {'class': 'truncation'}).text.strip())\n",
    "            for found_site in found_sites]"
   ]
  },
  {
   "cell_type": "code",
   "execution_count": 84,
   "metadata": {},
   "outputs": [
    {
     "output_type": "execute_result",
     "data": {
      "text/plain": "[('atimes.com', '8 k'),\n ('thediplomat.com', '3.6 k'),\n ('eastasiaforum.org', '1.1 k'),\n ('lowyinstitute.org', '570'),\n ('rsis.edu.sg', '407')]"
     },
     "metadata": {},
     "execution_count": 84
    }
   ],
   "source": [
    "get_referal_sites('eastasiaforum.org')\n"
   ]
  },
  {
   "cell_type": "code",
   "execution_count": 85,
   "metadata": {},
   "outputs": [],
   "source": [
    "unique_df['referal_sites'] = unique_df['sites'].apply(get_referal_sites)"
   ]
  },
  {
   "cell_type": "code",
   "execution_count": 86,
   "metadata": {},
   "outputs": [],
   "source": [
    "unique_df.to_csv(f\"/home/paco/Documents/site_similarity/data/unique_data.csv\", index=False)"
   ]
  },
  {
   "cell_type": "code",
   "execution_count": 87,
   "metadata": {},
   "outputs": [
    {
     "output_type": "execute_result",
     "data": {
      "text/html": "<div>\n<style scoped>\n    .dataframe tbody tr th:only-of-type {\n        vertical-align: middle;\n    }\n\n    .dataframe tbody tr th {\n        vertical-align: top;\n    }\n\n    .dataframe thead th {\n        text-align: right;\n    }\n</style>\n<table border=\"1\" class=\"dataframe\">\n  <thead>\n    <tr style=\"text-align: right;\">\n      <th></th>\n      <th>sites</th>\n      <th>overlap_sites</th>\n      <th>audience_geography</th>\n      <th>levels</th>\n      <th>dates</th>\n      <th>referal_sites</th>\n    </tr>\n  </thead>\n  <tbody>\n    <tr>\n      <th>0</th>\n      <td>villagevoice.com</td>\n      <td>[{'url': 'nylon.com', 'overlap_score': 4.1, 'a...</td>\n      <td>[{'country': 'United States', 'percent': 77.2}]</td>\n      <td>0</td>\n      <td>2020-06-29 19:55:15.620467</td>\n      <td>[(villagevoice.com, 13.1 k), (gothamist.com, 8...</td>\n    </tr>\n    <tr>\n      <th>1</th>\n      <td>insideclimatenews.org</td>\n      <td>[{'url': 'wri.org', 'overlap_score': 12.8, 'al...</td>\n      <td>[{'country': 'United States', 'percent': 69.0}...</td>\n      <td>0</td>\n      <td>2020-07-03 18:41:39.438563</td>\n      <td>[(climatecentral.org, 2.3 k), (skepticalscienc...</td>\n    </tr>\n    <tr>\n      <th>2</th>\n      <td>fury.news</td>\n      <td>[{'url': 'settingrecordstraight.blogspot.com',...</td>\n      <td>[]</td>\n      <td>0</td>\n      <td>2020-06-29 19:55:17.684495</td>\n      <td>[]</td>\n    </tr>\n    <tr>\n      <th>3</th>\n      <td>now8news.com</td>\n      <td>[{'url': 'donatebits.com', 'overlap_score': 11...</td>\n      <td>[]</td>\n      <td>0</td>\n      <td>2020-07-03 18:50:18.138572</td>\n      <td>[(now8news.com, 90), (notallowedto.com, 53), (...</td>\n    </tr>\n    <tr>\n      <th>4</th>\n      <td>constitution.com</td>\n      <td>[{'url': 'themilreview.com', 'overlap_score': ...</td>\n      <td>[]</td>\n      <td>0</td>\n      <td>2020-07-03 18:53:18.803963</td>\n      <td>[(zfacts.com, 1.1 k), (eaglerising.com, 273), ...</td>\n    </tr>\n  </tbody>\n</table>\n</div>",
      "text/plain": "                   sites                                      overlap_sites  \\\n0       villagevoice.com  [{'url': 'nylon.com', 'overlap_score': 4.1, 'a...   \n1  insideclimatenews.org  [{'url': 'wri.org', 'overlap_score': 12.8, 'al...   \n2              fury.news  [{'url': 'settingrecordstraight.blogspot.com',...   \n3           now8news.com  [{'url': 'donatebits.com', 'overlap_score': 11...   \n4       constitution.com  [{'url': 'themilreview.com', 'overlap_score': ...   \n\n                                  audience_geography levels  \\\n0    [{'country': 'United States', 'percent': 77.2}]      0   \n1  [{'country': 'United States', 'percent': 69.0}...      0   \n2                                                 []      0   \n3                                                 []      0   \n4                                                 []      0   \n\n                       dates  \\\n0 2020-06-29 19:55:15.620467   \n1 2020-07-03 18:41:39.438563   \n2 2020-06-29 19:55:17.684495   \n3 2020-07-03 18:50:18.138572   \n4 2020-07-03 18:53:18.803963   \n\n                                       referal_sites  \n0  [(villagevoice.com, 13.1 k), (gothamist.com, 8...  \n1  [(climatecentral.org, 2.3 k), (skepticalscienc...  \n2                                                 []  \n3  [(now8news.com, 90), (notallowedto.com, 53), (...  \n4  [(zfacts.com, 1.1 k), (eaglerising.com, 273), ...  "
     },
     "metadata": {},
     "execution_count": 87
    }
   ],
   "source": [
    "unique_df.head()"
   ]
  },
  {
   "cell_type": "code",
   "execution_count": 96,
   "metadata": {},
   "outputs": [
    {
     "output_type": "execute_result",
     "data": {
      "text/plain": "(78431, 6)"
     },
     "metadata": {},
     "execution_count": 96
    }
   ],
   "source": [
    "unique_df.shape"
   ]
  },
  {
   "cell_type": "code",
   "execution_count": 97,
   "metadata": {},
   "outputs": [],
   "source": [
    "cleaned_df = unique_df[unique_df['referal_sites'].notnull()]"
   ]
  },
  {
   "cell_type": "code",
   "execution_count": 98,
   "metadata": {},
   "outputs": [],
   "source": [
    "test_df = pd.read_csv('/home/paco/Documents/site_similarity/data/unique_data.csv')"
   ]
  },
  {
   "cell_type": "code",
   "execution_count": 99,
   "metadata": {},
   "outputs": [
    {
     "output_type": "execute_result",
     "data": {
      "text/html": "<div>\n<style scoped>\n    .dataframe tbody tr th:only-of-type {\n        vertical-align: middle;\n    }\n\n    .dataframe tbody tr th {\n        vertical-align: top;\n    }\n\n    .dataframe thead th {\n        text-align: right;\n    }\n</style>\n<table border=\"1\" class=\"dataframe\">\n  <thead>\n    <tr style=\"text-align: right;\">\n      <th></th>\n      <th>sites</th>\n      <th>overlap_sites</th>\n      <th>audience_geography</th>\n      <th>levels</th>\n      <th>dates</th>\n      <th>referal_sites</th>\n    </tr>\n  </thead>\n  <tbody>\n    <tr>\n      <th>0</th>\n      <td>villagevoice.com</td>\n      <td>[{'url': 'nylon.com', 'overlap_score': 4.1, 'a...</td>\n      <td>[{'country': 'United States', 'percent': 77.2}]</td>\n      <td>0</td>\n      <td>2020-06-29 19:55:15.620467</td>\n      <td>[('villagevoice.com', '13.1 k'), ('gothamist.c...</td>\n    </tr>\n    <tr>\n      <th>1</th>\n      <td>insideclimatenews.org</td>\n      <td>[{'url': 'wri.org', 'overlap_score': 12.8, 'al...</td>\n      <td>[{'country': 'United States', 'percent': 69.0}...</td>\n      <td>0</td>\n      <td>2020-07-03 18:41:39.438563</td>\n      <td>[('climatecentral.org', '2.3 k'), ('skepticals...</td>\n    </tr>\n    <tr>\n      <th>2</th>\n      <td>fury.news</td>\n      <td>[{'url': 'settingrecordstraight.blogspot.com',...</td>\n      <td>[]</td>\n      <td>0</td>\n      <td>2020-06-29 19:55:17.684495</td>\n      <td>[]</td>\n    </tr>\n    <tr>\n      <th>3</th>\n      <td>now8news.com</td>\n      <td>[{'url': 'donatebits.com', 'overlap_score': 11...</td>\n      <td>[]</td>\n      <td>0</td>\n      <td>2020-07-03 18:50:18.138572</td>\n      <td>[('now8news.com', '90'), ('notallowedto.com', ...</td>\n    </tr>\n    <tr>\n      <th>4</th>\n      <td>constitution.com</td>\n      <td>[{'url': 'themilreview.com', 'overlap_score': ...</td>\n      <td>[]</td>\n      <td>0</td>\n      <td>2020-07-03 18:53:18.803963</td>\n      <td>[('zfacts.com', '1.1 k'), ('eaglerising.com', ...</td>\n    </tr>\n  </tbody>\n</table>\n</div>",
      "text/plain": "                   sites                                      overlap_sites  \\\n0       villagevoice.com  [{'url': 'nylon.com', 'overlap_score': 4.1, 'a...   \n1  insideclimatenews.org  [{'url': 'wri.org', 'overlap_score': 12.8, 'al...   \n2              fury.news  [{'url': 'settingrecordstraight.blogspot.com',...   \n3           now8news.com  [{'url': 'donatebits.com', 'overlap_score': 11...   \n4       constitution.com  [{'url': 'themilreview.com', 'overlap_score': ...   \n\n                                  audience_geography  levels  \\\n0    [{'country': 'United States', 'percent': 77.2}]       0   \n1  [{'country': 'United States', 'percent': 69.0}...       0   \n2                                                 []       0   \n3                                                 []       0   \n4                                                 []       0   \n\n                        dates  \\\n0  2020-06-29 19:55:15.620467   \n1  2020-07-03 18:41:39.438563   \n2  2020-06-29 19:55:17.684495   \n3  2020-07-03 18:50:18.138572   \n4  2020-07-03 18:53:18.803963   \n\n                                       referal_sites  \n0  [('villagevoice.com', '13.1 k'), ('gothamist.c...  \n1  [('climatecentral.org', '2.3 k'), ('skepticals...  \n2                                                 []  \n3  [('now8news.com', '90'), ('notallowedto.com', ...  \n4  [('zfacts.com', '1.1 k'), ('eaglerising.com', ...  "
     },
     "metadata": {},
     "execution_count": 99
    }
   ],
   "source": [
    "test_df.head()"
   ]
  },
  {
   "cell_type": "code",
   "execution_count": 109,
   "metadata": {
    "tags": []
   },
   "outputs": [
    {
     "output_type": "stream",
     "name": "stdout",
     "text": "<class 'pandas.core.frame.DataFrame'>\nRangeIndex: 78431 entries, 0 to 78430\nData columns (total 6 columns):\n #   Column              Non-Null Count  Dtype \n---  ------              --------------  ----- \n 0   sites               78431 non-null  object\n 1   overlap_sites       78431 non-null  object\n 2   audience_geography  78431 non-null  object\n 3   levels              78431 non-null  int64 \n 4   dates               78429 non-null  object\n 5   referal_sites       78429 non-null  object\ndtypes: int64(1), object(5)\nmemory usage: 3.6+ MB\n"
    }
   ],
   "source": [
    "test_df.info()"
   ]
  },
  {
   "cell_type": "code",
   "execution_count": 113,
   "metadata": {},
   "outputs": [],
   "source": [
    "v = json.dumps(unique_df.head()['overlap_sites'][0])"
   ]
  },
  {
   "cell_type": "code",
   "execution_count": 114,
   "metadata": {},
   "outputs": [
    {
     "output_type": "execute_result",
     "data": {
      "text/plain": "[{'url': 'nylon.com', 'overlap_score': 4.1, 'alexa_rank': 51694.0},\n {'url': 'slantmagazine.com', 'overlap_score': 2.5, 'alexa_rank': 92418.0},\n {'url': 'gothamist.com', 'overlap_score': 2.4, 'alexa_rank': 16813.0},\n {'url': 'screendaily.com', 'overlap_score': 2.1, 'alexa_rank': 110772.0},\n {'url': 'amny.com', 'overlap_score': 2.1, 'alexa_rank': 69192.0}]"
     },
     "metadata": {},
     "execution_count": 114
    }
   ],
   "source": [
    "json.loads(v)"
   ]
  },
  {
   "cell_type": "code",
   "execution_count": 125,
   "metadata": {},
   "outputs": [
    {
     "output_type": "execute_result",
     "data": {
      "text/plain": "0    1593460515\n1    1593801699\n2    1593460517\n3    1593802218\n4    1593802398\nName: dates, dtype: int64"
     },
     "metadata": {},
     "execution_count": 125
    }
   ],
   "source": [
    "import numpy as np\n",
    "\n",
    "\n",
    "unique_df.head()['dates'].astype(np.int64) // 10**9"
   ]
  },
  {
   "cell_type": "code",
   "execution_count": 129,
   "metadata": {},
   "outputs": [
    {
     "output_type": "execute_result",
     "data": {
      "text/plain": "0   2020-06-29 19:55:15.620467\n1   2020-07-03 18:41:39.438563\n2   2020-06-29 19:55:17.684495\n3   2020-07-03 18:50:18.138572\n4   2020-07-03 18:53:18.803963\nName: dates, dtype: datetime64[ns]"
     },
     "metadata": {},
     "execution_count": 129
    }
   ],
   "source": [
    "unique_df.head()['dates']"
   ]
  },
  {
   "cell_type": "code",
   "execution_count": 128,
   "metadata": {},
   "outputs": [
    {
     "output_type": "execute_result",
     "data": {
      "text/plain": "Timestamp('2020-07-03 18:53:18')"
     },
     "metadata": {},
     "execution_count": 128
    }
   ],
   "source": [
    "from datetime import datetime\n",
    "\n",
    "pd.Timestamp(1593802398, unit='s')"
   ]
  },
  {
   "cell_type": "code",
   "execution_count": 135,
   "metadata": {},
   "outputs": [],
   "source": [
    "cleaned_df['created_timestamp'] = cleaned_df['dates'].astype(np.int64) // 10**9"
   ]
  },
  {
   "cell_type": "code",
   "execution_count": 136,
   "metadata": {},
   "outputs": [
    {
     "output_type": "execute_result",
     "data": {
      "text/plain": "Index(['sites', 'overlap_sites', 'audience_geography', 'levels', 'dates',\n       'referal_sites', 'created_timestamp'],\n      dtype='object')"
     },
     "metadata": {},
     "execution_count": 136
    }
   ],
   "source": [
    "cleaned_df.columns"
   ]
  },
  {
   "cell_type": "code",
   "execution_count": 147,
   "metadata": {},
   "outputs": [],
   "source": [
    "with open('clean_data_20200803.json', 'w') as f:\n",
    "    json.dump(cleaned_df[['sites', 'overlap_sites', 'referal_sites', 'audience_geography', 'levels', 'created_timestamp']].to_dict('records'), f, indent=4)"
   ]
  },
  {
   "cell_type": "code",
   "execution_count": 148,
   "metadata": {},
   "outputs": [],
   "source": [
    "with open('clean_data_20200803.json', 'r') as f:\n",
    "    data = json.load(f)"
   ]
  },
  {
   "cell_type": "code",
   "execution_count": 149,
   "metadata": {},
   "outputs": [
    {
     "output_type": "execute_result",
     "data": {
      "text/plain": "78429"
     },
     "metadata": {},
     "execution_count": 149
    }
   ],
   "source": [
    "len(data)"
   ]
  },
  {
   "cell_type": "code",
   "execution_count": null,
   "metadata": {},
   "outputs": [],
   "source": []
  },
  {
   "cell_type": "code",
   "execution_count": 133,
   "metadata": {},
   "outputs": [
    {
     "output_type": "execute_result",
     "data": {
      "text/plain": "1593449715.620467"
     },
     "metadata": {},
     "execution_count": 133
    }
   ],
   "source": [
    "os.stat(f\"/home/paco/Documents/site_similarity/data/all_data/villagevoice.com.html\").st_mtime"
   ]
  },
  {
   "cell_type": "code",
   "execution_count": null,
   "metadata": {},
   "outputs": [],
   "source": [
    "test = {'thewatchtowers.org': {'site': 'thewatchtowers.org', 'score': [{'url': 'breaking-news.ca', 'overlap_score': 10.3, 'alexa_rank': 8791216.0}, {'url': 'breakingwide.com', 'overlap_score': 7.4, 'alexa_rank': 376105.0}, {'url': 'kwpa.gov.ir', 'overlap_score': 3.9, 'alexa_rank': None}, {'url': 'praecursator007.co.uk', 'overlap_score': 3.8, 'alexa_rank': 3007841.0}, {'url': 'magamedia.org', 'overlap_score': 3.6, 'alexa_rank': 704833.0}], 'audience_geography': []}, 'pdgc2014c.wordpress.com': {'site': 'pdgc2014c.wordpress.com', 'score': [{'url': 'fabmimi.com', 'overlap_score': 7.0, 'alexa_rank': 1087711.0}, {'url': 'breaking-news.ca', 'overlap_score': 5.9, 'alexa_rank': 8791216.0}, {'url': 'fbinvestigations.blogspot.com', 'overlap_score': 2.9, 'alexa_rank': None}], 'audience_geography': []}, 'vivaliberty.com': {'site': 'vivaliberty.com', 'score': [{'url': 'truthcdm.com', 'overlap_score': 5.7, 'alexa_rank': None}, {'url': 'breaking-news.ca', 'overlap_score': 4.9, 'alexa_rank': 8791216.0}, {'url': 'redrightvideos.com', 'overlap_score': 1.9, 'alexa_rank': None}, {'url': 'reconsider.news', 'overlap_score': 1.5, 'alexa_rank': 10132041.0}, {'url': 'silenceisconsent.net', 'overlap_score': 1.1, 'alexa_rank': 9911326.0}], 'audience_geography': []}, 'fabmimi.com': {'site': 'fabmimi.com', 'score': [{'url': 'linknaija.com', 'overlap_score': 7.8, 'alexa_rank': 1158136.0}, {'url': 'pdgc2014c.wordpress.com', 'overlap_score': 7.0, 'alexa_rank': None}, {'url': 'atiterkula.wordpress.com', 'overlap_score': 5.0, 'alexa_rank': 4979546.0}, {'url': 'samuelortom.com', 'overlap_score': 4.5, 'alexa_rank': 2510639.0}, {'url': 'nigerianconcord.com.ng', 'overlap_score': 4.3, 'alexa_rank': None}], 'audience_geography': []}, 'anullws.co': {'site': 'anullws.co', 'score': [{'url': 'weloveanimals.me', 'overlap_score': 4.9, 'alexa_rank': 525321.0}, {'url': 'saydorsblog.com', 'overlap_score': 4.0, 'alexa_rank': None}, {'url': 'thedailynet.com', 'overlap_score': 2.5, 'alexa_rank': 4664291.0}, {'url': 'bentrovatowhippingboy.wordpress.com', 'overlap_score': 2.5, 'alexa_rank': None}, {'url': 'upliftingtoday.com', 'overlap_score': 2.2, 'alexa_rank': 264912.0}], 'audience_geography': []}}"
   ]
  },
  {
   "cell_type": "code",
   "execution_count": 42,
   "metadata": {},
   "outputs": [
    {
     "output_type": "execute_result",
     "data": {
      "text/plain": "dict_keys(['thewatchtowers.org', 'pdgc2014c.wordpress.com', 'vivaliberty.com', 'fabmimi.com', 'anullws.co'])"
     },
     "metadata": {},
     "execution_count": 42
    }
   ],
   "source": [
    "test.keys()"
   ]
  },
  {
   "cell_type": "code",
   "execution_count": null,
   "metadata": {},
   "outputs": [],
   "source": []
  }
 ]
}