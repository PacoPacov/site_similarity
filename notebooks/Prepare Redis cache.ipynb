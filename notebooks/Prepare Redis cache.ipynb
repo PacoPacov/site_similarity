{
 "cells": [
  {
   "cell_type": "markdown",
   "metadata": {
    "collapsed": true,
    "pycharm": {
     "name": "#%% md\n"
    }
   },
   "source": [
    "# Load data from level 1 and level 2"
   ]
  },
  {
   "cell_type": "code",
   "execution_count": 2,
   "outputs": [
    {
     "name": "stdout",
     "output_type": "stream",
     "text": [
      "1062\n",
      "3560\n"
     ]
    }
   ],
   "source": [
    "import json\n",
    "\n",
    "with open(\"/home/paco/Documents/site_similarity/data/scrapping_results/processed level 1 results.json\") as f:\n",
    "    lvl_one_data = json.load(f)\n",
    "\n",
    "print(len(lvl_one_data))\n",
    "\n",
    "with open(\"/home/paco/Documents/site_similarity/data/scrapping_results/processed level 2 results.json\") as f:\n",
    "    lvl_two_data = json.load(f)\n",
    "\n",
    "print(len(lvl_two_data))"
   ],
   "metadata": {
    "collapsed": false,
    "pycharm": {
     "name": "#%%\n"
    }
   }
  },
  {
   "cell_type": "code",
   "execution_count": 4,
   "outputs": [
    {
     "name": "stdout",
     "output_type": "stream",
     "text": [
      "Level one data: Counter({5: 939, 0: 63, 1: 18, 2: 16, 4: 14, 3: 12})\n",
      "Level two data: Counter({5: 3402, 3: 50, 2: 48, 4: 31, 1: 28, 0: 1})\n"
     ]
    }
   ],
   "source": [
    "from collections import Counter\n",
    "\n",
    "print(\"Level one data:\", Counter([len(v) for v in lvl_one_data.values()]))\n",
    "\n",
    "print(\"Level two data:\", Counter([len(v) for v in lvl_two_data.values()]))"
   ],
   "metadata": {
    "collapsed": false,
    "pycharm": {
     "name": "#%%\n"
    }
   }
  },
  {
   "cell_type": "markdown",
   "source": [
    "# Combine data"
   ],
   "metadata": {
    "collapsed": false,
    "pycharm": {
     "name": "#%% md\n"
    }
   }
  },
  {
   "cell_type": "code",
   "execution_count": 5,
   "outputs": [
    {
     "name": "stdout",
     "output_type": "stream",
     "text": [
      "Level one length:  3560\n",
      "Level two length:  10650\n"
     ]
    }
   ],
   "source": [
    "combined_one_data = {}\n",
    "for v in lvl_one_data.values():\n",
    "    combined_one_data.update(v)\n",
    "\n",
    "print('Level one length: ', len(combined_one_data))\n",
    "\n",
    "combined_two_data = {}\n",
    "for v in lvl_two_data.values():\n",
    "    combined_two_data.update(v)\n",
    "\n",
    "print('Level two length: ', len(combined_two_data))"
   ],
   "metadata": {
    "collapsed": false,
    "pycharm": {
     "name": "#%%\n"
    }
   }
  },
  {
   "cell_type": "code",
   "execution_count": 6,
   "outputs": [
    {
     "data": {
      "text/plain": "11637"
     },
     "execution_count": 6,
     "metadata": {},
     "output_type": "execute_result"
    }
   ],
   "source": [
    "all_data = {**combined_one_data, **combined_two_data}\n",
    "len(all_data)"
   ],
   "metadata": {
    "collapsed": false,
    "pycharm": {
     "name": "#%%\n"
    }
   }
  },
  {
   "cell_type": "code",
   "execution_count": 9,
   "outputs": [],
   "source": [
    "import redis\n",
    "\n",
    "r = redis.Redis()"
   ],
   "metadata": {
    "collapsed": false,
    "pycharm": {
     "name": "#%%\n"
    }
   }
  },
  {
   "cell_type": "code",
   "execution_count": 10,
   "outputs": [
    {
     "name": "stdout",
     "output_type": "stream",
     "text": [
      "{'audience_geography': [{'country': 'United States', 'percent': 89.7},\n",
      "                        {'country': 'India', 'percent': 2.5},\n",
      "                        {'country': 'Canada', 'percent': 2.0}],\n",
      " 'score': [{'alexa_rank': 46626.0, 'overlap_score': 25.8, 'url': 'whio.com'},\n",
      "           {'alexa_rank': 31471.0,\n",
      "            'overlap_score': 18.9,\n",
      "            'url': 'cincinnati.com'},\n",
      "           {'alexa_rank': 251622.0, 'overlap_score': 16.1, 'url': 'wdtn.com'},\n",
      "           {'alexa_rank': None,\n",
      "            'overlap_score': 16.1,\n",
      "            'url': 'mydaytondailynews.com'},\n",
      "           {'alexa_rank': 33088.0,\n",
      "            'overlap_score': 13.8,\n",
      "            'url': 'dispatch.com'}],\n",
      " 'site': 'daytondailynews.com'}\n"
     ]
    }
   ],
   "source": [
    "from pprint import pprint\n",
    "\n",
    "result = r.get(\"daytondailynews.com\")\n",
    "pprint(json.loads(result))"
   ],
   "metadata": {
    "collapsed": false,
    "pycharm": {
     "name": "#%%\n"
    }
   }
  },
  {
   "cell_type": "markdown",
   "source": [
    "# Add documents in Redis"
   ],
   "metadata": {
    "collapsed": false,
    "pycharm": {
     "name": "#%% md\n"
    }
   }
  },
  {
   "cell_type": "code",
   "execution_count": null,
   "outputs": [],
   "source": [
    "for k, v in all_data.items():\n",
    "    r.set(k, json.dumps(v))"
   ],
   "metadata": {
    "collapsed": false,
    "pycharm": {
     "name": "#%%\n"
    }
   }
  },
  {
   "cell_type": "code",
   "execution_count": null,
   "outputs": [],
   "source": [
    "r.get(\"nycon.com\")"
   ],
   "metadata": {
    "collapsed": false,
    "pycharm": {
     "name": "#%%\n"
    }
   }
  }
 ],
 "metadata": {
  "kernelspec": {
   "display_name": "Python 3",
   "language": "python",
   "name": "python3"
  },
  "language_info": {
   "codemirror_mode": {
    "name": "ipython",
    "version": 2
   },
   "file_extension": ".py",
   "mimetype": "text/x-python",
   "name": "python",
   "nbconvert_exporter": "python",
   "pygments_lexer": "ipython2",
   "version": "2.7.6"
  }
 },
 "nbformat": 4,
 "nbformat_minor": 0
}