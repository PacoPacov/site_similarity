{
 "cells": [
  {
   "cell_type": "markdown",
   "metadata": {
    "collapsed": true,
    "pycharm": {
     "name": "#%% md\n"
    }
   },
   "source": [
    "# Updating the corpus because of the incorrect url processing\n"
   ]
  },
  {
   "cell_type": "code",
   "execution_count": 1,
   "outputs": [],
   "source": [
    "CORPUS_PATH = '/home/paco/Documents/site_similarity/data/annotated_data/corpus.csv'"
   ],
   "metadata": {
    "collapsed": false,
    "pycharm": {
     "name": "#%%\n"
    }
   }
  },
  {
   "cell_type": "code",
   "execution_count": 2,
   "outputs": [
    {
     "data": {
      "text/plain": "True"
     },
     "execution_count": 2,
     "metadata": {},
     "output_type": "execute_result"
    }
   ],
   "source": [
    "import os\n",
    "\n",
    "os.path.exists(CORPUS_PATH)"
   ],
   "metadata": {
    "collapsed": false,
    "pycharm": {
     "name": "#%%\n"
    }
   }
  },
  {
   "cell_type": "markdown",
   "source": [
    "# Load corpus"
   ],
   "metadata": {
    "collapsed": false,
    "pycharm": {
     "name": "#%% md\n"
    }
   }
  },
  {
   "cell_type": "code",
   "execution_count": 3,
   "outputs": [
    {
     "data": {
      "text/plain": "                       source_url   source_url_processed  \\\n0    http://www.villagevoice.com/       villagevoice.com   \n1  https://insideclimatenews.org/  insideclimatenews.org   \n2           http://www.fury.news/              fury.news   \n3            http://now8news.com/           now8news.com   \n4        http://constitution.com/       constitution.com   \n\n                                                 URL  fact           bias  \n0   http://mediabiasfactcheck.com/the-village-voice/  HIGH           left  \n1  https://mediabiasfactcheck.com/insideclimate-n...  HIGH    left-center  \n2           http://mediabiasfactcheck.com/fury-news/   LOW  extreme-right  \n3            http://mediabiasfactcheck.com/now8news/   LOW         center  \n4    http://mediabiasfactcheck.com/the-constitution/   LOW  extreme-right  ",
      "text/html": "<div>\n<style scoped>\n    .dataframe tbody tr th:only-of-type {\n        vertical-align: middle;\n    }\n\n    .dataframe tbody tr th {\n        vertical-align: top;\n    }\n\n    .dataframe thead th {\n        text-align: right;\n    }\n</style>\n<table border=\"1\" class=\"dataframe\">\n  <thead>\n    <tr style=\"text-align: right;\">\n      <th></th>\n      <th>source_url</th>\n      <th>source_url_processed</th>\n      <th>URL</th>\n      <th>fact</th>\n      <th>bias</th>\n    </tr>\n  </thead>\n  <tbody>\n    <tr>\n      <th>0</th>\n      <td>http://www.villagevoice.com/</td>\n      <td>villagevoice.com</td>\n      <td>http://mediabiasfactcheck.com/the-village-voice/</td>\n      <td>HIGH</td>\n      <td>left</td>\n    </tr>\n    <tr>\n      <th>1</th>\n      <td>https://insideclimatenews.org/</td>\n      <td>insideclimatenews.org</td>\n      <td>https://mediabiasfactcheck.com/insideclimate-n...</td>\n      <td>HIGH</td>\n      <td>left-center</td>\n    </tr>\n    <tr>\n      <th>2</th>\n      <td>http://www.fury.news/</td>\n      <td>fury.news</td>\n      <td>http://mediabiasfactcheck.com/fury-news/</td>\n      <td>LOW</td>\n      <td>extreme-right</td>\n    </tr>\n    <tr>\n      <th>3</th>\n      <td>http://now8news.com/</td>\n      <td>now8news.com</td>\n      <td>http://mediabiasfactcheck.com/now8news/</td>\n      <td>LOW</td>\n      <td>center</td>\n    </tr>\n    <tr>\n      <th>4</th>\n      <td>http://constitution.com/</td>\n      <td>constitution.com</td>\n      <td>http://mediabiasfactcheck.com/the-constitution/</td>\n      <td>LOW</td>\n      <td>extreme-right</td>\n    </tr>\n  </tbody>\n</table>\n</div>"
     },
     "execution_count": 3,
     "metadata": {},
     "output_type": "execute_result"
    }
   ],
   "source": [
    "import pandas as pd\n",
    "\n",
    "corpus = pd.read_csv(CORPUS_PATH)\n",
    "\n",
    "corpus.head()"
   ],
   "metadata": {
    "collapsed": false,
    "pycharm": {
     "name": "#%%\n"
    }
   }
  },
  {
   "cell_type": "code",
   "execution_count": 4,
   "outputs": [],
   "source": [
    "INCORRECT_URLS = {\n",
    "    \"al-monitor.com-pulse-home.html\": \"al-monitor.com\",\n",
    "    \"cato.org-regulation\": \"cato.org\",\n",
    "    \"conservativeoutfitters.com-blogs-news\": \"conservativeoutfitters.com\",\n",
    "    \"conservapedia.com-Main_Page\": \"conservapedia.com\",\n",
    "    \"concernedwomen.org-blog\": \"concernedwomen.org\",\n",
    "    \"citizensunited.org-index.aspx\": \"citizensunited.org\",\n",
    "    \"elpais.com-elpais-inenglish.html\": \"elpais.com\",\n",
    "    \"futureinamerica.com-news\": \"futureinamerica.com\",\n",
    "    \"gallup.com-home.aspx\": \"gallup.com\",\n",
    "    \"host.madison.com-wsj\": \"host.madison.com\",\n",
    "    \"inquisitr.com-news\": \"inquisitr.com\",\n",
    "    \"indymedia.org-or-index.shtml\": \"indymedia.org\",\n",
    "    \"itv.com-news\": \"itv.com\",\n",
    "    \"jpost.com-Jerusalem-Report\": \"jpost.com\",\n",
    "    \"news.harvard.edu-gazette\": \"news.harvard.edu\",\n",
    "    \"newyorker.com-humor-borowitz-report\": \"newyorker.com\",\n",
    "    \"nola.com-#-0\": \"nola.com\",\n",
    "    \"npr.org-sections-news\": \"npr.org\",\n",
    "    \"pri.org-programs-globalpost\": \"pri.org\",\n",
    "    \"mlive.com-grand-rapids-#-0\": \"mlive.com\",\n",
    "    \"pacificresearch.org-home\": \"pacificresearch.org\",\n",
    "    \"people.com-politics\": \"people.com\",\n",
    "    \"telesurtv.net-english\": \"telesurtv.net\",\n",
    "    \"oregonlive.com-#-0\": \"oregonlive.com\",\n",
    "    \"rfa.org-english\": \"rfa.org\",\n",
    "    \"russia-insider.com-en\": \"russia-insider.com\",\n",
    "    \"rt.com-news\": \"rt.com\",\n",
    "    \"scripps.ucsd.edu-news\": \"scripps.ucsd.edu\",\n",
    "    \"spin.com-death-and-taxes\": \"spin.com\",\n",
    "    \"theguardian.com-observer\": \"theguardian.com\",\n",
    "    \"themaven.net-beingliberal\": \"hemaven.net\",\n",
    "    \"therealnews.com-t2\": \"therealnews.com\",\n",
    "    \"westernjournalism.com-thepoint\": \"westernjournalism.com\",\n",
    "    \"who.int-en\": \"who.int\",\n",
    "    \"yahoo.com-news-?ref=gs\": \"yahoo.com\",\n",
    "    \"zcomm.org-zmag\": \"zcomm.org\"\n",
    "}"
   ],
   "metadata": {
    "collapsed": false,
    "pycharm": {
     "name": "#%%\n"
    }
   }
  },
  {
   "cell_type": "code",
   "execution_count": 5,
   "outputs": [],
   "source": [
    "corpus['source_url_processed'] = corpus['source_url_processed'].apply(lambda url: INCORRECT_URLS[url] if url in INCORRECT_URLS else url )\n"
   ],
   "metadata": {
    "collapsed": false,
    "pycharm": {
     "name": "#%%\n"
    }
   }
  },
  {
   "cell_type": "code",
   "execution_count": 6,
   "outputs": [],
   "source": [
    "corpus.to_csv(os.path.join(os.path.dirname(CORPUS_PATH), 'modified_corpus.csv'), index=False)\n"
   ],
   "metadata": {
    "collapsed": false,
    "pycharm": {
     "name": "#%%\n"
    }
   }
  }
 ],
 "metadata": {
  "kernelspec": {
   "display_name": "Python 3",
   "language": "python",
   "name": "python3"
  },
  "language_info": {
   "codemirror_mode": {
    "name": "ipython",
    "version": 2
   },
   "file_extension": ".py",
   "mimetype": "text/x-python",
   "name": "python",
   "nbconvert_exporter": "python",
   "pygments_lexer": "ipython2",
   "version": "2.7.6"
  }
 },
 "nbformat": 4,
 "nbformat_minor": 0
}