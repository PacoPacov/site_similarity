{
 "metadata": {
  "language_info": {
   "codemirror_mode": {
    "name": "ipython",
    "version": 3
   },
   "file_extension": ".py",
   "mimetype": "text/x-python",
   "name": "python",
   "nbconvert_exporter": "python",
   "pygments_lexer": "ipython3",
   "version": "3.7.9-final"
  },
  "orig_nbformat": 2,
  "kernelspec": {
   "name": "site_similarity",
   "display_name": "site_similarity"
  }
 },
 "nbformat": 4,
 "nbformat_minor": 2,
 "cells": [
  {
   "cell_type": "code",
   "execution_count": 1,
   "metadata": {},
   "outputs": [],
   "source": [
    "import sys,os\n",
    "sys.path.append(\"C:\\\\Users\\\\Paco\\\\Documents\\\\site_similarity\")"
   ]
  },
  {
   "cell_type": "code",
   "execution_count": 2,
   "metadata": {},
   "outputs": [],
   "source": [
    "from utils.notebook_utils import load_level_data, _DATA_PATH, load_json, create_nodes, get_alexa_information_sections"
   ]
  },
  {
   "source": [
    "# Create nodes for corpus 2020 - referral_site"
   ],
   "cell_type": "markdown",
   "metadata": {}
  },
  {
   "cell_type": "code",
   "execution_count": 3,
   "metadata": {},
   "outputs": [
    {
     "output_type": "stream",
     "name": "stdout",
     "text": [
      "For file \"corpus_2020_referral_sites.json\" -> load 859 records\n",
      "For file \"corpus_2020_referral_sites_level_1.json\" -> load 2333 records\n",
      "For file \"corpus_2020_referral_sites_level_2.json\" -> load 5954 records\n",
      "For file \"corpus_2020_referral_sites_level_3.json\" -> load 13320 records\n"
     ]
    }
   ],
   "source": [
    "files = [\n",
    "    'corpus_2020_referral_sites.json', \n",
    "    'corpus_2020_referral_sites_level_1.json',\n",
    "    'corpus_2020_referral_sites_level_2.json',\n",
    "    'corpus_2020_referral_sites_level_3.json',\n",
    "]\n",
    "\n",
    "corpus_2020_referral_sites_level_from_0_to_3_level_included = {}\n",
    "\n",
    "for f in files:\n",
    "    loaded_data = load_json(os.path.join(_DATA_PATH, f))\n",
    "    print(f'For file \"{f}\" -> load {len(loaded_data)} records')\n",
    "    corpus_2020_referral_sites_level_from_0_to_3_level_included.update(loaded_data)"
   ]
  },
  {
   "cell_type": "code",
   "execution_count": 4,
   "metadata": {},
   "outputs": [
    {
     "output_type": "execute_result",
     "data": {
      "text/plain": [
       "14783"
      ]
     },
     "metadata": {},
     "execution_count": 4
    }
   ],
   "source": [
    "len(corpus_2020_referral_sites_level_from_0_to_3_level_included)"
   ]
  },
  {
   "cell_type": "code",
   "execution_count": 5,
   "metadata": {},
   "outputs": [
    {
     "output_type": "execute_result",
     "data": {
      "text/plain": [
       "[('crooked.com',\n",
       "  [['emptywheel.net', '548'],\n",
       "   ['elizabethwarren.com', '365'],\n",
       "   ['art19.com', '174'],\n",
       "   ['crooked.com', '74'],\n",
       "   ['votesaveamerica.com', '14']]),\n",
       " ('deepleftfield.info', []),\n",
       " ('antifascistnews.net',\n",
       "  [['itsgoingdown.org', '97'],\n",
       "   ['angrywhitemen.org', '49'],\n",
       "   ['rosecityantifa.org', '25'],\n",
       "   ['antifascistnews.net', '17'],\n",
       "   ['torchantifa.org', '9']]),\n",
       " ('cnn.com',\n",
       "  [['nytimes.com', '222.6 k'],\n",
       "   ['cnn.com', '153.5 k'],\n",
       "   ['washingtonpost.com', '90.8 k'],\n",
       "   ['usatoday.com', '72.8 k'],\n",
       "   ['cnbc.com', '26 k']]),\n",
       " ('allthatsfab.com',\n",
       "  [['americanow.com', '105'],\n",
       "   ['allthatsfab.com', '72'],\n",
       "   ['allthatsnews.com', '20'],\n",
       "   ['disenfranchisedfather.blogspot.com', '17'],\n",
       "   ['fallbrook247.com', '10']])]"
      ]
     },
     "metadata": {},
     "execution_count": 5
    }
   ],
   "source": [
    "list(corpus_2020_referral_sites_level_from_0_to_3_level_included.items())[:5]"
   ]
  },
  {
   "cell_type": "code",
   "execution_count": 6,
   "metadata": {},
   "outputs": [],
   "source": [
    "corpus_2020_referral_sites_level_from_0_to_3_level_included_NODES = []\n",
    "\n",
    "for base_url, referral_sites in corpus_2020_referral_sites_level_from_0_to_3_level_included.items():\n",
    "    if not referral_sites:\n",
    "        corpus_2020_referral_sites_level_from_0_to_3_level_included_NODES.append((base_url, base_url))\n",
    "\n",
    "    for referral_site, _ in referral_sites:\n",
    "        if referral_site != base_url:\n",
    "            corpus_2020_referral_sites_level_from_0_to_3_level_included_NODES.append((base_url, referral_site))"
   ]
  },
  {
   "cell_type": "code",
   "execution_count": 7,
   "metadata": {},
   "outputs": [
    {
     "output_type": "stream",
     "name": "stdout",
     "text": [
      "Node from referral_sites for corpus 2020: 57785\n"
     ]
    }
   ],
   "source": [
    "print(f'Node from referral_sites for corpus 2020: {len(corpus_2020_referral_sites_level_from_0_to_3_level_included_NODES)}')"
   ]
  },
  {
   "cell_type": "code",
   "execution_count": 8,
   "metadata": {},
   "outputs": [
    {
     "output_type": "execute_result",
     "data": {
      "text/plain": [
       "[('crooked.com', 'emptywheel.net'),\n",
       " ('crooked.com', 'elizabethwarren.com'),\n",
       " ('crooked.com', 'art19.com'),\n",
       " ('crooked.com', 'votesaveamerica.com'),\n",
       " ('deepleftfield.info', 'deepleftfield.info'),\n",
       " ('antifascistnews.net', 'itsgoingdown.org'),\n",
       " ('antifascistnews.net', 'angrywhitemen.org'),\n",
       " ('antifascistnews.net', 'rosecityantifa.org'),\n",
       " ('antifascistnews.net', 'torchantifa.org'),\n",
       " ('cnn.com', 'nytimes.com')]"
      ]
     },
     "metadata": {},
     "execution_count": 8
    }
   ],
   "source": [
    "corpus_2020_referral_sites_level_from_0_to_3_level_included_NODES[:10]"
   ]
  },
  {
   "source": [
    "# Check how much sites need to be processed"
   ],
   "cell_type": "markdown",
   "metadata": {}
  },
  {
   "cell_type": "code",
   "execution_count": 29,
   "metadata": {},
   "outputs": [
    {
     "output_type": "stream",
     "name": "stdout",
     "text": [
      "Number of sites that need to be processed: 8586\n"
     ]
    }
   ],
   "source": [
    "import redis \n",
    "\n",
    "red = redis.Redis()\n",
    "\n",
    "referral_sites = set()\n",
    "\n",
    "for l, r in corpus_2020_referral_sites_level_from_0_to_3_level_included_NODES:\n",
    "    referral_sites.add(l)\n",
    "    referral_sites.add(r)\n",
    "\n",
    "print('unique referral_sites:', len(referral_sites))\n",
    "\n",
    "urls_that_needs_processing = [el for el in referral_sites if not red.get(el)]\n",
    "\n",
    "print('Number of sites that need to be processed:', len(urls_that_needs_processing))"
   ]
  },
  {
   "source": [
    "# Load audience_ovelap sites"
   ],
   "cell_type": "markdown",
   "metadata": {}
  },
  {
   "cell_type": "code",
   "execution_count": 11,
   "metadata": {},
   "outputs": [
    {
     "output_type": "stream",
     "name": "stdout",
     "text": [
      "Loaded 26573 nodes with records level <= 3 and child size:128548\n"
     ]
    }
   ],
   "source": [
    "corpus_2020_audience_overlap_from_0_to_3_levels_included = load_level_data(os.path.join(_DATA_PATH, 'corpus_2020_audience_overlap_sites_scrapping_result.json'), level=3)"
   ]
  },
  {
   "cell_type": "code",
   "execution_count": 12,
   "metadata": {},
   "outputs": [
    {
     "output_type": "execute_result",
     "data": {
      "text/plain": [
       "26573"
      ]
     },
     "metadata": {},
     "execution_count": 12
    }
   ],
   "source": [
    "len(corpus_2020_audience_overlap_from_0_to_3_levels_included)"
   ]
  },
  {
   "cell_type": "code",
   "execution_count": 13,
   "metadata": {},
   "outputs": [
    {
     "output_type": "execute_result",
     "data": {
      "text/plain": [
       "{'sites': 'villagevoice.com',\n",
       " 'overlap_sites': [{'url': 'nylon.com',\n",
       "   'overlap_score': 4.1,\n",
       "   'alexa_rank': 51694.0},\n",
       "  {'url': 'slantmagazine.com', 'overlap_score': 2.5, 'alexa_rank': 92418.0},\n",
       "  {'url': 'gothamist.com', 'overlap_score': 2.4, 'alexa_rank': 16813.0},\n",
       "  {'url': 'screendaily.com', 'overlap_score': 2.1, 'alexa_rank': 110772.0},\n",
       "  {'url': 'amny.com', 'overlap_score': 2.1, 'alexa_rank': 69192.0}],\n",
       " 'referal_sites': [['villagevoice.com', '13.1 k'],\n",
       "  ['gothamist.com', '8.5 k'],\n",
       "  ['amny.com', '2.1 k'],\n",
       "  ['robertchristgau.com', '701'],\n",
       "  ['tonyortega.org', '424']],\n",
       " 'audience_geography': [{'country': 'United States', 'percent': 77.2}],\n",
       " 'levels': 0}"
      ]
     },
     "metadata": {},
     "execution_count": 13
    }
   ],
   "source": [
    "corpus_2020_audience_overlap_from_0_to_3_levels_included['villagevoice.com']"
   ]
  },
  {
   "cell_type": "code",
   "execution_count": 14,
   "metadata": {},
   "outputs": [],
   "source": [
    "corpus_2020_audience_overlap_from_0_to_3_levels_included_NODES = create_nodes(corpus_2020_audience_overlap_from_0_to_3_levels_included)"
   ]
  },
  {
   "cell_type": "code",
   "execution_count": 15,
   "metadata": {},
   "outputs": [
    {
     "output_type": "execute_result",
     "data": {
      "text/plain": [
       "128582"
      ]
     },
     "metadata": {},
     "execution_count": 15
    }
   ],
   "source": [
    "len(corpus_2020_audience_overlap_from_0_to_3_levels_included_NODES)"
   ]
  },
  {
   "cell_type": "code",
   "execution_count": 16,
   "metadata": {},
   "outputs": [
    {
     "output_type": "execute_result",
     "data": {
      "text/plain": [
       "[('crooked.com', 'votesaveamerica.com'),\n",
       " ('crooked.com', 'art19.com'),\n",
       " ('crooked.com', 'promocodeportal.com'),\n",
       " ('crooked.com', 'mediamatters.org'),\n",
       " ('crooked.com', 'actblue.com'),\n",
       " ('deepleftfield.info', 'politicalflare.com'),\n",
       " ('deepleftfield.info', 'bluedotdaily.com'),\n",
       " ('antifascistnews.net', 'angrywhitemen.org'),\n",
       " ('antifascistnews.net', 'itsgoingdown.org'),\n",
       " ('antifascistnews.net', 'torchantifa.org')]"
      ]
     },
     "metadata": {},
     "execution_count": 16
    }
   ],
   "source": [
    "corpus_2020_audience_overlap_from_0_to_3_levels_included_NODES[:10]"
   ]
  },
  {
   "cell_type": "code",
   "execution_count": 17,
   "metadata": {},
   "outputs": [
    {
     "output_type": "execute_result",
     "data": {
      "text/plain": [
       "list"
      ]
     },
     "metadata": {},
     "execution_count": 17
    }
   ],
   "source": [
    "type(corpus_2020_audience_overlap_from_0_to_3_levels_included_NODES)"
   ]
  },
  {
   "cell_type": "code",
   "execution_count": 19,
   "metadata": {},
   "outputs": [
    {
     "output_type": "execute_result",
     "data": {
      "text/plain": [
       "list"
      ]
     },
     "metadata": {},
     "execution_count": 19
    }
   ],
   "source": [
    "type(corpus_2020_referral_sites_level_from_0_to_3_level_included_NODES)"
   ]
  },
  {
   "cell_type": "code",
   "execution_count": 22,
   "metadata": {},
   "outputs": [],
   "source": [
    "combined_nodes_from_0_to_3_level_included = corpus_2020_referral_sites_level_from_0_to_3_level_included_NODES + corpus_2020_audience_overlap_from_0_to_3_levels_included_NODES"
   ]
  },
  {
   "cell_type": "code",
   "execution_count": 23,
   "metadata": {},
   "outputs": [
    {
     "output_type": "execute_result",
     "data": {
      "text/plain": [
       "186367"
      ]
     },
     "metadata": {},
     "execution_count": 23
    }
   ],
   "source": [
    "len(combined_nodes_from_0_to_3_level_included)"
   ]
  },
  {
   "cell_type": "code",
   "execution_count": 24,
   "metadata": {},
   "outputs": [],
   "source": [
    "unique_nodes = set()\n",
    "\n",
    "for l, r in combined_nodes_from_0_to_3_level_included:\n",
    "    unique_nodes.add(l)\n",
    "    unique_nodes.add(r)"
   ]
  },
  {
   "cell_type": "code",
   "execution_count": 25,
   "metadata": {},
   "outputs": [
    {
     "output_type": "execute_result",
     "data": {
      "text/plain": [
       "80744"
      ]
     },
     "metadata": {},
     "execution_count": 25
    }
   ],
   "source": [
    "len(unique_nodes)"
   ]
  },
  {
   "cell_type": "code",
   "execution_count": 30,
   "metadata": {},
   "outputs": [
    {
     "output_type": "stream",
     "name": "stdout",
     "text": [
      "Sites that needs to extract alexa section info:  46134\n"
     ]
    }
   ],
   "source": [
    "print('Sites that needs to extract alexa section info: ', len([el for el in unique_nodes if not red.get(el)]))"
   ]
  },
  {
   "source": [
    "---"
   ],
   "cell_type": "markdown",
   "metadata": {}
  },
  {
   "cell_type": "code",
   "execution_count": 3,
   "metadata": {},
   "outputs": [],
   "source": [
    "def combined_nodes_referral_sites_audience_overlap(year='2020', level=1):\n",
    "    files = [\n",
    "        'corpus_2020_referral_sites.json', \n",
    "        'corpus_2020_referral_sites_level_1.json',\n",
    "        'corpus_2020_referral_sites_level_2.json',\n",
    "        'corpus_2020_referral_sites_level_3.json',\n",
    "    ]\n",
    "\n",
    "    referral_sites = {}\n",
    "\n",
    "    for f in files[:level+1]:\n",
    "        loaded_data = load_json(os.path.join(_DATA_PATH, f))\n",
    "        print(f'For file \"{f}\" -> load {len(loaded_data)} records')\n",
    "        referral_sites.update(loaded_data)\n",
    "\n",
    "    referral_sites_NODES = []\n",
    "\n",
    "    for base_url, referral_sites in referral_sites.items():\n",
    "        if not referral_sites:\n",
    "            referral_sites_NODES.append((base_url, base_url))\n",
    "\n",
    "        for referral_site, _ in referral_sites:\n",
    "            if referral_site != base_url:\n",
    "                referral_sites_NODES.append((base_url, referral_site))\n",
    "\n",
    "    audience_overlap_sites = load_level_data(os.path.join(_DATA_PATH, 'corpus_2020_audience_overlap_sites_scrapping_result.json'), level=level)\n",
    "\n",
    "    audience_overlap_sites_NODES = create_nodes(audience_overlap_sites)\n",
    "\n",
    "    print('referral_sites node size:', len(referral_sites_NODES), 'audience_overlap node size:', len(audience_overlap_sites_NODES))\n",
    "\n",
    "    return audience_overlap_sites_NODES + referral_sites_NODES"
   ]
  },
  {
   "cell_type": "code",
   "execution_count": 4,
   "metadata": {},
   "outputs": [
    {
     "output_type": "stream",
     "name": "stdout",
     "text": [
      "For file \"corpus_2020_referral_sites.json\" -> load 859 records\n",
      "For file \"corpus_2020_referral_sites_level_1.json\" -> load 2333 records\n",
      "For file \"corpus_2020_referral_sites_level_2.json\" -> load 5954 records\n",
      "For file \"corpus_2020_referral_sites_level_3.json\" -> load 13320 records\n",
      "Loaded 26573 nodes with records level <= 3 and child size:128548\n",
      "referral_sites node size: 57785 audience_overlap node size: 128582\n"
     ]
    }
   ],
   "source": [
    "d = combined_nodes_referral_sites_audience_overlap(level=)"
   ]
  },
  {
   "cell_type": "code",
   "execution_count": 5,
   "metadata": {},
   "outputs": [],
   "source": [
    "import redis\n",
    "\n",
    "red = redis.Redis()"
   ]
  },
  {
   "cell_type": "code",
   "execution_count": 6,
   "metadata": {},
   "outputs": [
    {
     "output_type": "stream",
     "name": "stdout",
     "text": [
      "Sites that needs to extract alexa section info:  37250\n"
     ]
    }
   ],
   "source": [
    "unique_nodes = set()\n",
    "\n",
    "for l, r in d:\n",
    "    unique_nodes.add(l)\n",
    "    unique_nodes.add(r)\n",
    "\n",
    "print('Sites that needs to extract alexa section info: ', len([el for el in unique_nodes if not red.get(el)]))"
   ]
  },
  {
   "cell_type": "code",
   "execution_count": 7,
   "metadata": {},
   "outputs": [],
   "source": [
    "from utils.notebook_utils import get_alexa_information_sections"
   ]
  },
  {
   "cell_type": "code",
   "execution_count": 8,
   "metadata": {},
   "outputs": [],
   "source": [
    "alexa_data_for_nodes_level_0_and_1 = get_alexa_information_sections(unique_nodes)"
   ]
  },
  {
   "cell_type": "code",
   "execution_count": 9,
   "metadata": {},
   "outputs": [
    {
     "output_type": "stream",
     "name": "stdout",
     "text": [
      "Current Time = 08:57:29\n"
     ]
    }
   ],
   "source": [
    "from datetime import datetime\n",
    "\n",
    "now = datetime.now()\n",
    "\n",
    "current_time = now.strftime(\"%H:%M:%S\")\n",
    "print(\"Current Time =\", current_time)\n",
    "\n",
    "result = list(zip(unique_nodes, alexa_data_for_nodes_level_0_and_1))"
   ]
  },
  {
   "cell_type": "code",
   "execution_count": 10,
   "metadata": {},
   "outputs": [
    {
     "output_type": "stream",
     "name": "stdout",
     "text": [
      "Current Time = 10:01:31\n"
     ]
    }
   ],
   "source": [
    "from datetime import datetime\n",
    "\n",
    "now = datetime.now()\n",
    "\n",
    "current_time = now.strftime(\"%H:%M:%S\")\n",
    "print(\"Current Time =\", current_time) # started 5:02 - 05:27:49 for 2500"
   ]
  },
  {
   "cell_type": "code",
   "execution_count": 11,
   "metadata": {},
   "outputs": [
    {
     "output_type": "execute_result",
     "data": {
      "text/plain": [
       "[('wp.football',\n",
       "  {'daily_pageviews_per_visitor': '1',\n",
       "   'daily_pageviews_per_visitor_for_the_last_90_days': None,\n",
       "   'daily_time_on_site': None,\n",
       "   'daily_time_on_site_for_the_last_90_days': None,\n",
       "   'bounce_rate': None,\n",
       "   'bounce_rate_for_the_last_90_days': None,\n",
       "   'traffic_source_search': None,\n",
       "   'visited_just_before': None,\n",
       "   'visited_right_after': None,\n",
       "   'total_sites_linking_in': None}),\n",
       " ('techtodayinfo.com',\n",
       "  {'daily_pageviews_per_visitor': '1.5',\n",
       "   'daily_pageviews_per_visitor_for_the_last_90_days': '-15.1%',\n",
       "   'daily_time_on_site': '1:37',\n",
       "   'daily_time_on_site_for_the_last_90_days': '4%',\n",
       "   'bounce_rate': '63.6%',\n",
       "   'bounce_rate_for_the_last_90_days': '-3%',\n",
       "   'traffic_source_search': '15.56%',\n",
       "   'visited_just_before': [{'site': 'google.com', 'percentage': '20.6%'}],\n",
       "   'visited_right_after': [{'site': 'google.com', 'percentage': '22.6%'}],\n",
       "   'total_sites_linking_in': '38'}),\n",
       " ('adask.wordpress.com',\n",
       "  {'daily_pageviews_per_visitor': None,\n",
       "   'daily_pageviews_per_visitor_for_the_last_90_days': None,\n",
       "   'daily_time_on_site': None,\n",
       "   'daily_time_on_site_for_the_last_90_days': None,\n",
       "   'bounce_rate': None,\n",
       "   'bounce_rate_for_the_last_90_days': None,\n",
       "   'traffic_source_search': None,\n",
       "   'visited_just_before': None,\n",
       "   'visited_right_after': None,\n",
       "   'total_sites_linking_in': '74'}),\n",
       " ('yournewswire.com',\n",
       "  {'daily_pageviews_per_visitor': '1',\n",
       "   'daily_pageviews_per_visitor_for_the_last_90_days': None,\n",
       "   'daily_time_on_site': None,\n",
       "   'daily_time_on_site_for_the_last_90_days': None,\n",
       "   'bounce_rate': None,\n",
       "   'bounce_rate_for_the_last_90_days': None,\n",
       "   'traffic_source_search': None,\n",
       "   'visited_just_before': None,\n",
       "   'visited_right_after': None,\n",
       "   'total_sites_linking_in': '1,955'}),\n",
       " ('theamericanreport.org',\n",
       "  {'daily_pageviews_per_visitor': '1',\n",
       "   'daily_pageviews_per_visitor_for_the_last_90_days': '-41.3%',\n",
       "   'daily_time_on_site': '2:16',\n",
       "   'daily_time_on_site_for_the_last_90_days': '15%',\n",
       "   'bounce_rate': None,\n",
       "   'bounce_rate_for_the_last_90_days': None,\n",
       "   'traffic_source_search': None,\n",
       "   'visited_just_before': None,\n",
       "   'visited_right_after': None,\n",
       "   'total_sites_linking_in': '53'})]"
      ]
     },
     "metadata": {},
     "execution_count": 11
    }
   ],
   "source": [
    "result[:5]"
   ]
  },
  {
   "cell_type": "code",
   "execution_count": 12,
   "metadata": {},
   "outputs": [],
   "source": [
    "import json\n",
    "\n",
    "\n",
    "with open('corpus_2020_levels_0_1_2_data.json', 'w') as f:\n",
    "    json.dump(dict(result), f)"
   ]
  },
  {
   "cell_type": "code",
   "execution_count": null,
   "metadata": {},
   "outputs": [],
   "source": []
  }
 ]
}