{
 "cells": [
  {
   "cell_type": "code",
   "execution_count": 1,
   "metadata": {},
   "outputs": [],
   "source": [
    "import sys,os\n",
    "sys.path.append(\"/home/panayot/Documents/site_similarity\")"
   ]
  },
  {
   "cell_type": "code",
   "execution_count": 1,
   "metadata": {},
   "outputs": [],
   "source": [
    "from utils.notebook_utils import (combined_nodes_referral_sites_audience_overlap,\n",
    "    get_alexa_information_sections, extract_node_features)"
   ]
  },
  {
   "cell_type": "code",
   "execution_count": 10,
   "metadata": {},
   "outputs": [
    {
     "name": "stdout",
     "output_type": "stream",
     "text": [
      "For file \"corpus_2020_referral_sites.json\" -> load 859 records\n",
      "For file \"corpus_2020_referral_sites_level_1.json\" -> load 2333 records\n",
      "For file \"corpus_2020_referral_sites_level_2.json\" -> load 5954 records\n",
      "For file \"corpus_2020_referral_sites_level_3.json\" -> load 13320 records\n",
      "Loaded 26573 nodes with records level <= 3 and child size:128548\n",
      "referral_sites node size: 57797 audience_overlap node size: 128582\n"
     ]
    }
   ],
   "source": [
    "combined_data_corpus_2020_level_0_1 = combined_nodes_referral_sites_audience_overlap(data_year='2020', level=3, add_edge_type=True)"
   ]
  },
  {
   "cell_type": "code",
   "execution_count": 11,
   "metadata": {},
   "outputs": [
    {
     "data": {
      "text/plain": [
       "186379"
      ]
     },
     "execution_count": 11,
     "metadata": {},
     "output_type": "execute_result"
    }
   ],
   "source": [
    "len(combined_data_corpus_2020_level_0_1)"
   ]
  },
  {
   "cell_type": "code",
   "execution_count": 12,
   "metadata": {},
   "outputs": [
    {
     "data": {
      "text/plain": [
       "[('crooked.com', 'votesaveamerica.com', 'similar_by_audience_overlap_to'),\n",
       " ('crooked.com', 'art19.com', 'similar_by_audience_overlap_to'),\n",
       " ('crooked.com', 'promocodeportal.com', 'similar_by_audience_overlap_to'),\n",
       " ('crooked.com', 'mediamatters.org', 'similar_by_audience_overlap_to'),\n",
       " ('crooked.com', 'actblue.com', 'similar_by_audience_overlap_to'),\n",
       " ('deepleftfield.info',\n",
       "  'politicalflare.com',\n",
       "  'similar_by_audience_overlap_to'),\n",
       " ('deepleftfield.info', 'bluedotdaily.com', 'similar_by_audience_overlap_to'),\n",
       " ('antifascistnews.net',\n",
       "  'angrywhitemen.org',\n",
       "  'similar_by_audience_overlap_to'),\n",
       " ('antifascistnews.net', 'itsgoingdown.org', 'similar_by_audience_overlap_to'),\n",
       " ('antifascistnews.net', 'torchantifa.org', 'similar_by_audience_overlap_to')]"
      ]
     },
     "execution_count": 12,
     "metadata": {},
     "output_type": "execute_result"
    }
   ],
   "source": [
    "combined_data_corpus_2020_level_0_1[:10]"
   ]
  },
  {
   "cell_type": "code",
   "execution_count": 13,
   "metadata": {},
   "outputs": [
    {
     "name": "stdout",
     "output_type": "stream",
     "text": [
      "80752\n"
     ]
    }
   ],
   "source": [
    "unique_sites_corpus_2020_level_0_1 = set()\n",
    "\n",
    "for source, target,_ in combined_data_corpus_2020_level_0_1:\n",
    "    unique_sites_corpus_2020_level_0_1.add(source)\n",
    "    unique_sites_corpus_2020_level_0_1.add(target)\n",
    "\n",
    "print(len(unique_sites_corpus_2020_level_0_1))"
   ]
  },
  {
   "cell_type": "code",
   "execution_count": 14,
   "metadata": {},
   "outputs": [
    {
     "data": {
      "text/plain": [
       "8"
      ]
     },
     "execution_count": 14,
     "metadata": {},
     "output_type": "execute_result"
    }
   ],
   "source": [
    "import redis as r\n",
    "\n",
    "redis = r.Redis()\n",
    "\n",
    "len([el for el in unique_sites_corpus_2020_level_0_1 if not redis.get(el)])"
   ]
  },
  {
   "cell_type": "code",
   "execution_count": 53,
   "metadata": {},
   "outputs": [],
   "source": [
    "alexa_data_for_nodes = get_alexa_information_sections(unique_sites_corpus_2020_level_0_1, specific_section=None)"
   ]
  },
  {
   "cell_type": "code",
   "execution_count": 54,
   "metadata": {},
   "outputs": [],
   "source": [
    "a = dict(zip(unique_sites_corpus_2020_level_0_1, alexa_data_for_nodes))"
   ]
  },
  {
   "cell_type": "code",
   "execution_count": 55,
   "metadata": {},
   "outputs": [
    {
     "data": {
      "text/plain": [
       "80752"
      ]
     },
     "execution_count": 55,
     "metadata": {},
     "output_type": "execute_result"
    }
   ],
   "source": [
    "len(a)"
   ]
  },
  {
   "cell_type": "code",
   "execution_count": 56,
   "metadata": {},
   "outputs": [
    {
     "data": {
      "text/plain": [
       "{'site_rank': '# 1,490,554',\n",
       " 'site_rank_over_past_90_days': '532 K',\n",
       " 'three_month_rank_data': {},\n",
       " 'country_alexa_ranks': []}"
      ]
     },
     "execution_count": 56,
     "metadata": {},
     "output_type": "execute_result"
    }
   ],
   "source": [
    "a['sonorannews.com']['alexa_rank']"
   ]
  },
  {
   "cell_type": "code",
   "execution_count": 57,
   "metadata": {},
   "outputs": [
    {
     "data": {
      "text/plain": [
       "{'site_rank': '# 2,124,636',\n",
       " 'site_rank_over_past_90_days': '8.24 M',\n",
       " 'three_month_rank_data': {},\n",
       " 'country_alexa_ranks': []}"
      ]
     },
     "execution_count": 57,
     "metadata": {},
     "output_type": "execute_result"
    }
   ],
   "source": [
    "a['curvetube.com']['alexa_rank']"
   ]
  },
  {
   "cell_type": "code",
   "execution_count": 58,
   "metadata": {},
   "outputs": [
    {
     "name": "stdout",
     "output_type": "stream",
     "text": [
      "[{'site': 'seedfinder.eu', 'number_referral_sites': '217'}, {'site': 'seedsman.com', 'number_referral_sites': '186'}, {'site': 'cannabis-seeds-bank.co.uk', 'number_referral_sites': '100'}, {'site': 'allbud.com', 'number_referral_sites': '83'}, {'site': 'cannasos.com', 'number_referral_sites': '69'}]\n",
      "[{'site': 'digitaladvertising-101.com', 'number_referral_sites': '36'}, {'site': 'pilotskid.com', 'number_referral_sites': '3'}, {'site': 'adsforcarts.com', 'number_referral_sites': '1'}, {'site': 'revizionfinance287.weebly.com', 'number_referral_sites': '--'}, {'site': 'texaskindl462.weebly.com', 'number_referral_sites': '--'}]\n",
      "[{'site': 'theunspinners.blogspot.com', 'number_referral_sites': '792'}, {'site': 'anotherbrickinwall.blogspot.com', 'number_referral_sites': '528'}, {'site': 'khairulryezal.blogspot.com', 'number_referral_sites': '430'}, {'site': 'politikputramerdeka.blogspot.com', 'number_referral_sites': '166'}, {'site': 'cipantapirtenuk.blogspot.com', 'number_referral_sites': '163'}]\n",
      "[{'site': 'nolas.com', 'number_referral_sites': '21'}, {'site': 'tamarinerestaurant.com', 'number_referral_sites': '18'}, {'site': 'pampaspaloalto.com', 'number_referral_sites': '14'}, {'site': 'stmikes.com', 'number_referral_sites': '11'}, {'site': 'macarthurparkpaloalto.com', 'number_referral_sites': '10'}]\n"
     ]
    }
   ],
   "source": [
    "for s in ['seedfinder.eu', 'pilotskid.com', 'cipantapirtenuk.blogspot.com', 'macarthurparkpaloalto.com']:\n",
    "    print(a[s]['referral_sites'])"
   ]
  },
  {
   "cell_type": "code",
   "execution_count": 59,
   "metadata": {},
   "outputs": [
    {
     "data": {
      "text/plain": [
       "[]"
      ]
     },
     "execution_count": 59,
     "metadata": {},
     "output_type": "execute_result"
    }
   ],
   "source": [
    "[k for k, v in a.items() if not v.get('alexa_rank')]"
   ]
  },
  {
   "cell_type": "code",
   "execution_count": 60,
   "metadata": {},
   "outputs": [
    {
     "data": {
      "text/plain": [
       "b'{\"comparison_metrics\": null, \"similar_sites_by_audience_overlap\": [{\"site\": \"wearnumi.com\", \"overlap_score\": \"6.7\"}, {\"site\": \"dandipatch.com\", \"overlap_score\": \"6.6\"}, {\"site\": \"surgeryandart.com\", \"overlap_score\": \"5.9\"}, {\"site\": \"getdeogo.com\", \"overlap_score\": \"3.1\"}, {\"site\": \"thompsontee.com\", \"overlap_score\": \"2.6\"}], \"top_industry_topics_by_social_engagement\": [], \"top_keywords_by_traffic\": {\"chromhidrosis\": \"5.58%\", \"why is my sweat yellow\": \"5.08%\", \"yellow sweat\": \"4.07%\", \"hypoallergenic detox\": \"4.02%\", \"stains\": \"3.49%\"}, \"alexa_rank_90_days_trends\": {\"alexa_rank\": null, \"time_on_site\": null}, \"keyword_gaps\": [{\"keyword\": \"how to prevent underarm stains on white shirts\", \"avg_traffic_to_competitord\": \"22\", \"search_popularity\": \"8\"}, {\"keyword\": \"how to prevent sweat stains on white shirts\", \"avg_traffic_to_competitord\": \"20\", \"search_popularity\": \"4\"}, {\"keyword\": \"how to get rid of pit stains\", \"avg_traffic_to_competitord\": \"18\", \"search_popularity\": \"18\"}, {\"keyword\": \"how to remove sweat stains\", \"avg_traffic_to_competitord\": \"17\", \"search_popularity\": \"21\"}], \"easy_to_rank_keywords\": [{\"keyword\": \"how to remove pit stains\", \"relevance_to_this_site\": \"29\", \"search_popularity\": \"17\"}, {\"keyword\": \"excessive sweating\", \"relevance_to_this_site\": \"30\", \"search_popularity\": \"40\"}, {\"keyword\": \"sweatblock\", \"relevance_to_this_site\": \"30\", \"search_popularity\": \"31\"}, {\"keyword\": \"strong antiperspirant\", \"relevance_to_this_site\": \"30\", \"search_popularity\": \"15\"}], \"buyer_keywords\": [{\"keyword\": \"how to get yellow sweat stains out of white shirts\", \"avg_traffic_to_competitord\": \"22\", \"organic_competition\": \"72\"}, {\"keyword\": \"how to get rid of pit stains\", \"avg_traffic_to_competitord\": \"18\", \"organic_competition\": \"58\"}, {\"keyword\": \"how to get rid of armpit stains\", \"avg_traffic_to_competitord\": \"16\", \"organic_competition\": \"61\"}, {\"keyword\": \"how to get pit stains out of white shirts\", \"avg_traffic_to_competitord\": \"16\", \"organic_competition\": \"27\"}], \"optimization_opportunities\": [{\"keyword\": \"chromhidrosis\", \"search_popularity\": \"20\", \"organic_share_of_voice\": \"2.21%\"}, {\"keyword\": \"stains\", \"search_popularity\": \"32\", \"organic_share_of_voice\": \"0.24%\"}, {\"keyword\": \"sweat stains\", \"search_popularity\": \"17\", \"organic_share_of_voice\": \"1.72%\"}, {\"keyword\": \"what causes yellow armpit stains\", \"search_popularity\": \"9\", \"organic_share_of_voice\": \"4.4%\"}], \"top_social_topics\": null, \"social_engagement\": null, \"popular_articles\": null, \"traffic_sources\": [{\"site\": \"wearnumi.com\", \"search_percentage\": \"27.3%\"}, {\"site\": \"dandipatch.com\", \"search_percentage\": \"\"}, {\"site\": \"surgeryandart.com\", \"search_percentage\": \"\"}, {\"site\": \"getdeogo.com\", \"search_percentage\": \"\"}, {\"site\": \"rumaorganics.com\", \"search_percentage\": \"\"}], \"referral_sites\": [{\"site\": \"wearnumi.com\", \"number_referral_sites\": \"20\"}, {\"site\": \"getdeogo.com\", \"number_referral_sites\": \"8\"}, {\"site\": \"rumaorganics.com\", \"number_referral_sites\": \"6\"}, {\"site\": \"dandipatch.com\", \"number_referral_sites\": \"5\"}, {\"site\": \"surgeryandart.com\", \"number_referral_sites\": \"1\"}], \"top_keywords\": {\"rumaorganics.com\": [{\"keyword\": \"chromhidrosis\", \"search_traffic\": \"5.58%\", \"share_of_voice\": \"1.6%\"}, {\"keyword\": \"why is my sweat yellow\", \"search_traffic\": \"5.08%\", \"share_of_voice\": \"15.43%\"}, {\"keyword\": \"yellow sweat\", \"search_traffic\": \"4.07%\", \"share_of_voice\": \"5.4%\"}, {\"keyword\": \"hypoallergenic detox\", \"search_traffic\": \"4.02%\", \"share_of_voice\": \"16.56%\"}, {\"keyword\": \"stains\", \"search_traffic\": \"3.49%\", \"share_of_voice\": \"0.18%\"}], \"dandipatch.com\": [{\"keyword\": \"presentation techniques\", \"search_traffic\": \"13.21%\", \"share_of_voice\": \"5.24%\"}, {\"keyword\": \"sweat patches\", \"search_traffic\": \"9.68%\", \"share_of_voice\": \"5.47%\"}, {\"keyword\": \"effective presentation techniques\", \"search_traffic\": \"8.88%\", \"share_of_voice\": \"4.36%\"}, {\"keyword\": \"dandi\", \"search_traffic\": \"7.32%\", \"share_of_voice\": \"0.65%\"}, {\"keyword\": \"how to reduce sweating\", \"search_traffic\": \"5.26%\", \"share_of_voice\": \"1.88%\"}], \"wearnumi.com\": [{\"keyword\": \"numi\", \"search_traffic\": \"8.12%\", \"share_of_voice\": \"3.44%\"}, {\"keyword\": \"how to get yellow sweat stains out of white shirts\", \"search_traffic\": \"4.58%\", \"share_of_voice\": \"16.34%\"}, {\"keyword\": \"how to clean yellow clothes\", \"search_traffic\": \"1.69%\", \"share_of_voice\": \"31.29%\"}, {\"keyword\": \"how to get yellow stains out of white shirts\", \"search_traffic\": \"1.66%\", \"share_of_voice\": \"31.76%\"}, {\"keyword\": \"wearnumi\", \"search_traffic\": \"1.6%\", \"share_of_voice\": \"25.34%\"}], \"surgeryandart.com\": [{\"keyword\": \"dr moreano\", \"search_traffic\": \"15.22%\", \"share_of_voice\": \"43.04%\"}, {\"keyword\": \"scarlett johansson lips\", \"search_traffic\": \"4.11%\", \"share_of_voice\": \"5.04%\"}, {\"keyword\": \"liposuction\", \"search_traffic\": \"3.67%\", \"share_of_voice\": \"0.03%\"}, {\"keyword\": \"how to prevent armpit sweat on shirts\", \"search_traffic\": \"2.97%\", \"share_of_voice\": \"7.9%\"}, {\"keyword\": \"how to get rid of sweat stains in shirts\", \"search_traffic\": \"2.73%\", \"share_of_voice\": \"7.39%\"}], \"getdeogo.com\": [{\"keyword\": \"deo go\", \"search_traffic\": \"44.05%\", \"share_of_voice\": \"9.07%\"}, {\"keyword\": \"deo-go\", \"search_traffic\": \"29.07%\", \"share_of_voice\": \"12.04%\"}, {\"keyword\": \"deogo\", \"search_traffic\": \"15.66%\", \"share_of_voice\": \"3.72%\"}, {\"keyword\": \"removing antiperspirant buildup\", \"search_traffic\": \"0.87%\", \"share_of_voice\": \"1.06%\"}, {\"keyword\": \"remove deodorant build up\", \"search_traffic\": \"0.6%\", \"share_of_voice\": \"0.2%\"}]}, \"audience_overlap\": [{\"site\": \"wearnumi.com\", \"alexa_rank\": \"588,867\", \"overlap_score\": \"6.7\"}, {\"site\": \"dandipatch.com\", \"alexa_rank\": \"3,560,439\", \"overlap_score\": \"6.6\"}, {\"site\": \"surgeryandart.com\", \"alexa_rank\": \"2,194,110\", \"overlap_score\": \"5.9\"}, {\"site\": \"getdeogo.com\", \"alexa_rank\": \"-\", \"overlap_score\": \"3.1\"}, {\"site\": \"thompsontee.com\", \"alexa_rank\": \"218,801\", \"overlap_score\": \"2.6\"}], \"alexa_rank\": {\"site_rank\": null, \"site_rank_over_past_90_days\": null, \"three_month_rank_data\": {}, \"country_alexa_ranks\": []}, \"audience_geography_in_past_30_days\": {}, \"site_metrics\": {\"daily_pageviews_per_visitor\": null, \"daily_pageviews_per_visitor_for_the_last_90_days\": null, \"daily_time_on_site\": null, \"daily_time_on_site_for_the_last_90_days\": null, \"bounce_rate\": null, \"bounce_rate_for_the_last_90_days\": null, \"traffic_source_search\": null, \"visited_just_before\": null, \"visited_right_after\": null, \"total_sites_linking_in\": \"6\"}}'"
      ]
     },
     "execution_count": 60,
     "metadata": {},
     "output_type": "execute_result"
    }
   ],
   "source": [
    "redis.get('rumaorganics.com')"
   ]
  },
  {
   "cell_type": "code",
   "execution_count": 61,
   "metadata": {},
   "outputs": [
    {
     "data": {
      "text/plain": [
       "b'{\"comparison_metrics\": null, \"similar_sites_by_audience_overlap\": [{\"site\": \"cabar.asia\", \"overlap_score\": \"4.1\"}, {\"site\": \"dialog.tj\", \"overlap_score\": \"3.6\"}, {\"site\": \"stanradar.com\", \"overlap_score\": \"2.9\"}, {\"site\": \"kaktakto.com\", \"overlap_score\": \"2.5\"}, {\"site\": \"inozpress.kg\", \"overlap_score\": \"2.5\"}], \"top_industry_topics_by_social_engagement\": [{\"topic\": \"asian_country\", \"this_site\": \"0\", \"competitor_avg\": \"65\", \"total_avg\": \"65\"}, {\"topic\": \"kazakhstan\", \"this_site\": \"0\", \"competitor_avg\": \"26\", \"total_avg\": \"26\"}, {\"topic\": \"civil_society\", \"this_site\": \"0\", \"competitor_avg\": \"26\", \"total_avg\": \"26\"}], \"top_keywords_by_traffic\": {\"\\\\u0444\\\\u0435\\\\u0440\\\\u0433\\\\u0430\\\\u043d\\\\u0441\\\\u043a\\\\u0430\\\\u044f \\\\u0434\\\\u043e\\\\u043b\\\\u0438\\\\u043d\\\\u0430\": \"8.87%\", \"what do tajiks think of iran\": \"5.89%\", \"central asia\": \"4.34%\", \"\\\\u043a\\\\u043e\\\\u043a\\\\u0430\\\\u043d\\\\u0434\\\\u0441\\\\u043a\\\\u043e\\\\u0435 \\\\u0445\\\\u0430\\\\u043d\\\\u0441\\\\u0442\\\\u0432\\\\u043e\": \"4.12%\", \"\\\\u043a\\\\u043b\\\\u0435\\\\u043f\\\\u0442\\\\u043e\\\\u043a\\\\u0440\\\\u0430\\\\u0442\\\\u0438\\\\u044f\": \"4.1%\"}, \"alexa_rank_90_days_trends\": {\"alexa_rank\": \"#1,110,671\", \"time_on_site\": \"2:55\"}, \"keyword_gaps\": [{\"keyword\": \"\\\\u043a\\\\u0430\\\\u0441\\\\u044b\\\\u043c-\\\\u0436\\\\u043e\\\\u043c\\\\u0430\\\\u0440\\\\u0442 \\\\u0442\\\\u043e\\\\u043a\\\\u0430\\\\u0435\\\\u0432\", \"avg_traffic_to_competitord\": \"12\", \"search_popularity\": \"23\"}, {\"keyword\": \"\\\\u043a\\\\u0430\\\\u0441\\\\u044b\\\\u043c \\\\u0436\\\\u043e\\\\u043c\\\\u0430\\\\u0440\\\\u0442 \\\\u0442\\\\u043e\\\\u043a\\\\u0430\\\\u0435\\\\u0432\", \"avg_traffic_to_competitord\": \"11\", \"search_popularity\": \"16\"}, {\"keyword\": \"\\\\u043a\\\\u0443\\\\u043b\\\\u0438\\\\u0431\\\\u0430\\\\u0435\\\\u0432\\\\u0430 \\\\u0434\\\\u0438\\\\u043d\\\\u0430\\\\u0440\\\\u0430 \\\\u043d\\\\u0443\\\\u0440\\\\u0441\\\\u0443\\\\u043b\\\\u0442\\\\u0430\\\\u043d\\\\u043e\\\\u0432\\\\u043d\\\\u0430\", \"avg_traffic_to_competitord\": \"11\", \"search_popularity\": \"13\"}, {\"keyword\": \"\\\\u043d\\\\u0430\\\\u0434\\\\u0435\\\\u0436\\\\u0434\\\\u0430 \\\\u0434\\\\u0430\\\\u0432\\\\u044b\\\\u0434\\\\u043e\\\\u0432\\\\u043d\\\\u0430 \\\\u0442\\\\u043e\\\\u043a\\\\u0430\\\\u0435\\\\u0432\\\\u0430\", \"avg_traffic_to_competitord\": \"11\", \"search_popularity\": \"11\"}], \"easy_to_rank_keywords\": [{\"keyword\": \"\\\\u0434\\\\u043e\\\\u0440\\\\u0434\\\\u043e\\\\u0439\", \"relevance_to_this_site\": \"37\", \"search_popularity\": \"7\"}, {\"keyword\": \"chabahar port\", \"relevance_to_this_site\": \"33\", \"search_popularity\": \"34\"}, {\"keyword\": \"\\\\u0441\\\\u0430\\\\u044f\\\\u043a\\\\u0431\\\\u0430\\\\u0439\", \"relevance_to_this_site\": \"37\", \"search_popularity\": \"4\"}, {\"keyword\": \"tesla roadster\", \"relevance_to_this_site\": \"35\", \"search_popularity\": \"55\"}], \"buyer_keywords\": [], \"optimization_opportunities\": [], \"top_social_topics\": {\"asian_country\": {\"this_site Average Engagement\": \"0\", \"this_site Total Articles\": \"0\", \"compatitor_avg Average Engagement\": \"65\", \"compatitor_avg Total Articles\": \"10\"}, \"kazakhstan\": {\"this_site Average Engagement\": \"0\", \"this_site Total Articles\": \"0\", \"compatitor_avg Average Engagement\": \"65\", \"compatitor_avg Total Articles\": \"10\"}, \"civil_society\": {\"this_site Average Engagement\": \"0\", \"this_site Total Articles\": \"0\", \"compatitor_avg Average Engagement\": \"65\", \"compatitor_avg Total Articles\": \"10\"}}, \"social_engagement\": [{\"site\": \"cabar.asia\", \"total_articles\": \"192\", \"avg_engagement\": \"15\"}, {\"site\": \"centralasiaprogram.org\", \"total_articles\": \"67\", \"avg_engagement\": \"18\"}, {\"site\": \"caa-network.org\", \"total_articles\": \"3\", \"avg_engagement\": \"37\"}], \"popular_articles\": [{\"article_title\": \"People Without Religion. Number of Atheists Grows in Kazakhstan.\", \"article_url\": \"https://cabar.asia/en/people-without-religion-number-of-atheists-grows-in-kazakhstan\", \"total_articles\": \"1,756\", \"avg_engagement\": \"70\"}, {\"article_title\": \"Russian Language Status in Central Asian Countries\", \"article_url\": \"https://cabar.asia/en/russian-language-status-in-central-asian-countries/\", \"total_articles\": \"508\", \"avg_engagement\": \"1\"}, {\"article_title\": \"Political Stability and Human Security in Tajikistan in Time of COVID-19 - Central Asia Program\", \"article_url\": \"https://centralasiaprogram.org/event/political-stability-and-human-security-in-tajikistan-in-time-of-covid-19-with-marintha-miles-and-dr-edward-lemon\", \"total_articles\": \"120\", \"avg_engagement\": \"45\"}, {\"article_title\": \"Uzbekistan: Life of the Tashkent-based Baha\\'i Community\", \"article_url\": \"https://cabar.asia/en/uzbekistan-life-of-the-tashkent-based-baha-i-community\", \"total_articles\": \"120\", \"avg_engagement\": \"1\"}], \"traffic_sources\": [{\"site\": \"cabar.asia\", \"search_percentage\": \"\"}, {\"site\": \"inozpress.kg\", \"search_percentage\": \"\"}, {\"site\": \"centralasiaprogram.org\", \"search_percentage\": \"\"}, {\"site\": \"stanradar.com\", \"search_percentage\": \"\"}, {\"site\": \"caa-network.org\", \"search_percentage\": \"\"}], \"referral_sites\": [{\"site\": \"stanradar.com\", \"number_referral_sites\": \"167\"}, {\"site\": \"cabar.asia\", \"number_referral_sites\": \"95\"}, {\"site\": \"caa-network.org\", \"number_referral_sites\": \"90\"}, {\"site\": \"centralasiaprogram.org\", \"number_referral_sites\": \"50\"}, {\"site\": \"inozpress.kg\", \"number_referral_sites\": \"49\"}], \"top_keywords\": {\"caa-network.org\": [{\"keyword\": \"\\\\u0444\\\\u0435\\\\u0440\\\\u0433\\\\u0430\\\\u043d\\\\u0441\\\\u043a\\\\u0430\\\\u044f \\\\u0434\\\\u043e\\\\u043b\\\\u0438\\\\u043d\\\\u0430\", \"search_traffic\": \"8.87%\", \"share_of_voice\": \"2.28%\"}, {\"keyword\": \"what do tajiks think of iran\", \"search_traffic\": \"5.89%\", \"share_of_voice\": \"2.92%\"}, {\"keyword\": \"central asia\", \"search_traffic\": \"4.34%\", \"share_of_voice\": \"0.03%\"}, {\"keyword\": \"\\\\u043a\\\\u043e\\\\u043a\\\\u0430\\\\u043d\\\\u0434\\\\u0441\\\\u043a\\\\u043e\\\\u0435 \\\\u0445\\\\u0430\\\\u043d\\\\u0441\\\\u0442\\\\u0432\\\\u043e\", \"search_traffic\": \"4.12%\", \"share_of_voice\": \"2.03%\"}, {\"keyword\": \"\\\\u043a\\\\u043b\\\\u0435\\\\u043f\\\\u0442\\\\u043e\\\\u043a\\\\u0440\\\\u0430\\\\u0442\\\\u0438\\\\u044f\", \"search_traffic\": \"4.1%\", \"share_of_voice\": \"0.91%\"}], \"cabar.asia\": [{\"keyword\": \"coronavirus and world economy towards uzbekistan and china\", \"search_traffic\": \"15.27%\", \"share_of_voice\": \"35.37%\"}, {\"keyword\": \"\\\\u0430\\\\u0433\\\\u043d\\\\u043e\\\\u0441\\\\u0442\\\\u0438\\\\u043a\", \"search_traffic\": \"11.62%\", \"share_of_voice\": \"3.1%\"}, {\"keyword\": \"tajikistan language\", \"search_traffic\": \"4.96%\", \"share_of_voice\": \"2.91%\"}, {\"keyword\": \"\\\\u0430\\\\u0433\\\\u043d\\\\u043e\\\\u0441\\\\u0442\\\\u0438\\\\u0446\\\\u0438\\\\u0437\\\\u043c\", \"search_traffic\": \"3.3%\", \"share_of_voice\": \"3.49%\"}, {\"keyword\": \"kazakhstan women\", \"search_traffic\": \"3.17%\", \"share_of_voice\": \"1.36%\"}], \"inozpress.kg\": [{\"keyword\": \"novosti rusvesna\", \"search_traffic\": \"36.17%\", \"share_of_voice\": \"0.04%\"}, {\"keyword\": \"365info.kz\", \"search_traffic\": \"9.97%\", \"share_of_voice\": \"1.3%\"}, {\"keyword\": \"\\\\u0435\\\\u0432\\\\u0440\\\\u0430\\\\u0437\\\\u0438\\\\u0439\\\\u0441\\\\u043a\\\\u0438\\\\u0439 \\\\u044d\\\\u043a\\\\u043e\\\\u043d\\\\u043e\\\\u043c\\\\u0438\\\\u0447\\\\u0435\\\\u0441\\\\u043a\\\\u0438\\\\u0439 \\\\u0441\\\\u043e\\\\u044e\\\\u0437\", \"search_traffic\": \"6.68%\", \"share_of_voice\": \"0.04%\"}, {\"keyword\": \"\\\\u0443\\\\u0441\\\\u0442\\\\u044c-\\\\u043a\\\\u0430\\\\u043c\\\\u0435\\\\u043d\\\\u043e\\\\u0433\\\\u043e\\\\u0440\\\\u0441\\\\u043a\", \"search_traffic\": \"5.25%\", \"share_of_voice\": \"0.18%\"}, {\"keyword\": \"sputnik kg\", \"search_traffic\": \"2.28%\", \"share_of_voice\": \"0.03%\"}], \"centralasiaprogram.org\": [{\"keyword\": \"koreans in uzbekistan\", \"search_traffic\": \"8.22%\", \"share_of_voice\": \"1.79%\"}, {\"keyword\": \"edward lemon\", \"search_traffic\": \"5.95%\", \"share_of_voice\": \"7.01%\"}, {\"keyword\": \"cap central\", \"search_traffic\": \"5.67%\", \"share_of_voice\": \"5.67%\"}, {\"keyword\": \"adeeb khalid\", \"search_traffic\": \"2.86%\", \"share_of_voice\": \"1.35%\"}, {\"keyword\": \"central asian studies journal\", \"search_traffic\": \"2.86%\", \"share_of_voice\": \"2.64%\"}], \"stanradar.com\": [{\"keyword\": \"\\\\u0431\\\\u043e\\\\u043b\\\\u0430\\\\u0442 \\\\u043d\\\\u0430\\\\u0437\\\\u0430\\\\u0440\\\\u0431\\\\u0430\\\\u0435\\\\u0432\", \"search_traffic\": \"19.3%\", \"share_of_voice\": \"3.74%\"}, {\"keyword\": \"\\\\u0441\\\\u0430\\\\u0434\\\\u044b\\\\u0440 \\\\u0436\\\\u0430\\\\u043f\\\\u0430\\\\u0440\\\\u043e\\\\u0432\", \"search_traffic\": \"15.3%\", \"share_of_voice\": \"6.14%\"}, {\"keyword\": \"\\\\u0430\\\\u0445\\\\u043c\\\\u0430\\\\u0442\\\\u0431\\\\u0435\\\\u043a \\\\u043a\\\\u0435\\\\u043b\\\\u0434\\\\u0438\\\\u0431\\\\u0435\\\\u043a\\\\u043e\\\\u0432\", \"search_traffic\": \"9.96%\", \"share_of_voice\": \"21.45%\"}, {\"keyword\": \"\\\\u0431\\\\u043e\\\\u043b\\\\u0430\\\\u0442 \\\\u043d\\\\u043e\\\\u0437\\\\u0430\\\\u0440\\\\u0431\\\\u0430\\\\u0435\\\\u0432\", \"search_traffic\": \"7%\", \"share_of_voice\": \"2.53%\"}, {\"keyword\": \"\\\\u0441\\\\u043e\\\\u043e\\\\u0440\\\\u043e\\\\u043d\\\\u0431\\\\u0430\\\\u0439 \\\\u0436\\\\u044d\\\\u044d\\\\u043d\\\\u0431\\\\u0435\\\\u043a\\\\u043e\\\\u0432\", \"search_traffic\": \"2.76%\", \"share_of_voice\": \"2.87%\"}]}, \"audience_overlap\": [{\"site\": \"cabar.asia\", \"alexa_rank\": \"366,360\", \"overlap_score\": \"4.1\"}, {\"site\": \"dialog.tj\", \"alexa_rank\": \"885,490\", \"overlap_score\": \"3.6\"}, {\"site\": \"stanradar.com\", \"alexa_rank\": \"392,873\", \"overlap_score\": \"2.9\"}, {\"site\": \"kaktakto.com\", \"alexa_rank\": \"1,226,378\", \"overlap_score\": \"2.5\"}, {\"site\": \"inozpress.kg\", \"alexa_rank\": \"4,345,171\", \"overlap_score\": \"2.5\"}], \"alexa_rank\": {\"site_rank\": \"# 1,110,671\", \"site_rank_over_past_90_days\": \"-80.1 K\", \"three_month_rank_data\": {\"20201101\": \"985252\", \"20201102\": \"987582\", \"20201107\": \"989817\", \"20201122\": \"966343\", \"20201123\": \"959045\", \"20201124\": \"950362\", \"20201125\": \"904505\", \"20201126\": \"900048\", \"20201127\": \"879510\", \"20201128\": \"883417\", \"20201129\": \"883934\", \"20201130\": \"893204\", \"20201201\": \"886530\", \"20201202\": \"887299\", \"20201203\": \"894775\", \"20201204\": \"909286\", \"20201205\": \"916760\", \"20201206\": \"917165\", \"20201207\": \"918261\", \"20201208\": \"922936\", \"20201209\": \"929284\", \"20201210\": \"938003\", \"20201211\": \"947680\", \"20201212\": \"948072\", \"20201213\": \"932155\", \"20201214\": \"940564\", \"20201215\": \"957187\", \"20201216\": \"942933\", \"20201217\": \"943383\", \"20201218\": \"943872\", \"20201219\": \"944246\", \"20201220\": \"944654\", \"20201221\": \"953577\", \"20201222\": \"951699\", \"20201223\": \"951854\", \"20201224\": \"951079\", \"20201225\": \"975037\", \"20201226\": \"989844\"}, \"country_alexa_ranks\": []}, \"audience_geography_in_past_30_days\": {}, \"site_metrics\": {\"daily_pageviews_per_visitor\": \"1.2\", \"daily_pageviews_per_visitor_for_the_last_90_days\": \"4%\", \"daily_time_on_site\": \"2:55\", \"daily_time_on_site_for_the_last_90_days\": \"32%\", \"bounce_rate\": \"87.0%\", \"bounce_rate_for_the_last_90_days\": \"-1%\", \"traffic_source_search\": null, \"visited_just_before\": [{\"site\": \"google.com\", \"percentage\": \"63.3%\"}], \"visited_right_after\": [{\"site\": \"google.com\", \"percentage\": \"60%\"}], \"total_sites_linking_in\": \"90\"}}'"
      ]
     },
     "execution_count": 61,
     "metadata": {},
     "output_type": "execute_result"
    }
   ],
   "source": [
    "redis.get('caa-network.org')"
   ]
  },
  {
   "cell_type": "code",
   "execution_count": null,
   "metadata": {},
   "outputs": [],
   "source": []
  },
  {
   "cell_type": "code",
   "execution_count": 62,
   "metadata": {},
   "outputs": [
    {
     "name": "stdout",
     "output_type": "stream",
     "text": [
      "df_indexs 80752\n",
      "alexa_ranks 80752\n",
      "daily_pageviews_per_visitors 80752\n",
      "daily_time_on_sites 80752\n",
      "total_sites_linking_ins 80752\n",
      "bounce_rate 80752\n"
     ]
    }
   ],
   "source": [
    "df_indexs, node_features = extract_node_features(a)\n",
    "\n",
    "print('df_indexs', len(df_indexs))\n",
    "print('alexa_ranks', len(node_features['alexa_ranks']))\n",
    "print('daily_pageviews_per_visitors', len(node_features['daily_pageviews_per_visitors']))\n",
    "print('daily_time_on_sites', len(node_features['daily_time_on_sites']))\n",
    "print('total_sites_linking_ins', len(node_features['total_sites_linking_ins']))\n",
    "print('bounce_rate', len(node_features['bounce_rate']))"
   ]
  },
  {
   "cell_type": "code",
   "execution_count": 63,
   "metadata": {},
   "outputs": [
    {
     "data": {
      "text/html": [
       "<div>\n",
       "<style scoped>\n",
       "    .dataframe tbody tr th:only-of-type {\n",
       "        vertical-align: middle;\n",
       "    }\n",
       "\n",
       "    .dataframe tbody tr th {\n",
       "        vertical-align: top;\n",
       "    }\n",
       "\n",
       "    .dataframe thead th {\n",
       "        text-align: right;\n",
       "    }\n",
       "</style>\n",
       "<table border=\"1\" class=\"dataframe\">\n",
       "  <thead>\n",
       "    <tr style=\"text-align: right;\">\n",
       "      <th></th>\n",
       "      <th>alexa_ranks</th>\n",
       "      <th>daily_pageviews_per_visitors</th>\n",
       "      <th>daily_time_on_sites</th>\n",
       "      <th>total_sites_linking_ins</th>\n",
       "      <th>bounce_rate</th>\n",
       "    </tr>\n",
       "  </thead>\n",
       "  <tbody>\n",
       "    <tr>\n",
       "      <th>militarypay.org</th>\n",
       "      <td>3679491.0</td>\n",
       "      <td>1.0</td>\n",
       "      <td>NaN</td>\n",
       "      <td>29.0</td>\n",
       "      <td>NaN</td>\n",
       "    </tr>\n",
       "    <tr>\n",
       "      <th>nodownpaymentlandloan.com</th>\n",
       "      <td>NaN</td>\n",
       "      <td>NaN</td>\n",
       "      <td>NaN</td>\n",
       "      <td>NaN</td>\n",
       "      <td>NaN</td>\n",
       "    </tr>\n",
       "    <tr>\n",
       "      <th>radicalorange.tv</th>\n",
       "      <td>8574492.0</td>\n",
       "      <td>1.0</td>\n",
       "      <td>NaN</td>\n",
       "      <td>1.0</td>\n",
       "      <td>NaN</td>\n",
       "    </tr>\n",
       "    <tr>\n",
       "      <th>mattvanderhoff.com</th>\n",
       "      <td>NaN</td>\n",
       "      <td>NaN</td>\n",
       "      <td>NaN</td>\n",
       "      <td>3.0</td>\n",
       "      <td>NaN</td>\n",
       "    </tr>\n",
       "    <tr>\n",
       "      <th>cateringdc.com</th>\n",
       "      <td>NaN</td>\n",
       "      <td>NaN</td>\n",
       "      <td>NaN</td>\n",
       "      <td>3.0</td>\n",
       "      <td>NaN</td>\n",
       "    </tr>\n",
       "  </tbody>\n",
       "</table>\n",
       "</div>"
      ],
      "text/plain": [
       "                           alexa_ranks  daily_pageviews_per_visitors  \\\n",
       "militarypay.org              3679491.0                           1.0   \n",
       "nodownpaymentlandloan.com          NaN                           NaN   \n",
       "radicalorange.tv             8574492.0                           1.0   \n",
       "mattvanderhoff.com                 NaN                           NaN   \n",
       "cateringdc.com                     NaN                           NaN   \n",
       "\n",
       "                           daily_time_on_sites  total_sites_linking_ins  \\\n",
       "militarypay.org                            NaN                     29.0   \n",
       "nodownpaymentlandloan.com                  NaN                      NaN   \n",
       "radicalorange.tv                           NaN                      1.0   \n",
       "mattvanderhoff.com                         NaN                      3.0   \n",
       "cateringdc.com                             NaN                      3.0   \n",
       "\n",
       "                           bounce_rate  \n",
       "militarypay.org                    NaN  \n",
       "nodownpaymentlandloan.com          NaN  \n",
       "radicalorange.tv                   NaN  \n",
       "mattvanderhoff.com                 NaN  \n",
       "cateringdc.com                     NaN  "
      ]
     },
     "execution_count": 63,
     "metadata": {},
     "output_type": "execute_result"
    }
   ],
   "source": [
    "import pandas as pd\n",
    "\n",
    "node_features_df = pd.DataFrame(node_features, index=df_indexs)\n",
    "\n",
    "node_features_df.head()"
   ]
  },
  {
   "cell_type": "code",
   "execution_count": 64,
   "metadata": {},
   "outputs": [
    {
     "data": {
      "text/plain": [
       "True"
      ]
     },
     "execution_count": 64,
     "metadata": {},
     "output_type": "execute_result"
    }
   ],
   "source": [
    "'seedfinder.eu' in df_indexs"
   ]
  },
  {
   "cell_type": "code",
   "execution_count": 65,
   "metadata": {},
   "outputs": [
    {
     "data": {
      "text/plain": [
       "alexa_ranks                     106268.000\n",
       "daily_pageviews_per_visitors         2.900\n",
       "daily_time_on_sites                137.000\n",
       "total_sites_linking_ins            217.000\n",
       "bounce_rate                          0.586\n",
       "Name: seedfinder.eu, dtype: float64"
      ]
     },
     "execution_count": 65,
     "metadata": {},
     "output_type": "execute_result"
    }
   ],
   "source": [
    "node_features_df.loc['seedfinder.eu']"
   ]
  },
  {
   "cell_type": "code",
   "execution_count": 66,
   "metadata": {},
   "outputs": [
    {
     "name": "stdout",
     "output_type": "stream",
     "text": [
      "<class 'pandas.core.frame.DataFrame'>\n",
      "Index: 80752 entries, militarypay.org to unsceb.org\n",
      "Data columns (total 5 columns):\n",
      " #   Column                        Non-Null Count  Dtype  \n",
      "---  ------                        --------------  -----  \n",
      " 0   alexa_ranks                   49619 non-null  float64\n",
      " 1   daily_pageviews_per_visitors  49633 non-null  float64\n",
      " 2   daily_time_on_sites           30032 non-null  float64\n",
      " 3   total_sites_linking_ins       76914 non-null  float64\n",
      " 4   bounce_rate                   26043 non-null  float64\n",
      "dtypes: float64(5)\n",
      "memory usage: 6.2+ MB\n"
     ]
    }
   ],
   "source": [
    "node_features_df.info()"
   ]
  },
  {
   "cell_type": "code",
   "execution_count": 67,
   "metadata": {},
   "outputs": [
    {
     "data": {
      "text/html": [
       "<div>\n",
       "<style scoped>\n",
       "    .dataframe tbody tr th:only-of-type {\n",
       "        vertical-align: middle;\n",
       "    }\n",
       "\n",
       "    .dataframe tbody tr th {\n",
       "        vertical-align: top;\n",
       "    }\n",
       "\n",
       "    .dataframe thead th {\n",
       "        text-align: right;\n",
       "    }\n",
       "</style>\n",
       "<table border=\"1\" class=\"dataframe\">\n",
       "  <thead>\n",
       "    <tr style=\"text-align: right;\">\n",
       "      <th></th>\n",
       "      <th>source</th>\n",
       "      <th>target</th>\n",
       "      <th>label</th>\n",
       "    </tr>\n",
       "  </thead>\n",
       "  <tbody>\n",
       "    <tr>\n",
       "      <th>0</th>\n",
       "      <td>crooked.com</td>\n",
       "      <td>votesaveamerica.com</td>\n",
       "      <td>similar_by_audience_overlap_to</td>\n",
       "    </tr>\n",
       "    <tr>\n",
       "      <th>1</th>\n",
       "      <td>crooked.com</td>\n",
       "      <td>art19.com</td>\n",
       "      <td>similar_by_audience_overlap_to</td>\n",
       "    </tr>\n",
       "    <tr>\n",
       "      <th>2</th>\n",
       "      <td>crooked.com</td>\n",
       "      <td>promocodeportal.com</td>\n",
       "      <td>similar_by_audience_overlap_to</td>\n",
       "    </tr>\n",
       "    <tr>\n",
       "      <th>3</th>\n",
       "      <td>crooked.com</td>\n",
       "      <td>mediamatters.org</td>\n",
       "      <td>similar_by_audience_overlap_to</td>\n",
       "    </tr>\n",
       "    <tr>\n",
       "      <th>4</th>\n",
       "      <td>crooked.com</td>\n",
       "      <td>actblue.com</td>\n",
       "      <td>similar_by_audience_overlap_to</td>\n",
       "    </tr>\n",
       "  </tbody>\n",
       "</table>\n",
       "</div>"
      ],
      "text/plain": [
       "        source               target                           label\n",
       "0  crooked.com  votesaveamerica.com  similar_by_audience_overlap_to\n",
       "1  crooked.com            art19.com  similar_by_audience_overlap_to\n",
       "2  crooked.com  promocodeportal.com  similar_by_audience_overlap_to\n",
       "3  crooked.com     mediamatters.org  similar_by_audience_overlap_to\n",
       "4  crooked.com          actblue.com  similar_by_audience_overlap_to"
      ]
     },
     "execution_count": 67,
     "metadata": {},
     "output_type": "execute_result"
    }
   ],
   "source": [
    "combined_data_corpus_2020_level_0_1_df = pd.DataFrame(combined_data_corpus_2020_level_0_1, columns=['source', 'target', 'label'])\n",
    "\n",
    "combined_data_corpus_2020_level_0_1_df.head()"
   ]
  },
  {
   "cell_type": "code",
   "execution_count": 68,
   "metadata": {},
   "outputs": [
    {
     "data": {
      "text/plain": [
       "0         similar_by_audience_overlap_to\n",
       "1         similar_by_audience_overlap_to\n",
       "2         similar_by_audience_overlap_to\n",
       "3         similar_by_audience_overlap_to\n",
       "4         similar_by_audience_overlap_to\n",
       "                       ...              \n",
       "186374                  referral_site_to\n",
       "186375                  referral_site_to\n",
       "186376                  referral_site_to\n",
       "186377                  referral_site_to\n",
       "186378                  referral_site_to\n",
       "Name: label, Length: 186379, dtype: object"
      ]
     },
     "execution_count": 68,
     "metadata": {},
     "output_type": "execute_result"
    }
   ],
   "source": [
    "combined_data_corpus_2020_level_0_1_df['label']"
   ]
  },
  {
   "cell_type": "code",
   "execution_count": 69,
   "metadata": {},
   "outputs": [],
   "source": [
    "import stellargraph as sg\n",
    "\n",
    "\n",
    "G = sg.StellarGraph(node_features_df,\n",
    "                    edges=combined_data_corpus_2020_level_0_1_df,\n",
    "                    source_column='source',\n",
    "                    target_column='target',\n",
    "                    edge_type_column='label')"
   ]
  },
  {
   "cell_type": "code",
   "execution_count": 70,
   "metadata": {},
   "outputs": [
    {
     "name": "stdout",
     "output_type": "stream",
     "text": [
      "StellarGraph: Undirected multigraph\n",
      " Nodes: 80752, Edges: 186379\n",
      "\n",
      " Node types:\n",
      "  default: [80752]\n",
      "    Features: float32 vector, length 5\n",
      "    Edge types: default-referral_site_to->default, default-similar_by_audience_overlap_to->default\n",
      "\n",
      " Edge types:\n",
      "    default-similar_by_audience_overlap_to->default: [128582]\n",
      "        Weights: all 1 (default)\n",
      "        Features: none\n",
      "    default-referral_site_to->default: [57797]\n",
      "        Weights: all 1 (default)\n",
      "        Features: none\n"
     ]
    }
   ],
   "source": [
    "print(G.info())"
   ]
  },
  {
   "cell_type": "code",
   "execution_count": 71,
   "metadata": {},
   "outputs": [],
   "source": [
    "node_features_df.to_csv('corpus_2020_mixed_level_0_to_3_node_features.csv')\n",
    "combined_data_corpus_2020_level_0_1_df.to_csv('corpus_2020_mixed_level_0_to_3_labeded_edges.csv', index=False)"
   ]
  },
  {
   "cell_type": "code",
   "execution_count": null,
   "metadata": {},
   "outputs": [],
   "source": []
  }
 ],
 "metadata": {
  "kernelspec": {
   "display_name": "Python 3",
   "language": "python",
   "name": "python3"
  },
  "language_info": {
   "codemirror_mode": {
    "name": "ipython",
    "version": 3
   },
   "file_extension": ".py",
   "mimetype": "text/x-python",
   "name": "python",
   "nbconvert_exporter": "python",
   "pygments_lexer": "ipython3",
   "version": "3.7.9"
  }
 },
 "nbformat": 4,
 "nbformat_minor": 4
}
