{
 "cells": [
  {
   "cell_type": "code",
   "execution_count": 1,
   "metadata": {},
   "outputs": [],
   "source": [
    "import sys,os\n",
    "sys.path.append(\"/home/panayot/Documents/site_similarity\")"
   ]
  },
  {
   "cell_type": "code",
   "execution_count": 2,
   "metadata": {},
   "outputs": [],
   "source": [
    "from utils.notebook_utils import (combined_nodes_referral_sites_audience_overlap,\n",
    "    get_alexa_information_sections, \n",
    "    extract_node_features)"
   ]
  },
  {
   "cell_type": "code",
   "execution_count": 3,
   "metadata": {},
   "outputs": [
    {
     "name": "stdout",
     "output_type": "stream",
     "text": [
      "For file \"corpus_2020_referral_sites.json\" -> load 859 records\n",
      "For file \"corpus_2020_referral_sites_level_1.json\" -> load 2333 records\n",
      "Loaded 3489 nodes with records level <= 1 and child size:16981\n",
      "referral_sites node size: 11371 audience_overlap node size: 17010\n"
     ]
    }
   ],
   "source": [
    "combined_data_corpus_2020_level_0_1 = combined_nodes_referral_sites_audience_overlap(data_year='2020', level=1)"
   ]
  },
  {
   "cell_type": "code",
   "execution_count": 4,
   "metadata": {},
   "outputs": [
    {
     "data": {
      "text/plain": "28381"
     },
     "execution_count": 4,
     "metadata": {},
     "output_type": "execute_result"
    }
   ],
   "source": [
    "len(combined_data_corpus_2020_level_0_1)"
   ]
  },
  {
   "cell_type": "code",
   "execution_count": 5,
   "metadata": {},
   "outputs": [
    {
     "name": "stdout",
     "output_type": "stream",
     "text": [
      "12303\n"
     ]
    }
   ],
   "source": [
    "unique_sites_corpus_2020_level_0_1 = set()\n",
    "\n",
    "for source, target in combined_data_corpus_2020_level_0_1:\n",
    "    unique_sites_corpus_2020_level_0_1.add(source)\n",
    "    unique_sites_corpus_2020_level_0_1.add(target)\n",
    "\n",
    "print(len(unique_sites_corpus_2020_level_0_1))"
   ]
  },
  {
   "cell_type": "code",
   "execution_count": 6,
   "metadata": {},
   "outputs": [
    {
     "data": {
      "text/plain": "0"
     },
     "execution_count": 6,
     "metadata": {},
     "output_type": "execute_result"
    }
   ],
   "source": [
    "import redis as r\n",
    "\n",
    "redis = r.Redis()\n",
    "\n",
    "len([el for el in unique_sites_corpus_2020_level_0_1 if not redis.get(el)])"
   ]
  },
  {
   "cell_type": "code",
   "execution_count": 7,
   "metadata": {},
   "outputs": [],
   "source": [
    "alexa_data_for_nodes = get_alexa_information_sections(unique_sites_corpus_2020_level_0_1, specific_section=None)"
   ]
  },
  {
   "cell_type": "code",
   "execution_count": 8,
   "metadata": {},
   "outputs": [],
   "source": [
    "a = dict(zip(unique_sites_corpus_2020_level_0_1, alexa_data_for_nodes))"
   ]
  },
  {
   "cell_type": "code",
   "execution_count": 9,
   "metadata": {},
   "outputs": [
    {
     "data": {
      "text/plain": "12303"
     },
     "execution_count": 9,
     "metadata": {},
     "output_type": "execute_result"
    }
   ],
   "source": [
    "len(a)"
   ]
  },
  {
   "cell_type": "code",
   "execution_count": 10,
   "metadata": {},
   "outputs": [
    {
     "data": {
      "text/plain": "{'site_rank': '# 1,490,554',\n 'site_rank_over_past_90_days': '532 K',\n 'three_month_rank_data': {},\n 'country_alexa_ranks': []}"
     },
     "execution_count": 10,
     "metadata": {},
     "output_type": "execute_result"
    }
   ],
   "source": [
    "a['sonorannews.com']['alexa_rank']"
   ]
  },
  {
   "cell_type": "code",
   "execution_count": 11,
   "metadata": {},
   "outputs": [
    {
     "data": {
      "text/plain": "{'comparison_metrics': None,\n 'similar_sites_by_audience_overlap': [{'site': 'solarconflict.com',\n   'overlap_score': '13.3'},\n  {'site': 'dobmovies.com', 'overlap_score': '9.0'},\n  {'site': 'cyberspaceandtime.com', 'overlap_score': '7.7'},\n  {'site': 'upschannel.eu', 'overlap_score': '7.6'},\n  {'site': 'i1os.com', 'overlap_score': '7.4'}],\n 'top_industry_topics_by_social_engagement': [],\n 'top_keywords_by_traffic': {'vinespeaker ratha slain': '1.14%',\n  'entel pcs zte iso modem 4shared': '0.43%',\n  'midnight city - m83 / ssup choreography 2 years ago': '0.39%',\n  'gerben en matthea': '0.32%',\n  'grubee tightcase pull start install': '0.32%'},\n 'alexa_rank_90_days_trends': {'alexa_rank': '#2,124,636',\n  'time_on_site': None},\n 'keyword_gaps': [{'keyword': 'ホームページ開設',\n   'avg_traffic_to_competitord': '33',\n   'search_popularity': '33'},\n  {'keyword': 'ウェブサイト開設',\n   'avg_traffic_to_competitord': '33',\n   'search_popularity': '28'},\n  {'keyword': 'hpできました',\n   'avg_traffic_to_competitord': '32',\n   'search_popularity': '26'},\n  {'keyword': 'rixty roblox codes',\n   'avg_traffic_to_competitord': '31',\n   'search_popularity': '9'}],\n 'easy_to_rank_keywords': [{'keyword': 'mon jaane na 2019 mp3',\n   'relevance_to_this_site': '55',\n   'search_popularity': '14'},\n  {'keyword': 'mon jaane na 2019',\n   'relevance_to_this_site': '56',\n   'search_popularity': '16'},\n  {'keyword': 'jibon re prem amar 2',\n   'relevance_to_this_site': '55',\n   'search_popularity': '6'},\n  {'keyword': 'chhiley bondhu finally bhalobasha',\n   'relevance_to_this_site': '52',\n   'search_popularity': '8'}],\n 'buyer_keywords': [{'keyword': '7mwtw7000ew review',\n   'avg_traffic_to_competitord': '25',\n   'organic_competition': '15'},\n  {'keyword': 'sezane farrow bag review',\n   'avg_traffic_to_competitord': '24',\n   'organic_competition': '45'},\n  {'keyword': 'mysirg coupon code',\n   'avg_traffic_to_competitord': '23',\n   'organic_competition': '49'},\n  {'keyword': 'kazik mars napada free mp3 songs download',\n   'avg_traffic_to_competitord': '22',\n   'organic_competition': '49'}],\n 'optimization_opportunities': [{'keyword': 'gsm mailmerge',\n   'search_popularity': '11',\n   'organic_share_of_voice': '3.12%'},\n  {'keyword': 'bfdi marble race',\n   'search_popularity': '15',\n   'organic_share_of_voice': '3.48%'},\n  {'keyword': 'xtramath cheat',\n   'search_popularity': '29',\n   'organic_share_of_voice': '0.6%'},\n  {'keyword': 'how to beat level 10 on use boxmen',\n   'search_popularity': '18',\n   'organic_share_of_voice': '2.29%'}],\n 'top_social_topics': None,\n 'social_engagement': None,\n 'popular_articles': None,\n 'traffic_sources': [{'site': 'cyberspaceandtime.com',\n   'search_percentage': '95.9%'},\n  {'site': 'ru-clip.net', 'search_percentage': '13.3%'},\n  {'site': 'solarconflict.com', 'search_percentage': ''},\n  {'site': 'novom.ru', 'search_percentage': ''},\n  {'site': 'curvetube.com', 'search_percentage': ''}],\n 'referral_sites': [{'site': 'cyberspaceandtime.com',\n   'number_referral_sites': '206'},\n  {'site': 'ru-clip.net', 'number_referral_sites': '65'},\n  {'site': 'curvetube.com', 'number_referral_sites': '50'},\n  {'site': 'solarconflict.com', 'number_referral_sites': '11'},\n  {'site': 'novom.ru', 'number_referral_sites': '4'}],\n 'top_keywords': {'curvetube.com': [{'keyword': 'vinespeaker ratha slain',\n    'search_traffic': '1.14%',\n    'share_of_voice': '3.03%'},\n   {'keyword': 'entel pcs zte iso modem 4shared',\n    'search_traffic': '0.43%',\n    'share_of_voice': '7.75%'},\n   {'keyword': 'midnight city - m83 / ssup choreography 2 years ago',\n    'search_traffic': '0.39%',\n    'share_of_voice': '1.2%'},\n   {'keyword': 'gerben en matthea',\n    'search_traffic': '0.32%',\n    'share_of_voice': '1.08%'},\n   {'keyword': 'grubee tightcase pull start install',\n    'search_traffic': '0.32%',\n    'share_of_voice': '15.59%'}],\n  'cyberspaceandtime.com': [{'keyword': 'damizlikithalat plevne koyunu',\n    'search_traffic': '0.64%',\n    'share_of_voice': '7.38%'},\n   {'keyword': 'envato purchase code hack',\n    'search_traffic': '0.46%',\n    'share_of_voice': '21.82%'},\n   {'keyword': 'jio vodafone idea airtel bsnl aircel sim का number कैसे निकाले',\n    'search_traffic': '0.36%',\n    'share_of_voice': '5.24%'},\n   {'keyword': 'savi chetana lyrics',\n    'search_traffic': '0.35%',\n    'share_of_voice': '6.11%'},\n   {'keyword': 'cemu - message mise a jour console',\n    'search_traffic': '0.33%',\n    'share_of_voice': '29.23%'}],\n  'solarconflict.com': [{'keyword': 'opening to how the grinch stole christmas 2001 vhs',\n    'search_traffic': '2.17%',\n    'share_of_voice': '2.27%'},\n   {'keyword': 'entel pcs zte iso modem 4shared',\n    'search_traffic': '0.64%',\n    'share_of_voice': '3.39%'},\n   {'keyword': 'opening to scooby doo 2002 vhs',\n    'search_traffic': '0.62%',\n    'share_of_voice': '0.56%'},\n   {'keyword': 'combination file j730 bit4',\n    'search_traffic': '0.58%',\n    'share_of_voice': '15.33%'},\n   {'keyword': 'trepacer instagram',\n    'search_traffic': '0.58%',\n    'share_of_voice': '0.23%'}],\n  'ru-clip.net': [{'keyword': 'sportsarefree.xyz alternative',\n    'search_traffic': '0.53%',\n    'share_of_voice': '27.11%'},\n   {'keyword': 'kaybedenler kulübü otobüste bayan yanı tam kayıt',\n    'search_traffic': '0.27%',\n    'share_of_voice': '11.77%'},\n   {'keyword': 'netflix devonneicons',\n    'search_traffic': '0.2%',\n    'share_of_voice': '6.4%'},\n   {'keyword': 'frankie by cafe des belugas',\n    'search_traffic': '0.19%',\n    'share_of_voice': '3.5%'},\n   {'keyword': 'sportsarefree xyz alternative',\n    'search_traffic': '0.18%',\n    'share_of_voice': '14.13%'}],\n  'novom.ru': [{'keyword': 'andrebreland213 wikia',\n    'search_traffic': '0.14%',\n    'share_of_voice': '11.18%'},\n   {'keyword': 'googlehelper.net shadowbroken',\n    'search_traffic': '0.11%',\n    'share_of_voice': '56.37%'},\n   {'keyword': 'alchemy lute & harp',\n    'search_traffic': '0.11%',\n    'share_of_voice': '3.14%'},\n   {'keyword': 'google.comфизрук смотреть',\n    'search_traffic': '0.09%',\n    'share_of_voice': '4.22%'},\n   {'keyword': 'журналістка розповіла чому поїхала із україни лунгор світлана',\n    'search_traffic': '0.09%',\n    'share_of_voice': '27.92%'}]},\n 'audience_overlap': [{'site': 'solarconflict.com',\n   'alexa_rank': '6,782,363',\n   'overlap_score': '13.3'},\n  {'site': 'dobmovies.com', 'alexa_rank': '-', 'overlap_score': '9'},\n  {'site': 'cyberspaceandtime.com',\n   'alexa_rank': '19,272',\n   'overlap_score': '7.7'},\n  {'site': 'upschannel.eu', 'alexa_rank': '-', 'overlap_score': '7.6'},\n  {'site': 'i1os.com', 'alexa_rank': '-', 'overlap_score': '7.4'}],\n 'alexa_rank': {'site_rank': '# 2,124,636',\n  'site_rank_over_past_90_days': '8.24 M',\n  'three_month_rank_data': {},\n  'country_alexa_ranks': []},\n 'audience_geography_in_past_30_days': {},\n 'site_metrics': {'daily_pageviews_per_visitor': '1',\n  'daily_pageviews_per_visitor_for_the_last_90_days': None,\n  'daily_time_on_site': None,\n  'daily_time_on_site_for_the_last_90_days': None,\n  'bounce_rate': None,\n  'bounce_rate_for_the_last_90_days': None,\n  'traffic_source_search': None,\n  'visited_just_before': None,\n  'visited_right_after': None,\n  'total_sites_linking_in': '50'}}"
     },
     "execution_count": 11,
     "metadata": {},
     "output_type": "execute_result"
    }
   ],
   "source": [
    "a['curvetube.com']"
   ]
  },
  {
   "cell_type": "code",
   "execution_count": 12,
   "metadata": {},
   "outputs": [
    {
     "data": {
      "text/plain": "[]"
     },
     "execution_count": 12,
     "metadata": {},
     "output_type": "execute_result"
    }
   ],
   "source": [
    "[k for k, v in a.items() if not v.get('alexa_rank')][:10]"
   ]
  },
  {
   "cell_type": "code",
   "execution_count": 13,
   "metadata": {},
   "outputs": [],
   "source": [
    "df_indexs, node_features = extract_node_features(a)\n",
    "\n",
    "print('df_indexs', len(df_indexs))\n",
    "print('alexa_ranks', len(node_features['alexa_ranks']))\n",
    "print('daily_pageviews_per_visitors', len(node_features['daily_pageviews_per_visitors']))\n",
    "print('daily_time_on_sites', len(node_features['daily_time_on_sites']))\n",
    "print('total_sites_linking_ins', len(node_features['total_sites_linking_ins']))\n",
    "print('bounce_rate', len(node_features['bounce_rate']))"
   ]
  },
  {
   "cell_type": "code",
   "execution_count": 19,
   "metadata": {},
   "outputs": [
    {
     "data": {
      "text/html": "<div>\n<style scoped>\n    .dataframe tbody tr th:only-of-type {\n        vertical-align: middle;\n    }\n\n    .dataframe tbody tr th {\n        vertical-align: top;\n    }\n\n    .dataframe thead th {\n        text-align: right;\n    }\n</style>\n<table border=\"1\" class=\"dataframe\">\n  <thead>\n    <tr style=\"text-align: right;\">\n      <th></th>\n      <th>alexa_ranks</th>\n      <th>daily_pageviews_per_visitors</th>\n      <th>daily_time_on_sites</th>\n      <th>total_sites_linking_ins</th>\n      <th>bounce_rate</th>\n    </tr>\n  </thead>\n  <tbody>\n    <tr>\n      <th>gradescope.com</th>\n      <td>11014.0</td>\n      <td>4.7</td>\n      <td>296.0</td>\n      <td>103.0</td>\n      <td>0.222</td>\n    </tr>\n    <tr>\n      <th>parentlink.net</th>\n      <td>151438.0</td>\n      <td>3.0</td>\n      <td>203.0</td>\n      <td>93.0</td>\n      <td>0.301</td>\n    </tr>\n    <tr>\n      <th>nationalpartnership.org</th>\n      <td>604522.0</td>\n      <td>1.3</td>\n      <td>156.0</td>\n      <td>811.0</td>\n      <td>0.765</td>\n    </tr>\n    <tr>\n      <th>sharondraper.com</th>\n      <td>1209734.0</td>\n      <td>2.0</td>\n      <td>109.0</td>\n      <td>209.0</td>\n      <td>0.615</td>\n    </tr>\n    <tr>\n      <th>trade.gov</th>\n      <td>55944.0</td>\n      <td>1.9</td>\n      <td>137.0</td>\n      <td>2392.0</td>\n      <td>0.654</td>\n    </tr>\n  </tbody>\n</table>\n</div>",
      "text/plain": "                         alexa_ranks  daily_pageviews_per_visitors  \\\ngradescope.com               11014.0                           4.7   \nparentlink.net              151438.0                           3.0   \nnationalpartnership.org     604522.0                           1.3   \nsharondraper.com           1209734.0                           2.0   \ntrade.gov                    55944.0                           1.9   \n\n                         daily_time_on_sites  total_sites_linking_ins  \\\ngradescope.com                         296.0                    103.0   \nparentlink.net                         203.0                     93.0   \nnationalpartnership.org                156.0                    811.0   \nsharondraper.com                       109.0                    209.0   \ntrade.gov                              137.0                   2392.0   \n\n                         bounce_rate  \ngradescope.com                 0.222  \nparentlink.net                 0.301  \nnationalpartnership.org        0.765  \nsharondraper.com               0.615  \ntrade.gov                      0.654  "
     },
     "execution_count": 19,
     "metadata": {},
     "output_type": "execute_result"
    }
   ],
   "source": [
    "import pandas as pd\n",
    "\n",
    "node_features_df = pd.DataFrame(node_features, index=df_indexs)\n",
    "\n",
    "node_features_df.head()"
   ]
  },
  {
   "cell_type": "code",
   "execution_count": 20,
   "metadata": {},
   "outputs": [
    {
     "name": "stdout",
     "output_type": "stream",
     "text": [
      "<class 'pandas.core.frame.DataFrame'>\n",
      "Index: 12303 entries, gradescope.com to growveg.com\n",
      "Data columns (total 5 columns):\n",
      " #   Column                        Non-Null Count  Dtype  \n",
      "---  ------                        --------------  -----  \n",
      " 0   alexa_ranks                   9128 non-null   float64\n",
      " 1   daily_pageviews_per_visitors  9129 non-null   float64\n",
      " 2   daily_time_on_sites           6780 non-null   float64\n",
      " 3   total_sites_linking_ins       11966 non-null  float64\n",
      " 4   bounce_rate                   6300 non-null   float64\n",
      "dtypes: float64(5)\n",
      "memory usage: 576.7+ KB\n"
     ]
    }
   ],
   "source": [
    "node_features_df.info()"
   ]
  },
  {
   "cell_type": "code",
   "execution_count": 24,
   "metadata": {},
   "outputs": [
    {
     "data": {
      "text/html": "<div>\n<style scoped>\n    .dataframe tbody tr th:only-of-type {\n        vertical-align: middle;\n    }\n\n    .dataframe tbody tr th {\n        vertical-align: top;\n    }\n\n    .dataframe thead th {\n        text-align: right;\n    }\n</style>\n<table border=\"1\" class=\"dataframe\">\n  <thead>\n    <tr style=\"text-align: right;\">\n      <th></th>\n      <th>source</th>\n      <th>target</th>\n    </tr>\n  </thead>\n  <tbody>\n    <tr>\n      <th>0</th>\n      <td>crooked.com</td>\n      <td>votesaveamerica.com</td>\n    </tr>\n    <tr>\n      <th>1</th>\n      <td>crooked.com</td>\n      <td>art19.com</td>\n    </tr>\n    <tr>\n      <th>2</th>\n      <td>crooked.com</td>\n      <td>promocodeportal.com</td>\n    </tr>\n    <tr>\n      <th>3</th>\n      <td>crooked.com</td>\n      <td>mediamatters.org</td>\n    </tr>\n    <tr>\n      <th>4</th>\n      <td>crooked.com</td>\n      <td>actblue.com</td>\n    </tr>\n  </tbody>\n</table>\n</div>",
      "text/plain": "        source               target\n0  crooked.com  votesaveamerica.com\n1  crooked.com            art19.com\n2  crooked.com  promocodeportal.com\n3  crooked.com     mediamatters.org\n4  crooked.com          actblue.com"
     },
     "execution_count": 24,
     "metadata": {},
     "output_type": "execute_result"
    }
   ],
   "source": [
    "combined_data_corpus_2020_level_0_1_df = pd.DataFrame(combined_data_corpus_2020_level_0_1, columns=['source', 'target'])\n",
    "\n",
    "combined_data_corpus_2020_level_0_1_df.head()"
   ]
  },
  {
   "cell_type": "code",
   "execution_count": 25,
   "metadata": {},
   "outputs": [],
   "source": [
    "import stellargraph as sg\n",
    "\n",
    "G = sg.StellarGraph(node_features_df, edges=combined_data_corpus_2020_level_0_1_df[['source', 'target']])"
   ]
  },
  {
   "cell_type": "code",
   "execution_count": 27,
   "metadata": {},
   "outputs": [
    {
     "name": "stdout",
     "output_type": "stream",
     "text": [
      "StellarGraph: Undirected multigraph\n",
      " Nodes: 12303, Edges: 28381\n",
      "\n",
      " Node types:\n",
      "  default: [12303]\n",
      "    Features: float32 vector, length 5\n",
      "    Edge types: default-default->default\n",
      "\n",
      " Edge types:\n",
      "    default-default->default: [28381]\n",
      "        Weights: all 1 (default)\n",
      "        Features: none\n"
     ]
    }
   ],
   "source": [
    "print(G.info())"
   ]
  },
  {
   "cell_type": "code",
   "execution_count": 28,
   "metadata": {},
   "outputs": [],
   "source": [
    "node_features_df.to_csv('corpus_2020_audience_overlap_level_0_and_1_node_features.csv')\n",
    "combined_data_corpus_2020_level_0_1_df[['source', 'target']].to_csv('combined_data_corpus_2020_level_0_1_df_edges.csv', index=False)"
   ]
  },
  {
   "cell_type": "code",
   "execution_count": null,
   "metadata": {},
   "outputs": [],
   "source": []
  }
 ],
 "metadata": {
  "kernelspec": {
   "display_name": "Python 3.7.9 64-bit ('site_similarity': conda)",
   "metadata": {
    "interpreter": {
     "hash": "72b3faef5542ae75c34eb0d3b11ce0fc432eb00b9ccfc309dfbebb58f482608a"
    }
   },
   "name": "python3"
  },
  "language_info": {
   "codemirror_mode": {
    "name": "ipython",
    "version": 3
   },
   "file_extension": ".py",
   "mimetype": "text/x-python",
   "name": "python",
   "nbconvert_exporter": "python",
   "pygments_lexer": "ipython3",
   "version": "3.7.9"
  },
  "orig_nbformat": 2
 },
 "nbformat": 4,
 "nbformat_minor": 2
}