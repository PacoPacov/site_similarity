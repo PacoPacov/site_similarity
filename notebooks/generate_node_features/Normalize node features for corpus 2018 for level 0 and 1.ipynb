{
 "cells": [
  {
   "cell_type": "code",
   "execution_count": 1,
   "metadata": {},
   "outputs": [],
   "source": [
    "import sys,os\n",
    "sys.path.append(\"C:\\\\Users\\\\Paco\\\\Documents\\\\site_similarity\")"
   ]
  },
  {
   "cell_type": "code",
   "execution_count": 10,
   "metadata": {},
   "outputs": [],
   "source": [
    "from utils.notebook_utils import load_level_data, _DATA_PATH, load_json, create_nodes"
   ]
  },
  {
   "cell_type": "code",
   "execution_count": 3,
   "metadata": {},
   "outputs": [
    {
     "name": "stdout",
     "output_type": "stream",
     "text": [
      "1062\n",
      "2835\n"
     ]
    }
   ],
   "source": [
    "files = [\n",
    "    os.path.join(_DATA_PATH, 'modified_corpus_2018_referral_sites.json'), \n",
    "    os.path.join(_DATA_PATH, 'modified_corpus_2018_referral_sites_level_1.json'),\n",
    "    # os.path.join(_DATA_PATH, 'modified_corpus_2018_referral_sites_level_2.json'),\n",
    "]\n",
    "\n",
    "corpus_2018_referral_sites_level_0_and_1 = {}\n",
    "\n",
    "for f in files:\n",
    "    loaded_data = load_json(f)\n",
    "    print(len(loaded_data))\n",
    "    corpus_2018_referral_sites_level_0_and_1.update(loaded_data)"
   ]
  },
  {
   "cell_type": "code",
   "execution_count": 7,
   "metadata": {},
   "outputs": [],
   "source": [
    "corpus_2018_referral_sites_level_0_and_1_nodes = []\n",
    "\n",
    "for base_url, referral_sites in corpus_2018_referral_sites_level_0_and_1.items():\n",
    "    for referral_site, _ in referral_sites:\n",
    "        if referral_site != base_url:\n",
    "            corpus_2018_referral_sites_level_0_and_1_nodes.append((base_url, referral_site))"
   ]
  },
  {
   "cell_type": "code",
   "execution_count": 8,
   "metadata": {},
   "outputs": [
    {
     "data": {
      "text/plain": [
       "[('villagevoice.com', 'gothamist.com'),\n",
       " ('villagevoice.com', 'amny.com'),\n",
       " ('villagevoice.com', 'robertchristgau.com'),\n",
       " ('villagevoice.com', 'tonyortega.org'),\n",
       " ('insideclimatenews.org', 'climatecentral.org'),\n",
       " ('insideclimatenews.org', 'skepticalscience.com'),\n",
       " ('insideclimatenews.org', 'eenews.net'),\n",
       " ('insideclimatenews.org', 'carbonbrief.org'),\n",
       " ('now8news.com', 'notallowedto.com'),\n",
       " ('now8news.com', 'testicularcancer.org')]"
      ]
     },
     "execution_count": 8,
     "metadata": {},
     "output_type": "execute_result"
    }
   ],
   "source": [
    "corpus_2018_referral_sites_level_0_and_1_nodes[:10]"
   ]
  },
  {
   "cell_type": "code",
   "execution_count": 9,
   "metadata": {},
   "outputs": [
    {
     "data": {
      "text/plain": [
       "13530"
      ]
     },
     "execution_count": 9,
     "metadata": {},
     "output_type": "execute_result"
    }
   ],
   "source": [
    "len(corpus_2018_referral_sites_level_0_and_1_nodes)"
   ]
  },
  {
   "cell_type": "code",
   "execution_count": 13,
   "metadata": {},
   "outputs": [
    {
     "name": "stdout",
     "output_type": "stream",
     "text": [
      "Loaded 4238 nodes with records level <= 1 and child size:20335\n"
     ]
    }
   ],
   "source": [
    "# corpus_2018_audience_overlap_level_0_and_1 = []\n",
    "\n",
    "corpus_2018_audience_overlap_level_0_and_1 = load_level_data(os.path.join(_DATA_PATH, 'corpus_2018_audience_overlap_sites_scrapping_result.json'), level=1)"
   ]
  },
  {
   "cell_type": "code",
   "execution_count": 14,
   "metadata": {},
   "outputs": [
    {
     "data": {
      "text/plain": [
       "4238"
      ]
     },
     "execution_count": 14,
     "metadata": {},
     "output_type": "execute_result"
    }
   ],
   "source": [
    "len(corpus_2018_audience_overlap_level_0_and_1)"
   ]
  },
  {
   "cell_type": "code",
   "execution_count": 16,
   "metadata": {},
   "outputs": [
    {
     "data": {
      "text/plain": [
       "{'sites': 'villagevoice.com',\n",
       " 'overlap_sites': [{'url': 'nylon.com',\n",
       "   'overlap_score': 4.1,\n",
       "   'alexa_rank': 51694.0},\n",
       "  {'url': 'slantmagazine.com', 'overlap_score': 2.5, 'alexa_rank': 92418.0},\n",
       "  {'url': 'gothamist.com', 'overlap_score': 2.4, 'alexa_rank': 16813.0},\n",
       "  {'url': 'screendaily.com', 'overlap_score': 2.1, 'alexa_rank': 110772.0},\n",
       "  {'url': 'amny.com', 'overlap_score': 2.1, 'alexa_rank': 69192.0}],\n",
       " 'referal_sites': [['villagevoice.com', '13.1 k'],\n",
       "  ['gothamist.com', '8.5 k'],\n",
       "  ['amny.com', '2.1 k'],\n",
       "  ['robertchristgau.com', '701'],\n",
       "  ['tonyortega.org', '424']],\n",
       " 'audience_geography': [{'country': 'United States', 'percent': 77.2}],\n",
       " 'levels': 0,\n",
       " 'created_timestamp': 1593460515}"
      ]
     },
     "execution_count": 16,
     "metadata": {},
     "output_type": "execute_result"
    }
   ],
   "source": [
    "corpus_2018_audience_overlap_level_0_and_1['villagevoice.com']"
   ]
  },
  {
   "cell_type": "code",
   "execution_count": 17,
   "metadata": {},
   "outputs": [],
   "source": [
    "corpus_2018_audience_overlap_level_0_and_1_nodes = create_nodes(corpus_2018_audience_overlap_level_0_and_1)"
   ]
  },
  {
   "cell_type": "code",
   "execution_count": 18,
   "metadata": {},
   "outputs": [
    {
     "data": {
      "text/plain": [
       "[('villagevoice.com', 'nylon.com'),\n",
       " ('villagevoice.com', 'slantmagazine.com'),\n",
       " ('villagevoice.com', 'gothamist.com'),\n",
       " ('villagevoice.com', 'screendaily.com'),\n",
       " ('villagevoice.com', 'amny.com'),\n",
       " ('insideclimatenews.org', 'wri.org'),\n",
       " ('insideclimatenews.org', 'carbonbrief.org'),\n",
       " ('insideclimatenews.org', 'oneonta.edu'),\n",
       " ('insideclimatenews.org', 'skepticalscience.com'),\n",
       " ('insideclimatenews.org', 'ucsusa.org')]"
      ]
     },
     "execution_count": 18,
     "metadata": {},
     "output_type": "execute_result"
    }
   ],
   "source": [
    "corpus_2018_audience_overlap_level_0_and_1_nodes[:10]"
   ]
  },
  {
   "cell_type": "code",
   "execution_count": 19,
   "metadata": {},
   "outputs": [
    {
     "data": {
      "text/plain": [
       "20399"
      ]
     },
     "execution_count": 19,
     "metadata": {},
     "output_type": "execute_result"
    }
   ],
   "source": [
    "len(corpus_2018_audience_overlap_level_0_and_1_nodes)"
   ]
  },
  {
   "cell_type": "code",
   "execution_count": 20,
   "metadata": {},
   "outputs": [],
   "source": [
    "import pandas as pd"
   ]
  },
  {
   "cell_type": "code",
   "execution_count": 21,
   "metadata": {},
   "outputs": [],
   "source": [
    "corpus_2018_audience_overlap_level_0_and_1_df = pd.DataFrame(corpus_2018_audience_overlap_level_0_and_1_nodes, columns=['source', 'target'])\n",
    "\n",
    "corpus_2018_referral_sites_level_0_and_1_df = pd.DataFrame(corpus_2018_referral_sites_level_0_and_1_nodes, columns=['source', 'target'])"
   ]
  },
  {
   "cell_type": "code",
   "execution_count": 22,
   "metadata": {},
   "outputs": [],
   "source": [
    "corpus_2018_audience_overlap_level_0_and_1_df['type'] = 'similar_by_audience_overlap_to'\n",
    "\n",
    "corpus_2018_referral_sites_level_0_and_1_df['type'] = 'referral_site_to'"
   ]
  },
  {
   "cell_type": "code",
   "execution_count": 23,
   "metadata": {},
   "outputs": [
    {
     "data": {
      "text/html": [
       "<div>\n",
       "<style scoped>\n",
       "    .dataframe tbody tr th:only-of-type {\n",
       "        vertical-align: middle;\n",
       "    }\n",
       "\n",
       "    .dataframe tbody tr th {\n",
       "        vertical-align: top;\n",
       "    }\n",
       "\n",
       "    .dataframe thead th {\n",
       "        text-align: right;\n",
       "    }\n",
       "</style>\n",
       "<table border=\"1\" class=\"dataframe\">\n",
       "  <thead>\n",
       "    <tr style=\"text-align: right;\">\n",
       "      <th></th>\n",
       "      <th>source</th>\n",
       "      <th>target</th>\n",
       "      <th>type</th>\n",
       "    </tr>\n",
       "  </thead>\n",
       "  <tbody>\n",
       "    <tr>\n",
       "      <th>0</th>\n",
       "      <td>villagevoice.com</td>\n",
       "      <td>nylon.com</td>\n",
       "      <td>similar_by_audience_overlap_to</td>\n",
       "    </tr>\n",
       "    <tr>\n",
       "      <th>1</th>\n",
       "      <td>villagevoice.com</td>\n",
       "      <td>slantmagazine.com</td>\n",
       "      <td>similar_by_audience_overlap_to</td>\n",
       "    </tr>\n",
       "    <tr>\n",
       "      <th>2</th>\n",
       "      <td>villagevoice.com</td>\n",
       "      <td>gothamist.com</td>\n",
       "      <td>similar_by_audience_overlap_to</td>\n",
       "    </tr>\n",
       "    <tr>\n",
       "      <th>3</th>\n",
       "      <td>villagevoice.com</td>\n",
       "      <td>screendaily.com</td>\n",
       "      <td>similar_by_audience_overlap_to</td>\n",
       "    </tr>\n",
       "    <tr>\n",
       "      <th>4</th>\n",
       "      <td>villagevoice.com</td>\n",
       "      <td>amny.com</td>\n",
       "      <td>similar_by_audience_overlap_to</td>\n",
       "    </tr>\n",
       "  </tbody>\n",
       "</table>\n",
       "</div>"
      ],
      "text/plain": [
       "             source             target                            type\n",
       "0  villagevoice.com          nylon.com  similar_by_audience_overlap_to\n",
       "1  villagevoice.com  slantmagazine.com  similar_by_audience_overlap_to\n",
       "2  villagevoice.com      gothamist.com  similar_by_audience_overlap_to\n",
       "3  villagevoice.com    screendaily.com  similar_by_audience_overlap_to\n",
       "4  villagevoice.com           amny.com  similar_by_audience_overlap_to"
      ]
     },
     "execution_count": 23,
     "metadata": {},
     "output_type": "execute_result"
    }
   ],
   "source": [
    "corpus_2018_audience_overlap_level_0_and_1_df.head()"
   ]
  },
  {
   "cell_type": "code",
   "execution_count": 34,
   "metadata": {},
   "outputs": [],
   "source": [
    "# Combine audience_overlap data with referral_sites data to create heterogeneous graph based on edged"
   ]
  },
  {
   "cell_type": "code",
   "execution_count": 41,
   "metadata": {},
   "outputs": [],
   "source": [
    "corpus_2018_level_0_1_audience_overlap_and_referral_sites_edges = pd.concat([corpus_2018_audience_overlap_level_0_and_1_df, corpus_2018_referral_sites_level_0_and_1_df], ignore_index=True)"
   ]
  },
  {
   "cell_type": "code",
   "execution_count": 42,
   "metadata": {},
   "outputs": [
    {
     "data": {
      "text/plain": [
       "33929"
      ]
     },
     "execution_count": 42,
     "metadata": {},
     "output_type": "execute_result"
    }
   ],
   "source": [
    "len(corpus_2018_level_0_1_audience_overlap_and_referral_sites_edges)"
   ]
  },
  {
   "cell_type": "code",
   "execution_count": 43,
   "metadata": {},
   "outputs": [
    {
     "data": {
      "text/plain": [
       "(13530, 20399)"
      ]
     },
     "execution_count": 43,
     "metadata": {},
     "output_type": "execute_result"
    }
   ],
   "source": [
    "len(corpus_2018_referral_sites_level_0_and_1_df), len(corpus_2018_audience_overlap_level_0_and_1_df)"
   ]
  },
  {
   "cell_type": "code",
   "execution_count": 44,
   "metadata": {},
   "outputs": [
    {
     "name": "stdout",
     "output_type": "stream",
     "text": [
      "<class 'pandas.core.frame.DataFrame'>\n",
      "RangeIndex: 33929 entries, 0 to 33928\n",
      "Data columns (total 3 columns):\n",
      " #   Column  Non-Null Count  Dtype \n",
      "---  ------  --------------  ----- \n",
      " 0   source  33929 non-null  object\n",
      " 1   target  33929 non-null  object\n",
      " 2   type    33929 non-null  object\n",
      "dtypes: object(3)\n",
      "memory usage: 795.3+ KB\n"
     ]
    }
   ],
   "source": [
    "corpus_2018_level_0_1_audience_overlap_and_referral_sites_edges.info()"
   ]
  },
  {
   "cell_type": "code",
   "execution_count": 45,
   "metadata": {},
   "outputs": [
    {
     "data": {
      "text/html": [
       "<div>\n",
       "<style scoped>\n",
       "    .dataframe tbody tr th:only-of-type {\n",
       "        vertical-align: middle;\n",
       "    }\n",
       "\n",
       "    .dataframe tbody tr th {\n",
       "        vertical-align: top;\n",
       "    }\n",
       "\n",
       "    .dataframe thead th {\n",
       "        text-align: right;\n",
       "    }\n",
       "</style>\n",
       "<table border=\"1\" class=\"dataframe\">\n",
       "  <thead>\n",
       "    <tr style=\"text-align: right;\">\n",
       "      <th></th>\n",
       "      <th>source</th>\n",
       "      <th>target</th>\n",
       "      <th>type</th>\n",
       "    </tr>\n",
       "  </thead>\n",
       "  <tbody>\n",
       "    <tr>\n",
       "      <th>0</th>\n",
       "      <td>villagevoice.com</td>\n",
       "      <td>nylon.com</td>\n",
       "      <td>similar_by_audience_overlap_to</td>\n",
       "    </tr>\n",
       "    <tr>\n",
       "      <th>1</th>\n",
       "      <td>villagevoice.com</td>\n",
       "      <td>slantmagazine.com</td>\n",
       "      <td>similar_by_audience_overlap_to</td>\n",
       "    </tr>\n",
       "    <tr>\n",
       "      <th>2</th>\n",
       "      <td>villagevoice.com</td>\n",
       "      <td>gothamist.com</td>\n",
       "      <td>similar_by_audience_overlap_to</td>\n",
       "    </tr>\n",
       "    <tr>\n",
       "      <th>3</th>\n",
       "      <td>villagevoice.com</td>\n",
       "      <td>screendaily.com</td>\n",
       "      <td>similar_by_audience_overlap_to</td>\n",
       "    </tr>\n",
       "    <tr>\n",
       "      <th>4</th>\n",
       "      <td>villagevoice.com</td>\n",
       "      <td>amny.com</td>\n",
       "      <td>similar_by_audience_overlap_to</td>\n",
       "    </tr>\n",
       "  </tbody>\n",
       "</table>\n",
       "</div>"
      ],
      "text/plain": [
       "             source             target                            type\n",
       "0  villagevoice.com          nylon.com  similar_by_audience_overlap_to\n",
       "1  villagevoice.com  slantmagazine.com  similar_by_audience_overlap_to\n",
       "2  villagevoice.com      gothamist.com  similar_by_audience_overlap_to\n",
       "3  villagevoice.com    screendaily.com  similar_by_audience_overlap_to\n",
       "4  villagevoice.com           amny.com  similar_by_audience_overlap_to"
      ]
     },
     "execution_count": 45,
     "metadata": {},
     "output_type": "execute_result"
    }
   ],
   "source": [
    "corpus_2018_level_0_1_audience_overlap_and_referral_sites_edges.head()"
   ]
  },
  {
   "cell_type": "code",
   "execution_count": 46,
   "metadata": {},
   "outputs": [
    {
     "data": {
      "text/plain": [
       "RangeIndex(start=0, stop=33929, step=1)"
      ]
     },
     "execution_count": 46,
     "metadata": {},
     "output_type": "execute_result"
    }
   ],
   "source": [
    "corpus_2018_level_0_1_audience_overlap_and_referral_sites_edges.index"
   ]
  },
  {
   "cell_type": "code",
   "execution_count": 47,
   "metadata": {},
   "outputs": [],
   "source": [
    "import stellargraph as sg"
   ]
  },
  {
   "cell_type": "code",
   "execution_count": 48,
   "metadata": {},
   "outputs": [],
   "source": [
    "G = sg.StellarGraph(edges=corpus_2018_level_0_1_audience_overlap_and_referral_sites_edges, edge_type_column='type')"
   ]
  },
  {
   "cell_type": "code",
   "execution_count": 49,
   "metadata": {},
   "outputs": [
    {
     "name": "stdout",
     "output_type": "stream",
     "text": [
      "StellarGraph: Undirected multigraph\n",
      " Nodes: 14375, Edges: 33929\n",
      "\n",
      " Node types:\n",
      "  default: [14375]\n",
      "    Features: none\n",
      "    Edge types: default-referral_site_to->default, default-similar_by_audience_overlap_to->default\n",
      "\n",
      " Edge types:\n",
      "    default-similar_by_audience_overlap_to->default: [20399]\n",
      "        Weights: all 1 (default)\n",
      "        Features: none\n",
      "    default-referral_site_to->default: [13530]\n",
      "        Weights: all 1 (default)\n",
      "        Features: none\n"
     ]
    }
   ],
   "source": [
    "print(G.info())"
   ]
  },
  {
   "cell_type": "code",
   "execution_count": 53,
   "metadata": {},
   "outputs": [],
   "source": [
    "ids = load_json('..\\extracted_alexarank_data_ids.json')"
   ]
  },
  {
   "cell_type": "code",
   "execution_count": 54,
   "metadata": {},
   "outputs": [
    {
     "data": {
      "text/plain": [
       "['crotonmusiccenter.com',\n",
       " 'writerchick99.wordpress.com',\n",
       " 'extremehealthradio.com',\n",
       " 'silverfarm.podbean.com',\n",
       " 'thedonkeysanctuary.org.uk',\n",
       " 'aklaa.com',\n",
       " 'empathywines.com',\n",
       " 'gracefuneralhome.com',\n",
       " 'joincircles.net',\n",
       " 'lovefraud.com']"
      ]
     },
     "execution_count": 54,
     "metadata": {},
     "output_type": "execute_result"
    }
   ],
   "source": [
    "ids[:10]"
   ]
  },
  {
   "cell_type": "code",
   "execution_count": 56,
   "metadata": {},
   "outputs": [
    {
     "data": {
      "text/plain": [
       "True"
      ]
     },
     "execution_count": 56,
     "metadata": {},
     "output_type": "execute_result"
    }
   ],
   "source": [
    "all(el in ids for el in corpus_2018_level_0_1_audience_overlap_and_referral_sites_edges.source.values.tolist())"
   ]
  },
  {
   "cell_type": "code",
   "execution_count": 58,
   "metadata": {},
   "outputs": [],
   "source": [
    "corpus_2018_audience_overlap_level_0_and_1_distinct_nodes = set()\n",
    "\n",
    "for el in corpus_2018_audience_overlap_level_0_and_1_nodes:\n",
    "    corpus_2018_audience_overlap_level_0_and_1_distinct_nodes.add(el[0])\n",
    "    corpus_2018_audience_overlap_level_0_and_1_distinct_nodes.add(el[1])"
   ]
  },
  {
   "cell_type": "code",
   "execution_count": 59,
   "metadata": {},
   "outputs": [
    {
     "data": {
      "text/plain": [
       "11865"
      ]
     },
     "execution_count": 59,
     "metadata": {},
     "output_type": "execute_result"
    }
   ],
   "source": [
    "len(corpus_2018_audience_overlap_level_0_and_1_distinct_nodes)"
   ]
  },
  {
   "cell_type": "code",
   "execution_count": 74,
   "metadata": {},
   "outputs": [],
   "source": [
    "import json\n",
    "\n",
    "def get_alexarank_data(file_name, target_sites):\n",
    "    with open(file_name) as f:\n",
    "        for line in f:\n",
    "            parsed_json = json.loads(line)\n",
    "            parsed_site = list(parsed_json.keys())[0]\n",
    "\n",
    "            if parsed_site in target_sites:\n",
    "                yield parsed_json"
   ]
  },
  {
   "cell_type": "code",
   "execution_count": 139,
   "metadata": {},
   "outputs": [],
   "source": [
    "corpus_2018_audience_overlap_level_0_and_1_alexarank_data = get_alexarank_data('../extracted_alexarank_data.jsonl', corpus_2018_audience_overlap_level_0_and_1_distinct_nodes)"
   ]
  },
  {
   "cell_type": "code",
   "execution_count": 140,
   "metadata": {},
   "outputs": [],
   "source": [
    "res = {}\n",
    "\n",
    "for el in corpus_2018_audience_overlap_level_0_and_1_alexarank_data:\n",
    "    site_name = list(el.keys())[0]\n",
    "\n",
    "    res[site_name] = {}\n",
    "    res[site_name]['alexa_rank'] = el[site_name]['alexa_rank']['site_rank']\n",
    "    res[site_name]['site_metrics'] = el[site_name]['site_metrics']"
   ]
  },
  {
   "cell_type": "code",
   "execution_count": 141,
   "metadata": {},
   "outputs": [
    {
     "data": {
      "text/plain": [
       "True"
      ]
     },
     "execution_count": 141,
     "metadata": {},
     "output_type": "execute_result"
    }
   ],
   "source": [
    "all(site in res for site in ['crotonmusiccenter.com', 'gracefuneralhome.com'])"
   ]
  },
  {
   "cell_type": "code",
   "execution_count": 142,
   "metadata": {},
   "outputs": [
    {
     "data": {
      "text/plain": [
       "11865"
      ]
     },
     "execution_count": 142,
     "metadata": {},
     "output_type": "execute_result"
    }
   ],
   "source": [
    "len(res)"
   ]
  },
  {
   "cell_type": "code",
   "execution_count": 143,
   "metadata": {},
   "outputs": [
    {
     "data": {
      "text/plain": [
       "('gracefuneralhome.com',\n",
       " {'alexa_rank': None,\n",
       "  'site_metrics': {'daily_pageviews_per_visitor': None,\n",
       "   'daily_pageviews_per_visitor_for_the_last_90_days': None,\n",
       "   'daily_time_on_site': None,\n",
       "   'daily_time_on_site_for_the_last_90_days': None,\n",
       "   'bounce_rate': None,\n",
       "   'bounce_rate_for_the_last_90_days': None,\n",
       "   'traffic_source_search': None,\n",
       "   'visited_just_before': None,\n",
       "   'visited_right_after': None,\n",
       "   'total_sites_linking_in': '4'}})"
      ]
     },
     "execution_count": 143,
     "metadata": {},
     "output_type": "execute_result"
    }
   ],
   "source": [
    "list(res.items())[1]"
   ]
  },
  {
   "cell_type": "code",
   "execution_count": 149,
   "metadata": {},
   "outputs": [],
   "source": [
    "def extract_node_features(res):\n",
    "    df_indexs = []\n",
    "    alexa_ranks = []\n",
    "    daily_pageviews_per_visitors = []\n",
    "    daily_time_on_sites = []\n",
    "    total_sites_linking_ins = []\n",
    "    bounce_rates = []\n",
    "\n",
    "    for site_name, site_info in res.items():\n",
    "        alexa_rank = int(site_info['alexa_rank'].replace(',', '').strip(' #')) if site_info['alexa_rank'] else None\n",
    "\n",
    "        df_indexs.append(site_name)\n",
    "        alexa_ranks.append(alexa_rank)\n",
    "\n",
    "        if site_info['site_metrics']:\n",
    "            daily_pageviews_per_visitor = float(site_info['site_metrics']['daily_pageviews_per_visitor']) if site_info['site_metrics']['daily_pageviews_per_visitor'] else None\n",
    "            \n",
    "            if site_info['site_metrics']['daily_time_on_site']:\n",
    "                minutes, seconds = site_info['site_metrics']['daily_time_on_site'].split(':')\n",
    "                daily_time_on_site = int(minutes) * 60 + int(seconds)\n",
    "            else:\n",
    "                daily_time_on_site = None\n",
    "\n",
    "            total_sites_linking_in = int(site_info['site_metrics']['total_sites_linking_in'].replace(',', '')) if site_info['site_metrics']['total_sites_linking_in'] else None\n",
    "\n",
    "            bounce_rate = float(site_info['site_metrics']['bounce_rate'].strip('%')) / 100 if site_info['site_metrics']['bounce_rate'] else None\n",
    "\n",
    "            daily_pageviews_per_visitors.append(daily_pageviews_per_visitor)\n",
    "            daily_time_on_sites.append(daily_time_on_site)\n",
    "            total_sites_linking_ins.append(total_sites_linking_in)\n",
    "            bounce_rates.append(bounce_rate)\n",
    "        else:\n",
    "            daily_pageviews_per_visitors.append(None)\n",
    "            daily_time_on_sites.append(None)\n",
    "            total_sites_linking_ins.append(None)\n",
    "            bounce_rates.append(None)\n",
    "\n",
    "    return df_indexs, {\n",
    "        'alexa_ranks': alexa_ranks,\n",
    "        'daily_pageviews_per_visitors': daily_pageviews_per_visitors,\n",
    "        'daily_time_on_sites': daily_time_on_sites,\n",
    "        'total_sites_linking_ins': total_sites_linking_ins, \n",
    "        'bounce_rate': bounce_rates}"
   ]
  },
  {
   "cell_type": "code",
   "execution_count": 150,
   "metadata": {},
   "outputs": [
    {
     "name": "stdout",
     "output_type": "stream",
     "text": [
      "df_indexs 11865\n",
      "alexa_ranks 11865\n",
      "daily_pageviews_per_visitors 11865\n",
      "daily_time_on_sites 11865\n",
      "total_sites_linking_ins 11865\n",
      "bounce_rate 11865\n"
     ]
    }
   ],
   "source": [
    "df_indexs, node_features = extract_node_features(res)\n",
    "\n",
    "\n",
    "print('df_indexs', len(df_indexs))\n",
    "print('alexa_ranks', len(node_features['alexa_ranks']))\n",
    "print('daily_pageviews_per_visitors', len(node_features['daily_pageviews_per_visitors']))\n",
    "print('daily_time_on_sites', len(node_features['daily_time_on_sites']))\n",
    "print('total_sites_linking_ins', len(node_features['total_sites_linking_ins']))\n",
    "print('bounce_rate', len(node_features['bounce_rate']))"
   ]
  },
  {
   "cell_type": "code",
   "execution_count": 151,
   "metadata": {},
   "outputs": [
    {
     "data": {
      "text/html": [
       "<div>\n",
       "<style scoped>\n",
       "    .dataframe tbody tr th:only-of-type {\n",
       "        vertical-align: middle;\n",
       "    }\n",
       "\n",
       "    .dataframe tbody tr th {\n",
       "        vertical-align: top;\n",
       "    }\n",
       "\n",
       "    .dataframe thead th {\n",
       "        text-align: right;\n",
       "    }\n",
       "</style>\n",
       "<table border=\"1\" class=\"dataframe\">\n",
       "  <thead>\n",
       "    <tr style=\"text-align: right;\">\n",
       "      <th></th>\n",
       "      <th>alexa_ranks</th>\n",
       "      <th>daily_pageviews_per_visitors</th>\n",
       "      <th>daily_time_on_sites</th>\n",
       "      <th>total_sites_linking_ins</th>\n",
       "      <th>bounce_rate</th>\n",
       "    </tr>\n",
       "  </thead>\n",
       "  <tbody>\n",
       "    <tr>\n",
       "      <th>crotonmusiccenter.com</th>\n",
       "      <td>NaN</td>\n",
       "      <td>NaN</td>\n",
       "      <td>NaN</td>\n",
       "      <td>NaN</td>\n",
       "      <td>NaN</td>\n",
       "    </tr>\n",
       "    <tr>\n",
       "      <th>gracefuneralhome.com</th>\n",
       "      <td>NaN</td>\n",
       "      <td>NaN</td>\n",
       "      <td>NaN</td>\n",
       "      <td>4.0</td>\n",
       "      <td>NaN</td>\n",
       "    </tr>\n",
       "    <tr>\n",
       "      <th>haaretz.com</th>\n",
       "      <td>11522.0</td>\n",
       "      <td>1.5</td>\n",
       "      <td>152.0</td>\n",
       "      <td>13974.0</td>\n",
       "      <td>0.650</td>\n",
       "    </tr>\n",
       "    <tr>\n",
       "      <th>osubeavers.com</th>\n",
       "      <td>422967.0</td>\n",
       "      <td>2.5</td>\n",
       "      <td>299.0</td>\n",
       "      <td>430.0</td>\n",
       "      <td>0.471</td>\n",
       "    </tr>\n",
       "    <tr>\n",
       "      <th>prophezine.com</th>\n",
       "      <td>8782212.0</td>\n",
       "      <td>1.0</td>\n",
       "      <td>NaN</td>\n",
       "      <td>209.0</td>\n",
       "      <td>NaN</td>\n",
       "    </tr>\n",
       "  </tbody>\n",
       "</table>\n",
       "</div>"
      ],
      "text/plain": [
       "                       alexa_ranks  daily_pageviews_per_visitors  \\\n",
       "crotonmusiccenter.com          NaN                           NaN   \n",
       "gracefuneralhome.com           NaN                           NaN   \n",
       "haaretz.com                11522.0                           1.5   \n",
       "osubeavers.com            422967.0                           2.5   \n",
       "prophezine.com           8782212.0                           1.0   \n",
       "\n",
       "                       daily_time_on_sites  total_sites_linking_ins  \\\n",
       "crotonmusiccenter.com                  NaN                      NaN   \n",
       "gracefuneralhome.com                   NaN                      4.0   \n",
       "haaretz.com                          152.0                  13974.0   \n",
       "osubeavers.com                       299.0                    430.0   \n",
       "prophezine.com                         NaN                    209.0   \n",
       "\n",
       "                       bounce_rate  \n",
       "crotonmusiccenter.com          NaN  \n",
       "gracefuneralhome.com           NaN  \n",
       "haaretz.com                  0.650  \n",
       "osubeavers.com               0.471  \n",
       "prophezine.com                 NaN  "
      ]
     },
     "execution_count": 151,
     "metadata": {},
     "output_type": "execute_result"
    }
   ],
   "source": [
    "node_features_df = pd.DataFrame(node_features, index=df_indexs)\n",
    "\n",
    "node_features_df.head()"
   ]
  },
  {
   "cell_type": "code",
   "execution_count": 152,
   "metadata": {},
   "outputs": [
    {
     "name": "stdout",
     "output_type": "stream",
     "text": [
      "<class 'pandas.core.frame.DataFrame'>\n",
      "Index: 11865 entries, crotonmusiccenter.com to yorkregion.com\n",
      "Data columns (total 5 columns):\n",
      " #   Column                        Non-Null Count  Dtype  \n",
      "---  ------                        --------------  -----  \n",
      " 0   alexa_ranks                   8658 non-null   float64\n",
      " 1   daily_pageviews_per_visitors  8659 non-null   float64\n",
      " 2   daily_time_on_sites           6459 non-null   float64\n",
      " 3   total_sites_linking_ins       11470 non-null  float64\n",
      " 4   bounce_rate                   6023 non-null   float64\n",
      "dtypes: float64(5)\n",
      "memory usage: 556.2+ KB\n"
     ]
    }
   ],
   "source": [
    "node_features_df.info()"
   ]
  },
  {
   "cell_type": "code",
   "execution_count": 153,
   "metadata": {},
   "outputs": [
    {
     "data": {
      "text/html": [
       "<div>\n",
       "<style scoped>\n",
       "    .dataframe tbody tr th:only-of-type {\n",
       "        vertical-align: middle;\n",
       "    }\n",
       "\n",
       "    .dataframe tbody tr th {\n",
       "        vertical-align: top;\n",
       "    }\n",
       "\n",
       "    .dataframe thead th {\n",
       "        text-align: right;\n",
       "    }\n",
       "</style>\n",
       "<table border=\"1\" class=\"dataframe\">\n",
       "  <thead>\n",
       "    <tr style=\"text-align: right;\">\n",
       "      <th></th>\n",
       "      <th>alexa_ranks</th>\n",
       "      <th>daily_pageviews_per_visitors</th>\n",
       "      <th>daily_time_on_sites</th>\n",
       "      <th>total_sites_linking_ins</th>\n",
       "      <th>bounce_rate</th>\n",
       "    </tr>\n",
       "  </thead>\n",
       "  <tbody>\n",
       "    <tr>\n",
       "      <th>crotonmusiccenter.com</th>\n",
       "      <td>NaN</td>\n",
       "      <td>NaN</td>\n",
       "      <td>NaN</td>\n",
       "      <td>NaN</td>\n",
       "      <td>NaN</td>\n",
       "    </tr>\n",
       "    <tr>\n",
       "      <th>gracefuneralhome.com</th>\n",
       "      <td>NaN</td>\n",
       "      <td>NaN</td>\n",
       "      <td>NaN</td>\n",
       "      <td>4.0</td>\n",
       "      <td>NaN</td>\n",
       "    </tr>\n",
       "    <tr>\n",
       "      <th>haaretz.com</th>\n",
       "      <td>11522.0</td>\n",
       "      <td>1.50</td>\n",
       "      <td>152.0</td>\n",
       "      <td>13974.0</td>\n",
       "      <td>0.650</td>\n",
       "    </tr>\n",
       "    <tr>\n",
       "      <th>osubeavers.com</th>\n",
       "      <td>422967.0</td>\n",
       "      <td>2.50</td>\n",
       "      <td>299.0</td>\n",
       "      <td>430.0</td>\n",
       "      <td>0.471</td>\n",
       "    </tr>\n",
       "    <tr>\n",
       "      <th>prophezine.com</th>\n",
       "      <td>8782212.0</td>\n",
       "      <td>1.00</td>\n",
       "      <td>NaN</td>\n",
       "      <td>209.0</td>\n",
       "      <td>NaN</td>\n",
       "    </tr>\n",
       "    <tr>\n",
       "      <th>officialblackgunsmatter.com</th>\n",
       "      <td>NaN</td>\n",
       "      <td>NaN</td>\n",
       "      <td>NaN</td>\n",
       "      <td>16.0</td>\n",
       "      <td>NaN</td>\n",
       "    </tr>\n",
       "    <tr>\n",
       "      <th>mavenroundtable.io</th>\n",
       "      <td>89099.0</td>\n",
       "      <td>1.80</td>\n",
       "      <td>251.0</td>\n",
       "      <td>74.0</td>\n",
       "      <td>0.720</td>\n",
       "    </tr>\n",
       "    <tr>\n",
       "      <th>study.com</th>\n",
       "      <td>766.0</td>\n",
       "      <td>1.52</td>\n",
       "      <td>125.0</td>\n",
       "      <td>3363.0</td>\n",
       "      <td>0.790</td>\n",
       "    </tr>\n",
       "    <tr>\n",
       "      <th>saltwire.com</th>\n",
       "      <td>221599.0</td>\n",
       "      <td>1.90</td>\n",
       "      <td>135.0</td>\n",
       "      <td>61.0</td>\n",
       "      <td>0.681</td>\n",
       "    </tr>\n",
       "    <tr>\n",
       "      <th>berkeleytravaux.com</th>\n",
       "      <td>4072859.0</td>\n",
       "      <td>2.00</td>\n",
       "      <td>NaN</td>\n",
       "      <td>14.0</td>\n",
       "      <td>NaN</td>\n",
       "    </tr>\n",
       "    <tr>\n",
       "      <th>donaldtrumpnews.co</th>\n",
       "      <td>NaN</td>\n",
       "      <td>NaN</td>\n",
       "      <td>NaN</td>\n",
       "      <td>33.0</td>\n",
       "      <td>NaN</td>\n",
       "    </tr>\n",
       "    <tr>\n",
       "      <th>drunkamerica.com</th>\n",
       "      <td>NaN</td>\n",
       "      <td>NaN</td>\n",
       "      <td>NaN</td>\n",
       "      <td>2.0</td>\n",
       "      <td>NaN</td>\n",
       "    </tr>\n",
       "    <tr>\n",
       "      <th>buchananswhisky.com</th>\n",
       "      <td>3217202.0</td>\n",
       "      <td>1.00</td>\n",
       "      <td>NaN</td>\n",
       "      <td>13.0</td>\n",
       "      <td>NaN</td>\n",
       "    </tr>\n",
       "    <tr>\n",
       "      <th>arcticinfo.eu</th>\n",
       "      <td>NaN</td>\n",
       "      <td>NaN</td>\n",
       "      <td>NaN</td>\n",
       "      <td>6.0</td>\n",
       "      <td>NaN</td>\n",
       "    </tr>\n",
       "    <tr>\n",
       "      <th>www-mysearch.com</th>\n",
       "      <td>4944074.0</td>\n",
       "      <td>1.00</td>\n",
       "      <td>NaN</td>\n",
       "      <td>43.0</td>\n",
       "      <td>NaN</td>\n",
       "    </tr>\n",
       "    <tr>\n",
       "      <th>lptexas.org</th>\n",
       "      <td>1090454.0</td>\n",
       "      <td>2.00</td>\n",
       "      <td>158.0</td>\n",
       "      <td>115.0</td>\n",
       "      <td>0.417</td>\n",
       "    </tr>\n",
       "    <tr>\n",
       "      <th>dailyverses.net</th>\n",
       "      <td>20202.0</td>\n",
       "      <td>1.40</td>\n",
       "      <td>140.0</td>\n",
       "      <td>250.0</td>\n",
       "      <td>0.781</td>\n",
       "    </tr>\n",
       "    <tr>\n",
       "      <th>angrypatriotmovement.com</th>\n",
       "      <td>NaN</td>\n",
       "      <td>NaN</td>\n",
       "      <td>NaN</td>\n",
       "      <td>92.0</td>\n",
       "      <td>NaN</td>\n",
       "    </tr>\n",
       "    <tr>\n",
       "      <th>mtlookout.org</th>\n",
       "      <td>NaN</td>\n",
       "      <td>NaN</td>\n",
       "      <td>NaN</td>\n",
       "      <td>16.0</td>\n",
       "      <td>NaN</td>\n",
       "    </tr>\n",
       "    <tr>\n",
       "      <th>americanaddictioncenters.org</th>\n",
       "      <td>40854.0</td>\n",
       "      <td>1.20</td>\n",
       "      <td>116.0</td>\n",
       "      <td>328.0</td>\n",
       "      <td>0.833</td>\n",
       "    </tr>\n",
       "  </tbody>\n",
       "</table>\n",
       "</div>"
      ],
      "text/plain": [
       "                              alexa_ranks  daily_pageviews_per_visitors  \\\n",
       "crotonmusiccenter.com                 NaN                           NaN   \n",
       "gracefuneralhome.com                  NaN                           NaN   \n",
       "haaretz.com                       11522.0                          1.50   \n",
       "osubeavers.com                   422967.0                          2.50   \n",
       "prophezine.com                  8782212.0                          1.00   \n",
       "officialblackgunsmatter.com           NaN                           NaN   \n",
       "mavenroundtable.io                89099.0                          1.80   \n",
       "study.com                           766.0                          1.52   \n",
       "saltwire.com                     221599.0                          1.90   \n",
       "berkeleytravaux.com             4072859.0                          2.00   \n",
       "donaldtrumpnews.co                    NaN                           NaN   \n",
       "drunkamerica.com                      NaN                           NaN   \n",
       "buchananswhisky.com             3217202.0                          1.00   \n",
       "arcticinfo.eu                         NaN                           NaN   \n",
       "www-mysearch.com                4944074.0                          1.00   \n",
       "lptexas.org                     1090454.0                          2.00   \n",
       "dailyverses.net                   20202.0                          1.40   \n",
       "angrypatriotmovement.com              NaN                           NaN   \n",
       "mtlookout.org                         NaN                           NaN   \n",
       "americanaddictioncenters.org      40854.0                          1.20   \n",
       "\n",
       "                              daily_time_on_sites  total_sites_linking_ins  \\\n",
       "crotonmusiccenter.com                         NaN                      NaN   \n",
       "gracefuneralhome.com                          NaN                      4.0   \n",
       "haaretz.com                                 152.0                  13974.0   \n",
       "osubeavers.com                              299.0                    430.0   \n",
       "prophezine.com                                NaN                    209.0   \n",
       "officialblackgunsmatter.com                   NaN                     16.0   \n",
       "mavenroundtable.io                          251.0                     74.0   \n",
       "study.com                                   125.0                   3363.0   \n",
       "saltwire.com                                135.0                     61.0   \n",
       "berkeleytravaux.com                           NaN                     14.0   \n",
       "donaldtrumpnews.co                            NaN                     33.0   \n",
       "drunkamerica.com                              NaN                      2.0   \n",
       "buchananswhisky.com                           NaN                     13.0   \n",
       "arcticinfo.eu                                 NaN                      6.0   \n",
       "www-mysearch.com                              NaN                     43.0   \n",
       "lptexas.org                                 158.0                    115.0   \n",
       "dailyverses.net                             140.0                    250.0   \n",
       "angrypatriotmovement.com                      NaN                     92.0   \n",
       "mtlookout.org                                 NaN                     16.0   \n",
       "americanaddictioncenters.org                116.0                    328.0   \n",
       "\n",
       "                              bounce_rate  \n",
       "crotonmusiccenter.com                 NaN  \n",
       "gracefuneralhome.com                  NaN  \n",
       "haaretz.com                         0.650  \n",
       "osubeavers.com                      0.471  \n",
       "prophezine.com                        NaN  \n",
       "officialblackgunsmatter.com           NaN  \n",
       "mavenroundtable.io                  0.720  \n",
       "study.com                           0.790  \n",
       "saltwire.com                        0.681  \n",
       "berkeleytravaux.com                   NaN  \n",
       "donaldtrumpnews.co                    NaN  \n",
       "drunkamerica.com                      NaN  \n",
       "buchananswhisky.com                   NaN  \n",
       "arcticinfo.eu                         NaN  \n",
       "www-mysearch.com                      NaN  \n",
       "lptexas.org                         0.417  \n",
       "dailyverses.net                     0.781  \n",
       "angrypatriotmovement.com              NaN  \n",
       "mtlookout.org                         NaN  \n",
       "americanaddictioncenters.org        0.833  "
      ]
     },
     "execution_count": 153,
     "metadata": {},
     "output_type": "execute_result"
    }
   ],
   "source": [
    "node_features_df.head(20)"
   ]
  },
  {
   "cell_type": "code",
   "execution_count": 155,
   "metadata": {},
   "outputs": [],
   "source": [
    "G = sg.StellarGraph(node_features_df, edges=corpus_2018_audience_overlap_level_0_and_1_df[['source', 'target']])"
   ]
  },
  {
   "cell_type": "code",
   "execution_count": 156,
   "metadata": {},
   "outputs": [
    {
     "name": "stdout",
     "output_type": "stream",
     "text": [
      "StellarGraph: Undirected multigraph\n",
      " Nodes: 11865, Edges: 20399\n",
      "\n",
      " Node types:\n",
      "  default: [11865]\n",
      "    Features: float32 vector, length 5\n",
      "    Edge types: default-default->default\n",
      "\n",
      " Edge types:\n",
      "    default-default->default: [20399]\n",
      "        Weights: all 1 (default)\n",
      "        Features: none\n"
     ]
    }
   ],
   "source": [
    "print(G.info())"
   ]
  },
  {
   "cell_type": "code",
   "execution_count": 157,
   "metadata": {},
   "outputs": [],
   "source": [
    "node_features_df.to_csv('corpus_2018_audience_overlap_level_0_and_1_node_features.csv')\n",
    "corpus_2018_audience_overlap_level_0_and_1_df[['source', 'target']].to_csv('corpus_2018_audience_overlap_level_0_and_1_edges.csv', index=False)"
   ]
  },
  {
   "cell_type": "code",
   "execution_count": null,
   "metadata": {},
   "outputs": [],
   "source": []
  }
 ],
 "metadata": {
  "kernelspec": {
   "display_name": "site_similarity",
   "language": "python",
   "name": "site_similarity"
  },
  "language_info": {
   "codemirror_mode": {
    "name": "ipython",
    "version": 3
   },
   "file_extension": ".py",
   "mimetype": "text/x-python",
   "name": "python",
   "nbconvert_exporter": "python",
   "pygments_lexer": "ipython3",
   "version": "3.7.9"
  }
 },
 "nbformat": 4,
 "nbformat_minor": 4
}
