{
 "cells": [
  {
   "cell_type": "code",
   "execution_count": 1,
   "metadata": {},
   "outputs": [],
   "source": [
    "import pandas as pd"
   ]
  },
  {
   "cell_type": "code",
   "execution_count": 2,
   "metadata": {},
   "outputs": [
    {
     "data": {
      "text/plain": "'/home/panayot/Documents/site_similarity/notebooks/node_features_graphs/corpus 2020'"
     },
     "execution_count": 2,
     "metadata": {},
     "output_type": "execute_result"
    }
   ],
   "source": [
    "%pwd"
   ]
  },
  {
   "cell_type": "code",
   "execution_count": 12,
   "metadata": {},
   "outputs": [],
   "source": [
    "node_features_file = \"../../generate_node_features/corpus_2020_audience_overlap_level_0_and_1_node_features.csv\"\n",
    "edge_file = \"../../generate_node_features/combined_data_corpus_2020_level_0_1_df_edges.csv\""
   ]
  },
  {
   "cell_type": "code",
   "execution_count": 4,
   "metadata": {},
   "outputs": [],
   "source": [
    "node_features_df = pd.read_csv(node_features_file, index_col=0)"
   ]
  },
  {
   "cell_type": "code",
   "execution_count": 5,
   "metadata": {},
   "outputs": [
    {
     "data": {
      "text/html": "<div>\n<style scoped>\n    .dataframe tbody tr th:only-of-type {\n        vertical-align: middle;\n    }\n\n    .dataframe tbody tr th {\n        vertical-align: top;\n    }\n\n    .dataframe thead th {\n        text-align: right;\n    }\n</style>\n<table border=\"1\" class=\"dataframe\">\n  <thead>\n    <tr style=\"text-align: right;\">\n      <th></th>\n      <th>alexa_ranks</th>\n      <th>daily_pageviews_per_visitors</th>\n      <th>daily_time_on_sites</th>\n      <th>total_sites_linking_ins</th>\n      <th>bounce_rate</th>\n    </tr>\n  </thead>\n  <tbody>\n    <tr>\n      <th>gradescope.com</th>\n      <td>11014.0</td>\n      <td>4.7</td>\n      <td>296.0</td>\n      <td>103.0</td>\n      <td>0.222</td>\n    </tr>\n    <tr>\n      <th>parentlink.net</th>\n      <td>151438.0</td>\n      <td>3.0</td>\n      <td>203.0</td>\n      <td>93.0</td>\n      <td>0.301</td>\n    </tr>\n    <tr>\n      <th>nationalpartnership.org</th>\n      <td>604522.0</td>\n      <td>1.3</td>\n      <td>156.0</td>\n      <td>811.0</td>\n      <td>0.765</td>\n    </tr>\n    <tr>\n      <th>sharondraper.com</th>\n      <td>1209734.0</td>\n      <td>2.0</td>\n      <td>109.0</td>\n      <td>209.0</td>\n      <td>0.615</td>\n    </tr>\n    <tr>\n      <th>trade.gov</th>\n      <td>55944.0</td>\n      <td>1.9</td>\n      <td>137.0</td>\n      <td>2392.0</td>\n      <td>0.654</td>\n    </tr>\n  </tbody>\n</table>\n</div>",
      "text/plain": "                         alexa_ranks  daily_pageviews_per_visitors  \\\ngradescope.com               11014.0                           4.7   \nparentlink.net              151438.0                           3.0   \nnationalpartnership.org     604522.0                           1.3   \nsharondraper.com           1209734.0                           2.0   \ntrade.gov                    55944.0                           1.9   \n\n                         daily_time_on_sites  total_sites_linking_ins  \\\ngradescope.com                         296.0                    103.0   \nparentlink.net                         203.0                     93.0   \nnationalpartnership.org                156.0                    811.0   \nsharondraper.com                       109.0                    209.0   \ntrade.gov                              137.0                   2392.0   \n\n                         bounce_rate  \ngradescope.com                 0.222  \nparentlink.net                 0.301  \nnationalpartnership.org        0.765  \nsharondraper.com               0.615  \ntrade.gov                      0.654  "
     },
     "execution_count": 5,
     "metadata": {},
     "output_type": "execute_result"
    }
   ],
   "source": [
    "node_features_df.head()"
   ]
  },
  {
   "cell_type": "code",
   "execution_count": 6,
   "metadata": {},
   "outputs": [
    {
     "name": "stdout",
     "output_type": "stream",
     "text": [
      "<class 'pandas.core.frame.DataFrame'>\n",
      "Index: 12303 entries, gradescope.com to growveg.com\n",
      "Data columns (total 5 columns):\n",
      " #   Column                        Non-Null Count  Dtype  \n",
      "---  ------                        --------------  -----  \n",
      " 0   alexa_ranks                   9128 non-null   float64\n",
      " 1   daily_pageviews_per_visitors  9129 non-null   float64\n",
      " 2   daily_time_on_sites           6780 non-null   float64\n",
      " 3   total_sites_linking_ins       11966 non-null  float64\n",
      " 4   bounce_rate                   6300 non-null   float64\n",
      "dtypes: float64(5)\n",
      "memory usage: 576.7+ KB\n"
     ]
    }
   ],
   "source": [
    "node_features_df.info()"
   ]
  },
  {
   "cell_type": "code",
   "execution_count": 7,
   "metadata": {},
   "outputs": [],
   "source": [
    "node_features_df.alexa_ranks = node_features_df.alexa_ranks.fillna(0)\n",
    "node_features_df.total_sites_linking_ins = node_features_df.total_sites_linking_ins.fillna(0)"
   ]
  },
  {
   "cell_type": "code",
   "execution_count": 8,
   "metadata": {},
   "outputs": [
    {
     "name": "stdout",
     "output_type": "stream",
     "text": [
      "<class 'pandas.core.frame.DataFrame'>\n",
      "Index: 12303 entries, gradescope.com to growveg.com\n",
      "Data columns (total 5 columns):\n",
      " #   Column                        Non-Null Count  Dtype  \n",
      "---  ------                        --------------  -----  \n",
      " 0   alexa_ranks                   12303 non-null  float64\n",
      " 1   daily_pageviews_per_visitors  9129 non-null   float64\n",
      " 2   daily_time_on_sites           6780 non-null   float64\n",
      " 3   total_sites_linking_ins       12303 non-null  float64\n",
      " 4   bounce_rate                   6300 non-null   float64\n",
      "dtypes: float64(5)\n",
      "memory usage: 576.7+ KB\n"
     ]
    }
   ],
   "source": [
    "node_features_df.info()"
   ]
  },
  {
   "cell_type": "markdown",
   "metadata": {},
   "source": [
    "# Normalizing features"
   ]
  },
  {
   "cell_type": "code",
   "execution_count": 9,
   "metadata": {},
   "outputs": [],
   "source": [
    "node_features_df['normalized_alexa_rank'] = node_features_df['alexa_ranks'].apply(lambda x: 1/x if x else 0)"
   ]
  },
  {
   "cell_type": "code",
   "execution_count": 10,
   "metadata": {},
   "outputs": [],
   "source": [
    "import math\n",
    "\n",
    "node_features_df['normalized_total_sites_linked_in'] = node_features_df['total_sites_linking_ins'].apply(lambda x: math.log2(x) if x else 0)"
   ]
  },
  {
   "cell_type": "markdown",
   "metadata": {},
   "source": [
    "---"
   ]
  },
  {
   "cell_type": "code",
   "execution_count": 13,
   "metadata": {},
   "outputs": [
    {
     "data": {
      "text/html": "<div>\n<style scoped>\n    .dataframe tbody tr th:only-of-type {\n        vertical-align: middle;\n    }\n\n    .dataframe tbody tr th {\n        vertical-align: top;\n    }\n\n    .dataframe thead th {\n        text-align: right;\n    }\n</style>\n<table border=\"1\" class=\"dataframe\">\n  <thead>\n    <tr style=\"text-align: right;\">\n      <th></th>\n      <th>source</th>\n      <th>target</th>\n    </tr>\n  </thead>\n  <tbody>\n    <tr>\n      <th>0</th>\n      <td>crooked.com</td>\n      <td>votesaveamerica.com</td>\n    </tr>\n    <tr>\n      <th>1</th>\n      <td>crooked.com</td>\n      <td>art19.com</td>\n    </tr>\n    <tr>\n      <th>2</th>\n      <td>crooked.com</td>\n      <td>promocodeportal.com</td>\n    </tr>\n    <tr>\n      <th>3</th>\n      <td>crooked.com</td>\n      <td>mediamatters.org</td>\n    </tr>\n    <tr>\n      <th>4</th>\n      <td>crooked.com</td>\n      <td>actblue.com</td>\n    </tr>\n  </tbody>\n</table>\n</div>",
      "text/plain": "        source               target\n0  crooked.com  votesaveamerica.com\n1  crooked.com            art19.com\n2  crooked.com  promocodeportal.com\n3  crooked.com     mediamatters.org\n4  crooked.com          actblue.com"
     },
     "execution_count": 13,
     "metadata": {},
     "output_type": "execute_result"
    }
   ],
   "source": [
    "edge_df = pd.read_csv(edge_file)\n",
    "\n",
    "edge_df.head()"
   ]
  },
  {
   "cell_type": "code",
   "execution_count": 14,
   "metadata": {},
   "outputs": [
    {
     "name": "stdout",
     "output_type": "stream",
     "text": [
      "<class 'pandas.core.frame.DataFrame'>\n",
      "RangeIndex: 28381 entries, 0 to 28380\n",
      "Data columns (total 2 columns):\n",
      " #   Column  Non-Null Count  Dtype \n",
      "---  ------  --------------  ----- \n",
      " 0   source  28381 non-null  object\n",
      " 1   target  28381 non-null  object\n",
      "dtypes: object(2)\n",
      "memory usage: 443.6+ KB\n"
     ]
    }
   ],
   "source": [
    "edge_df.info()"
   ]
  },
  {
   "cell_type": "code",
   "execution_count": 15,
   "metadata": {},
   "outputs": [],
   "source": [
    "import stellargraph as sg"
   ]
  },
  {
   "cell_type": "code",
   "execution_count": 16,
   "metadata": {},
   "outputs": [
    {
     "name": "stdout",
     "output_type": "stream",
     "text": [
      "StellarGraph: Undirected multigraph\n",
      " Nodes: 12303, Edges: 28381\n",
      "\n",
      " Node types:\n",
      "  default: [12303]\n",
      "    Features: float32 vector, length 2\n",
      "    Edge types: default-default->default\n",
      "\n",
      " Edge types:\n",
      "    default-default->default: [28381]\n",
      "        Weights: all 1 (default)\n",
      "        Features: none\n"
     ]
    }
   ],
   "source": [
    "G = sg.StellarGraph(node_features_df[['normalized_alexa_rank', 'normalized_total_sites_linked_in']], edge_df)\n",
    "print(G.info())"
   ]
  },
  {
   "cell_type": "markdown",
   "metadata": {},
   "source": [
    "# Unsupervised Attrib2Vec"
   ]
  },
  {
   "cell_type": "code",
   "execution_count": 17,
   "metadata": {},
   "outputs": [],
   "source": [
    "from stellargraph.mapper import Attri2VecLinkGenerator, Attri2VecNodeGenerator\n",
    "from stellargraph.layer import Attri2Vec, link_classification\n",
    "from stellargraph.data import UnsupervisedSampler\n",
    "\n",
    "from tensorflow import keras"
   ]
  },
  {
   "cell_type": "markdown",
   "metadata": {},
   "source": [
    "1. Specify the other optional parameter values: root nodes, the number of walks to take per node, the length of each walk, and random seed."
   ]
  },
  {
   "cell_type": "code",
   "execution_count": 18,
   "metadata": {},
   "outputs": [],
   "source": [
    "nodes = list(G.nodes())\n",
    "number_of_walks = 1\n",
    "length = 5"
   ]
  },
  {
   "cell_type": "markdown",
   "metadata": {},
   "source": [
    "2. Create the UnsupervisedSampler instance with the relevant parameters passed to it."
   ]
  },
  {
   "cell_type": "code",
   "execution_count": 19,
   "metadata": {},
   "outputs": [],
   "source": [
    "unsupervised_samples = UnsupervisedSampler(\n",
    "    G, nodes=nodes, length=length, number_of_walks=number_of_walks\n",
    ")"
   ]
  },
  {
   "cell_type": "markdown",
   "metadata": {},
   "source": [
    "3. Create a node pair generator:"
   ]
  },
  {
   "cell_type": "code",
   "execution_count": 20,
   "metadata": {},
   "outputs": [],
   "source": [
    "batch_size = 50\n",
    "epochs = 4\n",
    "num_samples = [10, 5]"
   ]
  },
  {
   "cell_type": "code",
   "execution_count": 21,
   "metadata": {},
   "outputs": [],
   "source": [
    "generator = Attri2VecLinkGenerator(G, batch_size)\n",
    "train_gen = generator.flow(unsupervised_samples)"
   ]
  },
  {
   "cell_type": "code",
   "execution_count": 22,
   "metadata": {},
   "outputs": [],
   "source": [
    "layer_sizes = [128]\n",
    "attri2vec = Attri2Vec(\n",
    "    layer_sizes=layer_sizes, generator=generator, bias=False, normalize=None\n",
    ")"
   ]
  },
  {
   "cell_type": "code",
   "execution_count": 23,
   "metadata": {},
   "outputs": [],
   "source": [
    "# Build the model and expose input and output sockets of attri2vec, for node pair inputs:\n",
    "x_inp, x_out = attri2vec.in_out_tensors()"
   ]
  },
  {
   "cell_type": "code",
   "execution_count": 24,
   "metadata": {},
   "outputs": [
    {
     "name": "stdout",
     "output_type": "stream",
     "text": [
      "link_classification: using 'ip' method to combine node embeddings into edge embeddings\n"
     ]
    }
   ],
   "source": [
    "prediction = link_classification(\n",
    "    output_dim=1, output_act=\"sigmoid\", edge_embedding_method=\"ip\"\n",
    ")(x_out)"
   ]
  },
  {
   "cell_type": "code",
   "execution_count": 25,
   "metadata": {},
   "outputs": [],
   "source": [
    "model = keras.Model(inputs=x_inp, outputs=prediction)\n",
    "\n",
    "model.compile(\n",
    "    optimizer=keras.optimizers.Adam(lr=1e-3),\n",
    "    loss=keras.losses.binary_crossentropy,\n",
    "    metrics=[keras.metrics.binary_accuracy],\n",
    ")"
   ]
  },
  {
   "cell_type": "code",
   "execution_count": 26,
   "metadata": {},
   "outputs": [
    {
     "name": "stdout",
     "output_type": "stream",
     "text": [
      "Epoch 1/8\n",
      "1969/1969 - 25s - loss: 0.6924 - binary_accuracy: 0.5314\n",
      "Epoch 2/8\n",
      "1969/1969 - 25s - loss: 0.6707 - binary_accuracy: 0.5444\n",
      "Epoch 3/8\n",
      "1969/1969 - 25s - loss: 0.6649 - binary_accuracy: 0.5435\n",
      "Epoch 4/8\n",
      "1969/1969 - 25s - loss: 0.6633 - binary_accuracy: 0.5465\n",
      "Epoch 5/8\n",
      "1969/1969 - 25s - loss: 0.6599 - binary_accuracy: 0.5505\n",
      "Epoch 6/8\n",
      "1969/1969 - 24s - loss: 0.6565 - binary_accuracy: 0.5546\n",
      "Epoch 7/8\n",
      "1969/1969 - 24s - loss: 0.6547 - binary_accuracy: 0.5595\n",
      "Epoch 8/8\n",
      "1969/1969 - 25s - loss: 0.6556 - binary_accuracy: 0.5608\n"
     ]
    }
   ],
   "source": [
    "history = model.fit(\n",
    "    train_gen,\n",
    "    epochs=8,\n",
    "    verbose=2,\n",
    "    use_multiprocessing=False,\n",
    "    workers=1,\n",
    "    shuffle=True,\n",
    ")\n",
    "\n",
    "# \"\"\"\n",
    "# previous before normalization\n",
    "\n",
    "# WARNING:tensorflow:sample_weight modes were coerced from\n",
    "#   ...\n",
    "#     to  \n",
    "#   ['...']\n",
    "# Train for 1899 steps\n",
    "# Epoch 1/8\n",
    "# 1899/1899 - 47s - loss: 0.7380 - binary_accuracy: 0.5427\n",
    "# Epoch 2/8\n",
    "# 1899/1899 - 46s - loss: 0.6368 - binary_accuracy: 0.6424\n",
    "# Epoch 3/8\n",
    "# 1899/1899 - 47s - loss: 0.5929 - binary_accuracy: 0.6680\n",
    "# Epoch 4/8\n",
    "# 1899/1899 - 48s - loss: 0.5694 - binary_accuracy: 0.6800\n",
    "# Epoch 5/8\n",
    "# 1899/1899 - 52s - loss: 0.5564 - binary_accuracy: 0.6865\n",
    "# Epoch 6/8\n",
    "# 1899/1899 - 47s - loss: 0.5442 - binary_accuracy: 0.6933\n",
    "# Epoch 7/8\n",
    "# 1899/1899 - 48s - loss: 0.5399 - binary_accuracy: 0.6941\n",
    "# Epoch 8/8\n",
    "# 1899/1899 - 47s - loss: 0.5272 - binary_accuracy: 0.7013\n",
    "\n",
    "# \"\"\""
   ]
  },
  {
   "cell_type": "code",
   "execution_count": 27,
   "metadata": {},
   "outputs": [],
   "source": [
    "x_inp_src = x_inp[0]\n",
    "x_out_src = x_out[0]\n",
    "embedding_model = keras.Model(inputs=x_inp_src, outputs=x_out_src)"
   ]
  },
  {
   "cell_type": "code",
   "execution_count": 28,
   "metadata": {},
   "outputs": [
    {
     "name": "stdout",
     "output_type": "stream",
     "text": [
      "247/247 [==============================] - 0s 614us/step\n"
     ]
    }
   ],
   "source": [
    "node_gen = Attri2VecNodeGenerator(G, batch_size).flow(node_features_df.index)\n",
    "node_embeddings = embedding_model.predict(node_gen, workers=1, verbose=1)"
   ]
  },
  {
   "cell_type": "code",
   "execution_count": 35,
   "metadata": {},
   "outputs": [],
   "source": [
    "# node_embeddings[213]"
   ]
  },
  {
   "cell_type": "code",
   "execution_count": 36,
   "metadata": {},
   "outputs": [],
   "source": [
    "embeddings_wv = dict(zip(node_features_df.index.tolist(), node_embeddings))"
   ]
  },
  {
   "cell_type": "code",
   "execution_count": 37,
   "metadata": {},
   "outputs": [
    {
     "data": {
      "text/plain": "array([8.60683940e-06, 3.57111096e-02, 5.20709591e-06, 4.50980067e-02,\n       4.76347208e-02, 5.55493216e-06, 7.91479051e-02, 5.32651611e-05,\n       2.33694613e-02, 1.68086954e-05, 5.44323325e-02, 1.81360265e-05,\n       1.88079248e-05, 6.33440018e-02, 3.85209918e-02, 9.41765308e-03,\n       5.06959168e-06, 9.68108361e-06, 9.31231170e-06, 3.26252878e-02,\n       1.94638968e-04, 4.65668142e-02, 4.22228732e-06, 1.82646513e-03,\n       4.74220514e-03, 4.91412580e-02, 3.72430682e-03, 6.14754558e-02,\n       7.50142226e-06, 2.42867470e-02, 3.34608555e-03, 2.16840090e-05,\n       5.39413395e-06, 3.90667021e-02, 1.04710874e-04, 6.90498054e-02,\n       5.74009300e-06, 3.30314833e-05, 3.68926227e-02, 5.09742904e-06,\n       9.58854289e-05, 6.16171064e-06, 4.28181291e-02, 2.18027235e-05,\n       6.24669790e-02, 5.50417353e-05, 1.32792084e-05, 5.18387556e-02,\n       4.53991088e-05, 6.59168661e-02, 1.24156475e-04, 1.06430262e-01,\n       6.48417472e-06, 2.36672610e-01, 3.03638577e-02, 2.01316343e-05,\n       8.75857586e-06, 7.17000961e-02, 5.79457283e-02, 5.11190891e-02,\n       6.97779251e-06, 4.03734744e-02, 5.09479344e-02, 1.02311151e-05,\n       7.15022497e-06, 3.06519866e-02, 4.39494848e-04, 6.07798938e-06,\n       7.77043700e-02, 7.39758616e-06, 8.34148526e-02, 7.43397277e-06,\n       6.68592247e-06, 8.56668066e-06, 2.69820157e-05, 3.52787971e-02,\n       5.78090250e-02, 7.74151777e-05, 6.06399179e-02, 6.39940981e-06,\n       5.53405407e-05, 5.71680685e-05, 6.72888160e-02, 8.40306984e-06,\n       2.55952179e-02, 8.25006366e-02, 1.43013000e-02, 1.54562593e-02,\n       7.34614730e-02, 7.23983112e-06, 2.50968337e-03, 4.82767820e-04,\n       2.37933637e-05, 6.61563990e-06, 3.93386781e-02, 1.02784388e-05,\n       4.87098098e-03, 1.44760907e-02, 9.31292470e-06, 3.49271894e-02,\n       9.68489712e-06, 9.99237636e-06, 1.26593709e-02, 9.68627930e-02,\n       6.24988897e-05, 7.60823241e-06, 1.95478606e-05, 2.02427804e-02,\n       2.74924636e-02, 1.04248524e-03, 3.00814509e-02, 6.61032345e-06,\n       7.05190599e-02, 1.15691837e-05, 4.01312113e-02, 7.80609548e-02,\n       1.82884037e-02, 7.96596706e-02, 1.03996872e-05, 4.74878252e-02,\n       2.31921673e-04, 1.30564570e-02, 4.90495563e-03, 6.28937483e-02,\n       1.98868513e-02, 2.16671824e-02, 1.41522586e-02, 4.13945019e-02],\n      dtype=float32)"
     },
     "execution_count": 37,
     "metadata": {},
     "output_type": "execute_result"
    }
   ],
   "source": [
    "embeddings_wv['crooked.com']"
   ]
  },
  {
   "cell_type": "code",
   "execution_count": 38,
   "metadata": {},
   "outputs": [],
   "source": [
    "class ModelWrapper:\n",
    "    def __init__(self, embeddings_wv):\n",
    "        self.wv = embeddings_wv\n",
    "        \n",
    "    def __str__(self):\n",
    "        return 'Unsupervised Attrib2Vec'"
   ]
  },
  {
   "cell_type": "code",
   "execution_count": 39,
   "metadata": {},
   "outputs": [],
   "source": [
    "import sys,os\n",
    "sys.path.append(\"/home/panayot/Documents/site_similarity\")"
   ]
  },
  {
   "cell_type": "code",
   "execution_count": 40,
   "metadata": {},
   "outputs": [],
   "source": [
    "from utils.notebook_utils import train_model"
   ]
  },
  {
   "cell_type": "code",
   "execution_count": 41,
   "metadata": {},
   "outputs": [],
   "source": [
    "data_year = '2020'\n",
    "node2vec_model = ModelWrapper(embeddings_wv)"
   ]
  },
  {
   "cell_type": "code",
   "execution_count": 33,
   "metadata": {},
   "outputs": [
    {
     "name": "stdout",
     "output_type": "stream",
     "text": [
      "C:\\Users\\Paco\\Documents\\site_similarity\\notebooks\\node_features_graphs\n"
     ]
    }
   ],
   "source": [
    "! cd"
   ]
  },
  {
   "cell_type": "code",
   "execution_count": 34,
   "metadata": {},
   "outputs": [],
   "source": [
    "%run ../../utils/notebook_utils.py"
   ]
  },
  {
   "cell_type": "code",
   "execution_count": 42,
   "metadata": {},
   "outputs": [],
   "source": [
    "from sklearn import svm\n",
    "from sklearn.ensemble import GradientBoostingClassifier\n",
    "from sklearn.linear_model import LogisticRegressionCV"
   ]
  },
  {
   "cell_type": "code",
   "execution_count": 43,
   "metadata": {},
   "outputs": [
    {
     "name": "stdout",
     "output_type": "stream",
     "text": [
      "Start training...\n",
      "Start training...\n",
      "Start training...\n",
      "Start training...\n"
     ]
    }
   ],
   "source": [
    "result_report = []\n",
    "\n",
    "clf = LogisticRegressionCV(Cs=10, cv=5, scoring=\"accuracy\", multi_class=\"ovr\", max_iter=300, random_state=42)\n",
    "result_report.append([\n",
    "    str(model),\n",
    "    'LogisticRegression CV = 5',\n",
    "    *list(train_model(clf, node2vec_model=node2vec_model, data_year=data_year).values())\n",
    "]);\n",
    "\n",
    "clf2 = LogisticRegressionCV(Cs=10, cv=10, scoring=\"accuracy\", multi_class=\"ovr\", max_iter=300, random_state=42)\n",
    "result_report.append([\n",
    "    str(model),\n",
    "    'LogisticRegression CV = 10',\n",
    "    *list(train_model(clf2, node2vec_model=node2vec_model, data_year=data_year).values())\n",
    "]);\n",
    "\n",
    "tree_clf = GradientBoostingClassifier(random_state=42)\n",
    "result_report.append([\n",
    "    str(model),\n",
    "    'GradientBoostingClassifier',\n",
    "    *list(train_model(tree_clf, node2vec_model=node2vec_model, data_year=data_year).values())\n",
    "]);\n",
    "\n",
    "svm_clf = svm.SVC(decision_function_shape='ovo', probability=True, random_state=42)\n",
    "result_report.append([\n",
    "    str(model),\n",
    "    'SVC ovo',\n",
    "    *list(train_model(svm_clf, node2vec_model=node2vec_model, data_year=data_year).values())\n",
    "]);\n",
    "\n",
    "model_res = pd.DataFrame(result_report,\n",
    "                    columns=[\"Feature\", \"Classifier\", \"Accuracy\", \"Balanced Accuracy score\",\n",
    "                             \"F1 micro score\", \"F1 macro score\", \"F1 weighted score\", \"MAE\", \"Confusion matrix\"])"
   ]
  },
  {
   "cell_type": "code",
   "execution_count": 44,
   "metadata": {},
   "outputs": [
    {
     "data": {
      "text/html": "<div>\n<style scoped>\n    .dataframe tbody tr th:only-of-type {\n        vertical-align: middle;\n    }\n\n    .dataframe tbody tr th {\n        vertical-align: top;\n    }\n\n    .dataframe thead th {\n        text-align: right;\n    }\n</style>\n<table border=\"1\" class=\"dataframe\">\n  <thead>\n    <tr style=\"text-align: right;\">\n      <th></th>\n      <th>Feature</th>\n      <th>Classifier</th>\n      <th>Accuracy</th>\n      <th>Balanced Accuracy score</th>\n      <th>F1 micro score</th>\n      <th>F1 macro score</th>\n      <th>F1 weighted score</th>\n      <th>MAE</th>\n      <th>Confusion matrix</th>\n    </tr>\n  </thead>\n  <tbody>\n    <tr>\n      <th>0</th>\n      <td>&lt;tensorflow.python.keras.engine.functional.Fun...</td>\n      <td>LogisticRegression CV = 5</td>\n      <td>0.544820</td>\n      <td>0.369032</td>\n      <td>0.544820</td>\n      <td>0.313669</td>\n      <td>0.437061</td>\n      <td>0.597206</td>\n      <td>[[3, 39, 120], [5, 32, 208], [2, 17, 433]]</td>\n    </tr>\n    <tr>\n      <th>1</th>\n      <td>&lt;tensorflow.python.keras.engine.functional.Fun...</td>\n      <td>LogisticRegression CV = 10</td>\n      <td>0.541327</td>\n      <td>0.364253</td>\n      <td>0.541327</td>\n      <td>0.305611</td>\n      <td>0.430852</td>\n      <td>0.601863</td>\n      <td>[[2, 39, 121], [5, 30, 210], [2, 17, 433]]</td>\n    </tr>\n    <tr>\n      <th>2</th>\n      <td>&lt;tensorflow.python.keras.engine.functional.Fun...</td>\n      <td>GradientBoostingClassifier</td>\n      <td>0.513388</td>\n      <td>0.392241</td>\n      <td>0.513388</td>\n      <td>0.380391</td>\n      <td>0.468926</td>\n      <td>0.636787</td>\n      <td>[[30, 38, 94], [42, 44, 159], [35, 50, 367]]</td>\n    </tr>\n    <tr>\n      <th>3</th>\n      <td>&lt;tensorflow.python.keras.engine.functional.Fun...</td>\n      <td>SVC ovo</td>\n      <td>0.543655</td>\n      <td>0.383852</td>\n      <td>0.543655</td>\n      <td>0.327749</td>\n      <td>0.429680</td>\n      <td>0.612340</td>\n      <td>[[28, 13, 121], [32, 4, 209], [13, 4, 435]]</td>\n    </tr>\n  </tbody>\n</table>\n</div>",
      "text/plain": "                                             Feature  \\\n0  <tensorflow.python.keras.engine.functional.Fun...   \n1  <tensorflow.python.keras.engine.functional.Fun...   \n2  <tensorflow.python.keras.engine.functional.Fun...   \n3  <tensorflow.python.keras.engine.functional.Fun...   \n\n                   Classifier  Accuracy  Balanced Accuracy score  \\\n0   LogisticRegression CV = 5  0.544820                 0.369032   \n1  LogisticRegression CV = 10  0.541327                 0.364253   \n2  GradientBoostingClassifier  0.513388                 0.392241   \n3                     SVC ovo  0.543655                 0.383852   \n\n   F1 micro score  F1 macro score  F1 weighted score       MAE  \\\n0        0.544820        0.313669           0.437061  0.597206   \n1        0.541327        0.305611           0.430852  0.601863   \n2        0.513388        0.380391           0.468926  0.636787   \n3        0.543655        0.327749           0.429680  0.612340   \n\n                               Confusion matrix  \n0    [[3, 39, 120], [5, 32, 208], [2, 17, 433]]  \n1    [[2, 39, 121], [5, 30, 210], [2, 17, 433]]  \n2  [[30, 38, 94], [42, 44, 159], [35, 50, 367]]  \n3   [[28, 13, 121], [32, 4, 209], [13, 4, 435]]  "
     },
     "execution_count": 44,
     "metadata": {},
     "output_type": "execute_result"
    }
   ],
   "source": [
    "model_res.head()"
   ]
  },
  {
   "cell_type": "code",
   "execution_count": null,
   "metadata": {},
   "outputs": [],
   "source": []
  }
 ],
 "metadata": {
  "kernelspec": {
   "display_name": "Python 3.7.9 64-bit ('site_similarity': conda)",
   "metadata": {
    "interpreter": {
     "hash": "72b3faef5542ae75c34eb0d3b11ce0fc432eb00b9ccfc309dfbebb58f482608a"
    }
   },
   "name": "python3"
  },
  "language_info": {
   "codemirror_mode": {
    "name": "ipython",
    "version": 3
   },
   "file_extension": ".py",
   "mimetype": "text/x-python",
   "name": "python",
   "nbconvert_exporter": "python",
   "pygments_lexer": "ipython3",
   "version": "3.7.9"
  }
 },
 "nbformat": 4,
 "nbformat_minor": 4
}