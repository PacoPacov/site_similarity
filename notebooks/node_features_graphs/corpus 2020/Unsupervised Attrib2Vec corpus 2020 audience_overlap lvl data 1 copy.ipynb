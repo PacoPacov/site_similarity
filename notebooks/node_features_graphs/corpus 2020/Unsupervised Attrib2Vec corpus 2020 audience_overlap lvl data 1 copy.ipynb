{
 "cells": [
  {
   "cell_type": "code",
   "execution_count": 1,
   "metadata": {},
   "outputs": [],
   "source": [
    "import pandas as pd"
   ]
  },
  {
   "cell_type": "code",
   "execution_count": 2,
   "metadata": {},
   "outputs": [
    {
     "output_type": "execute_result",
     "data": {
      "text/plain": [
       "'/media/panayot/cf151fc4-0692-4c72-9d73-892b9c408127/home/panayot/Documents/site_similarity/notebooks/node_features_graphs/corpus 2020'"
      ]
     },
     "metadata": {},
     "execution_count": 2
    }
   ],
   "source": [
    "%pwd"
   ]
  },
  {
   "cell_type": "code",
   "execution_count": 3,
   "metadata": {},
   "outputs": [],
   "source": [
    "node_features_file = \"../../generate_node_features/corpus_2020_audience_overlap_level_0_and_1_node_features.csv\"\n",
    "edge_file = \"../../generate_node_features/combined_data_corpus_2020_level_0_1_df_edges.csv\""
   ]
  },
  {
   "cell_type": "code",
   "execution_count": 4,
   "metadata": {},
   "outputs": [],
   "source": [
    "node_features_df = pd.read_csv(node_features_file, index_col=0)"
   ]
  },
  {
   "cell_type": "code",
   "execution_count": 5,
   "metadata": {},
   "outputs": [
    {
     "output_type": "execute_result",
     "data": {
      "text/plain": [
       "                         alexa_ranks  daily_pageviews_per_visitors  \\\n",
       "gradescope.com               11014.0                           4.7   \n",
       "parentlink.net              151438.0                           3.0   \n",
       "nationalpartnership.org     604522.0                           1.3   \n",
       "sharondraper.com           1209734.0                           2.0   \n",
       "trade.gov                    55944.0                           1.9   \n",
       "\n",
       "                         daily_time_on_sites  total_sites_linking_ins  \\\n",
       "gradescope.com                         296.0                    103.0   \n",
       "parentlink.net                         203.0                     93.0   \n",
       "nationalpartnership.org                156.0                    811.0   \n",
       "sharondraper.com                       109.0                    209.0   \n",
       "trade.gov                              137.0                   2392.0   \n",
       "\n",
       "                         bounce_rate  \n",
       "gradescope.com                 0.222  \n",
       "parentlink.net                 0.301  \n",
       "nationalpartnership.org        0.765  \n",
       "sharondraper.com               0.615  \n",
       "trade.gov                      0.654  "
      ],
      "text/html": "<div>\n<style scoped>\n    .dataframe tbody tr th:only-of-type {\n        vertical-align: middle;\n    }\n\n    .dataframe tbody tr th {\n        vertical-align: top;\n    }\n\n    .dataframe thead th {\n        text-align: right;\n    }\n</style>\n<table border=\"1\" class=\"dataframe\">\n  <thead>\n    <tr style=\"text-align: right;\">\n      <th></th>\n      <th>alexa_ranks</th>\n      <th>daily_pageviews_per_visitors</th>\n      <th>daily_time_on_sites</th>\n      <th>total_sites_linking_ins</th>\n      <th>bounce_rate</th>\n    </tr>\n  </thead>\n  <tbody>\n    <tr>\n      <th>gradescope.com</th>\n      <td>11014.0</td>\n      <td>4.7</td>\n      <td>296.0</td>\n      <td>103.0</td>\n      <td>0.222</td>\n    </tr>\n    <tr>\n      <th>parentlink.net</th>\n      <td>151438.0</td>\n      <td>3.0</td>\n      <td>203.0</td>\n      <td>93.0</td>\n      <td>0.301</td>\n    </tr>\n    <tr>\n      <th>nationalpartnership.org</th>\n      <td>604522.0</td>\n      <td>1.3</td>\n      <td>156.0</td>\n      <td>811.0</td>\n      <td>0.765</td>\n    </tr>\n    <tr>\n      <th>sharondraper.com</th>\n      <td>1209734.0</td>\n      <td>2.0</td>\n      <td>109.0</td>\n      <td>209.0</td>\n      <td>0.615</td>\n    </tr>\n    <tr>\n      <th>trade.gov</th>\n      <td>55944.0</td>\n      <td>1.9</td>\n      <td>137.0</td>\n      <td>2392.0</td>\n      <td>0.654</td>\n    </tr>\n  </tbody>\n</table>\n</div>"
     },
     "metadata": {},
     "execution_count": 5
    }
   ],
   "source": [
    "node_features_df.head()"
   ]
  },
  {
   "cell_type": "code",
   "execution_count": 6,
   "metadata": {},
   "outputs": [
    {
     "output_type": "stream",
     "name": "stdout",
     "text": [
      "<class 'pandas.core.frame.DataFrame'>\nIndex: 12303 entries, gradescope.com to growveg.com\nData columns (total 5 columns):\n #   Column                        Non-Null Count  Dtype  \n---  ------                        --------------  -----  \n 0   alexa_ranks                   9128 non-null   float64\n 1   daily_pageviews_per_visitors  9129 non-null   float64\n 2   daily_time_on_sites           6780 non-null   float64\n 3   total_sites_linking_ins       11966 non-null  float64\n 4   bounce_rate                   6300 non-null   float64\ndtypes: float64(5)\nmemory usage: 576.7+ KB\n"
     ]
    }
   ],
   "source": [
    "node_features_df.info()"
   ]
  },
  {
   "cell_type": "code",
   "execution_count": 7,
   "metadata": {},
   "outputs": [
    {
     "output_type": "execute_result",
     "data": {
      "text/plain": [
       "freerakembalogun.org             NaN\n",
       "theiowarepublican.com            NaN\n",
       "saloonmn.com                     NaN\n",
       "abortionpill-online.com          NaN\n",
       "insidepoliticallaw.com           NaN\n",
       "                                  ..\n",
       "michaelrubinharmonica.com        NaN\n",
       "readwriteandlive.wordpress.com   NaN\n",
       "worldwartimes.com                NaN\n",
       "humanreef.com                    NaN\n",
       "21stcenturynationalist.com       NaN\n",
       "Name: daily_pageviews_per_visitors, Length: 3174, dtype: float64"
      ]
     },
     "metadata": {},
     "execution_count": 7
    }
   ],
   "source": [
    "node_features_df.loc[node_features_df['daily_pageviews_per_visitors'].isna(), 'daily_pageviews_per_visitors']"
   ]
  },
  {
   "cell_type": "code",
   "execution_count": 8,
   "metadata": {},
   "outputs": [],
   "source": [
    "node_features_df['has_daily_pageviews_per_visitors'] = node_features_df['daily_pageviews_per_visitors'].apply(lambda x: False if pd.isnull(x) else True)\n",
    "\n",
    "node_features_df['has_bounce_rate'] = node_features_df['bounce_rate'].apply(lambda x: False if pd.isnull(x) else True)"
   ]
  },
  {
   "cell_type": "code",
   "execution_count": 9,
   "metadata": {},
   "outputs": [
    {
     "output_type": "execute_result",
     "data": {
      "text/plain": [
       "                                has_daily_pageviews_per_visitors  \\\n",
       "freerakembalogun.org                                       False   \n",
       "theiowarepublican.com                                      False   \n",
       "saloonmn.com                                               False   \n",
       "abortionpill-online.com                                    False   \n",
       "insidepoliticallaw.com                                     False   \n",
       "...                                                          ...   \n",
       "michaelrubinharmonica.com                                  False   \n",
       "readwriteandlive.wordpress.com                             False   \n",
       "worldwartimes.com                                          False   \n",
       "humanreef.com                                              False   \n",
       "21stcenturynationalist.com                                 False   \n",
       "\n",
       "                                daily_pageviews_per_visitors  \n",
       "freerakembalogun.org                                     NaN  \n",
       "theiowarepublican.com                                    NaN  \n",
       "saloonmn.com                                             NaN  \n",
       "abortionpill-online.com                                  NaN  \n",
       "insidepoliticallaw.com                                   NaN  \n",
       "...                                                      ...  \n",
       "michaelrubinharmonica.com                                NaN  \n",
       "readwriteandlive.wordpress.com                           NaN  \n",
       "worldwartimes.com                                        NaN  \n",
       "humanreef.com                                            NaN  \n",
       "21stcenturynationalist.com                               NaN  \n",
       "\n",
       "[3174 rows x 2 columns]"
      ],
      "text/html": "<div>\n<style scoped>\n    .dataframe tbody tr th:only-of-type {\n        vertical-align: middle;\n    }\n\n    .dataframe tbody tr th {\n        vertical-align: top;\n    }\n\n    .dataframe thead th {\n        text-align: right;\n    }\n</style>\n<table border=\"1\" class=\"dataframe\">\n  <thead>\n    <tr style=\"text-align: right;\">\n      <th></th>\n      <th>has_daily_pageviews_per_visitors</th>\n      <th>daily_pageviews_per_visitors</th>\n    </tr>\n  </thead>\n  <tbody>\n    <tr>\n      <th>freerakembalogun.org</th>\n      <td>False</td>\n      <td>NaN</td>\n    </tr>\n    <tr>\n      <th>theiowarepublican.com</th>\n      <td>False</td>\n      <td>NaN</td>\n    </tr>\n    <tr>\n      <th>saloonmn.com</th>\n      <td>False</td>\n      <td>NaN</td>\n    </tr>\n    <tr>\n      <th>abortionpill-online.com</th>\n      <td>False</td>\n      <td>NaN</td>\n    </tr>\n    <tr>\n      <th>insidepoliticallaw.com</th>\n      <td>False</td>\n      <td>NaN</td>\n    </tr>\n    <tr>\n      <th>...</th>\n      <td>...</td>\n      <td>...</td>\n    </tr>\n    <tr>\n      <th>michaelrubinharmonica.com</th>\n      <td>False</td>\n      <td>NaN</td>\n    </tr>\n    <tr>\n      <th>readwriteandlive.wordpress.com</th>\n      <td>False</td>\n      <td>NaN</td>\n    </tr>\n    <tr>\n      <th>worldwartimes.com</th>\n      <td>False</td>\n      <td>NaN</td>\n    </tr>\n    <tr>\n      <th>humanreef.com</th>\n      <td>False</td>\n      <td>NaN</td>\n    </tr>\n    <tr>\n      <th>21stcenturynationalist.com</th>\n      <td>False</td>\n      <td>NaN</td>\n    </tr>\n  </tbody>\n</table>\n<p>3174 rows × 2 columns</p>\n</div>"
     },
     "metadata": {},
     "execution_count": 9
    }
   ],
   "source": [
    "node_features_df.loc[node_features_df['daily_pageviews_per_visitors'].isna(), ['has_daily_pageviews_per_visitors', 'daily_pageviews_per_visitors']]"
   ]
  },
  {
   "cell_type": "code",
   "execution_count": 10,
   "metadata": {},
   "outputs": [
    {
     "output_type": "execute_result",
     "data": {
      "text/plain": [
       "                            has_bounce_rate  bounce_rate\n",
       "humanvarieties.org                    False          NaN\n",
       "thermos.co.uk                         False          NaN\n",
       "freerakembalogun.org                  False          NaN\n",
       "theiowarepublican.com                 False          NaN\n",
       "saloonmn.com                          False          NaN\n",
       "...                                     ...          ...\n",
       "cbwentworth.wordpress.com             False          NaN\n",
       "humanreef.com                         False          NaN\n",
       "21stcenturynationalist.com            False          NaN\n",
       "fidc.co.fk                            False          NaN\n",
       "worldpopdata.org                      False          NaN\n",
       "\n",
       "[6003 rows x 2 columns]"
      ],
      "text/html": "<div>\n<style scoped>\n    .dataframe tbody tr th:only-of-type {\n        vertical-align: middle;\n    }\n\n    .dataframe tbody tr th {\n        vertical-align: top;\n    }\n\n    .dataframe thead th {\n        text-align: right;\n    }\n</style>\n<table border=\"1\" class=\"dataframe\">\n  <thead>\n    <tr style=\"text-align: right;\">\n      <th></th>\n      <th>has_bounce_rate</th>\n      <th>bounce_rate</th>\n    </tr>\n  </thead>\n  <tbody>\n    <tr>\n      <th>humanvarieties.org</th>\n      <td>False</td>\n      <td>NaN</td>\n    </tr>\n    <tr>\n      <th>thermos.co.uk</th>\n      <td>False</td>\n      <td>NaN</td>\n    </tr>\n    <tr>\n      <th>freerakembalogun.org</th>\n      <td>False</td>\n      <td>NaN</td>\n    </tr>\n    <tr>\n      <th>theiowarepublican.com</th>\n      <td>False</td>\n      <td>NaN</td>\n    </tr>\n    <tr>\n      <th>saloonmn.com</th>\n      <td>False</td>\n      <td>NaN</td>\n    </tr>\n    <tr>\n      <th>...</th>\n      <td>...</td>\n      <td>...</td>\n    </tr>\n    <tr>\n      <th>cbwentworth.wordpress.com</th>\n      <td>False</td>\n      <td>NaN</td>\n    </tr>\n    <tr>\n      <th>humanreef.com</th>\n      <td>False</td>\n      <td>NaN</td>\n    </tr>\n    <tr>\n      <th>21stcenturynationalist.com</th>\n      <td>False</td>\n      <td>NaN</td>\n    </tr>\n    <tr>\n      <th>fidc.co.fk</th>\n      <td>False</td>\n      <td>NaN</td>\n    </tr>\n    <tr>\n      <th>worldpopdata.org</th>\n      <td>False</td>\n      <td>NaN</td>\n    </tr>\n  </tbody>\n</table>\n<p>6003 rows × 2 columns</p>\n</div>"
     },
     "metadata": {},
     "execution_count": 10
    }
   ],
   "source": [
    "node_features_df.loc[node_features_df['bounce_rate'].isna(), ['has_bounce_rate', 'bounce_rate']]"
   ]
  },
  {
   "cell_type": "code",
   "execution_count": 11,
   "metadata": {},
   "outputs": [],
   "source": [
    "node_features_df.alexa_ranks = node_features_df.alexa_ranks.fillna(0)\n",
    "node_features_df.total_sites_linking_ins = node_features_df.total_sites_linking_ins.fillna(0)"
   ]
  },
  {
   "cell_type": "code",
   "execution_count": 12,
   "metadata": {},
   "outputs": [
    {
     "output_type": "stream",
     "name": "stdout",
     "text": [
      "<class 'pandas.core.frame.DataFrame'>\nIndex: 12303 entries, gradescope.com to growveg.com\nData columns (total 7 columns):\n #   Column                            Non-Null Count  Dtype  \n---  ------                            --------------  -----  \n 0   alexa_ranks                       12303 non-null  float64\n 1   daily_pageviews_per_visitors      9129 non-null   float64\n 2   daily_time_on_sites               6780 non-null   float64\n 3   total_sites_linking_ins           12303 non-null  float64\n 4   bounce_rate                       6300 non-null   float64\n 5   has_daily_pageviews_per_visitors  12303 non-null  bool   \n 6   has_bounce_rate                   12303 non-null  bool   \ndtypes: bool(2), float64(5)\nmemory usage: 600.7+ KB\n"
     ]
    }
   ],
   "source": [
    "node_features_df.info()"
   ]
  },
  {
   "cell_type": "markdown",
   "metadata": {},
   "source": [
    "# Normalizing features"
   ]
  },
  {
   "cell_type": "code",
   "execution_count": 13,
   "metadata": {},
   "outputs": [],
   "source": [
    "node_features_df['normalized_alexa_rank'] = node_features_df['alexa_ranks'].apply(lambda x: 1/x if x else 0)"
   ]
  },
  {
   "cell_type": "code",
   "execution_count": 14,
   "metadata": {},
   "outputs": [],
   "source": [
    "import math\n",
    "\n",
    "node_features_df['normalized_total_sites_linked_in'] = node_features_df['total_sites_linking_ins'].apply(lambda x: math.log2(x) if x else 0)"
   ]
  },
  {
   "cell_type": "markdown",
   "metadata": {},
   "source": [
    "---"
   ]
  },
  {
   "cell_type": "code",
   "execution_count": 15,
   "metadata": {},
   "outputs": [
    {
     "output_type": "execute_result",
     "data": {
      "text/plain": [
       "        source               target\n",
       "0  crooked.com  votesaveamerica.com\n",
       "1  crooked.com            art19.com\n",
       "2  crooked.com  promocodeportal.com\n",
       "3  crooked.com     mediamatters.org\n",
       "4  crooked.com          actblue.com"
      ],
      "text/html": "<div>\n<style scoped>\n    .dataframe tbody tr th:only-of-type {\n        vertical-align: middle;\n    }\n\n    .dataframe tbody tr th {\n        vertical-align: top;\n    }\n\n    .dataframe thead th {\n        text-align: right;\n    }\n</style>\n<table border=\"1\" class=\"dataframe\">\n  <thead>\n    <tr style=\"text-align: right;\">\n      <th></th>\n      <th>source</th>\n      <th>target</th>\n    </tr>\n  </thead>\n  <tbody>\n    <tr>\n      <th>0</th>\n      <td>crooked.com</td>\n      <td>votesaveamerica.com</td>\n    </tr>\n    <tr>\n      <th>1</th>\n      <td>crooked.com</td>\n      <td>art19.com</td>\n    </tr>\n    <tr>\n      <th>2</th>\n      <td>crooked.com</td>\n      <td>promocodeportal.com</td>\n    </tr>\n    <tr>\n      <th>3</th>\n      <td>crooked.com</td>\n      <td>mediamatters.org</td>\n    </tr>\n    <tr>\n      <th>4</th>\n      <td>crooked.com</td>\n      <td>actblue.com</td>\n    </tr>\n  </tbody>\n</table>\n</div>"
     },
     "metadata": {},
     "execution_count": 15
    }
   ],
   "source": [
    "edge_df = pd.read_csv(edge_file)\n",
    "\n",
    "edge_df.head()"
   ]
  },
  {
   "cell_type": "code",
   "execution_count": 16,
   "metadata": {},
   "outputs": [
    {
     "output_type": "stream",
     "name": "stdout",
     "text": [
      "<class 'pandas.core.frame.DataFrame'>\nRangeIndex: 28381 entries, 0 to 28380\nData columns (total 2 columns):\n #   Column  Non-Null Count  Dtype \n---  ------  --------------  ----- \n 0   source  28381 non-null  object\n 1   target  28381 non-null  object\ndtypes: object(2)\nmemory usage: 443.6+ KB\n"
     ]
    }
   ],
   "source": [
    "edge_df.info()"
   ]
  },
  {
   "cell_type": "code",
   "execution_count": 17,
   "metadata": {},
   "outputs": [],
   "source": [
    "import stellargraph as sg"
   ]
  },
  {
   "cell_type": "code",
   "execution_count": 18,
   "metadata": {},
   "outputs": [
    {
     "output_type": "stream",
     "name": "stdout",
     "text": [
      "StellarGraph: Undirected multigraph\n Nodes: 12303, Edges: 28381\n\n Node types:\n  default: [12303]\n    Features: float32 vector, length 2\n    Edge types: default-default->default\n\n Edge types:\n    default-default->default: [28381]\n        Weights: all 1 (default)\n        Features: none\n"
     ]
    }
   ],
   "source": [
    "G = sg.StellarGraph(node_features_df[['has_bounce_rate', 'has_daily_pageviews_per_visitors']], edge_df)\n",
    "print(G.info())"
   ]
  },
  {
   "cell_type": "markdown",
   "metadata": {},
   "source": [
    "# Unsupervised Attrib2Vec"
   ]
  },
  {
   "cell_type": "code",
   "execution_count": 19,
   "metadata": {},
   "outputs": [],
   "source": [
    "from stellargraph.mapper import Attri2VecLinkGenerator, Attri2VecNodeGenerator\n",
    "from stellargraph.layer import Attri2Vec, link_classification\n",
    "from stellargraph.data import UnsupervisedSampler\n",
    "\n",
    "from tensorflow import keras"
   ]
  },
  {
   "cell_type": "markdown",
   "metadata": {},
   "source": [
    "1. Specify the other optional parameter values: root nodes, the number of walks to take per node, the length of each walk, and random seed."
   ]
  },
  {
   "cell_type": "code",
   "execution_count": 20,
   "metadata": {},
   "outputs": [],
   "source": [
    "nodes = list(G.nodes())\n",
    "number_of_walks = 5\n",
    "length = 10"
   ]
  },
  {
   "cell_type": "markdown",
   "metadata": {},
   "source": [
    "2. Create the UnsupervisedSampler instance with the relevant parameters passed to it."
   ]
  },
  {
   "cell_type": "code",
   "execution_count": 21,
   "metadata": {},
   "outputs": [],
   "source": [
    "unsupervised_samples = UnsupervisedSampler(\n",
    "    G, nodes=nodes, length=length, number_of_walks=number_of_walks\n",
    ")"
   ]
  },
  {
   "cell_type": "markdown",
   "metadata": {},
   "source": [
    "3. Create a node pair generator:"
   ]
  },
  {
   "cell_type": "code",
   "execution_count": 22,
   "metadata": {},
   "outputs": [],
   "source": [
    "batch_size = 50\n",
    "epochs = 16\n",
    "num_samples = [10, 5]"
   ]
  },
  {
   "cell_type": "code",
   "execution_count": 23,
   "metadata": {},
   "outputs": [],
   "source": [
    "generator = Attri2VecLinkGenerator(G, batch_size)\n",
    "train_gen = generator.flow(unsupervised_samples)"
   ]
  },
  {
   "cell_type": "code",
   "execution_count": 24,
   "metadata": {},
   "outputs": [],
   "source": [
    "layer_sizes = [256]\n",
    "attri2vec = Attri2Vec(\n",
    "    layer_sizes=layer_sizes, generator=generator, bias=False, normalize=None\n",
    ")"
   ]
  },
  {
   "cell_type": "code",
   "execution_count": 31,
   "metadata": {},
   "outputs": [],
   "source": [
    "# Build the model and expose input and output sockets of attri2vec, for node pair inputs:\n",
    "x_inp, x_out = attri2vec.in_out_tensors()"
   ]
  },
  {
   "cell_type": "code",
   "execution_count": 32,
   "metadata": {},
   "outputs": [
    {
     "output_type": "stream",
     "name": "stdout",
     "text": [
      "link_classification: using 'ip' method to combine node embeddings into edge embeddings\n"
     ]
    }
   ],
   "source": [
    "prediction = link_classification(\n",
    "    output_dim=1, output_act=\"sigmoid\", edge_embedding_method=\"ip\"\n",
    ")(x_out)"
   ]
  },
  {
   "cell_type": "code",
   "execution_count": 28,
   "metadata": {},
   "outputs": [],
   "source": [
    "model = keras.Model(inputs=x_inp, outputs=prediction)\n",
    "\n",
    "model.compile(\n",
    "    optimizer=keras.optimizers.Adam(lr=1e-3),\n",
    "    loss=keras.losses.binary_crossentropy,\n",
    "    metrics=[keras.metrics.binary_accuracy],\n",
    ")"
   ]
  },
  {
   "cell_type": "code",
   "execution_count": 29,
   "metadata": {},
   "outputs": [
    {
     "output_type": "stream",
     "name": "stdout",
     "text": [
      "Epoch 1/8\n",
      "22146/22146 - 550s - loss: 0.7483 - binary_accuracy: 0.5358\n",
      "Epoch 2/8\n",
      "22146/22146 - 479s - loss: 0.7283 - binary_accuracy: 0.6348\n",
      "Epoch 3/8\n",
      "22146/22146 - 511s - loss: 0.7186 - binary_accuracy: 0.6544\n",
      "Epoch 4/8\n",
      "22146/22146 - 499s - loss: 0.7156 - binary_accuracy: 0.6560\n",
      "Epoch 5/8\n",
      "22146/22146 - 506s - loss: 0.7177 - binary_accuracy: 0.6560\n",
      "Epoch 6/8\n",
      "22146/22146 - 486s - loss: 0.7183 - binary_accuracy: 0.6576\n",
      "Epoch 7/8\n",
      "22146/22146 - 500s - loss: 0.7190 - binary_accuracy: 0.6583\n",
      "Epoch 8/8\n",
      "22146/22146 - 486s - loss: 0.7227 - binary_accuracy: 0.6583\n"
     ]
    }
   ],
   "source": [
    "history = model.fit(\n",
    "    train_gen,\n",
    "    epochs=8,\n",
    "    verbose=2,\n",
    "    use_multiprocessing=False,\n",
    "    workers=1,\n",
    "    shuffle=True,\n",
    ")\n",
    "\n",
    "# \"\"\"\n",
    "# previous before normalization\n",
    "\n",
    "# WARNING:tensorflow:sample_weight modes were coerced from\n",
    "#   ...\n",
    "#     to  \n",
    "#   ['...']\n",
    "# Train for 1899 steps\n",
    "# Epoch 1/8\n",
    "# 1899/1899 - 47s - loss: 0.7380 - binary_accuracy: 0.5427\n",
    "# Epoch 2/8\n",
    "# 1899/1899 - 46s - loss: 0.6368 - binary_accuracy: 0.6424\n",
    "# Epoch 3/8\n",
    "# 1899/1899 - 47s - loss: 0.5929 - binary_accuracy: 0.6680\n",
    "# Epoch 4/8\n",
    "# 1899/1899 - 48s - loss: 0.5694 - binary_accuracy: 0.6800\n",
    "# Epoch 5/8\n",
    "# 1899/1899 - 52s - loss: 0.5564 - binary_accuracy: 0.6865\n",
    "# Epoch 6/8\n",
    "# 1899/1899 - 47s - loss: 0.5442 - binary_accuracy: 0.6933\n",
    "# Epoch 7/8\n",
    "# 1899/1899 - 48s - loss: 0.5399 - binary_accuracy: 0.6941\n",
    "# Epoch 8/8\n",
    "# 1899/1899 - 47s - loss: 0.5272 - binary_accuracy: 0.7013\n",
    "\n",
    "# \"\"\"\n",
    "\n",
    "# \"\"\"\n",
    "# Epoch 1/8\n",
    "# 1969/1969 - 25s - loss: 0.6924 - binary_accuracy: 0.5314\n",
    "# Epoch 2/8\n",
    "# 1969/1969 - 25s - loss: 0.6707 - binary_accuracy: 0.5444\n",
    "# Epoch 3/8\n",
    "# 1969/1969 - 25s - loss: 0.6649 - binary_accuracy: 0.5435\n",
    "# Epoch 4/8\n",
    "# 1969/1969 - 25s - loss: 0.6633 - binary_accuracy: 0.5465\n",
    "# Epoch 5/8\n",
    "# 1969/1969 - 25s - loss: 0.6599 - binary_accuracy: 0.5505\n",
    "# Epoch 6/8\n",
    "# 1969/1969 - 24s - loss: 0.6565 - binary_accuracy: 0.5546\n",
    "# Epoch 7/8\n",
    "# 1969/1969 - 24s - loss: 0.6547 - binary_accuracy: 0.5595\n",
    "# Epoch 8/8\n",
    "# 1969/1969 - 25s - loss: 0.6556 - binary_accuracy: 0.5608\n",
    "# \"\"\"\n"
   ]
  },
  {
   "cell_type": "code",
   "execution_count": 30,
   "metadata": {},
   "outputs": [],
   "source": [
    "x_inp_src = x_inp[0]\n",
    "x_out_src = x_out[0]\n",
    "embedding_model = keras.Model(inputs=x_inp_src, outputs=x_out_src)"
   ]
  },
  {
   "cell_type": "code",
   "execution_count": 31,
   "metadata": {},
   "outputs": [
    {
     "output_type": "stream",
     "name": "stdout",
     "text": [
      "247/247 [==============================] - 0s 367us/step\n"
     ]
    }
   ],
   "source": [
    "node_gen = Attri2VecNodeGenerator(G, batch_size).flow(node_features_df.index)\n",
    "node_embeddings = embedding_model.predict(node_gen, workers=1, verbose=1)"
   ]
  },
  {
   "cell_type": "code",
   "execution_count": 37,
   "metadata": {},
   "outputs": [],
   "source": [
    "# node_embeddings[213]"
   ]
  },
  {
   "cell_type": "code",
   "execution_count": 32,
   "metadata": {},
   "outputs": [],
   "source": [
    "embeddings_wv = dict(zip(node_features_df.index.tolist(), node_embeddings.tolist()))"
   ]
  },
  {
   "cell_type": "code",
   "execution_count": 42,
   "metadata": {},
   "outputs": [
    {
     "output_type": "execute_result",
     "data": {
      "text/plain": [
       "[0.0003447532653808594,\n",
       " 0.000252455472946167,\n",
       " 0.0001920461654663086,\n",
       " 0.00019851326942443848,\n",
       " 0.00020432472229003906,\n",
       " 0.00038486719131469727,\n",
       " 0.0004545152187347412,\n",
       " 0.00019082427024841309,\n",
       " 0.00034999847412109375,\n",
       " 0.0005804300308227539]"
      ]
     },
     "metadata": {},
     "execution_count": 42
    }
   ],
   "source": [
    "embeddings_wv['crooked.com'][:10]"
   ]
  },
  {
   "cell_type": "code",
   "execution_count": 33,
   "metadata": {},
   "outputs": [],
   "source": [
    "class ModelWrapper:\n",
    "    def __init__(self, embeddings_wv):\n",
    "        self.wv = embeddings_wv\n",
    "        \n",
    "    def __str__(self):\n",
    "        return 'Unsupervised Attrib2Vec'"
   ]
  },
  {
   "cell_type": "code",
   "execution_count": 39,
   "metadata": {},
   "outputs": [],
   "source": [
    "import sys,os\n",
    "sys.path.append(\"/home/panayot/Documents/site_similarity\")"
   ]
  },
  {
   "cell_type": "code",
   "execution_count": 40,
   "metadata": {},
   "outputs": [],
   "source": [
    "from utils.notebook_utils import train_model"
   ]
  },
  {
   "cell_type": "code",
   "execution_count": 34,
   "metadata": {},
   "outputs": [],
   "source": [
    "data_year = '2020'\n",
    "node2vec_model = ModelWrapper(embeddings_wv)"
   ]
  },
  {
   "cell_type": "code",
   "execution_count": 33,
   "metadata": {},
   "outputs": [
    {
     "name": "stdout",
     "output_type": "stream",
     "text": [
      "C:\\Users\\Paco\\Documents\\site_similarity\\notebooks\\node_features_graphs\n"
     ]
    }
   ],
   "source": [
    "! cd"
   ]
  },
  {
   "cell_type": "code",
   "execution_count": 34,
   "metadata": {},
   "outputs": [],
   "source": [
    "%run ../../utils/notebook_utils.py"
   ]
  },
  {
   "cell_type": "code",
   "execution_count": 42,
   "metadata": {},
   "outputs": [],
   "source": [
    "from sklearn import svm\n",
    "from sklearn.ensemble import GradientBoostingClassifier\n",
    "from sklearn.linear_model import LogisticRegressionCV"
   ]
  },
  {
   "cell_type": "code",
   "execution_count": 43,
   "metadata": {},
   "outputs": [
    {
     "name": "stdout",
     "output_type": "stream",
     "text": [
      "Start training...\n",
      "Start training...\n",
      "Start training...\n",
      "Start training...\n"
     ]
    }
   ],
   "source": [
    "result_report = []\n",
    "\n",
    "clf = LogisticRegressionCV(Cs=10, cv=5, scoring=\"accuracy\", multi_class=\"ovr\", max_iter=300, random_state=42)\n",
    "result_report.append([\n",
    "    str(model),\n",
    "    'LogisticRegression CV = 5',\n",
    "    *list(train_model(clf, node2vec_model=node2vec_model, data_year=data_year).values())\n",
    "]);\n",
    "\n",
    "clf2 = LogisticRegressionCV(Cs=10, cv=10, scoring=\"accuracy\", multi_class=\"ovr\", max_iter=300, random_state=42)\n",
    "result_report.append([\n",
    "    str(model),\n",
    "    'LogisticRegression CV = 10',\n",
    "    *list(train_model(clf2, node2vec_model=node2vec_model, data_year=data_year).values())\n",
    "]);\n",
    "\n",
    "tree_clf = GradientBoostingClassifier(random_state=42)\n",
    "result_report.append([\n",
    "    str(model),\n",
    "    'GradientBoostingClassifier',\n",
    "    *list(train_model(tree_clf, node2vec_model=node2vec_model, data_year=data_year).values())\n",
    "]);\n",
    "\n",
    "svm_clf = svm.SVC(decision_function_shape='ovo', probability=True, random_state=42)\n",
    "result_report.append([\n",
    "    str(model),\n",
    "    'SVC ovo',\n",
    "    *list(train_model(svm_clf, node2vec_model=node2vec_model, data_year=data_year).values())\n",
    "]);\n",
    "\n",
    "model_res = pd.DataFrame(result_report,\n",
    "                    columns=[\"Feature\", \"Classifier\", \"Accuracy\", \"Balanced Accuracy score\",\n",
    "                             \"F1 micro score\", \"F1 macro score\", \"F1 weighted score\", \"MAE\", \"Confusion matrix\"])"
   ]
  },
  {
   "cell_type": "code",
   "execution_count": 44,
   "metadata": {},
   "outputs": [
    {
     "data": {
      "text/html": "<div>\n<style scoped>\n    .dataframe tbody tr th:only-of-type {\n        vertical-align: middle;\n    }\n\n    .dataframe tbody tr th {\n        vertical-align: top;\n    }\n\n    .dataframe thead th {\n        text-align: right;\n    }\n</style>\n<table border=\"1\" class=\"dataframe\">\n  <thead>\n    <tr style=\"text-align: right;\">\n      <th></th>\n      <th>Feature</th>\n      <th>Classifier</th>\n      <th>Accuracy</th>\n      <th>Balanced Accuracy score</th>\n      <th>F1 micro score</th>\n      <th>F1 macro score</th>\n      <th>F1 weighted score</th>\n      <th>MAE</th>\n      <th>Confusion matrix</th>\n    </tr>\n  </thead>\n  <tbody>\n    <tr>\n      <th>0</th>\n      <td>&lt;tensorflow.python.keras.engine.functional.Fun...</td>\n      <td>LogisticRegression CV = 5</td>\n      <td>0.544820</td>\n      <td>0.369032</td>\n      <td>0.544820</td>\n      <td>0.313669</td>\n      <td>0.437061</td>\n      <td>0.597206</td>\n      <td>[[3, 39, 120], [5, 32, 208], [2, 17, 433]]</td>\n    </tr>\n    <tr>\n      <th>1</th>\n      <td>&lt;tensorflow.python.keras.engine.functional.Fun...</td>\n      <td>LogisticRegression CV = 10</td>\n      <td>0.541327</td>\n      <td>0.364253</td>\n      <td>0.541327</td>\n      <td>0.305611</td>\n      <td>0.430852</td>\n      <td>0.601863</td>\n      <td>[[2, 39, 121], [5, 30, 210], [2, 17, 433]]</td>\n    </tr>\n    <tr>\n      <th>2</th>\n      <td>&lt;tensorflow.python.keras.engine.functional.Fun...</td>\n      <td>GradientBoostingClassifier</td>\n      <td>0.513388</td>\n      <td>0.392241</td>\n      <td>0.513388</td>\n      <td>0.380391</td>\n      <td>0.468926</td>\n      <td>0.636787</td>\n      <td>[[30, 38, 94], [42, 44, 159], [35, 50, 367]]</td>\n    </tr>\n    <tr>\n      <th>3</th>\n      <td>&lt;tensorflow.python.keras.engine.functional.Fun...</td>\n      <td>SVC ovo</td>\n      <td>0.543655</td>\n      <td>0.383852</td>\n      <td>0.543655</td>\n      <td>0.327749</td>\n      <td>0.429680</td>\n      <td>0.612340</td>\n      <td>[[28, 13, 121], [32, 4, 209], [13, 4, 435]]</td>\n    </tr>\n  </tbody>\n</table>\n</div>",
      "text/plain": "                                             Feature  \\\n0  <tensorflow.python.keras.engine.functional.Fun...   \n1  <tensorflow.python.keras.engine.functional.Fun...   \n2  <tensorflow.python.keras.engine.functional.Fun...   \n3  <tensorflow.python.keras.engine.functional.Fun...   \n\n                   Classifier  Accuracy  Balanced Accuracy score  \\\n0   LogisticRegression CV = 5  0.544820                 0.369032   \n1  LogisticRegression CV = 10  0.541327                 0.364253   \n2  GradientBoostingClassifier  0.513388                 0.392241   \n3                     SVC ovo  0.543655                 0.383852   \n\n   F1 micro score  F1 macro score  F1 weighted score       MAE  \\\n0        0.544820        0.313669           0.437061  0.597206   \n1        0.541327        0.305611           0.430852  0.601863   \n2        0.513388        0.380391           0.468926  0.636787   \n3        0.543655        0.327749           0.429680  0.612340   \n\n                               Confusion matrix  \n0    [[3, 39, 120], [5, 32, 208], [2, 17, 433]]  \n1    [[2, 39, 121], [5, 30, 210], [2, 17, 433]]  \n2  [[30, 38, 94], [42, 44, 159], [35, 50, 367]]  \n3   [[28, 13, 121], [32, 4, 209], [13, 4, 435]]  "
     },
     "execution_count": 44,
     "metadata": {},
     "output_type": "execute_result"
    }
   ],
   "source": [
    "model_res.head()"
   ]
  },
  {
   "cell_type": "code",
   "execution_count": 35,
   "metadata": {},
   "outputs": [],
   "source": [
    "import json\n",
    "\n",
    "with open('attrib2vec_256D.json', 'w') as f:\n",
    "    json.dump(node2vec_model.wv, f)"
   ]
  },
  {
   "cell_type": "code",
   "execution_count": null,
   "metadata": {},
   "outputs": [],
   "source": []
  }
 ],
 "metadata": {
  "kernelspec": {
   "name": "python37964bitsitesimilarityconda3458ba63412949049ad8944d4d78b811",
   "display_name": "Python 3.7.9 64-bit ('site_similarity': conda)"
  },
  "language_info": {
   "codemirror_mode": {
    "name": "ipython",
    "version": 3
   },
   "file_extension": ".py",
   "mimetype": "text/x-python",
   "name": "python",
   "nbconvert_exporter": "python",
   "pygments_lexer": "ipython3",
   "version": "3.7.9"
  },
  "metadata": {
   "interpreter": {
    "hash": "72b3faef5542ae75c34eb0d3b11ce0fc432eb00b9ccfc309dfbebb58f482608a"
   }
  }
 },
 "nbformat": 4,
 "nbformat_minor": 4
}