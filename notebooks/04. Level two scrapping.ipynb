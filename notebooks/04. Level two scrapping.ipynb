{
 "cells": [
  {
   "cell_type": "code",
   "execution_count": 1,
   "metadata": {
    "collapsed": true
   },
   "outputs": [],
   "source": [
    "import  json\n",
    "\n",
    "with open(\"/home/paco/Documents/site_similarity/data/scrapping_results/level 1 results.json\", 'r') as f:\n",
    "    data = json.load(f)"
   ]
  },
  {
   "cell_type": "code",
   "execution_count": 2,
   "outputs": [
    {
     "data": {
      "text/plain": "1062"
     },
     "execution_count": 2,
     "metadata": {},
     "output_type": "execute_result"
    }
   ],
   "source": [
    "len(data)"
   ],
   "metadata": {
    "collapsed": false,
    "pycharm": {
     "name": "#%%\n"
    }
   }
  },
  {
   "cell_type": "code",
   "execution_count": 3,
   "outputs": [
    {
     "name": "stderr",
     "output_type": "stream",
     "text": [
      "1062it [1:25:26,  4.83s/it] \n"
     ]
    },
    {
     "name": "stdout",
     "output_type": "stream",
     "text": [
      "Save data at index 0 ...\n",
      "Save data at index 10 ...\n",
      "Save data at index 20 ...\n",
      "Save data at index 30 ...\n",
      "Save data at index 40 ...\n",
      "Save data at index 50 ...\n",
      "Save data at index 60 ...\n",
      "Save data at index 70 ...\n",
      "Save data at index 80 ...\n",
      "Save data at index 90 ...\n",
      "Save data at index 100 ...\n",
      "Save data at index 110 ...\n",
      "Save data at index 120 ...\n",
      "Save data at index 130 ...\n",
      "Save data at index 140 ...\n",
      "Save data at index 150 ...\n",
      "Save data at index 160 ...\n",
      "Save data at index 170 ...\n",
      "Save data at index 180 ...\n",
      "Save data at index 190 ...\n",
      "Save data at index 200 ...\n",
      "Save data at index 210 ...\n",
      "Save data at index 220 ...\n",
      "Save data at index 230 ...\n",
      "Save data at index 240 ...\n",
      "Save data at index 250 ...\n",
      "Save data at index 260 ...\n",
      "Save data at index 270 ...\n",
      "Save data at index 280 ...\n",
      "Save data at index 290 ...\n",
      "Save data at index 300 ...\n",
      "Save data at index 310 ...\n",
      "Save data at index 320 ...\n",
      "Save data at index 330 ...\n",
      "Save data at index 340 ...\n",
      "Save data at index 350 ...\n",
      "Save data at index 360 ...\n",
      "Save data at index 370 ...\n",
      "Save data at index 380 ...\n",
      "Save data at index 390 ...\n",
      "Save data at index 400 ...\n",
      "Save data at index 410 ...\n",
      "Save data at index 420 ...\n",
      "Save data at index 430 ...\n",
      "Save data at index 440 ...\n",
      "Save data at index 450 ...\n",
      "Save data at index 460 ...\n",
      "Save data at index 470 ...\n",
      "Save data at index 480 ...\n",
      "Save data at index 490 ...\n",
      "Save data at index 500 ...\n",
      "Save data at index 510 ...\n",
      "Save data at index 520 ...\n",
      "Save data at index 530 ...\n",
      "Save data at index 540 ...\n",
      "Save data at index 550 ...\n",
      "Save data at index 560 ...\n",
      "Save data at index 570 ...\n",
      "Save data at index 580 ...\n",
      "Save data at index 590 ...\n",
      "Save data at index 600 ...\n",
      "Save data at index 610 ...\n",
      "Save data at index 620 ...\n",
      "Save data at index 630 ...\n",
      "Save data at index 640 ...\n",
      "Save data at index 650 ...\n",
      "Save data at index 660 ...\n",
      "Save data at index 670 ...\n",
      "Save data at index 680 ...\n",
      "Save data at index 690 ...\n",
      "Save data at index 700 ...\n",
      "Save data at index 710 ...\n",
      "Save data at index 720 ...\n",
      "Save data at index 730 ...\n",
      "Save data at index 740 ...\n",
      "Save data at index 750 ...\n",
      "Save data at index 760 ...\n",
      "Save data at index 770 ...\n",
      "Save data at index 780 ...\n",
      "Save data at index 790 ...\n",
      "Save data at index 800 ...\n",
      "Save data at index 810 ...\n",
      "Save data at index 820 ...\n",
      "Save data at index 830 ...\n",
      "Save data at index 840 ...\n",
      "Save data at index 850 ...\n",
      "Save data at index 860 ...\n",
      "Save data at index 870 ...\n",
      "Save data at index 880 ...\n",
      "Save data at index 890 ...\n",
      "Save data at index 900 ...\n",
      "Save data at index 910 ...\n",
      "Save data at index 920 ...\n",
      "Save data at index 930 ...\n",
      "Save data at index 940 ...\n",
      "Save data at index 950 ...\n",
      "Save data at index 960 ...\n",
      "Save data at index 970 ...\n",
      "Save data at index 980 ...\n",
      "Save data at index 990 ...\n",
      "Save data at index 1000 ...\n",
      "Save data at index 1010 ...\n",
      "Save data at index 1020 ...\n",
      "Save data at index 1030 ...\n",
      "Save data at index 1040 ...\n",
      "Save data at index 1050 ...\n",
      "Save data at index 1060 ...\n"
     ]
    }
   ],
   "source": [
    "from dataprep.alexa_scrapper import level_two_scrapping\n",
    "\n",
    "\n",
    "res = level_two_scrapping(data,\n",
    "                          target_dir='/home/paco/Documents/site_similarity/data/level 2 scrapping/',\n",
    "                          output_file='/home/paco/Documents/site_similarity/data/scrapping_results/level 2 results.json')\n"
   ],
   "metadata": {
    "collapsed": false,
    "pycharm": {
     "name": "#%%\n"
    }
   }
  },
  {
   "cell_type": "code",
   "execution_count": 4,
   "outputs": [
    {
     "data": {
      "text/plain": "1062"
     },
     "execution_count": 4,
     "metadata": {},
     "output_type": "execute_result"
    }
   ],
   "source": [
    "len(res)"
   ],
   "metadata": {
    "collapsed": false,
    "pycharm": {
     "name": "#%%\n"
    }
   }
  },
  {
   "cell_type": "code",
   "execution_count": 15,
   "outputs": [
    {
     "name": "stdout",
     "output_type": "stream",
     "text": [
      "[{'url': 'compatible-astrology.com', 'overlap_score': 16.1, 'alexa_rank': 173807.0}, {'url': 'astrology-zodiac-signs.com', 'overlap_score': 14.1, 'alexa_rank': 18913.0}, {'url': 'papermag.com', 'overlap_score': 13.8, 'alexa_rank': 31762.0}, {'url': 'astrology.com', 'overlap_score': 12.7, 'alexa_rank': 16859.0}, {'url': 'flaunt.com', 'overlap_score': 11.1, 'alexa_rank': 10267.0}]\n",
      "[{'site': 'compatible-astrology.com', 'score': [{'url': 'astrology-zodiac-signs.com', 'overlap_score': 65.8, 'alexa_rank': 18913.0}, {'url': 'astrology.com', 'overlap_score': 49.4, 'alexa_rank': 16859.0}, {'url': 'astromatcha.com', 'overlap_score': 38.4, 'alexa_rank': 1078304.0}, {'url': 'ganeshaspeaks.com', 'overlap_score': 38.1, 'alexa_rank': 13405.0}, {'url': 'astrostyle.com', 'overlap_score': 36.0, 'alexa_rank': 40172.0}], 'audience_geography': [{'country': 'United States', 'percent': 41.7}, {'country': 'India', 'percent': 23.6}, {'country': 'Pakistan', 'percent': 6.9}]}, {'site': 'astrology-zodiac-signs.com', 'score': [{'url': 'astrology.com', 'overlap_score': 69.8, 'alexa_rank': 16859.0}, {'url': 'compatible-astrology.com', 'overlap_score': 65.8, 'alexa_rank': 173807.0}, {'url': 'astrostyle.com', 'overlap_score': 53.9, 'alexa_rank': 40172.0}, {'url': 'thehoroscope.co', 'overlap_score': 46.4, 'alexa_rank': 51746.0}, {'url': 'ganeshaspeaks.com', 'overlap_score': 44.5, 'alexa_rank': 13405.0}], 'audience_geography': [{'country': 'United States', 'percent': 46.2}, {'country': 'India', 'percent': 9.0}, {'country': 'Canada', 'percent': 6.9}]}, {'site': 'papermag.com', 'score': [{'url': 'nylon.com', 'overlap_score': 13.8, 'alexa_rank': 50466.0}, {'url': 'out.com', 'overlap_score': 10.7, 'alexa_rank': 47451.0}, {'url': 'thefader.com', 'overlap_score': 10.2, 'alexa_rank': 34761.0}, {'url': 'dazeddigital.com', 'overlap_score': 9.4, 'alexa_rank': 26673.0}, {'url': 'wmagazine.com', 'overlap_score': 8.1, 'alexa_rank': 48451.0}], 'audience_geography': [{'country': 'United States', 'percent': 81.7}, {'country': 'Canada', 'percent': 3.8}, {'country': 'India', 'percent': 3.1}]}, {'site': 'astrology.com', 'score': [{'url': 'astrology-zodiac-signs.com', 'overlap_score': 69.8, 'alexa_rank': 18913.0}, {'url': 'astrostyle.com', 'overlap_score': 59.7, 'alexa_rank': 40172.0}, {'url': 'horoscope.com', 'overlap_score': 51.5, 'alexa_rank': 11770.0}, {'url': 'ganeshaspeaks.com', 'overlap_score': 49.7, 'alexa_rank': 13405.0}, {'url': 'compatible-astrology.com', 'overlap_score': 49.4, 'alexa_rank': 173807.0}], 'audience_geography': [{'country': 'United States', 'percent': 44.8}, {'country': 'India', 'percent': 27.1}, {'country': 'Canada', 'percent': 5.9}]}, {'site': 'flaunt.com', 'score': [{'url': 'earmilk.com', 'overlap_score': 19.6, 'alexa_rank': 99624.0}, {'url': 'vmagazine.com', 'overlap_score': 18.4, 'alexa_rank': 161384.0}, {'url': 'onestowatch.com', 'overlap_score': 17.1, 'alexa_rank': 142387.0}, {'url': 'atwoodmagazine.com', 'overlap_score': 17.0, 'alexa_rank': 156644.0}, {'url': 'floodmagazine.com', 'overlap_score': 15.9, 'alexa_rank': 172955.0}], 'audience_geography': [{'country': 'United States', 'percent': 58.36}, {'country': 'Canada', 'percent': 27.28}, {'country': 'India', 'percent': 7.82}]}]\n"
     ]
    }
   ],
   "source": [
    "print(res['villagevoice.com']['level_one_res'][0]['score'])\n",
    "\n",
    "print(res['villagevoice.com']['level_one_res'][0]['level_two_res'])"
   ],
   "metadata": {
    "collapsed": false,
    "pycharm": {
     "name": "#%%\n"
    }
   }
  },
  {
   "cell_type": "markdown",
   "source": [
    "# Save results from scrapping level 2"
   ],
   "metadata": {
    "collapsed": false,
    "pycharm": {
     "name": "#%% md\n"
    }
   }
  },
  {
   "cell_type": "code",
   "execution_count": 16,
   "outputs": [],
   "source": [
    "import json\n",
    "\n",
    "with open(\"/home/paco/Documents/site_similarity/data/scrapping_results/level 2 results.json\", 'w') as f:\n",
    "    json.dump(res, f, indent=4)"
   ],
   "metadata": {
    "collapsed": false,
    "pycharm": {
     "name": "#%%\n"
    }
   }
  }
 ],
 "metadata": {
  "kernelspec": {
   "display_name": "Python 3",
   "language": "python",
   "name": "python3"
  },
  "language_info": {
   "codemirror_mode": {
    "name": "ipython",
    "version": 2
   },
   "file_extension": ".py",
   "mimetype": "text/x-python",
   "name": "python",
   "nbconvert_exporter": "python",
   "pygments_lexer": "ipython2",
   "version": "2.7.6"
  }
 },
 "nbformat": 4,
 "nbformat_minor": 0
}