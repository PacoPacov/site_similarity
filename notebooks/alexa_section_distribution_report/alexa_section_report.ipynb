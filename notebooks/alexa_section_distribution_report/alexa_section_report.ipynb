{
 "cells": [
  {
   "cell_type": "code",
   "execution_count": 1,
   "metadata": {},
   "outputs": [],
   "source": [
    "import pandas as pd"
   ]
  },
  {
   "cell_type": "code",
   "execution_count": 2,
   "metadata": {},
   "outputs": [],
   "source": [
    "df = pd.read_csv('alexa_sections_report.csv')"
   ]
  },
  {
   "cell_type": "code",
   "execution_count": 3,
   "metadata": {},
   "outputs": [
    {
     "data": {
      "text/html": "<div>\n<style scoped>\n    .dataframe tbody tr th:only-of-type {\n        vertical-align: middle;\n    }\n\n    .dataframe tbody tr th {\n        vertical-align: top;\n    }\n\n    .dataframe thead th {\n        text-align: right;\n    }\n</style>\n<table border=\"1\" class=\"dataframe\">\n  <thead>\n    <tr style=\"text-align: right;\">\n      <th></th>\n      <th>site</th>\n      <th>comparison_metrics</th>\n      <th>similar_sites_by_audience_overlap</th>\n      <th>top_industry_topics_by_social_engagement</th>\n      <th>top_keywords_by_traffic</th>\n      <th>alexa_rank_90_days_trends</th>\n      <th>alexa_rank_90_days_trends_alexa_rank</th>\n      <th>alexa_rank_90_days_trends_time_on_site</th>\n      <th>keyword_gaps</th>\n      <th>easy_to_rank_keywords</th>\n      <th>...</th>\n      <th>site_metrics_daily_pageviews_per_visitor</th>\n      <th>site_metrics_daily_pageviews_per_visitor_for_the_last_90_days</th>\n      <th>site_metrics_daily_time_on_site</th>\n      <th>site_metrics_daily_time_on_site_for_the_last_90_days</th>\n      <th>site_metrics_bounce_rate</th>\n      <th>site_metrics_bounce_rate_for_the_last_90_days</th>\n      <th>site_metrics_traffic_source_search</th>\n      <th>site_metrics_visited_just_before</th>\n      <th>site_metrics_visited_right_after</th>\n      <th>site_metrics_total_sites_linking_in</th>\n    </tr>\n  </thead>\n  <tbody>\n    <tr>\n      <th>0</th>\n      <td>92newshd.tv</td>\n      <td>0.0</td>\n      <td>1.0</td>\n      <td>1.0</td>\n      <td>1.0</td>\n      <td>1.0</td>\n      <td>1.0</td>\n      <td>1.0</td>\n      <td>1.0</td>\n      <td>1.0</td>\n      <td>...</td>\n      <td>1.0</td>\n      <td>1.0</td>\n      <td>1.0</td>\n      <td>1.0</td>\n      <td>1.0</td>\n      <td>1.0</td>\n      <td>1.0</td>\n      <td>1.0</td>\n      <td>1.0</td>\n      <td>1.0</td>\n    </tr>\n    <tr>\n      <th>1</th>\n      <td>newspointread.com</td>\n      <td>0.0</td>\n      <td>1.0</td>\n      <td>0.0</td>\n      <td>1.0</td>\n      <td>1.0</td>\n      <td>0.0</td>\n      <td>0.0</td>\n      <td>1.0</td>\n      <td>1.0</td>\n      <td>...</td>\n      <td>NaN</td>\n      <td>NaN</td>\n      <td>NaN</td>\n      <td>NaN</td>\n      <td>NaN</td>\n      <td>NaN</td>\n      <td>NaN</td>\n      <td>NaN</td>\n      <td>NaN</td>\n      <td>NaN</td>\n    </tr>\n    <tr>\n      <th>2</th>\n      <td>tobaccofreeny.org</td>\n      <td>0.0</td>\n      <td>1.0</td>\n      <td>0.0</td>\n      <td>1.0</td>\n      <td>1.0</td>\n      <td>0.0</td>\n      <td>0.0</td>\n      <td>1.0</td>\n      <td>1.0</td>\n      <td>...</td>\n      <td>0.0</td>\n      <td>0.0</td>\n      <td>0.0</td>\n      <td>0.0</td>\n      <td>0.0</td>\n      <td>0.0</td>\n      <td>0.0</td>\n      <td>0.0</td>\n      <td>0.0</td>\n      <td>1.0</td>\n    </tr>\n    <tr>\n      <th>3</th>\n      <td>organichits.co</td>\n      <td>0.0</td>\n      <td>1.0</td>\n      <td>0.0</td>\n      <td>1.0</td>\n      <td>1.0</td>\n      <td>1.0</td>\n      <td>1.0</td>\n      <td>1.0</td>\n      <td>1.0</td>\n      <td>...</td>\n      <td>1.0</td>\n      <td>1.0</td>\n      <td>1.0</td>\n      <td>1.0</td>\n      <td>1.0</td>\n      <td>1.0</td>\n      <td>1.0</td>\n      <td>1.0</td>\n      <td>1.0</td>\n      <td>1.0</td>\n    </tr>\n    <tr>\n      <th>4</th>\n      <td>innercitypress.blogspot.com.es</td>\n      <td>0.0</td>\n      <td>0.0</td>\n      <td>0.0</td>\n      <td>0.0</td>\n      <td>0.0</td>\n      <td>NaN</td>\n      <td>NaN</td>\n      <td>0.0</td>\n      <td>0.0</td>\n      <td>...</td>\n      <td>NaN</td>\n      <td>NaN</td>\n      <td>NaN</td>\n      <td>NaN</td>\n      <td>NaN</td>\n      <td>NaN</td>\n      <td>NaN</td>\n      <td>NaN</td>\n      <td>NaN</td>\n      <td>NaN</td>\n    </tr>\n  </tbody>\n</table>\n<p>5 rows × 36 columns</p>\n</div>",
      "text/plain": "                             site  comparison_metrics  \\\n0                     92newshd.tv                 0.0   \n1               newspointread.com                 0.0   \n2               tobaccofreeny.org                 0.0   \n3                  organichits.co                 0.0   \n4  innercitypress.blogspot.com.es                 0.0   \n\n   similar_sites_by_audience_overlap  \\\n0                                1.0   \n1                                1.0   \n2                                1.0   \n3                                1.0   \n4                                0.0   \n\n   top_industry_topics_by_social_engagement  top_keywords_by_traffic  \\\n0                                       1.0                      1.0   \n1                                       0.0                      1.0   \n2                                       0.0                      1.0   \n3                                       0.0                      1.0   \n4                                       0.0                      0.0   \n\n   alexa_rank_90_days_trends  alexa_rank_90_days_trends_alexa_rank  \\\n0                        1.0                                   1.0   \n1                        1.0                                   0.0   \n2                        1.0                                   0.0   \n3                        1.0                                   1.0   \n4                        0.0                                   NaN   \n\n   alexa_rank_90_days_trends_time_on_site  keyword_gaps  \\\n0                                     1.0           1.0   \n1                                     0.0           1.0   \n2                                     0.0           1.0   \n3                                     1.0           1.0   \n4                                     NaN           0.0   \n\n   easy_to_rank_keywords  ...  site_metrics_daily_pageviews_per_visitor  \\\n0                    1.0  ...                                       1.0   \n1                    1.0  ...                                       NaN   \n2                    1.0  ...                                       0.0   \n3                    1.0  ...                                       1.0   \n4                    0.0  ...                                       NaN   \n\n   site_metrics_daily_pageviews_per_visitor_for_the_last_90_days  \\\n0                                                1.0               \n1                                                NaN               \n2                                                0.0               \n3                                                1.0               \n4                                                NaN               \n\n   site_metrics_daily_time_on_site  \\\n0                              1.0   \n1                              NaN   \n2                              0.0   \n3                              1.0   \n4                              NaN   \n\n   site_metrics_daily_time_on_site_for_the_last_90_days  \\\n0                                                1.0      \n1                                                NaN      \n2                                                0.0      \n3                                                1.0      \n4                                                NaN      \n\n   site_metrics_bounce_rate  site_metrics_bounce_rate_for_the_last_90_days  \\\n0                       1.0                                            1.0   \n1                       NaN                                            NaN   \n2                       0.0                                            0.0   \n3                       1.0                                            1.0   \n4                       NaN                                            NaN   \n\n   site_metrics_traffic_source_search  site_metrics_visited_just_before  \\\n0                                 1.0                               1.0   \n1                                 NaN                               NaN   \n2                                 0.0                               0.0   \n3                                 1.0                               1.0   \n4                                 NaN                               NaN   \n\n   site_metrics_visited_right_after  site_metrics_total_sites_linking_in  \n0                               1.0                                  1.0  \n1                               NaN                                  NaN  \n2                               0.0                                  1.0  \n3                               1.0                                  1.0  \n4                               NaN                                  NaN  \n\n[5 rows x 36 columns]"
     },
     "execution_count": 3,
     "metadata": {},
     "output_type": "execute_result"
    }
   ],
   "source": [
    "df.head()"
   ]
  },
  {
   "cell_type": "code",
   "execution_count": 4,
   "metadata": {},
   "outputs": [
    {
     "data": {
      "text/plain": "(118087, 36)"
     },
     "execution_count": 4,
     "metadata": {},
     "output_type": "execute_result"
    }
   ],
   "source": [
    "df.shape"
   ]
  },
  {
   "cell_type": "code",
   "execution_count": 5,
   "metadata": {},
   "outputs": [
    {
     "data": {
      "text/html": "<div>\n<style scoped>\n    .dataframe tbody tr th:only-of-type {\n        vertical-align: middle;\n    }\n\n    .dataframe tbody tr th {\n        vertical-align: top;\n    }\n\n    .dataframe thead th {\n        text-align: right;\n    }\n</style>\n<table border=\"1\" class=\"dataframe\">\n  <thead>\n    <tr style=\"text-align: right;\">\n      <th></th>\n      <th>comparison_metrics</th>\n      <th>similar_sites_by_audience_overlap</th>\n      <th>top_industry_topics_by_social_engagement</th>\n      <th>top_keywords_by_traffic</th>\n      <th>alexa_rank_90_days_trends</th>\n      <th>alexa_rank_90_days_trends_alexa_rank</th>\n      <th>alexa_rank_90_days_trends_time_on_site</th>\n      <th>keyword_gaps</th>\n      <th>easy_to_rank_keywords</th>\n      <th>buyer_keywords</th>\n      <th>...</th>\n      <th>site_metrics_daily_pageviews_per_visitor</th>\n      <th>site_metrics_daily_pageviews_per_visitor_for_the_last_90_days</th>\n      <th>site_metrics_daily_time_on_site</th>\n      <th>site_metrics_daily_time_on_site_for_the_last_90_days</th>\n      <th>site_metrics_bounce_rate</th>\n      <th>site_metrics_bounce_rate_for_the_last_90_days</th>\n      <th>site_metrics_traffic_source_search</th>\n      <th>site_metrics_visited_just_before</th>\n      <th>site_metrics_visited_right_after</th>\n      <th>site_metrics_total_sites_linking_in</th>\n    </tr>\n  </thead>\n  <tbody>\n    <tr>\n      <th>count</th>\n      <td>118087.0</td>\n      <td>118087.000000</td>\n      <td>118087.000000</td>\n      <td>118087.000000</td>\n      <td>118087.000000</td>\n      <td>91618.000000</td>\n      <td>91618.000000</td>\n      <td>118087.000000</td>\n      <td>118087.000000</td>\n      <td>118087.000000</td>\n      <td>...</td>\n      <td>113246.000000</td>\n      <td>113246.000000</td>\n      <td>113246.000000</td>\n      <td>113246.000000</td>\n      <td>113246.000000</td>\n      <td>113246.000000</td>\n      <td>113246.000000</td>\n      <td>113246.000000</td>\n      <td>113246.000000</td>\n      <td>113246.000000</td>\n    </tr>\n    <tr>\n      <th>mean</th>\n      <td>0.0</td>\n      <td>0.771651</td>\n      <td>0.246242</td>\n      <td>0.770542</td>\n      <td>0.775852</td>\n      <td>0.693445</td>\n      <td>0.430177</td>\n      <td>0.770813</td>\n      <td>0.755511</td>\n      <td>0.741462</td>\n      <td>...</td>\n      <td>0.637011</td>\n      <td>0.484476</td>\n      <td>0.378212</td>\n      <td>0.327985</td>\n      <td>0.324268</td>\n      <td>0.284372</td>\n      <td>0.215319</td>\n      <td>0.263162</td>\n      <td>0.239223</td>\n      <td>0.990419</td>\n    </tr>\n    <tr>\n      <th>std</th>\n      <td>0.0</td>\n      <td>0.419770</td>\n      <td>0.430823</td>\n      <td>0.420486</td>\n      <td>0.417022</td>\n      <td>0.461066</td>\n      <td>0.495104</td>\n      <td>0.420312</td>\n      <td>0.429786</td>\n      <td>0.437833</td>\n      <td>...</td>\n      <td>0.480864</td>\n      <td>0.499761</td>\n      <td>0.484943</td>\n      <td>0.469481</td>\n      <td>0.468103</td>\n      <td>0.451117</td>\n      <td>0.411045</td>\n      <td>0.440351</td>\n      <td>0.426611</td>\n      <td>0.097413</td>\n    </tr>\n    <tr>\n      <th>min</th>\n      <td>0.0</td>\n      <td>0.000000</td>\n      <td>0.000000</td>\n      <td>0.000000</td>\n      <td>0.000000</td>\n      <td>0.000000</td>\n      <td>0.000000</td>\n      <td>0.000000</td>\n      <td>0.000000</td>\n      <td>0.000000</td>\n      <td>...</td>\n      <td>0.000000</td>\n      <td>0.000000</td>\n      <td>0.000000</td>\n      <td>0.000000</td>\n      <td>0.000000</td>\n      <td>0.000000</td>\n      <td>0.000000</td>\n      <td>0.000000</td>\n      <td>0.000000</td>\n      <td>0.000000</td>\n    </tr>\n    <tr>\n      <th>25%</th>\n      <td>0.0</td>\n      <td>1.000000</td>\n      <td>0.000000</td>\n      <td>1.000000</td>\n      <td>1.000000</td>\n      <td>0.000000</td>\n      <td>0.000000</td>\n      <td>1.000000</td>\n      <td>1.000000</td>\n      <td>0.000000</td>\n      <td>...</td>\n      <td>0.000000</td>\n      <td>0.000000</td>\n      <td>0.000000</td>\n      <td>0.000000</td>\n      <td>0.000000</td>\n      <td>0.000000</td>\n      <td>0.000000</td>\n      <td>0.000000</td>\n      <td>0.000000</td>\n      <td>1.000000</td>\n    </tr>\n    <tr>\n      <th>50%</th>\n      <td>0.0</td>\n      <td>1.000000</td>\n      <td>0.000000</td>\n      <td>1.000000</td>\n      <td>1.000000</td>\n      <td>1.000000</td>\n      <td>0.000000</td>\n      <td>1.000000</td>\n      <td>1.000000</td>\n      <td>1.000000</td>\n      <td>...</td>\n      <td>1.000000</td>\n      <td>0.000000</td>\n      <td>0.000000</td>\n      <td>0.000000</td>\n      <td>0.000000</td>\n      <td>0.000000</td>\n      <td>0.000000</td>\n      <td>0.000000</td>\n      <td>0.000000</td>\n      <td>1.000000</td>\n    </tr>\n    <tr>\n      <th>75%</th>\n      <td>0.0</td>\n      <td>1.000000</td>\n      <td>0.000000</td>\n      <td>1.000000</td>\n      <td>1.000000</td>\n      <td>1.000000</td>\n      <td>1.000000</td>\n      <td>1.000000</td>\n      <td>1.000000</td>\n      <td>1.000000</td>\n      <td>...</td>\n      <td>1.000000</td>\n      <td>1.000000</td>\n      <td>1.000000</td>\n      <td>1.000000</td>\n      <td>1.000000</td>\n      <td>1.000000</td>\n      <td>0.000000</td>\n      <td>1.000000</td>\n      <td>0.000000</td>\n      <td>1.000000</td>\n    </tr>\n    <tr>\n      <th>max</th>\n      <td>0.0</td>\n      <td>1.000000</td>\n      <td>1.000000</td>\n      <td>1.000000</td>\n      <td>1.000000</td>\n      <td>1.000000</td>\n      <td>1.000000</td>\n      <td>1.000000</td>\n      <td>1.000000</td>\n      <td>1.000000</td>\n      <td>...</td>\n      <td>1.000000</td>\n      <td>1.000000</td>\n      <td>1.000000</td>\n      <td>1.000000</td>\n      <td>1.000000</td>\n      <td>1.000000</td>\n      <td>1.000000</td>\n      <td>1.000000</td>\n      <td>1.000000</td>\n      <td>1.000000</td>\n    </tr>\n  </tbody>\n</table>\n<p>8 rows × 35 columns</p>\n</div>",
      "text/plain": "       comparison_metrics  similar_sites_by_audience_overlap  \\\ncount            118087.0                      118087.000000   \nmean                  0.0                           0.771651   \nstd                   0.0                           0.419770   \nmin                   0.0                           0.000000   \n25%                   0.0                           1.000000   \n50%                   0.0                           1.000000   \n75%                   0.0                           1.000000   \nmax                   0.0                           1.000000   \n\n       top_industry_topics_by_social_engagement  top_keywords_by_traffic  \\\ncount                             118087.000000            118087.000000   \nmean                                   0.246242                 0.770542   \nstd                                    0.430823                 0.420486   \nmin                                    0.000000                 0.000000   \n25%                                    0.000000                 1.000000   \n50%                                    0.000000                 1.000000   \n75%                                    0.000000                 1.000000   \nmax                                    1.000000                 1.000000   \n\n       alexa_rank_90_days_trends  alexa_rank_90_days_trends_alexa_rank  \\\ncount              118087.000000                          91618.000000   \nmean                    0.775852                              0.693445   \nstd                     0.417022                              0.461066   \nmin                     0.000000                              0.000000   \n25%                     1.000000                              0.000000   \n50%                     1.000000                              1.000000   \n75%                     1.000000                              1.000000   \nmax                     1.000000                              1.000000   \n\n       alexa_rank_90_days_trends_time_on_site   keyword_gaps  \\\ncount                            91618.000000  118087.000000   \nmean                                 0.430177       0.770813   \nstd                                  0.495104       0.420312   \nmin                                  0.000000       0.000000   \n25%                                  0.000000       1.000000   \n50%                                  0.000000       1.000000   \n75%                                  1.000000       1.000000   \nmax                                  1.000000       1.000000   \n\n       easy_to_rank_keywords  buyer_keywords  ...  \\\ncount          118087.000000   118087.000000  ...   \nmean                0.755511        0.741462  ...   \nstd                 0.429786        0.437833  ...   \nmin                 0.000000        0.000000  ...   \n25%                 1.000000        0.000000  ...   \n50%                 1.000000        1.000000  ...   \n75%                 1.000000        1.000000  ...   \nmax                 1.000000        1.000000  ...   \n\n       site_metrics_daily_pageviews_per_visitor  \\\ncount                             113246.000000   \nmean                                   0.637011   \nstd                                    0.480864   \nmin                                    0.000000   \n25%                                    0.000000   \n50%                                    1.000000   \n75%                                    1.000000   \nmax                                    1.000000   \n\n       site_metrics_daily_pageviews_per_visitor_for_the_last_90_days  \\\ncount                                      113246.000000               \nmean                                            0.484476               \nstd                                             0.499761               \nmin                                             0.000000               \n25%                                             0.000000               \n50%                                             0.000000               \n75%                                             1.000000               \nmax                                             1.000000               \n\n       site_metrics_daily_time_on_site  \\\ncount                    113246.000000   \nmean                          0.378212   \nstd                           0.484943   \nmin                           0.000000   \n25%                           0.000000   \n50%                           0.000000   \n75%                           1.000000   \nmax                           1.000000   \n\n       site_metrics_daily_time_on_site_for_the_last_90_days  \\\ncount                                      113246.000000      \nmean                                            0.327985      \nstd                                             0.469481      \nmin                                             0.000000      \n25%                                             0.000000      \n50%                                             0.000000      \n75%                                             1.000000      \nmax                                             1.000000      \n\n       site_metrics_bounce_rate  \\\ncount             113246.000000   \nmean                   0.324268   \nstd                    0.468103   \nmin                    0.000000   \n25%                    0.000000   \n50%                    0.000000   \n75%                    1.000000   \nmax                    1.000000   \n\n       site_metrics_bounce_rate_for_the_last_90_days  \\\ncount                                  113246.000000   \nmean                                        0.284372   \nstd                                         0.451117   \nmin                                         0.000000   \n25%                                         0.000000   \n50%                                         0.000000   \n75%                                         1.000000   \nmax                                         1.000000   \n\n       site_metrics_traffic_source_search  site_metrics_visited_just_before  \\\ncount                       113246.000000                     113246.000000   \nmean                             0.215319                          0.263162   \nstd                              0.411045                          0.440351   \nmin                              0.000000                          0.000000   \n25%                              0.000000                          0.000000   \n50%                              0.000000                          0.000000   \n75%                              0.000000                          1.000000   \nmax                              1.000000                          1.000000   \n\n       site_metrics_visited_right_after  site_metrics_total_sites_linking_in  \ncount                     113246.000000                        113246.000000  \nmean                           0.239223                             0.990419  \nstd                            0.426611                             0.097413  \nmin                            0.000000                             0.000000  \n25%                            0.000000                             1.000000  \n50%                            0.000000                             1.000000  \n75%                            0.000000                             1.000000  \nmax                            1.000000                             1.000000  \n\n[8 rows x 35 columns]"
     },
     "execution_count": 5,
     "metadata": {},
     "output_type": "execute_result"
    }
   ],
   "source": [
    "df.describe()"
   ]
  },
  {
   "cell_type": "code",
   "execution_count": 6,
   "metadata": {},
   "outputs": [
    {
     "data": {
      "text/plain": "1.0    91122\n0.0    26965\nName: similar_sites_by_audience_overlap, dtype: int64"
     },
     "execution_count": 6,
     "metadata": {},
     "output_type": "execute_result"
    }
   ],
   "source": [
    "df['similar_sites_by_audience_overlap'].value_counts(dropna=False)"
   ]
  },
  {
   "cell_type": "code",
   "execution_count": 7,
   "metadata": {},
   "outputs": [
    {
     "name": "stdout",
     "output_type": "stream",
     "text": [
      "dropback.tv                  1\n",
      "nmkarlis.wordpress.com       1\n",
      "masterthecurriculum.co.uk    1\n",
      "yakimacounty.us              1\n",
      "topwriters.co.uk             1\n",
      "                            ..\n",
      "journalist.today             1\n",
      "day-of-birth.net             1\n",
      "pawbuzz.com                  1\n",
      "govexec.com                  1\n",
      "sceniccityclayarts.org       1\n",
      "Name: site, Length: 118087, dtype: int64\n",
      "0.0    118087\n",
      "Name: comparison_metrics, dtype: int64\n",
      "1.0    91122\n",
      "0.0    26965\n",
      "Name: similar_sites_by_audience_overlap, dtype: int64\n",
      "0.0    89009\n",
      "1.0    29078\n",
      "Name: top_industry_topics_by_social_engagement, dtype: int64\n",
      "1.0    90991\n",
      "0.0    27096\n",
      "Name: top_keywords_by_traffic, dtype: int64\n",
      "1.0    91618\n",
      "0.0    26469\n",
      "Name: alexa_rank_90_days_trends, dtype: int64\n",
      "1.0    63532\n",
      "0.0    28086\n",
      "NaN    26469\n",
      "Name: alexa_rank_90_days_trends_alexa_rank, dtype: int64\n",
      "0.0    52206\n",
      "1.0    39412\n",
      "NaN    26469\n",
      "Name: alexa_rank_90_days_trends_time_on_site, dtype: int64\n",
      "1.0    91023\n",
      "0.0    27064\n",
      "Name: keyword_gaps, dtype: int64\n",
      "1.0    89216\n",
      "0.0    28871\n",
      "Name: easy_to_rank_keywords, dtype: int64\n",
      "1.0    87557\n",
      "0.0    30530\n",
      "Name: buyer_keywords, dtype: int64\n",
      "0.0    62404\n",
      "1.0    55683\n",
      "Name: optimization_opportunities, dtype: int64\n",
      "0.0    87106\n",
      "1.0    30981\n",
      "Name: top_social_topics, dtype: int64\n",
      "0.0    87106\n",
      "1.0    30981\n",
      "Name: social_engagement, dtype: int64\n",
      "0.0    87106\n",
      "1.0    30981\n",
      "Name: popular_articles, dtype: int64\n",
      "1.0    91204\n",
      "0.0    26883\n",
      "Name: traffic_sources, dtype: int64\n",
      "1.0    91155\n",
      "0.0    26932\n",
      "Name: referral_sites, dtype: int64\n",
      "1.0    117936\n",
      "0.0       151\n",
      "Name: top_keywords, dtype: int64\n",
      "1.0    117240\n",
      "0.0       847\n",
      "Name: audience_overlap, dtype: int64\n",
      "1.0    117996\n",
      "0.0        91\n",
      "Name: alexa_rank, dtype: int64\n",
      "1.0    72120\n",
      "0.0    45876\n",
      "NaN       91\n",
      "Name: alexa_rank_site_rank, dtype: int64\n",
      "1.0    72120\n",
      "0.0    45876\n",
      "NaN       91\n",
      "Name: alexa_rank_site_rank_over_past_90_days, dtype: int64\n",
      "0.0    82398\n",
      "1.0    35598\n",
      "NaN       91\n",
      "Name: alexa_rank_three_month_rank_data, dtype: int64\n",
      "0.0    91415\n",
      "1.0    26581\n",
      "NaN       91\n",
      "Name: alexa_rank_country_alexa_ranks, dtype: int64\n",
      "0.0    91506\n",
      "1.0    26581\n",
      "Name: audience_geography_in_past_30_days, dtype: int64\n",
      "1.0    113246\n",
      "0.0      4841\n",
      "Name: site_metrics, dtype: int64\n",
      "1.0    72139\n",
      "0.0    41107\n",
      "NaN     4841\n",
      "Name: site_metrics_daily_pageviews_per_visitor, dtype: int64\n",
      "0.0    58381\n",
      "1.0    54865\n",
      "NaN     4841\n",
      "Name: site_metrics_daily_pageviews_per_visitor_for_the_last_90_days, dtype: int64\n",
      "0.0    70415\n",
      "1.0    42831\n",
      "NaN     4841\n",
      "Name: site_metrics_daily_time_on_site, dtype: int64\n",
      "0.0    76103\n",
      "1.0    37143\n",
      "NaN     4841\n",
      "Name: site_metrics_daily_time_on_site_for_the_last_90_days, dtype: int64\n",
      "0.0    76524\n",
      "1.0    36722\n",
      "NaN     4841\n",
      "Name: site_metrics_bounce_rate, dtype: int64\n",
      "0.0    81042\n",
      "1.0    32204\n",
      "NaN     4841\n",
      "Name: site_metrics_bounce_rate_for_the_last_90_days, dtype: int64\n",
      "0.0    88862\n",
      "1.0    24384\n",
      "NaN     4841\n",
      "Name: site_metrics_traffic_source_search, dtype: int64\n",
      "0.0    83444\n",
      "1.0    29802\n",
      "NaN     4841\n",
      "Name: site_metrics_visited_just_before, dtype: int64\n",
      "0.0    86155\n",
      "1.0    27091\n",
      "NaN     4841\n",
      "Name: site_metrics_visited_right_after, dtype: int64\n",
      "1.0    112161\n",
      "NaN      4841\n",
      "0.0      1085\n",
      "Name: site_metrics_total_sites_linking_in, dtype: int64\n"
     ]
    }
   ],
   "source": [
    "for col in df.columns:\n",
    "    print(df[col].value_counts(dropna=False))"
   ]
  },
  {
   "cell_type": "code",
   "execution_count": 10,
   "metadata": {},
   "outputs": [
    {
     "name": "stdout",
     "output_type": "stream",
     "text": [
      "daily_pageviews_per_visitor {1.0: 72139, 0.0: 41107, nan: 4841}\n",
      "daily_pageviews_per_visitor_for_the_last_90_days {1.0: 54865, 0.0: 58381, nan: 4841}\n",
      "daily_time_on_site {1.0: 42831, 0.0: 70415, nan: 4841}\n",
      "daily_time_on_site_for_the_last_90_days {1.0: 37143, 0.0: 76103, nan: 4841}\n",
      "bounce_rate {1.0: 36722, 0.0: 76524, nan: 4841}\n",
      "bounce_rate_for_the_last_90_days {1.0: 32204, 0.0: 81042, nan: 4841}\n",
      "traffic_source_search {1.0: 24384, 0.0: 88862, nan: 4841}\n",
      "visited_just_before {1.0: 29802, 0.0: 83444, nan: 4841}\n",
      "visited_right_after {1.0: 27091, 0.0: 86155, nan: 4841}\n",
      "total_sites_linking_in {1.0: 112161, 0.0: 1085, nan: 4841}\n"
     ]
    }
   ],
   "source": [
    "for col in ['daily_pageviews_per_visitor', 'daily_pageviews_per_visitor_for_the_last_90_days', 'daily_time_on_site', 'daily_time_on_site_for_the_last_90_days', 'bounce_rate', 'bounce_rate_for_the_last_90_days', 'traffic_source_search', 'visited_just_before', 'visited_right_after', 'total_sites_linking_in']:\n",
    "    print(col, df[f'site_metrics_{col}'].value_counts(dropna=False, sort=False).to_dict())"
   ]
  },
  {
   "cell_type": "code",
   "execution_count": 11,
   "metadata": {},
   "outputs": [
    {
     "data": {
      "text/html": "<div>\n<style scoped>\n    .dataframe tbody tr th:only-of-type {\n        vertical-align: middle;\n    }\n\n    .dataframe tbody tr th {\n        vertical-align: top;\n    }\n\n    .dataframe thead th {\n        text-align: right;\n    }\n</style>\n<table border=\"1\" class=\"dataframe\">\n  <thead>\n    <tr style=\"text-align: right;\">\n      <th></th>\n      <th>site</th>\n      <th>comparison_metrics</th>\n      <th>similar_sites_by_audience_overlap</th>\n      <th>top_industry_topics_by_social_engagement</th>\n      <th>top_keywords_by_traffic</th>\n      <th>alexa_rank_90_days_trends</th>\n      <th>alexa_rank_90_days_trends_alexa_rank</th>\n      <th>alexa_rank_90_days_trends_time_on_site</th>\n      <th>keyword_gaps</th>\n      <th>easy_to_rank_keywords</th>\n      <th>...</th>\n      <th>site_metrics_daily_pageviews_per_visitor</th>\n      <th>site_metrics_daily_pageviews_per_visitor_for_the_last_90_days</th>\n      <th>site_metrics_daily_time_on_site</th>\n      <th>site_metrics_daily_time_on_site_for_the_last_90_days</th>\n      <th>site_metrics_bounce_rate</th>\n      <th>site_metrics_bounce_rate_for_the_last_90_days</th>\n      <th>site_metrics_traffic_source_search</th>\n      <th>site_metrics_visited_just_before</th>\n      <th>site_metrics_visited_right_after</th>\n      <th>site_metrics_total_sites_linking_in</th>\n    </tr>\n  </thead>\n  <tbody>\n    <tr>\n      <th>1</th>\n      <td>newspointread.com</td>\n      <td>0.0</td>\n      <td>1.0</td>\n      <td>0.0</td>\n      <td>1.0</td>\n      <td>1.0</td>\n      <td>0.0</td>\n      <td>0.0</td>\n      <td>1.0</td>\n      <td>1.0</td>\n      <td>...</td>\n      <td>NaN</td>\n      <td>NaN</td>\n      <td>NaN</td>\n      <td>NaN</td>\n      <td>NaN</td>\n      <td>NaN</td>\n      <td>NaN</td>\n      <td>NaN</td>\n      <td>NaN</td>\n      <td>NaN</td>\n    </tr>\n    <tr>\n      <th>4</th>\n      <td>innercitypress.blogspot.com.es</td>\n      <td>0.0</td>\n      <td>0.0</td>\n      <td>0.0</td>\n      <td>0.0</td>\n      <td>0.0</td>\n      <td>NaN</td>\n      <td>NaN</td>\n      <td>0.0</td>\n      <td>0.0</td>\n      <td>...</td>\n      <td>NaN</td>\n      <td>NaN</td>\n      <td>NaN</td>\n      <td>NaN</td>\n      <td>NaN</td>\n      <td>NaN</td>\n      <td>NaN</td>\n      <td>NaN</td>\n      <td>NaN</td>\n      <td>NaN</td>\n    </tr>\n    <tr>\n      <th>33</th>\n      <td>macscreensaver.com</td>\n      <td>0.0</td>\n      <td>1.0</td>\n      <td>0.0</td>\n      <td>1.0</td>\n      <td>1.0</td>\n      <td>0.0</td>\n      <td>0.0</td>\n      <td>1.0</td>\n      <td>1.0</td>\n      <td>...</td>\n      <td>NaN</td>\n      <td>NaN</td>\n      <td>NaN</td>\n      <td>NaN</td>\n      <td>NaN</td>\n      <td>NaN</td>\n      <td>NaN</td>\n      <td>NaN</td>\n      <td>NaN</td>\n      <td>NaN</td>\n    </tr>\n    <tr>\n      <th>41</th>\n      <td>10bestalternatives.com</td>\n      <td>0.0</td>\n      <td>0.0</td>\n      <td>0.0</td>\n      <td>0.0</td>\n      <td>0.0</td>\n      <td>NaN</td>\n      <td>NaN</td>\n      <td>0.0</td>\n      <td>0.0</td>\n      <td>...</td>\n      <td>NaN</td>\n      <td>NaN</td>\n      <td>NaN</td>\n      <td>NaN</td>\n      <td>NaN</td>\n      <td>NaN</td>\n      <td>NaN</td>\n      <td>NaN</td>\n      <td>NaN</td>\n      <td>NaN</td>\n    </tr>\n    <tr>\n      <th>121</th>\n      <td>awdlaw.co.za</td>\n      <td>0.0</td>\n      <td>0.0</td>\n      <td>0.0</td>\n      <td>0.0</td>\n      <td>0.0</td>\n      <td>NaN</td>\n      <td>NaN</td>\n      <td>0.0</td>\n      <td>0.0</td>\n      <td>...</td>\n      <td>NaN</td>\n      <td>NaN</td>\n      <td>NaN</td>\n      <td>NaN</td>\n      <td>NaN</td>\n      <td>NaN</td>\n      <td>NaN</td>\n      <td>NaN</td>\n      <td>NaN</td>\n      <td>NaN</td>\n    </tr>\n  </tbody>\n</table>\n<p>5 rows × 36 columns</p>\n</div>",
      "text/plain": "                               site  comparison_metrics  \\\n1                 newspointread.com                 0.0   \n4    innercitypress.blogspot.com.es                 0.0   \n33               macscreensaver.com                 0.0   \n41           10bestalternatives.com                 0.0   \n121                    awdlaw.co.za                 0.0   \n\n     similar_sites_by_audience_overlap  \\\n1                                  1.0   \n4                                  0.0   \n33                                 1.0   \n41                                 0.0   \n121                                0.0   \n\n     top_industry_topics_by_social_engagement  top_keywords_by_traffic  \\\n1                                         0.0                      1.0   \n4                                         0.0                      0.0   \n33                                        0.0                      1.0   \n41                                        0.0                      0.0   \n121                                       0.0                      0.0   \n\n     alexa_rank_90_days_trends  alexa_rank_90_days_trends_alexa_rank  \\\n1                          1.0                                   0.0   \n4                          0.0                                   NaN   \n33                         1.0                                   0.0   \n41                         0.0                                   NaN   \n121                        0.0                                   NaN   \n\n     alexa_rank_90_days_trends_time_on_site  keyword_gaps  \\\n1                                       0.0           1.0   \n4                                       NaN           0.0   \n33                                      0.0           1.0   \n41                                      NaN           0.0   \n121                                     NaN           0.0   \n\n     easy_to_rank_keywords  ...  site_metrics_daily_pageviews_per_visitor  \\\n1                      1.0  ...                                       NaN   \n4                      0.0  ...                                       NaN   \n33                     1.0  ...                                       NaN   \n41                     0.0  ...                                       NaN   \n121                    0.0  ...                                       NaN   \n\n     site_metrics_daily_pageviews_per_visitor_for_the_last_90_days  \\\n1                                                  NaN               \n4                                                  NaN               \n33                                                 NaN               \n41                                                 NaN               \n121                                                NaN               \n\n     site_metrics_daily_time_on_site  \\\n1                                NaN   \n4                                NaN   \n33                               NaN   \n41                               NaN   \n121                              NaN   \n\n     site_metrics_daily_time_on_site_for_the_last_90_days  \\\n1                                                  NaN      \n4                                                  NaN      \n33                                                 NaN      \n41                                                 NaN      \n121                                                NaN      \n\n     site_metrics_bounce_rate  site_metrics_bounce_rate_for_the_last_90_days  \\\n1                         NaN                                            NaN   \n4                         NaN                                            NaN   \n33                        NaN                                            NaN   \n41                        NaN                                            NaN   \n121                       NaN                                            NaN   \n\n     site_metrics_traffic_source_search  site_metrics_visited_just_before  \\\n1                                   NaN                               NaN   \n4                                   NaN                               NaN   \n33                                  NaN                               NaN   \n41                                  NaN                               NaN   \n121                                 NaN                               NaN   \n\n     site_metrics_visited_right_after  site_metrics_total_sites_linking_in  \n1                                 NaN                                  NaN  \n4                                 NaN                                  NaN  \n33                                NaN                                  NaN  \n41                                NaN                                  NaN  \n121                               NaN                                  NaN  \n\n[5 rows x 36 columns]"
     },
     "execution_count": 11,
     "metadata": {},
     "output_type": "execute_result"
    }
   ],
   "source": [
    "df[df['site_metrics_visited_right_after'].isna()].head()"
   ]
  },
  {
   "cell_type": "code",
   "execution_count": 12,
   "metadata": {},
   "outputs": [],
   "source": [
    "import redis\n",
    "\n",
    "r = redis.Redis()"
   ]
  },
  {
   "cell_type": "code",
   "execution_count": 13,
   "metadata": {},
   "outputs": [
    {
     "name": "stdout",
     "output_type": "stream",
     "text": [
      "{'alexa_rank': {'country_alexa_ranks': [],\n",
      "                'site_rank': None,\n",
      "                'site_rank_over_past_90_days': None,\n",
      "                'three_month_rank_data': {}},\n",
      " 'alexa_rank_90_days_trends': {'alexa_rank': None, 'time_on_site': None},\n",
      " 'audience_geography_in_past_30_days': {},\n",
      " 'audience_overlap': [{'alexa_rank': '-',\n",
      "                       'overlap_score': '19.3',\n",
      "                       'site': 'whitehouseliesblog1.wordpress.com'},\n",
      "                      {'alexa_rank': '-',\n",
      "                       'overlap_score': '15.6',\n",
      "                       'site': 'onlinevsgametv.com'},\n",
      "                      {'alexa_rank': '-',\n",
      "                       'overlap_score': '15.1',\n",
      "                       'site': 'cavaliersvsraptors.de'},\n",
      "                      {'alexa_rank': '-',\n",
      "                       'overlap_score': '13.7',\n",
      "                       'site': 'footballvsgame.co'},\n",
      "                      {'alexa_rank': '-',\n",
      "                       'overlap_score': '12.4',\n",
      "                       'site': 'washoeoffrez.com'}],\n",
      " 'buyer_keywords': [{'avg_traffic_to_competitord': '46',\n",
      "                     'keyword': 'cavaliers vs. raptors',\n",
      "                     'organic_competition': '43'},\n",
      "                    {'avg_traffic_to_competitord': '30',\n",
      "                     'keyword': 'cavaliers vs raptors',\n",
      "                     'organic_competition': '49'},\n",
      "                    {'avg_traffic_to_competitord': '21',\n",
      "                     'keyword': 'raptors vs cavaliers',\n",
      "                     'organic_competition': '72'},\n",
      "                    {'avg_traffic_to_competitord': '16',\n",
      "                     'keyword': 'celtics vs 76ers',\n",
      "                     'organic_competition': '51'}],\n",
      " 'comparison_metrics': None,\n",
      " 'easy_to_rank_keywords': [{'keyword': 'astronaut quits',\n",
      "                            'relevance_to_this_site': '32',\n",
      "                            'search_popularity': '55'},\n",
      "                           {'keyword': 'cavaliers vs raptors',\n",
      "                            'relevance_to_this_site': '49',\n",
      "                            'search_popularity': '41'},\n",
      "                           {'keyword': 'quicken loans arena',\n",
      "                            'relevance_to_this_site': '29',\n",
      "                            'search_popularity': '41'},\n",
      "                           {'keyword': 'top nonfiction books',\n",
      "                            'relevance_to_this_site': '20',\n",
      "                            'search_popularity': '54'}],\n",
      " 'keyword_gaps': [{'avg_traffic_to_competitord': '46',\n",
      "                   'keyword': 'cavaliers vs. raptors',\n",
      "                   'search_popularity': '45'},\n",
      "                  {'avg_traffic_to_competitord': '30',\n",
      "                   'keyword': 'cavaliers vs raptors',\n",
      "                   'search_popularity': '41'},\n",
      "                  {'avg_traffic_to_competitord': '27',\n",
      "                   'keyword': 'eric schneiderman assault',\n",
      "                   'search_popularity': '43'},\n",
      "                  {'avg_traffic_to_competitord': '26',\n",
      "                   'keyword': 'trump giuliani',\n",
      "                   'search_popularity': '50'}],\n",
      " 'optimization_opportunities': [{'keyword': 'iraq fire ballot warehouse',\n",
      "                                 'organic_share_of_voice': '0.07%',\n",
      "                                 'search_popularity': '34'},\n",
      "                                {'keyword': 'john mccain',\n",
      "                                 'organic_share_of_voice': '0%',\n",
      "                                 'search_popularity': '72'},\n",
      "                                {'keyword': 'steve wynn license',\n",
      "                                 'organic_share_of_voice': '0.01%',\n",
      "                                 'search_popularity': '49'},\n",
      "                                {'keyword': 'washoe tribe claim tahoe',\n",
      "                                 'organic_share_of_voice': '0.02%',\n",
      "                                 'search_popularity': '48'}],\n",
      " 'popular_articles': None,\n",
      " 'referral_sites': [{'number_referral_sites': '2',\n",
      "                     'site': 'onlinevsgametv.com'},\n",
      "                    {'number_referral_sites': '2', 'site': 'footballvsgame.co'},\n",
      "                    {'number_referral_sites': '--',\n",
      "                     'site': 'newspointread.com'},\n",
      "                    {'number_referral_sites': '--',\n",
      "                     'site': 'whitehouseliesblog1.wordpress.com'},\n",
      "                    {'number_referral_sites': '--',\n",
      "                     'site': 'cavaliersvsraptors.de'}],\n",
      " 'similar_sites_by_audience_overlap': [{'overlap_score': '19.3',\n",
      "                                        'site': 'whitehouseliesblog1.wordpress.com'},\n",
      "                                       {'overlap_score': '15.6',\n",
      "                                        'site': 'onlinevsgametv.com'},\n",
      "                                       {'overlap_score': '15.1',\n",
      "                                        'site': 'cavaliersvsraptors.de'},\n",
      "                                       {'overlap_score': '13.7',\n",
      "                                        'site': 'footballvsgame.co'},\n",
      "                                       {'overlap_score': '12.4',\n",
      "                                        'site': 'washoeoffrez.com'}],\n",
      " 'site_metrics': None,\n",
      " 'social_engagement': None,\n",
      " 'top_industry_topics_by_social_engagement': [],\n",
      " 'top_keywords': {'cavaliersvsraptors.de': [{'keyword': 'cavaliers vs. raptors',\n",
      "                                             'search_traffic': '79.34%',\n",
      "                                             'share_of_voice': '32.24%'},\n",
      "                                            {'keyword': 'cavaliers vs raptors',\n",
      "                                             'search_traffic': '17.55%',\n",
      "                                             'share_of_voice': '4.33%'},\n",
      "                                            {'keyword': 'scott pruitt threats',\n",
      "                                             'search_traffic': '0.29%',\n",
      "                                             'share_of_voice': '0.03%'},\n",
      "                                            {'keyword': 'cavs vs raptors',\n",
      "                                             'search_traffic': '0.21%',\n",
      "                                             'share_of_voice': '0.06%'},\n",
      "                                            {'keyword': 'georgia military '\n",
      "                                                        'plane crash calls',\n",
      "                                             'search_traffic': '0.12%',\n",
      "                                             'share_of_voice': '0.01%'}],\n",
      "                  'footballvsgame.co': [{'keyword': 'cavaliers vs. raptors',\n",
      "                                         'search_traffic': '91.06%',\n",
      "                                         'share_of_voice': '7.8%'},\n",
      "                                        {'keyword': 'warriors vs pelicans',\n",
      "                                         'search_traffic': '1.06%',\n",
      "                                         'share_of_voice': '0.05%'},\n",
      "                                        {'keyword': 'celtics vs 76ers',\n",
      "                                         'search_traffic': '0.77%',\n",
      "                                         'share_of_voice': '0.04%'},\n",
      "                                        {'keyword': 'cavaliers vs raptors',\n",
      "                                         'search_traffic': '0.62%',\n",
      "                                         'share_of_voice': '0.03%'},\n",
      "                                        {'keyword': 'capitals vs penguins',\n",
      "                                         'search_traffic': '0.38%',\n",
      "                                         'share_of_voice': '0.09%'}],\n",
      "                  'newspointread.com': [{'keyword': 'canada nigerian migrants',\n",
      "                                         'search_traffic': '57.82%',\n",
      "                                         'share_of_voice': '6.18%'},\n",
      "                                        {'keyword': 'ghost ship myanmar',\n",
      "                                         'search_traffic': '37.26%',\n",
      "                                         'share_of_voice': '0.36%'},\n",
      "                                        {'keyword': 'iraq fire ballot '\n",
      "                                                    'warehouse',\n",
      "                                         'search_traffic': '0.37%',\n",
      "                                         'share_of_voice': '0.06%'},\n",
      "                                        {'keyword': 'john mccain',\n",
      "                                         'search_traffic': '0.35%',\n",
      "                                         'share_of_voice': '0%'},\n",
      "                                        {'keyword': 'steve wynn license',\n",
      "                                         'search_traffic': '0.27%',\n",
      "                                         'share_of_voice': '0.01%'}],\n",
      "                  'onlinevsgametv.com': [{'keyword': 'cavaliers vs. raptors',\n",
      "                                          'search_traffic': '94.91%',\n",
      "                                          'share_of_voice': '4.49%'},\n",
      "                                         {'keyword': 'cavaliers vs raptors',\n",
      "                                          'search_traffic': '0.76%',\n",
      "                                          'share_of_voice': '0.02%'},\n",
      "                                         {'keyword': 'scott pruitt threats',\n",
      "                                          'search_traffic': '0.37%',\n",
      "                                          'share_of_voice': '0%'},\n",
      "                                         {'keyword': 'arsenal vs burnley',\n",
      "                                          'search_traffic': '0.23%',\n",
      "                                          'share_of_voice': '0.08%'},\n",
      "                                         {'keyword': 'eric schneiderman '\n",
      "                                                     'assault',\n",
      "                                          'search_traffic': '0.18%',\n",
      "                                          'share_of_voice': '0%'}],\n",
      "                  'whitehouseliesblog1.wordpress.com': [{'keyword': 'mueller '\n",
      "                                                                    'rejects '\n",
      "                                                                    'trump '\n",
      "                                                                    'request',\n",
      "                                                         'search_traffic': '94.67%',\n",
      "                                                         'share_of_voice': '1.14%'},\n",
      "                                                        {'keyword': 'jeff '\n",
      "                                                                    'sessions',\n",
      "                                                         'search_traffic': '0.75%',\n",
      "                                                         'share_of_voice': '0%'},\n",
      "                                                        {'keyword': 'iran '\n",
      "                                                                    'nuclear '\n",
      "                                                                    'deal '\n",
      "                                                                    'decision',\n",
      "                                                         'search_traffic': '0.52%',\n",
      "                                                         'share_of_voice': '0%'},\n",
      "                                                        {'keyword': 'scott '\n",
      "                                                                    'pruitt '\n",
      "                                                                    'threats',\n",
      "                                                         'search_traffic': '0.36%',\n",
      "                                                         'share_of_voice': '0%'},\n",
      "                                                        {'keyword': 'georgia '\n",
      "                                                                    'military '\n",
      "                                                                    'plane '\n",
      "                                                                    'crash '\n",
      "                                                                    'calls',\n",
      "                                                         'search_traffic': '0.33%',\n",
      "                                                         'share_of_voice': '0%'}]},\n",
      " 'top_keywords_by_traffic': {'canada nigerian migrants': '57.82%',\n",
      "                             'ghost ship myanmar': '37.26%',\n",
      "                             'iraq fire ballot warehouse': '0.37%',\n",
      "                             'john mccain': '0.35%',\n",
      "                             'steve wynn license': '0.27%'},\n",
      " 'top_social_topics': None,\n",
      " 'traffic_sources': [{'search_percentage': '',\n",
      "                      'site': 'whitehouseliesblog1.wordpress.com'},\n",
      "                     {'search_percentage': '', 'site': 'onlinevsgametv.com'},\n",
      "                     {'search_percentage': '', 'site': 'cavaliersvsraptors.de'},\n",
      "                     {'search_percentage': '', 'site': 'footballvsgame.co'},\n",
      "                     {'search_percentage': '', 'site': 'newspointread.com'}]}\n"
     ]
    }
   ],
   "source": [
    "import json\n",
    "from pprint import pprint\n",
    "\n",
    "pprint(json.loads(r.get('newspointread.com')))"
   ]
  },
  {
   "cell_type": "code",
   "execution_count": 31,
   "metadata": {},
   "outputs": [],
   "source": [
    "alexa_sections = [\n",
    "    'comparison_metrics',\n",
    "    'similar_sites_by_audience_overlap',\n",
    "    'top_industry_topics_by_social_engagement',\n",
    "    'top_keywords_by_traffic',\n",
    "    'alexa_rank_90_days_trends',\n",
    "    'keyword_gaps',\n",
    "    'easy_to_rank_keywords',\n",
    "    'buyer_keywords',\n",
    "    'optimization_opportunities',\n",
    "    'top_social_topics',\n",
    "    'social_engagement',\n",
    "    'popular_articles',\n",
    "    'traffic_sources',\n",
    "    'referral_sites',\n",
    "    'top_keywords',\n",
    "    'audience_overlap',\n",
    "    'alexa_rank',\n",
    "    'audience_geography_in_past_30_days',\n",
    "    'site_metrics']"
   ]
  },
  {
   "cell_type": "code",
   "execution_count": 37,
   "metadata": {},
   "outputs": [
    {
     "name": "stdout",
     "output_type": "stream",
     "text": [
      "comparison_metrics {0.0: 118087}\n",
      "similar_sites_by_audience_overlap {1.0: 91122, 0.0: 26965}\n",
      "top_industry_topics_by_social_engagement {0.0: 89009, 1.0: 29078}\n",
      "top_keywords_by_traffic {1.0: 90991, 0.0: 27096}\n",
      "alexa_rank_90_days_trends {1.0: 91618, 0.0: 26469}\n",
      "keyword_gaps {1.0: 91023, 0.0: 27064}\n",
      "easy_to_rank_keywords {1.0: 89216, 0.0: 28871}\n",
      "buyer_keywords {1.0: 87557, 0.0: 30530}\n",
      "optimization_opportunities {0.0: 62404, 1.0: 55683}\n",
      "top_social_topics {0.0: 87106, 1.0: 30981}\n",
      "social_engagement {0.0: 87106, 1.0: 30981}\n",
      "popular_articles {0.0: 87106, 1.0: 30981}\n",
      "traffic_sources {1.0: 91204, 0.0: 26883}\n",
      "referral_sites {1.0: 91155, 0.0: 26932}\n",
      "top_keywords {1.0: 117936, 0.0: 151}\n",
      "audience_overlap {1.0: 117240, 0.0: 847}\n",
      "alexa_rank {1.0: 117996, 0.0: 91}\n",
      "audience_geography_in_past_30_days {0.0: 91506, 1.0: 26581}\n",
      "site_metrics {1.0: 113246, 0.0: 4841}\n"
     ]
    }
   ],
   "source": [
    "for section in alexa_sections:\n",
    "    print(section, df[section].value_counts(dropna=False, sort=False).to_dict())"
   ]
  },
  {
   "cell_type": "code",
   "execution_count": null,
   "metadata": {},
   "outputs": [],
   "source": [
    "'daily_pageviews_per_visitor', 'daily_pageviews_per_visitor_for_the_last_90_days', 'daily_time_on_site', 'daily_time_on_site_for_the_last_90_days', 'bounce_rate', 'bounce_rate_for_the_last_90_days', 'traffic_source_search', 'visited_just_before', 'visited_right_after', 'total_sites_linking_in']:\n"
   ]
  },
  {
   "cell_type": "code",
   "execution_count": 14,
   "metadata": {},
   "outputs": [
    {
     "name": "stdout",
     "output_type": "stream",
     "text": [
      "daily_pageviews_per_visitor {1.0: 72139, 0.0: 41107, nan: 4841}\n",
      "daily_pageviews_per_visitor_for_the_last_90_days {1.0: 54865, 0.0: 58381, nan: 4841}\n",
      "daily_time_on_site {1.0: 42831, 0.0: 70415, nan: 4841}\n",
      "daily_time_on_site_for_the_last_90_days {1.0: 37143, 0.0: 76103, nan: 4841}\n",
      "bounce_rate {1.0: 36722, 0.0: 76524, nan: 4841}\n",
      "bounce_rate_for_the_last_90_days {1.0: 32204, 0.0: 81042, nan: 4841}\n",
      "traffic_source_search {1.0: 24384, 0.0: 88862, nan: 4841}\n",
      "visited_just_before {1.0: 29802, 0.0: 83444, nan: 4841}\n",
      "visited_right_after {1.0: 27091, 0.0: 86155, nan: 4841}\n",
      "total_sites_linking_in {1.0: 112161, 0.0: 1085, nan: 4841}\n"
     ]
    }
   ],
   "source": [
    "for col in ['daily_pageviews_per_visitor', 'daily_pageviews_per_visitor_for_the_last_90_days', 'daily_time_on_site', 'daily_time_on_site_for_the_last_90_days', 'bounce_rate', 'bounce_rate_for_the_last_90_days', 'traffic_source_search', 'visited_just_before', 'visited_right_after', 'total_sites_linking_in']:\n",
    "    print(col, df[f'site_metrics_{col}'].value_counts(dropna=False, sort=False).to_dict())"
   ]
  },
  {
   "cell_type": "code",
   "execution_count": 15,
   "metadata": {},
   "outputs": [
    {
     "name": "stdout",
     "output_type": "stream",
     "text": [
      "site_rank {1.0: 72120, 0.0: 45876, nan: 91}\n",
      "site_rank_over_past_90_days {1.0: 72120, 0.0: 45876, nan: 91}\n",
      "three_month_rank_data {1.0: 35598, 0.0: 82398, nan: 91}\n",
      "country_alexa_ranks {1.0: 26581, 0.0: 91415, nan: 91}\n"
     ]
    }
   ],
   "source": [
    "for col in ['site_rank', 'site_rank_over_past_90_days', 'three_month_rank_data', 'country_alexa_ranks']:\n",
    "    print(col, df[f'alexa_rank_{col}'].value_counts(dropna=False, sort=False).to_dict())"
   ]
  },
  {
   "cell_type": "code",
   "execution_count": 16,
   "metadata": {},
   "outputs": [
    {
     "name": "stdout",
     "output_type": "stream",
     "text": [
      "alexa_rank {1.0: 63532, 0.0: 28086, nan: 26469}\n",
      "time_on_site {1.0: 39412, 0.0: 52206, nan: 26469}\n"
     ]
    }
   ],
   "source": [
    "for col in ['alexa_rank', 'time_on_site']:\n",
    "    print(col, df[f'alexa_rank_90_days_trends_{col}'].value_counts(dropna=False, sort=False).to_dict())"
   ]
  },
  {
   "cell_type": "code",
   "execution_count": null,
   "metadata": {},
   "outputs": [],
   "source": []
  }
 ],
 "metadata": {
  "kernelspec": {
   "display_name": "Python 3",
   "name": "python3"
  },
  "language_info": {
   "codemirror_mode": {
    "name": "ipython",
    "version": 3
   },
   "file_extension": ".py",
   "mimetype": "text/x-python",
   "name": "python",
   "nbconvert_exporter": "python",
   "pygments_lexer": "ipython3",
   "version": "3.8.3"
  },
  "orig_nbformat": 2
 },
 "nbformat": 4,
 "nbformat_minor": 2
}