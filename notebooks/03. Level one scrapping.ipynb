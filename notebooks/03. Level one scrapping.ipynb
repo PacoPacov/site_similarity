{
 "cells": [
  {
   "cell_type": "code",
   "execution_count": 1,
   "outputs": [],
   "source": [
    "import json\n",
    "with open(\"/home/paco/Documents/site_similarity/data/scrapping_results/level 0 results.json\") as f:\n",
    "    data = json.load(f)"
   ],
   "metadata": {
    "collapsed": false,
    "pycharm": {
     "name": "#%%\n"
    }
   }
  },
  {
   "cell_type": "code",
   "execution_count": 2,
   "outputs": [
    {
     "data": {
      "text/plain": "{'site': 'villagevoice.com',\n 'score': [{'url': 'nylon.com', 'overlap_score': 4.1, 'alexa_rank': 51694.0},\n  {'url': 'slantmagazine.com', 'overlap_score': 2.5, 'alexa_rank': 92418.0},\n  {'url': 'gothamist.com', 'overlap_score': 2.4, 'alexa_rank': 16813.0},\n  {'url': 'screendaily.com', 'overlap_score': 2.1, 'alexa_rank': 110772.0},\n  {'url': 'amny.com', 'overlap_score': 2.1, 'alexa_rank': 69192.0}],\n 'audience_geography': [{'country': 'United States', 'percent': 77.2}]}"
     },
     "execution_count": 2,
     "metadata": {},
     "output_type": "execute_result"
    }
   ],
   "source": [
    "data['villagevoice.com']"
   ],
   "metadata": {
    "collapsed": false,
    "pycharm": {
     "name": "#%%\n"
    }
   }
  },
  {
   "cell_type": "code",
   "execution_count": 3,
   "outputs": [
    {
     "name": "stderr",
     "output_type": "stream",
     "text": [
      "100%|██████████| 1/1 [00:00<00:00,  1.30it/s]\n"
     ]
    },
    {
     "data": {
      "text/plain": "{'villagevoice.com': {'site': 'villagevoice.com',\n  'score': [{'url': 'nylon.com', 'overlap_score': 4.1, 'alexa_rank': 51694.0},\n   {'url': 'slantmagazine.com', 'overlap_score': 2.5, 'alexa_rank': 92418.0},\n   {'url': 'gothamist.com', 'overlap_score': 2.4, 'alexa_rank': 16813.0},\n   {'url': 'screendaily.com', 'overlap_score': 2.1, 'alexa_rank': 110772.0},\n   {'url': 'amny.com', 'overlap_score': 2.1, 'alexa_rank': 69192.0}],\n  'audience_geography': [{'country': 'United States', 'percent': 77.2}],\n  'level_one_res': [{'site': 'nylon.com',\n    'score': [{'url': 'compatible-astrology.com',\n      'overlap_score': 16.1,\n      'alexa_rank': 173246.0},\n     {'url': 'astrology-zodiac-signs.com',\n      'overlap_score': 14.1,\n      'alexa_rank': 18965.0},\n     {'url': 'papermag.com', 'overlap_score': 13.8, 'alexa_rank': 31763.0},\n     {'url': 'astrology.com', 'overlap_score': 12.7, 'alexa_rank': 16968.0},\n     {'url': 'flaunt.com', 'overlap_score': 11.1, 'alexa_rank': 10120.0}],\n    'audience_geography': [{'country': 'United States', 'percent': 75.0},\n     {'country': 'Canada', 'percent': 4.8},\n     {'country': 'India', 'percent': 2.3}]},\n   {'site': 'slantmagazine.com',\n    'score': [{'url': 'criterion.com',\n      'overlap_score': 11.3,\n      'alexa_rank': 38688.0},\n     {'url': 'rogerebert.com', 'overlap_score': 5.2, 'alexa_rank': 13089.0},\n     {'url': 'empireonline.com', 'overlap_score': 4.6, 'alexa_rank': 36833.0},\n     {'url': 'dvdbeaver.com', 'overlap_score': 4.6, 'alexa_rank': 299422.0},\n     {'url': 'letterboxd.com', 'overlap_score': 4.2, 'alexa_rank': 2814.0}],\n    'audience_geography': [{'country': 'United States', 'percent': 54.8},\n     {'country': 'Canada', 'percent': 7.4},\n     {'country': 'India', 'percent': 6.2}]},\n   {'site': 'gothamist.com',\n    'score': [{'url': 'nbcnewyork.com',\n      'overlap_score': 18.3,\n      'alexa_rank': 14556.0},\n     {'url': 'abc7ny.com', 'overlap_score': 17.5, 'alexa_rank': 17363.0},\n     {'url': 'ny1.com', 'overlap_score': 15.2, 'alexa_rank': 41082.0},\n     {'url': 'nyc.gov', 'overlap_score': 15.2, 'alexa_rank': 2899.0},\n     {'url': 'amny.com', 'overlap_score': 15.2, 'alexa_rank': 69792.0}],\n    'audience_geography': [{'country': 'United States', 'percent': 93.8},\n     {'country': 'Canada', 'percent': 1.0},\n     {'country': 'India', 'percent': 0.5}]},\n   {'site': 'screendaily.com',\n    'score': [{'url': 'cineuropa.org',\n      'overlap_score': 15.7,\n      'alexa_rank': 68228.0},\n     {'url': 'theplaylist.net', 'overlap_score': 5.6, 'alexa_rank': 66336.0},\n     {'url': 'boxofficemojo.com', 'overlap_score': 5.4, 'alexa_rank': 13892.0},\n     {'url': 'moviemeter.nl', 'overlap_score': 5.2, 'alexa_rank': 207482.0},\n     {'url': 'letterboxd.com', 'overlap_score': 5.0, 'alexa_rank': 2814.0}],\n    'audience_geography': [{'country': 'United States', 'percent': 19.6},\n     {'country': 'India', 'percent': 9.8},\n     {'country': 'Canada', 'percent': 4.3}]},\n   {'site': 'amny.com',\n    'score': [{'url': 'gothamist.com',\n      'overlap_score': 15.2,\n      'alexa_rank': 16818.0},\n     {'url': 'ny1.com', 'overlap_score': 14.9, 'alexa_rank': 39583.0},\n     {'url': 'abc7ny.com', 'overlap_score': 14.4, 'alexa_rank': 17253.0},\n     {'url': 'nbcnewyork.com', 'overlap_score': 13.8, 'alexa_rank': 14665.0},\n     {'url': 'pix11.com', 'overlap_score': 11.0, 'alexa_rank': 52529.0}],\n    'audience_geography': [{'country': 'United States', 'percent': 91.4},\n     {'country': 'Bangladesh', 'percent': 0.8}]}]}}"
     },
     "execution_count": 3,
     "metadata": {},
     "output_type": "execute_result"
    }
   ],
   "source": [
    "from dataprep.alexa_scrapper import level_one_scrapping\n",
    "\n",
    "level_one_scrapping({'villagevoice.com': data['villagevoice.com']})"
   ],
   "metadata": {
    "collapsed": false,
    "pycharm": {
     "name": "#%%\n"
    }
   }
  },
  {
   "cell_type": "code",
   "execution_count": null,
   "outputs": [
    {
     "name": "stderr",
     "output_type": "stream",
     "text": [
      "  6%|▌         | 59/1062 [46:21<14:36:45, 52.45s/it]"
     ]
    }
   ],
   "source": [
    "results = level_one_scrapping(data, target_dir=\"/home/paco/Documents/site_similarity/data/level 1 scrapping/\")"
   ],
   "metadata": {
    "collapsed": false,
    "pycharm": {
     "name": "#%%\n",
     "is_executing": true
    }
   }
  },
  {
   "cell_type": "markdown",
   "source": [
    "# Save results from scrapping level 1"
   ],
   "metadata": {
    "collapsed": false
   }
  },
  {
   "cell_type": "code",
   "execution_count": null,
   "outputs": [],
   "source": [
    "import json\n",
    "\n",
    "with open(\"/home/paco/Documents/site_similarity/data/scrapping_results/level 1 results.json\", 'w') as f:\n",
    "    json.dump(results, f, indent=4)"
   ],
   "metadata": {
    "collapsed": false,
    "pycharm": {
     "name": "#%%\n"
    }
   }
  }
 ],
 "metadata": {
  "kernelspec": {
   "display_name": "Python 3",
   "language": "python",
   "name": "python3"
  },
  "language_info": {
   "codemirror_mode": {
    "name": "ipython",
    "version": 2
   },
   "file_extension": ".py",
   "mimetype": "text/x-python",
   "name": "python",
   "nbconvert_exporter": "python",
   "pygments_lexer": "ipython2",
   "version": "2.7.6"
  }
 },
 "nbformat": 4,
 "nbformat_minor": 0
}