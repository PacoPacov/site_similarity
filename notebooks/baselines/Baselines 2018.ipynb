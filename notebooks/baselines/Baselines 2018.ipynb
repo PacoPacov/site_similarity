{
 "cells": [
  {
   "cell_type": "code",
   "execution_count": 1,
   "metadata": {},
   "outputs": [],
   "source": [
    "import sys,os\n",
    "sys.path.append(\"C:\\\\Users\\\\Paco\\\\Documents\\\\site_similarity\")"
   ]
  },
  {
   "cell_type": "code",
   "execution_count": 2,
   "metadata": {},
   "outputs": [],
   "source": [
    "from utils.notebook_utils import train_model"
   ]
  },
  {
   "cell_type": "markdown",
   "metadata": {},
   "source": [
    "# Look at MostFrequentClassifier"
   ]
  },
  {
   "cell_type": "code",
   "execution_count": 3,
   "metadata": {
    "pycharm": {
     "name": "#%%\n"
    },
    "tags": []
   },
   "outputs": [
    {
     "output_type": "stream",
     "name": "stdout",
     "text": "Start training...\n"
    },
    {
     "output_type": "execute_result",
     "data": {
      "text/plain": "{'Accuracy': 0.539906103286385,\n 'Balanced Accuracy score': 0.3976427823979732,\n 'F1 micro score': 0.539906103286385,\n 'F1 macro score': 0.3437492703395965,\n 'F1 weighted score': 0.4367573544796612,\n 'MAE': 0.6676056338028169,\n 'Confusion matrix': [[0, 34, 221], [0, 70, 198], [0, 37, 505]]}"
     },
     "metadata": {},
     "execution_count": 3
    }
   ],
   "source": [
    "from modelling.baselines import MostFrequentClassifier\n",
    "\n",
    "\n",
    "baseline_one = MostFrequentClassifier()\n",
    "train_model(baseline_one, data_year='2018')"
   ]
  },
  {
   "cell_type": "markdown",
   "metadata": {
    "pycharm": {
     "name": "#%% md\n"
    }
   },
   "source": [
    "# Look at OverlapClassifier"
   ]
  },
  {
   "cell_type": "code",
   "execution_count": 4,
   "metadata": {
    "pycharm": {
     "name": "#%%\n"
    },
    "tags": []
   },
   "outputs": [
    {
     "output_type": "stream",
     "name": "stdout",
     "text": "Start training...\n"
    },
    {
     "output_type": "execute_result",
     "data": {
      "text/plain": "{'Accuracy': 0.5746478873239437,\n 'Balanced Accuracy score': 0.45613791256437586,\n 'F1 micro score': 0.5746478873239437,\n 'F1 macro score': 0.45170560812333677,\n 'F1 weighted score': 0.5194992930206893,\n 'MAE': 0.6,\n 'Confusion matrix': [[48, 28, 179], [20, 74, 174], [7, 45, 490]]}"
     },
     "metadata": {},
     "execution_count": 4
    }
   ],
   "source": [
    "from modelling.baselines import OverlapClassifier\n",
    "\n",
    "baseline_two = OverlapClassifier()\n",
    "train_model(baseline_two, data_year='2018')"
   ]
  },
  {
   "cell_type": "markdown",
   "metadata": {},
   "source": [
    "# Look at FirstAnnotatedSiteClassifier"
   ]
  },
  {
   "cell_type": "code",
   "execution_count": 5,
   "metadata": {
    "pycharm": {
     "name": "#%%\n"
    },
    "tags": []
   },
   "outputs": [
    {
     "output_type": "stream",
     "name": "stdout",
     "text": "Start training...\n"
    },
    {
     "output_type": "execute_result",
     "data": {
      "text/plain": "{'Accuracy': 0.536150234741784,\n 'Balanced Accuracy score': 0.3976978575755907,\n 'F1 micro score': 0.536150234741784,\n 'F1 macro score': 0.3458161412774386,\n 'F1 weighted score': 0.4362266507666786,\n 'MAE': 0.6769953051643193,\n 'Confusion matrix': [[0, 28, 227], [0, 74, 194], [0, 45, 497]]}"
     },
     "metadata": {},
     "execution_count": 5
    }
   ],
   "source": [
    "from modelling.baselines import FirstAnnotatedSiteClassifier\n",
    "\n",
    "baseline_three = FirstAnnotatedSiteClassifier()\n",
    "train_model(baseline_three, data_year='2018')"
   ]
  }
 ],
 "metadata": {
  "kernelspec": {
   "display_name": "Python 3.6.12 64-bit",
   "language": "python",
   "name": "python361264bit3d20f2086b6e40b0a9a1c989b417ca11"
  },
  "language_info": {
   "codemirror_mode": {
    "name": "ipython",
    "version": 3
   },
   "file_extension": ".py",
   "mimetype": "text/x-python",
   "name": "python",
   "nbconvert_exporter": "python",
   "pygments_lexer": "ipython3",
   "version": "3.7.9-final"
  }
 },
 "nbformat": 4,
 "nbformat_minor": 1
}