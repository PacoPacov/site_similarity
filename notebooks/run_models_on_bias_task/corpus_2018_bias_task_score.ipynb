{
 "cells": [
  {
   "cell_type": "code",
   "execution_count": 1,
   "metadata": {},
   "outputs": [],
   "source": [
    "import sys,os\n",
    "sys.path.append(\"/home/panayot/Documents/site_similarity\")"
   ]
  },
  {
   "cell_type": "code",
   "execution_count": 2,
   "metadata": {},
   "outputs": [],
   "source": [
    "from utils.notebook_utils import eval_node2vec_models"
   ]
  },
  {
   "cell_type": "code",
   "execution_count": 3,
   "metadata": {},
   "outputs": [
    {
     "name": "stdout",
     "output_type": "stream",
     "text": [
      "Using model: corpus_2018_audience_overlap_sites_lvl_three_unweighted_64D.model\n",
      "Start training...\n",
      "Start training...\n",
      "Start training...\n",
      "Start training...\n",
      "Using model: corpus_2018_referral_sites_lvl_three_unweighted_1024D.model\n",
      "Start training...\n",
      "Start training...\n",
      "Start training...\n",
      "Start training...\n",
      "Using model: corpus_2018_referral_sites_lvl_three_unweighted_128D.model\n",
      "Start training...\n",
      "Start training...\n",
      "Start training...\n",
      "Start training...\n",
      "Using model: corpus_2018_referral_sites_lvl_three_unweighted_256D.model\n",
      "Start training...\n",
      "Start training...\n",
      "Start training...\n",
      "Start training...\n",
      "Using model: corpus_2018_referral_sites_lvl_three_unweighted_512D.model\n",
      "Start training...\n",
      "Start training...\n",
      "Start training...\n",
      "Start training...\n",
      "Using model: corpus_2018_referral_sites_lvl_three_unweighted_64D.model\n",
      "Start training...\n",
      "Start training...\n",
      "Start training...\n",
      "Start training...\n",
      "Using model: corpus_2018_referral_sites_unweighted_128_D.model\n",
      "Start training...\n",
      "Start training...\n",
      "Start training...\n",
      "Start training...\n",
      "Using model: corpus_2018_referral_sites_unweighted_64_D.model\n",
      "Start training...\n",
      "Start training...\n",
      "Start training...\n",
      "Start training...\n",
      "Using model: corpus_2018_unweighted_lvl_one_128D.model\n",
      "Start training...\n",
      "Start training...\n",
      "Start training...\n",
      "Start training...\n",
      "Using model: corpus_2018_unweighted_lvl_one_64D.model\n",
      "Start training...\n",
      "Start training...\n",
      "Start training...\n",
      "Start training...\n",
      "Using model: corpus_2018_unweighted_lvl_three_128D.model\n",
      "Start training...\n",
      "Start training...\n",
      "Start training...\n",
      "Start training...\n",
      "Using model: corpus_2018_unweighted_lvl_three_256D.model\n",
      "Start training...\n",
      "Start training...\n",
      "Start training...\n",
      "Start training...\n",
      "Using model: corpus_2018_weighted_lvl_one_128D.model\n",
      "Start training...\n",
      "Start training...\n",
      "Start training...\n",
      "Start training...\n",
      "Using model: corpus_2018_weighted_lvl_one_64D.model\n",
      "Start training...\n",
      "Start training...\n",
      "Start training...\n",
      "Start training...\n",
      "Using model: corpus_2018_weighted_lvl_three_128D.model\n",
      "Start training...\n",
      "Start training...\n",
      "Start training...\n",
      "Start training...\n",
      "Using model: corpus_2018_weighted_lvl_three_256D.model\n",
      "Start training...\n",
      "Start training...\n",
      "Start training...\n",
      "Start training...\n"
     ]
    }
   ],
   "source": [
    "models_2018 = [\n",
    "    'corpus_2018_audience_overlap_sites_lvl_three_unweighted_64D.model',\n",
    "    'corpus_2018_referral_sites_lvl_three_unweighted_1024D.model',\n",
    "    'corpus_2018_referral_sites_lvl_three_unweighted_128D.model',\n",
    "    'corpus_2018_referral_sites_lvl_three_unweighted_256D.model',\n",
    "    'corpus_2018_referral_sites_lvl_three_unweighted_512D.model',\n",
    "    'corpus_2018_referral_sites_lvl_three_unweighted_64D.model',\n",
    "    'corpus_2018_referral_sites_unweighted_128_D.model',\n",
    "    'corpus_2018_referral_sites_unweighted_64_D.model',\n",
    "    'corpus_2018_unweighted_lvl_one_128D.model',\n",
    "    'corpus_2018_unweighted_lvl_one_64D.model',\n",
    "    'corpus_2018_unweighted_lvl_three_128D.model',\n",
    "    'corpus_2018_unweighted_lvl_three_256D.model',\n",
    "    'corpus_2018_weighted_lvl_one_128D.model',\n",
    "    'corpus_2018_weighted_lvl_one_64D.model',\n",
    "    'corpus_2018_weighted_lvl_three_128D.model',\n",
    "    'corpus_2018_weighted_lvl_three_256D.model'\n",
    "]\n",
    "\n",
    "result_2018 = eval_node2vec_models(models_2018, data_year='2018', task='bias')"
   ]
  },
  {
   "cell_type": "code",
   "execution_count": 4,
   "metadata": {},
   "outputs": [
    {
     "data": {
      "text/html": "<div>\n<style scoped>\n    .dataframe tbody tr th:only-of-type {\n        vertical-align: middle;\n    }\n\n    .dataframe tbody tr th {\n        vertical-align: top;\n    }\n\n    .dataframe thead th {\n        text-align: right;\n    }\n</style>\n<table border=\"1\" class=\"dataframe\">\n  <thead>\n    <tr style=\"text-align: right;\">\n      <th></th>\n      <th>Feature</th>\n      <th>Classifier</th>\n      <th>Accuracy</th>\n      <th>Balanced Accuracy score</th>\n      <th>F1 micro score</th>\n      <th>F1 macro score</th>\n      <th>F1 weighted score</th>\n      <th>MAE</th>\n      <th>Confusion matrix</th>\n    </tr>\n  </thead>\n  <tbody>\n    <tr>\n      <th>0</th>\n      <td>corpus_2018_audience_overlap_sites_lvl_three_u...</td>\n      <td>LogisticRegression CV = 5</td>\n      <td>0.715493</td>\n      <td>0.606966</td>\n      <td>0.715493</td>\n      <td>0.626961</td>\n      <td>0.691090</td>\n      <td>0.311737</td>\n      <td>[[51, 114, 25], [12, 508, 42], [4, 106, 203]]</td>\n    </tr>\n    <tr>\n      <th>1</th>\n      <td>corpus_2018_audience_overlap_sites_lvl_three_u...</td>\n      <td>LogisticRegression CV = 10</td>\n      <td>0.716432</td>\n      <td>0.610353</td>\n      <td>0.716432</td>\n      <td>0.630576</td>\n      <td>0.693342</td>\n      <td>0.311737</td>\n      <td>[[53, 111, 26], [14, 506, 42], [4, 105, 204]]</td>\n    </tr>\n    <tr>\n      <th>2</th>\n      <td>corpus_2018_audience_overlap_sites_lvl_three_u...</td>\n      <td>GradientBoostingClassifier</td>\n      <td>0.695775</td>\n      <td>0.600571</td>\n      <td>0.695775</td>\n      <td>0.613338</td>\n      <td>0.677817</td>\n      <td>0.346479</td>\n      <td>[[55, 105, 30], [28, 480, 54], [15, 92, 206]]</td>\n    </tr>\n    <tr>\n      <th>3</th>\n      <td>corpus_2018_audience_overlap_sites_lvl_three_u...</td>\n      <td>SVC ovo</td>\n      <td>0.718310</td>\n      <td>0.612483</td>\n      <td>0.718310</td>\n      <td>0.631395</td>\n      <td>0.695254</td>\n      <td>0.314554</td>\n      <td>[[53, 107, 30], [14, 506, 42], [5, 102, 206]]</td>\n    </tr>\n    <tr>\n      <th>4</th>\n      <td>corpus_2018_referral_sites_lvl_three_unweighte...</td>\n      <td>LogisticRegression CV = 5</td>\n      <td>0.673239</td>\n      <td>0.571528</td>\n      <td>0.673239</td>\n      <td>0.587753</td>\n      <td>0.652347</td>\n      <td>0.360563</td>\n      <td>[[52, 113, 25], [29, 483, 50], [11, 120, 182]]</td>\n    </tr>\n    <tr>\n      <th>...</th>\n      <td>...</td>\n      <td>...</td>\n      <td>...</td>\n      <td>...</td>\n      <td>...</td>\n      <td>...</td>\n      <td>...</td>\n      <td>...</td>\n      <td>...</td>\n    </tr>\n    <tr>\n      <th>59</th>\n      <td>corpus_2018_weighted_lvl_three_128D</td>\n      <td>SVC ovo</td>\n      <td>0.713615</td>\n      <td>0.614635</td>\n      <td>0.713615</td>\n      <td>0.632962</td>\n      <td>0.693306</td>\n      <td>0.327700</td>\n      <td>[[57, 94, 39], [12, 496, 54], [5, 101, 207]]</td>\n    </tr>\n    <tr>\n      <th>60</th>\n      <td>corpus_2018_weighted_lvl_three_256D</td>\n      <td>LogisticRegression CV = 5</td>\n      <td>0.685446</td>\n      <td>0.598002</td>\n      <td>0.685446</td>\n      <td>0.609328</td>\n      <td>0.669798</td>\n      <td>0.364319</td>\n      <td>[[58, 92, 40], [25, 465, 72], [13, 93, 207]]</td>\n    </tr>\n    <tr>\n      <th>61</th>\n      <td>corpus_2018_weighted_lvl_three_256D</td>\n      <td>LogisticRegression CV = 10</td>\n      <td>0.690141</td>\n      <td>0.605576</td>\n      <td>0.690141</td>\n      <td>0.619596</td>\n      <td>0.676212</td>\n      <td>0.357746</td>\n      <td>[[64, 91, 35], [24, 469, 69], [16, 95, 202]]</td>\n    </tr>\n    <tr>\n      <th>62</th>\n      <td>corpus_2018_weighted_lvl_three_256D</td>\n      <td>GradientBoostingClassifier</td>\n      <td>0.689202</td>\n      <td>0.604003</td>\n      <td>0.689202</td>\n      <td>0.619496</td>\n      <td>0.675562</td>\n      <td>0.353991</td>\n      <td>[[66, 92, 32], [33, 473, 56], [14, 104, 195]]</td>\n    </tr>\n    <tr>\n      <th>63</th>\n      <td>corpus_2018_weighted_lvl_three_256D</td>\n      <td>SVC ovo</td>\n      <td>0.708920</td>\n      <td>0.612830</td>\n      <td>0.708920</td>\n      <td>0.631259</td>\n      <td>0.689780</td>\n      <td>0.326761</td>\n      <td>[[58, 99, 33], [16, 490, 56], [5, 101, 207]]</td>\n    </tr>\n  </tbody>\n</table>\n<p>64 rows × 9 columns</p>\n</div>",
      "text/plain": "                                              Feature  \\\n0   corpus_2018_audience_overlap_sites_lvl_three_u...   \n1   corpus_2018_audience_overlap_sites_lvl_three_u...   \n2   corpus_2018_audience_overlap_sites_lvl_three_u...   \n3   corpus_2018_audience_overlap_sites_lvl_three_u...   \n4   corpus_2018_referral_sites_lvl_three_unweighte...   \n..                                                ...   \n59                corpus_2018_weighted_lvl_three_128D   \n60                corpus_2018_weighted_lvl_three_256D   \n61                corpus_2018_weighted_lvl_three_256D   \n62                corpus_2018_weighted_lvl_three_256D   \n63                corpus_2018_weighted_lvl_three_256D   \n\n                    Classifier  Accuracy  Balanced Accuracy score  \\\n0    LogisticRegression CV = 5  0.715493                 0.606966   \n1   LogisticRegression CV = 10  0.716432                 0.610353   \n2   GradientBoostingClassifier  0.695775                 0.600571   \n3                      SVC ovo  0.718310                 0.612483   \n4    LogisticRegression CV = 5  0.673239                 0.571528   \n..                         ...       ...                      ...   \n59                     SVC ovo  0.713615                 0.614635   \n60   LogisticRegression CV = 5  0.685446                 0.598002   \n61  LogisticRegression CV = 10  0.690141                 0.605576   \n62  GradientBoostingClassifier  0.689202                 0.604003   \n63                     SVC ovo  0.708920                 0.612830   \n\n    F1 micro score  F1 macro score  F1 weighted score       MAE  \\\n0         0.715493        0.626961           0.691090  0.311737   \n1         0.716432        0.630576           0.693342  0.311737   \n2         0.695775        0.613338           0.677817  0.346479   \n3         0.718310        0.631395           0.695254  0.314554   \n4         0.673239        0.587753           0.652347  0.360563   \n..             ...             ...                ...       ...   \n59        0.713615        0.632962           0.693306  0.327700   \n60        0.685446        0.609328           0.669798  0.364319   \n61        0.690141        0.619596           0.676212  0.357746   \n62        0.689202        0.619496           0.675562  0.353991   \n63        0.708920        0.631259           0.689780  0.326761   \n\n                                  Confusion matrix  \n0    [[51, 114, 25], [12, 508, 42], [4, 106, 203]]  \n1    [[53, 111, 26], [14, 506, 42], [4, 105, 204]]  \n2    [[55, 105, 30], [28, 480, 54], [15, 92, 206]]  \n3    [[53, 107, 30], [14, 506, 42], [5, 102, 206]]  \n4   [[52, 113, 25], [29, 483, 50], [11, 120, 182]]  \n..                                             ...  \n59    [[57, 94, 39], [12, 496, 54], [5, 101, 207]]  \n60    [[58, 92, 40], [25, 465, 72], [13, 93, 207]]  \n61    [[64, 91, 35], [24, 469, 69], [16, 95, 202]]  \n62   [[66, 92, 32], [33, 473, 56], [14, 104, 195]]  \n63    [[58, 99, 33], [16, 490, 56], [5, 101, 207]]  \n\n[64 rows x 9 columns]"
     },
     "execution_count": 4,
     "metadata": {},
     "output_type": "execute_result"
    }
   ],
   "source": [
    "result_2018"
   ]
  },
  {
   "cell_type": "code",
   "execution_count": 5,
   "metadata": {},
   "outputs": [],
   "source": [
    "result_2018.to_csv('corpus_2018_bias_score.csv', index=False)"
   ]
  },
  {
   "cell_type": "code",
   "execution_count": 3,
   "metadata": {},
   "outputs": [
    {
     "name": "stdout",
     "output_type": "stream",
     "text": [
      "Using model: combined_data_unweighted_lvl_one_128D.model\n",
      "Start training...\n",
      "Start training...\n",
      "Start training...\n",
      "Start training...\n",
      "Using model: combined_data_unweighted_lvl_one_64D.model\n",
      "Start training...\n",
      "Start training...\n",
      "Start training...\n",
      "Start training...\n",
      "Using model: combined_data_weighted_lvl_one_128D.model\n",
      "Start training...\n",
      "Start training...\n",
      "Start training...\n",
      "Start training...\n",
      "Using model: combined_data_weighted_lvl_one_64D.model\n",
      "Start training...\n",
      "Start training...\n",
      "Start training...\n",
      "Start training...\n",
      "Using model: corpus_2018_mixed_unweighted_1024D.model\n",
      "Start training...\n",
      "Start training...\n",
      "Start training...\n",
      "Start training...\n",
      "Using model: corpus_2018_mixed_unweighted_128D.model\n",
      "Start training...\n",
      "Start training...\n",
      "Start training...\n",
      "Start training...\n",
      "Using model: corpus_2018_mixed_unweighted_256D.model\n",
      "Start training...\n",
      "Start training...\n",
      "Start training...\n",
      "Start training...\n",
      "Using model: corpus_2018_mixed_unweighted_512D.model\n",
      "Start training...\n",
      "Start training...\n",
      "Start training...\n",
      "Start training...\n",
      "Using model: corpus_2018_mixed_unweighted_64D.model\n",
      "Start training...\n",
      "Start training...\n",
      "Start training...\n",
      "Start training...\n"
     ]
    }
   ],
   "source": [
    "# additional_models\n",
    "additional_models_2018 = [\n",
    "    'combined_data_unweighted_lvl_one_128D.model',\n",
    "    'combined_data_unweighted_lvl_one_64D.model',\n",
    "    'combined_data_weighted_lvl_one_128D.model',\n",
    "    'combined_data_weighted_lvl_one_64D.model',\n",
    "    'corpus_2018_mixed_unweighted_1024D.model',\n",
    "    'corpus_2018_mixed_unweighted_128D.model',\n",
    "    'corpus_2018_mixed_unweighted_256D.model',\n",
    "    'corpus_2018_mixed_unweighted_512D.model',\n",
    "    'corpus_2018_mixed_unweighted_64D.model'\n",
    "]\n",
    "\n",
    "additional_models_result_2018 = eval_node2vec_models(additional_models_2018, data_year='2018', task='bias')"
   ]
  },
  {
   "cell_type": "code",
   "execution_count": 4,
   "metadata": {},
   "outputs": [],
   "source": [
    "additional_models_result_2018.to_csv('additional_models_corpus_2018_bias_score.csv', index=False)"
   ]
  }
 ],
 "metadata": {
  "kernelspec": {
   "display_name": "Python 3.7.9 64-bit ('site_similarity': conda)",
   "metadata": {
    "interpreter": {
     "hash": "72b3faef5542ae75c34eb0d3b11ce0fc432eb00b9ccfc309dfbebb58f482608a"
    }
   },
   "name": "python3"
  },
  "language_info": {
   "codemirror_mode": {
    "name": "ipython",
    "version": 3
   },
   "file_extension": ".py",
   "mimetype": "text/x-python",
   "name": "python",
   "nbconvert_exporter": "python",
   "pygments_lexer": "ipython3",
   "version": "3.7.9"
  },
  "orig_nbformat": 2
 },
 "nbformat": 4,
 "nbformat_minor": 2
}