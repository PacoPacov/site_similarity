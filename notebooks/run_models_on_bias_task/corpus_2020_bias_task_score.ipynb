{
 "cells": [
  {
   "cell_type": "code",
   "execution_count": 1,
   "metadata": {},
   "outputs": [],
   "source": [
    "import sys,os\n",
    "sys.path.append(\"/home/panayot/Documents/site_similarity\")"
   ]
  },
  {
   "cell_type": "code",
   "execution_count": 2,
   "metadata": {},
   "outputs": [],
   "source": [
    "from utils.notebook_utils import eval_node2vec_models"
   ]
  },
  {
   "cell_type": "code",
   "execution_count": 6,
   "metadata": {},
   "outputs": [
    {
     "name": "stdout",
     "output_type": "stream",
     "text": [
      "Using model: corpus_2020_audience_overlap_sites_lvl_four_unweighted_1024D.model\n",
      "Start training...\n",
      "Start training...\n",
      "Start training...\n",
      "Start training...\n",
      "Using model: corpus_2020_audience_overlap_sites_lvl_four_unweighted_128D.model\n",
      "Start training...\n",
      "Start training...\n",
      "Start training...\n",
      "Start training...\n",
      "Using model: corpus_2020_audience_overlap_sites_lvl_four_unweighted_256D.model\n",
      "Start training...\n",
      "Start training...\n",
      "Start training...\n",
      "Start training...\n",
      "Using model: corpus_2020_audience_overlap_sites_lvl_four_unweighted_512D.model\n",
      "Start training...\n",
      "Start training...\n",
      "Start training...\n",
      "Start training...\n",
      "Using model: corpus_2020_audience_overlap_sites_lvl_four_unweighted_64D.model\n",
      "Start training...\n",
      "Start training...\n",
      "Start training...\n",
      "Start training...\n",
      "Using model: corpus_2020_audience_overlap_sites_lvl_three_unweighted_1024D.model\n",
      "Start training...\n",
      "Start training...\n",
      "Start training...\n",
      "Start training...\n",
      "Using model: corpus_2020_audience_overlap_sites_lvl_three_unweighted_512D.model\n",
      "Start training...\n",
      "Start training...\n",
      "Start training...\n",
      "Start training...\n",
      "Using model: corpus_2020_audience_overlap_sites_lvl_three_unweighted_64D.model\n",
      "Start training...\n",
      "Start training...\n",
      "Start training...\n",
      "Start training...\n",
      "Using model: corpus_2020_referral_sites_lvl_three_unweighted_1024D.model\n",
      "Start training...\n",
      "Start training...\n",
      "Start training...\n",
      "Start training...\n",
      "Using model: corpus_2020_referral_sites_lvl_three_unweighted_128D.model\n",
      "Start training...\n",
      "Start training...\n",
      "Start training...\n",
      "Start training...\n",
      "Using model: corpus_2020_referral_sites_lvl_three_unweighted_256D.model\n",
      "Start training...\n",
      "Start training...\n",
      "Start training...\n",
      "Start training...\n",
      "Using model: corpus_2020_referral_sites_lvl_three_unweighted_512D.model\n",
      "Start training...\n",
      "Start training...\n",
      "Start training...\n",
      "Start training...\n",
      "Using model: corpus_2020_referral_sites_lvl_three_unweighted_64D.model\n",
      "Start training...\n",
      "Start training...\n",
      "Start training...\n",
      "Start training...\n",
      "Using model: corpus_2020_referral_sites_unweighted_128_D.model\n",
      "Start training...\n",
      "Start training...\n",
      "Start training...\n",
      "Start training...\n",
      "Using model: corpus_2020_referral_sites_unweighted_64_D.model\n",
      "Start training...\n",
      "Start training...\n",
      "Start training...\n",
      "Start training...\n",
      "Using model: corpus_2020_unweighted_lvl_one_128D.model\n",
      "Start training...\n",
      "Start training...\n",
      "Start training...\n",
      "Start training...\n",
      "Using model: corpus_2020_unweighted_lvl_one_64D.model\n",
      "Start training...\n",
      "Start training...\n",
      "Start training...\n",
      "Start training...\n",
      "Using model: corpus_2020_unweighted_lvl_three_128D.model\n",
      "Start training...\n",
      "Start training...\n",
      "Start training...\n",
      "Start training...\n",
      "Using model: corpus_2020_unweighted_lvl_three_256D.model\n",
      "Start training...\n",
      "Start training...\n",
      "Start training...\n",
      "Start training...\n",
      "Using model: corpus_2020_weighted_lvl_one_128D.model\n",
      "Start training...\n",
      "Start training...\n",
      "Start training...\n",
      "Start training...\n",
      "Using model: corpus_2020_weighted_lvl_one_64D.model\n",
      "Start training...\n",
      "Start training...\n",
      "Start training...\n",
      "Start training...\n",
      "Using model: corpus_2020_weighted_lvl_three_128D.model\n",
      "Start training...\n",
      "Start training...\n",
      "Start training...\n",
      "Start training...\n",
      "Using model: corpus_2020_weighted_lvl_three_256D.model\n",
      "Start training...\n",
      "Start training...\n",
      "Start training...\n",
      "Start training...\n"
     ]
    }
   ],
   "source": [
    "models_2020 = [\n",
    "    'corpus_2020_audience_overlap_sites_lvl_four_unweighted_1024D.model',\n",
    "    'corpus_2020_audience_overlap_sites_lvl_four_unweighted_128D.model',\n",
    "    'corpus_2020_audience_overlap_sites_lvl_four_unweighted_256D.model',\n",
    "    'corpus_2020_audience_overlap_sites_lvl_four_unweighted_512D.model',\n",
    "    'corpus_2020_audience_overlap_sites_lvl_four_unweighted_64D.model',\n",
    "    'corpus_2020_audience_overlap_sites_lvl_three_unweighted_1024D.model',\n",
    "    'corpus_2020_audience_overlap_sites_lvl_three_unweighted_512D.model',\n",
    "    'corpus_2020_audience_overlap_sites_lvl_three_unweighted_64D.model',\n",
    "    'corpus_2020_referral_sites_lvl_three_unweighted_1024D.model',\n",
    "    'corpus_2020_referral_sites_lvl_three_unweighted_128D.model',\n",
    "    'corpus_2020_referral_sites_lvl_three_unweighted_256D.model',\n",
    "    'corpus_2020_referral_sites_lvl_three_unweighted_512D.model',\n",
    "    'corpus_2020_referral_sites_lvl_three_unweighted_64D.model',\n",
    "    'corpus_2020_referral_sites_unweighted_128_D.model',\n",
    "    'corpus_2020_referral_sites_unweighted_64_D.model',\n",
    "    'corpus_2020_unweighted_lvl_one_128D.model',\n",
    "    'corpus_2020_unweighted_lvl_one_64D.model',\n",
    "    'corpus_2020_unweighted_lvl_three_128D.model',\n",
    "    'corpus_2020_unweighted_lvl_three_256D.model',\n",
    "    'corpus_2020_weighted_lvl_one_128D.model',\n",
    "    'corpus_2020_weighted_lvl_one_64D.model',\n",
    "    'corpus_2020_weighted_lvl_three_128D.model',\n",
    "    'corpus_2020_weighted_lvl_three_256D.model'\n",
    "]\n",
    "\n",
    "result_2020 = eval_node2vec_models(models_2020, data_year='2020', task='bias')"
   ]
  },
  {
   "cell_type": "code",
   "execution_count": 7,
   "metadata": {},
   "outputs": [
    {
     "data": {
      "text/html": "<div>\n<style scoped>\n    .dataframe tbody tr th:only-of-type {\n        vertical-align: middle;\n    }\n\n    .dataframe tbody tr th {\n        vertical-align: top;\n    }\n\n    .dataframe thead th {\n        text-align: right;\n    }\n</style>\n<table border=\"1\" class=\"dataframe\">\n  <thead>\n    <tr style=\"text-align: right;\">\n      <th></th>\n      <th>Feature</th>\n      <th>Classifier</th>\n      <th>Accuracy</th>\n      <th>Balanced Accuracy score</th>\n      <th>F1 micro score</th>\n      <th>F1 macro score</th>\n      <th>F1 weighted score</th>\n      <th>MAE</th>\n      <th>Confusion matrix</th>\n    </tr>\n  </thead>\n  <tbody>\n    <tr>\n      <th>0</th>\n      <td>corpus_2020_audience_overlap_sites_lvl_four_un...</td>\n      <td>LogisticRegression CV = 5</td>\n      <td>0.554133</td>\n      <td>0.535647</td>\n      <td>0.554133</td>\n      <td>0.535958</td>\n      <td>0.552097</td>\n      <td>0.548312</td>\n      <td>[[103, 85, 51], [71, 130, 70], [37, 69, 243]]</td>\n    </tr>\n    <tr>\n      <th>1</th>\n      <td>corpus_2020_audience_overlap_sites_lvl_four_un...</td>\n      <td>LogisticRegression CV = 10</td>\n      <td>0.542491</td>\n      <td>0.523841</td>\n      <td>0.542491</td>\n      <td>0.522915</td>\n      <td>0.538490</td>\n      <td>0.582072</td>\n      <td>[[106, 71, 62], [78, 117, 76], [45, 61, 243]]</td>\n    </tr>\n    <tr>\n      <th>2</th>\n      <td>corpus_2020_audience_overlap_sites_lvl_four_un...</td>\n      <td>GradientBoostingClassifier</td>\n      <td>0.651921</td>\n      <td>0.640997</td>\n      <td>0.651921</td>\n      <td>0.641549</td>\n      <td>0.650504</td>\n      <td>0.451688</td>\n      <td>[[127, 59, 53], [39, 183, 49], [36, 63, 250]]</td>\n    </tr>\n    <tr>\n      <th>3</th>\n      <td>corpus_2020_audience_overlap_sites_lvl_four_un...</td>\n      <td>SVC ovo</td>\n      <td>0.684517</td>\n      <td>0.677582</td>\n      <td>0.684517</td>\n      <td>0.674600</td>\n      <td>0.683734</td>\n      <td>0.385332</td>\n      <td>[[125, 83, 31], [23, 222, 26], [29, 79, 241]]</td>\n    </tr>\n    <tr>\n      <th>4</th>\n      <td>corpus_2020_audience_overlap_sites_lvl_four_un...</td>\n      <td>LogisticRegression CV = 5</td>\n      <td>0.543655</td>\n      <td>0.524689</td>\n      <td>0.543655</td>\n      <td>0.525953</td>\n      <td>0.540242</td>\n      <td>0.555297</td>\n      <td>[[97, 90, 52], [52, 131, 88], [33, 77, 239]]</td>\n    </tr>\n    <tr>\n      <th>...</th>\n      <td>...</td>\n      <td>...</td>\n      <td>...</td>\n      <td>...</td>\n      <td>...</td>\n      <td>...</td>\n      <td>...</td>\n      <td>...</td>\n      <td>...</td>\n    </tr>\n    <tr>\n      <th>87</th>\n      <td>corpus_2020_weighted_lvl_three_128D</td>\n      <td>SVC ovo</td>\n      <td>0.676368</td>\n      <td>0.662977</td>\n      <td>0.676368</td>\n      <td>0.664470</td>\n      <td>0.674214</td>\n      <td>0.419092</td>\n      <td>[[132, 55, 52], [40, 182, 49], [30, 52, 267]]</td>\n    </tr>\n    <tr>\n      <th>88</th>\n      <td>corpus_2020_weighted_lvl_three_256D</td>\n      <td>LogisticRegression CV = 5</td>\n      <td>0.544820</td>\n      <td>0.514380</td>\n      <td>0.544820</td>\n      <td>0.507126</td>\n      <td>0.529588</td>\n      <td>0.579744</td>\n      <td>[[67, 91, 81], [60, 138, 73], [26, 60, 263]]</td>\n    </tr>\n    <tr>\n      <th>89</th>\n      <td>corpus_2020_weighted_lvl_three_256D</td>\n      <td>LogisticRegression CV = 10</td>\n      <td>0.534342</td>\n      <td>0.502597</td>\n      <td>0.534342</td>\n      <td>0.493609</td>\n      <td>0.516572</td>\n      <td>0.607683</td>\n      <td>[[61, 85, 93], [60, 136, 75], [29, 58, 262]]</td>\n    </tr>\n    <tr>\n      <th>90</th>\n      <td>corpus_2020_weighted_lvl_three_256D</td>\n      <td>GradientBoostingClassifier</td>\n      <td>0.667055</td>\n      <td>0.655226</td>\n      <td>0.667055</td>\n      <td>0.656361</td>\n      <td>0.665460</td>\n      <td>0.436554</td>\n      <td>[[133, 54, 52], [40, 180, 51], [37, 52, 260]]</td>\n    </tr>\n    <tr>\n      <th>91</th>\n      <td>corpus_2020_weighted_lvl_three_256D</td>\n      <td>SVC ovo</td>\n      <td>0.670547</td>\n      <td>0.655674</td>\n      <td>0.670547</td>\n      <td>0.656933</td>\n      <td>0.667355</td>\n      <td>0.430733</td>\n      <td>[[125, 58, 56], [37, 184, 50], [31, 51, 267]]</td>\n    </tr>\n  </tbody>\n</table>\n<p>92 rows × 9 columns</p>\n</div>",
      "text/plain": "                                              Feature  \\\n0   corpus_2020_audience_overlap_sites_lvl_four_un...   \n1   corpus_2020_audience_overlap_sites_lvl_four_un...   \n2   corpus_2020_audience_overlap_sites_lvl_four_un...   \n3   corpus_2020_audience_overlap_sites_lvl_four_un...   \n4   corpus_2020_audience_overlap_sites_lvl_four_un...   \n..                                                ...   \n87                corpus_2020_weighted_lvl_three_128D   \n88                corpus_2020_weighted_lvl_three_256D   \n89                corpus_2020_weighted_lvl_three_256D   \n90                corpus_2020_weighted_lvl_three_256D   \n91                corpus_2020_weighted_lvl_three_256D   \n\n                    Classifier  Accuracy  Balanced Accuracy score  \\\n0    LogisticRegression CV = 5  0.554133                 0.535647   \n1   LogisticRegression CV = 10  0.542491                 0.523841   \n2   GradientBoostingClassifier  0.651921                 0.640997   \n3                      SVC ovo  0.684517                 0.677582   \n4    LogisticRegression CV = 5  0.543655                 0.524689   \n..                         ...       ...                      ...   \n87                     SVC ovo  0.676368                 0.662977   \n88   LogisticRegression CV = 5  0.544820                 0.514380   \n89  LogisticRegression CV = 10  0.534342                 0.502597   \n90  GradientBoostingClassifier  0.667055                 0.655226   \n91                     SVC ovo  0.670547                 0.655674   \n\n    F1 micro score  F1 macro score  F1 weighted score       MAE  \\\n0         0.554133        0.535958           0.552097  0.548312   \n1         0.542491        0.522915           0.538490  0.582072   \n2         0.651921        0.641549           0.650504  0.451688   \n3         0.684517        0.674600           0.683734  0.385332   \n4         0.543655        0.525953           0.540242  0.555297   \n..             ...             ...                ...       ...   \n87        0.676368        0.664470           0.674214  0.419092   \n88        0.544820        0.507126           0.529588  0.579744   \n89        0.534342        0.493609           0.516572  0.607683   \n90        0.667055        0.656361           0.665460  0.436554   \n91        0.670547        0.656933           0.667355  0.430733   \n\n                                 Confusion matrix  \n0   [[103, 85, 51], [71, 130, 70], [37, 69, 243]]  \n1   [[106, 71, 62], [78, 117, 76], [45, 61, 243]]  \n2   [[127, 59, 53], [39, 183, 49], [36, 63, 250]]  \n3   [[125, 83, 31], [23, 222, 26], [29, 79, 241]]  \n4    [[97, 90, 52], [52, 131, 88], [33, 77, 239]]  \n..                                            ...  \n87  [[132, 55, 52], [40, 182, 49], [30, 52, 267]]  \n88   [[67, 91, 81], [60, 138, 73], [26, 60, 263]]  \n89   [[61, 85, 93], [60, 136, 75], [29, 58, 262]]  \n90  [[133, 54, 52], [40, 180, 51], [37, 52, 260]]  \n91  [[125, 58, 56], [37, 184, 50], [31, 51, 267]]  \n\n[92 rows x 9 columns]"
     },
     "execution_count": 7,
     "metadata": {},
     "output_type": "execute_result"
    }
   ],
   "source": [
    "result_2020"
   ]
  },
  {
   "cell_type": "code",
   "execution_count": 8,
   "metadata": {},
   "outputs": [],
   "source": [
    "result_2020.to_csv('corpus_2020_bias_score.csv', index=False)"
   ]
  },
  {
   "cell_type": "code",
   "execution_count": 5,
   "metadata": {},
   "outputs": [
    {
     "name": "stdout",
     "output_type": "stream",
     "text": [
      "Using model: combined_data_unweighted_lvl_one_128D.model\n",
      "Start training...\n",
      "Start training...\n",
      "Start training...\n",
      "Start training...\n",
      "Using model: combined_data_unweighted_lvl_one_64D.model\n",
      "Start training...\n",
      "Start training...\n",
      "Start training...\n",
      "Start training...\n",
      "Using model: combined_data_weighted_lvl_one_128D.model\n",
      "Start training...\n",
      "Start training...\n",
      "Start training...\n",
      "Start training...\n",
      "Using model: combined_data_weighted_lvl_one_64D.model\n",
      "Start training...\n",
      "Start training...\n",
      "Start training...\n",
      "Start training...\n",
      "Using model: corpus_2020_mixed_unweighted_1024D.model\n",
      "Start training...\n",
      "Start training...\n",
      "Start training...\n",
      "Start training...\n",
      "Using model: corpus_2020_mixed_unweighted_128D.model\n",
      "Start training...\n",
      "Start training...\n",
      "Start training...\n",
      "Start training...\n",
      "Using model: corpus_2020_mixed_unweighted_256D.model\n",
      "Start training...\n",
      "Start training...\n",
      "Start training...\n",
      "Start training...\n",
      "Using model: corpus_2020_mixed_unweighted_512D.model\n",
      "Start training...\n",
      "Start training...\n",
      "Start training...\n",
      "Start training...\n",
      "Using model: corpus_2020_mixed_unweighted_64D.model\n",
      "Start training...\n",
      "Start training...\n",
      "Start training...\n",
      "Start training...\n"
     ]
    }
   ],
   "source": [
    "# additional_models\n",
    "additional_models_2020 = [\n",
    "    'combined_data_unweighted_lvl_one_128D.model',\n",
    "    'combined_data_unweighted_lvl_one_64D.model',\n",
    "    'combined_data_weighted_lvl_one_128D.model',\n",
    "    'combined_data_weighted_lvl_one_64D.model',\n",
    "    'corpus_2020_mixed_unweighted_1024D.model',\n",
    "    'corpus_2020_mixed_unweighted_128D.model',\n",
    "    'corpus_2020_mixed_unweighted_256D.model',\n",
    "    'corpus_2020_mixed_unweighted_512D.model',\n",
    "    'corpus_2020_mixed_unweighted_64D.model'\n",
    "]\n",
    "\n",
    "additional_models_result_2020 = eval_node2vec_models(additional_models_2020, data_year='2020', task='bias')"
   ]
  },
  {
   "cell_type": "code",
   "execution_count": 6,
   "metadata": {},
   "outputs": [],
   "source": [
    "additional_models_result_2020.to_csv('additional_models_corpus_2020_bias_score.csv', index=False)"
   ]
  }
 ],
 "metadata": {
  "kernelspec": {
   "display_name": "Python 3.7.9 64-bit ('site_similarity': conda)",
   "metadata": {
    "interpreter": {
     "hash": "72b3faef5542ae75c34eb0d3b11ce0fc432eb00b9ccfc309dfbebb58f482608a"
    }
   },
   "name": "python3"
  },
  "language_info": {
   "codemirror_mode": {
    "name": "ipython",
    "version": 3
   },
   "file_extension": ".py",
   "mimetype": "text/x-python",
   "name": "python",
   "nbconvert_exporter": "python",
   "pygments_lexer": "ipython3",
   "version": "3.7.9"
  },
  "orig_nbformat": 2
 },
 "nbformat": 4,
 "nbformat_minor": 2
}