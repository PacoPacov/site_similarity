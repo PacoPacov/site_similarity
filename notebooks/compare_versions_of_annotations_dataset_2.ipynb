{
 "metadata": {
  "language_info": {
   "codemirror_mode": {
    "name": "ipython",
    "version": 3
   },
   "file_extension": ".py",
   "mimetype": "text/x-python",
   "name": "python",
   "nbconvert_exporter": "python",
   "pygments_lexer": "ipython3",
   "version": "3.6.10-final"
  },
  "orig_nbformat": 2,
  "kernelspec": {
   "name": "python361064bitsitesimilarityconda5cc228f1d50144ce9681545e76d7f6e7",
   "display_name": "Python 3.6.10 64-bit ('site_similarity': conda)"
  }
 },
 "nbformat": 4,
 "nbformat_minor": 2,
 "cells": [
  {
   "cell_type": "code",
   "execution_count": 1,
   "metadata": {},
   "outputs": [],
   "source": [
    "import sys,os\n",
    "sys.path.append(\"/home/paco/Documents/site_similarity\")"
   ]
  },
  {
   "cell_type": "code",
   "execution_count": 2,
   "metadata": {},
   "outputs": [],
   "source": [
    "from utils.notebook_utils import load_corpus"
   ]
  },
  {
   "cell_type": "code",
   "execution_count": 3,
   "metadata": {},
   "outputs": [],
   "source": [
    "old_data = load_corpus('modified_corpus.csv')"
   ]
  },
  {
   "cell_type": "code",
   "execution_count": 4,
   "metadata": {},
   "outputs": [
    {
     "output_type": "execute_result",
     "data": {
      "text/html": "<div>\n<style scoped>\n    .dataframe tbody tr th:only-of-type {\n        vertical-align: middle;\n    }\n\n    .dataframe tbody tr th {\n        vertical-align: top;\n    }\n\n    .dataframe thead th {\n        text-align: right;\n    }\n</style>\n<table border=\"1\" class=\"dataframe\">\n  <thead>\n    <tr style=\"text-align: right;\">\n      <th></th>\n      <th>source_url</th>\n      <th>source_url_processed</th>\n      <th>URL</th>\n      <th>fact</th>\n      <th>bias</th>\n    </tr>\n  </thead>\n  <tbody>\n    <tr>\n      <th>0</th>\n      <td>http://www.villagevoice.com/</td>\n      <td>villagevoice.com</td>\n      <td>http://mediabiasfactcheck.com/the-village-voice/</td>\n      <td>HIGH</td>\n      <td>left</td>\n    </tr>\n    <tr>\n      <th>1</th>\n      <td>https://insideclimatenews.org/</td>\n      <td>insideclimatenews.org</td>\n      <td>https://mediabiasfactcheck.com/insideclimate-n...</td>\n      <td>HIGH</td>\n      <td>left-center</td>\n    </tr>\n    <tr>\n      <th>2</th>\n      <td>http://www.fury.news/</td>\n      <td>fury.news</td>\n      <td>http://mediabiasfactcheck.com/fury-news/</td>\n      <td>LOW</td>\n      <td>extreme-right</td>\n    </tr>\n    <tr>\n      <th>3</th>\n      <td>http://now8news.com/</td>\n      <td>now8news.com</td>\n      <td>http://mediabiasfactcheck.com/now8news/</td>\n      <td>LOW</td>\n      <td>center</td>\n    </tr>\n    <tr>\n      <th>4</th>\n      <td>http://constitution.com/</td>\n      <td>constitution.com</td>\n      <td>http://mediabiasfactcheck.com/the-constitution/</td>\n      <td>LOW</td>\n      <td>extreme-right</td>\n    </tr>\n  </tbody>\n</table>\n</div>",
      "text/plain": "                       source_url   source_url_processed  \\\n0    http://www.villagevoice.com/       villagevoice.com   \n1  https://insideclimatenews.org/  insideclimatenews.org   \n2           http://www.fury.news/              fury.news   \n3            http://now8news.com/           now8news.com   \n4        http://constitution.com/       constitution.com   \n\n                                                 URL  fact           bias  \n0   http://mediabiasfactcheck.com/the-village-voice/  HIGH           left  \n1  https://mediabiasfactcheck.com/insideclimate-n...  HIGH    left-center  \n2           http://mediabiasfactcheck.com/fury-news/   LOW  extreme-right  \n3            http://mediabiasfactcheck.com/now8news/   LOW         center  \n4    http://mediabiasfactcheck.com/the-constitution/   LOW  extreme-right  "
     },
     "metadata": {},
     "execution_count": 4
    }
   ],
   "source": [
    "import pandas as pd\n",
    "\n",
    "pd.DataFrame(old_data).head()"
   ]
  },
  {
   "cell_type": "code",
   "execution_count": 5,
   "metadata": {},
   "outputs": [],
   "source": [
    "new_data = load_corpus('new_corpus_2020.csv')"
   ]
  },
  {
   "cell_type": "code",
   "execution_count": 6,
   "metadata": {},
   "outputs": [
    {
     "output_type": "execute_result",
     "data": {
      "text/html": "<div>\n<style scoped>\n    .dataframe tbody tr th:only-of-type {\n        vertical-align: middle;\n    }\n\n    .dataframe tbody tr th {\n        vertical-align: top;\n    }\n\n    .dataframe thead th {\n        text-align: right;\n    }\n</style>\n<table border=\"1\" class=\"dataframe\">\n  <thead>\n    <tr style=\"text-align: right;\">\n      <th></th>\n      <th>source_url</th>\n      <th>source_url_normalized</th>\n      <th>ref</th>\n      <th>fact</th>\n      <th>bias</th>\n    </tr>\n  </thead>\n  <tbody>\n    <tr>\n      <th>0</th>\n      <td>https://crooked.com</td>\n      <td>crooked.com</td>\n      <td>https://mediabiasfactcheck.com/crooked-media/</td>\n      <td>high</td>\n      <td>left</td>\n    </tr>\n    <tr>\n      <th>1</th>\n      <td>http://deepleftfield.info</td>\n      <td>deepleftfield.info</td>\n      <td>https://mediabiasfactcheck.com/deep-left-field/</td>\n      <td>mixed</td>\n      <td>left</td>\n    </tr>\n    <tr>\n      <th>2</th>\n      <td>https://antifascistnews.net</td>\n      <td>antifascistnews.net</td>\n      <td>https://mediabiasfactcheck.com/anti-fascist-news/</td>\n      <td>high</td>\n      <td>left</td>\n    </tr>\n    <tr>\n      <th>3</th>\n      <td>http://www.cnn.com</td>\n      <td>cnn.com</td>\n      <td>http://mediabiasfactcheck.com/cnn/</td>\n      <td>mixed</td>\n      <td>left</td>\n    </tr>\n    <tr>\n      <th>4</th>\n      <td>http://www.allthatsfab.com</td>\n      <td>allthatsfab.com</td>\n      <td>http://mediabiasfactcheck.com/all-thats-fab/</td>\n      <td>mixed</td>\n      <td>left</td>\n    </tr>\n  </tbody>\n</table>\n</div>",
      "text/plain": "                    source_url source_url_normalized  \\\n0          https://crooked.com           crooked.com   \n1    http://deepleftfield.info    deepleftfield.info   \n2  https://antifascistnews.net   antifascistnews.net   \n3           http://www.cnn.com               cnn.com   \n4   http://www.allthatsfab.com       allthatsfab.com   \n\n                                                 ref   fact  bias  \n0      https://mediabiasfactcheck.com/crooked-media/   high  left  \n1    https://mediabiasfactcheck.com/deep-left-field/  mixed  left  \n2  https://mediabiasfactcheck.com/anti-fascist-news/   high  left  \n3                 http://mediabiasfactcheck.com/cnn/  mixed  left  \n4       http://mediabiasfactcheck.com/all-thats-fab/  mixed  left  "
     },
     "metadata": {},
     "execution_count": 6
    }
   ],
   "source": [
    "pd.DataFrame(new_data).head()"
   ]
  },
  {
   "cell_type": "code",
   "execution_count": 7,
   "metadata": {
    "tags": []
   },
   "outputs": [
    {
     "output_type": "stream",
     "name": "stdout",
     "text": "Old data: 1066 New data: 859\n"
    }
   ],
   "source": [
    "print(f\"Old data: {len(old_data)} New data: {len(new_data)}\")"
   ]
  },
  {
   "cell_type": "code",
   "execution_count": 8,
   "metadata": {},
   "outputs": [
    {
     "output_type": "execute_result",
     "data": {
      "text/plain": "['tmn.today',\n 'rstreet.org',\n 'thedailyvox.co.za',\n 'thedailyliberator.com',\n 'personalliberty.com',\n 'thewest.com.au',\n 'toinformistoinfluence.com',\n 'freakoutnation.com',\n 'msnbc.com',\n 'retractionwatch.com']"
     },
     "metadata": {},
     "execution_count": 8
    }
   ],
   "source": [
    "old_urls = set(row['source_url_processed'] for row in old_data)\n",
    "\n",
    "list(old_urls)[:10]"
   ]
  },
  {
   "cell_type": "code",
   "execution_count": 9,
   "metadata": {},
   "outputs": [
    {
     "output_type": "execute_result",
     "data": {
      "text/plain": "['tmn.today',\n 'thedailyvox.co.za',\n 'freakoutnation.com',\n 'msnbc.com',\n 'personalliberty.com',\n 'thatsnonsense.com',\n 'conservativeopinion.com',\n 'defenddemocracy.org',\n 'disobedientmedia.com',\n 'dallasvoice.com']"
     },
     "metadata": {},
     "execution_count": 9
    }
   ],
   "source": [
    "new_urls = set(row['source_url_normalized'] for row in new_data)\n",
    "\n",
    "list(new_urls)[:10]"
   ]
  },
  {
   "cell_type": "code",
   "execution_count": 10,
   "metadata": {},
   "outputs": [
    {
     "output_type": "execute_result",
     "data": {
      "text/plain": "513"
     },
     "metadata": {},
     "execution_count": 10
    }
   ],
   "source": [
    "len(old_urls.intersection(new_urls))"
   ]
  },
  {
   "cell_type": "code",
   "execution_count": 11,
   "metadata": {
    "tags": []
   },
   "outputs": [
    {
     "output_type": "stream",
     "name": "stdout",
     "text": "Urls that are in both sets: 513\n"
    }
   ],
   "source": [
    "print(f\"Urls that are in both sets: {len(old_urls & new_urls)}\")"
   ]
  },
  {
   "cell_type": "code",
   "execution_count": 12,
   "metadata": {
    "tags": []
   },
   "outputs": [
    {
     "output_type": "stream",
     "name": "stdout",
     "text": "Urls that are not in old sets: 346\n"
    }
   ],
   "source": [
    "print(f\"Urls that are not in old sets: {len(new_urls - old_urls)}\")"
   ]
  },
  {
   "cell_type": "markdown",
   "metadata": {},
   "source": [
    "# Start Scrapping missing elements from new corpus"
   ]
  },
  {
   "cell_type": "code",
   "execution_count": 13,
   "metadata": {
    "tags": []
   },
   "outputs": [
    {
     "output_type": "stream",
     "name": "stderr",
     "text": "100%|██████████| 859/859 [04:39<00:00,  3.07it/s]\n"
    }
   ],
   "source": [
    "from dataprep.alexa_scrapper import ScrapeAlexa\n",
    "from tqdm import tqdm\n",
    "\n",
    "results = {}\n",
    "alexa_scrapper = ScrapeAlexa()\n",
    "for row in tqdm(new_data):\n",
    "    results[row['source_url_normalized']] = {row['source_url_normalized']: alexa_scrapper.scrape_alexa_site_info(row['source_url_normalized'])}"
   ]
  },
  {
   "cell_type": "code",
   "execution_count": 14,
   "metadata": {},
   "outputs": [
    {
     "output_type": "execute_result",
     "data": {
      "text/plain": "[]"
     },
     "metadata": {},
     "execution_count": 14
    }
   ],
   "source": [
    "[res for result in results.values() for res in result.values() if res['score'] is None]"
   ]
  },
  {
   "cell_type": "code",
   "execution_count": 15,
   "metadata": {},
   "outputs": [
    {
     "output_type": "execute_result",
     "data": {
      "text/plain": "{'newpol.org': {'site': 'newpol.org',\n  'score': [{'url': 'leftvoice.org',\n    'overlap_score': 2.1,\n    'alexa_rank': 131685.0},\n   {'url': 'internationalviewpoint.org',\n    'overlap_score': 2.1,\n    'alexa_rank': 516782.0},\n   {'url': 'isreview.org', 'overlap_score': 1.9, 'alexa_rank': 427457.0},\n   {'url': 'solidarity-us.org', 'overlap_score': 1.8, 'alexa_rank': 640525.0},\n   {'url': 'isj.org.uk', 'overlap_score': 1.8, 'alexa_rank': 805492.0}],\n  'audience_geography': [{'country': 'Argentina', 'percent': 69.4},\n   {'country': 'United States', 'percent': 18.1}]}}"
     },
     "metadata": {},
     "execution_count": 15
    }
   ],
   "source": [
    "results['newpol.org']"
   ]
  },
  {
   "cell_type": "code",
   "execution_count": 16,
   "metadata": {},
   "outputs": [
    {
     "output_type": "execute_result",
     "data": {
      "text/plain": "Counter({5: 794, 2: 8, 1: 13, 0: 29, 3: 4, 4: 11})"
     },
     "metadata": {},
     "execution_count": 16
    }
   ],
   "source": [
    "# Distribution of the results length\n",
    "\n",
    "from collections import Counter\n",
    "\n",
    "Counter([len(res['score']) for result in results.values() for res in result.values()])"
   ]
  },
  {
   "cell_type": "code",
   "execution_count": 18,
   "metadata": {},
   "outputs": [],
   "source": [
    "import json\n",
    "\n",
    "with open(\"/home/paco/Documents/site_similarity/dataset/scrapping_results/new corpus processed level 0 results.json\", 'w') as f:\n",
    "    json.dump(results, f, indent=4)"
   ]
  },
  {
   "cell_type": "markdown",
   "metadata": {},
   "source": [
    "# Level one scrapping"
   ]
  },
  {
   "cell_type": "code",
   "execution_count": 19,
   "metadata": {},
   "outputs": [],
   "source": [
    "import json\n",
    "with open(\"/home/paco/Documents/site_similarity/dataset/scrapping_results/new corpus processed level 0 results.json\") as f:\n",
    "    lvl_zero_data = json.load(f)"
   ]
  },
  {
   "cell_type": "code",
   "execution_count": 21,
   "metadata": {
    "tags": []
   },
   "outputs": [
    {
     "output_type": "stream",
     "name": "stderr",
     "text": "0%|          | 0/859 [00:00<?, ?it/s]Save data at index 0 ...\n 11%|█▏        | 97/859 [05:29<2:53:42, 13.68s/it]Save data at index 100 ...\n 23%|██▎       | 201/859 [11:01<43:55,  4.01s/it]Save data at index 200 ...\n 35%|███▍      | 299/859 [18:45<2:19:07, 14.91s/it]Save data at index 300 ...\n 47%|████▋     | 400/859 [29:12<1:29:04, 11.64s/it]Save data at index 400 ...\n 58%|█████▊    | 500/859 [37:16<35:54,  6.00s/it]Save data at index 500 ...\n 69%|██████▉   | 594/859 [40:40<14:41,  3.32s/it]Save data at index 600 ...\n 81%|████████▏ | 699/859 [44:29<17:02,  6.39s/it]Save data at index 700 ...\n 92%|█████████▏| 787/859 [47:26<03:31,  2.94s/it]Save data at index 800 ...\n100%|██████████| 859/859 [48:00<00:00,  3.35s/it]\n"
    }
   ],
   "source": [
    "from dataprep.alexa_scrapper import scrapping\n",
    "\n",
    "\n",
    "lvl_one_file = \"/home/paco/Documents/site_similarity/dataset/scrapping_results/new corpus processed level 1 results.json\"\n",
    "\n",
    "results = scrapping(lvl_zero_data, output_file=lvl_one_file)"
   ]
  },
  {
   "cell_type": "code",
   "execution_count": 22,
   "metadata": {},
   "outputs": [
    {
     "output_type": "execute_result",
     "data": {
      "text/plain": "[]"
     },
     "metadata": {},
     "execution_count": 22
    }
   ],
   "source": [
    "[res for result in results.values() for res in result.values() if res['score'] is None]"
   ]
  },
  {
   "cell_type": "code",
   "execution_count": 23,
   "metadata": {},
   "outputs": [],
   "source": [
    "with open(\"/home/paco/Documents/site_similarity/dataset/scrapping_results/new corpus processed level 1 results.json\", 'w') as f:\n",
    "    json.dump(results, f, indent=4)"
   ]
  },
  {
   "cell_type": "markdown",
   "metadata": {},
   "source": [
    "# Level two scrapping"
   ]
  },
  {
   "cell_type": "code",
   "execution_count": 35,
   "metadata": {},
   "outputs": [],
   "source": [
    "with open(\"/home/paco/Documents/site_similarity/dataset/scrapping_results/new corpus processed level 1 results.json\") as f:\n",
    "    lvl_one_data = json.load(f)"
   ]
  },
  {
   "cell_type": "code",
   "execution_count": 36,
   "metadata": {},
   "outputs": [
    {
     "output_type": "execute_result",
     "data": {
      "text/plain": "859"
     },
     "metadata": {},
     "execution_count": 36
    }
   ],
   "source": [
    "len(lvl_one_data)"
   ]
  },
  {
   "cell_type": "code",
   "execution_count": 37,
   "metadata": {
    "tags": []
   },
   "outputs": [
    {
     "output_type": "stream",
     "name": "stderr",
     "text": "1%|▏         | 12/859 [00:00<00:07, 107.11it/s]Save data at index 0 ...\n 10%|█         | 88/859 [00:00<00:05, 143.46it/s]Save data at index 100 ...\n 22%|██▏       | 192/859 [00:01<00:04, 136.52it/s]Save data at index 200 ...\n 33%|███▎      | 287/859 [00:02<00:04, 123.71it/s]Save data at index 300 ...\n 46%|████▌     | 395/859 [00:16<00:11, 39.94it/s]Save data at index 400 ...\n 57%|█████▋    | 492/859 [00:18<00:05, 73.38it/s]Save data at index 500 ...\n 69%|██████▉   | 597/859 [00:21<00:02, 93.05it/s]Save data at index 600 ...\n 81%|████████  | 692/859 [00:23<00:02, 75.15it/s]Save data at index 700 ...\n 93%|█████████▎| 800/859 [00:27<00:02, 24.69it/s]Save data at index 800 ...\n100%|██████████| 859/859 [00:30<00:00, 28.27it/s]\n"
    }
   ],
   "source": [
    "lvl_two_file = \"/home/paco/Documents/site_similarity/dataset/scrapping_results/new corpus processed level 2 results.json\"\n",
    "\n",
    "results = scrapping(lvl_one_data, output_file=lvl_two_file)"
   ]
  },
  {
   "cell_type": "code",
   "execution_count": 38,
   "metadata": {},
   "outputs": [
    {
     "output_type": "execute_result",
     "data": {
      "text/plain": "[]"
     },
     "metadata": {},
     "execution_count": 38
    }
   ],
   "source": [
    "[res for result in results.values() for res in result.values() if res['score'] is None]"
   ]
  },
  {
   "cell_type": "code",
   "execution_count": 39,
   "metadata": {},
   "outputs": [
    {
     "output_type": "execute_result",
     "data": {
      "text/plain": "2933"
     },
     "metadata": {},
     "execution_count": 39
    }
   ],
   "source": [
    "len(results)"
   ]
  },
  {
   "cell_type": "code",
   "execution_count": 40,
   "metadata": {},
   "outputs": [],
   "source": [
    "with open(\"/home/paco/Documents/site_similarity/dataset/scrapping_results/new corpus processed level 2 results.json\", 'w') as f:\n",
    "    json.dump(results, f, indent=4)"
   ]
  },
  {
   "cell_type": "markdown",
   "metadata": {},
   "source": [
    "# Level 3 scrapping"
   ]
  },
  {
   "cell_type": "code",
   "execution_count": 46,
   "metadata": {},
   "outputs": [],
   "source": [
    "with open(\"/home/paco/Documents/site_similarity/dataset/scrapping_results/new corpus processed level 2 results.json\") as f:\n",
    "    lvl_two_data = json.load(f)"
   ]
  },
  {
   "cell_type": "code",
   "execution_count": 47,
   "metadata": {},
   "outputs": [
    {
     "output_type": "execute_result",
     "data": {
      "text/plain": "2933"
     },
     "metadata": {},
     "execution_count": 47
    }
   ],
   "source": [
    "len(lvl_two_data)"
   ]
  },
  {
   "cell_type": "code",
   "execution_count": 59,
   "metadata": {
    "tags": []
   },
   "outputs": [
    {
     "output_type": "stream",
     "name": "stderr",
     "text": "0%|          | 9/2933 [00:00<00:34, 85.59it/s]Save data at index 0 ...\n  3%|▎         | 93/2933 [00:00<00:21, 130.46it/s]Save data at index 100 ...\n  6%|▋         | 187/2933 [00:02<00:28, 97.23it/s]Save data at index 200 ...\n 10%|▉         | 290/2933 [00:03<00:21, 120.80it/s]Save data at index 300 ...\n 14%|█▎        | 400/2933 [00:04<00:22, 113.26it/s]Save data at index 400 ...\n 17%|█▋        | 493/2933 [00:06<00:24, 98.67it/s]Save data at index 500 ...\n 20%|██        | 596/2933 [00:08<00:23, 99.83it/s]Save data at index 600 ...\n 23%|██▎       | 685/2933 [00:10<00:27, 81.37it/s]Save data at index 700 ...\n 27%|██▋       | 786/2933 [00:12<00:24, 88.20it/s]Save data at index 800 ...\n 31%|███       | 899/2933 [00:17<00:33, 61.19it/s]Save data at index 900 ...\n 34%|███▍      | 999/2933 [00:21<00:31, 60.56it/s]Save data at index 1000 ...\n 37%|███▋      | 1098/2933 [00:26<00:33, 55.05it/s]Save data at index 1100 ...\n 41%|████      | 1197/2933 [00:30<00:30, 57.86it/s]Save data at index 1200 ...\n 44%|████▍     | 1294/2933 [00:35<00:27, 59.66it/s]Save data at index 1300 ...\n 48%|████▊     | 1394/2933 [00:39<00:23, 65.14it/s]Save data at index 1400 ...\n 51%|█████     | 1492/2933 [00:43<00:24, 59.80it/s]Save data at index 1500 ...\n 55%|█████▍    | 1600/2933 [00:48<00:19, 66.80it/s]Save data at index 1600 ...\n 58%|█████▊    | 1694/2933 [00:53<00:27, 45.29it/s]Save data at index 1700 ...\n 61%|██████    | 1788/2933 [00:58<00:19, 58.86it/s]Save data at index 1800 ...\n 64%|██████▍   | 1891/2933 [01:04<00:20, 49.74it/s]Save data at index 1900 ...\n 68%|██████▊   | 1998/2933 [01:10<00:15, 59.66it/s]Save data at index 2000 ...\n 71%|███████▏  | 2093/2933 [01:15<00:16, 49.52it/s]Save data at index 2100 ...\n 75%|███████▍  | 2194/2933 [01:21<00:17, 41.97it/s]Save data at index 2200 ...\n 78%|███████▊  | 2296/2933 [01:29<00:15, 42.46it/s]Save data at index 2300 ...\n 81%|████████▏ | 2389/2933 [01:37<00:12, 43.40it/s]Save data at index 2400 ...\n 85%|████████▌ | 2496/2933 [01:44<00:07, 60.09it/s]Save data at index 2500 ...\n 88%|████████▊ | 2595/2933 [01:51<00:06, 54.90it/s]Save data at index 2600 ...\n 92%|█████████▏| 2695/2933 [01:59<00:04, 48.20it/s]Save data at index 2700 ...\n 95%|█████████▌| 2789/2933 [02:06<00:03, 43.54it/s]Save data at index 2800 ...\n 99%|█████████▊| 2892/2933 [02:26<00:01, 23.99it/s]Save data at index 2900 ...\n100%|██████████| 2933/2933 [02:34<00:00, 19.02it/s]\n"
    }
   ],
   "source": [
    "lvl_three_file = \"/home/paco/Documents/site_similarity/dataset/scrapping_results/new corpus processed level 3 results.json\"\n",
    "\n",
    "results = scrapping(lvl_two_data,output_file=lvl_three_file)"
   ]
  },
  {
   "cell_type": "code",
   "execution_count": 60,
   "metadata": {},
   "outputs": [
    {
     "output_type": "execute_result",
     "data": {
      "text/plain": "[]"
     },
     "metadata": {},
     "execution_count": 60
    }
   ],
   "source": [
    "[res for result in results.values() for res in result.values() if res['score'] is None]"
   ]
  },
  {
   "cell_type": "code",
   "execution_count": 61,
   "metadata": {},
   "outputs": [
    {
     "output_type": "execute_result",
     "data": {
      "text/plain": "9101"
     },
     "metadata": {},
     "execution_count": 61
    }
   ],
   "source": [
    "len(results)"
   ]
  },
  {
   "cell_type": "code",
   "execution_count": 62,
   "metadata": {},
   "outputs": [],
   "source": [
    "with open(lvl_three_file, 'w') as f:\n",
    "    json.dump(results, f, indent=4)"
   ]
  },
  {
   "cell_type": "markdown",
   "metadata": {},
   "source": [
    "# Level 4 scrappimg"
   ]
  },
  {
   "cell_type": "code",
   "execution_count": 63,
   "metadata": {},
   "outputs": [],
   "source": [
    "with open(\"/home/paco/Documents/site_similarity/dataset/scrapping_results/new corpus processed level 3 results.json\") as f:\n",
    "    lvl_three_data = json.load(f)"
   ]
  },
  {
   "cell_type": "code",
   "execution_count": 64,
   "metadata": {},
   "outputs": [
    {
     "output_type": "execute_result",
     "data": {
      "text/plain": "9101"
     },
     "metadata": {},
     "execution_count": 64
    }
   ],
   "source": [
    "len(lvl_three_data)"
   ]
  },
  {
   "cell_type": "code",
   "execution_count": 66,
   "metadata": {},
   "outputs": [
    {
     "output_type": "execute_result",
     "data": {
      "text/plain": "[]"
     },
     "metadata": {},
     "execution_count": 66
    }
   ],
   "source": [
    "[res for result in lvl_three_data.values() for res in result.values() if res['score'] is None]"
   ]
  },
  {
   "cell_type": "code",
   "execution_count": 67,
   "metadata": {
    "tags": []
   },
   "outputs": [
    {
     "output_type": "stream",
     "name": "stderr",
     "text": "0%|          | 8/9101 [00:00<02:00, 75.35it/s]Save data at index 0 ...\n  1%|          | 99/9101 [00:01<01:42, 87.77it/s]Save data at index 100 ...\n  2%|▏         | 191/9101 [00:02<02:12, 67.37it/s]Save data at index 200 ...\n  3%|▎         | 300/9101 [01:41<6:40:26,  2.73s/it]Save data at index 300 ...\n  4%|▍         | 396/9101 [03:52<3:58:19,  1.64s/it]Save data at index 400 ...\n  5%|▌         | 493/9101 [27:50<111:10:15, 46.49s/it]Save data at index 500 ...\n  6%|▌         | 502/9101 [28:13<69:58:56, 29.30s/it]BaseError occurred when scrapping site: neaedjustice.org. With error: ConnectionError(MaxRetryError(\"HTTPSConnectionPool(host='www.alexa.com', port=443): Max retries exceeded with url: /siteinfo/neaedjustice.org (Caused by NewConnectionError('<urllib3.connection.HTTPSConnection object at 0x7fcc4855b320>: Failed to establish a new connection: [Errno -3] Temporary failure in name resolution',))\",),)\n  6%|▋         | 589/9101 [37:21<110:44:33, 46.84s/it]Save data at index 600 ...\n  8%|▊         | 698/9101 [53:33<97:10:35, 41.63s/it]Save data at index 700 ...\n  8%|▊         | 721/9101 [59:24<113:51:21, 48.91s/it]BaseError occurred when scrapping site: donaldtrump2016online.com. With error: ConnectionError(MaxRetryError(\"HTTPSConnectionPool(host='www.alexa.com', port=443): Max retries exceeded with url: /siteinfo/donaldtrump2016online.com (Caused by NewConnectionError('<urllib3.connection.HTTPSConnection object at 0x7fcc5b707898>: Failed to establish a new connection: [Errno -3] Temporary failure in name resolution',))\",),)\n  9%|▊         | 795/9101 [1:01:43<33:41:07, 14.60s/it]Save data at index 800 ...\n 10%|▉         | 883/9101 [1:08:03<82:21:44, 36.08s/it]Save data at index 900 ...\n 11%|█         | 995/9101 [1:31:10<98:59:20, 43.96s/it]Save data at index 1000 ...\n 12%|█▏        | 1096/9101 [1:33:02<19:23:06,  8.72s/it]Save data at index 1100 ...\n 13%|█▎        | 1194/9101 [1:51:54<71:44:37, 32.66s/it]BaseError occurred when scrapping site: theholyangels.wordpress.com. With error: ConnectionError(MaxRetryError(\"HTTPSConnectionPool(host='www.alexa.com', port=443): Max retries exceeded with url: /siteinfo/theholyangels.wordpress.com (Caused by NewConnectionError('<urllib3.connection.HTTPSConnection object at 0x7fcc5672cbe0>: Failed to establish a new connection: [Errno -3] Temporary failure in name resolution',))\",),)\n 13%|█▎        | 1197/9101 [1:57:00<161:45:52, 73.68s/it]Save data at index 1200 ...\n 14%|█▍        | 1291/9101 [2:22:44<66:06:06, 30.47s/it]Save data at index 1300 ...\n 15%|█▍        | 1350/9101 [2:36:52<47:30:10, 22.06s/it]BaseError occurred when scrapping site: petsforvets.com. With error: ConnectionError(MaxRetryError(\"HTTPSConnectionPool(host='www.alexa.com', port=443): Max retries exceeded with url: /siteinfo/petsforvets.com (Caused by NewConnectionError('<urllib3.connection.HTTPSConnection object at 0x7fcc578739e8>: Failed to establish a new connection: [Errno -3] Temporary failure in name resolution',))\",),)\n 15%|█▌        | 1399/9101 [2:51:34<112:56:32, 52.79s/it]Save data at index 1400 ...\n 16%|█▋        | 1500/9101 [2:56:49<23:06:46, 10.95s/it]Save data at index 1500 ...\n 17%|█▋        | 1591/9101 [3:25:23<19:53:53,  9.54s/it]Save data at index 1600 ...\n 18%|█▊        | 1662/9101 [3:54:10<47:09:00, 22.82s/it]BaseError occurred when scrapping site: daastol.com. With error: ConnectionError(MaxRetryError(\"HTTPSConnectionPool(host='www.alexa.com', port=443): Max retries exceeded with url: /siteinfo/daastol.com (Caused by NewConnectionError('<urllib3.connection.HTTPSConnection object at 0x7fcc570686d8>: Failed to establish a new connection: [Errno -3] Temporary failure in name resolution',))\",),)\n 19%|█▊        | 1694/9101 [4:09:25<93:13:33, 45.31s/it]Save data at index 1700 ...\n 20%|█▉        | 1797/9101 [4:09:29<3:44:42,  1.85s/it]Save data at index 1800 ...\n 21%|██        | 1897/9101 [4:23:52<110:13:33, 55.08s/it]Save data at index 1900 ...\n 22%|██▏       | 1963/9101 [4:58:07<106:35:00, 53.75s/it]BaseError occurred when scrapping site: bigroom.com. With error: ConnectionError(MaxRetryError(\"HTTPSConnectionPool(host='www.alexa.com', port=443): Max retries exceeded with url: /siteinfo/bigroom.com (Caused by NewConnectionError('<urllib3.connection.HTTPSConnection object at 0x7fcc488f7cc0>: Failed to establish a new connection: [Errno -3] Temporary failure in name resolution',))\",),)\n 22%|██▏       | 2000/9101 [5:22:10<106:31:13, 54.00s/it]Save data at index 2000 ...\n 23%|██▎       | 2089/9101 [5:30:15<25:53:28, 13.29s/it]Save data at index 2100 ...\n 24%|██▎       | 2158/9101 [5:30:56<9:37:14,  4.99s/it]BaseError occurred when scrapping site: conservateur.ca. With error: ConnectionError(MaxRetryError(\"HTTPSConnectionPool(host='www.alexa.com', port=443): Max retries exceeded with url: /siteinfo/conservateur.ca (Caused by NewConnectionError('<urllib3.connection.HTTPSConnection object at 0x7fcc47c86f98>: Failed to establish a new connection: [Errno -3] Temporary failure in name resolution',))\",),)\n 24%|██▍       | 2200/9101 [5:36:07<37:10:49, 19.40s/it]Save data at index 2200 ...\n 24%|██▍       | 2209/9101 [5:46:33<140:04:13, 73.17s/it]BaseError occurred when scrapping site: inter-wars.weebly.com. With error: ConnectionError(MaxRetryError(\"HTTPSConnectionPool(host='www.alexa.com', port=443): Max retries exceeded with url: /siteinfo/inter-wars.weebly.com (Caused by NewConnectionError('<urllib3.connection.HTTPSConnection object at 0x7fcc47471e48>: Failed to establish a new connection: [Errno -3] Temporary failure in name resolution',))\",),)\n 25%|██▌       | 2300/9101 [6:05:08<106:00:20, 56.11s/it]Save data at index 2300 ...\n 26%|██▋       | 2399/9101 [6:09:39<22:34:30, 12.13s/it]Save data at index 2400 ...\n 27%|██▋       | 2496/9101 [6:21:22<27:58:25, 15.25s/it]Save data at index 2500 ...\n 28%|██▊       | 2565/9101 [6:28:07<37:09:26, 20.47s/it]BaseError occurred when scrapping site: cloroxpro.com. With error: ConnectionError(MaxRetryError(\"HTTPSConnectionPool(host='www.alexa.com', port=443): Max retries exceeded with url: /siteinfo/cloroxpro.com (Caused by NewConnectionError('<urllib3.connection.HTTPSConnection object at 0x7fcc45117dd8>: Failed to establish a new connection: [Errno -3] Temporary failure in name resolution',))\",),)\n 28%|██▊       | 2585/9101 [6:39:07<37:02:39, 20.47s/it]Save data at index 2600 ...\n 30%|██▉       | 2699/9101 [6:42:51<28:15:06, 15.89s/it]Save data at index 2700 ...\n 30%|██▉       | 2701/9101 [6:44:33<46:54:08, 26.38s/it]BaseError occurred when scrapping site: viahedera.blogspot.com. With error: ConnectionError(MaxRetryError(\"HTTPSConnectionPool(host='www.alexa.com', port=443): Max retries exceeded with url: /siteinfo/viahedera.blogspot.com (Caused by NewConnectionError('<urllib3.connection.HTTPSConnection object at 0x7fcc46416e48>: Failed to establish a new connection: [Errno -3] Temporary failure in name resolution',))\",),)\n 30%|██▉       | 2718/9101 [6:56:06<109:02:15, 61.50s/it]BaseError occurred when scrapping site: radfem-answers.tumblr.com. With error: ConnectionError(MaxRetryError(\"HTTPSConnectionPool(host='www.alexa.com', port=443): Max retries exceeded with url: /siteinfo/radfem-answers.tumblr.com (Caused by NewConnectionError('<urllib3.connection.HTTPSConnection object at 0x7fcc46ef5518>: Failed to establish a new connection: [Errno -3] Temporary failure in name resolution',))\",),)\n 30%|███       | 2743/9101 [7:09:53<82:31:41, 46.73s/it]BaseError occurred when scrapping site: fixmytimesharenow.com. With error: ConnectionError(MaxRetryError(\"HTTPSConnectionPool(host='www.alexa.com', port=443): Max retries exceeded with url: /siteinfo/fixmytimesharenow.com (Caused by NewConnectionError('<urllib3.connection.HTTPSConnection object at 0x7fcc46034c18>: Failed to establish a new connection: [Errno -3] Temporary failure in name resolution',))\",),)\n 30%|███       | 2758/9101 [7:27:38<151:49:34, 86.17s/it]BaseError occurred when scrapping site: sjupress.com. With error: ConnectionError(MaxRetryError(\"HTTPSConnectionPool(host='www.alexa.com', port=443): Max retries exceeded with url: /siteinfo/sjupress.com (Caused by NewConnectionError('<urllib3.connection.HTTPSConnection object at 0x7fcc461f22e8>: Failed to establish a new connection: [Errno -3] Temporary failure in name resolution',))\",),)\n 31%|███       | 2780/9101 [7:34:07<75:06:36, 42.78s/it]Save data at index 2800 ...\n 32%|███▏      | 2900/9101 [7:40:43<54:42:29, 31.76s/it]Save data at index 2900 ...\n 33%|███▎      | 2985/9101 [7:50:28<71:50:19, 42.29s/it]Save data at index 3000 ...\n 34%|███▍      | 3093/9101 [7:55:31<13:49:48,  8.29s/it]Save data at index 3100 ...\n 35%|███▌      | 3196/9101 [8:12:28<52:47:36, 32.19s/it]Save data at index 3200 ...\n 36%|███▌      | 3268/9101 [8:19:05<46:28:42, 28.69s/it]BaseError occurred when scrapping site: mrplasko-psych-soc.wikispaces.com. With error: ConnectionError(MaxRetryError(\"HTTPSConnectionPool(host='www.alexa.com', port=443): Max retries exceeded with url: /siteinfo/mrplasko-psych-soc.wikispaces.com (Caused by NewConnectionError('<urllib3.connection.HTTPSConnection object at 0x7fcc452d9eb8>: Failed to establish a new connection: [Errno -3] Temporary failure in name resolution',))\",),)\n 36%|███▌      | 3268/9101 [8:21:48<14:55:40,  9.21s/it]\n"
    },
    {
     "output_type": "error",
     "ename": "ConnectionError",
     "evalue": "HTTPSConnectionPool(host='www.alexa.com', port=443): Max retries exceeded with url: /siteinfo/mrplasko-psych-soc.wikispaces.com (Caused by NewConnectionError('<urllib3.connection.HTTPSConnection object at 0x7fcc415035c0>: Failed to establish a new connection: [Errno -3] Temporary failure in name resolution',))",
     "traceback": [
      "\u001b[0;31m---------------------------------------------------------------------------\u001b[0m",
      "\u001b[0;31mgaierror\u001b[0m                                  Traceback (most recent call last)",
      "\u001b[0;32m~/.conda/envs/site_similarity/lib/python3.6/site-packages/urllib3/connection.py\u001b[0m in \u001b[0;36m_new_conn\u001b[0;34m(self)\u001b[0m\n\u001b[1;32m    159\u001b[0m             conn = connection.create_connection(\n\u001b[0;32m--> 160\u001b[0;31m                 \u001b[0;34m(\u001b[0m\u001b[0mself\u001b[0m\u001b[0;34m.\u001b[0m\u001b[0m_dns_host\u001b[0m\u001b[0;34m,\u001b[0m \u001b[0mself\u001b[0m\u001b[0;34m.\u001b[0m\u001b[0mport\u001b[0m\u001b[0;34m)\u001b[0m\u001b[0;34m,\u001b[0m \u001b[0mself\u001b[0m\u001b[0;34m.\u001b[0m\u001b[0mtimeout\u001b[0m\u001b[0;34m,\u001b[0m \u001b[0;34m**\u001b[0m\u001b[0mextra_kw\u001b[0m\u001b[0;34m\u001b[0m\u001b[0;34m\u001b[0m\u001b[0m\n\u001b[0m\u001b[1;32m    161\u001b[0m             )\n",
      "\u001b[0;32m~/.conda/envs/site_similarity/lib/python3.6/site-packages/urllib3/util/connection.py\u001b[0m in \u001b[0;36mcreate_connection\u001b[0;34m(address, timeout, source_address, socket_options)\u001b[0m\n\u001b[1;32m     60\u001b[0m \u001b[0;34m\u001b[0m\u001b[0m\n\u001b[0;32m---> 61\u001b[0;31m     \u001b[0;32mfor\u001b[0m \u001b[0mres\u001b[0m \u001b[0;32min\u001b[0m \u001b[0msocket\u001b[0m\u001b[0;34m.\u001b[0m\u001b[0mgetaddrinfo\u001b[0m\u001b[0;34m(\u001b[0m\u001b[0mhost\u001b[0m\u001b[0;34m,\u001b[0m \u001b[0mport\u001b[0m\u001b[0;34m,\u001b[0m \u001b[0mfamily\u001b[0m\u001b[0;34m,\u001b[0m \u001b[0msocket\u001b[0m\u001b[0;34m.\u001b[0m\u001b[0mSOCK_STREAM\u001b[0m\u001b[0;34m)\u001b[0m\u001b[0;34m:\u001b[0m\u001b[0;34m\u001b[0m\u001b[0;34m\u001b[0m\u001b[0m\n\u001b[0m\u001b[1;32m     62\u001b[0m         \u001b[0maf\u001b[0m\u001b[0;34m,\u001b[0m \u001b[0msocktype\u001b[0m\u001b[0;34m,\u001b[0m \u001b[0mproto\u001b[0m\u001b[0;34m,\u001b[0m \u001b[0mcanonname\u001b[0m\u001b[0;34m,\u001b[0m \u001b[0msa\u001b[0m \u001b[0;34m=\u001b[0m \u001b[0mres\u001b[0m\u001b[0;34m\u001b[0m\u001b[0;34m\u001b[0m\u001b[0m\n",
      "\u001b[0;32m~/.conda/envs/site_similarity/lib/python3.6/socket.py\u001b[0m in \u001b[0;36mgetaddrinfo\u001b[0;34m(host, port, family, type, proto, flags)\u001b[0m\n\u001b[1;32m    744\u001b[0m     \u001b[0maddrlist\u001b[0m \u001b[0;34m=\u001b[0m \u001b[0;34m[\u001b[0m\u001b[0;34m]\u001b[0m\u001b[0;34m\u001b[0m\u001b[0;34m\u001b[0m\u001b[0m\n\u001b[0;32m--> 745\u001b[0;31m     \u001b[0;32mfor\u001b[0m \u001b[0mres\u001b[0m \u001b[0;32min\u001b[0m \u001b[0m_socket\u001b[0m\u001b[0;34m.\u001b[0m\u001b[0mgetaddrinfo\u001b[0m\u001b[0;34m(\u001b[0m\u001b[0mhost\u001b[0m\u001b[0;34m,\u001b[0m \u001b[0mport\u001b[0m\u001b[0;34m,\u001b[0m \u001b[0mfamily\u001b[0m\u001b[0;34m,\u001b[0m \u001b[0mtype\u001b[0m\u001b[0;34m,\u001b[0m \u001b[0mproto\u001b[0m\u001b[0;34m,\u001b[0m \u001b[0mflags\u001b[0m\u001b[0;34m)\u001b[0m\u001b[0;34m:\u001b[0m\u001b[0;34m\u001b[0m\u001b[0;34m\u001b[0m\u001b[0m\n\u001b[0m\u001b[1;32m    746\u001b[0m         \u001b[0maf\u001b[0m\u001b[0;34m,\u001b[0m \u001b[0msocktype\u001b[0m\u001b[0;34m,\u001b[0m \u001b[0mproto\u001b[0m\u001b[0;34m,\u001b[0m \u001b[0mcanonname\u001b[0m\u001b[0;34m,\u001b[0m \u001b[0msa\u001b[0m \u001b[0;34m=\u001b[0m \u001b[0mres\u001b[0m\u001b[0;34m\u001b[0m\u001b[0;34m\u001b[0m\u001b[0m\n",
      "\u001b[0;31mgaierror\u001b[0m: [Errno -3] Temporary failure in name resolution",
      "\nDuring handling of the above exception, another exception occurred:\n",
      "\u001b[0;31mNewConnectionError\u001b[0m                        Traceback (most recent call last)",
      "\u001b[0;32m~/.conda/envs/site_similarity/lib/python3.6/site-packages/urllib3/connectionpool.py\u001b[0m in \u001b[0;36murlopen\u001b[0;34m(self, method, url, body, headers, retries, redirect, assert_same_host, timeout, pool_timeout, release_conn, chunked, body_pos, **response_kw)\u001b[0m\n\u001b[1;32m    676\u001b[0m                 \u001b[0mheaders\u001b[0m\u001b[0;34m=\u001b[0m\u001b[0mheaders\u001b[0m\u001b[0;34m,\u001b[0m\u001b[0;34m\u001b[0m\u001b[0;34m\u001b[0m\u001b[0m\n\u001b[0;32m--> 677\u001b[0;31m                 \u001b[0mchunked\u001b[0m\u001b[0;34m=\u001b[0m\u001b[0mchunked\u001b[0m\u001b[0;34m,\u001b[0m\u001b[0;34m\u001b[0m\u001b[0;34m\u001b[0m\u001b[0m\n\u001b[0m\u001b[1;32m    678\u001b[0m             )\n",
      "\u001b[0;32m~/.conda/envs/site_similarity/lib/python3.6/site-packages/urllib3/connectionpool.py\u001b[0m in \u001b[0;36m_make_request\u001b[0;34m(self, conn, method, url, timeout, chunked, **httplib_request_kw)\u001b[0m\n\u001b[1;32m    380\u001b[0m         \u001b[0;32mtry\u001b[0m\u001b[0;34m:\u001b[0m\u001b[0;34m\u001b[0m\u001b[0;34m\u001b[0m\u001b[0m\n\u001b[0;32m--> 381\u001b[0;31m             \u001b[0mself\u001b[0m\u001b[0;34m.\u001b[0m\u001b[0m_validate_conn\u001b[0m\u001b[0;34m(\u001b[0m\u001b[0mconn\u001b[0m\u001b[0;34m)\u001b[0m\u001b[0;34m\u001b[0m\u001b[0;34m\u001b[0m\u001b[0m\n\u001b[0m\u001b[1;32m    382\u001b[0m         \u001b[0;32mexcept\u001b[0m \u001b[0;34m(\u001b[0m\u001b[0mSocketTimeout\u001b[0m\u001b[0;34m,\u001b[0m \u001b[0mBaseSSLError\u001b[0m\u001b[0;34m)\u001b[0m \u001b[0;32mas\u001b[0m \u001b[0me\u001b[0m\u001b[0;34m:\u001b[0m\u001b[0;34m\u001b[0m\u001b[0;34m\u001b[0m\u001b[0m\n",
      "\u001b[0;32m~/.conda/envs/site_similarity/lib/python3.6/site-packages/urllib3/connectionpool.py\u001b[0m in \u001b[0;36m_validate_conn\u001b[0;34m(self, conn)\u001b[0m\n\u001b[1;32m    975\u001b[0m         \u001b[0;32mif\u001b[0m \u001b[0;32mnot\u001b[0m \u001b[0mgetattr\u001b[0m\u001b[0;34m(\u001b[0m\u001b[0mconn\u001b[0m\u001b[0;34m,\u001b[0m \u001b[0;34m\"sock\"\u001b[0m\u001b[0;34m,\u001b[0m \u001b[0;32mNone\u001b[0m\u001b[0;34m)\u001b[0m\u001b[0;34m:\u001b[0m  \u001b[0;31m# AppEngine might not have  `.sock`\u001b[0m\u001b[0;34m\u001b[0m\u001b[0;34m\u001b[0m\u001b[0m\n\u001b[0;32m--> 976\u001b[0;31m             \u001b[0mconn\u001b[0m\u001b[0;34m.\u001b[0m\u001b[0mconnect\u001b[0m\u001b[0;34m(\u001b[0m\u001b[0;34m)\u001b[0m\u001b[0;34m\u001b[0m\u001b[0;34m\u001b[0m\u001b[0m\n\u001b[0m\u001b[1;32m    977\u001b[0m \u001b[0;34m\u001b[0m\u001b[0m\n",
      "\u001b[0;32m~/.conda/envs/site_similarity/lib/python3.6/site-packages/urllib3/connection.py\u001b[0m in \u001b[0;36mconnect\u001b[0;34m(self)\u001b[0m\n\u001b[1;32m    307\u001b[0m         \u001b[0;31m# Add certificate verification\u001b[0m\u001b[0;34m\u001b[0m\u001b[0;34m\u001b[0m\u001b[0;34m\u001b[0m\u001b[0m\n\u001b[0;32m--> 308\u001b[0;31m         \u001b[0mconn\u001b[0m \u001b[0;34m=\u001b[0m \u001b[0mself\u001b[0m\u001b[0;34m.\u001b[0m\u001b[0m_new_conn\u001b[0m\u001b[0;34m(\u001b[0m\u001b[0;34m)\u001b[0m\u001b[0;34m\u001b[0m\u001b[0;34m\u001b[0m\u001b[0m\n\u001b[0m\u001b[1;32m    309\u001b[0m         \u001b[0mhostname\u001b[0m \u001b[0;34m=\u001b[0m \u001b[0mself\u001b[0m\u001b[0;34m.\u001b[0m\u001b[0mhost\u001b[0m\u001b[0;34m\u001b[0m\u001b[0;34m\u001b[0m\u001b[0m\n",
      "\u001b[0;32m~/.conda/envs/site_similarity/lib/python3.6/site-packages/urllib3/connection.py\u001b[0m in \u001b[0;36m_new_conn\u001b[0;34m(self)\u001b[0m\n\u001b[1;32m    171\u001b[0m             raise NewConnectionError(\n\u001b[0;32m--> 172\u001b[0;31m                 \u001b[0mself\u001b[0m\u001b[0;34m,\u001b[0m \u001b[0;34m\"Failed to establish a new connection: %s\"\u001b[0m \u001b[0;34m%\u001b[0m \u001b[0me\u001b[0m\u001b[0;34m\u001b[0m\u001b[0;34m\u001b[0m\u001b[0m\n\u001b[0m\u001b[1;32m    173\u001b[0m             )\n",
      "\u001b[0;31mNewConnectionError\u001b[0m: <urllib3.connection.HTTPSConnection object at 0x7fcc452d9eb8>: Failed to establish a new connection: [Errno -3] Temporary failure in name resolution",
      "\nDuring handling of the above exception, another exception occurred:\n",
      "\u001b[0;31mMaxRetryError\u001b[0m                             Traceback (most recent call last)",
      "\u001b[0;32m~/.conda/envs/site_similarity/lib/python3.6/site-packages/requests/adapters.py\u001b[0m in \u001b[0;36msend\u001b[0;34m(self, request, stream, timeout, verify, cert, proxies)\u001b[0m\n\u001b[1;32m    448\u001b[0m                     \u001b[0mretries\u001b[0m\u001b[0;34m=\u001b[0m\u001b[0mself\u001b[0m\u001b[0;34m.\u001b[0m\u001b[0mmax_retries\u001b[0m\u001b[0;34m,\u001b[0m\u001b[0;34m\u001b[0m\u001b[0;34m\u001b[0m\u001b[0m\n\u001b[0;32m--> 449\u001b[0;31m                     \u001b[0mtimeout\u001b[0m\u001b[0;34m=\u001b[0m\u001b[0mtimeout\u001b[0m\u001b[0;34m\u001b[0m\u001b[0;34m\u001b[0m\u001b[0m\n\u001b[0m\u001b[1;32m    450\u001b[0m                 )\n",
      "\u001b[0;32m~/.conda/envs/site_similarity/lib/python3.6/site-packages/urllib3/connectionpool.py\u001b[0m in \u001b[0;36murlopen\u001b[0;34m(self, method, url, body, headers, retries, redirect, assert_same_host, timeout, pool_timeout, release_conn, chunked, body_pos, **response_kw)\u001b[0m\n\u001b[1;32m    724\u001b[0m             retries = retries.increment(\n\u001b[0;32m--> 725\u001b[0;31m                 \u001b[0mmethod\u001b[0m\u001b[0;34m,\u001b[0m \u001b[0murl\u001b[0m\u001b[0;34m,\u001b[0m \u001b[0merror\u001b[0m\u001b[0;34m=\u001b[0m\u001b[0me\u001b[0m\u001b[0;34m,\u001b[0m \u001b[0m_pool\u001b[0m\u001b[0;34m=\u001b[0m\u001b[0mself\u001b[0m\u001b[0;34m,\u001b[0m \u001b[0m_stacktrace\u001b[0m\u001b[0;34m=\u001b[0m\u001b[0msys\u001b[0m\u001b[0;34m.\u001b[0m\u001b[0mexc_info\u001b[0m\u001b[0;34m(\u001b[0m\u001b[0;34m)\u001b[0m\u001b[0;34m[\u001b[0m\u001b[0;36m2\u001b[0m\u001b[0;34m]\u001b[0m\u001b[0;34m\u001b[0m\u001b[0;34m\u001b[0m\u001b[0m\n\u001b[0m\u001b[1;32m    726\u001b[0m             )\n",
      "\u001b[0;32m~/.conda/envs/site_similarity/lib/python3.6/site-packages/urllib3/util/retry.py\u001b[0m in \u001b[0;36mincrement\u001b[0;34m(self, method, url, response, error, _pool, _stacktrace)\u001b[0m\n\u001b[1;32m    438\u001b[0m         \u001b[0;32mif\u001b[0m \u001b[0mnew_retry\u001b[0m\u001b[0;34m.\u001b[0m\u001b[0mis_exhausted\u001b[0m\u001b[0;34m(\u001b[0m\u001b[0;34m)\u001b[0m\u001b[0;34m:\u001b[0m\u001b[0;34m\u001b[0m\u001b[0;34m\u001b[0m\u001b[0m\n\u001b[0;32m--> 439\u001b[0;31m             \u001b[0;32mraise\u001b[0m \u001b[0mMaxRetryError\u001b[0m\u001b[0;34m(\u001b[0m\u001b[0m_pool\u001b[0m\u001b[0;34m,\u001b[0m \u001b[0murl\u001b[0m\u001b[0;34m,\u001b[0m \u001b[0merror\u001b[0m \u001b[0;32mor\u001b[0m \u001b[0mResponseError\u001b[0m\u001b[0;34m(\u001b[0m\u001b[0mcause\u001b[0m\u001b[0;34m)\u001b[0m\u001b[0;34m)\u001b[0m\u001b[0;34m\u001b[0m\u001b[0;34m\u001b[0m\u001b[0m\n\u001b[0m\u001b[1;32m    440\u001b[0m \u001b[0;34m\u001b[0m\u001b[0m\n",
      "\u001b[0;31mMaxRetryError\u001b[0m: HTTPSConnectionPool(host='www.alexa.com', port=443): Max retries exceeded with url: /siteinfo/mrplasko-psych-soc.wikispaces.com (Caused by NewConnectionError('<urllib3.connection.HTTPSConnection object at 0x7fcc452d9eb8>: Failed to establish a new connection: [Errno -3] Temporary failure in name resolution',))",
      "\nDuring handling of the above exception, another exception occurred:\n",
      "\u001b[0;31mConnectionError\u001b[0m                           Traceback (most recent call last)",
      "\u001b[0;32m~/Documents/site_similarity/dataprep/alexa_scrapper.py\u001b[0m in \u001b[0;36mscrape_alexa_site_info\u001b[0;34m(self, target_site)\u001b[0m\n\u001b[1;32m     72\u001b[0m             \u001b[0;32mtry\u001b[0m\u001b[0;34m:\u001b[0m\u001b[0;34m\u001b[0m\u001b[0;34m\u001b[0m\u001b[0m\n\u001b[0;32m---> 73\u001b[0;31m                 \u001b[0mresponse\u001b[0m \u001b[0;34m=\u001b[0m \u001b[0mrequests\u001b[0m\u001b[0;34m.\u001b[0m\u001b[0mget\u001b[0m\u001b[0;34m(\u001b[0m\u001b[0;34mf\"https://www.alexa.com/siteinfo/{self.target_site}\"\u001b[0m\u001b[0;34m)\u001b[0m\u001b[0;34m\u001b[0m\u001b[0;34m\u001b[0m\u001b[0m\n\u001b[0m\u001b[1;32m     74\u001b[0m             \u001b[0;32mexcept\u001b[0m \u001b[0mConnectionError\u001b[0m \u001b[0;32mas\u001b[0m \u001b[0me\u001b[0m\u001b[0;34m:\u001b[0m\u001b[0;34m\u001b[0m\u001b[0;34m\u001b[0m\u001b[0m\n",
      "\u001b[0;32m~/.conda/envs/site_similarity/lib/python3.6/site-packages/requests/api.py\u001b[0m in \u001b[0;36mget\u001b[0;34m(url, params, **kwargs)\u001b[0m\n\u001b[1;32m     75\u001b[0m     \u001b[0mkwargs\u001b[0m\u001b[0;34m.\u001b[0m\u001b[0msetdefault\u001b[0m\u001b[0;34m(\u001b[0m\u001b[0;34m'allow_redirects'\u001b[0m\u001b[0;34m,\u001b[0m \u001b[0;32mTrue\u001b[0m\u001b[0;34m)\u001b[0m\u001b[0;34m\u001b[0m\u001b[0;34m\u001b[0m\u001b[0m\n\u001b[0;32m---> 76\u001b[0;31m     \u001b[0;32mreturn\u001b[0m \u001b[0mrequest\u001b[0m\u001b[0;34m(\u001b[0m\u001b[0;34m'get'\u001b[0m\u001b[0;34m,\u001b[0m \u001b[0murl\u001b[0m\u001b[0;34m,\u001b[0m \u001b[0mparams\u001b[0m\u001b[0;34m=\u001b[0m\u001b[0mparams\u001b[0m\u001b[0;34m,\u001b[0m \u001b[0;34m**\u001b[0m\u001b[0mkwargs\u001b[0m\u001b[0;34m)\u001b[0m\u001b[0;34m\u001b[0m\u001b[0;34m\u001b[0m\u001b[0m\n\u001b[0m\u001b[1;32m     77\u001b[0m \u001b[0;34m\u001b[0m\u001b[0m\n",
      "\u001b[0;32m~/.conda/envs/site_similarity/lib/python3.6/site-packages/requests/api.py\u001b[0m in \u001b[0;36mrequest\u001b[0;34m(method, url, **kwargs)\u001b[0m\n\u001b[1;32m     60\u001b[0m     \u001b[0;32mwith\u001b[0m \u001b[0msessions\u001b[0m\u001b[0;34m.\u001b[0m\u001b[0mSession\u001b[0m\u001b[0;34m(\u001b[0m\u001b[0;34m)\u001b[0m \u001b[0;32mas\u001b[0m \u001b[0msession\u001b[0m\u001b[0;34m:\u001b[0m\u001b[0;34m\u001b[0m\u001b[0;34m\u001b[0m\u001b[0m\n\u001b[0;32m---> 61\u001b[0;31m         \u001b[0;32mreturn\u001b[0m \u001b[0msession\u001b[0m\u001b[0;34m.\u001b[0m\u001b[0mrequest\u001b[0m\u001b[0;34m(\u001b[0m\u001b[0mmethod\u001b[0m\u001b[0;34m=\u001b[0m\u001b[0mmethod\u001b[0m\u001b[0;34m,\u001b[0m \u001b[0murl\u001b[0m\u001b[0;34m=\u001b[0m\u001b[0murl\u001b[0m\u001b[0;34m,\u001b[0m \u001b[0;34m**\u001b[0m\u001b[0mkwargs\u001b[0m\u001b[0;34m)\u001b[0m\u001b[0;34m\u001b[0m\u001b[0;34m\u001b[0m\u001b[0m\n\u001b[0m\u001b[1;32m     62\u001b[0m \u001b[0;34m\u001b[0m\u001b[0m\n",
      "\u001b[0;32m~/.conda/envs/site_similarity/lib/python3.6/site-packages/requests/sessions.py\u001b[0m in \u001b[0;36mrequest\u001b[0;34m(self, method, url, params, data, headers, cookies, files, auth, timeout, allow_redirects, proxies, hooks, stream, verify, cert, json)\u001b[0m\n\u001b[1;32m    529\u001b[0m         \u001b[0msend_kwargs\u001b[0m\u001b[0;34m.\u001b[0m\u001b[0mupdate\u001b[0m\u001b[0;34m(\u001b[0m\u001b[0msettings\u001b[0m\u001b[0;34m)\u001b[0m\u001b[0;34m\u001b[0m\u001b[0;34m\u001b[0m\u001b[0m\n\u001b[0;32m--> 530\u001b[0;31m         \u001b[0mresp\u001b[0m \u001b[0;34m=\u001b[0m \u001b[0mself\u001b[0m\u001b[0;34m.\u001b[0m\u001b[0msend\u001b[0m\u001b[0;34m(\u001b[0m\u001b[0mprep\u001b[0m\u001b[0;34m,\u001b[0m \u001b[0;34m**\u001b[0m\u001b[0msend_kwargs\u001b[0m\u001b[0;34m)\u001b[0m\u001b[0;34m\u001b[0m\u001b[0;34m\u001b[0m\u001b[0m\n\u001b[0m\u001b[1;32m    531\u001b[0m \u001b[0;34m\u001b[0m\u001b[0m\n",
      "\u001b[0;32m~/.conda/envs/site_similarity/lib/python3.6/site-packages/requests/sessions.py\u001b[0m in \u001b[0;36msend\u001b[0;34m(self, request, **kwargs)\u001b[0m\n\u001b[1;32m    642\u001b[0m         \u001b[0;31m# Send the request\u001b[0m\u001b[0;34m\u001b[0m\u001b[0;34m\u001b[0m\u001b[0;34m\u001b[0m\u001b[0m\n\u001b[0;32m--> 643\u001b[0;31m         \u001b[0mr\u001b[0m \u001b[0;34m=\u001b[0m \u001b[0madapter\u001b[0m\u001b[0;34m.\u001b[0m\u001b[0msend\u001b[0m\u001b[0;34m(\u001b[0m\u001b[0mrequest\u001b[0m\u001b[0;34m,\u001b[0m \u001b[0;34m**\u001b[0m\u001b[0mkwargs\u001b[0m\u001b[0;34m)\u001b[0m\u001b[0;34m\u001b[0m\u001b[0;34m\u001b[0m\u001b[0m\n\u001b[0m\u001b[1;32m    644\u001b[0m \u001b[0;34m\u001b[0m\u001b[0m\n",
      "\u001b[0;32m~/.conda/envs/site_similarity/lib/python3.6/site-packages/requests/adapters.py\u001b[0m in \u001b[0;36msend\u001b[0;34m(self, request, stream, timeout, verify, cert, proxies)\u001b[0m\n\u001b[1;32m    515\u001b[0m \u001b[0;34m\u001b[0m\u001b[0m\n\u001b[0;32m--> 516\u001b[0;31m             \u001b[0;32mraise\u001b[0m \u001b[0mConnectionError\u001b[0m\u001b[0;34m(\u001b[0m\u001b[0me\u001b[0m\u001b[0;34m,\u001b[0m \u001b[0mrequest\u001b[0m\u001b[0;34m=\u001b[0m\u001b[0mrequest\u001b[0m\u001b[0;34m)\u001b[0m\u001b[0;34m\u001b[0m\u001b[0;34m\u001b[0m\u001b[0m\n\u001b[0m\u001b[1;32m    517\u001b[0m \u001b[0;34m\u001b[0m\u001b[0m\n",
      "\u001b[0;31mConnectionError\u001b[0m: HTTPSConnectionPool(host='www.alexa.com', port=443): Max retries exceeded with url: /siteinfo/mrplasko-psych-soc.wikispaces.com (Caused by NewConnectionError('<urllib3.connection.HTTPSConnection object at 0x7fcc452d9eb8>: Failed to establish a new connection: [Errno -3] Temporary failure in name resolution',))",
      "\nDuring handling of the above exception, another exception occurred:\n",
      "\u001b[0;31mgaierror\u001b[0m                                  Traceback (most recent call last)",
      "\u001b[0;32m~/.conda/envs/site_similarity/lib/python3.6/site-packages/urllib3/connection.py\u001b[0m in \u001b[0;36m_new_conn\u001b[0;34m(self)\u001b[0m\n\u001b[1;32m    159\u001b[0m             conn = connection.create_connection(\n\u001b[0;32m--> 160\u001b[0;31m                 \u001b[0;34m(\u001b[0m\u001b[0mself\u001b[0m\u001b[0;34m.\u001b[0m\u001b[0m_dns_host\u001b[0m\u001b[0;34m,\u001b[0m \u001b[0mself\u001b[0m\u001b[0;34m.\u001b[0m\u001b[0mport\u001b[0m\u001b[0;34m)\u001b[0m\u001b[0;34m,\u001b[0m \u001b[0mself\u001b[0m\u001b[0;34m.\u001b[0m\u001b[0mtimeout\u001b[0m\u001b[0;34m,\u001b[0m \u001b[0;34m**\u001b[0m\u001b[0mextra_kw\u001b[0m\u001b[0;34m\u001b[0m\u001b[0;34m\u001b[0m\u001b[0m\n\u001b[0m\u001b[1;32m    161\u001b[0m             )\n",
      "\u001b[0;32m~/.conda/envs/site_similarity/lib/python3.6/site-packages/urllib3/util/connection.py\u001b[0m in \u001b[0;36mcreate_connection\u001b[0;34m(address, timeout, source_address, socket_options)\u001b[0m\n\u001b[1;32m     60\u001b[0m \u001b[0;34m\u001b[0m\u001b[0m\n\u001b[0;32m---> 61\u001b[0;31m     \u001b[0;32mfor\u001b[0m \u001b[0mres\u001b[0m \u001b[0;32min\u001b[0m \u001b[0msocket\u001b[0m\u001b[0;34m.\u001b[0m\u001b[0mgetaddrinfo\u001b[0m\u001b[0;34m(\u001b[0m\u001b[0mhost\u001b[0m\u001b[0;34m,\u001b[0m \u001b[0mport\u001b[0m\u001b[0;34m,\u001b[0m \u001b[0mfamily\u001b[0m\u001b[0;34m,\u001b[0m \u001b[0msocket\u001b[0m\u001b[0;34m.\u001b[0m\u001b[0mSOCK_STREAM\u001b[0m\u001b[0;34m)\u001b[0m\u001b[0;34m:\u001b[0m\u001b[0;34m\u001b[0m\u001b[0;34m\u001b[0m\u001b[0m\n\u001b[0m\u001b[1;32m     62\u001b[0m         \u001b[0maf\u001b[0m\u001b[0;34m,\u001b[0m \u001b[0msocktype\u001b[0m\u001b[0;34m,\u001b[0m \u001b[0mproto\u001b[0m\u001b[0;34m,\u001b[0m \u001b[0mcanonname\u001b[0m\u001b[0;34m,\u001b[0m \u001b[0msa\u001b[0m \u001b[0;34m=\u001b[0m \u001b[0mres\u001b[0m\u001b[0;34m\u001b[0m\u001b[0;34m\u001b[0m\u001b[0m\n",
      "\u001b[0;32m~/.conda/envs/site_similarity/lib/python3.6/socket.py\u001b[0m in \u001b[0;36mgetaddrinfo\u001b[0;34m(host, port, family, type, proto, flags)\u001b[0m\n\u001b[1;32m    744\u001b[0m     \u001b[0maddrlist\u001b[0m \u001b[0;34m=\u001b[0m \u001b[0;34m[\u001b[0m\u001b[0;34m]\u001b[0m\u001b[0;34m\u001b[0m\u001b[0;34m\u001b[0m\u001b[0m\n\u001b[0;32m--> 745\u001b[0;31m     \u001b[0;32mfor\u001b[0m \u001b[0mres\u001b[0m \u001b[0;32min\u001b[0m \u001b[0m_socket\u001b[0m\u001b[0;34m.\u001b[0m\u001b[0mgetaddrinfo\u001b[0m\u001b[0;34m(\u001b[0m\u001b[0mhost\u001b[0m\u001b[0;34m,\u001b[0m \u001b[0mport\u001b[0m\u001b[0;34m,\u001b[0m \u001b[0mfamily\u001b[0m\u001b[0;34m,\u001b[0m \u001b[0mtype\u001b[0m\u001b[0;34m,\u001b[0m \u001b[0mproto\u001b[0m\u001b[0;34m,\u001b[0m \u001b[0mflags\u001b[0m\u001b[0;34m)\u001b[0m\u001b[0;34m:\u001b[0m\u001b[0;34m\u001b[0m\u001b[0;34m\u001b[0m\u001b[0m\n\u001b[0m\u001b[1;32m    746\u001b[0m         \u001b[0maf\u001b[0m\u001b[0;34m,\u001b[0m \u001b[0msocktype\u001b[0m\u001b[0;34m,\u001b[0m \u001b[0mproto\u001b[0m\u001b[0;34m,\u001b[0m \u001b[0mcanonname\u001b[0m\u001b[0;34m,\u001b[0m \u001b[0msa\u001b[0m \u001b[0;34m=\u001b[0m \u001b[0mres\u001b[0m\u001b[0;34m\u001b[0m\u001b[0;34m\u001b[0m\u001b[0m\n",
      "\u001b[0;31mgaierror\u001b[0m: [Errno -3] Temporary failure in name resolution",
      "\nDuring handling of the above exception, another exception occurred:\n",
      "\u001b[0;31mNewConnectionError\u001b[0m                        Traceback (most recent call last)",
      "\u001b[0;32m~/.conda/envs/site_similarity/lib/python3.6/site-packages/urllib3/connectionpool.py\u001b[0m in \u001b[0;36murlopen\u001b[0;34m(self, method, url, body, headers, retries, redirect, assert_same_host, timeout, pool_timeout, release_conn, chunked, body_pos, **response_kw)\u001b[0m\n\u001b[1;32m    676\u001b[0m                 \u001b[0mheaders\u001b[0m\u001b[0;34m=\u001b[0m\u001b[0mheaders\u001b[0m\u001b[0;34m,\u001b[0m\u001b[0;34m\u001b[0m\u001b[0;34m\u001b[0m\u001b[0m\n\u001b[0;32m--> 677\u001b[0;31m                 \u001b[0mchunked\u001b[0m\u001b[0;34m=\u001b[0m\u001b[0mchunked\u001b[0m\u001b[0;34m,\u001b[0m\u001b[0;34m\u001b[0m\u001b[0;34m\u001b[0m\u001b[0m\n\u001b[0m\u001b[1;32m    678\u001b[0m             )\n",
      "\u001b[0;32m~/.conda/envs/site_similarity/lib/python3.6/site-packages/urllib3/connectionpool.py\u001b[0m in \u001b[0;36m_make_request\u001b[0;34m(self, conn, method, url, timeout, chunked, **httplib_request_kw)\u001b[0m\n\u001b[1;32m    380\u001b[0m         \u001b[0;32mtry\u001b[0m\u001b[0;34m:\u001b[0m\u001b[0;34m\u001b[0m\u001b[0;34m\u001b[0m\u001b[0m\n\u001b[0;32m--> 381\u001b[0;31m             \u001b[0mself\u001b[0m\u001b[0;34m.\u001b[0m\u001b[0m_validate_conn\u001b[0m\u001b[0;34m(\u001b[0m\u001b[0mconn\u001b[0m\u001b[0;34m)\u001b[0m\u001b[0;34m\u001b[0m\u001b[0;34m\u001b[0m\u001b[0m\n\u001b[0m\u001b[1;32m    382\u001b[0m         \u001b[0;32mexcept\u001b[0m \u001b[0;34m(\u001b[0m\u001b[0mSocketTimeout\u001b[0m\u001b[0;34m,\u001b[0m \u001b[0mBaseSSLError\u001b[0m\u001b[0;34m)\u001b[0m \u001b[0;32mas\u001b[0m \u001b[0me\u001b[0m\u001b[0;34m:\u001b[0m\u001b[0;34m\u001b[0m\u001b[0;34m\u001b[0m\u001b[0m\n",
      "\u001b[0;32m~/.conda/envs/site_similarity/lib/python3.6/site-packages/urllib3/connectionpool.py\u001b[0m in \u001b[0;36m_validate_conn\u001b[0;34m(self, conn)\u001b[0m\n\u001b[1;32m    975\u001b[0m         \u001b[0;32mif\u001b[0m \u001b[0;32mnot\u001b[0m \u001b[0mgetattr\u001b[0m\u001b[0;34m(\u001b[0m\u001b[0mconn\u001b[0m\u001b[0;34m,\u001b[0m \u001b[0;34m\"sock\"\u001b[0m\u001b[0;34m,\u001b[0m \u001b[0;32mNone\u001b[0m\u001b[0;34m)\u001b[0m\u001b[0;34m:\u001b[0m  \u001b[0;31m# AppEngine might not have  `.sock`\u001b[0m\u001b[0;34m\u001b[0m\u001b[0;34m\u001b[0m\u001b[0m\n\u001b[0;32m--> 976\u001b[0;31m             \u001b[0mconn\u001b[0m\u001b[0;34m.\u001b[0m\u001b[0mconnect\u001b[0m\u001b[0;34m(\u001b[0m\u001b[0;34m)\u001b[0m\u001b[0;34m\u001b[0m\u001b[0;34m\u001b[0m\u001b[0m\n\u001b[0m\u001b[1;32m    977\u001b[0m \u001b[0;34m\u001b[0m\u001b[0m\n",
      "\u001b[0;32m~/.conda/envs/site_similarity/lib/python3.6/site-packages/urllib3/connection.py\u001b[0m in \u001b[0;36mconnect\u001b[0;34m(self)\u001b[0m\n\u001b[1;32m    307\u001b[0m         \u001b[0;31m# Add certificate verification\u001b[0m\u001b[0;34m\u001b[0m\u001b[0;34m\u001b[0m\u001b[0;34m\u001b[0m\u001b[0m\n\u001b[0;32m--> 308\u001b[0;31m         \u001b[0mconn\u001b[0m \u001b[0;34m=\u001b[0m \u001b[0mself\u001b[0m\u001b[0;34m.\u001b[0m\u001b[0m_new_conn\u001b[0m\u001b[0;34m(\u001b[0m\u001b[0;34m)\u001b[0m\u001b[0;34m\u001b[0m\u001b[0;34m\u001b[0m\u001b[0m\n\u001b[0m\u001b[1;32m    309\u001b[0m         \u001b[0mhostname\u001b[0m \u001b[0;34m=\u001b[0m \u001b[0mself\u001b[0m\u001b[0;34m.\u001b[0m\u001b[0mhost\u001b[0m\u001b[0;34m\u001b[0m\u001b[0;34m\u001b[0m\u001b[0m\n",
      "\u001b[0;32m~/.conda/envs/site_similarity/lib/python3.6/site-packages/urllib3/connection.py\u001b[0m in \u001b[0;36m_new_conn\u001b[0;34m(self)\u001b[0m\n\u001b[1;32m    171\u001b[0m             raise NewConnectionError(\n\u001b[0;32m--> 172\u001b[0;31m                 \u001b[0mself\u001b[0m\u001b[0;34m,\u001b[0m \u001b[0;34m\"Failed to establish a new connection: %s\"\u001b[0m \u001b[0;34m%\u001b[0m \u001b[0me\u001b[0m\u001b[0;34m\u001b[0m\u001b[0;34m\u001b[0m\u001b[0m\n\u001b[0m\u001b[1;32m    173\u001b[0m             )\n",
      "\u001b[0;31mNewConnectionError\u001b[0m: <urllib3.connection.HTTPSConnection object at 0x7fcc415035c0>: Failed to establish a new connection: [Errno -3] Temporary failure in name resolution",
      "\nDuring handling of the above exception, another exception occurred:\n",
      "\u001b[0;31mMaxRetryError\u001b[0m                             Traceback (most recent call last)",
      "\u001b[0;32m~/.conda/envs/site_similarity/lib/python3.6/site-packages/requests/adapters.py\u001b[0m in \u001b[0;36msend\u001b[0;34m(self, request, stream, timeout, verify, cert, proxies)\u001b[0m\n\u001b[1;32m    448\u001b[0m                     \u001b[0mretries\u001b[0m\u001b[0;34m=\u001b[0m\u001b[0mself\u001b[0m\u001b[0;34m.\u001b[0m\u001b[0mmax_retries\u001b[0m\u001b[0;34m,\u001b[0m\u001b[0;34m\u001b[0m\u001b[0;34m\u001b[0m\u001b[0m\n\u001b[0;32m--> 449\u001b[0;31m                     \u001b[0mtimeout\u001b[0m\u001b[0;34m=\u001b[0m\u001b[0mtimeout\u001b[0m\u001b[0;34m\u001b[0m\u001b[0;34m\u001b[0m\u001b[0m\n\u001b[0m\u001b[1;32m    450\u001b[0m                 )\n",
      "\u001b[0;32m~/.conda/envs/site_similarity/lib/python3.6/site-packages/urllib3/connectionpool.py\u001b[0m in \u001b[0;36murlopen\u001b[0;34m(self, method, url, body, headers, retries, redirect, assert_same_host, timeout, pool_timeout, release_conn, chunked, body_pos, **response_kw)\u001b[0m\n\u001b[1;32m    724\u001b[0m             retries = retries.increment(\n\u001b[0;32m--> 725\u001b[0;31m                 \u001b[0mmethod\u001b[0m\u001b[0;34m,\u001b[0m \u001b[0murl\u001b[0m\u001b[0;34m,\u001b[0m \u001b[0merror\u001b[0m\u001b[0;34m=\u001b[0m\u001b[0me\u001b[0m\u001b[0;34m,\u001b[0m \u001b[0m_pool\u001b[0m\u001b[0;34m=\u001b[0m\u001b[0mself\u001b[0m\u001b[0;34m,\u001b[0m \u001b[0m_stacktrace\u001b[0m\u001b[0;34m=\u001b[0m\u001b[0msys\u001b[0m\u001b[0;34m.\u001b[0m\u001b[0mexc_info\u001b[0m\u001b[0;34m(\u001b[0m\u001b[0;34m)\u001b[0m\u001b[0;34m[\u001b[0m\u001b[0;36m2\u001b[0m\u001b[0;34m]\u001b[0m\u001b[0;34m\u001b[0m\u001b[0;34m\u001b[0m\u001b[0m\n\u001b[0m\u001b[1;32m    726\u001b[0m             )\n",
      "\u001b[0;32m~/.conda/envs/site_similarity/lib/python3.6/site-packages/urllib3/util/retry.py\u001b[0m in \u001b[0;36mincrement\u001b[0;34m(self, method, url, response, error, _pool, _stacktrace)\u001b[0m\n\u001b[1;32m    438\u001b[0m         \u001b[0;32mif\u001b[0m \u001b[0mnew_retry\u001b[0m\u001b[0;34m.\u001b[0m\u001b[0mis_exhausted\u001b[0m\u001b[0;34m(\u001b[0m\u001b[0;34m)\u001b[0m\u001b[0;34m:\u001b[0m\u001b[0;34m\u001b[0m\u001b[0;34m\u001b[0m\u001b[0m\n\u001b[0;32m--> 439\u001b[0;31m             \u001b[0;32mraise\u001b[0m \u001b[0mMaxRetryError\u001b[0m\u001b[0;34m(\u001b[0m\u001b[0m_pool\u001b[0m\u001b[0;34m,\u001b[0m \u001b[0murl\u001b[0m\u001b[0;34m,\u001b[0m \u001b[0merror\u001b[0m \u001b[0;32mor\u001b[0m \u001b[0mResponseError\u001b[0m\u001b[0;34m(\u001b[0m\u001b[0mcause\u001b[0m\u001b[0;34m)\u001b[0m\u001b[0;34m)\u001b[0m\u001b[0;34m\u001b[0m\u001b[0;34m\u001b[0m\u001b[0m\n\u001b[0m\u001b[1;32m    440\u001b[0m \u001b[0;34m\u001b[0m\u001b[0m\n",
      "\u001b[0;31mMaxRetryError\u001b[0m: HTTPSConnectionPool(host='www.alexa.com', port=443): Max retries exceeded with url: /siteinfo/mrplasko-psych-soc.wikispaces.com (Caused by NewConnectionError('<urllib3.connection.HTTPSConnection object at 0x7fcc415035c0>: Failed to establish a new connection: [Errno -3] Temporary failure in name resolution',))",
      "\nDuring handling of the above exception, another exception occurred:\n",
      "\u001b[0;31mConnectionError\u001b[0m                           Traceback (most recent call last)",
      "\u001b[0;32m<ipython-input-67-bf2513b6501c>\u001b[0m in \u001b[0;36m<module>\u001b[0;34m\u001b[0m\n\u001b[1;32m      1\u001b[0m \u001b[0mlvl_four_file\u001b[0m \u001b[0;34m=\u001b[0m \u001b[0;34m\"/home/paco/Documents/site_similarity/dataset/scrapping_results/new corpus processed level 4 results.json\"\u001b[0m\u001b[0;34m\u001b[0m\u001b[0;34m\u001b[0m\u001b[0m\n\u001b[1;32m      2\u001b[0m \u001b[0;34m\u001b[0m\u001b[0m\n\u001b[0;32m----> 3\u001b[0;31m \u001b[0mresults\u001b[0m \u001b[0;34m=\u001b[0m \u001b[0mscrapping\u001b[0m\u001b[0;34m(\u001b[0m\u001b[0mlvl_three_data\u001b[0m\u001b[0;34m,\u001b[0m\u001b[0moutput_file\u001b[0m\u001b[0;34m=\u001b[0m\u001b[0mlvl_four_file\u001b[0m\u001b[0;34m)\u001b[0m\u001b[0;34m\u001b[0m\u001b[0;34m\u001b[0m\u001b[0m\n\u001b[0m",
      "\u001b[0;32m~/Documents/site_similarity/dataprep/alexa_scrapper.py\u001b[0m in \u001b[0;36mscrapping\u001b[0;34m(data, target_dir, output_file)\u001b[0m\n\u001b[1;32m    124\u001b[0m                     \u001b[0mresult\u001b[0m\u001b[0;34m[\u001b[0m\u001b[0mchild_site\u001b[0m\u001b[0;34m[\u001b[0m\u001b[0;34m'site'\u001b[0m\u001b[0;34m]\u001b[0m\u001b[0;34m]\u001b[0m\u001b[0;34m[\u001b[0m\u001b[0moverlap_site\u001b[0m\u001b[0;34m[\u001b[0m\u001b[0;34m'url'\u001b[0m\u001b[0;34m]\u001b[0m\u001b[0;34m]\u001b[0m \u001b[0;34m=\u001b[0m \u001b[0mjson\u001b[0m\u001b[0;34m.\u001b[0m\u001b[0mloads\u001b[0m\u001b[0;34m(\u001b[0m\u001b[0mr\u001b[0m\u001b[0;34m.\u001b[0m\u001b[0mget\u001b[0m\u001b[0;34m(\u001b[0m\u001b[0moverlap_site\u001b[0m\u001b[0;34m[\u001b[0m\u001b[0;34m'url'\u001b[0m\u001b[0;34m]\u001b[0m\u001b[0;34m)\u001b[0m\u001b[0;34m)\u001b[0m\u001b[0;34m\u001b[0m\u001b[0;34m\u001b[0m\u001b[0m\n\u001b[1;32m    125\u001b[0m                 \u001b[0;32melse\u001b[0m\u001b[0;34m:\u001b[0m\u001b[0;34m\u001b[0m\u001b[0;34m\u001b[0m\u001b[0m\n\u001b[0;32m--> 126\u001b[0;31m                     \u001b[0malexa_result\u001b[0m \u001b[0;34m=\u001b[0m \u001b[0malexa_scrapper\u001b[0m\u001b[0;34m.\u001b[0m\u001b[0mscrape_alexa_site_info\u001b[0m\u001b[0;34m(\u001b[0m\u001b[0moverlap_site\u001b[0m\u001b[0;34m[\u001b[0m\u001b[0;34m'url'\u001b[0m\u001b[0;34m]\u001b[0m\u001b[0;34m)\u001b[0m\u001b[0;34m\u001b[0m\u001b[0;34m\u001b[0m\u001b[0m\n\u001b[0m\u001b[1;32m    127\u001b[0m                     \u001b[0;31m# save in redis\u001b[0m\u001b[0;34m\u001b[0m\u001b[0;34m\u001b[0m\u001b[0;34m\u001b[0m\u001b[0m\n\u001b[1;32m    128\u001b[0m                     \u001b[0mr\u001b[0m\u001b[0;34m.\u001b[0m\u001b[0mset\u001b[0m\u001b[0;34m(\u001b[0m\u001b[0moverlap_site\u001b[0m\u001b[0;34m[\u001b[0m\u001b[0;34m'url'\u001b[0m\u001b[0;34m]\u001b[0m\u001b[0;34m,\u001b[0m \u001b[0mjson\u001b[0m\u001b[0;34m.\u001b[0m\u001b[0mdumps\u001b[0m\u001b[0;34m(\u001b[0m\u001b[0malexa_result\u001b[0m\u001b[0;34m)\u001b[0m\u001b[0;34m)\u001b[0m\u001b[0;34m\u001b[0m\u001b[0;34m\u001b[0m\u001b[0m\n",
      "\u001b[0;32m~/Documents/site_similarity/dataprep/alexa_scrapper.py\u001b[0m in \u001b[0;36mscrape_alexa_site_info\u001b[0;34m(self, target_site)\u001b[0m\n\u001b[1;32m     79\u001b[0m                 \u001b[0m_LOGGER\u001b[0m\u001b[0;34m.\u001b[0m\u001b[0merror\u001b[0m\u001b[0;34m(\u001b[0m\u001b[0;34mf\"BaseError occurred when scrapping site: {self.target_site}. With error: {repr(e)}\"\u001b[0m\u001b[0;34m)\u001b[0m\u001b[0;34m\u001b[0m\u001b[0;34m\u001b[0m\u001b[0m\n\u001b[1;32m     80\u001b[0m                 \u001b[0mtime\u001b[0m\u001b[0;34m.\u001b[0m\u001b[0msleep\u001b[0m\u001b[0;34m(\u001b[0m\u001b[0;36m20\u001b[0m\u001b[0;34m)\u001b[0m\u001b[0;34m\u001b[0m\u001b[0;34m\u001b[0m\u001b[0m\n\u001b[0;32m---> 81\u001b[0;31m                 \u001b[0mresponse\u001b[0m \u001b[0;34m=\u001b[0m \u001b[0mrequests\u001b[0m\u001b[0;34m.\u001b[0m\u001b[0mget\u001b[0m\u001b[0;34m(\u001b[0m\u001b[0;34mf\"https://www.alexa.com/siteinfo/{self.target_site}\"\u001b[0m\u001b[0;34m)\u001b[0m\u001b[0;34m\u001b[0m\u001b[0;34m\u001b[0m\u001b[0m\n\u001b[0m\u001b[1;32m     82\u001b[0m \u001b[0;34m\u001b[0m\u001b[0m\n\u001b[1;32m     83\u001b[0m             \u001b[0;32mif\u001b[0m \u001b[0;34m\"Alexa is temporarily unavailable.We're working hard to resolve the issue — please try again later\"\u001b[0m \u001b[0;32min\u001b[0m \u001b[0mresponse\u001b[0m\u001b[0;34m.\u001b[0m\u001b[0mtext\u001b[0m\u001b[0;34m:\u001b[0m\u001b[0;34m\u001b[0m\u001b[0;34m\u001b[0m\u001b[0m\n",
      "\u001b[0;32m~/.conda/envs/site_similarity/lib/python3.6/site-packages/requests/api.py\u001b[0m in \u001b[0;36mget\u001b[0;34m(url, params, **kwargs)\u001b[0m\n\u001b[1;32m     74\u001b[0m \u001b[0;34m\u001b[0m\u001b[0m\n\u001b[1;32m     75\u001b[0m     \u001b[0mkwargs\u001b[0m\u001b[0;34m.\u001b[0m\u001b[0msetdefault\u001b[0m\u001b[0;34m(\u001b[0m\u001b[0;34m'allow_redirects'\u001b[0m\u001b[0;34m,\u001b[0m \u001b[0;32mTrue\u001b[0m\u001b[0;34m)\u001b[0m\u001b[0;34m\u001b[0m\u001b[0;34m\u001b[0m\u001b[0m\n\u001b[0;32m---> 76\u001b[0;31m     \u001b[0;32mreturn\u001b[0m \u001b[0mrequest\u001b[0m\u001b[0;34m(\u001b[0m\u001b[0;34m'get'\u001b[0m\u001b[0;34m,\u001b[0m \u001b[0murl\u001b[0m\u001b[0;34m,\u001b[0m \u001b[0mparams\u001b[0m\u001b[0;34m=\u001b[0m\u001b[0mparams\u001b[0m\u001b[0;34m,\u001b[0m \u001b[0;34m**\u001b[0m\u001b[0mkwargs\u001b[0m\u001b[0;34m)\u001b[0m\u001b[0;34m\u001b[0m\u001b[0;34m\u001b[0m\u001b[0m\n\u001b[0m\u001b[1;32m     77\u001b[0m \u001b[0;34m\u001b[0m\u001b[0m\n\u001b[1;32m     78\u001b[0m \u001b[0;34m\u001b[0m\u001b[0m\n",
      "\u001b[0;32m~/.conda/envs/site_similarity/lib/python3.6/site-packages/requests/api.py\u001b[0m in \u001b[0;36mrequest\u001b[0;34m(method, url, **kwargs)\u001b[0m\n\u001b[1;32m     59\u001b[0m     \u001b[0;31m# cases, and look like a memory leak in others.\u001b[0m\u001b[0;34m\u001b[0m\u001b[0;34m\u001b[0m\u001b[0;34m\u001b[0m\u001b[0m\n\u001b[1;32m     60\u001b[0m     \u001b[0;32mwith\u001b[0m \u001b[0msessions\u001b[0m\u001b[0;34m.\u001b[0m\u001b[0mSession\u001b[0m\u001b[0;34m(\u001b[0m\u001b[0;34m)\u001b[0m \u001b[0;32mas\u001b[0m \u001b[0msession\u001b[0m\u001b[0;34m:\u001b[0m\u001b[0;34m\u001b[0m\u001b[0;34m\u001b[0m\u001b[0m\n\u001b[0;32m---> 61\u001b[0;31m         \u001b[0;32mreturn\u001b[0m \u001b[0msession\u001b[0m\u001b[0;34m.\u001b[0m\u001b[0mrequest\u001b[0m\u001b[0;34m(\u001b[0m\u001b[0mmethod\u001b[0m\u001b[0;34m=\u001b[0m\u001b[0mmethod\u001b[0m\u001b[0;34m,\u001b[0m \u001b[0murl\u001b[0m\u001b[0;34m=\u001b[0m\u001b[0murl\u001b[0m\u001b[0;34m,\u001b[0m \u001b[0;34m**\u001b[0m\u001b[0mkwargs\u001b[0m\u001b[0;34m)\u001b[0m\u001b[0;34m\u001b[0m\u001b[0;34m\u001b[0m\u001b[0m\n\u001b[0m\u001b[1;32m     62\u001b[0m \u001b[0;34m\u001b[0m\u001b[0m\n\u001b[1;32m     63\u001b[0m \u001b[0;34m\u001b[0m\u001b[0m\n",
      "\u001b[0;32m~/.conda/envs/site_similarity/lib/python3.6/site-packages/requests/sessions.py\u001b[0m in \u001b[0;36mrequest\u001b[0;34m(self, method, url, params, data, headers, cookies, files, auth, timeout, allow_redirects, proxies, hooks, stream, verify, cert, json)\u001b[0m\n\u001b[1;32m    528\u001b[0m         }\n\u001b[1;32m    529\u001b[0m         \u001b[0msend_kwargs\u001b[0m\u001b[0;34m.\u001b[0m\u001b[0mupdate\u001b[0m\u001b[0;34m(\u001b[0m\u001b[0msettings\u001b[0m\u001b[0;34m)\u001b[0m\u001b[0;34m\u001b[0m\u001b[0;34m\u001b[0m\u001b[0m\n\u001b[0;32m--> 530\u001b[0;31m         \u001b[0mresp\u001b[0m \u001b[0;34m=\u001b[0m \u001b[0mself\u001b[0m\u001b[0;34m.\u001b[0m\u001b[0msend\u001b[0m\u001b[0;34m(\u001b[0m\u001b[0mprep\u001b[0m\u001b[0;34m,\u001b[0m \u001b[0;34m**\u001b[0m\u001b[0msend_kwargs\u001b[0m\u001b[0;34m)\u001b[0m\u001b[0;34m\u001b[0m\u001b[0;34m\u001b[0m\u001b[0m\n\u001b[0m\u001b[1;32m    531\u001b[0m \u001b[0;34m\u001b[0m\u001b[0m\n\u001b[1;32m    532\u001b[0m         \u001b[0;32mreturn\u001b[0m \u001b[0mresp\u001b[0m\u001b[0;34m\u001b[0m\u001b[0;34m\u001b[0m\u001b[0m\n",
      "\u001b[0;32m~/.conda/envs/site_similarity/lib/python3.6/site-packages/requests/sessions.py\u001b[0m in \u001b[0;36msend\u001b[0;34m(self, request, **kwargs)\u001b[0m\n\u001b[1;32m    641\u001b[0m \u001b[0;34m\u001b[0m\u001b[0m\n\u001b[1;32m    642\u001b[0m         \u001b[0;31m# Send the request\u001b[0m\u001b[0;34m\u001b[0m\u001b[0;34m\u001b[0m\u001b[0;34m\u001b[0m\u001b[0m\n\u001b[0;32m--> 643\u001b[0;31m         \u001b[0mr\u001b[0m \u001b[0;34m=\u001b[0m \u001b[0madapter\u001b[0m\u001b[0;34m.\u001b[0m\u001b[0msend\u001b[0m\u001b[0;34m(\u001b[0m\u001b[0mrequest\u001b[0m\u001b[0;34m,\u001b[0m \u001b[0;34m**\u001b[0m\u001b[0mkwargs\u001b[0m\u001b[0;34m)\u001b[0m\u001b[0;34m\u001b[0m\u001b[0;34m\u001b[0m\u001b[0m\n\u001b[0m\u001b[1;32m    644\u001b[0m \u001b[0;34m\u001b[0m\u001b[0m\n\u001b[1;32m    645\u001b[0m         \u001b[0;31m# Total elapsed time of the request (approximately)\u001b[0m\u001b[0;34m\u001b[0m\u001b[0;34m\u001b[0m\u001b[0;34m\u001b[0m\u001b[0m\n",
      "\u001b[0;32m~/.conda/envs/site_similarity/lib/python3.6/site-packages/requests/adapters.py\u001b[0m in \u001b[0;36msend\u001b[0;34m(self, request, stream, timeout, verify, cert, proxies)\u001b[0m\n\u001b[1;32m    514\u001b[0m                 \u001b[0;32mraise\u001b[0m \u001b[0mSSLError\u001b[0m\u001b[0;34m(\u001b[0m\u001b[0me\u001b[0m\u001b[0;34m,\u001b[0m \u001b[0mrequest\u001b[0m\u001b[0;34m=\u001b[0m\u001b[0mrequest\u001b[0m\u001b[0;34m)\u001b[0m\u001b[0;34m\u001b[0m\u001b[0;34m\u001b[0m\u001b[0m\n\u001b[1;32m    515\u001b[0m \u001b[0;34m\u001b[0m\u001b[0m\n\u001b[0;32m--> 516\u001b[0;31m             \u001b[0;32mraise\u001b[0m \u001b[0mConnectionError\u001b[0m\u001b[0;34m(\u001b[0m\u001b[0me\u001b[0m\u001b[0;34m,\u001b[0m \u001b[0mrequest\u001b[0m\u001b[0;34m=\u001b[0m\u001b[0mrequest\u001b[0m\u001b[0;34m)\u001b[0m\u001b[0;34m\u001b[0m\u001b[0;34m\u001b[0m\u001b[0m\n\u001b[0m\u001b[1;32m    517\u001b[0m \u001b[0;34m\u001b[0m\u001b[0m\n\u001b[1;32m    518\u001b[0m         \u001b[0;32mexcept\u001b[0m \u001b[0mClosedPoolError\u001b[0m \u001b[0;32mas\u001b[0m \u001b[0me\u001b[0m\u001b[0;34m:\u001b[0m\u001b[0;34m\u001b[0m\u001b[0;34m\u001b[0m\u001b[0m\n",
      "\u001b[0;31mConnectionError\u001b[0m: HTTPSConnectionPool(host='www.alexa.com', port=443): Max retries exceeded with url: /siteinfo/mrplasko-psych-soc.wikispaces.com (Caused by NewConnectionError('<urllib3.connection.HTTPSConnection object at 0x7fcc415035c0>: Failed to establish a new connection: [Errno -3] Temporary failure in name resolution',))"
     ]
    }
   ],
   "source": [
    "lvl_four_file = \"/home/paco/Documents/site_similarity/dataset/scrapping_results/new corpus processed level 4 results.json\"\n",
    "\n",
    "results = scrapping(lvl_three_data,output_file=lvl_four_file)"
   ]
  },
  {
   "cell_type": "code",
   "execution_count": null,
   "metadata": {},
   "outputs": [],
   "source": [
    "[res for result in results.values() for res in result.values() if res['score'] is None]"
   ]
  }
 ]
}