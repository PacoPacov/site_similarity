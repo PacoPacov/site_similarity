{
 "cells": [
  {
   "cell_type": "code",
   "execution_count": 15,
   "outputs": [],
   "source": [
    "from dataprep.load_annotated_data import load_corpus, apply_splits\n",
    "\n",
    "data = load_corpus(\"corpus.csv\")"
   ],
   "metadata": {
    "collapsed": false,
    "pycharm": {
     "name": "#%%\n"
    }
   }
  },
  {
   "cell_type": "code",
   "execution_count": 16,
   "outputs": [
    {
     "name": "stdout",
     "output_type": "stream",
     "text": [
      "[OrderedDict([('source_url', 'http://www.villagevoice.com/'), ('source_url_processed', 'villagevoice.com'), ('URL', 'http://mediabiasfactcheck.com/the-village-voice/'), ('fact', 'HIGH'), ('bias', 'left')]), OrderedDict([('source_url', 'https://insideclimatenews.org/'), ('source_url_processed', 'insideclimatenews.org'), ('URL', 'https://mediabiasfactcheck.com/insideclimate-news/'), ('fact', 'HIGH'), ('bias', 'left-center')]), OrderedDict([('source_url', 'http://www.fury.news/'), ('source_url_processed', 'fury.news'), ('URL', 'http://mediabiasfactcheck.com/fury-news/'), ('fact', 'LOW'), ('bias', 'extreme-right')]), OrderedDict([('source_url', 'http://now8news.com/'), ('source_url_processed', 'now8news.com'), ('URL', 'http://mediabiasfactcheck.com/now8news/'), ('fact', 'LOW'), ('bias', 'center')]), OrderedDict([('source_url', 'http://constitution.com/'), ('source_url_processed', 'constitution.com'), ('URL', 'http://mediabiasfactcheck.com/the-constitution/'), ('fact', 'LOW'), ('bias', 'extreme-right')]), OrderedDict([('source_url', 'http://freebeacon.com/'), ('source_url_processed', 'freebeacon.com'), ('URL', 'http://mediabiasfactcheck.com/washington-free-beacon/'), ('fact', 'MIXED'), ('bias', 'right')]), OrderedDict([('source_url', 'http://brexitcentral.com'), ('source_url_processed', 'brexitcentral.com'), ('URL', 'https://mediabiasfactcheck.com/brexitcentral/'), ('fact', 'MIXED'), ('bias', 'right')]), OrderedDict([('source_url', 'http://foreignpolicynews.org'), ('source_url_processed', 'foreignpolicynews.org'), ('URL', 'https://mediabiasfactcheck.com/foreign-policy-news/'), ('fact', 'MIXED'), ('bias', 'left')]), OrderedDict([('source_url', 'https://patriotpost.us/'), ('source_url_processed', 'patriotpost.us'), ('URL', 'http://mediabiasfactcheck.com/the-patriot-post/'), ('fact', 'MIXED'), ('bias', 'right')]), OrderedDict([('source_url', 'http://loser.com'), ('source_url_processed', 'loser.com'), ('URL', 'https://mediabiasfactcheck.com/loser-com/'), ('fact', 'LOW'), ('bias', 'extreme-left')])]\n"
     ]
    }
   ],
   "source": [
    "print(data[:10])"
   ],
   "metadata": {
    "collapsed": false,
    "pycharm": {
     "name": "#%%\n"
    }
   }
  },
  {
   "cell_type": "code",
   "execution_count": 17,
   "outputs": [
    {
     "data": {
      "text/plain": "                       source_url   source_url_processed  \\\n0    http://www.villagevoice.com/       villagevoice.com   \n1  https://insideclimatenews.org/  insideclimatenews.org   \n2           http://www.fury.news/              fury.news   \n3            http://now8news.com/           now8news.com   \n4        http://constitution.com/       constitution.com   \n\n                                                 URL  fact           bias  \n0   http://mediabiasfactcheck.com/the-village-voice/  HIGH           left  \n1  https://mediabiasfactcheck.com/insideclimate-n...  HIGH    left-center  \n2           http://mediabiasfactcheck.com/fury-news/   LOW  extreme-right  \n3            http://mediabiasfactcheck.com/now8news/   LOW         center  \n4    http://mediabiasfactcheck.com/the-constitution/   LOW  extreme-right  ",
      "text/html": "<div>\n<style scoped>\n    .dataframe tbody tr th:only-of-type {\n        vertical-align: middle;\n    }\n\n    .dataframe tbody tr th {\n        vertical-align: top;\n    }\n\n    .dataframe thead th {\n        text-align: right;\n    }\n</style>\n<table border=\"1\" class=\"dataframe\">\n  <thead>\n    <tr style=\"text-align: right;\">\n      <th></th>\n      <th>source_url</th>\n      <th>source_url_processed</th>\n      <th>URL</th>\n      <th>fact</th>\n      <th>bias</th>\n    </tr>\n  </thead>\n  <tbody>\n    <tr>\n      <th>0</th>\n      <td>http://www.villagevoice.com/</td>\n      <td>villagevoice.com</td>\n      <td>http://mediabiasfactcheck.com/the-village-voice/</td>\n      <td>HIGH</td>\n      <td>left</td>\n    </tr>\n    <tr>\n      <th>1</th>\n      <td>https://insideclimatenews.org/</td>\n      <td>insideclimatenews.org</td>\n      <td>https://mediabiasfactcheck.com/insideclimate-n...</td>\n      <td>HIGH</td>\n      <td>left-center</td>\n    </tr>\n    <tr>\n      <th>2</th>\n      <td>http://www.fury.news/</td>\n      <td>fury.news</td>\n      <td>http://mediabiasfactcheck.com/fury-news/</td>\n      <td>LOW</td>\n      <td>extreme-right</td>\n    </tr>\n    <tr>\n      <th>3</th>\n      <td>http://now8news.com/</td>\n      <td>now8news.com</td>\n      <td>http://mediabiasfactcheck.com/now8news/</td>\n      <td>LOW</td>\n      <td>center</td>\n    </tr>\n    <tr>\n      <th>4</th>\n      <td>http://constitution.com/</td>\n      <td>constitution.com</td>\n      <td>http://mediabiasfactcheck.com/the-constitution/</td>\n      <td>LOW</td>\n      <td>extreme-right</td>\n    </tr>\n  </tbody>\n</table>\n</div>"
     },
     "execution_count": 17,
     "metadata": {},
     "output_type": "execute_result"
    }
   ],
   "source": [
    "import pandas as pd\n",
    "\n",
    "df = pd.DataFrame(data)\n",
    "df.head()"
   ],
   "metadata": {
    "collapsed": false,
    "pycharm": {
     "name": "#%%\n"
    }
   }
  },
  {
   "cell_type": "code",
   "execution_count": 18,
   "outputs": [
    {
     "data": {
      "text/plain": "HIGH     542\nMIXED    268\nLOW      256\nName: fact, dtype: int64"
     },
     "execution_count": 18,
     "metadata": {},
     "output_type": "execute_result"
    }
   ],
   "source": [
    "df.fact.value_counts(dropna=False)"
   ],
   "metadata": {
    "collapsed": false,
    "pycharm": {
     "name": "#%%\n"
    }
   }
  },
  {
   "cell_type": "code",
   "execution_count": 19,
   "outputs": [
    {
     "data": {
      "text/plain": "center           263\nleft-center      209\nleft             168\nright            157\nextreme-right    156\nright-center      92\nextreme-left      21\nName: bias, dtype: int64"
     },
     "execution_count": 19,
     "metadata": {},
     "output_type": "execute_result"
    }
   ],
   "source": [
    "df.bias.value_counts(dropna=False)"
   ],
   "metadata": {
    "collapsed": false,
    "pycharm": {
     "name": "#%%\n"
    }
   }
  },
  {
   "cell_type": "code",
   "execution_count": 20,
   "outputs": [
    {
     "data": {
      "text/plain": "(1066, 5)"
     },
     "execution_count": 20,
     "metadata": {},
     "output_type": "execute_result"
    }
   ],
   "source": [
    "df.shape"
   ],
   "metadata": {
    "collapsed": false,
    "pycharm": {
     "name": "#%%\n"
    }
   }
  },
  {
   "cell_type": "code",
   "execution_count": 21,
   "outputs": [
    {
     "data": {
      "text/plain": "                     source_url source_url_processed  \\\ncount                      1066                 1066   \nunique                     1066                 1066   \ntop     http://magicvalley.com/             erlc.com   \nfreq                          1                    1   \n\n                                                      URL  fact    bias  \ncount                                                1066  1066    1066  \nunique                                               1066     3       7  \ntop     https://mediabiasfactcheck.com/the-free-telegr...  HIGH  center  \nfreq                                                    1   542     263  ",
      "text/html": "<div>\n<style scoped>\n    .dataframe tbody tr th:only-of-type {\n        vertical-align: middle;\n    }\n\n    .dataframe tbody tr th {\n        vertical-align: top;\n    }\n\n    .dataframe thead th {\n        text-align: right;\n    }\n</style>\n<table border=\"1\" class=\"dataframe\">\n  <thead>\n    <tr style=\"text-align: right;\">\n      <th></th>\n      <th>source_url</th>\n      <th>source_url_processed</th>\n      <th>URL</th>\n      <th>fact</th>\n      <th>bias</th>\n    </tr>\n  </thead>\n  <tbody>\n    <tr>\n      <th>count</th>\n      <td>1066</td>\n      <td>1066</td>\n      <td>1066</td>\n      <td>1066</td>\n      <td>1066</td>\n    </tr>\n    <tr>\n      <th>unique</th>\n      <td>1066</td>\n      <td>1066</td>\n      <td>1066</td>\n      <td>3</td>\n      <td>7</td>\n    </tr>\n    <tr>\n      <th>top</th>\n      <td>http://magicvalley.com/</td>\n      <td>erlc.com</td>\n      <td>https://mediabiasfactcheck.com/the-free-telegr...</td>\n      <td>HIGH</td>\n      <td>center</td>\n    </tr>\n    <tr>\n      <th>freq</th>\n      <td>1</td>\n      <td>1</td>\n      <td>1</td>\n      <td>542</td>\n      <td>263</td>\n    </tr>\n  </tbody>\n</table>\n</div>"
     },
     "execution_count": 21,
     "metadata": {},
     "output_type": "execute_result"
    }
   ],
   "source": [
    "df.describe()"
   ],
   "metadata": {
    "collapsed": false,
    "pycharm": {
     "name": "#%%\n"
    }
   }
  },
  {
   "cell_type": "code",
   "execution_count": 22,
   "outputs": [
    {
     "data": {
      "text/plain": "dict_keys(['test-0', 'train-0', 'test-1', 'train-1', 'test-2', 'train-2', 'test-3', 'train-3', 'test-4', 'train-4'])"
     },
     "execution_count": 22,
     "metadata": {},
     "output_type": "execute_result"
    }
   ],
   "source": [
    "splits = apply_splits(data)\n",
    "\n",
    "splits.keys()"
   ],
   "metadata": {
    "collapsed": false,
    "pycharm": {
     "name": "#%%\n"
    }
   }
  },
  {
   "cell_type": "code",
   "execution_count": 23,
   "outputs": [
    {
     "name": "stdout",
     "output_type": "stream",
     "text": [
      "215 851\n"
     ]
    }
   ],
   "source": [
    "print(len(splits['test-0']), len(splits['train-0']))"
   ],
   "metadata": {
    "collapsed": false,
    "pycharm": {
     "name": "#%%\n"
    }
   }
  },
  {
   "cell_type": "code",
   "execution_count": 24,
   "outputs": [
    {
     "name": "stdout",
     "output_type": "stream",
     "text": [
      "214 852\n"
     ]
    }
   ],
   "source": [
    "print(len(splits['test-1']), len(splits['train-1']))"
   ],
   "metadata": {
    "collapsed": false,
    "pycharm": {
     "name": "#%%\n"
    }
   }
  },
  {
   "cell_type": "code",
   "execution_count": 25,
   "outputs": [
    {
     "data": {
      "text/plain": "18                               itv.com-news\n32      conservativeoutfitters.com-blogs-news\n55                                 who.int-en\n100                 themaven.net-beingliberal\n167               pri.org-programs-globalpost\n196                  theguardian.com-observer\n245                mlive.com-grand-rapids-#-0\n370                  pacificresearch.org-home\n377                   concernedwomen.org-blog\n383                     telesurtv.net-english\n385                     npr.org-sections-news\n437                        inquisitr.com-news\n453                       cato.org-regulation\n476                jpost.com-Jerusalem-Report\n597                        therealnews.com-t2\n611                        oregonlive.com-#-0\n625                           rfa.org-english\n641                    yahoo.com-news-?ref=gs\n661                       people.com-politics\n663                            zcomm.org-zmag\n678                     russia-insider.com-en\n680                              nola.com-#-0\n738                      host.madison.com-wsj\n748               conservapedia.com-Main_Page\n790                  futureinamerica.com-news\n853       newyorker.com-humor-borowitz-report\n929                               rt.com-news\n931            westernjournalism.com-thepoint\n968                     scripps.ucsd.edu-news\n1048                 news.harvard.edu-gazette\n1064                 spin.com-death-and-taxes\nName: source_url_processed, dtype: object"
     },
     "execution_count": 25,
     "metadata": {},
     "output_type": "execute_result"
    }
   ],
   "source": [
    "incorrect_urls = df.loc[df['source_url_processed'].apply(lambda x: '-' in x.split('.')[-1]), 'source_url_processed']\n",
    "\n",
    "incorrect_urls"
   ],
   "metadata": {
    "collapsed": false,
    "pycharm": {
     "name": "#%%\n"
    }
   }
  },
  {
   "cell_type": "code",
   "execution_count": 26,
   "outputs": [
    {
     "data": {
      "text/plain": "31"
     },
     "execution_count": 26,
     "metadata": {},
     "output_type": "execute_result"
    }
   ],
   "source": [
    "len(incorrect_urls)\n"
   ],
   "metadata": {
    "collapsed": false,
    "pycharm": {
     "name": "#%%\n"
    }
   }
  }
 ],
 "metadata": {
  "kernelspec": {
   "display_name": "Python 3",
   "language": "python",
   "name": "python3"
  },
  "language_info": {
   "codemirror_mode": {
    "name": "ipython",
    "version": 2
   },
   "file_extension": ".py",
   "mimetype": "text/x-python",
   "name": "python",
   "nbconvert_exporter": "python",
   "pygments_lexer": "ipython2",
   "version": "2.7.6"
  }
 },
 "nbformat": 4,
 "nbformat_minor": 0
}