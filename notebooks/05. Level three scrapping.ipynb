{
 "cells": [
  {
   "cell_type": "code",
   "execution_count": 1,
   "metadata": {
    "collapsed": true
   },
   "outputs": [],
   "source": [
    "import  json\n",
    "\n",
    "with open(\"/home/paco/Documents/site_similarity/data/scrapping_results/processed level 2 results.json\", 'r') as f:\n",
    "    lvl_two_data = json.load(f)"
   ]
  },
  {
   "cell_type": "code",
   "execution_count": 2,
   "outputs": [
    {
     "data": {
      "text/plain": "3560"
     },
     "execution_count": 2,
     "metadata": {},
     "output_type": "execute_result"
    }
   ],
   "source": [
    "len(lvl_two_data)"
   ],
   "metadata": {
    "collapsed": false,
    "pycharm": {
     "name": "#%%\n"
    }
   }
  },
  {
   "cell_type": "code",
   "execution_count": 3,
   "outputs": [
    {
     "name": "stdout",
     "output_type": "stream",
     "text": [
      "5\n",
      "compatible-astrology.com\n",
      "astrology-zodiac-signs.com\n",
      "papermag.com\n",
      "astrology.com\n",
      "flaunt.com\n"
     ]
    }
   ],
   "source": [
    "from pprint import pprint\n",
    "\n",
    "print(len(lvl_two_data['nylon.com'].keys()))\n",
    "for k in lvl_two_data['nylon.com'].keys():\n",
    "    print(k)"
   ],
   "metadata": {
    "collapsed": false,
    "pycharm": {
     "name": "#%%\n"
    }
   }
  },
  {
   "cell_type": "code",
   "execution_count": 4,
   "outputs": [
    {
     "name": "stderr",
     "output_type": "stream",
     "text": [
      "100%|██████████| 1/1 [00:00<00:00, 175.41it/s]\n"
     ]
    }
   ],
   "source": [
    "from dataprep.alexa_scrapper import scrapping\n",
    "test_res = scrapping({'test' : lvl_two_data['nylon.com']})"
   ],
   "metadata": {
    "collapsed": false,
    "pycharm": {
     "name": "#%%\n"
    }
   }
  },
  {
   "cell_type": "code",
   "execution_count": null,
   "outputs": [
    {
     "name": "stderr",
     "output_type": "stream",
     "text": [
      " 20%|█▉        | 701/3560 [2:49:39<18:08:11, 22.84s/it]  "
     ]
    },
    {
     "name": "stdout",
     "output_type": "stream",
     "text": [
      "Save data at index 0 ...\n",
      "Save data at index 100 ...\n",
      "Save data at index 200 ...\n",
      "Save data at index 300 ...\n",
      "Save data at index 400 ...\n",
      "Save data at index 500 ...\n",
      "Save data at index 600 ...\n",
      "Save data at index 700 ...\n"
     ]
    }
   ],
   "source": [
    "lvl_three_file = '/home/paco/Documents/site_similarity/data/scrapping_results/processed level 3 results.json'\n",
    "\n",
    "level_three_scrapping_data = scrapping(lvl_two_data, output_file=lvl_three_file)"
   ],
   "metadata": {
    "collapsed": false,
    "pycharm": {
     "name": "#%%\n",
     "is_executing": true
    }
   }
  },
  {
   "cell_type": "code",
   "execution_count": 5,
   "outputs": [
    {
     "data": {
      "text/plain": "10650"
     },
     "execution_count": 5,
     "metadata": {},
     "output_type": "execute_result"
    }
   ],
   "source": [
    "len(level_three_scrapping_data)"
   ],
   "metadata": {
    "collapsed": false,
    "pycharm": {
     "name": "#%%\n"
    }
   }
  },
  {
   "cell_type": "code",
   "execution_count": 6,
   "outputs": [
    {
     "data": {
      "text/plain": "{'site': 'compatible-astrology.com',\n 'score': [{'url': 'astrology-zodiac-signs.com',\n   'overlap_score': 65.8,\n   'alexa_rank': 18913.0},\n  {'url': 'astrology.com', 'overlap_score': 49.4, 'alexa_rank': 16859.0},\n  {'url': 'astromatcha.com', 'overlap_score': 38.4, 'alexa_rank': 1078304.0},\n  {'url': 'ganeshaspeaks.com', 'overlap_score': 38.1, 'alexa_rank': 13405.0},\n  {'url': 'astrostyle.com', 'overlap_score': 36.0, 'alexa_rank': 40172.0}],\n 'audience_geography': [{'country': 'United States', 'percent': 41.7},\n  {'country': 'India', 'percent': 23.6},\n  {'country': 'Pakistan', 'percent': 6.9}]}"
     },
     "execution_count": 6,
     "metadata": {},
     "output_type": "execute_result"
    }
   ],
   "source": [
    "level_three_scrapping_data['compatible-astrology.com']"
   ],
   "metadata": {
    "collapsed": false,
    "pycharm": {
     "name": "#%%\n"
    }
   }
  },
  {
   "cell_type": "markdown",
   "source": [
    "# Check the result data"
   ],
   "metadata": {
    "collapsed": false
   }
  },
  {
   "cell_type": "code",
   "execution_count": 6,
   "outputs": [
    {
     "ename": "TypeError",
     "evalue": "string indices must be integers",
     "output_type": "error",
     "traceback": [
      "\u001B[0;31m---------------------------------------------------------------------------\u001B[0m",
      "\u001B[0;31mTypeError\u001B[0m                                 Traceback (most recent call last)",
      "\u001B[0;32m<ipython-input-6-f6c547632a09>\u001B[0m in \u001B[0;36m<module>\u001B[0;34m\u001B[0m\n\u001B[1;32m      1\u001B[0m \u001B[0;31m# Look for empty elements\u001B[0m\u001B[0;34m\u001B[0m\u001B[0;34m\u001B[0m\u001B[0;34m\u001B[0m\u001B[0m\n\u001B[0;32m----> 2\u001B[0;31m \u001B[0;34m[\u001B[0m\u001B[0mres\u001B[0m \u001B[0;32mfor\u001B[0m \u001B[0mresult\u001B[0m \u001B[0;32min\u001B[0m \u001B[0mlevel_three_scrapping_data\u001B[0m\u001B[0;34m.\u001B[0m\u001B[0mvalues\u001B[0m\u001B[0;34m(\u001B[0m\u001B[0;34m)\u001B[0m \u001B[0;32mfor\u001B[0m \u001B[0mres\u001B[0m \u001B[0;32min\u001B[0m \u001B[0mresult\u001B[0m\u001B[0;34m.\u001B[0m\u001B[0mvalues\u001B[0m\u001B[0;34m(\u001B[0m\u001B[0;34m)\u001B[0m \u001B[0;32mif\u001B[0m \u001B[0mres\u001B[0m\u001B[0;34m[\u001B[0m\u001B[0;34m'score'\u001B[0m\u001B[0;34m]\u001B[0m \u001B[0;32mis\u001B[0m \u001B[0;32mNone\u001B[0m\u001B[0;34m]\u001B[0m\u001B[0;34m\u001B[0m\u001B[0;34m\u001B[0m\u001B[0m\n\u001B[0m\u001B[1;32m      3\u001B[0m \u001B[0;34m\u001B[0m\u001B[0m\n",
      "\u001B[0;32m<ipython-input-6-f6c547632a09>\u001B[0m in \u001B[0;36m<listcomp>\u001B[0;34m(.0)\u001B[0m\n\u001B[1;32m      1\u001B[0m \u001B[0;31m# Look for empty elements\u001B[0m\u001B[0;34m\u001B[0m\u001B[0;34m\u001B[0m\u001B[0;34m\u001B[0m\u001B[0m\n\u001B[0;32m----> 2\u001B[0;31m \u001B[0;34m[\u001B[0m\u001B[0mres\u001B[0m \u001B[0;32mfor\u001B[0m \u001B[0mresult\u001B[0m \u001B[0;32min\u001B[0m \u001B[0mlevel_three_scrapping_data\u001B[0m\u001B[0;34m.\u001B[0m\u001B[0mvalues\u001B[0m\u001B[0;34m(\u001B[0m\u001B[0;34m)\u001B[0m \u001B[0;32mfor\u001B[0m \u001B[0mres\u001B[0m \u001B[0;32min\u001B[0m \u001B[0mresult\u001B[0m\u001B[0;34m.\u001B[0m\u001B[0mvalues\u001B[0m\u001B[0;34m(\u001B[0m\u001B[0;34m)\u001B[0m \u001B[0;32mif\u001B[0m \u001B[0mres\u001B[0m\u001B[0;34m[\u001B[0m\u001B[0;34m'score'\u001B[0m\u001B[0;34m]\u001B[0m \u001B[0;32mis\u001B[0m \u001B[0;32mNone\u001B[0m\u001B[0;34m]\u001B[0m\u001B[0;34m\u001B[0m\u001B[0;34m\u001B[0m\u001B[0m\n\u001B[0m\u001B[1;32m      3\u001B[0m \u001B[0;34m\u001B[0m\u001B[0m\n",
      "\u001B[0;31mTypeError\u001B[0m: string indices must be integers"
     ]
    }
   ],
   "source": [
    "# Look for empty elements\n",
    "[res for result in level_three_scrapping_data.values() for res in result.values() if res['score'] is None]"
   ],
   "metadata": {
    "collapsed": false,
    "pycharm": {
     "name": "#%%\n"
    }
   }
  },
  {
   "cell_type": "code",
   "execution_count": null,
   "outputs": [],
   "source": [
    "# Distribution of the results length\n",
    "\n",
    "from collections import Counter\n",
    "\n",
    "Counter([len(res['score']) for result in level_three_scrapping_data.values() for res in result.values()])"
   ],
   "metadata": {
    "collapsed": false,
    "pycharm": {
     "name": "#%%\n"
    }
   }
  },
  {
   "cell_type": "code",
   "execution_count": null,
   "outputs": [],
   "source": [
    "# Records with no Audience overlap\n",
    "\n",
    "[res for result in level_three_scrapping_data.values() for res in result.values() if len(res['score']) == 0]\n"
   ],
   "metadata": {
    "collapsed": false,
    "pycharm": {
     "name": "#%%\n"
    }
   }
  },
  {
   "cell_type": "markdown",
   "source": [
    "# Save results from scrapping level 3"
   ],
   "metadata": {
    "collapsed": false
   }
  },
  {
   "cell_type": "code",
   "execution_count": null,
   "outputs": [],
   "source": [
    "import json\n",
    "\n",
    "with open(\"/home/paco/Documents/site_similarity/data/scrapping_results/processed level 3 results.json\", 'w') as f:\n",
    "    json.dump(level_three_scrapping_data, f, indent=4)\n",
    "\n"
   ],
   "metadata": {
    "collapsed": false,
    "pycharm": {
     "name": "#%%\n"
    }
   }
  }
 ],
 "metadata": {
  "kernelspec": {
   "display_name": "Python 3",
   "language": "python",
   "name": "python3"
  },
  "language_info": {
   "codemirror_mode": {
    "name": "ipython",
    "version": 2
   },
   "file_extension": ".py",
   "mimetype": "text/x-python",
   "name": "python",
   "nbconvert_exporter": "python",
   "pygments_lexer": "ipython2",
   "version": "2.7.6"
  }
 },
 "nbformat": 4,
 "nbformat_minor": 0
}