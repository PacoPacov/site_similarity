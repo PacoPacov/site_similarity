{
 "cells": [
  {
   "cell_type": "code",
   "execution_count": 1,
   "metadata": {},
   "outputs": [],
   "source": [
    "import sys,os\n",
    "sys.path.append(\"/home/paco/Documents/site_similarity\")"
   ]
  },
  {
   "cell_type": "code",
   "execution_count": 2,
   "metadata": {
    "collapsed": true
   },
   "outputs": [],
   "source": [
    "import  json\n",
    "\n",
    "with open(\"/home/paco/Documents/site_similarity/data/scrapping_results/processed level 2 results.json\", 'r') as f:\n",
    "    lvl_two_data = json.load(f)"
   ]
  },
  {
   "cell_type": "code",
   "execution_count": 3,
   "outputs": [
    {
     "output_type": "execute_result",
     "data": {
      "text/plain": "3560"
     },
     "metadata": {},
     "execution_count": 3
    }
   ],
   "source": [
    "len(lvl_two_data)"
   ],
   "metadata": {
    "collapsed": false,
    "pycharm": {
     "name": "#%%\n"
    }
   }
  },
  {
   "cell_type": "code",
   "execution_count": 4,
   "outputs": [
    {
     "output_type": "stream",
     "name": "stdout",
     "text": "5\ncompatible-astrology.com\nastrology-zodiac-signs.com\npapermag.com\nastrology.com\nflaunt.com\n"
    }
   ],
   "source": [
    "from pprint import pprint\n",
    "\n",
    "print(len(lvl_two_data['nylon.com'].keys()))\n",
    "for k in lvl_two_data['nylon.com'].keys():\n",
    "    print(k)"
   ],
   "metadata": {
    "collapsed": false,
    "pycharm": {
     "name": "#%%\n"
    },
    "tags": []
   }
  },
  {
   "cell_type": "code",
   "execution_count": 5,
   "outputs": [
    {
     "output_type": "stream",
     "name": "stderr",
     "text": "100%|██████████| 1/1 [00:00<00:00, 68.60it/s]\n"
    }
   ],
   "source": [
    "from dataprep.alexa_scrapper import scrapping\n",
    "test_res = scrapping({'test' : lvl_two_data['nylon.com']})"
   ],
   "metadata": {
    "collapsed": false,
    "pycharm": {
     "name": "#%%\n"
    },
    "tags": []
   }
  },
  {
   "cell_type": "code",
   "execution_count": 6,
   "outputs": [
    {
     "output_type": "stream",
     "name": "stderr",
     "text": "0%|          | 0/3560 [00:00<?, ?it/s]Save data at index 0 ...\n  3%|▎         | 100/3560 [00:21<20:57,  2.75it/s]Save data at index 100 ...\n  6%|▌         | 197/3560 [00:54<17:38,  3.18it/s]Save data at index 200 ...\n  8%|▊         | 300/3560 [01:14<07:39,  7.10it/s]Save data at index 300 ...\n 11%|█         | 392/3560 [01:31<10:01,  5.26it/s]Save data at index 400 ...\n 14%|█▍        | 495/3560 [01:49<16:08,  3.16it/s]Save data at index 500 ...\n 17%|█▋        | 596/3560 [02:08<13:42,  3.60it/s]Save data at index 600 ...\n 19%|█▉        | 694/3560 [02:22<09:18,  5.14it/s]Save data at index 700 ...\n 22%|██▏       | 796/3560 [03:00<31:43,  1.45it/s]Save data at index 800 ...\n 25%|██▌       | 898/3560 [03:16<09:35,  4.62it/s]Save data at index 900 ...\n 28%|██▊       | 990/3560 [03:50<44:03,  1.03s/it]Save data at index 1000 ...\n 31%|███       | 1096/3560 [04:13<04:41,  8.74it/s]Save data at index 1100 ...\n 34%|███▎      | 1195/3560 [04:53<12:28,  3.16it/s]Save data at index 1200 ...\n 36%|███▋      | 1296/3560 [05:05<04:04,  9.25it/s]Save data at index 1300 ...\n 39%|███▉      | 1399/3560 [05:23<06:27,  5.58it/s]Save data at index 1400 ...\n 42%|████▏     | 1498/3560 [05:45<19:55,  1.72it/s]Save data at index 1500 ...\n 45%|████▍     | 1597/3560 [06:02<12:09,  2.69it/s]Save data at index 1600 ...\n 48%|████▊     | 1699/3560 [06:41<15:29,  2.00it/s]Save data at index 1700 ...\n 50%|█████     | 1797/3560 [07:01<06:51,  4.28it/s]Save data at index 1800 ...\n 53%|█████▎    | 1898/3560 [07:36<03:58,  6.97it/s]Save data at index 1900 ...\n 56%|█████▌    | 1990/3560 [07:52<04:28,  5.84it/s]Save data at index 2000 ...\n 59%|█████▉    | 2099/3560 [08:29<15:42,  1.55it/s]Save data at index 2100 ...\n 62%|██████▏   | 2199/3560 [09:10<06:11,  3.66it/s]Save data at index 2200 ...\n 65%|██████▍   | 2299/3560 [09:46<09:33,  2.20it/s]Save data at index 2300 ...\n 67%|██████▋   | 2400/3560 [10:37<14:41,  1.32it/s]Save data at index 2400 ...\n 70%|███████   | 2496/3560 [11:04<02:48,  6.31it/s]Save data at index 2500 ...\n 73%|███████▎  | 2599/3560 [11:39<07:39,  2.09it/s]Save data at index 2600 ...\n 76%|███████▌  | 2700/3560 [12:29<06:13,  2.30it/s]Save data at index 2700 ...\n 79%|███████▊  | 2796/3560 [13:23<09:51,  1.29it/s]Save data at index 2800 ...\n 81%|████████▏ | 2900/3560 [13:46<03:10,  3.47it/s]Save data at index 2900 ...\n 84%|████████▍ | 3000/3560 [14:24<04:53,  1.91it/s]Save data at index 3000 ...\n 87%|████████▋ | 3100/3560 [15:13<03:01,  2.53it/s]Save data at index 3100 ...\n 90%|████████▉ | 3198/3560 [15:44<01:35,  3.77it/s]Save data at index 3200 ...\n 93%|█████████▎| 3298/3560 [16:13<02:05,  2.09it/s]Save data at index 3300 ...\n 95%|█████████▌| 3398/3560 [16:33<00:36,  4.43it/s]Save data at index 3400 ...\n 98%|█████████▊| 3498/3560 [17:15<00:28,  2.17it/s]Save data at index 3500 ...\n100%|██████████| 3560/3560 [17:32<00:00,  3.38it/s]\n"
    }
   ],
   "source": [
    "lvl_three_file = '/home/paco/Documents/site_similarity/data/scrapping_results/processed level 3 results.json'\n",
    "\n",
    "level_three_scrapping_data = scrapping(lvl_two_data, output_file=lvl_three_file)"
   ],
   "metadata": {
    "collapsed": false,
    "pycharm": {
     "name": "#%%\n"
    },
    "tags": []
   }
  },
  {
   "cell_type": "code",
   "execution_count": 7,
   "outputs": [
    {
     "output_type": "execute_result",
     "data": {
      "text/plain": "10650"
     },
     "metadata": {},
     "execution_count": 7
    }
   ],
   "source": [
    "len(level_three_scrapping_data)"
   ],
   "metadata": {
    "collapsed": false,
    "pycharm": {
     "name": "#%%\n"
    }
   }
  },
  {
   "cell_type": "code",
   "execution_count": 11,
   "outputs": [
    {
     "output_type": "execute_result",
     "data": {
      "text/plain": "{'astrology-zodiac-signs.com': {'site': 'astrology-zodiac-signs.com',\n  'score': [{'url': 'astrology.com',\n    'overlap_score': 69.8,\n    'alexa_rank': 16859.0},\n   {'url': 'compatible-astrology.com',\n    'overlap_score': 65.8,\n    'alexa_rank': 173807.0},\n   {'url': 'astrostyle.com', 'overlap_score': 53.9, 'alexa_rank': 40172.0},\n   {'url': 'thehoroscope.co', 'overlap_score': 46.4, 'alexa_rank': 51746.0},\n   {'url': 'ganeshaspeaks.com', 'overlap_score': 44.5, 'alexa_rank': 13405.0}],\n  'audience_geography': [{'country': 'United States', 'percent': 46.2},\n   {'country': 'India', 'percent': 9.0},\n   {'country': 'Canada', 'percent': 6.9}]},\n 'astrology.com': {'site': 'astrology.com',\n  'score': [{'url': 'astrology-zodiac-signs.com',\n    'overlap_score': 69.8,\n    'alexa_rank': 18913.0},\n   {'url': 'astrostyle.com', 'overlap_score': 59.7, 'alexa_rank': 40172.0},\n   {'url': 'horoscope.com', 'overlap_score': 51.5, 'alexa_rank': 11770.0},\n   {'url': 'ganeshaspeaks.com', 'overlap_score': 49.7, 'alexa_rank': 13405.0},\n   {'url': 'compatible-astrology.com',\n    'overlap_score': 49.4,\n    'alexa_rank': 173807.0}],\n  'audience_geography': [{'country': 'United States', 'percent': 44.8},\n   {'country': 'India', 'percent': 27.1},\n   {'country': 'Canada', 'percent': 5.9}]},\n 'astromatcha.com': {'site': 'astromatcha.com',\n  'score': [{'url': 'compatible-astrology.com',\n    'overlap_score': 38.4,\n    'alexa_rank': 177437.0},\n   {'url': 'ask-oracle.com', 'overlap_score': 38.0, 'alexa_rank': 241371.0},\n   {'url': 'astrology-zodiac-signs.com',\n    'overlap_score': 29.0,\n    'alexa_rank': 19057.0},\n   {'url': 'astrology.com', 'overlap_score': 28.7, 'alexa_rank': 16751.0},\n   {'url': 'metaphoricalplatypus.com',\n    'overlap_score': 24.1,\n    'alexa_rank': 1436645.0}],\n  'audience_geography': []},\n 'ganeshaspeaks.com': {'site': 'ganeshaspeaks.com',\n  'score': [{'url': 'astrology.com',\n    'overlap_score': 49.7,\n    'alexa_rank': 16751.0},\n   {'url': 'astrology-zodiac-signs.com',\n    'overlap_score': 44.5,\n    'alexa_rank': 19057.0},\n   {'url': 'astroyogi.com', 'overlap_score': 42.1, 'alexa_rank': 15111.0},\n   {'url': 'horoscope.com', 'overlap_score': 39.3, 'alexa_rank': 11685.0},\n   {'url': 'astrostyle.com', 'overlap_score': 38.6, 'alexa_rank': 40842.0}],\n  'audience_geography': [{'country': 'India', 'percent': 68.2},\n   {'country': 'United States', 'percent': 14.1},\n   {'country': 'Australia', 'percent': 3.3}]},\n 'astrostyle.com': {'site': 'astrostyle.com',\n  'score': [{'url': 'astrology.com',\n    'overlap_score': 59.7,\n    'alexa_rank': 16751.0},\n   {'url': 'astrology-zodiac-signs.com',\n    'overlap_score': 53.9,\n    'alexa_rank': 19057.0},\n   {'url': 'cafeastrology.com', 'overlap_score': 52.8, 'alexa_rank': 13013.0},\n   {'url': 'horoscope.com', 'overlap_score': 46.7, 'alexa_rank': 11685.0},\n   {'url': 'ganeshaspeaks.com', 'overlap_score': 38.6, 'alexa_rank': 13568.0}],\n  'audience_geography': [{'country': 'United States', 'percent': 53.2},\n   {'country': 'India', 'percent': 16.8},\n   {'country': 'Serbia', 'percent': 4.1}]}}"
     },
     "metadata": {},
     "execution_count": 11
    }
   ],
   "source": [
    "level_three_scrapping_data['compatible-astrology.com']"
   ],
   "metadata": {
    "collapsed": false,
    "pycharm": {
     "name": "#%%\n"
    }
   }
  },
  {
   "cell_type": "markdown",
   "source": [
    "# Check the result data"
   ],
   "metadata": {
    "collapsed": false
   }
  },
  {
   "cell_type": "code",
   "execution_count": 12,
   "outputs": [
    {
     "output_type": "execute_result",
     "data": {
      "text/plain": "[]"
     },
     "metadata": {},
     "execution_count": 12
    }
   ],
   "source": [
    "# Look for empty elements\n",
    "[res for result in level_three_scrapping_data.values() for res in result.values() if res['score'] is None]"
   ],
   "metadata": {
    "collapsed": false,
    "pycharm": {
     "name": "#%%\n"
    }
   }
  },
  {
   "cell_type": "code",
   "execution_count": 13,
   "outputs": [
    {
     "output_type": "execute_result",
     "data": {
      "text/plain": "Counter({5: 49771, 2: 545, 3: 629, 4: 584, 1: 327, 0: 8})"
     },
     "metadata": {},
     "execution_count": 13
    }
   ],
   "source": [
    "# Distribution of the results length\n",
    "\n",
    "from collections import Counter\n",
    "\n",
    "Counter([len(res['score'])\n",
    "         for result in level_three_scrapping_data.values()\n",
    "         for res in result.values()\n",
    "         if res['site'] != 'scandalmedia.wordpress.com'])"
   ],
   "metadata": {
    "collapsed": false,
    "pycharm": {
     "name": "#%%\n"
    }
   }
  },
  {
   "cell_type": "code",
   "execution_count": 14,
   "outputs": [
    {
     "output_type": "execute_result",
     "data": {
      "text/plain": "[{'site': 'nationullnews.com', 'score': [], 'audience_geography': []},\n {'site': 'nullsuchfarms.com', 'score': [], 'audience_geography': []},\n {'site': 'nullsuchltd.com', 'score': [], 'audience_geography': []},\n {'site': 'nationullnews.com', 'score': [], 'audience_geography': []},\n {'site': 'nationullnews.com', 'score': [], 'audience_geography': []},\n {'site': 'nationullnews.com', 'score': [], 'audience_geography': []},\n {'site': 'nationullnews.com', 'score': [], 'audience_geography': []},\n {'site': 'nullws.ca', 'score': [], 'audience_geography': []}]"
     },
     "metadata": {},
     "execution_count": 14
    }
   ],
   "source": [
    "# Records with no Audience overlap\n",
    "\n",
    "[res\n",
    " for result in level_three_scrapping_data.values()\n",
    " for res in result.values()\n",
    " if res['site'] != 'scandalmedia.wordpress.com' and len(res['score']) == 0]\n"
   ],
   "metadata": {
    "collapsed": false,
    "pycharm": {
     "name": "#%%\n"
    }
   }
  },
  {
   "cell_type": "markdown",
   "source": [
    "# Save results from scrapping level 3"
   ],
   "metadata": {
    "collapsed": false
   }
  },
  {
   "cell_type": "code",
   "execution_count": 15,
   "outputs": [],
   "source": [
    "import json\n",
    "\n",
    "with open(\"/home/paco/Documents/site_similarity/data/scrapping_results/processed level 3 results.json\", 'w') as f:\n",
    "    json.dump(level_three_scrapping_data, f, indent=4)\n"
   ],
   "metadata": {
    "collapsed": false,
    "pycharm": {
     "name": "#%%\n"
    }
   }
  },
  {
   "cell_type": "code",
   "execution_count": null,
   "outputs": [],
   "source": [
    "\n"
   ],
   "metadata": {
    "collapsed": false,
    "pycharm": {
     "name": "#%%\n"
    }
   }
  }
 ],
 "metadata": {
  "kernelspec": {
   "display_name": "Python 3.6.10 64-bit ('site_similarity': conda)",
   "language": "python",
   "name": "python361064bitsitesimilarityconda5cc228f1d50144ce9681545e76d7f6e7"
  },
  "language_info": {
   "codemirror_mode": {
    "name": "ipython",
    "version": 2
   },
   "file_extension": ".py",
   "mimetype": "text/x-python",
   "name": "python",
   "nbconvert_exporter": "python",
   "pygments_lexer": "ipython2",
   "version": "3.6.10-final"
  }
 },
 "nbformat": 4,
 "nbformat_minor": 0
}