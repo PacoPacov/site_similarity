{
 "metadata": {
  "language_info": {
   "codemirror_mode": {
    "name": "ipython",
    "version": 3
   },
   "file_extension": ".py",
   "mimetype": "text/x-python",
   "name": "python",
   "nbconvert_exporter": "python",
   "pygments_lexer": "ipython3",
   "version": "3.6.10-final"
  },
  "orig_nbformat": 2,
  "kernelspec": {
   "name": "python361064bitsitesimilarityconda5cc228f1d50144ce9681545e76d7f6e7",
   "display_name": "Python 3.6.10 64-bit ('site_similarity': conda)"
  }
 },
 "nbformat": 4,
 "nbformat_minor": 2,
 "cells": [
  {
   "cell_type": "code",
   "execution_count": 1,
   "metadata": {},
   "outputs": [],
   "source": [
    "import sys,os\n",
    "sys.path.append(\"/home/paco/Documents/site_similarity\")"
   ]
  },
  {
   "cell_type": "code",
   "execution_count": 2,
   "metadata": {},
   "outputs": [],
   "source": [
    "from utils.notebook_utils import load_corpus"
   ]
  },
  {
   "cell_type": "code",
   "execution_count": 4,
   "metadata": {},
   "outputs": [],
   "source": [
    "old_data = load_corpus('modified_corpus.csv')"
   ]
  },
  {
   "cell_type": "code",
   "execution_count": 6,
   "metadata": {},
   "outputs": [
    {
     "output_type": "execute_result",
     "data": {
      "text/html": "<div>\n<style scoped>\n    .dataframe tbody tr th:only-of-type {\n        vertical-align: middle;\n    }\n\n    .dataframe tbody tr th {\n        vertical-align: top;\n    }\n\n    .dataframe thead th {\n        text-align: right;\n    }\n</style>\n<table border=\"1\" class=\"dataframe\">\n  <thead>\n    <tr style=\"text-align: right;\">\n      <th></th>\n      <th>source_url</th>\n      <th>source_url_processed</th>\n      <th>URL</th>\n      <th>fact</th>\n      <th>bias</th>\n    </tr>\n  </thead>\n  <tbody>\n    <tr>\n      <th>0</th>\n      <td>http://www.villagevoice.com/</td>\n      <td>villagevoice.com</td>\n      <td>http://mediabiasfactcheck.com/the-village-voice/</td>\n      <td>HIGH</td>\n      <td>left</td>\n    </tr>\n    <tr>\n      <th>1</th>\n      <td>https://insideclimatenews.org/</td>\n      <td>insideclimatenews.org</td>\n      <td>https://mediabiasfactcheck.com/insideclimate-n...</td>\n      <td>HIGH</td>\n      <td>left-center</td>\n    </tr>\n    <tr>\n      <th>2</th>\n      <td>http://www.fury.news/</td>\n      <td>fury.news</td>\n      <td>http://mediabiasfactcheck.com/fury-news/</td>\n      <td>LOW</td>\n      <td>extreme-right</td>\n    </tr>\n    <tr>\n      <th>3</th>\n      <td>http://now8news.com/</td>\n      <td>now8news.com</td>\n      <td>http://mediabiasfactcheck.com/now8news/</td>\n      <td>LOW</td>\n      <td>center</td>\n    </tr>\n    <tr>\n      <th>4</th>\n      <td>http://constitution.com/</td>\n      <td>constitution.com</td>\n      <td>http://mediabiasfactcheck.com/the-constitution/</td>\n      <td>LOW</td>\n      <td>extreme-right</td>\n    </tr>\n  </tbody>\n</table>\n</div>",
      "text/plain": "                       source_url   source_url_processed  \\\n0    http://www.villagevoice.com/       villagevoice.com   \n1  https://insideclimatenews.org/  insideclimatenews.org   \n2           http://www.fury.news/              fury.news   \n3            http://now8news.com/           now8news.com   \n4        http://constitution.com/       constitution.com   \n\n                                                 URL  fact           bias  \n0   http://mediabiasfactcheck.com/the-village-voice/  HIGH           left  \n1  https://mediabiasfactcheck.com/insideclimate-n...  HIGH    left-center  \n2           http://mediabiasfactcheck.com/fury-news/   LOW  extreme-right  \n3            http://mediabiasfactcheck.com/now8news/   LOW         center  \n4    http://mediabiasfactcheck.com/the-constitution/   LOW  extreme-right  "
     },
     "metadata": {},
     "execution_count": 6
    }
   ],
   "source": [
    "import pandas as pd\n",
    "\n",
    "pd.DataFrame(old_data).head()"
   ]
  },
  {
   "cell_type": "code",
   "execution_count": 7,
   "metadata": {},
   "outputs": [],
   "source": [
    "new_data = load_corpus('new_corpus_2020.csv')"
   ]
  },
  {
   "cell_type": "code",
   "execution_count": 8,
   "metadata": {},
   "outputs": [
    {
     "output_type": "execute_result",
     "data": {
      "text/html": "<div>\n<style scoped>\n    .dataframe tbody tr th:only-of-type {\n        vertical-align: middle;\n    }\n\n    .dataframe tbody tr th {\n        vertical-align: top;\n    }\n\n    .dataframe thead th {\n        text-align: right;\n    }\n</style>\n<table border=\"1\" class=\"dataframe\">\n  <thead>\n    <tr style=\"text-align: right;\">\n      <th></th>\n      <th>source_url</th>\n      <th>source_url_normalized</th>\n      <th>ref</th>\n      <th>fact</th>\n      <th>bias</th>\n    </tr>\n  </thead>\n  <tbody>\n    <tr>\n      <th>0</th>\n      <td>https://crooked.com</td>\n      <td>crooked.com</td>\n      <td>https://mediabiasfactcheck.com/crooked-media/</td>\n      <td>high</td>\n      <td>left</td>\n    </tr>\n    <tr>\n      <th>1</th>\n      <td>http://deepleftfield.info</td>\n      <td>deepleftfield.info</td>\n      <td>https://mediabiasfactcheck.com/deep-left-field/</td>\n      <td>mixed</td>\n      <td>left</td>\n    </tr>\n    <tr>\n      <th>2</th>\n      <td>https://antifascistnews.net</td>\n      <td>antifascistnews.net</td>\n      <td>https://mediabiasfactcheck.com/anti-fascist-news/</td>\n      <td>high</td>\n      <td>left</td>\n    </tr>\n    <tr>\n      <th>3</th>\n      <td>http://www.cnn.com</td>\n      <td>cnn.com</td>\n      <td>http://mediabiasfactcheck.com/cnn/</td>\n      <td>mixed</td>\n      <td>left</td>\n    </tr>\n    <tr>\n      <th>4</th>\n      <td>http://www.allthatsfab.com</td>\n      <td>allthatsfab.com</td>\n      <td>http://mediabiasfactcheck.com/all-thats-fab/</td>\n      <td>mixed</td>\n      <td>left</td>\n    </tr>\n  </tbody>\n</table>\n</div>",
      "text/plain": "                    source_url source_url_normalized  \\\n0          https://crooked.com           crooked.com   \n1    http://deepleftfield.info    deepleftfield.info   \n2  https://antifascistnews.net   antifascistnews.net   \n3           http://www.cnn.com               cnn.com   \n4   http://www.allthatsfab.com       allthatsfab.com   \n\n                                                 ref   fact  bias  \n0      https://mediabiasfactcheck.com/crooked-media/   high  left  \n1    https://mediabiasfactcheck.com/deep-left-field/  mixed  left  \n2  https://mediabiasfactcheck.com/anti-fascist-news/   high  left  \n3                 http://mediabiasfactcheck.com/cnn/  mixed  left  \n4       http://mediabiasfactcheck.com/all-thats-fab/  mixed  left  "
     },
     "metadata": {},
     "execution_count": 8
    }
   ],
   "source": [
    "pd.DataFrame(new_data).head()"
   ]
  },
  {
   "cell_type": "code",
   "execution_count": 9,
   "metadata": {
    "tags": []
   },
   "outputs": [
    {
     "output_type": "stream",
     "name": "stdout",
     "text": "Old data: 1066 New data: 859\n"
    }
   ],
   "source": [
    "print(f\"Old data: {len(old_data)} New data: {len(new_data)}\")"
   ]
  },
  {
   "cell_type": "code",
   "execution_count": 14,
   "metadata": {},
   "outputs": [
    {
     "output_type": "execute_result",
     "data": {
      "text/plain": "['talkingpointsmemo.com',\n 'chroniclesmagazine.org',\n 'swedishwire.com',\n 'judicialnetwork.com',\n 'twitchy.com',\n 'amazingnews.net',\n 'rapidcityjournal.com',\n 'washingtonblade.com',\n 'governing.com',\n 'lohud.com']"
     },
     "metadata": {},
     "execution_count": 14
    }
   ],
   "source": [
    "old_urls = set(row['source_url_processed'] for row in old_data)\n",
    "\n",
    "list(old_urls)[:10]"
   ]
  },
  {
   "cell_type": "code",
   "execution_count": 15,
   "metadata": {},
   "outputs": [
    {
     "output_type": "execute_result",
     "data": {
      "text/plain": "['goodnewsnetwork.org',\n 'talkingpointsmemo.com',\n 'chroniclesmagazine.org',\n 'judicialnetwork.com',\n 'vanityfair.com',\n 'twitchy.com',\n 'thelasource.com',\n 'independentsentinel.com',\n 'scotusblog.com',\n 'splinternews.com']"
     },
     "metadata": {},
     "execution_count": 15
    }
   ],
   "source": [
    "new_urls = set(row['source_url_normalized'] for row in new_data)\n",
    "\n",
    "list(new_urls)[:10]"
   ]
  },
  {
   "cell_type": "code",
   "execution_count": 18,
   "metadata": {},
   "outputs": [
    {
     "output_type": "execute_result",
     "data": {
      "text/plain": "513"
     },
     "metadata": {},
     "execution_count": 18
    }
   ],
   "source": [
    "len(old_urls.intersection(new_urls))"
   ]
  },
  {
   "cell_type": "code",
   "execution_count": 19,
   "metadata": {},
   "outputs": [
    {
     "output_type": "execute_result",
     "data": {
      "text/plain": "{'100percentfedup.com',\n '10news.one',\n '680news.com',\n 'acculturated.com',\n 'aclj.org',\n 'acpeds.org',\n 'adelaidenow.com.au',\n 'adflegal.org',\n 'advocate.com',\n 'aei.org',\n 'afa.net',\n 'afr.com',\n 'ageofshitlords.com',\n 'aim.org',\n 'aina.org',\n 'airwars.org',\n 'alec.org',\n 'allenwestrepublic.com',\n 'allgov.com',\n 'allnewspipeline.com',\n 'allthatsfab.com',\n 'alphanewsmn.com',\n 'alreporter.com',\n 'alternet.org',\n 'altoday.com',\n 'americablog.com',\n 'americanbridgepac.org',\n 'americanconsequences.com',\n 'americanheritage.com',\n 'americanindependent.com',\n 'americanlookout.com',\n 'americanmilitarynews.com',\n 'americanpatriotdaily.com',\n 'americanprogress.org',\n 'americansforprosperity.org',\n 'americanthinker.com',\n 'amgreatness.com',\n 'ammoland.com',\n 'amren.com',\n 'anthropocenemagazine.org',\n 'antifascistnews.net',\n 'aptnnews.ca',\n 'atimes.com',\n 'auburnpub.com',\n 'autostraddle.com',\n 'avoiceformen.com',\n 'bangkokpost.com',\n 'bannedinformation.com',\n 'barenakedislam.com',\n 'bearingarms.com',\n 'beinglibertarian.com',\n 'beliefnet.com',\n 'bettergov.org',\n 'biggovernment.news',\n 'bigleaguepolitics.com',\n 'bipartisanreport.com',\n 'bitchmedia.org',\n 'bizpacreview.com',\n 'bluedotdaily.com',\n 'bluenationreview.com',\n 'bluntforcetruth.com',\n 'boingboing.net',\n 'breitbart.com',\n 'brexitcentral.com',\n 'bullshido.net',\n 'canadafreepress.com',\n 'canadiandimension.com',\n 'capitalresearch.org',\n 'carepublican.com',\n 'carnegieendowment.org',\n 'castanet.net',\n 'ced.org',\n 'censored.news',\n 'change.org',\n 'chinadaily.com.cn',\n 'christianpost.com',\n 'chroniclesmagazine.org',\n 'churchmilitant.com',\n 'cis.org',\n 'citizensunited.org',\n 'cityandstateny.com',\n 'citypaper.com',\n 'clarionproject.org',\n 'clashdaily.com',\n 'climaterealityproject.org',\n 'cnn.com',\n 'cnsnews.com',\n 'codepink.org',\n 'colddeadhands.us',\n 'commentarymagazine.com',\n 'concernedwomen.org',\n 'conservapedia.com',\n 'conservativebase.com',\n 'conservativebyte.com',\n 'conservativedailynews.com',\n 'conservativedailypost.com',\n 'conservativefighters.com',\n 'conservativefiringline.com',\n 'conservativehq.com',\n 'conservativemedia.com',\n 'conservativepost.com',\n 'conservativetoday.com',\n 'consortiumnews.com',\n 'consumerreports.org',\n 'countercurrents.org',\n 'courthousenews.com',\n 'cowgernation.com',\n 'crfb.org',\n 'crimeresearch.org',\n 'crimethinc.com',\n 'crisismagazine.com',\n 'crooksandliars.com',\n 'currentaffairs.org',\n 'curvemag.com',\n 'dailycaller.com',\n 'dailyheadlines.net',\n 'dailykos.com',\n 'dailymail.co.uk',\n 'dailypresser.com',\n 'dailyrecord.co.uk',\n 'dailyrecord.com',\n 'dailysabah.com',\n 'dailysignal.com',\n 'dailysurge.com',\n 'dailytelegraph.com.au',\n 'dailywire.com',\n 'darientimes.com',\n 'dcclothesline.com',\n 'dcwhispers.com',\n 'deadspin.com',\n 'deepleftfield.info',\n 'deepstatenation.com',\n 'defconwarningsystem.com',\n 'defenseone.com',\n 'defiantamerica.com',\n 'democracyguardian.com',\n 'democracynow.org',\n 'democratichub.com',\n 'democraticmoms.com',\n 'democraticunderground.com',\n 'desmogblog.com',\n 'desmoinesregister.com',\n 'donaldtrumpnews.co',\n 'drudge.com',\n 'drudgereport.com',\n 'eaglerising.com',\n 'earthfirstjournal.org',\n 'ebar.com',\n 'economist.com',\n 'ejinsight.com',\n 'electronicintifada.net',\n 'elitedaily.com',\n 'en-volve.com',\n 'en.bbarta24.net',\n 'eng.majalla.com',\n 'erlc.com',\n 'esquire.com',\n 'eurasiagroup.net',\n 'euronews.com',\n 'everydayfeminism.com',\n 'evonomics.com',\n 'express.co.uk',\n 'extranewsfeed.com',\n 'factcheck.org',\n 'fairobserver.com',\n 'fairus.org',\n 'faithwire.com',\n 'feministing.com',\n 'ff.org',\n 'ffrf.org',\n 'filmingcops.com',\n 'financialexpress.com',\n 'firstinfreedomdaily.com',\n 'focusonthefamily.com',\n 'foreignaffairs.com',\n 'foreignpolicyjournal.com',\n 'foreignpolicynews.org',\n 'foxnews.com',\n 'frc.org',\n 'freakoutnation.com',\n 'freebeacon.com',\n 'freedomcrossroads.com',\n 'freedomsfinalstand.com',\n 'freetelegraph.com',\n 'freewestmedia.com',\n 'frontpagemag.com',\n 'fury.news',\n 'gallup.com',\n 'getreligion.org',\n 'girlsjustwannahaveguns.com',\n 'globalintegrity.org',\n 'globalvoices.org',\n 'gopusa.com',\n 'govexec.com',\n 'greenleft.org.au',\n 'guardianlv.com',\n 'hangthebankers.com',\n 'hardnews.network',\n 'harvardpolitics.com',\n 'heartland.org',\n 'heritage.org',\n 'hermancain.com',\n 'hoax-slayer.com',\n 'hoggwatch.com',\n 'home.nra.org',\n 'humanevents.com',\n 'ibleedredwhiteblue.com',\n 'icij.org',\n 'iea.org',\n 'ihypocrite.net',\n 'imowired.com',\n 'independentsentinel.com',\n 'indianexpress.com',\n 'indiatoday.intoday.in',\n 'infogalactic.com',\n 'informationliberation.com',\n 'intellectualtakeout.org',\n 'inthesetimes.com',\n 'investors.com',\n 'iowastartingline.com',\n 'ipatriot.com',\n 'ips-dc.org',\n 'ir.net',\n 'itsgoingdown.org',\n 'iwf.org',\n 'jacobinmag.com',\n 'janes.com',\n 'japantimes.co.jp',\n 'jewwatch.com',\n 'jezebel.com',\n 'jihadwatch.org',\n 'joeforamerica.com',\n 'jordantimes.com',\n 'jpost.com',\n 'judicialnetwork.com',\n 'judicialwatch.org',\n 'kff.org',\n 'knightstemplarinternational.com',\n 'knoxreport.com',\n 'ladylibertysnews.com',\n 'lavendermagazine.com',\n 'leadstories.com',\n 'ledevoir.com',\n 'leftoverrights.com',\n 'legalinsurrection.com',\n 'lewrockwell.com',\n 'lgbtqnation.com',\n 'libcom.org',\n 'liberalamerica.org',\n 'liberalexaminer.com',\n 'libertyhangout.org',\n 'libertyheadlines.com',\n 'libertynation.com',\n 'lifenews.com',\n 'lifesitenews.com',\n 'lifezette.com',\n 'listverse.com',\n 'littlegreenfootballs.com',\n 'louderwithcrowder.com',\n 'magapill.com',\n 'malaysia-today.net',\n 'marketwatch.com',\n 'marxist.com',\n 'mcall.com',\n 'meanlefthook.com',\n 'mediacircus.com',\n 'mediaequalizer.com',\n 'mediashift.org',\n 'memeorandum.com',\n 'memri.org',\n 'mentalfloss.com',\n 'miaminewtimes.com',\n 'middleeastmonitor.com',\n 'mirror.co.uk',\n 'mlive.com',\n 'modernliberals.com',\n 'mondoweiss.net',\n 'morningstaronline.co.uk',\n 'msnbc.com',\n 'nationalcenter.org',\n 'nationaleconomicseditorial.com',\n 'nationalmemo.com',\n 'nationalreview.com',\n 'nationalvanguard.org',\n 'nationofchange.org',\n 'nber.org',\n 'nccivitas.org',\n 'newbernsj.com',\n 'newbostonpost.com',\n 'newint.org',\n 'newpol.org',\n 'newrepublic.com',\n 'news.abs-cbn.com',\n 'news.err.ee',\n 'news.harvard.edu',\n 'news24.com',\n 'newsblaze.com',\n 'newsbusters.org',\n 'newshounds.us',\n 'newsmax.com',\n 'newsnow.co.uk',\n 'newstatesman.com',\n 'newswars.com',\n 'newswithviews.com',\n 'newyorker.com',\n 'nextavenue.org',\n 'niskanencenter.org',\n 'noozhawk.com',\n 'ntknetwork.com',\n 'numbersusa.com',\n 'nzherald.co.nz',\n 'o4anews.com',\n 'oann.com',\n 'oathkeepers.org',\n 'occupydemocrats.com',\n 'onenewsnow.com',\n 'opednews.com',\n 'opensecrets.org',\n 'oppositionreport.com',\n 'opslens.com',\n 'other98.com',\n 'outlook.monmouth.edu',\n 'pastemagazine.com',\n 'patheos.com',\n 'patribotics.blog',\n 'patriotfires.com',\n 'patriotpost.us',\n 'patriotupdate.com',\n 'peacock-panache.com',\n 'people.com',\n 'personalliberty.com',\n 'pewresearch.org',\n 'pgpf.org',\n 'phnompenhpost.com',\n 'photographyisnotacrime.com',\n 'pjmedia.com',\n 'placesjournal.org',\n 'pogo.org',\n 'politicaldig.com',\n 'politicalmayhem.news',\n 'politichicks.com',\n 'politifact.com',\n 'politifeed.net',\n 'popularresistance.org',\n 'poynter.org',\n 'pravdareport.com',\n 'progressive.org',\n 'progressivearmy.com',\n 'progressiveliberal.net',\n 'progressivestoday.com',\n 'progresstribune.com',\n 'projectcensored.org',\n 'projectveritas.com',\n 'prospect.org',\n 'proudemocrat.com',\n 'puppetstringnews.com',\n 'quadrant.org.au',\n 'rantt.com',\n 'rappler.com',\n 'rawstory.com',\n 'readersupportednews.org',\n 'readingthepictures.org',\n 'recode.net',\n 'redalertpolitics.com',\n 'redice.tv',\n 'remnantnewspaper.com',\n 'renewamerica.com',\n 'renewedright.com',\n 'republicanssucks.org',\n 'researchantisemitism.ca',\n 'restoreamericanglory.com',\n 'rewire.news',\n 'ricochet.com',\n 'rightalerts.com',\n 'rightwingnews.com',\n 'rinf.com',\n 'rollcall.com',\n 'ronpaulinstitute.org',\n 'ruthinstitute.org',\n 'salon.com',\n 'samuel-warde.com',\n 'sayfiereview.com',\n 'sbgi.net',\n 'scotsman.com',\n 'scotusblog.com',\n 'sentinelksmo.org',\n 'shareably.net',\n 'shareblue.com',\n 'shtfplan.com',\n 'slate.com',\n 'smirkingchimp.com',\n 'sonorannews.com',\n 'southafricatoday.net',\n 'spectator.org',\n 'spectrumreport.com',\n 'speisa.com',\n 'spiked-online.com',\n 'splinternews.com',\n 'staresattheworld.com',\n 'steadfastandloyal.com',\n 'stimson.org',\n 'stocknewsusa.com',\n 'stonecoldtruth.com',\n 'studionewsnetwork.com',\n 'taipeitimes.com',\n 'takepart.com',\n 'takimag.com',\n 'talkingpointsmemo.com',\n 'teaparty.org',\n 'teapartypatriots.org',\n 'tennesseestar.com',\n 'texasstandard.org',\n 'texastribune.org',\n 'tfp.org',\n 'thatsnonsense.com',\n 'theamericanmirror.com',\n 'thebalance.com',\n 'theblacksphere.net',\n 'theblaze.com',\n 'theburningspear.com',\n 'thecanary.co',\n 'thecipherbrief.com',\n 'thecitizenpress.com',\n 'thedailybeast.com',\n 'thedailyvox.co.za',\n 'thediplomat.com',\n 'theduran.com',\n 'thefederalistpapers.org',\n 'thefloridasqueeze.com',\n 'thegatewaypundit.com',\n 'thegoldwater.com',\n 'theguardiansofdemocracy.com',\n 'thehayride.com',\n 'thehornnews.com',\n 'thejakartapost.com',\n 'thelibertyeagle.com',\n 'thelondoneconomic.com',\n 'themilitant.com',\n 'themillenniumreport.com',\n 'themoderatevoice.com',\n 'thenationalpatriot.com',\n 'thenewamerican.com',\n 'thenewcivilrightsmovement.com',\n 'thenews.com.pk',\n 'thepeoplestruth.com',\n 'thepostemail.com',\n 'thepublicdiscourse.com',\n 'therebel.media',\n 'thereligionofpeace.com',\n 'theresurgent.com',\n 'therightscoop.com',\n 'theskimm.com',\n 'thesternfacts.com',\n 'thesun.co.uk',\n 'thewalrus.ca',\n 'thewrap.com',\n 'thinkprogress.org',\n 'this.org',\n 'timesofindia.indiatimes.com',\n 'tmn.today',\n 'torontosun.com',\n 'towleroad.com',\n 'townhall.com',\n 'transparency.org',\n 'tribunist.com',\n 'triggerreset.net',\n 'trofire.com',\n 'trueactivist.com',\n 'trueviralnews.com',\n 'truth-out.org',\n 'truthbetold.news',\n 'truthdig.com',\n 'truthrevolt.org',\n 'truthuncensored.net',\n 'tvw.org',\n 'twitchy.com',\n 'unclesamsmisguidedchildren.com',\n 'unwatch.org',\n 'unz.com',\n 'upi.com',\n 'uproxx.com',\n 'usasupreme.com',\n 'vdare.com',\n 'verafiles.org',\n 'villagevoice.com',\n 'viralliberty.com',\n 'viralthread.com',\n 'voanews.com',\n 'voiceofeurope.com',\n 'votesmart.org',\n 'vox.com',\n 'washingtonexaminer.com',\n 'washingtonmonthly.com',\n 'washingtonpress.com',\n 'weaselzippers.us',\n 'weeklystandard.com',\n 'weforum.org',\n 'westernjournalism.com',\n 'whowhatwhy.org',\n 'wikitribune.com',\n 'wionews.com',\n 'wn.com',\n 'wnd.com',\n 'wonkette.com',\n 'workers.org',\n 'world.wng.org',\n 'worldpress.org',\n 'wral.com',\n 'wsws.org',\n 'yellowhammernews.com',\n 'yesmagazine.org',\n 'youngcons.com',\n 'zcomm.org'}"
     },
     "metadata": {},
     "execution_count": 19
    }
   ],
   "source": [
    "old_urls.intersection(new_urls)"
   ]
  },
  {
   "cell_type": "code",
   "execution_count": null,
   "metadata": {},
   "outputs": [],
   "source": []
  }
 ]
}