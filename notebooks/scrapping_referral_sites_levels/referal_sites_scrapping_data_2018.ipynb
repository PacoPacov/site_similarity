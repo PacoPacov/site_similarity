{
 "cells": [
  {
   "cell_type": "code",
   "execution_count": 1,
   "metadata": {},
   "outputs": [],
   "source": [
    "import sys, os\n",
    "sys.path.append('/home/paco/Documents/site_similarity')"
   ]
  },
  {
   "cell_type": "code",
   "execution_count": 2,
   "metadata": {
    "tags": []
   },
   "outputs": [
    {
     "name": "stdout",
     "output_type": "stream",
     "text": [
      "1066\n",
      "OrderedDict([('source_url', 'http://www.villagevoice.com/'), ('source_url_processed', 'villagevoice.com'), ('URL', 'http://mediabiasfactcheck.com/the-village-voice/'), ('fact', 'HIGH'), ('bias', 'left')])\n"
     ]
    }
   ],
   "source": [
    "from dataprep.load_annotated_data import load_corpus\n",
    "\n",
    "data_2018 = load_corpus('modified_corpus_2018.csv')\n",
    "print(len(data_2018))\n",
    "print(data_2018[0])"
   ]
  },
  {
   "cell_type": "code",
   "execution_count": 3,
   "metadata": {},
   "outputs": [
    {
     "data": {
      "text/plain": [
       "OrderedDict([('source_url', 'http://www.villagevoice.com/'),\n",
       "             ('source_url_processed', 'villagevoice.com'),\n",
       "             ('URL', 'http://mediabiasfactcheck.com/the-village-voice/'),\n",
       "             ('fact', 'HIGH'),\n",
       "             ('bias', 'left')])"
      ]
     },
     "execution_count": 3,
     "metadata": {},
     "output_type": "execute_result"
    }
   ],
   "source": [
    "data_2018[0]"
   ]
  },
  {
   "cell_type": "code",
   "execution_count": 4,
   "metadata": {},
   "outputs": [
    {
     "data": {
      "text/plain": [
       "[['villagevoice.com', '13.1 k'],\n",
       " ['gothamist.com', '8.5 k'],\n",
       " ['amny.com', '2.1 k'],\n",
       " ['robertchristgau.com', '701'],\n",
       " ['tonyortega.org', '424']]"
      ]
     },
     "execution_count": 4,
     "metadata": {},
     "output_type": "execute_result"
    }
   ],
   "source": [
    "from utils.notebook_utils import get_referral_sites\n",
    "\n",
    "get_referral_sites('villagevoice.com')"
   ]
  },
  {
   "cell_type": "code",
   "execution_count": 5,
   "metadata": {
    "tags": []
   },
   "outputs": [
    {
     "name": "stderr",
     "output_type": "stream",
     "text": [
      "100%|██████████| 1066/1066 [00:00<00:00, 1810.91it/s]\n"
     ]
    }
   ],
   "source": [
    "from tqdm import tqdm\n",
    "\n",
    "referral_sites_2018 = {row['source_url_processed']: get_referral_sites(row['source_url_processed']) for row in tqdm(data_2018)}"
   ]
  },
  {
   "cell_type": "code",
   "execution_count": 6,
   "metadata": {},
   "outputs": [
    {
     "data": {
      "text/plain": [
       "[['villagevoice.com', '13.1 k'],\n",
       " ['gothamist.com', '8.5 k'],\n",
       " ['amny.com', '2.1 k'],\n",
       " ['robertchristgau.com', '701'],\n",
       " ['tonyortega.org', '424']]"
      ]
     },
     "execution_count": 6,
     "metadata": {},
     "output_type": "execute_result"
    }
   ],
   "source": [
    "referral_sites_2018['villagevoice.com']"
   ]
  },
  {
   "cell_type": "code",
   "execution_count": 7,
   "metadata": {},
   "outputs": [
    {
     "data": {
      "text/plain": [
       "[]"
      ]
     },
     "execution_count": 7,
     "metadata": {},
     "output_type": "execute_result"
    }
   ],
   "source": [
    "referral_sites_2018['fury.news']"
   ]
  },
  {
   "cell_type": "code",
   "execution_count": 8,
   "metadata": {},
   "outputs": [
    {
     "data": {
      "text/plain": [
       "113"
      ]
     },
     "execution_count": 8,
     "metadata": {},
     "output_type": "execute_result"
    }
   ],
   "source": [
    "len([res for res in referral_sites_2018.values()  if not res])"
   ]
  },
  {
   "cell_type": "code",
   "execution_count": 9,
   "metadata": {},
   "outputs": [
    {
     "data": {
      "text/plain": [
       "113"
      ]
     },
     "execution_count": 9,
     "metadata": {},
     "output_type": "execute_result"
    }
   ],
   "source": [
    "len([res for res in referral_sites_2018.values()  if len(res) == 0])"
   ]
  },
  {
   "cell_type": "code",
   "execution_count": 10,
   "metadata": {},
   "outputs": [
    {
     "data": {
      "text/plain": [
       "[['dawn.com', '15.4 k'],\n",
       " ['tribune.com.pk', '8.7 k'],\n",
       " ['thenews.com.pk', '3.7 k'],\n",
       " ['nation.com.pk', '3.1 k'],\n",
       " ['pakistantoday.com.pk', '1.5 k']]"
      ]
     },
     "execution_count": 10,
     "metadata": {},
     "output_type": "execute_result"
    }
   ],
   "source": [
    "referral_sites_2018['dawn.com']"
   ]
  },
  {
   "cell_type": "code",
   "execution_count": 11,
   "metadata": {},
   "outputs": [],
   "source": [
    "import json\n",
    "\n",
    "\n",
    "with open(\"/home/paco/Documents/site_similarity/dataset/modified_corpus_2018_referral_sites.json\", 'w') as f:\n",
    "    json.dump(referral_sites_2018, f, indent=4)"
   ]
  },
  {
   "cell_type": "code",
   "execution_count": 12,
   "metadata": {
    "tags": []
   },
   "outputs": [
    {
     "name": "stdout",
     "output_type": "stream",
     "text": [
      "859\n",
      "OrderedDict([('source_url', 'https://crooked.com'), ('source_url_processed', 'crooked.com'), ('URL', 'https://mediabiasfactcheck.com/crooked-media/'), ('fact', 'high'), ('bias', 'left')])\n"
     ]
    }
   ],
   "source": [
    "data2020 = load_corpus('new_corpus_2020.csv')\n",
    "print(len(data2020))\n",
    "print(data2020[0])"
   ]
  },
  {
   "cell_type": "code",
   "execution_count": 13,
   "metadata": {
    "tags": []
   },
   "outputs": [
    {
     "name": "stderr",
     "output_type": "stream",
     "text": [
      "100%|██████████| 859/859 [00:00<00:00, 1982.74it/s]\n"
     ]
    }
   ],
   "source": [
    "from tqdm import tqdm\n",
    "\n",
    "\n",
    "result = {row['source_url_processed']: get_referral_sites(row['source_url_processed']) for row in tqdm(data2020)}"
   ]
  },
  {
   "cell_type": "code",
   "execution_count": 14,
   "metadata": {},
   "outputs": [
    {
     "data": {
      "text/plain": [
       "63"
      ]
     },
     "execution_count": 14,
     "metadata": {},
     "output_type": "execute_result"
    }
   ],
   "source": [
    "len([res for res in result.values()  if not res])"
   ]
  },
  {
   "cell_type": "code",
   "execution_count": 15,
   "metadata": {},
   "outputs": [
    {
     "data": {
      "text/plain": [
       "['deepleftfield.info',\n",
       " 'deepstatenation.com',\n",
       " 'citizencritics.org',\n",
       " 'globalvoices.org',\n",
       " 'leftoverrights.com',\n",
       " 'liberalexaminer.com',\n",
       " 'frnewsreport.com',\n",
       " 'meanlefthook.com',\n",
       " 'modernliberals.com',\n",
       " 'the-daily.buzz']"
      ]
     },
     "execution_count": 15,
     "metadata": {},
     "output_type": "execute_result"
    }
   ],
   "source": [
    "[res for res, res_val in result.items()  if not res_val][:10]"
   ]
  },
  {
   "cell_type": "code",
   "execution_count": 15,
   "metadata": {},
   "outputs": [
    {
     "data": {
      "text/plain": [
       "[]"
      ]
     },
     "execution_count": 15,
     "metadata": {},
     "output_type": "execute_result"
    }
   ],
   "source": [
    "result['deepleftfield.info']"
   ]
  },
  {
   "cell_type": "code",
   "execution_count": 17,
   "metadata": {},
   "outputs": [
    {
     "data": {
      "text/plain": [
       "859"
      ]
     },
     "execution_count": 17,
     "metadata": {},
     "output_type": "execute_result"
    }
   ],
   "source": [
    "len(result)"
   ]
  },
  {
   "cell_type": "code",
   "execution_count": 16,
   "metadata": {},
   "outputs": [],
   "source": [
    "with open(\"/home/paco/Documents/site_similarity/dataset/modified_corpus_2020_referral_sites.json\", 'w') as f:\n",
    "    json.dump(result, f, indent=4)"
   ]
  },
  {
   "cell_type": "code",
   "execution_count": null,
   "metadata": {},
   "outputs": [],
   "source": []
  }
 ],
 "metadata": {
  "kernelspec": {
   "display_name": "Python 3.6.10 64-bit ('site_similarity': conda)",
   "language": "python",
   "name": "python361064bitsitesimilarityconda5cc228f1d50144ce9681545e76d7f6e7"
  },
  "language_info": {
   "codemirror_mode": {
    "name": "ipython",
    "version": 3
   },
   "file_extension": ".py",
   "mimetype": "text/x-python",
   "name": "python",
   "nbconvert_exporter": "python",
   "pygments_lexer": "ipython3",
   "version": "3.6.10"
  }
 },
 "nbformat": 4,
 "nbformat_minor": 2
}
