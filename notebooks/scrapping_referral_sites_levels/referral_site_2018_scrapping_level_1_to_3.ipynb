{
 "cells": [
  {
   "cell_type": "code",
   "execution_count": 1,
   "metadata": {},
   "outputs": [],
   "source": [
    "import sys, os\n",
    "sys.path.append('/home/paco/Documents/site_similarity')"
   ]
  },
  {
   "cell_type": "code",
   "execution_count": 2,
   "metadata": {
    "tags": []
   },
   "outputs": [
    {
     "name": "stdout",
     "output_type": "stream",
     "text": [
      "1062\n"
     ]
    }
   ],
   "source": [
    "import json\n",
    "\n",
    "with open(\"/home/paco/Documents/site_similarity/dataset/modified_corpus_2018_referral_sites.json\") as f:\n",
    "    referral_site_data_2018 = json.load(f)\n",
    "\n",
    "print(len(referral_site_data_2018)) "
   ]
  },
  {
   "cell_type": "code",
   "execution_count": 3,
   "metadata": {
    "tags": []
   },
   "outputs": [
    {
     "name": "stderr",
     "output_type": "stream",
     "text": [
      " 11%|█         | 114/1062 [00:00<00:00, 1121.96it/s]"
     ]
    },
    {
     "name": "stdout",
     "output_type": "stream",
     "text": [
      "Save data at index 0 ...\n",
      "Save data at index 100 ...\n",
      "Save data at index 200 ...\n"
     ]
    },
    {
     "name": "stderr",
     "output_type": "stream",
     "text": [
      " 38%|███▊      | 401/1062 [00:00<00:00, 931.48it/s] "
     ]
    },
    {
     "name": "stdout",
     "output_type": "stream",
     "text": [
      "Save data at index 300 ...\n",
      "Save data at index 400 ...\n",
      "Save data at index 500 ...\n"
     ]
    },
    {
     "name": "stderr",
     "output_type": "stream",
     "text": [
      " 66%|██████▌   | 701/1062 [00:00<00:00, 867.85it/s]"
     ]
    },
    {
     "name": "stdout",
     "output_type": "stream",
     "text": [
      "Save data at index 600 ...\n",
      "Save data at index 700 ...\n"
     ]
    },
    {
     "name": "stderr",
     "output_type": "stream",
     "text": [
      " 85%|████████▍ | 901/1062 [00:01<00:00, 809.97it/s]"
     ]
    },
    {
     "name": "stdout",
     "output_type": "stream",
     "text": [
      "Save data at index 800 ...\n",
      "Save data at index 900 ...\n"
     ]
    },
    {
     "name": "stderr",
     "output_type": "stream",
     "text": [
      "100%|██████████| 1062/1062 [00:01<00:00, 829.63it/s]"
     ]
    },
    {
     "name": "stdout",
     "output_type": "stream",
     "text": [
      "Save data at index 1000 ...\n"
     ]
    },
    {
     "name": "stderr",
     "output_type": "stream",
     "text": [
      "\n"
     ]
    }
   ],
   "source": [
    "from dataprep.alexa_scrapper import scrapping_refferal_site\n",
    "\n",
    "\n",
    "result = scrapping_refferal_site(referral_site_data_2018,\n",
    "                                 output_file='/home/paco/Documents/site_similarity/dataset/modified_corpus_2018_referral_sites_level_1.json')"
   ]
  },
  {
   "cell_type": "code",
   "execution_count": 4,
   "metadata": {},
   "outputs": [
    {
     "data": {
      "text/plain": [
       "2947"
      ]
     },
     "execution_count": 4,
     "metadata": {},
     "output_type": "execute_result"
    }
   ],
   "source": [
    "len(result)"
   ]
  },
  {
   "cell_type": "code",
   "execution_count": 5,
   "metadata": {},
   "outputs": [
    {
     "data": {
      "text/plain": [
       "'fury.news'"
      ]
     },
     "execution_count": 5,
     "metadata": {},
     "output_type": "execute_result"
    }
   ],
   "source": [
    "result['fury.news']"
   ]
  },
  {
   "cell_type": "code",
   "execution_count": 6,
   "metadata": {},
   "outputs": [
    {
     "data": {
      "text/plain": [
       "dict_keys(['gothamist.com', 'amny.com', 'robertchristgau.com', 'tonyortega.org', 'climatecentral.org', 'skepticalscience.com', 'eenews.net', 'carbonbrief.org', 'fury.news', 'notallowedto.com', 'testicularcancer.org', 'boomviral.net', 'donatebits.com', 'zfacts.com', 'eaglerising.com', 'lidblog.com', 'themilreview.com', 'mediaite.com', 'pjmedia.com', 'theamericanmirror.com', 'grabien.com', 'order-order.com', 'conservativehome.com', 'westmonster.com', 'briefingsforbrexit.com', 'frosina.org', 'southasianvoices.org', 'pscore.org', 'albanianstudies.weebly.com', 'theresurgent.com', 'conservativereview.com', 'flagandcross.com', '26thmarines.org', 'loser.com', 'sports-empire.com', 'mmareferee.com', 'comeonblue.com', 'celebio.blogspot.com', 'gulfnews.com', 'khaleejtimes.com', 'arabianbusiness.com', 'government.ae', 'freefacebooktutorials.com', 'resistancereport.com', 'kittyhawkfd.com', 'nfldraft.wiki', 'realfarmacy.com', 'anonhq.com', 'awarenessact.com', 'dailypositiveinfo.com', 'therealnews.com', 'norml.org', 'greensburgdailynews.com', 'grayzoneproject.com', 'macleans.ca', 'nationalobserver.com', 'canadalandshow.com', 'pressprogress.ca', 'tednugent.com', 'nraontherecord.org', 'justbunk.net', 'therealmcteag.com', 'politicalmayhem.news', 'channel4.com', 'sky.com', 'radiotimes.com', 'inews.co.uk', 'dailycaller.com', 'washingtonexaminer.com', 'drudgereport.com', 'dailywire.com', 'stonekettle.com', 'technoccult.net', 'americannewsx.com', 'zalandria.wordpress.com', 'dailyheadlines.net', 'taphaps.com', 'luckypuppy.net', 'usapoliticstoday.org', 'washingtonpost.com', 'npr.org', 'newyorker.com', 'vox.com', 'fellowshipoftheminds.com', 'libertyunyielding.com', 'thenationalsentinel.com', 'dcdirtylaundry.com', 'rushlimbaughsites.com', 'willnotbetelevised.com', 'thechurchofgroove.com', 'leftoverrights.com', 'commondreams.org', 'truthout.org', 'jacobinmag.com', 'dsausa.org', 'orlandosentinel.com', 'abcactionnews.com', 'wfla.com', 'fox13news.com', 'france24-tv.com', 'voiceofeurope.com', 'searchlight-germany.blogspot.com', 'fitnaphobia.com', 'abruptearthchanges.com', 'thegailygrind.com', 'shareblue.com', 'washingtonpress.com', 'sourcepolitics.com', 'dariennewsonline.com', 'darienct.gov', 'darienps.org', 'darienite.com', 'wearechange.org', 'rowdygentleman.com', 'lawofmarkets.com', 'rightreality.us', 'indiatvnews.com', 'abplive.in', 'theweek.in', 'thequint.com', 'muslimmirror.com', 'indembassy.or.kr', 'halalindia.co.in', 'halalindiarestaurant.com', 'amazingnews.net', 'cbc.ca', 'theglobeandmail.com', 'ctvnews.ca', 'globalnews.ca', 'alisonangel.com', 'petshappyhour.com', 'birdbytes.com', 'thevalleyreport.com', 'wafflesatnoon.com', 'hoax-slayer.net', 'thatsnonsense.com', 'onlinethreatalerts.com', 'nra.org', 'nraila.org', 'nrahq.org', 'nrainstructors.org', 'nramemberservices.org', 'dscc.org', 'nvdems.com', 'americanbridge.net', 'coldstonecreameryfranchise.com', 'sun-sentinel.com', 'wftv.com', 'clickorlando.com', 'orlandoweekly.com', 'dw.com', 'radiofarda.com', 'hvylya.net', 'journalist.today', 'newsandstoriesfromusa.com', 'offendedamerica.com', 'calgaryherald.com', 'edmontonsun.com', 'calgary.ca', 'matchsticksandgasoline.com', 'politicsweb.co.za', 'maroelamedia.co.za', 'afriforum.co.za', 'news360.co.za', 'east-west-dichotomy.com', 'muslimcouncilofamerica.org', 'pattberg.org', 'leftyhooligan.wordpress.com', 'ncregister.com', 'catholicherald.co.uk', 'onepeterfive.com', 'complicitclergy.com', 'liberalamerica.life', 'offthemainpage.com', 'reverbpress.news', 'sciencemag.org', 'scientificamerican.com', 'phys.org', 'sciencealert.com', 'wanderlust.com', 'shondaland.com', 'morningbrew.com', 'dojomojo.ninja', 'iowademocrats.org', 'iowagop.org', 'bleedingheartland.com', 'fredhubbell.com', 'deepleftfield.info', 'savourychef.com', 'interbering.com', 'gbam.tv', 'torontospeechtherapy.com', 'nih.gov', 'cdc.gov', 'bmj.com', 'biomedcentral.com', 'guidestar.org', 'charitynavigator.org', 'congress.gov', 'foundationcenter.org', 'abc3340.com', 'wbrc.com', 'alreporter.com', 'altoday.com', 'trump.news', 'groopspeak.com', 'washingtonsources.org', 'trumptweetstoday.com', 'thisdaynews.net', 'brennancenter.org', 'idea.int', 'electproject.org', 'nonprofitvote.org', 'lifenews.com', 'fee.org', 'thefederalistpapers.org', 'babylonbee.com', 'conservativepost.com', 'livetrucking.com', 'standunited.org', 'conservativemedia.com', 'eia.gov', 'oil-price.net', 'opec.org', 'ogj.com', 'foreignaffairs.com', 'project-syndicate.org', 'atlanticcouncil.org', 'belfercenter.org', 'gawken.com', 'thegatewaypundit.com', 'theconservativetreehouse.com', 'truepundit.com', 'ilovemyfreedom.org', 'usatoday.com', 'chron.com', 'abc15.com', 'bizfluent.com', 'leftsideofhistory.com', 'tapwires.com', 'fuckyourpoliticalcorrectness.com', 'marxist.com', 'isreview.org', 'climateandcapitalism.com', 'mronline.org', 'infowars.com', 'prisonplanet.com', 'brighteon.com', 'infowarsstore.com', 'laprogressive.com', 'greatseal.com', 'billieholiday.com', 'progressive.insurance', 'freedomoutpost.com', 'pensitoreview.com', 'rightedition.com', 'mariettaoh9-12project.com', 'sentientmedia.org', 'animalclock.org', 'animalmatters.org', 'terngoods.com', 'durangobill.com', 'whenpigsfly.bz', 'thelotteryweb.com', 'mypigmeup.com', 'thedailybeast.com', 'politico.com', 'msnbc.com', 'thehill.com', 'theuptake.org', 'alphanewsmn.com', 'jimhagedorn.org', 'checkmylegislator.org', 'brokenworldnews.com', 'globaltimes.cn', 'thediplomat.com', 'eastasiaforum.org', 'asiatimes.com', 'patriotfires.com', 'grants.gov', 'downsizinggovernment.org', 'diplopundit.net', 'performance.gov', 'dennismichaellynch.com', 'newscurrents.com', 'bingweeklyquiz.com', 'inticweb.com', 'conservative101.com', 'nnuya.com', 'dailyheadlinesnow.com', 'seriesworldcollege.de', 'grabyourwallet.org', 'newslegit.com', 'investingadvicewatchdog.com', 'boycottleftwingers.com', 'democraticreview.com', 'medicalnewstoday.com', 'health.com', 'everydayhealth.com', 'health24.com', 'forwardprogressives.com', 'americannews.com', 'cortarts.com', 'heavy.com', 'inquisitr.com', 'etonline.com', 'hollywoodlife.com', 'japan-guide.com', 'japantoday.com', 'gaijinpot.com', 'soranews24.com', 'chicksontheright.com', 'wtc7.net', '911review.com', 'ifamericaknew.org', 'israeladvocacy.net', 'sciencenews.org', 'nautil.us', 'physicsworld.com', 'backreaction.blogspot.com', 'huffingtonpost.com', 'cosmopolitan.com', 'bustle.com', 'buzzfeednews.com', 'harvardpolitics.com', 'newsuptoday.com', 'biology4kids.com', 'wilderdom.com', 'whatarethe7continents.com', 'biologywise.com', 'viralcords.com', 'globalchange.gov', 'climate.gov', 'earthtime.org', 'ktiv.com', 'siouxlandnews.com', 'sioux-city.org', 'nwestiowa.com', 'tabletmag.com', 'mosaicmagazine.com', 'amgreatness.com', 'spectator.us', 'hemaven.net', 'rsf.org', 'freedomhouse.org', 'ifex.org', 'globalmarinenet.com', 'theaustralian.com.au', 'heraldsun.com.au', 'dailytelegraph.com.au', 'couriermail.com.au', 'americanprogress.org', 'cbpp.org', 'cepr.net', 'equitablegrowth.org', 'nationaljournal.com', 'nytco.com', 'theresumator.com', 'atlantic57.com', 'nationmultimedia.com', 'thaivisa.com', 'khaosodenglish.com', 'thethaiger.com', 'bigamericannews.com', 'bps.org.uk', 'neurosciencenews.com', 'beckleyfoundation.org', 'psychedelictimes.com', 'christianitytoday.com', 'crosswalk.com', 'openbible.info', 'whatchristianswanttoknow.com', 'worldarchitecture.org', 'grahamfoundation.org', 'harvarddesignmagazine.org', 'damnationfilm.com', 'robertcoss.com', 'rbgshirts.com', 'rdtdaily.com', 'religionnews.com', 'guttmacher.org', 'abort73.com', 'plannedparenthoodaction.org', 'stotan.org', 'defconlevel.com', 'eam.watch', 'skykingradio.blogspot.com', 'nature.com', 'plos.org', 'cell.com', 'jbc.org', 'truthexaminer.com', 'reuters.com', 'jpost.com', 'foreignpolicy.com', 'haaretz.com', 'yiannopoulos.net', 'modnet.com.au', 'milo-inc.com', 'spectator-usa.com', 'ecolesbovego.wordpress.com', 'idahostatesman.com', 'ktvb.com', 'idahopress.com', 'kmvt.com', 'skepdic.com', 'csicop.org', 'michaelshermer.com', 'tfes.org', 'cnbc.com', 'nasdaq.com', 'fool.com', 'seekingalpha.com', 'abriluno.com', 'mlive.com', 'freep.com', 'clickondetroit.com', 'wxyz.com', 'novascotia.ca', 'halifax.ca', 'thecoast.ca', 'halifaxtoday.ca', 'consortiumnews.com', 'russia-insider.com', 'strategic-culture.org', 'thesaker.is', 'bigleaguepolitics.com', 'davidharrisjr.com', 'teapartypac.org', 'teapartyinfo.org', 'onenewsnow.com', 'afa.net', 'campaignlifecoalition.com', 'stocksnewsdaily.com', 'pubpeer.com', 'retractiondatabase.org', 'forbetterscience.com', 'scirev.org', 'unian.info', 'euromaidanpress.com', '112.international', 'ukrinform.net', 'mimesislaw.com', 'njlp.org', 'blackcoatmedia.org', 'calro.org', 'americanthinker.com', 'thefederalist.com', 'factcheck.org', 'ctcd.edu', 'uawire.org', 'leadstories.com', 'conservativebyte.com', 'senate.gov', 'globalsecurity.org', 'dtic.mil', 'everycrsreport.com', 'middleeasteye.net', 'washingtoninstitute.org', 'middleeastmonitor.com', 'ahvalnews.com', 'georgetakei.com', 'comicsands.com', 'guacamoley.com', 'percolately.com', 'in.gov', 'indystar.com', 'wthr.com', 'theindychannel.com', 'labour.org.uk', 'labourlist.org', 'politicshome.com', 'skwawkbox.org', 'c2es.org', 'theproudliberal.org', 'carolinajournal.com', 'ncpolicywatch.org', 'nccapitolconnection.com', 'wakeed.org', 'nbcnews.com', 'miacms.org', 'digitalmarketingplan.net', 'kehoachviet.com', 'tunguyenhoc.wordpress.com', 'foxnews.com', 'people.com', 'tmz.com', 'pagesix.com', 'advocate.com', 'towleroad.com', 'pinknews.co.uk', 'queerty.com', 'beaware.one', 'liberalsociety.com', 'foodgrainsbank.ca', 'cidpnsi.ca', 'urbanfutures.com', 'surlyhamiltonian.blogspot.com', 'noozhawk.com', 'ksby.com', 'keyt.com', 'lompocrecord.com', 'eurasianet.org', 'eurasiareview.com', 'carnegieeurope.eu', 'waynedupree.com', 'dc-chronicle.com', 'cnn.com', 'dailymail.co.uk', 'telegraph.co.uk', 'theguardian.com', 'sourcewatch.org', 'wattsupwiththat.com', 'heartland.org', 'insideclimatenews.org', 'marginalrevolution.com', 'lp.org', 'cato-unbound.org', 'bleedingheartlibertarians.com', 'nationalgeographic.com', 'sciencedaily.com', 'livescience.com', 'venezuelanalysis.com', 'links.org.au', 'newmatilda.com', 'statesman.com', 'culturemap.com', 'houstonchronicle.com', 'texastribune.org', 'tass.com', 'fort-russ.com', 'indianexpress.com', 'news18.com', 'timesnownews.com', 'indiatoday.in', 'ptleader.com', 'clallam.net', 'sequimgazette.com', 'portangeles.org', 'thesun.co.uk', 'express.co.uk', 'metro.co.uk', 'bilingualkidspot.com', 'oldhollywoodfilms.com', 'oldsouthhigh.com', 'londonwebnews.com', 'americanewscentral.com', 'indilens.net', 'livevsfox.ca', 'ketepaultals.wordpress.com', 'dailyhaymaker.com', 'triadconservative.com', 'realfactsnc.com', 'stampncblue.org', 'fresnostate.edu', 'abc30.com', 'kmph.com', 'yourcentralvalley.com', 'greatamericandaily.com', 'offthewire.com', 'blackeyepolitics.com', 'deepstatejournal.com', 'finlandforum.org', 'expat-finland.com', 'finlandtoday.fi', 'newsnowfinland.fi', 'aljazeera.com', 'wnyc.org', 'cfr.org', 'iccrimea.org', 'dickwhitereferrals.com', 'tribunemag.co.uk', 'ksvy.org', 'breitbart.com', 'townhall.com', 'nd.gov', 'inforum.com', 'grandforksherald.com', 'kfyrtv.com', 'researchantisemitism.ca', 'bipartisanreport.com', 'ifyouonlynews.com', 'bluedotdaily.com', 'huffingtonpost.co.za', 'sanews.gov.za', 'nsfas.org.za', 'witn.com', 'wcti12.com', 'cravencountync.gov', 'newbernnow.com', 'politics.com.ph', 'raissarobles.com', 'pinoyakoblog.com', 'memebuster.net', 'onemillionmoms.com', 'afr.net', 'afasv.net', 'freedomcrossroads.com', 'independent.com', 'countyofsb.org', 'edhat.com', 'dailydems.com', 'firstthings.com', 'catholicworldreport.com', 'thecatholicthing.org', 'centerfornewsliteracy.org', 'newslit.org', 'literacyprojectfoundation.org', 'literacyproject.org', 'newsobserver.com', 'charlotteobserver.com', 'abc11.com', 'cbs17.com', 'democraticcoalition.org', 'dworkinreport.com', 'shugerblog.com', 'capitalresearch.org', 'cchrint.org', 'cchrflorida.org', 'econewsmedia.org', 'healthcare.gov', 'commonwealthfund.org', 'medicaid.gov', 'healthinsurance.org', 'conservativeread.com', 'aelieve.com', 'thenewrevere.com', 'progressive-sites.net', 'antennasdirect.com', 'best-hd-antenna.com', 'disablemycable.com', 'dennysantennaservice.com', 'investopedia.com', 'bankrate.com', 'nerdwallet.com', 'cbn.com', 'christiantoday.com', 'charismanews.com', 'breakingdefense.com', 'pogoblog.typepad.com', 'contractormisconduct.org', 'f35.com', 'frontpagemag.com', 'blacklistednews.com', 'stevequayle.com', 'gellerreport.com', 'mirror.co.uk', 'dailystar.co.uk', 'lifesitenews.com', 'allabouthistory.org', 'sexchangeregret.com', 'nbclosangeles.com', 'ktla.com', 'ocweekly.com', 'abc7.com', 'financialsecrecyindex.com', 'ibfd.org', 'mnetax.com', 'cadesky.tax', 'nytimes.com', 'independent.co.uk', 'nbc29.com', 'c-ville.com', 'virginiasports.com', 'cvilletomorrow.org', 'marxists.org', 'versobooks.com', 'theanarchistlibrary.org', 'spiegel.de', 'welt.de', 'sueddeutsche.de', 'faz.net', 'katu.com', 'kgw.com', 'opb.org', 'kptv.com', 'newswithviews.com', 'votility.com', 'eurasia.org', 'oxan.com', 'ianbremmer.com', 'gzeromedia.com', 'survivalblog.com', 'prepperwebsite.com', 'survivaltop50.com', 'theorganicprepper.com', 'nationalreview.com', 'freebeacon.com', 'rare.us', 'theminorityreportblog.com', 'usa2019news.blogspot.com', 'architectureworld.me', 'pv-magazine.com', 'utilitydive.com', 'solarpowerworldonline.com', 'energysage.com', 'china.org.cn', 'ecns.cn', 'theeastafrican.co.ke', 'cgtn.com', 'lse.ac.uk', 'newstatesman.com', 'politico.eu', 'defensenews.com', 'defenseone.com', 'usni.org', 'c4isrnet.com', 'newsbreakshere.com', 'egypttoday.com', 'egyptindependent.com', 'cairoscene.com', 'enterprise.press', 'thebullelephant.com', 'ussanews.com', 'pacificpundit.com', 'redauthority.com', 'cjr.org', 'niemanlab.org', 'ijnet.org', 'americanpressinstitute.org', 'addictinginfo.org', 'surenews.com', 'armyrecognition.com', 'defenseindustrydaily.com', 'defence-blog.com', 'bizstandardnews.com', 'realtimetrump.com', 'novaholisticjournal.com', 'truthexam.com', 'watoday.com.au', 'perthnow.com.au', '9news.com.au', 'usaconservativereport.com', 'kttc.com', 'kaaltv.com', 'kimt.com', 'rochestermn.gov', 'enbridge.com', 'flowforwater.org', 'greatlakesnow.org', 'michiganoilandgas.org', 'iwforum.org', 'electwomen.com', 'iwv.org', 'duffyforwisconsin.com', 'uscentrist.org', 'moderatevoters.org', 'americanmoderateparty.org', 'uniters.org', 'fpif.org', 'armscontrol.org', 'inequality.org', 'brookings.edu', 'cato.org', 'dailysignal.com', 'constitutioncenter.org', 'historynet.com', 'gilderlehrman.org', 'allthingsliberty.com', 'battlefields.org', 'brexitcentral.com', 'leave.eu', 'marchtoleave.com', 'thebrexitparty.org', 'tourismcambodia.com', 'khmertimeskh.com', 'cambodiadaily.com', 'opendevelopmentcambodia.net', 'counterpunch.org', 'activistpost.com', 'amren.com', 'redicemembers.com', 'antifascistnews.net', 'ynetnews.com', 'israelnationalnews.com', 'washingtontimes.com', 'theblaze.com', 'northerner.com', 'oralhealthamerica.org', 'snuson.com', 'killthecan.org', 'obamaconspiracy.org', 'wtpotus.wordpress.com', 'unclesamsmisguidedchildren.com', 'tipolitics.com', 'jobsinstockholm.com', 'overseas-exile.com', 'amcham.se', 'englishjobs.se', 'thesocietypages.org', 'aucd.org', 'nda.ie', 'meriahnichols.com', 'dailypress.com', 'wavy.com', 'wtkr.com', '13newsnow.com', 'regex.info', 'fotoforensics.com', 'k-z.com.ua', 'findexif.com', 'sana.sy', 'moonofalabama.org', 'liveuamap.com', 'southfront.org', 'cbo.gov', 'nationalpriorities.org', 'crfb.org', 'usgovernmentspending.com', 'alienresistance.org', 'serialbox.com', 'thewildvoice.org', 'thebiblicalworldview.org', 'progresstribune.com', 'irc-online.org', 'defenddemocracy.org', 'lobelog.com', 'conservativetransparency.org', 'islamophobianetwork.com', 'michigan.gov', 'detroitnews.com', 'ri.gov', 'wpri.com', 'turnto10.com', 'golocalprov.com', 'afldc.org', 'alexminasian.com', 'debatereport.com', 'democracynow.org', 'au.org', 'atheists.org', 'celebatheists.com', 'trofire.com', 'vermontrepublic.org', 'considertheproduct.com', 'vermontindependent.net', 'greenmountaincbd.myshopify.com', 'argusleader.com', 'keloland.com', 'kotatv.com', 'newscenter1.tv', 'avclub.com', 'clickhole.com', 'projectvote.org', 'walmartone.com', 'peoplespolicyproject.org', 'radio-canada.ca', 'lapresse.ca', 'journaldemontreal.com', 'tvanouvelles.ca', 'cnycentral.com', 'localsyr.com', 'cityandstateny.com', 'cayugacounty.us', 'joannenova.com.au', 'catallaxyfiles.com', 'michaelsmithnews.com', 'pygmies.org', 'emptywheel.net', 'palmerreport.com', 'adfontesmedia.com', 'teapainusa.wordpress.com', 'thebackbencher.co.uk', 'kippercentral.com', 'politicalite.com', 'peoplescharter.org', 'usasupreme.com', 'bannedinformation.com', 'revengeofthecis.com', 'theturfsports.com', 'wsj.com', 'marketwatch.com', 'anarchistnews.org', 'unicornriot.ninja', 'officialproudboys.com', 'republicanssucks.org', 'cis.org', 'fairus.org', 'immigrationimpact.com', 'americanimmigrationcouncil.org', 'itsgoingdown.org', 'angrywhitemen.org', 'rosecityantifa.org', 'torchantifa.org', 'ky.gov', 'courier-journal.com', 'wkyt.com', 'lex18.com', 'heritage.org', 'cnsnews.com', 'kentucky.com', 'wave3.com', 'wdrb.com', 'wlky.com', 'gov.bc.ca', 'straight.com', 'vancourier.com', 'dailyhive.com', 'vancouversun.com', 'vicnews.com', 'cheknews.ca', 'victoriabuzz.com', 'medicalxpress.com', 'nextbigfuture.com', 'sciencex.com', 'njherald.com', 'newjerseyhills.com', 'tapinto.net', 'morriscountynj.gov', 'vivaliberty.com', 'thehindu.com', 'hindustantimes.com', 'newindianexpress.com', 'supremecourt.gov', 'oyez.org', 'harvardlawreview.org', 'quimbee.com', 'scpr.org', 'earthjustice.org', 'indianz.com', 'denverite.com', 'friendsofthesmokies.org', 'torontosun.com', 'citynews.ca', 'cp24.com', 'iheartradio.ca', 'deadspin.com', 'theroot.com', 'splinternews.com', 'theinventory.com', 'isidewith.com', 'whales.org', 'elemental.green', 'whalefacts.org', 'aeon.co', 'longreads.com', 'quantamagazine.org', 'fs.blog', 'post-gazette.com', 'wpxi.com', 'wtae.com', 'pghcitypaper.com', 'johnrlott.blogspot.com', 'gunfacts.info', 'winteryknight.com', 'armedwithreason.com', 'norwaynews.com', 'norwaypost.com', 'nordenbladet.com', 'rachelmaecohen.com', 'isna.ir', 'mashreghnews.ir', 'sputniknews.com', 'pa.gov', 'mcall.com', 'lancasteronline.com', 'abc27.com', 'chuckgallagher.com', 'politicalcult.com', 'newlifetaxresolutions.com', 'freshmannatoday.wordpress.com', 'wral.com', 'heraldsun.com', 'yellowhammernews.com', 'birminghamwatch.org', 'aldailynews.com', 'quillette.com', 'capx.co', 'ifreetrade.org', 'propertychronicle.com', 'conservativefighters.com', 'conservativefighters.org', 'patriotbeat.com', 'politiciandirect.com', 'dailysquib.co.uk', 'newsthump.com', 'ronsrants.wordpress.com', 'puttincologneontherickshaw.com', 'iol.co.za', 'timeslive.co.za', 'fin24.com', 'ewn.co.za', 'latimes.com', 'cbsnews.com', 'suntimes.com', 'lbc.co.uk', 'theneweuropean.co.uk', 'voxpoliticalonline.com', 'sfpride.org', 'sfbaytimes.com', '48hills.org', 'voxpublica.org', 'consmovement.com', 'youngcons.com', 'todaysinfo.net', 'huntingmark.com', 'demographicdata.org', 'ipolitics.ca', 'thepostmillennial.com', 'spencerfernando.com', 'capforcanada.com', 'abs-cbn.com', 'rappler.com', 'gmanetwork.com', 'philstar.com', 'canadacurrency.com', 'charlotteinjurylawyersblog.com', 'muzeum.ca', 'eastcoastcoins.ca', 'christojeanneclaude.net', 'internationalviewpoint.org', 'ft.com', 'qz.com', 'thenation.com', 'catholicnewsagency.com', 'churchmilitant.com', 'spaceflightnow.com', 'spacenews.com', 'nasaspaceflight.com', 'teslarati.com', 'snopes.com', 'nashvillepost.com', 'nashvillepublicradio.org', 'tnjournal.net', 'billlee.com', 'bizpacreview.com', 'louderwithcrowder.com', 'tvnewscheck.com', 'sinclairoil.com', 'stationindex.com', 'alliedprogress.org', 'jampac.us', 'gainesvilleiguana.org', 'floridalgbtademocrats.org', 'progressivefl.org', 'caravanmagazine.in', 'roundtableindia.co.in', 'nationalheraldindia.com', 'sabrangindia.in', 'crikey.com.au', 'getup.org.au', 'independentaustralia.net', 'theaimn.com', 'techcrunch.com', 'engadget.com', 'digitaltrends.com', 'techradar.com', 'theamericanmuslim.org', 'islamophobia.org', 'spencerwatch.com', 'tribune.com.pk', 'thenews.com.pk', 'nation.com.pk', 'pakistantoday.com.pk', 'asexuality.org', 'itspronouncedmetrosexual.com', 'thebodyisnotanapology.com', 'bitchmedia.org', 'economist.com', 'worldbank.org', 'oecd.org', 'mckinsey.com', 'answering-islam.org', 'wikiislam.net', 'muslimfact.com', 'discover-the-truth.com', 'jihadwatch.org', 'gatestoneinstitute.org', 'scotusblog.com', 'billofrightsinstitute.org', 'judicialwatch.org', 'whatfinger.com', 'ellacruz.org', 'worldofsolitaire.com', 'kt9267.com', 'clkdr.com', 'cmindtrack.net', 'linode.com', 'letsencrypt.org', 'firstpartysimulator.net', 'firstpartysimulator.org', 'accessible-archives.com', 'macarthurmemorial.org', 'macarthurco.com', 'jeffstier.org', 'thepeoplesview.net', 'realhistoryarchives.blogspot.com', 'searavenpress.com', 'thefreedomfriend.com', 'lrb.co.uk', 'nplusonemag.com', 'currentaffairs.org', 'tehrantimes.com', 'hoggwatch.com', 'cjocfm.com', 'lethbridgenewsnow.com', 'gonebutnotforgotten.ca', 'cornerstonefuneralhome.com', 'wday.com', 'kvrr.com', 'kuow.org', 'mynorthwest.com', 'capitolhillseattle.com', 'theurbanist.org', 'redwhiteandright.com', 'newsfilter.org', 'nothingtoxic.com', 'wetsins.com', 'bustedlocals.com', 'bpnews.net', 'albertmohler.com', 'harvestbiblechapel.org', 'wng.org', 'julieroys.com', 'realcleardefense.com', 'unclosdebate.org', 'indigenousaction.org', 'efniks.com', 'whiteaccomplices.org', 'racialjusticeallies.org', 'leftscoop.com', 'deseretnews.com', 'ksl.com', 'kutv.com', 'fox13now.com', 'americanprophet.org', 'prophecyupdate.blogspot.com', 'europeanknightsproject.com', 'mamalitathebook.com', 'dailyillini.com', 'smilepolitely.com', 'fightingillini.com', 'champaignil.gov', 'filmingcops.com', 'leoroundtable.com', 'studio-news.com', 'followxmexdownxthexrabbitxholeblog.wordpress.com', 'philly.com', 'pennlive.com', 'lehighvalleylive.com', 'wfmz.com', 'joeforamerica.com', 'hurriyetdailynews.com', 'aa.com.tr', 'turkpress.co', 'grabon.in', 'raftaar.in', 'filmibeat.com', 'shabdkosh.com', 'thedailymash.co.uk', 'thelondoneconomic.com', 'bullshitnews.org', 'talkorigins.org', 'icr.org', 'evolutionnews.org', 'biologos.org', 'rawconservativeopinions.com', 'patriotpulse.net', 'culturewatchnews.com', 'u4.no', 'business-anti-corruption.com', 'corruptionwatch.org.za', 'mentalhealthamerica.net', 'beyondblue.org.au', 'psycom.net', 'anxietycentre.com', 'salon.com', 'dailykos.com', 'thinkprogress.org', 'rawstory.com', 'saraacarter.com', 'explainlife.com', 'capitolweekly.net', 'flashreport.org', 'capoliticalreview.com', 'californiapolicycenter.org', 'mercurynews.com', 'sacbee.com', 'nbcbayarea.com', 'abc7news.com', 'progressivestoday.com', 'sevenstories.com', 'solari.com', 'aardvark.co.nz', 'waterpoweredcar.com', 'prwatch.org', 'jcf.org', 'investigaterussia.org', 'inc.com', 'hbr.org', 'themuse.com', 'black-iris.com', 'fookembug.wordpress.com', 'the-atheist.com', 'thinkingthroughchristianity.com', 'baltimore.org', 'baltimorefishbowl.com', 'baltimorebrew.com', 'baltimoremagazine.com', 'barenakedislam.com', 'thepeoplestruth.com', 'business-standard.com', 'livemint.com', 'moneycontrol.com', 'businesstoday.in', 'thepoliticalinsider.com', '100percentfedup.com', 'scholarsandrogues.com', 'intrepidreport.com', 'all-hat-no-cattle.blogspot.com', 'pmcarpenter.com', 'caltax.org', 'oralhealthworkforce.org', 'notmytollroad.com', 'thetollroadsblog.com', 'daveyd.com', 'manuampim.com', 'blackmeninamerica.com', 'lojsociety.org', 'mu.nu', 'americanlibertyreport.com', 'conservativezone.com', 'headlinehealth.com', 'therightwingdaily.com', 'mediamatters.org', 'politicususa.com', 'rightwingwatch.org', 'joemygod.com', 'dctribune.org', 'vt.co', 'providr.com', 'junglecreations.com', 'auntyacid.com', 'kinseyinstitute.org', 'blackgenocide.org', 'rtl.org', 'theonion.com', 'twitlonger.com', 'ssbwiki.com', 'smash.gg', 'wyo.gov', 'wyomingnews.com', 'wyomingpublicmedia.org', 'k2radio.com', 'campusreform.org', 'hoax-slayer.com', 'truthorfiction.com', 'hoaxorfact.com', '9news.com', 'westword.com', 'thedenverchannel.com', 'kdvr.com', 'aporrea.org', 'eluniversal.com', 'el-nacional.com', 'elnuevoherald.com', 'fansided.com', 'decider.com', 'whats-on-netflix.com', 'confirmkavanaugh.com', 'confirmgorsuch.com', 'vettingroom.org', 'talkingpointsmemo.com', 'actblue.com', 'europenews.dk', 'savemysweden.com', 'asylkaos.wordpress.com', 'dancingfromgenesis.wordpress.com', 'montreal.qc.ca', 'mtlblog.com', 'dnaindia.com', 'scroll.in', 'tcnj.edu', 'rider.edu', 'monmouth.edu', 'legalbluebook.com', 'liveaction.org', 'elmundo.es', 'abc.es', 'lavanguardia.com', 'elconfidencial.com', 'theyoungturks.co.uk', 'tyt.com', 'shoptyt.com', 'whatistyt.com', 'monsanto.com', 'nongmoproject.org', 'responsibletechnology.org', 'gmoanswers.com', 'groupninemedia.com', 'cayennediane.com', 'basementalcc.com', 'pepperhead.com', 'againstcronycapitalism.org', 'jenkuznicki.com', 'ghost.report', 'exposingmodernmugwumps.com', 'vichygop.wordpress.com', 'cdnmedhall.org', 'diabetescommunity.com', 'cancelkavanaugh.com', 'bantinghousenhsc.wordpress.com', 'motherjones.com', 'axios.com', 'rootforamerica.com', 'usobserver.com', 'cdrkerchner.wordpress.com', 'draarondraper.com', 'dallasnews.com', 'wfaa.com', 'nbcdfw.com', 'fox4news.com', 'trumpservativenews.info', 'viraldevil.com', 'credoaction.com', 'democracyforamerica.com', 'withhonor.org', 'newpolitics.org', 'westernjournal.com', 'twitchy.com', 'chicksonright.com', 'businessinsider.com', 'manwardpress.com', 'americanpolling.org', 'thecitypaperbogota.com', 'financecolombia.com', 'thebogotapost.com', 'off2colombia.com', 'desiringgod.org', 'familylife.com', 'newsweek.com', 'gamerant.com', 'rightalerts.com', 'americanow.com', 'allthatsnews.com', 'disenfranchisedfather.blogspot.com', 'fallbrook247.com', 'globetoday.com', 'ops-alaska.com', 'tearsinthefence.com', 'bostonartsdiary.com', 'oneyearinbooks.blogspot.com', 'newrepublic.com', 'epi.org', 'migrationpolicy.org', 'immigrationforum.org', 'legalinsurrection.com', 'homedepot.com', 'gardeningknowhow.com', 'thespruce.com', 'hunker.com', 'forbes.com', 'deepstatenation.com', 'nanotechnews.com', 'investomania.co.uk', 'edkrassenstein.com', 'brian-krassenstein.wikidot.com', 'refinery29.com', 'thoughtcatalog.com', 'chroniclesofdemocracy.com', 'billingsgazette.com', 'missoulian.com', 'helenair.com', 'greatfallstribune.com', 'vanityfair.com', 'vulture.com', 'gq.com', 'thrillist.com', 'unz.com', 'lewrockwell.com', 'vdare.com', 'westhunt.wordpress.com', 'magapill.com', '10news.dk', 'ericallenbell.com', 'diamondandsilk.com', 'diamondandsilkinc.com', 'deplorabledigest.com', 'gallup.com', 'rasmussenreports.com', '270towin.com', 'cookpolitical.com', 'beforeitsnews.com', 'latest.com', 'pmnightlynews.com', 'companycheck.co.uk', 'yellow.com.mt', 'opencorporates.com', 'privatebanking.com', 'bom.gov.au', 'weatherzone.com.au', 'willyweather.com.au', 'nine.com.au', 'blacklivesmatter.com', 'cowspiracy.com', 'brycchancarey.com', 'openborders.info', 'usmagazine.com', 'monstersandcritics.com', 'fortworth.com', 'fwtx.com', 'fortworthbusiness.com', 'dfwi.org', 'edmunds.com', 'cars.com', 'kbb.com', 'thewirecutter.com', 'thedenverherald.com', 'patroldog.net', 'dispatchesfromexile.com', 'grandnews24.com', 'politicalsitenews.com', 'theverge.com', 'crunchbase.com', 'fortune.com', 'geekwire.com', 'digiday.com', 'arabnews.com', 'scoopempire.com', 'arabamerica.com', 'abouther.com', 'tycollector.com', 'lovemybeanies.com', 'completeset.com', 'aboutbeanies.com', 'conservativetoday.com', 'blauerbote.com', 'syrianobserver.com', 'syria360.wordpress.com', '21wire.tv', 'visitjordan.com', 'royanews.tv', 'jordan.gov.jo', 'tipntag.com', 'informationclearinghouse.info', 'truthdig.com', 'paulcraigroberts.org', 'news12.com', 'abc7ny.com', 'dailyvoice.com', 'westchestermagazine.com', 'reason.com', 'thehardtimes.net', 'thetakeout.com', 'ucsusa.org', 'ecowatch.com', 'leestranahan.com', '63red.com', 'davefromqueens2.blogspot.com', 'irontroll.com', 'minerals.net', 'minsocam.org', 'geologypage.com', 'gemsociety.org', 'dickdevos.com', 'ljean.com', 'narativ.org', 'counter-currents.com', 'therightstuff.biz', 'inquisiqr4.com', 'ct-group.com', 'americanveteranstravelingtribute.com', 'socialgoodnow.com', 'asianage.com', 'aninews.in', 'newsnation.in', 'republicworld.com', 'maryland.gov', 'state.md.us', 'wtop.com', 'wbaltv.com', 'adfmedia.org', 'becketlaw.org', 'adfinternational.org', 'masterpiececakes.com', 'gunsamerica.com', 'thefirearmblog.com', 'thetruthaboutguns.com', 'americanrifleman.org', 'christianheadlines.com', 'juicyecumenism.com', 'baptistnews.com', 'mayoclinic.org', 'healthline.com', 'buchanan.org', 'chronicleindia.in', 'russiasgreatwar.org', 'chronicle.security', 'alecexposed.org', 'medishare.com', 'centertexas.org', 'stuff.co.nz', 'radionz.co.nz', 'trademe.co.nz', 'newshub.co.nz', 'libertynation.com', 'geekpsychologist.com', 'collincountygop.org', 'maxroseforcongress.com', 'anxiousminds.org', 'edpnc.com', 'americansforprosperityfoundation.org', 'freedompartners.org', 'ivolunteers.com', 'eurekalert.org', 'medpagetoday.com', 'timesofisrael.com', 'law.com', 'law360.com', 'leagle.com', 'courtlistener.com', 'cps.edu', 'ctunet.com', 'blockclubchicago.org', 'cpdb.co', 'seattletimes.com', 'king5.com', 'komonews.com', 'sciencing.com', 'barnhardt.biz', 'lifezette.com', 'idealmedia.com', 'ltn.com.tw', 'businessweekly.com.tw', 'storm.mg', 'thenewslens.com', 'cw.com.tw', 'newswest9.com', 'mrt.com', 'cbs7.com', 'yourbasin.com', 'wonkette.com', 'chucklorre.com', 'thethankfulheart.wordpress.com', 'edcite.com', 'simplephoto.com', 'parentlink.net', 'fortosage.net', 'gunssavelives.net', 'firearmsandliberty.com', 'tribunist.com', 'themeunits.com', 'euractiv.com', 'ecfr.eu', 'resist.com', 'christophercantwell.com', 'thegoyimknow.to', 'radiowehrwolf.us', 'understandrealitythroughscience.blogspot.com', 'americanmilitarynews.com', 'defensemaven.io', 'o4anews.com', 'disclose.tv', 'neonnettle.com', 'economyincrisis.org', 'realtimepolitics.com', 'galesupport.com', 'peppermoths.weebly.com', 'assistments.org', 'patriotnewsalerts.com', 'indiatimes.com', 'ndtv.com', 'techmeme.com', 'mediagazer.com', 'wesmirch.com', 'kmediatv.com', 'thedeplorablearmy.com', 'americanjournalreview.com', 'worldcloudnetwork.com', 'bring-back-america.com', 'intoday.in', 'bhaskar.com', 'jagran.com', 'amarujala.com', 'livehindustan.com', 'mepc.org', 'orfonline.org', 'edubuzz.org', 'japantimes.co.jp', 'tofugu.com', 'themonthly.com.au', 'schwartzmedia.com.au', 'minecraftquiz.com', 'seneca.k12.wi.us', 'therightsideofthings.com', 'iotwreport.com', 'michellesmirror.com', 'takimag.com', 'dailyworldinformation.com', 'patriotjournal.com', 'cvikas.com', 'consnation.com', 'amnesty.org', 'ohchr.org', 'reliefweb.int', 'refworld.org', 'omega-level.net', 'officialmikepence.com', 'cannotunsee.net', 'thegreatamericandisconnect.blogspot.com', 'exposinggovernment.com', 'miamiherald.com', 'palmbeachpost.com', 'local10.com', 'pima.gov', 'kvoa.com', 'tucsonnewsnow.com', 'kgun9.com', 'kelowna.ca', 'infotel.ca', 'kelownacapnews.com', 'kelownanow.com', 'thewhim.com', 'huffingtonpost.co.uk', 'thetimes.co.uk', 'parliament.uk', 'spectator.co.uk', 'hooverpress.org', 'russroberts.info', 'benfranklincircles.org', 'generationscrewed.ca', 'bloomberg.com', 'tenthamendmentcenter.com', 'freedomkeys.com', 'patrickhenryteaparty.com', 'rogerbenge.com', 'omarnavarro.com', 'patrioticexpress.com', 'conservativeus.com', 'foreignassistance.gov', 'realclearinvestigations.com', 'iwr.ai', 'newromantimes.com', 'thenational.ae', 'bbj.hu', 'abouthungary.hu', 'hungarianspectrum.org', 'hungarianfreepress.com', 'conservativefiringline.com', 'menrec.com', 'conservativerightwingnews.com', 'xinhuanet.com', 'ifeng.com', 'chinanews.com', 'scmp.com', 'pewhispanic.org', 'ballotpedia.org', 'ncsl.org', 'citylab.com', 'pewtrusts.org', 'speakgov.com', 'ladylibertysnews.com', 'amorc.cc', 'verywellhealth.com', 'dotdash.com', 'letsnail.eu', 'newsheist.com', 'lockhaven.com', 'northcentralpa.com', 'lyco.org', 'williamsport.org', 'euobserver.com', 'eurobrussels.com', 'balloon-juice.com', 'yournewswire.com', 'worldnewsdailyreport.com', 'huzlers.com', '8shit.net', 'expectingrain.com', 'cortesisland.com', 'jezebel.com', 'si.com', 'edtechmagazine.com', 'league.org', 'eab.com', 'collegemapper.com', 'redstatewatcher.com', 'fbnewscycle.com', 'freedomnewsupdates.com', 'centerforsecuritypolicy.org', 'countyofnapa.org', 'napavintners.com', 'cityofnapa.org', 'visitnapavalley.com', 'desmogblog.com', 'climatedepot.com', 'mercatus.org', 'ucc.org', 'christiancentury.org', 'ambulancedriverfiles.com', 'cybernob.com', 'centrecountyfire.com', 'chieftechnologies.net', 'vote.us.org', 'consumerreports.org', 'lowes.com', 'jalopnik.com', 'familyhandyman.com', 'calwatchdog.com', 'aschaper1.blogspot.com', 'jointravisallen.com', 'theburningplatform.com', 'philfaqs.com', 'askthepinoy.blogspot.com', 'thecleverfilipina.com', 'agapefoodbank.com', 'news24.com', 'citizen.co.za', 'fox8live.com', 'wbrz.com', 'businessreport.com', 'bayoubrief.com', 'sharylattkisson.com', 'euvsdisinfo.eu', 'allgeneralizationsarefalse.com', 'news-gazette.com', 'pantagraph.com', 'wandtv.com', 'jg-tc.com', 'instyle.com', 'allure.com', 'chronicle.com', 'higheredjobs.com', 'collegeconfidential.com', 'chroniclevitae.com', 'ozy.com', 'dailyworldupdate.us', 'columbian.com', 'chronline.com', 'cowlitz.wa.us', 'astronomy.com', 'earthsky.org', 'cloudynights.com', 'telescope.com', 'warrenkinsella.com', 'frankmagazine.ca', 'frankthemagazine.com', 'ravingcanuck.com', 'spj.org', 'journalists.org', 'gijn.org', 'cbgs.k12.va.us', 'citizen-times.com', 'buncombecounty.org', 'nspireoutreach.org', 'hope4dv.org', 'brandnewcongress.org', 'votesarahsmith.com', 'cathymyersforcongress.com', 'loveandpride.com', 'verify-sy.com', 'proudemocrat.com', 'millercountyliberal.com', 'newmoderate.com', 'lifeexaminations.wordpress.com', 'lawandreligionforum.org', 'treehugger.com', 'mom.me', 'ycaol.com', 'descrier.co.uk', 'boileddownjuice.com', 'arkansasstateparksblog.com', 'breakingnews.com.bd', 'manobkantha.com', 'abnews24.com', 'barta24.com', 'bbarta24.net', 'iea.org', 'renewableenergyworld.com', 'ren21.net', 'worldenergy.org', 'out.com', 'newnownext.com', 'pride.com', 'biggovernment.news', 'political.com', 'hopelesslypartisan.com', 'whoolisblog.blogspot.com', 'newsbusters.org', 'illinoispolicy.org', 'chicagoelections.com', 'openthebooks.com', 'illinoiscomptroller.gov', 'popularmilitary.com', 'mediafiledc.com', 'gosmartlife.com', 'ulccaselaw.com', 'godfatherpolitics.com', 'thewashingtonstandard.com', 'theknife.net', 'thekniferestaurant.com', 'christian-apologist.com', 'lasvegassun.com', 'fox5vegas.com', 'ktnv.com', 'news3lv.com', 'digbysblog.blogspot.com', 'lawyersgunsmoneyblog.com', 'rudepundit.blogspot.com', 'nomoremister.blogspot.com', 'warontherocks.com', 'carnegieendowment.org', 'armywarcollege.edu', 'patriotjournal.org', 'nwll.us', 'politicot.com', 'newslow.com', 'newlawus.com', 'myliftkits.com', 'asianjournal.wordpress.com', 'howtheylooknow.livejournal.com', 'thebaffler.com', 'chapotraphouse.com', 'defiantamerica.com', 'house.gov', 'teddystick.com', 'obrag.org', 'ngpvanhost.com', 'sdvote.com', 'cavotes.org', 'mintpressnews.com', 'prinforma.com', 'genieoilgas.com', '971thebear.com', 'progressivenetwork.wordpress.com', 'powerlineblog.com', 'victorygirlsblog.com', 'hollywoodintoto.com', 'mountainx.com', 'wlos.com', 'romanticasheville.com', 'breakingnews.ie', 'daft.ie', 'just-eat.ie', 'dublinlive.ie', 'allsides.com', 'mediabiasfactcheck.com', 'nydailynews.com', 'apnews.com', 'harthouse.ca', 'varsityblues.ca', 'utsu.ca', 'utoronto-my.sharepoint.com', 'just-eat.co.uk', 'thestudentroom.co.uk', 'dominos.co.uk', 'deliveroo.co.uk', 'postfun.com', 'animalchannel.co', 'homehacks.co', 'theperspective.com', 'lifeinsaudiarabia.net', 'saudi-expatriates.com', 'notepage.net', 'knowhow.com', 'bejsment.com', 'sms411.net', 'cracked.com', 'toptenz.net', 'list25.com', 'allthatsinteresting.com', 'smh.com.au', 'afr.com', 'oregon.gov', 'wweek.com', 'odaction.com', 'liker.com', 'inquirer.net', 'free-energy.ws', 'organdonation.com', 'decalcifypinealgland.com', 'wittyfeed.me', 'parl.gc.ca', 'hilltimes.com', 'duhprogressive.com', 'dutchnews.nl', 'iamsterdam.com', 'nltimes.nl', 'iamexpat.nl', 'webmd.com', 'floridapolitics.com', 'tomwoods.com', 'kasshoku.name', 'aljazeera.net', 'alquds.co.uk', 'arabi21.com', 'skynewsarabia.com', 'ne.gov', 'omaha.com', 'nebraska.gov', '1011now.com', 'thedistilledman.com', 'prettygeekery.com', 'giftideasforwriters.com', 'meglenaivanova.wordpress.com', 'pgpf.org', 'artba.org', 'epiqglobal.com', 'regproject.org', 'boxun.com', 'voatiengviet.com', 'voachinese.com', 'bannedbook.org', 'thefreethoughtproject.com', 'countercurrentnews.info', 'cityofwalnutridge.com', 'studionewsnetwork.com', 'stonezone.com', 'patriots4truth.org', 'rogerstone.com', 'stonedefensefund.com', 'unherd.com', 'meanlefthook.com', 'independentsentinel.com', 'donsurber.blogspot.com', 'dbdailyupdate.com', 'plymouthpatriotpost.com', 'encounterbooks.com', 'rlslawyers.com', 'msmagazine.com', 'bust.com', 'everydayfeminism.com', 'theestablishment.co', 'apfarmory.com', 'greyarsenal.com', 'military-tees.com', 'popbindo.com', 'ronpaulinstitute.org', 'ronpaul.com', 'ronpaullibertyreport.com', 'chooseliberty.org', 'rorate-caeli.blogspot.com', 'novusordowatch.org', 'creativecriminals.com', 'playonwords.com', 'mycinestars.com', 'themutegamer.com', 'madworldnews.com', 'thepostemail.com', 'hollywoodreporter.com', 'variety.com', 'deadline.com', 'indiewire.com', 'facebook.com', 'youtube.com', 'wikipedia.org', 'blogspot.com', 'apath.org', 'thepbhscloset.weebly.com', 'genderfluidsupport.tumblr.com', 'undergroundjournalist.org', 'viraltitle.com', 'ct.gov', 'ctpost.com', 'wfsb.com', 'nbcconnecticut.com', 'nottnews.com', 'hotair.com', 'renewedright.com', 'dailyreckoningnews.com', 'econlib.org', 'scripps.com', 'on-this-day.com', 'shapell.org', 'kfoxtv.com', 'kvia.com', 'seattlerefined.com', 'collegetrendsdaily.com', 'centralillinoisproud.com', 'wjbc.com', 'wglt.org', 'mcleancountyil.gov', 'blackrepublican.blogspot.com', 'libertyonetv.com', 'reedercustomguns.net', 'cb75948.com', 'onbeingablacklawyer.com', 'chli.org', 'nationalcollaborative.org', 'timeonthehill.com', 'myfox8.com', 'wxii12.com', 'greensboro.com', 'cityofws.org', 'gothamgazette.com', 'nyassembly.gov', 'nyccfb.info', 'nystateofpolitics.com', 'teaparty.org', 'teapartyexpress.org', 'teaparty911.com', 'teapartypatriotsaction.org', 'commentarymagazine.com', 'americanheritage.com', 'endgenocide.org', 'futurechurch.org', 'defund.com', 'eonline.com', 'meizo.com', 'chomsky.info', 'thirdworldtraveler.com', 'alternativeradio.org', 'chomskylist.com', 'milnenews.com', 'steadfastandloyal.com', 'thepop.com', 'daiquirigirl.com', 'wikr.com', 'zwnation.com', 'cctv-america.com', 'mises.org', 'aei.org', 'libertarianism.org', 'goodmaninstitute.org', 'cultureoflife.org', 'whitlockgray.com', 'battleforthenet.com', 'webaction.org', 'morriscreative.com', 'winwithoutwar.org', 'securityassistance.org', 'clementscenter.org', 'forumarmstrade.org', 'occupydemocrats.com', 'ahtribune.com', 'addictinginfo.com', 'dawn.com', 'samaa.tv', 'thenationaltriallawyers.org', 'interhacktives.com', 'timetravellerwiki.com', 'geosociety.org', 'dalneitzel.com', 'mysteriouswritings.com', 'fennclues.com', 'trust.org', 'lmtonline.com', 'unionleader.com', 'lowellsun.com', 'salemnews.com', 'newburyportnews.com', 'fox9.com', 'americanexperiment.org', 'theadvocate.com', 'wwltv.com', 'neworleans.com', 'aawsat.com', 'alriyadh.com', 'okaz.com.sa', 'sabq.org', 'richmond.com', 'wdbj7.com', 'wsls.com', 'hokiesports.com', 'blazetv.com', 'louderwithcrowdershop.com', 'buzzfeed.com', 'elitedaily.com', 'hercampus.com', 'maryferrell.org', 'jfkmurdersolved.com', 'jfkfacts.org', 'startribune.com', 'citypages.com', 'kstp.com', 'mprnews.org', 'theknightstemplar.org', 'knightstemplarorder.com', 'knightstemplar.org.uk', 'knight-templar.org.uk', 'proofofalien.com', 'ofads.life', 'ancient-alien-history.com', 'maurycounty-tn.gov', 'springhilltn.org', 'columbiatn.com', 'springhillhomepage.com', 'patriotretort.com', 'newrightnetwork.com', 'rightwirenews.com', 'thestreet.com', 'barrons.com', 'investorplace.com', 'heraldtimesonline.com', 'voicenews.com', 'stclaircounty.org', 'bluewater.org', 'ourcommons.ca', 'nationalnewswatch.com', 'pewforum.org', 'ncronline.org', 'mormonnewsroom.org', 'politicslive.net', 'monthlyreview.org', 'libcom.org', 'socialistworker.org', 'windowoneurasia2.blogspot.com', 'ancreport.com', 'therussianreader.com', 'ngo-monitor.org', 'ishr.ch', 'humanrightsvoices.org', 'universal-rights.org', 'sbc.net', 'baptiststandard.com', 'pulpitandpen.org', 'navytimes.com', 'marinecorpstimes.com', 'taskandpurpose.com', 'rallypoint.com', 'usadosenews.com', 'journalstar.com', 'ketv.com', 'wowt.com', 'makeuseof.com', 'howtogeek.com', 'lifewire.com', 'crooksandliars.com', 'jmrphy.net', 'ntknetwork.com', 'taxpolicycenter.org', 'efile.com', 'smartasset.com', 'tax-brackets.org', 'federaltimes.com', 'fedsmith.com', 'fedweek.com', 'federalnewsnetwork.com', 'philanthropy.com', 'philanthropynewsdigest.org', 'tgci.com', 'tempo.co', 'coconuts.co', 'indonesia-investments.com', 'jakartaglobe.id', 'angrypatriotmovement.com', 'offtopics.com', 'daytimeemmyawards.de', 'daytime-emmys.ca', 'thecommonsenseshow.com', 'halturnerradioshow.com', 'justusaknight.com', 'wa.gov', 'seattle.gov', 'spectator.org', 'ibleedredwhiteblue.com', 'sonsoflibertyradio.com', 'edenfuneralservices.com', 'asx.com.au', 'businessinsider.com.au', 'chicagotribune.com', 'nbcchicago.com', 'wgntv.com', 'abc7chicago.com', 'brisbanetimes.com.au', 'goldcoastbulletin.com.au', 'thestar.com', 'pewresearch.org', 'theoccidentalobserver.net', 'renegadetribune.com', 'diversitymachtfrei.wordpress.com', 'constitution.com', 'kevinwhiteman.com', 'pensivepost.com', 'imb.org', 'defendevropa.com', 'muslimstatistics.wordpress.com', 'generation-identity.org.uk', 'mcleanbible.org', 'totescute.com', 'hipgreece.com', 'warrior.do', 'usip.org', 'nti.org', 'sheilakennedy.net', 'collegeofcomplexes.org', 'memepoliceman.com', 'chrisforgov.com', 'madison.com', 'channel3000.com', 'cityofmadison.com', 'nbc15.com', 'isthmus.com', 'kuer.org', 'hjnews.com', 'kcpw.org', 'cachevalleydaily.com', 'pastemagazine.com', 'collider.com', 'hurriyet.com.tr', 'sabah.com.tr', 'haberturk.com', 'cnnturk.com', 'xitfilms.ru', 't2lgo.com', 'curvetube.com', 'find-files.com', 'modernliberals.com', 'earthfirstnews.wordpress.com', 'giraffeconservation.org', 'animalliberationpressoffice.org', 'sniitch.com', 'patrioticviralnews.com', 'hsicures.com', 'dailyreckoning.news', 'rga.org', 'oregon.gop', 'stevesisolak.com', 'chrisgfornevada.com', 'hopcott.net', 'med-careaz.com', 'atfortyfive.com', 'printablesbirthdaycards.com', 'rationalwiki.org', 'u-s-history.com', 'civiced.org', 'theduran.com', 'nnpcgroup.com', 'eiti.org', 'eisourcebook.org', 'azomining.com', 'theintercept.com', 'equalitymatters.org', 'littlecatholicbubble.blogspot.com', 'loveandfidelity.org', 'angelafranks.com', 'egyptianlng.com', 'democraticmoms.com', 'dresstle.com', 'republicanruler.com', 'milloz.com', 'pizzacinema.net', 'bigjohnsonclassics.com', 'pedestrian.tv', 'broadsheet.com.au', 'danmurphys.com.au', 'tendaily.com.au', 'scotsman.com', 'heraldscotland.com', 'thescottishsun.co.uk', 'glasgowlive.co.uk', 'newscientist.com', 'space.com', 'lawandcrime.com', 'manchestereveningnews.co.uk', 'liverpoolecho.co.uk', 'coventrytelegraph.net', 'expressandstar.com', 'pjorourke.com', 'americasjubilee.com', 'investorhour.com', 'theamericanjubilee.com', 'carefree.org', 'cavecreek.org', 'carefreecavecreek.org', 'thefoothillsfocus.com', 'history.com', 'smithsonianmag.com', 'wethefifth.com', 'thenewbacklash.blogspot.com', '5thcolumn.net', 'terfisaslur.tumblr.com', 'newswars.com', 'sokolovelaw.com', 'davidcayjohnston.com', 'polipace.com', 'controlpredators.com', 'afterellen.com', 'gomag.com', 'jewishpress.com', 'algemeiner.com', 'israelhayom.com', 'clevelandjewishnews.com', 'dailyherald.com', 'ammoland.com', 'guns.com', 'americantruthseekers.com', 'stateofthenation2012.com', 'cosmicconvergence.org', 'aim4truth.org', 'mainerepublicemailreport.com', 'knoxreport.com', 'mtonews.com', 'melaniemorgan.com', 'sponsorfeedback.com', '38degrees.org.uk', 'evolvepolitics.com', 'westernjournalism.com', 'iacenter.org', 'liberationnews.org', 'accountabilitylab.org', 'integrity-index.org', 'opengovhub.org', 'integrityglobal.com', 'subversify.com', 'queerlife.co.za', 'hardlinechat.com', 'thenewhippie.wordpress.com', 'lw.com', 'top-law-schools.com', 'abaforlawstudents.com', 'sultanknish.blogspot.com', 'obamaspeeches.com', 'thelibertydaily.com', 'jamieglazov.com', 'caregiver.org', 'aplaceformom.com', 'agingcare.com', 'sixtyandme.com', 'oppositionreport.com', 'thestandard.com.hk', 'asiaxpat.com', 'hongkongfp.com', 'geoexpat.com', 'factbox.tv', 'wehuntedthemammoth.com', 'wikimannia.org', 'tobealpha.com', 'honeybadgerbrigade.com', 'christwire.org', 'futureinamerica.com', 'newcenturytimes.com', 'theshovel.com.au', 'betootaadvocate.com', 'giantdwarf.com.au', 'newswire.ca', 'bnnbloomberg.ca', 'pluralist.com', 'radicalcapitalist.org', 'nypost.com', 'psychcentral.com', 'verywellmind.com', 'cclife.tv', 'usalibertypress.com', 'watch-i-a-s-i-p-season-13-episode-3.over-blog.com', 'it-s-always-sunny-in-philadelphia-full-hd.over-blog.com', 'greencrowasthecrowflies.blogspot.com', 'thefallingdarkness.com', 'theinternationalreporter.org', 'chartramblings.blogspot.com', 'whitehousedossier.com', 'factba.se', 'thewashingtonpundit.com', 'discoverthenetworks.org', 'influencewatch.org', 'leftexposed.org', 'activistfacts.com', 'thefullwiki.org', 'omicsgroup.org', 'voxday.blogspot.com', 'everipedia.org', 'delfi.ee', 'postimees.ee', 'err.ee', 'eki.ee', 'ohtuleht.ee', 'citizensforethics.org', 'themarketswork.com', 'doctordaliah.wordpress.com', 'the-rustic-flag-company.myshopify.com', 'truthuncensored.net', 'us.org', 'skysports.com', 'caughtoffside.com', 'talksport.com', 'football.london', 'disclosurenews.it', 'ahijackedlife.com', 'promiseskept.com', 'swp.org.uk', 'louisproyect.org', 'pathfinderpress.com', 'efsyn.gr', 'rizospastis.gr', 'espivblogs.net', 'sarajevomag.gr', 'heisenbergreport.com', 'usanews.ca', 'bringiton22205.tripod.com', 'gazettetimes.com', 'kezi.com', 'samhealth.org', 'lebanon-express.com', 'outlookindia.com', 'thenewsminute.com', 'kenthovindblog.com', 'kehvrlb.com', 'ytmp.blogspot.com', 'liesofthedevil.com', 'hillarydaily.com', 'mediadefence.org', 'ipi.media', 'quarantineinteractive.com', 'rmviagem.com', 'independentpoliticalreport.com', 'think-liberty.com', 'aipca.org', 'girlscoutswhynot.com', 'aiico.com', 'americanindependentinc.com', 'divamag.co.uk', 'lotl.com', 'off-guardian.org', 'ssrn.com', 'repec.org', 'voxeu.org', 'aeaweb.org', 'toddstarnes.com', 'updateamerica.com', 'mysweetwaters.org', 'sitemailserver.com', 'secularhumanism.org', 'americanhumanist.org', 'pointofinquiry.org', 'centerforinquiry.org', 'english.gov.cn', 'bjreview.com.cn', '4008-517-517.cn', 'republicanherald.com', 'standardspeaker.com', 'carboncounty.com', 'brctv13.com', 'ktsm.com', 'elpasoinc.com', 'jta.org', 'jns.org', 'edmontonjournal.com', 'calgarysun.com', 'avenuecalgary.com', 'bechdeltest.com', 'lby3.com', 'femfreq.tumblr.com', 'anitasarkeesian.com', 'viralliberty.com', 'pro-football-reference.com', 'totalprosports.com', 'profootballfocus.com', '12up.com', 'majalla.com', 'siyassa.org.eg', 'islamist-movements.com', 'arabicmagazine.com', 'aljadeedmagazine.com', 'hrw.org', 'eiu.com', 'theglobaldispatch.com', 'tgdaily.com', 'newswire.net', 'axcessnews.com', 'opensecrets.org', 'govtrack.us', 'ontheissues.org', 'economistsview.typepad.com', 'ineteconomics.org', 'basicincome.org', 'onthecommons.org', 'theamericanreport.org', 'wheresobamasbirthcertificate.com', '1776channel.com', 'zeetalkradio.com', 'nationalpost.com', 'fakingnews.com', 'kractivist.org', 'teekhimirchi.in', 'thevoiceofthezamorin.blogspot.com', 'kevinhaw.com', 'banterloud.com', 'thevoiceofreason-ann.blogspot.com', 'simantics.blogspot.com', 'yr.media', 'strawlessocean.org', 'get-green-now.com', 'lpxshow.com', 'bluetribune.com', 'now8news.com', 'urbanmyths.com', 'thatsfake.com', 'world-newspapers.com', 'headlinespot.com', 'livableworld.org', 'quorum.us', 'az.gov', 'azfamily.com', 'knau.org', 'alien-earth.com', 'turtleboysports.com', 'nepr.net', 'commonwealthmagazine.org', 'howiecarrshow.com', 'thedcgazette.com', 'creepingsharia.wordpress.com', 'redstate.com', 'theatlantic.com', 'audioagain.com', 'freakoutnation.com', 'pbs.org', 'seacoastonline.com', 'concordmonitor.com', 'wmur.com', 'nhpr.org', 'redrightvideos.com', 'thepatriotchronicles.com', 'erickontheradio.com', 'cnntimes.online', 'kungfumagazine.com', 'martialtalk.com', 'martialartsplanet.com', 'bjj-world.com', 'tfpstudentaction.org', 'americaneedsfatima.org', 'miraclehunter.com', 'ourladyofgoodsuccess.com', 'zeit.de', 'wiley.com', 'springer.com', 'researchgate.net', 'ericpetersautos.com', 'csindy.com', 'kktv.com', 'krdo.com', 'koaa.com', 'biblestudytools.com', 'knowing-jesus.com', 'clashdaily.com', 'soopermexican.com', 'keepandbear.com', 'thestickchick.com', 'newsandgutsmedia.com', 'observeronline.news', 'thebureauinvestigates.com', 'worldcantwait.net', 'feministcurrent.com', 'minus18.org.au', 'compassionate-revolution.net', 'globalvoices.org', 'extranosalley.com', 'nationonenews.com', 'anarchast.com', 'wearelibertarians.com', 'libertariannationalist.com', 'apspuhuru.org', 'apedf.org', 'apscuhuru.org', 'uhurusolidarity.org', '70news.wordpress.com', 'af-mg.com', 'heymanhustle.com', 'rnningfool.com', 'lhsroar.com', 'guyhut.com', 'gazettestar.com', 'clarionproject.org', 'washingtonstatewire.com', 'lwvwa.org', 'mygoodtogo.com', 'wcvoters.org', 'goheels.com', 'townofchapelhill.org', 'chapelboro.com', 'tarheelblog.com', 'csbaonline.org', 'defensedaily.com', 'postalnews.com', 'greatlakescenter.org', 'stltoday.com', 'ksdk.com', 'riverfronttimes.com', 'fox2now.com', 'numberofabortions.com', 'newnetworks.com', 'romans322.com', 'lovewillendabortion.com', 'al-monitor.com', 'electronicintifada.net', 'mondoweiss.net', 'biography.com', 'study.com', 'thoughtco.com', 'tunisiesoir.com', 'metroweekly.com', 'rabble.ca', 'socialistproject.ca', 'healthcoalition.ca', 'canadian-healthcare.org', 'schmedium.org', 'sltrib.com', 'heraldextra.com', 'steamcommunity.com', 'knowyourmeme.com', 'polygon.com', 'redd.it', 'jackpineradicals.com', 'discussionist.com', 'demu.gr', 'uproxx.com', 'texas.gov', 'freedomsfinalstand.com', 'theprint.in', 'trendingitemsonline.com', 'wtnh.com', 'fox61.com', 'loveknowledge.org', 'lacrossetribune.com', 'news8000.com', 'winonapost.com', 'visitwinona.com', 'abajournal.com', 'lawcrossing.com', 'mediaset.it', 'sky.it', 'blastingnews.com', 'tpi.it', 'fanpage.it', 'politifact.com', 'theparliamentmagazine.eu', 'eumonitor.eu', 'nationalinterest.org', 'csis.org', 'news4ktla.com', 'everydayinbox.com', 'tmzbreaking.com', 'voyagerchannel.com', 'ktvu.com', 'kron4.com', 'politipage.us', 'rightlyreport.com', 'newsaloo.com', 'palestinechronicle.com', '972mag.com', 'subjectpolitics.com', 'freedomnews.today', 'politifeed.net', 'mycrazyemail.net', 'wnlc.com', 'new24news.com', 'bestcelebnews.com', 'headlinesfornews.com', 'ria.ru', 'lenta.ru', 'gazeta.ru', 'iz.ru', 'mychal-massie.com', 'conservativeamerica-online.com', 'catholicmonitor.blogspot.com', 'bloodredpatriots.com', 'iowa.gov', 'thegazette.com', 'kcci.com', 'whotv.com', 'liveencounters.net', 'russiarevealed.info', 'cgtv.us', 'theoswatch.com', 'mtstandard.com', 'nbcmontana.com', 'lawdailyrecord.com', 'bannergraphic.com', 'americhoice.org', 'mediazone.news', 'carnegie.ru', 'carnegie-mec.org', 'liberalexaminer.com', 'iconicphotos.wordpress.com', 'uncensoredhistory.blogspot.com', 'ryandueck.com', 'hoaxeye.com', 'citizenvox.org', 'globalanticorruptionblog.com', 'needtoimpeach.com', 'corrupt.af', 'dannielleblumenthal.com', 'tribnet.org', 'davidhernandezforltgovernor.com', 'realgreatamericans.org', 'virginia.gov', 'wtvr.com', 'nbc12.com', 'wric.com', 'montgomeryadvertiser.com', 'algop.org', 'globalresearch.ca', 'abc.net.au', 'ntnews.com.au', 'reneweconomy.com.au', 'milebehind.wordpress.com', 'geneticsandsociety.org', 'ynharari.com', 'cbhd.org', 'sgtreport.com', 'tampabay.com', 'miaminewtimes.com', 'pnas.org', 'houseofpolitics.com', 'cannoredmonton.ca', 'advgrrl.com', 'quickhedge.com', 'jewishvoiceforpeace.org', 'wrmea.org', 'ampalestine.org', 'shamrak.com', 'the-daily-news.co.uk', 'malaysiakini.com', 'freemalaysiatoday.com', 'themalaysianinsight.com', 'thethirdforce.net', 'drudge.com', 'drudgereportarchives.com', 'drudgereportfeed.com', 'idrudgereport.com', 'overlawyered.com', 'nrtw.org', 'texasobserver.org', 'kut.org', 'tpr.org', 'marfapublicradio.org', 'miamiherald.typepad.com', 'miamigov.com', 'miamiandbeaches.com', 'miamionthecheap.com', 'iflscience.com', 'futurism.com', 'abcnews.go.com', 'berkeley.edu', 'ucla.edu', 'washington.edu', 'ucsd.edu', 'ucdavis.edu', 'outfront.org', 'tcpride.org', 'lushmpls.com', 'theleatherjournal.com', 'thecitizenpress.com', 'freewoodpost.com', 'nbc4i.com', '10tv.com', 'columbus.gov', 'abc6onyourside.com', 'truebluescoop.com', 'cagop.org', 'cragop.org', 'yourvoter.guide', 'stephenbrundagelaw.com', 'illinoisattorneyblog.com', 'businessattorneychicago.com', 'thesternfacts.com', 'lastmenandovermen.com', 'politicsmaven.io', 'bb4sp.com', 'theminutemanblog.com', 'news-in-europa.com', 'allthingsoneplace.me', 'urduchanel.com', 'americanpltcs.blogspot.com', 'taiwannews.com.tw', 'focustaiwan.tw', 'taiwantoday.tw', 'forumosa.com', 'liberalbias.com', 'urban.org', 'bigthink.com', 'ocregister.com', 'voiceofoc.org', 'orangecoast.com', 'orangecounty.net', 'cherryh.com', 'southendnewsnetwork.net', 'japango.life', 'threepercenternation.com', 'independentminute.com', 'thecollegefix.com', 'theconservativemillennialblog.com', 'alliestuckey.com', 'medscape.com', 'clevelandclinic.org', 'ktar.com', 'visitphoenix.com', 'reclaimdemocracy.org', 'endcitizensunited.org', 'cupvf.org', 'amendmentgazette.com', 'thegospelcoalition.org', 'bible.org', 'newslo.com', 'nova-magazine.net', 'lanctalk.com', 'isitfakenews.com', 'thefinaledition.com', 'atheiventhiran.wordpress.com', 'therantidote.com', 'diem25.org', 'euroalter.com', 'pffamerica.org', 'slavsquat.com', 'desmoinesregister.com', 'wcfcourier.com', 'alicublog.blogspot.com', 'kunstler.com', 'peakprosperity.com', 'wolfstreet.com', 'tallbloke.wordpress.com', 'irena.org', 'enerdata.net', 'edmallday.com', 'abcvitaminnutrition.com', 'freedompoliticstoday.org', 'dlisted.com', 'instinctmagazine.com', 'omg.blog', 'nasa.gov', 'universetoday.com', 'digg.com', 'destructables.org', 'sproutdistro.com', 'comparativeconstitutionsproject.org', 'sixthamendment.org', 'loufisher.org', 'theconstitutionproject.com', 'floridadems.org', 'flaglerelections.com', 'mcimaps.com', 'modellegislature.org', 'mcsweeneys.net', 'them.us', 'usmle.org', 'onlinemeded.org', 'in-housestaff.org', 'gomerpedia.org', 'thepowerhour.com', 'ihatethemedia.com', 'mountrantmore.com', 'thehealthsciencesacademy.org', 'atheistrepublic.com', 'awakenwithjp.com', 'health-science.com', 'cakafeteusa.com', 'hnndaily.com', 'tonkasaw.com', 'someinconvenientfacts.wordpress.com', 'realitychex.com', 'encyclopedic.co.uk', 'debracpetti.wordpress.com', 'sn4hr.org', 'inherentresolve.mil', 'iamsyria.org', 'theglobalcoalition.org', 'strengthsquest.com', 'gallupstrengthscenter.com', 'christianpost.com', 'mta.info', 'ny1.com', 'nycgo.com', 'trevorloudon.com', 'news9.com', 'kfor.com', 'okcfox.com', 'okc.gov', 'eveningharold.com', 'btnsmash.com', 'goodworkinstitute.org', 'ulstercountydemocrats.com', 'hereswhatidontget.com', 'dailyrecord.co.uk', 'visitscotland.com', 'numbersusa.com', 'congressmerge.com', 'contactsenators.com', 'fastnote.com', 'mssnaturalbeauty.com', 'nativescomunity.info', 'policetask.com', 'publicservicealerts.com', 'pewpewtactical.com', 'overcomeobesity.org', 'davidandtammy.com', 'badsciencedebunked.com', 'drchelseaaxeblog.wordpress.com', 'dorsetecho.co.uk', 'thedonkeysanctuary.org.uk', 'kingsbridge-today.co.uk', 'fec.gov', 'votesmart.org', 'usafirstinformation.com', 'patriotupdate.com', 'realjewnews.com', 'jewornotjew.com', 'semiticcontroversies.blogspot.com', 'holodomorinfo.com', 'reverbpress.com', 'thebrainwashingofmydad.com', 'theamericanmoderate.com', 'neorepo.wordpress.com', 'miami.com', 'tonyskansascity.com', 'kansaspolicy.org', 'monetti4senate.com', 'insideksgop.com', 'rollingstone.com', 'harvard.edu', 'therealcuba.com', 'victimsofcommunism.org', 'arabstereotypes.org', 'casache.com', 'itv.com', 'dailybuzzlive.com', 'us4palin.com', 'raygano.com', 'pewinternet.org', 'people-press.org', 'pewsocialtrends.org', 'canadafreepress.com', 'americafightingbackpac.com', 'washingtonmonthly.com', 'democratichub.com', 'drugpolicy.org', 'nationalww2museum.org', 'tulsahistory.org', 'wwiifoundation.org', 'pe.com', 'sbcounty.gov', 'dailybulletin.com', 'redlandsdailyfacts.com', 'latina.com', 'peopleenespanol.com', 'mamaslatinas.com', 'latingossip.com', 'rickwells.us', 'creepsonamission.com', 'americanewshub.com', 'greatamericanrepublic.com', 'geonames.org', 'mongabay.com', 'zip-codes.com', 'ciclt.net', 'zipmap.net', 'kinja.com', 'aadnc-aandc.gc.ca', 'aptn.ca', 'ictinc.ca', 'jungewelt.de', 'pitchfork.com', 'stereogum.com', 'thefader.com', 'consequenceofsound.net', 'ancienttexts.org', 'atour.com', 'nineveh.com', 'uruk-warka.dk'])"
      ]
     },
     "execution_count": 6,
     "metadata": {},
     "output_type": "execute_result"
    }
   ],
   "source": [
    "result.keys()"
   ]
  },
  {
   "cell_type": "code",
   "execution_count": 7,
   "metadata": {},
   "outputs": [],
   "source": [
    "data_urls = set([url for url, _ in referral_site_data_2018.items()])"
   ]
  },
  {
   "cell_type": "code",
   "execution_count": 8,
   "metadata": {},
   "outputs": [
    {
     "data": {
      "text/plain": [
       "1062"
      ]
     },
     "execution_count": 8,
     "metadata": {},
     "output_type": "execute_result"
    }
   ],
   "source": [
    "len(data_urls)"
   ]
  },
  {
   "cell_type": "code",
   "execution_count": 9,
   "metadata": {},
   "outputs": [
    {
     "data": {
      "text/plain": [
       "2947"
      ]
     },
     "execution_count": 9,
     "metadata": {},
     "output_type": "execute_result"
    }
   ],
   "source": [
    "len(result)"
   ]
  },
  {
   "cell_type": "code",
   "execution_count": 10,
   "metadata": {},
   "outputs": [],
   "source": [
    "with open('/home/paco/Documents/site_similarity/dataset/modified_corpus_2018_referral_sites_level_1.json', 'w') as f:\n",
    "    json.dump(result, f)"
   ]
  },
  {
   "cell_type": "markdown",
   "metadata": {},
   "source": [
    "# Scrapping level2"
   ]
  },
  {
   "cell_type": "code",
   "execution_count": 11,
   "metadata": {},
   "outputs": [],
   "source": [
    "with open('/home/paco/Documents/site_similarity/dataset/modified_corpus_2018_referral_sites_level_1.json', 'r') as f:\n",
    "    data_2018_level1 = json.load(f)"
   ]
  },
  {
   "cell_type": "code",
   "execution_count": 12,
   "metadata": {},
   "outputs": [
    {
     "data": {
      "text/plain": [
       "2947"
      ]
     },
     "execution_count": 12,
     "metadata": {},
     "output_type": "execute_result"
    }
   ],
   "source": [
    "len(data_2018_level1)"
   ]
  },
  {
   "cell_type": "code",
   "execution_count": 13,
   "metadata": {
    "tags": []
   },
   "outputs": [
    {
     "name": "stderr",
     "output_type": "stream",
     "text": [
      "  7%|▋         | 208/2947 [00:00<00:02, 1026.58it/s]"
     ]
    },
    {
     "name": "stdout",
     "output_type": "stream",
     "text": [
      "Save data at index 0 ...\n",
      "Save data at index 100 ...\n",
      "Save data at index 200 ...\n"
     ]
    },
    {
     "name": "stderr",
     "output_type": "stream",
     "text": [
      " 17%|█▋        | 491/2947 [00:00<00:02, 1188.19it/s]"
     ]
    },
    {
     "name": "stdout",
     "output_type": "stream",
     "text": [
      "Save data at index 300 ...\n",
      "Save data at index 400 ...\n",
      "Save data at index 500 ...\n"
     ]
    },
    {
     "name": "stderr",
     "output_type": "stream",
     "text": [
      " 23%|██▎       | 683/2947 [00:00<00:02, 989.16it/s] "
     ]
    },
    {
     "name": "stdout",
     "output_type": "stream",
     "text": [
      "Save data at index 600 ...\n",
      "Save data at index 700 ...\n"
     ]
    },
    {
     "name": "stderr",
     "output_type": "stream",
     "text": [
      " 29%|██▉       | 858/2947 [00:00<00:02, 813.28it/s]"
     ]
    },
    {
     "name": "stdout",
     "output_type": "stream",
     "text": [
      "Save data at index 800 ...\n",
      "Save data at index 900 ...\n"
     ]
    },
    {
     "name": "stderr",
     "output_type": "stream",
     "text": [
      " 34%|███▍      | 1013/2947 [00:01<00:02, 650.67it/s]"
     ]
    },
    {
     "name": "stdout",
     "output_type": "stream",
     "text": [
      "Save data at index 1000 ...\n",
      "Save data at index 1100 ...\n"
     ]
    },
    {
     "name": "stderr",
     "output_type": "stream",
     "text": [
      " 41%|████      | 1201/2947 [00:01<00:02, 601.41it/s]"
     ]
    },
    {
     "name": "stdout",
     "output_type": "stream",
     "text": [
      "Save data at index 1200 ...\n",
      "Save data at index 1300 ...\n"
     ]
    },
    {
     "name": "stderr",
     "output_type": "stream",
     "text": [
      " 48%|████▊     | 1401/2947 [00:01<00:02, 570.15it/s]"
     ]
    },
    {
     "name": "stdout",
     "output_type": "stream",
     "text": [
      "Save data at index 1400 ...\n",
      "Save data at index 1500 ...\n"
     ]
    },
    {
     "name": "stderr",
     "output_type": "stream",
     "text": [
      " 54%|█████▍    | 1601/2947 [00:02<00:02, 518.19it/s]"
     ]
    },
    {
     "name": "stdout",
     "output_type": "stream",
     "text": [
      "Save data at index 1600 ...\n"
     ]
    },
    {
     "name": "stderr",
     "output_type": "stream",
     "text": [
      "\r",
      " 58%|█████▊    | 1701/2947 [00:02<00:02, 498.58it/s]"
     ]
    },
    {
     "name": "stdout",
     "output_type": "stream",
     "text": [
      "Save data at index 1700 ...\n"
     ]
    },
    {
     "name": "stderr",
     "output_type": "stream",
     "text": [
      "\r",
      " 61%|██████    | 1801/2947 [00:02<00:02, 491.45it/s]"
     ]
    },
    {
     "name": "stdout",
     "output_type": "stream",
     "text": [
      "Save data at index 1800 ...\n"
     ]
    },
    {
     "name": "stderr",
     "output_type": "stream",
     "text": [
      "\r",
      " 65%|██████▍   | 1901/2947 [00:02<00:02, 480.98it/s]"
     ]
    },
    {
     "name": "stdout",
     "output_type": "stream",
     "text": [
      "Save data at index 1900 ...\n"
     ]
    },
    {
     "name": "stderr",
     "output_type": "stream",
     "text": [
      "\r",
      " 68%|██████▊   | 2001/2947 [00:03<00:02, 468.71it/s]"
     ]
    },
    {
     "name": "stdout",
     "output_type": "stream",
     "text": [
      "Save data at index 2000 ...\n"
     ]
    },
    {
     "name": "stderr",
     "output_type": "stream",
     "text": [
      "\r",
      " 71%|███████▏  | 2101/2947 [00:03<00:01, 448.97it/s]"
     ]
    },
    {
     "name": "stdout",
     "output_type": "stream",
     "text": [
      "Save data at index 2100 ...\n",
      "Save data at index 2200 ...\n"
     ]
    },
    {
     "name": "stderr",
     "output_type": "stream",
     "text": [
      "\r",
      " 75%|███████▍  | 2201/2947 [00:03<00:01, 421.03it/s]"
     ]
    },
    {
     "name": "stdout",
     "output_type": "stream",
     "text": [
      "Save data at index 2300 ...\n"
     ]
    },
    {
     "name": "stderr",
     "output_type": "stream",
     "text": [
      " 81%|████████▏ | 2401/2947 [00:04<00:01, 403.76it/s]"
     ]
    },
    {
     "name": "stdout",
     "output_type": "stream",
     "text": [
      "Save data at index 2400 ...\n",
      "Save data at index 2500 ...\n"
     ]
    },
    {
     "name": "stderr",
     "output_type": "stream",
     "text": [
      "\r",
      " 85%|████████▍ | 2501/2947 [00:04<00:01, 372.04it/s]"
     ]
    },
    {
     "name": "stdout",
     "output_type": "stream",
     "text": [
      "Save data at index 2600 ...\n"
     ]
    },
    {
     "name": "stderr",
     "output_type": "stream",
     "text": [
      "\r",
      " 88%|████████▊ | 2601/2947 [00:04<00:00, 359.90it/s]"
     ]
    },
    {
     "name": "stdout",
     "output_type": "stream",
     "text": [
      "Save data at index 2700 ...\n"
     ]
    },
    {
     "name": "stderr",
     "output_type": "stream",
     "text": [
      "\r",
      " 92%|█████████▏| 2701/2947 [00:05<00:00, 351.18it/s]"
     ]
    },
    {
     "name": "stdout",
     "output_type": "stream",
     "text": [
      "Save data at index 2800 ...\n"
     ]
    },
    {
     "name": "stderr",
     "output_type": "stream",
     "text": [
      "\r",
      " 95%|█████████▌| 2801/2947 [00:05<00:00, 339.54it/s]"
     ]
    },
    {
     "name": "stdout",
     "output_type": "stream",
     "text": [
      "Save data at index 2900 ...\n"
     ]
    },
    {
     "name": "stderr",
     "output_type": "stream",
     "text": [
      "100%|██████████| 2947/2947 [00:05<00:00, 505.72it/s]\n"
     ]
    }
   ],
   "source": [
    "result = scrapping_refferal_site(data_2018_level1,\n",
    "                                 output_file='/home/paco/Documents/site_similarity/dataset/modified_corpus_2018_referral_sites_level_2.json')"
   ]
  },
  {
   "cell_type": "code",
   "execution_count": 14,
   "metadata": {},
   "outputs": [
    {
     "data": {
      "text/plain": [
       "7119"
      ]
     },
     "execution_count": 14,
     "metadata": {},
     "output_type": "execute_result"
    }
   ],
   "source": [
    "len(result)"
   ]
  },
  {
   "cell_type": "code",
   "execution_count": 15,
   "metadata": {},
   "outputs": [
    {
     "data": {
      "text/plain": [
       "92"
      ]
     },
     "execution_count": 15,
     "metadata": {},
     "output_type": "execute_result"
    }
   ],
   "source": [
    "len([res for res in result.values() if not res])"
   ]
  },
  {
   "cell_type": "code",
   "execution_count": 16,
   "metadata": {},
   "outputs": [
    {
     "data": {
      "text/plain": [
       "['mta.info',\n",
       " 'grubstreet.com',\n",
       " 'amny.com',\n",
       " 'abc7ny.com',\n",
       " 'gothamist.com',\n",
       " 'ny1.com',\n",
       " 'nycgo.com',\n",
       " 'scaruffi.com',\n",
       " 'ondarock.it',\n",
       " 'warr.org']"
      ]
     },
     "execution_count": 16,
     "metadata": {},
     "output_type": "execute_result"
    }
   ],
   "source": [
    "list(result.keys())[:10]"
   ]
  },
  {
   "cell_type": "code",
   "execution_count": 17,
   "metadata": {},
   "outputs": [],
   "source": [
    "with open('/home/paco/Documents/site_similarity/dataset/modified_corpus_2018_referral_sites_level_2.json', 'w') as f:\n",
    "    json.dump(result, f)"
   ]
  },
  {
   "cell_type": "markdown",
   "metadata": {},
   "source": [
    "# Scrapping level 3"
   ]
  },
  {
   "cell_type": "code",
   "execution_count": 18,
   "metadata": {},
   "outputs": [],
   "source": [
    "with open('/home/paco/Documents/site_similarity/dataset/modified_corpus_2018_referral_sites_level_2.json', 'r') as f:\n",
    "    data_2018_level2 = json.load(f)"
   ]
  },
  {
   "cell_type": "code",
   "execution_count": 19,
   "metadata": {},
   "outputs": [
    {
     "data": {
      "text/plain": [
       "7119"
      ]
     },
     "execution_count": 19,
     "metadata": {},
     "output_type": "execute_result"
    }
   ],
   "source": [
    "len(data_2018_level2)"
   ]
  },
  {
   "cell_type": "code",
   "execution_count": 20,
   "metadata": {
    "tags": []
   },
   "outputs": [
    {
     "name": "stderr",
     "output_type": "stream",
     "text": [
      "  3%|▎         | 246/7119 [00:00<00:05, 1201.53it/s]"
     ]
    },
    {
     "name": "stdout",
     "output_type": "stream",
     "text": [
      "Save data at index 0 ...\n",
      "Save data at index 100 ...\n",
      "Save data at index 200 ...\n"
     ]
    },
    {
     "name": "stderr",
     "output_type": "stream",
     "text": [
      "  7%|▋         | 501/7119 [00:00<00:05, 1152.26it/s]"
     ]
    },
    {
     "name": "stdout",
     "output_type": "stream",
     "text": [
      "Save data at index 300 ...\n",
      "Save data at index 400 ...\n",
      "Save data at index 500 ...\n"
     ]
    },
    {
     "name": "stderr",
     "output_type": "stream",
     "text": [
      " 10%|▉         | 701/7119 [00:00<00:06, 1025.28it/s]"
     ]
    },
    {
     "name": "stdout",
     "output_type": "stream",
     "text": [
      "Save data at index 600 ...\n",
      "Save data at index 700 ...\n"
     ]
    },
    {
     "name": "stderr",
     "output_type": "stream",
     "text": [
      "\r",
      " 11%|█▏        | 801/7119 [00:00<00:07, 902.33it/s] "
     ]
    },
    {
     "name": "stdout",
     "output_type": "stream",
     "text": [
      "Save data at index 800 ...\n",
      "Save data at index 900 ...\n"
     ]
    },
    {
     "name": "stderr",
     "output_type": "stream",
     "text": [
      " 14%|█▍        | 1001/7119 [00:01<00:08, 715.49it/s]"
     ]
    },
    {
     "name": "stdout",
     "output_type": "stream",
     "text": [
      "Save data at index 1000 ...\n",
      "Save data at index 1100 ...\n"
     ]
    },
    {
     "name": "stderr",
     "output_type": "stream",
     "text": [
      " 17%|█▋        | 1201/7119 [00:01<00:08, 661.88it/s]"
     ]
    },
    {
     "name": "stdout",
     "output_type": "stream",
     "text": [
      "Save data at index 1200 ...\n",
      "Save data at index 1300 ...\n"
     ]
    },
    {
     "name": "stderr",
     "output_type": "stream",
     "text": [
      " 20%|█▉        | 1401/7119 [00:01<00:09, 603.08it/s]"
     ]
    },
    {
     "name": "stdout",
     "output_type": "stream",
     "text": [
      "Save data at index 1400 ...\n",
      "Save data at index 1500 ...\n"
     ]
    },
    {
     "name": "stderr",
     "output_type": "stream",
     "text": [
      " 22%|██▏       | 1601/7119 [00:02<00:10, 534.04it/s]"
     ]
    },
    {
     "name": "stdout",
     "output_type": "stream",
     "text": [
      "Save data at index 1600 ...\n",
      "Save data at index 1700 ...\n"
     ]
    },
    {
     "name": "stderr",
     "output_type": "stream",
     "text": [
      " 25%|██▌       | 1801/7119 [00:02<00:10, 498.78it/s]"
     ]
    },
    {
     "name": "stdout",
     "output_type": "stream",
     "text": [
      "Save data at index 1800 ...\n"
     ]
    },
    {
     "name": "stderr",
     "output_type": "stream",
     "text": [
      "\r",
      " 27%|██▋       | 1901/7119 [00:02<00:10, 504.59it/s]"
     ]
    },
    {
     "name": "stdout",
     "output_type": "stream",
     "text": [
      "Save data at index 1900 ...\n"
     ]
    },
    {
     "name": "stderr",
     "output_type": "stream",
     "text": [
      "\r",
      " 28%|██▊       | 2001/7119 [00:03<00:09, 513.77it/s]"
     ]
    },
    {
     "name": "stdout",
     "output_type": "stream",
     "text": [
      "Save data at index 2000 ...\n",
      "Save data at index 2100 ...\n"
     ]
    },
    {
     "name": "stderr",
     "output_type": "stream",
     "text": [
      " 31%|███       | 2201/7119 [00:03<00:10, 482.15it/s]"
     ]
    },
    {
     "name": "stdout",
     "output_type": "stream",
     "text": [
      "Save data at index 2200 ...\n",
      "Save data at index 2300 ...\n"
     ]
    },
    {
     "name": "stderr",
     "output_type": "stream",
     "text": [
      "\r",
      " 32%|███▏      | 2301/7119 [00:03<00:10, 448.09it/s]"
     ]
    },
    {
     "name": "stdout",
     "output_type": "stream",
     "text": [
      "Save data at index 2400 ...\n"
     ]
    },
    {
     "name": "stderr",
     "output_type": "stream",
     "text": [
      " 35%|███▌      | 2501/7119 [00:04<00:10, 458.54it/s]"
     ]
    },
    {
     "name": "stdout",
     "output_type": "stream",
     "text": [
      "Save data at index 2500 ...\n",
      "Save data at index 2600 ...\n"
     ]
    },
    {
     "name": "stderr",
     "output_type": "stream",
     "text": [
      " 38%|███▊      | 2701/7119 [00:04<00:09, 453.77it/s]"
     ]
    },
    {
     "name": "stdout",
     "output_type": "stream",
     "text": [
      "Save data at index 2700 ...\n",
      "Save data at index 2800 ...\n"
     ]
    },
    {
     "name": "stderr",
     "output_type": "stream",
     "text": [
      "\r",
      " 39%|███▉      | 2801/7119 [00:04<00:10, 410.82it/s]"
     ]
    },
    {
     "name": "stdout",
     "output_type": "stream",
     "text": [
      "Save data at index 2900 ...\n"
     ]
    },
    {
     "name": "stderr",
     "output_type": "stream",
     "text": [
      "\r",
      " 41%|████      | 2901/7119 [00:05<00:11, 357.76it/s]"
     ]
    },
    {
     "name": "stdout",
     "output_type": "stream",
     "text": [
      "Save data at index 3000 ...\n"
     ]
    },
    {
     "name": "stderr",
     "output_type": "stream",
     "text": [
      "\r",
      " 42%|████▏     | 3001/7119 [00:05<00:12, 332.13it/s]"
     ]
    },
    {
     "name": "stdout",
     "output_type": "stream",
     "text": [
      "Save data at index 3100 ...\n"
     ]
    },
    {
     "name": "stderr",
     "output_type": "stream",
     "text": [
      "\r",
      " 44%|████▎     | 3101/7119 [00:05<00:12, 324.82it/s]"
     ]
    },
    {
     "name": "stdout",
     "output_type": "stream",
     "text": [
      "Save data at index 3200 ...\n"
     ]
    },
    {
     "name": "stderr",
     "output_type": "stream",
     "text": [
      "\r",
      " 45%|████▍     | 3201/7119 [00:06<00:12, 320.77it/s]"
     ]
    },
    {
     "name": "stdout",
     "output_type": "stream",
     "text": [
      "Save data at index 3300 ...\n"
     ]
    },
    {
     "name": "stderr",
     "output_type": "stream",
     "text": [
      "\r",
      " 46%|████▋     | 3301/7119 [00:06<00:12, 302.58it/s]"
     ]
    },
    {
     "name": "stdout",
     "output_type": "stream",
     "text": [
      "Save data at index 3400 ...\n"
     ]
    },
    {
     "name": "stderr",
     "output_type": "stream",
     "text": [
      " 49%|████▉     | 3488/7119 [00:07<00:09, 366.41it/s]"
     ]
    },
    {
     "name": "stdout",
     "output_type": "stream",
     "text": [
      "Save data at index 3500 ...\n"
     ]
    },
    {
     "name": "stderr",
     "output_type": "stream",
     "text": [
      "\r",
      " 50%|████▉     | 3535/7119 [00:07<00:15, 238.28it/s]"
     ]
    },
    {
     "name": "stdout",
     "output_type": "stream",
     "text": [
      "Save data at index 3600 ...\n"
     ]
    },
    {
     "name": "stderr",
     "output_type": "stream",
     "text": [
      " 52%|█████▏    | 3696/7119 [00:08<00:13, 255.93it/s]"
     ]
    },
    {
     "name": "stdout",
     "output_type": "stream",
     "text": [
      "Save data at index 3700 ...\n"
     ]
    },
    {
     "name": "stderr",
     "output_type": "stream",
     "text": [
      "\r",
      " 53%|█████▎    | 3743/7119 [00:08<00:16, 203.96it/s]"
     ]
    },
    {
     "name": "stdout",
     "output_type": "stream",
     "text": [
      "Save data at index 3800 ...\n"
     ]
    },
    {
     "name": "stderr",
     "output_type": "stream",
     "text": [
      "\r",
      " 53%|█████▎    | 3801/7119 [00:08<00:16, 200.08it/s]"
     ]
    },
    {
     "name": "stdout",
     "output_type": "stream",
     "text": [
      "Save data at index 3900 ...\n"
     ]
    },
    {
     "name": "stderr",
     "output_type": "stream",
     "text": [
      "\r",
      " 55%|█████▍    | 3901/7119 [00:09<00:14, 216.70it/s]"
     ]
    },
    {
     "name": "stdout",
     "output_type": "stream",
     "text": [
      "Save data at index 4000 ...\n"
     ]
    },
    {
     "name": "stderr",
     "output_type": "stream",
     "text": [
      "\r",
      " 56%|█████▌    | 4001/7119 [00:09<00:14, 220.66it/s]"
     ]
    },
    {
     "name": "stdout",
     "output_type": "stream",
     "text": [
      "Save data at index 4100 ...\n"
     ]
    },
    {
     "name": "stderr",
     "output_type": "stream",
     "text": [
      "\r",
      " 58%|█████▊    | 4101/7119 [00:09<00:13, 226.34it/s]"
     ]
    },
    {
     "name": "stdout",
     "output_type": "stream",
     "text": [
      "Save data at index 4200 ...\n"
     ]
    },
    {
     "name": "stderr",
     "output_type": "stream",
     "text": [
      "\r",
      " 59%|█████▉    | 4201/7119 [00:10<00:12, 227.94it/s]"
     ]
    },
    {
     "name": "stdout",
     "output_type": "stream",
     "text": [
      "Save data at index 4300 ...\n"
     ]
    },
    {
     "name": "stderr",
     "output_type": "stream",
     "text": [
      "\r",
      " 60%|██████    | 4301/7119 [00:10<00:12, 227.52it/s]"
     ]
    },
    {
     "name": "stdout",
     "output_type": "stream",
     "text": [
      "Save data at index 4400 ...\n"
     ]
    },
    {
     "name": "stderr",
     "output_type": "stream",
     "text": [
      "\r",
      " 62%|██████▏   | 4401/7119 [00:11<00:11, 228.31it/s]"
     ]
    },
    {
     "name": "stdout",
     "output_type": "stream",
     "text": [
      "Save data at index 4500 ...\n"
     ]
    },
    {
     "name": "stderr",
     "output_type": "stream",
     "text": [
      "\r",
      " 63%|██████▎   | 4501/7119 [00:11<00:11, 224.22it/s]"
     ]
    },
    {
     "name": "stdout",
     "output_type": "stream",
     "text": [
      "Save data at index 4600 ...\n"
     ]
    },
    {
     "name": "stderr",
     "output_type": "stream",
     "text": [
      "\r",
      " 65%|██████▍   | 4601/7119 [00:12<00:11, 217.01it/s]"
     ]
    },
    {
     "name": "stdout",
     "output_type": "stream",
     "text": [
      "Save data at index 4700 ...\n"
     ]
    },
    {
     "name": "stderr",
     "output_type": "stream",
     "text": [
      "\r",
      " 66%|██████▌   | 4701/7119 [00:12<00:10, 221.07it/s]"
     ]
    },
    {
     "name": "stdout",
     "output_type": "stream",
     "text": [
      "Save data at index 4800 ...\n"
     ]
    },
    {
     "name": "stderr",
     "output_type": "stream",
     "text": [
      "\r",
      " 67%|██████▋   | 4801/7119 [00:13<00:10, 222.06it/s]"
     ]
    },
    {
     "name": "stdout",
     "output_type": "stream",
     "text": [
      "Save data at index 4900 ...\n"
     ]
    },
    {
     "name": "stderr",
     "output_type": "stream",
     "text": [
      "\r",
      " 69%|██████▉   | 4901/7119 [00:13<00:09, 222.29it/s]"
     ]
    },
    {
     "name": "stdout",
     "output_type": "stream",
     "text": [
      "Save data at index 5000 ...\n"
     ]
    },
    {
     "name": "stderr",
     "output_type": "stream",
     "text": [
      "\r",
      " 70%|███████   | 5001/7119 [00:13<00:08, 235.34it/s]"
     ]
    },
    {
     "name": "stdout",
     "output_type": "stream",
     "text": [
      "Save data at index 5100 ...\n"
     ]
    },
    {
     "name": "stderr",
     "output_type": "stream",
     "text": [
      "\r",
      " 72%|███████▏  | 5101/7119 [00:14<00:09, 219.17it/s]"
     ]
    },
    {
     "name": "stdout",
     "output_type": "stream",
     "text": [
      "Save data at index 5200 ...\n"
     ]
    },
    {
     "name": "stderr",
     "output_type": "stream",
     "text": [
      "\r",
      " 73%|███████▎  | 5201/7119 [00:14<00:09, 204.37it/s]"
     ]
    },
    {
     "name": "stdout",
     "output_type": "stream",
     "text": [
      "Save data at index 5300 ...\n"
     ]
    },
    {
     "name": "stderr",
     "output_type": "stream",
     "text": [
      "\r",
      " 74%|███████▍  | 5301/7119 [00:15<00:08, 218.45it/s]"
     ]
    },
    {
     "name": "stdout",
     "output_type": "stream",
     "text": [
      "Save data at index 5400 ...\n"
     ]
    },
    {
     "name": "stderr",
     "output_type": "stream",
     "text": [
      "\r",
      " 76%|███████▌  | 5401/7119 [00:15<00:08, 200.84it/s]"
     ]
    },
    {
     "name": "stdout",
     "output_type": "stream",
     "text": [
      "Save data at index 5500 ...\n"
     ]
    },
    {
     "name": "stderr",
     "output_type": "stream",
     "text": [
      "\r",
      " 77%|███████▋  | 5501/7119 [00:16<00:09, 174.95it/s]"
     ]
    },
    {
     "name": "stdout",
     "output_type": "stream",
     "text": [
      "Save data at index 5600 ...\n"
     ]
    },
    {
     "name": "stderr",
     "output_type": "stream",
     "text": [
      "\r",
      " 79%|███████▊  | 5601/7119 [00:17<00:09, 163.55it/s]"
     ]
    },
    {
     "name": "stdout",
     "output_type": "stream",
     "text": [
      "Save data at index 5700 ...\n"
     ]
    },
    {
     "name": "stderr",
     "output_type": "stream",
     "text": [
      "\r",
      " 80%|████████  | 5701/7119 [00:17<00:08, 169.86it/s]"
     ]
    },
    {
     "name": "stdout",
     "output_type": "stream",
     "text": [
      "Save data at index 5800 ...\n"
     ]
    },
    {
     "name": "stderr",
     "output_type": "stream",
     "text": [
      "\r",
      " 81%|████████▏ | 5801/7119 [00:18<00:07, 175.58it/s]"
     ]
    },
    {
     "name": "stdout",
     "output_type": "stream",
     "text": [
      "Save data at index 5900 ...\n"
     ]
    },
    {
     "name": "stderr",
     "output_type": "stream",
     "text": [
      "\r",
      " 83%|████████▎ | 5901/7119 [00:18<00:06, 192.41it/s]"
     ]
    },
    {
     "name": "stdout",
     "output_type": "stream",
     "text": [
      "Save data at index 6000 ...\n"
     ]
    },
    {
     "name": "stderr",
     "output_type": "stream",
     "text": [
      "\r",
      " 84%|████████▍ | 6001/7119 [00:19<00:06, 184.06it/s]"
     ]
    },
    {
     "name": "stdout",
     "output_type": "stream",
     "text": [
      "Save data at index 6100 ...\n"
     ]
    },
    {
     "name": "stderr",
     "output_type": "stream",
     "text": [
      "\r",
      " 86%|████████▌ | 6101/7119 [00:20<00:05, 179.02it/s]"
     ]
    },
    {
     "name": "stdout",
     "output_type": "stream",
     "text": [
      "Save data at index 6200 ...\n"
     ]
    },
    {
     "name": "stderr",
     "output_type": "stream",
     "text": [
      "\r",
      " 87%|████████▋ | 6201/7119 [00:20<00:05, 174.95it/s]"
     ]
    },
    {
     "name": "stdout",
     "output_type": "stream",
     "text": [
      "Save data at index 6300 ...\n"
     ]
    },
    {
     "name": "stderr",
     "output_type": "stream",
     "text": [
      "\r",
      " 89%|████████▊ | 6301/7119 [00:21<00:04, 170.95it/s]"
     ]
    },
    {
     "name": "stdout",
     "output_type": "stream",
     "text": [
      "Save data at index 6400 ...\n"
     ]
    },
    {
     "name": "stderr",
     "output_type": "stream",
     "text": [
      "\r",
      " 90%|████████▉ | 6401/7119 [00:21<00:04, 179.30it/s]"
     ]
    },
    {
     "name": "stdout",
     "output_type": "stream",
     "text": [
      "Save data at index 6500 ...\n"
     ]
    },
    {
     "name": "stderr",
     "output_type": "stream",
     "text": [
      "\r",
      " 91%|█████████▏| 6501/7119 [00:22<00:03, 176.87it/s]"
     ]
    },
    {
     "name": "stdout",
     "output_type": "stream",
     "text": [
      "Save data at index 6600 ...\n"
     ]
    },
    {
     "name": "stderr",
     "output_type": "stream",
     "text": [
      "\r",
      " 93%|█████████▎| 6601/7119 [00:22<00:02, 189.09it/s]"
     ]
    },
    {
     "name": "stdout",
     "output_type": "stream",
     "text": [
      "Save data at index 6700 ...\n"
     ]
    },
    {
     "name": "stderr",
     "output_type": "stream",
     "text": [
      "\r",
      " 94%|█████████▍| 6701/7119 [00:23<00:02, 200.49it/s]"
     ]
    },
    {
     "name": "stdout",
     "output_type": "stream",
     "text": [
      "Save data at index 6800 ...\n"
     ]
    },
    {
     "name": "stderr",
     "output_type": "stream",
     "text": [
      "\r",
      " 96%|█████████▌| 6801/7119 [00:23<00:01, 215.03it/s]"
     ]
    },
    {
     "name": "stdout",
     "output_type": "stream",
     "text": [
      "Save data at index 6900 ...\n"
     ]
    },
    {
     "name": "stderr",
     "output_type": "stream",
     "text": [
      "\r",
      " 97%|█████████▋| 6901/7119 [00:24<00:01, 209.06it/s]"
     ]
    },
    {
     "name": "stdout",
     "output_type": "stream",
     "text": [
      "Save data at index 7000 ...\n"
     ]
    },
    {
     "name": "stderr",
     "output_type": "stream",
     "text": [
      "\r",
      " 98%|█████████▊| 7001/7119 [00:24<00:00, 192.06it/s]"
     ]
    },
    {
     "name": "stdout",
     "output_type": "stream",
     "text": [
      "Save data at index 7100 ...\n"
     ]
    },
    {
     "name": "stderr",
     "output_type": "stream",
     "text": [
      "100%|██████████| 7119/7119 [00:25<00:00, 283.31it/s]\n"
     ]
    }
   ],
   "source": [
    "result = scrapping_refferal_site(data_2018_level2,\n",
    "                                 output_file='/home/paco/Documents/site_similarity/dataset/modified_corpus_2018_referral_sites_level_3.json')"
   ]
  },
  {
   "cell_type": "code",
   "execution_count": 21,
   "metadata": {},
   "outputs": [
    {
     "data": {
      "text/plain": [
       "15799"
      ]
     },
     "execution_count": 21,
     "metadata": {},
     "output_type": "execute_result"
    }
   ],
   "source": [
    "len(result)"
   ]
  },
  {
   "cell_type": "code",
   "execution_count": 22,
   "metadata": {
    "tags": []
   },
   "outputs": [
    {
     "name": "stderr",
     "output_type": "stream",
     "text": [
      "  2%|▏         | 128/7119 [00:00<00:05, 1269.65it/s]"
     ]
    },
    {
     "name": "stdout",
     "output_type": "stream",
     "text": [
      "Save data at index 0 ...\n",
      "Save data at index 100 ...\n",
      "Save data at index 200 ...\n"
     ]
    },
    {
     "name": "stderr",
     "output_type": "stream",
     "text": [
      "  6%|▋         | 454/7119 [00:00<00:05, 1127.65it/s]"
     ]
    },
    {
     "name": "stdout",
     "output_type": "stream",
     "text": [
      "Save data at index 300 ...\n",
      "Save data at index 400 ...\n",
      "Save data at index 500 ...\n"
     ]
    },
    {
     "name": "stderr",
     "output_type": "stream",
     "text": [
      " 11%|█         | 800/7119 [00:00<00:05, 1142.18it/s]"
     ]
    },
    {
     "name": "stdout",
     "output_type": "stream",
     "text": [
      "Save data at index 600 ...\n",
      "Save data at index 700 ...\n",
      "Save data at index 800 ...\n"
     ]
    },
    {
     "name": "stderr",
     "output_type": "stream",
     "text": [
      "\r",
      " 13%|█▎        | 905/7119 [00:00<00:07, 842.02it/s] "
     ]
    },
    {
     "name": "stdout",
     "output_type": "stream",
     "text": [
      "Save data at index 900 ...\n",
      "Save data at index 1000 ...\n"
     ]
    },
    {
     "name": "stderr",
     "output_type": "stream",
     "text": [
      " 15%|█▌        | 1101/7119 [00:01<00:08, 690.97it/s]"
     ]
    },
    {
     "name": "stdout",
     "output_type": "stream",
     "text": [
      "Save data at index 1100 ...\n",
      "Save data at index 1200 ...\n"
     ]
    },
    {
     "name": "stderr",
     "output_type": "stream",
     "text": [
      " 18%|█▊        | 1301/7119 [00:01<00:10, 558.82it/s]"
     ]
    },
    {
     "name": "stdout",
     "output_type": "stream",
     "text": [
      "Save data at index 1300 ...\n"
     ]
    },
    {
     "name": "stderr",
     "output_type": "stream",
     "text": [
      "\r",
      " 20%|█▉        | 1401/7119 [00:01<00:09, 574.85it/s]"
     ]
    },
    {
     "name": "stdout",
     "output_type": "stream",
     "text": [
      "Save data at index 1400 ...\n",
      "Save data at index 1500 ...\n"
     ]
    },
    {
     "name": "stderr",
     "output_type": "stream",
     "text": [
      " 22%|██▏       | 1601/7119 [00:02<00:10, 531.34it/s]"
     ]
    },
    {
     "name": "stdout",
     "output_type": "stream",
     "text": [
      "Save data at index 1600 ...\n"
     ]
    },
    {
     "name": "stderr",
     "output_type": "stream",
     "text": [
      "\r",
      " 24%|██▍       | 1701/7119 [00:02<00:11, 466.26it/s]"
     ]
    },
    {
     "name": "stdout",
     "output_type": "stream",
     "text": [
      "Save data at index 1700 ...\n"
     ]
    },
    {
     "name": "stderr",
     "output_type": "stream",
     "text": [
      "\r",
      " 25%|██▌       | 1801/7119 [00:02<00:11, 474.93it/s]"
     ]
    },
    {
     "name": "stdout",
     "output_type": "stream",
     "text": [
      "Save data at index 1800 ...\n"
     ]
    },
    {
     "name": "stderr",
     "output_type": "stream",
     "text": [
      "\r",
      " 27%|██▋       | 1901/7119 [00:02<00:11, 458.64it/s]"
     ]
    },
    {
     "name": "stdout",
     "output_type": "stream",
     "text": [
      "Save data at index 1900 ...\n",
      "Save data at index 2000 ...\n"
     ]
    },
    {
     "name": "stderr",
     "output_type": "stream",
     "text": [
      " 30%|██▉       | 2101/7119 [00:03<00:12, 414.86it/s]"
     ]
    },
    {
     "name": "stdout",
     "output_type": "stream",
     "text": [
      "Save data at index 2100 ...\n"
     ]
    },
    {
     "name": "stderr",
     "output_type": "stream",
     "text": [
      "\r",
      " 31%|███       | 2201/7119 [00:03<00:11, 416.80it/s]"
     ]
    },
    {
     "name": "stdout",
     "output_type": "stream",
     "text": [
      "Save data at index 2200 ...\n"
     ]
    },
    {
     "name": "stderr",
     "output_type": "stream",
     "text": [
      "\r",
      " 32%|███▏      | 2301/7119 [00:03<00:11, 423.46it/s]"
     ]
    },
    {
     "name": "stdout",
     "output_type": "stream",
     "text": [
      "Save data at index 2300 ...\n"
     ]
    },
    {
     "name": "stderr",
     "output_type": "stream",
     "text": [
      "\r",
      " 34%|███▎      | 2401/7119 [00:04<00:11, 421.14it/s]"
     ]
    },
    {
     "name": "stdout",
     "output_type": "stream",
     "text": [
      "Save data at index 2400 ...\n",
      "Save data at index 2500 ...\n"
     ]
    },
    {
     "name": "stderr",
     "output_type": "stream",
     "text": [
      "\r",
      " 35%|███▌      | 2501/7119 [00:04<00:11, 406.67it/s]"
     ]
    },
    {
     "name": "stdout",
     "output_type": "stream",
     "text": [
      "Save data at index 2600 ...\n"
     ]
    },
    {
     "name": "stderr",
     "output_type": "stream",
     "text": [
      " 38%|███▊      | 2701/7119 [00:04<00:10, 417.83it/s]"
     ]
    },
    {
     "name": "stdout",
     "output_type": "stream",
     "text": [
      "Save data at index 2700 ...\n"
     ]
    },
    {
     "name": "stderr",
     "output_type": "stream",
     "text": [
      "\r",
      " 39%|███▉      | 2801/7119 [00:05<00:09, 445.21it/s]"
     ]
    },
    {
     "name": "stdout",
     "output_type": "stream",
     "text": [
      "Save data at index 2800 ...\n",
      "Save data at index 2900 ...\n"
     ]
    },
    {
     "name": "stderr",
     "output_type": "stream",
     "text": [
      "\r",
      " 41%|████      | 2901/7119 [00:05<00:09, 465.88it/s]"
     ]
    },
    {
     "name": "stdout",
     "output_type": "stream",
     "text": [
      "Save data at index 3000 ...\n"
     ]
    },
    {
     "name": "stderr",
     "output_type": "stream",
     "text": [
      " 44%|████▎     | 3101/7119 [00:05<00:08, 459.54it/s]"
     ]
    },
    {
     "name": "stdout",
     "output_type": "stream",
     "text": [
      "Save data at index 3100 ...\n",
      "Save data at index 3200 ...\n"
     ]
    },
    {
     "name": "stderr",
     "output_type": "stream",
     "text": [
      " 46%|████▋     | 3301/7119 [00:06<00:09, 424.19it/s]"
     ]
    },
    {
     "name": "stdout",
     "output_type": "stream",
     "text": [
      "Save data at index 3300 ...\n",
      "Save data at index 3400 ...\n"
     ]
    },
    {
     "name": "stderr",
     "output_type": "stream",
     "text": [
      " 49%|████▉     | 3501/7119 [00:06<00:08, 427.72it/s]"
     ]
    },
    {
     "name": "stdout",
     "output_type": "stream",
     "text": [
      "Save data at index 3500 ...\n",
      "Save data at index 3600 ...\n"
     ]
    },
    {
     "name": "stderr",
     "output_type": "stream",
     "text": [
      "\r",
      " 51%|█████     | 3601/7119 [00:07<00:09, 382.65it/s]"
     ]
    },
    {
     "name": "stdout",
     "output_type": "stream",
     "text": [
      "Save data at index 3700 ...\n"
     ]
    },
    {
     "name": "stderr",
     "output_type": "stream",
     "text": [
      "\r",
      " 52%|█████▏    | 3701/7119 [00:07<00:09, 362.94it/s]"
     ]
    },
    {
     "name": "stdout",
     "output_type": "stream",
     "text": [
      "Save data at index 3800 ...\n"
     ]
    },
    {
     "name": "stderr",
     "output_type": "stream",
     "text": [
      "\r",
      " 53%|█████▎    | 3801/7119 [00:07<00:10, 328.31it/s]"
     ]
    },
    {
     "name": "stdout",
     "output_type": "stream",
     "text": [
      "Save data at index 3900 ...\n"
     ]
    },
    {
     "name": "stderr",
     "output_type": "stream",
     "text": [
      "\r",
      " 55%|█████▍    | 3901/7119 [00:08<00:10, 310.25it/s]"
     ]
    },
    {
     "name": "stdout",
     "output_type": "stream",
     "text": [
      "Save data at index 4000 ...\n"
     ]
    },
    {
     "name": "stderr",
     "output_type": "stream",
     "text": [
      "\r",
      " 56%|█████▌    | 4001/7119 [00:08<00:10, 295.98it/s]"
     ]
    },
    {
     "name": "stdout",
     "output_type": "stream",
     "text": [
      "Save data at index 4100 ...\n"
     ]
    },
    {
     "name": "stderr",
     "output_type": "stream",
     "text": [
      "\r",
      " 58%|█████▊    | 4101/7119 [00:08<00:10, 285.85it/s]"
     ]
    },
    {
     "name": "stdout",
     "output_type": "stream",
     "text": [
      "Save data at index 4200 ...\n"
     ]
    },
    {
     "name": "stderr",
     "output_type": "stream",
     "text": [
      "\r",
      " 59%|█████▉    | 4201/7119 [00:09<00:09, 298.24it/s]"
     ]
    },
    {
     "name": "stdout",
     "output_type": "stream",
     "text": [
      "Save data at index 4300 ...\n"
     ]
    },
    {
     "name": "stderr",
     "output_type": "stream",
     "text": [
      "\r",
      " 60%|██████    | 4301/7119 [00:09<00:08, 319.66it/s]"
     ]
    },
    {
     "name": "stdout",
     "output_type": "stream",
     "text": [
      "Save data at index 4400 ...\n"
     ]
    },
    {
     "name": "stderr",
     "output_type": "stream",
     "text": [
      "\r",
      " 62%|██████▏   | 4401/7119 [00:09<00:08, 331.21it/s]"
     ]
    },
    {
     "name": "stdout",
     "output_type": "stream",
     "text": [
      "Save data at index 4500 ...\n"
     ]
    },
    {
     "name": "stderr",
     "output_type": "stream",
     "text": [
      "\r",
      " 63%|██████▎   | 4501/7119 [00:10<00:08, 323.78it/s]"
     ]
    },
    {
     "name": "stdout",
     "output_type": "stream",
     "text": [
      "Save data at index 4600 ...\n"
     ]
    },
    {
     "name": "stderr",
     "output_type": "stream",
     "text": [
      "\r",
      " 65%|██████▍   | 4601/7119 [00:10<00:08, 313.38it/s]"
     ]
    },
    {
     "name": "stdout",
     "output_type": "stream",
     "text": [
      "Save data at index 4700 ...\n"
     ]
    },
    {
     "name": "stderr",
     "output_type": "stream",
     "text": [
      "\r",
      " 66%|██████▌   | 4701/7119 [00:10<00:07, 327.40it/s]"
     ]
    },
    {
     "name": "stdout",
     "output_type": "stream",
     "text": [
      "Save data at index 4800 ...\n"
     ]
    },
    {
     "name": "stderr",
     "output_type": "stream",
     "text": [
      "\r",
      " 67%|██████▋   | 4801/7119 [00:11<00:08, 287.89it/s]"
     ]
    },
    {
     "name": "stdout",
     "output_type": "stream",
     "text": [
      "Save data at index 4900 ...\n"
     ]
    },
    {
     "name": "stderr",
     "output_type": "stream",
     "text": [
      "\r",
      " 69%|██████▉   | 4901/7119 [00:11<00:07, 304.41it/s]"
     ]
    },
    {
     "name": "stdout",
     "output_type": "stream",
     "text": [
      "Save data at index 5000 ...\n"
     ]
    },
    {
     "name": "stderr",
     "output_type": "stream",
     "text": [
      "\r",
      " 70%|███████   | 5001/7119 [00:11<00:07, 271.15it/s]"
     ]
    },
    {
     "name": "stdout",
     "output_type": "stream",
     "text": [
      "Save data at index 5100 ...\n"
     ]
    },
    {
     "name": "stderr",
     "output_type": "stream",
     "text": [
      "\r",
      " 72%|███████▏  | 5101/7119 [00:12<00:07, 267.23it/s]"
     ]
    },
    {
     "name": "stdout",
     "output_type": "stream",
     "text": [
      "Save data at index 5200 ...\n"
     ]
    },
    {
     "name": "stderr",
     "output_type": "stream",
     "text": [
      "\r",
      " 73%|███████▎  | 5201/7119 [00:12<00:06, 284.44it/s]"
     ]
    },
    {
     "name": "stdout",
     "output_type": "stream",
     "text": [
      "Save data at index 5300 ...\n"
     ]
    },
    {
     "name": "stderr",
     "output_type": "stream",
     "text": [
      "\r",
      " 74%|███████▍  | 5301/7119 [00:13<00:07, 257.93it/s]"
     ]
    },
    {
     "name": "stdout",
     "output_type": "stream",
     "text": [
      "Save data at index 5400 ...\n"
     ]
    },
    {
     "name": "stderr",
     "output_type": "stream",
     "text": [
      "\r",
      " 76%|███████▌  | 5401/7119 [00:13<00:07, 239.36it/s]"
     ]
    },
    {
     "name": "stdout",
     "output_type": "stream",
     "text": [
      "Save data at index 5500 ...\n"
     ]
    },
    {
     "name": "stderr",
     "output_type": "stream",
     "text": [
      "\r",
      " 77%|███████▋  | 5501/7119 [00:14<00:07, 224.73it/s]"
     ]
    },
    {
     "name": "stdout",
     "output_type": "stream",
     "text": [
      "Save data at index 5600 ...\n"
     ]
    },
    {
     "name": "stderr",
     "output_type": "stream",
     "text": [
      "\r",
      " 79%|███████▊  | 5601/7119 [00:14<00:06, 219.84it/s]"
     ]
    },
    {
     "name": "stdout",
     "output_type": "stream",
     "text": [
      "Save data at index 5700 ...\n"
     ]
    },
    {
     "name": "stderr",
     "output_type": "stream",
     "text": [
      "\r",
      " 80%|████████  | 5701/7119 [00:14<00:05, 237.65it/s]"
     ]
    },
    {
     "name": "stdout",
     "output_type": "stream",
     "text": [
      "Save data at index 5800 ...\n"
     ]
    },
    {
     "name": "stderr",
     "output_type": "stream",
     "text": [
      "\r",
      " 81%|████████▏ | 5801/7119 [00:15<00:05, 238.03it/s]"
     ]
    },
    {
     "name": "stdout",
     "output_type": "stream",
     "text": [
      "Save data at index 5900 ...\n"
     ]
    },
    {
     "name": "stderr",
     "output_type": "stream",
     "text": [
      "\r",
      " 83%|████████▎ | 5901/7119 [00:15<00:04, 254.81it/s]"
     ]
    },
    {
     "name": "stdout",
     "output_type": "stream",
     "text": [
      "Save data at index 6000 ...\n"
     ]
    },
    {
     "name": "stderr",
     "output_type": "stream",
     "text": [
      "\r",
      " 84%|████████▍ | 6001/7119 [00:16<00:04, 230.16it/s]"
     ]
    },
    {
     "name": "stdout",
     "output_type": "stream",
     "text": [
      "Save data at index 6100 ...\n"
     ]
    },
    {
     "name": "stderr",
     "output_type": "stream",
     "text": [
      "\r",
      " 86%|████████▌ | 6101/7119 [00:16<00:04, 211.81it/s]"
     ]
    },
    {
     "name": "stdout",
     "output_type": "stream",
     "text": [
      "Save data at index 6200 ...\n"
     ]
    },
    {
     "name": "stderr",
     "output_type": "stream",
     "text": [
      "\r",
      " 87%|████████▋ | 6201/7119 [00:17<00:03, 229.98it/s]"
     ]
    },
    {
     "name": "stdout",
     "output_type": "stream",
     "text": [
      "Save data at index 6300 ...\n"
     ]
    },
    {
     "name": "stderr",
     "output_type": "stream",
     "text": [
      "\r",
      " 89%|████████▊ | 6301/7119 [00:17<00:03, 234.86it/s]"
     ]
    },
    {
     "name": "stdout",
     "output_type": "stream",
     "text": [
      "Save data at index 6400 ...\n"
     ]
    },
    {
     "name": "stderr",
     "output_type": "stream",
     "text": [
      "\r",
      " 90%|████████▉ | 6401/7119 [00:17<00:03, 216.21it/s]"
     ]
    },
    {
     "name": "stdout",
     "output_type": "stream",
     "text": [
      "Save data at index 6500 ...\n"
     ]
    },
    {
     "name": "stderr",
     "output_type": "stream",
     "text": [
      "\r",
      " 91%|█████████▏| 6501/7119 [00:18<00:02, 219.88it/s]"
     ]
    },
    {
     "name": "stdout",
     "output_type": "stream",
     "text": [
      "Save data at index 6600 ...\n"
     ]
    },
    {
     "name": "stderr",
     "output_type": "stream",
     "text": [
      "\r",
      " 93%|█████████▎| 6601/7119 [00:18<00:02, 233.32it/s]"
     ]
    },
    {
     "name": "stdout",
     "output_type": "stream",
     "text": [
      "Save data at index 6700 ...\n"
     ]
    },
    {
     "name": "stderr",
     "output_type": "stream",
     "text": [
      "\r",
      " 94%|█████████▍| 6701/7119 [00:19<00:01, 237.44it/s]"
     ]
    },
    {
     "name": "stdout",
     "output_type": "stream",
     "text": [
      "Save data at index 6800 ...\n"
     ]
    },
    {
     "name": "stderr",
     "output_type": "stream",
     "text": [
      "\r",
      " 96%|█████████▌| 6801/7119 [00:19<00:01, 199.44it/s]"
     ]
    },
    {
     "name": "stdout",
     "output_type": "stream",
     "text": [
      "Save data at index 6900 ...\n"
     ]
    },
    {
     "name": "stderr",
     "output_type": "stream",
     "text": [
      "\r",
      " 97%|█████████▋| 6901/7119 [00:20<00:01, 201.93it/s]"
     ]
    },
    {
     "name": "stdout",
     "output_type": "stream",
     "text": [
      "Save data at index 7000 ...\n"
     ]
    },
    {
     "name": "stderr",
     "output_type": "stream",
     "text": [
      "\r",
      " 98%|█████████▊| 7001/7119 [00:20<00:00, 203.26it/s]"
     ]
    },
    {
     "name": "stdout",
     "output_type": "stream",
     "text": [
      "Save data at index 7100 ...\n"
     ]
    },
    {
     "name": "stderr",
     "output_type": "stream",
     "text": [
      "100%|██████████| 7119/7119 [00:21<00:00, 331.87it/s]\n"
     ]
    }
   ],
   "source": [
    "result = scrapping_refferal_site(data_2018_level2, output_file='/home/paco/Documents/site_similarity/data/modified_corpus_2018_referral_sites_level_3.json')"
   ]
  },
  {
   "cell_type": "code",
   "execution_count": 23,
   "metadata": {
    "scrolled": true
   },
   "outputs": [
    {
     "data": {
      "text/plain": [
       "213"
      ]
     },
     "execution_count": 23,
     "metadata": {},
     "output_type": "execute_result"
    }
   ],
   "source": [
    "len([res for res in result.values() if not res])"
   ]
  },
  {
   "cell_type": "code",
   "execution_count": 24,
   "metadata": {},
   "outputs": [],
   "source": [
    "with open('/home/paco/Documents/site_similarity/dataset/modified_corpus_2018_referral_sites_level_3.json', 'w') as f:\n",
    "    json.dump(result, f)"
   ]
  },
  {
   "cell_type": "code",
   "execution_count": 25,
   "metadata": {},
   "outputs": [],
   "source": [
    "with open('/home/paco/Documents/site_similarity/dataset/modified_corpus_2018_referral_sites_level_3.json', 'r') as f:\n",
    "    loaded_res = json.load(f)"
   ]
  },
  {
   "cell_type": "code",
   "execution_count": 26,
   "metadata": {},
   "outputs": [
    {
     "data": {
      "text/plain": [
       "15799"
      ]
     },
     "execution_count": 26,
     "metadata": {},
     "output_type": "execute_result"
    }
   ],
   "source": [
    "len(loaded_res)"
   ]
  },
  {
   "cell_type": "code",
   "execution_count": 27,
   "metadata": {},
   "outputs": [
    {
     "data": {
      "text/plain": [
       "213"
      ]
     },
     "execution_count": 27,
     "metadata": {},
     "output_type": "execute_result"
    }
   ],
   "source": [
    "len([res for res in loaded_res.values() if not res])"
   ]
  },
  {
   "cell_type": "code",
   "execution_count": null,
   "metadata": {},
   "outputs": [],
   "source": []
  }
 ],
 "metadata": {
  "kernelspec": {
   "display_name": "Python 3.6.12 64-bit",
   "language": "python",
   "name": "python361264bit3d20f2086b6e40b0a9a1c989b417ca11"
  },
  "language_info": {
   "codemirror_mode": {
    "name": "ipython",
    "version": 3
   },
   "file_extension": ".py",
   "mimetype": "text/x-python",
   "name": "python",
   "nbconvert_exporter": "python",
   "pygments_lexer": "ipython3",
   "version": "3.7.9-final"
  }
 },
 "nbformat": 4,
 "nbformat_minor": 2
}