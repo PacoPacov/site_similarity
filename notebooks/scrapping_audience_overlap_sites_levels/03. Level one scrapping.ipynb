{
 "cells": [
  {
   "cell_type": "code",
   "execution_count": 1,
   "outputs": [],
   "source": [
    "import json\n",
    "with open(\"/home/paco/Documents/site_similarity/data/scrapping_results/processed level 0 results.json\") as f:\n",
    "    lvl_zero_data = json.load(f)"
   ],
   "metadata": {
    "collapsed": false,
    "pycharm": {
     "name": "#%%\n"
    }
   }
  },
  {
   "cell_type": "code",
   "execution_count": 5,
   "outputs": [
    {
     "data": {
      "text/plain": "1062"
     },
     "execution_count": 5,
     "metadata": {},
     "output_type": "execute_result"
    }
   ],
   "source": [
    "len(lvl_zero_data)"
   ],
   "metadata": {
    "collapsed": false,
    "pycharm": {
     "name": "#%%\n"
    }
   }
  },
  {
   "cell_type": "code",
   "execution_count": 3,
   "outputs": [
    {
     "name": "stdout",
     "output_type": "stream",
     "text": [
      "{'villagevoice.com': {'audience_geography': [{'country': 'United States',\n",
      "                                              'percent': 77.2}],\n",
      "                      'score': [{'alexa_rank': 51694.0,\n",
      "                                 'overlap_score': 4.1,\n",
      "                                 'url': 'nylon.com'},\n",
      "                                {'alexa_rank': 92418.0,\n",
      "                                 'overlap_score': 2.5,\n",
      "                                 'url': 'slantmagazine.com'},\n",
      "                                {'alexa_rank': 16813.0,\n",
      "                                 'overlap_score': 2.4,\n",
      "                                 'url': 'gothamist.com'},\n",
      "                                {'alexa_rank': 110772.0,\n",
      "                                 'overlap_score': 2.1,\n",
      "                                 'url': 'screendaily.com'},\n",
      "                                {'alexa_rank': 69192.0,\n",
      "                                 'overlap_score': 2.1,\n",
      "                                 'url': 'amny.com'}],\n",
      "                      'site': 'villagevoice.com'}}\n"
     ]
    }
   ],
   "source": [
    "from pprint import pprint\n",
    "\n",
    "pprint(lvl_zero_data['villagevoice.com'])"
   ],
   "metadata": {
    "collapsed": false,
    "pycharm": {
     "name": "#%%\n"
    }
   }
  },
  {
   "cell_type": "code",
   "execution_count": 4,
   "outputs": [
    {
     "name": "stderr",
     "output_type": "stream",
     "text": [
      "100%|██████████| 1062/1062 [13:18<00:00,  1.33it/s]\n"
     ]
    }
   ],
   "source": [
    "from dataprep.alexa_scrapper import scrapping\n",
    "\n",
    "results = scrapping(lvl_zero_data, target_dir=\"/home/paco/Documents/site_similarity/data/level 1 scrapping/\")"
   ],
   "metadata": {
    "collapsed": false,
    "pycharm": {
     "name": "#%%\n"
    }
   }
  },
  {
   "cell_type": "code",
   "source": [
    "len(results)\n"
   ],
   "metadata": {
    "collapsed": false,
    "pycharm": {
     "name": "#%%\n"
    }
   },
   "execution_count": 6,
   "outputs": [
    {
     "data": {
      "text/plain": "1062"
     },
     "execution_count": 6,
     "metadata": {},
     "output_type": "execute_result"
    }
   ]
  },
  {
   "cell_type": "code",
   "execution_count": 7,
   "outputs": [
    {
     "name": "stdout",
     "output_type": "stream",
     "text": [
      "{'amny.com': {'audience_geography': [{'country': 'United States',\n",
      "                                      'percent': 90.6},\n",
      "                                     {'country': 'Bangladesh', 'percent': 0.8}],\n",
      "              'score': [{'alexa_rank': 16740.0,\n",
      "                         'overlap_score': 15.2,\n",
      "                         'url': 'gothamist.com'},\n",
      "                        {'alexa_rank': 41637.0,\n",
      "                         'overlap_score': 14.9,\n",
      "                         'url': 'ny1.com'},\n",
      "                        {'alexa_rank': 17272.0,\n",
      "                         'overlap_score': 14.4,\n",
      "                         'url': 'abc7ny.com'},\n",
      "                        {'alexa_rank': 14853.0,\n",
      "                         'overlap_score': 13.8,\n",
      "                         'url': 'nbcnewyork.com'},\n",
      "                        {'alexa_rank': 52648.0,\n",
      "                         'overlap_score': 11.0,\n",
      "                         'url': 'pix11.com'}],\n",
      "              'site': 'amny.com'},\n",
      " 'gothamist.com': {'audience_geography': [{'country': 'United States',\n",
      "                                           'percent': 93.8},\n",
      "                                          {'country': 'Canada', 'percent': 1.0},\n",
      "                                          {'country': 'India', 'percent': 0.5}],\n",
      "                   'score': [{'alexa_rank': 14853.0,\n",
      "                              'overlap_score': 18.3,\n",
      "                              'url': 'nbcnewyork.com'},\n",
      "                             {'alexa_rank': 17272.0,\n",
      "                              'overlap_score': 17.5,\n",
      "                              'url': 'abc7ny.com'},\n",
      "                             {'alexa_rank': 41637.0,\n",
      "                              'overlap_score': 15.2,\n",
      "                              'url': 'ny1.com'},\n",
      "                             {'alexa_rank': 2881.0,\n",
      "                              'overlap_score': 15.2,\n",
      "                              'url': 'nyc.gov'},\n",
      "                             {'alexa_rank': 69870.0,\n",
      "                              'overlap_score': 15.2,\n",
      "                              'url': 'amny.com'}],\n",
      "                   'site': 'gothamist.com'},\n",
      " 'nylon.com': {'audience_geography': [{'country': 'United States',\n",
      "                                       'percent': 75.0},\n",
      "                                      {'country': 'Canada', 'percent': 4.8},\n",
      "                                      {'country': 'India', 'percent': 2.3}],\n",
      "               'score': [{'alexa_rank': 173807.0,\n",
      "                          'overlap_score': 16.1,\n",
      "                          'url': 'compatible-astrology.com'},\n",
      "                         {'alexa_rank': 18913.0,\n",
      "                          'overlap_score': 14.1,\n",
      "                          'url': 'astrology-zodiac-signs.com'},\n",
      "                         {'alexa_rank': 31762.0,\n",
      "                          'overlap_score': 13.8,\n",
      "                          'url': 'papermag.com'},\n",
      "                         {'alexa_rank': 16859.0,\n",
      "                          'overlap_score': 12.7,\n",
      "                          'url': 'astrology.com'},\n",
      "                         {'alexa_rank': 10267.0,\n",
      "                          'overlap_score': 11.1,\n",
      "                          'url': 'flaunt.com'}],\n",
      "               'site': 'nylon.com'},\n",
      " 'screendaily.com': {'audience_geography': [{'country': 'United States',\n",
      "                                             'percent': 19.6},\n",
      "                                            {'country': 'India',\n",
      "                                             'percent': 9.8},\n",
      "                                            {'country': 'Canada',\n",
      "                                             'percent': 4.3}],\n",
      "                     'score': [{'alexa_rank': 68374.0,\n",
      "                                'overlap_score': 15.7,\n",
      "                                'url': 'cineuropa.org'},\n",
      "                               {'alexa_rank': 65383.0,\n",
      "                                'overlap_score': 5.6,\n",
      "                                'url': 'theplaylist.net'},\n",
      "                               {'alexa_rank': 14132.0,\n",
      "                                'overlap_score': 5.4,\n",
      "                                'url': 'boxofficemojo.com'},\n",
      "                               {'alexa_rank': 215832.0,\n",
      "                                'overlap_score': 5.2,\n",
      "                                'url': 'moviemeter.nl'},\n",
      "                               {'alexa_rank': 2817.0,\n",
      "                                'overlap_score': 5.0,\n",
      "                                'url': 'letterboxd.com'}],\n",
      "                     'site': 'screendaily.com'},\n",
      " 'slantmagazine.com': {'audience_geography': [{'country': 'United States',\n",
      "                                               'percent': 54.8},\n",
      "                                              {'country': 'Canada',\n",
      "                                               'percent': 7.4},\n",
      "                                              {'country': 'India',\n",
      "                                               'percent': 6.2}],\n",
      "                       'score': [{'alexa_rank': 38257.0,\n",
      "                                  'overlap_score': 11.3,\n",
      "                                  'url': 'criterion.com'},\n",
      "                                 {'alexa_rank': 13105.0,\n",
      "                                  'overlap_score': 5.2,\n",
      "                                  'url': 'rogerebert.com'},\n",
      "                                 {'alexa_rank': 37046.0,\n",
      "                                  'overlap_score': 4.6,\n",
      "                                  'url': 'empireonline.com'},\n",
      "                                 {'alexa_rank': 291202.0,\n",
      "                                  'overlap_score': 4.6,\n",
      "                                  'url': 'dvdbeaver.com'},\n",
      "                                 {'alexa_rank': 2817.0,\n",
      "                                  'overlap_score': 4.2,\n",
      "                                  'url': 'letterboxd.com'}],\n",
      "                       'site': 'slantmagazine.com'}}\n"
     ]
    }
   ],
   "source": [
    "pprint(results['villagevoice.com'])"
   ],
   "metadata": {
    "collapsed": false,
    "pycharm": {
     "name": "#%%\n"
    }
   }
  },
  {
   "cell_type": "markdown",
   "source": [
    "# Check the result data"
   ],
   "metadata": {
    "collapsed": false
   }
  },
  {
   "cell_type": "code",
   "execution_count": 8,
   "outputs": [
    {
     "data": {
      "text/plain": "[]"
     },
     "execution_count": 8,
     "metadata": {},
     "output_type": "execute_result"
    }
   ],
   "source": [
    "# Look for empty elements\n",
    "[res for result in results.values() for res in result.values() if res['score'] is None]"
   ],
   "metadata": {
    "collapsed": false,
    "pycharm": {
     "name": "#%%\n"
    }
   }
  },
  {
   "cell_type": "code",
   "execution_count": 9,
   "outputs": [
    {
     "data": {
      "text/plain": "Counter({5: 4675, 1: 28, 3: 51, 4: 34, 2: 48, 0: 1})"
     },
     "execution_count": 9,
     "metadata": {},
     "output_type": "execute_result"
    }
   ],
   "source": [
    "# Distribution of the results length\n",
    "\n",
    "from collections import Counter\n",
    "\n",
    "Counter([len(res['score']) for result in results.values() for res in result.values()])"
   ],
   "metadata": {
    "collapsed": false,
    "pycharm": {
     "name": "#%%\n"
    }
   }
  },
  {
   "cell_type": "code",
   "execution_count": 10,
   "outputs": [
    {
     "data": {
      "text/plain": "[{'site': 'ace-o-spades.blogspot.com', 'score': [], 'audience_geography': []}]"
     },
     "execution_count": 10,
     "metadata": {},
     "output_type": "execute_result"
    }
   ],
   "source": [
    "# Records with no Audience overlap\n",
    "\n",
    "[res for result in results.values() for res in result.values() if len(res['score']) == 0]"
   ],
   "metadata": {
    "collapsed": false,
    "pycharm": {
     "name": "#%%\n"
    }
   }
  },
  {
   "cell_type": "markdown",
   "source": [
    "# Save results from scrapping level 1"
   ],
   "metadata": {
    "collapsed": false
   }
  },
  {
   "cell_type": "code",
   "execution_count": 11,
   "outputs": [],
   "source": [
    "import json\n",
    "\n",
    "with open(\"/home/paco/Documents/site_similarity/data/scrapping_results/processed level 1 results.json\", 'w') as f:\n",
    "    json.dump(results, f, indent=4)"
   ],
   "metadata": {
    "collapsed": false,
    "pycharm": {
     "name": "#%%\n"
    }
   }
  }
 ],
 "metadata": {
  "kernelspec": {
   "display_name": "Python 3",
   "language": "python",
   "name": "python3"
  },
  "language_info": {
   "codemirror_mode": {
    "name": "ipython",
    "version": 2
   },
   "file_extension": ".py",
   "mimetype": "text/x-python",
   "name": "python",
   "nbconvert_exporter": "python",
   "pygments_lexer": "ipython2",
   "version": "2.7.6"
  }
 },
 "nbformat": 4,
 "nbformat_minor": 0
}