{
 "cells": [
  {
   "cell_type": "code",
   "execution_count": 1,
   "metadata": {},
   "outputs": [],
   "source": [
    "import sys,os\n",
    "sys.path.append(\"/home/paco/Documents/site_similarity\")"
   ]
  },
  {
   "cell_type": "code",
   "execution_count": 2,
   "outputs": [],
   "source": [
    "import  json\n",
    "\n",
    "with open(\"/home/paco/Documents/site_similarity/data/scrapping_results/processed level 3 results.json\", 'r') as f:\n",
    "    lvl_three_data = json.load(f)"
   ],
   "metadata": {
    "collapsed": false,
    "pycharm": {
     "name": "#%%\n"
    }
   }
  },
  {
   "cell_type": "code",
   "execution_count": 3,
   "outputs": [
    {
     "output_type": "execute_result",
     "data": {
      "text/plain": "10650"
     },
     "metadata": {},
     "execution_count": 3
    }
   ],
   "source": [
    "len(lvl_three_data)"
   ],
   "metadata": {
    "collapsed": false,
    "pycharm": {
     "name": "#%%\n"
    }
   }
  },
  {
   "cell_type": "code",
   "execution_count": 4,
   "outputs": [
    {
     "output_type": "stream",
     "name": "stdout",
     "text": "5\nastrology.com\nganeshaspeaks.com\nastrology-zodiac-signs.com\nastromatcha.com\nastrostyle.com\n"
    }
   ],
   "source": [
    "from pprint import pprint\n",
    "\n",
    "print(len(lvl_three_data['compatible-astrology.com'].keys()))\n",
    "for k in lvl_three_data['compatible-astrology.com'].keys():\n",
    "    print(k)"
   ],
   "metadata": {
    "collapsed": false,
    "pycharm": {
     "name": "#%%\n"
    },
    "tags": []
   }
  },
  {
   "cell_type": "code",
   "execution_count": 4,
   "outputs": [
    {
     "name": "stderr",
     "output_type": "stream",
     "text": [
      "100%|██████████| 1/1 [00:00<00:00, 206.02it/s]\n"
     ]
    }
   ],
   "source": [
    "from dataprep.alexa_scrapper import scrapping\n",
    "test_res = scrapping({'test' : lvl_three_data['compatible-astrology.com']})"
   ],
   "metadata": {
    "collapsed": false,
    "pycharm": {
     "name": "#%%\n"
    }
   }
  },
  {
   "cell_type": "code",
   "execution_count": 5,
   "outputs": [
    {
     "name": "stderr",
     "output_type": "stream",
     "text": [
      "100%|██████████| 10650/10650 [17:17<00:00, 10.26it/s] \n"
     ]
    },
    {
     "name": "stdout",
     "output_type": "stream",
     "text": [
      "Save data at index 0 ...\n",
      "Save data at index 100 ...\n",
      "Save data at index 200 ...\n",
      "Save data at index 300 ...\n",
      "Save data at index 400 ...\n",
      "Save data at index 500 ...\n",
      "Save data at index 600 ...\n",
      "Save data at index 700 ...\n",
      "Save data at index 800 ...\n",
      "Save data at index 900 ...\n",
      "Save data at index 1000 ...\n",
      "Save data at index 1100 ...\n",
      "Save data at index 1200 ...\n",
      "Save data at index 1300 ...\n",
      "Save data at index 1400 ...\n",
      "Save data at index 1500 ...\n",
      "Save data at index 1600 ...\n",
      "Save data at index 1700 ...\n",
      "Save data at index 1800 ...\n",
      "Save data at index 1900 ...\n",
      "Save data at index 2000 ...\n",
      "Save data at index 2100 ...\n",
      "Save data at index 2200 ...\n",
      "Save data at index 2300 ...\n",
      "Save data at index 2400 ...\n",
      "Save data at index 2500 ...\n",
      "Save data at index 2600 ...\n",
      "Save data at index 2700 ...\n",
      "Save data at index 2800 ...\n",
      "Save data at index 2900 ...\n",
      "Save data at index 3000 ...\n",
      "Save data at index 3100 ...\n",
      "Save data at index 3200 ...\n",
      "Save data at index 3300 ...\n",
      "Save data at index 3400 ...\n",
      "Save data at index 3500 ...\n",
      "Save data at index 3600 ...\n",
      "Save data at index 3700 ...\n",
      "Save data at index 3800 ...\n",
      "Save data at index 3900 ...\n",
      "Save data at index 4000 ...\n",
      "Save data at index 4100 ...\n",
      "Save data at index 4200 ...\n",
      "Save data at index 4300 ...\n",
      "Save data at index 4400 ...\n",
      "Save data at index 4500 ...\n",
      "Save data at index 4600 ...\n",
      "Save data at index 4700 ...\n",
      "Save data at index 4800 ...\n",
      "Save data at index 4900 ...\n",
      "Save data at index 5000 ...\n",
      "Save data at index 5100 ...\n",
      "Save data at index 5200 ...\n",
      "Save data at index 5300 ...\n",
      "Save data at index 5400 ...\n",
      "Save data at index 5500 ...\n",
      "Save data at index 5600 ...\n",
      "Save data at index 5700 ...\n",
      "Save data at index 5800 ...\n",
      "Save data at index 5900 ...\n",
      "Save data at index 6000 ...\n",
      "Save data at index 6100 ...\n",
      "Save data at index 6200 ...\n",
      "Save data at index 6300 ...\n",
      "Save data at index 6400 ...\n",
      "Save data at index 6500 ...\n",
      "Save data at index 6600 ...\n",
      "Save data at index 6700 ...\n",
      "Save data at index 6800 ...\n",
      "Save data at index 6900 ...\n",
      "Save data at index 7000 ...\n",
      "Save data at index 7100 ...\n",
      "Save data at index 7200 ...\n",
      "Save data at index 7300 ...\n",
      "Save data at index 7400 ...\n",
      "Save data at index 7500 ...\n",
      "Save data at index 7600 ...\n",
      "Save data at index 7700 ...\n",
      "Save data at index 7800 ...\n",
      "Save data at index 7900 ...\n",
      "Save data at index 8000 ...\n",
      "Save data at index 8100 ...\n",
      "Save data at index 8200 ...\n",
      "Save data at index 8300 ...\n",
      "Save data at index 8400 ...\n",
      "Save data at index 8500 ...\n",
      "Save data at index 8600 ...\n",
      "Save data at index 8700 ...\n",
      "Save data at index 8800 ...\n",
      "Save data at index 8900 ...\n",
      "Save data at index 9000 ...\n",
      "Save data at index 9100 ...\n",
      "Save data at index 9200 ...\n",
      "Save data at index 9300 ...\n",
      "Save data at index 9400 ...\n",
      "Save data at index 9500 ...\n",
      "Save data at index 9600 ...\n",
      "Save data at index 9700 ...\n",
      "Save data at index 9800 ...\n",
      "Save data at index 9900 ...\n",
      "Save data at index 10000 ...\n",
      "Save data at index 10100 ...\n",
      "Save data at index 10200 ...\n",
      "Save data at index 10300 ...\n",
      "Save data at index 10400 ...\n",
      "Save data at index 10500 ...\n",
      "Save data at index 10600 ...\n"
     ]
    }
   ],
   "source": [
    "lvl_four_file = '/home/paco/Documents/site_similarity/data/scrapping_results/processed level 4 results.json'\n",
    "\n",
    "level_four_scrapping_data = scrapping(lvl_three_data, output_file=lvl_four_file)"
   ],
   "metadata": {
    "collapsed": false,
    "pycharm": {
     "name": "#%%\n"
    }
   }
  },
  {
   "cell_type": "code",
   "execution_count": 6,
   "outputs": [
    {
     "data": {
      "text/plain": "28871"
     },
     "execution_count": 6,
     "metadata": {},
     "output_type": "execute_result"
    }
   ],
   "source": [
    "len(level_four_scrapping_data)"
   ],
   "metadata": {
    "collapsed": false,
    "pycharm": {
     "name": "#%%\n"
    }
   }
  },
  {
   "cell_type": "code",
   "execution_count": 7,
   "outputs": [
    {
     "data": {
      "text/plain": "139994"
     },
     "execution_count": 7,
     "metadata": {},
     "output_type": "execute_result"
    }
   ],
   "source": [
    "sum([len(v) for v in level_four_scrapping_data.values()])"
   ],
   "metadata": {
    "collapsed": false,
    "pycharm": {
     "name": "#%%\n"
    }
   }
  },
  {
   "cell_type": "code",
   "execution_count": 8,
   "outputs": [
    {
     "data": {
      "text/plain": "{'astrology-zodiac-signs.com': {'site': 'astrology-zodiac-signs.com',\n  'score': [{'url': 'astrology.com',\n    'overlap_score': 69.8,\n    'alexa_rank': 16859.0},\n   {'url': 'compatible-astrology.com',\n    'overlap_score': 65.8,\n    'alexa_rank': 173807.0},\n   {'url': 'astrostyle.com', 'overlap_score': 53.9, 'alexa_rank': 40172.0},\n   {'url': 'thehoroscope.co', 'overlap_score': 46.4, 'alexa_rank': 51746.0},\n   {'url': 'ganeshaspeaks.com', 'overlap_score': 44.5, 'alexa_rank': 13405.0}],\n  'audience_geography': [{'country': 'United States', 'percent': 46.2},\n   {'country': 'India', 'percent': 9.0},\n   {'country': 'Canada', 'percent': 6.9}]},\n 'astrology.com': {'site': 'astrology.com',\n  'score': [{'url': 'astrology-zodiac-signs.com',\n    'overlap_score': 69.8,\n    'alexa_rank': 18913.0},\n   {'url': 'astrostyle.com', 'overlap_score': 59.7, 'alexa_rank': 40172.0},\n   {'url': 'horoscope.com', 'overlap_score': 51.5, 'alexa_rank': 11770.0},\n   {'url': 'ganeshaspeaks.com', 'overlap_score': 49.7, 'alexa_rank': 13405.0},\n   {'url': 'compatible-astrology.com',\n    'overlap_score': 49.4,\n    'alexa_rank': 173807.0}],\n  'audience_geography': [{'country': 'United States', 'percent': 44.8},\n   {'country': 'India', 'percent': 27.1},\n   {'country': 'Canada', 'percent': 5.9}]},\n 'astromatcha.com': {'site': 'astromatcha.com',\n  'score': [{'url': 'compatible-astrology.com',\n    'overlap_score': 38.4,\n    'alexa_rank': 177437.0},\n   {'url': 'ask-oracle.com', 'overlap_score': 38.0, 'alexa_rank': 241371.0},\n   {'url': 'astrology-zodiac-signs.com',\n    'overlap_score': 29.0,\n    'alexa_rank': 19057.0},\n   {'url': 'astrology.com', 'overlap_score': 28.7, 'alexa_rank': 16751.0},\n   {'url': 'metaphoricalplatypus.com',\n    'overlap_score': 24.1,\n    'alexa_rank': 1436645.0}],\n  'audience_geography': []},\n 'ganeshaspeaks.com': {'site': 'ganeshaspeaks.com',\n  'score': [{'url': 'astrology.com',\n    'overlap_score': 49.7,\n    'alexa_rank': 16751.0},\n   {'url': 'astrology-zodiac-signs.com',\n    'overlap_score': 44.5,\n    'alexa_rank': 19057.0},\n   {'url': 'astroyogi.com', 'overlap_score': 42.1, 'alexa_rank': 15111.0},\n   {'url': 'horoscope.com', 'overlap_score': 39.3, 'alexa_rank': 11685.0},\n   {'url': 'astrostyle.com', 'overlap_score': 38.6, 'alexa_rank': 40842.0}],\n  'audience_geography': [{'country': 'India', 'percent': 68.2},\n   {'country': 'United States', 'percent': 14.1},\n   {'country': 'Australia', 'percent': 3.3}]},\n 'astrostyle.com': {'site': 'astrostyle.com',\n  'score': [{'url': 'astrology.com',\n    'overlap_score': 59.7,\n    'alexa_rank': 16751.0},\n   {'url': 'astrology-zodiac-signs.com',\n    'overlap_score': 53.9,\n    'alexa_rank': 19057.0},\n   {'url': 'cafeastrology.com', 'overlap_score': 52.8, 'alexa_rank': 13013.0},\n   {'url': 'horoscope.com', 'overlap_score': 46.7, 'alexa_rank': 11685.0},\n   {'url': 'ganeshaspeaks.com', 'overlap_score': 38.6, 'alexa_rank': 13568.0}],\n  'audience_geography': [{'country': 'United States', 'percent': 53.2},\n   {'country': 'India', 'percent': 16.8},\n   {'country': 'Serbia', 'percent': 4.1}]}}"
     },
     "execution_count": 8,
     "metadata": {},
     "output_type": "execute_result"
    }
   ],
   "source": [
    "level_four_scrapping_data['compatible-astrology.com']"
   ],
   "metadata": {
    "collapsed": false,
    "pycharm": {
     "name": "#%%\n"
    }
   }
  },
  {
   "cell_type": "markdown",
   "source": [
    "# Check the result data"
   ],
   "metadata": {
    "collapsed": false
   }
  },
  {
   "cell_type": "code",
   "execution_count": 9,
   "outputs": [
    {
     "data": {
      "text/plain": "[]"
     },
     "execution_count": 9,
     "metadata": {},
     "output_type": "execute_result"
    }
   ],
   "source": [
    "# Look for empty elements\n",
    "sorted([res['site'] for result in level_four_scrapping_data.values() for res in result.values() if res['score'] is None])"
   ],
   "metadata": {
    "collapsed": false,
    "pycharm": {
     "name": "#%%\n"
    }
   }
  },
  {
   "cell_type": "code",
   "execution_count": 10,
   "outputs": [
    {
     "data": {
      "text/plain": "Counter({5: 133537, 3: 1892, 4: 1929, 2: 1569, 1: 964, 0: 101})"
     },
     "execution_count": 10,
     "metadata": {},
     "output_type": "execute_result"
    }
   ],
   "source": [
    "# Distribution of the results length\n",
    "\n",
    "from collections import Counter\n",
    "\n",
    "Counter([len(res['score'])\n",
    "         for result in level_four_scrapping_data.values()\n",
    "         for res in result.values()\n",
    "         if res['site'] != 'scandalmedia.wordpress.com'])"
   ],
   "metadata": {
    "collapsed": false,
    "pycharm": {
     "name": "#%%\n"
    }
   }
  },
  {
   "cell_type": "code",
   "execution_count": 12,
   "outputs": [
    {
     "data": {
      "text/plain": "['hot-girl-want-ask.info',\n 'dreamlist.com',\n 'bbleatherseat.com',\n 'tudonghoasnt.com.vn',\n 'solarcotiengiang.com',\n 'solarcotiengiang.com',\n 'vesinhpinmattroi.com',\n 'nangluonglad.com',\n 'solarlaocai.com',\n 'ramirocampos.pro',\n 'ncvirtualartshow.weebly.com',\n 'pinterest.sk',\n 'friedenskonferenz.info',\n 'assemblybratislava.sk',\n 'theessentialoilrevolution.com',\n 'emilydavisonproject.org',\n 'nordicjobboard.com',\n 'maysplumbingandconstruction.com',\n 'ipfkoreabusiness.com',\n 'archiviodiocesinapoli.it',\n 'iranianscholarships.com',\n 'martineoborne.com',\n 'freesquare.com',\n 'duffandnonsense.typepad.com',\n 'nutrhi.net',\n 'upholsteryexpress.co.uk',\n 'knowsapabap.blogspot.com',\n 'nd24news.com',\n 'hindi-lyrics.com',\n 'generalpath.com',\n 'caboserai.com',\n 'urengoybiz.ru',\n 'astragroup.com.my',\n 'joesweeneyart.com',\n 'grantxstorer.com',\n 'artsubtext.wordpress.com',\n 'dreamlist.com',\n 'openstudioparis.com',\n 'mehan.jo',\n 'thewayjc.com',\n 'wimaxxed.com',\n 'u-id.fi',\n 'loganfireco1.org',\n 'amarnaviajes.tur.ar',\n 'btedescoams200.blogspot.com',\n 'thefreedom.store',\n 'sunnyside577.org',\n 'iqama.asia',\n 'visaloindia.com',\n 'fastcheckout.com.ng',\n 'htheweathercenter.org',\n 'latah-site.netlify.com',\n 'tiogaprogressives.blogspot.com',\n 'joyandshine.com',\n 'condessaprime.com',\n 'vardhamanlifecare.in',\n 'alumneyetraining.com',\n 'myotr.it',\n 'indoor.cz',\n 'saint-chamassy.fr',\n 'oltrelautismo.it',\n 'myotr.it',\n 'skunk.li',\n '2sistersnepalcookingschool.com',\n 'coloradoncta.org',\n 'coloradoncta.org',\n 'forexearlywarningsystem1.blogspot.com',\n 'soazbigs.org',\n 'fishermanpantsaustralia.com.au',\n 'deepakktsnapshot.blogspot.com',\n 'handsoffvenezuela.xyz',\n 'portugal3.weebly.com',\n 'jxlsky.com',\n 'vncbrokers.com',\n 'theworks-intl-ca.com',\n 'shabnamferdowsi.com',\n 'birdwatchingeastafrica.com',\n 'iasc2019.org',\n 'apostledavidetaylor.org',\n 'gstbocessscta-my.sharepoint.com',\n 'nationullnews.com',\n 'nationullnews.com',\n 'nationullnews.com',\n 'nationullnews.com',\n 'goodtogomemphis.com',\n 'vikmar-realty.ru',\n 'ppl-news3.club',\n 'sorti-live.site',\n 'silverstatetech.com',\n 'm-p-a.co.uk',\n 'alanolejniczak.com',\n 'mobilane.co.za',\n 'jcrichman.com',\n 'quoruminformationsystems.com',\n 'catmailohio-my.sharepoint.com',\n 'sorcererdigital.com',\n 'bestimmunity.blogspot.com',\n 'bedfordpsychologists.com',\n 'shopfaithsocial.com',\n 'bamboo-delight.com',\n 'cmsmkewi.us']"
     },
     "execution_count": 12,
     "metadata": {},
     "output_type": "execute_result"
    }
   ],
   "source": [
    "# Records with no Audience overlap\n",
    "\n",
    "[res['site']\n",
    " for result in level_four_scrapping_data.values()\n",
    " for res in result.values()\n",
    " if res['site'] != 'scandalmedia.wordpress.com' and len(res['score']) == 0]\n"
   ],
   "metadata": {
    "collapsed": false,
    "pycharm": {
     "name": "#%%\n"
    }
   }
  },
  {
   "cell_type": "markdown",
   "source": [
    "# Save results from scrapping level 3"
   ],
   "metadata": {
    "collapsed": false
   }
  },
  {
   "cell_type": "code",
   "execution_count": 13,
   "outputs": [],
   "source": [
    "import json\n",
    "\n",
    "with open(\"/home/paco/Documents/site_similarity/data/scrapping_results/processed level 4 results.json\", 'w') as f:\n",
    "    json.dump(level_four_scrapping_data, f, indent=4)"
   ],
   "metadata": {
    "collapsed": false,
    "pycharm": {
     "name": "#%%\n"
    }
   }
  },
  {
   "cell_type": "code",
   "execution_count": null,
   "outputs": [],
   "source": [
    "\n"
   ],
   "metadata": {
    "collapsed": false,
    "pycharm": {
     "name": "#%%\n"
    }
   }
  }
 ],
 "metadata": {
  "kernelspec": {
   "display_name": "Python 3",
   "language": "python",
   "name": "python3"
  },
  "language_info": {
   "codemirror_mode": {
    "name": "ipython",
    "version": 2
   },
   "file_extension": ".py",
   "mimetype": "text/x-python",
   "name": "python",
   "nbconvert_exporter": "python",
   "pygments_lexer": "ipython2",
   "version": "3.6.10-final"
  }
 },
 "nbformat": 4,
 "nbformat_minor": 0
}