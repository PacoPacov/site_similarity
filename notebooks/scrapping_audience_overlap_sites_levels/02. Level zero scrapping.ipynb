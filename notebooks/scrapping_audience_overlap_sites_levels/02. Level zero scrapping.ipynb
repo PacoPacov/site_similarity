{
 "cells": [
  {
   "cell_type": "code",
   "execution_count": 1,
   "metadata": {
    "collapsed": true
   },
   "outputs": [
    {
     "name": "stdout",
     "output_type": "stream",
     "text": [
      "1066\n",
      "OrderedDict([('source_url', 'http://www.villagevoice.com/'), ('source_url_processed', 'villagevoice.com'), ('URL', 'http://mediabiasfactcheck.com/the-village-voice/'), ('fact', 'HIGH'), ('bias', 'left')])\n"
     ]
    }
   ],
   "source": [
    "from dataprep.load_annotated_data import load_corpus\n",
    "\n",
    "data = load_corpus('modified_corpus.csv')\n",
    "print(len(data))\n",
    "print(data[0])"
   ]
  },
  {
   "cell_type": "code",
   "execution_count": 2,
   "outputs": [
    {
     "name": "stderr",
     "output_type": "stream",
     "text": [
      "100%|██████████| 1066/1066 [02:47<00:00,  6.37it/s]\n"
     ]
    }
   ],
   "source": [
    "from dataprep.alexa_scrapper import ScrapeAlexa\n",
    "from tqdm import tqdm\n",
    "\n",
    "results = {}\n",
    "alexa_scrapper = ScrapeAlexa()\n",
    "for row in tqdm(data):\n",
    "    results[row['source_url_processed']] = {row['source_url_processed']: alexa_scrapper.scrape_alexa_site_info(row['source_url_processed'])}"
   ],
   "metadata": {
    "collapsed": false,
    "pycharm": {
     "name": "#%%\n"
    }
   }
  },
  {
   "cell_type": "code",
   "execution_count": 5,
   "outputs": [
    {
     "name": "stdout",
     "output_type": "stream",
     "text": [
      "{'villagevoice.com': {'audience_geography': [{'country': 'United States',\n",
      "                                              'percent': 77.2}],\n",
      "                      'score': [{'alexa_rank': 51694.0,\n",
      "                                 'overlap_score': 4.1,\n",
      "                                 'url': 'nylon.com'},\n",
      "                                {'alexa_rank': 92418.0,\n",
      "                                 'overlap_score': 2.5,\n",
      "                                 'url': 'slantmagazine.com'},\n",
      "                                {'alexa_rank': 16813.0,\n",
      "                                 'overlap_score': 2.4,\n",
      "                                 'url': 'gothamist.com'},\n",
      "                                {'alexa_rank': 110772.0,\n",
      "                                 'overlap_score': 2.1,\n",
      "                                 'url': 'screendaily.com'},\n",
      "                                {'alexa_rank': 69192.0,\n",
      "                                 'overlap_score': 2.1,\n",
      "                                 'url': 'amny.com'}],\n",
      "                      'site': 'villagevoice.com'}}\n"
     ]
    }
   ],
   "source": [
    "from pprint import pprint\n",
    "\n",
    "pprint(results['villagevoice.com'])"
   ],
   "metadata": {
    "collapsed": false,
    "pycharm": {
     "name": "#%%\n"
    }
   }
  },
  {
   "cell_type": "markdown",
   "source": [
    "# Check the result data"
   ],
   "metadata": {
    "collapsed": false
   }
  },
  {
   "cell_type": "code",
   "execution_count": 6,
   "outputs": [
    {
     "data": {
      "text/plain": "[]"
     },
     "execution_count": 6,
     "metadata": {},
     "output_type": "execute_result"
    }
   ],
   "source": [
    "# Look for empty elements\n",
    "[res for result in results.values() for res in result.values() if res['score'] is None]"
   ],
   "metadata": {
    "collapsed": false,
    "pycharm": {
     "name": "#%%\n"
    }
   }
  },
  {
   "cell_type": "code",
   "execution_count": 7,
   "outputs": [
    {
     "data": {
      "text/plain": "Counter({5: 939, 4: 14, 1: 18, 0: 63, 2: 16, 3: 12})"
     },
     "execution_count": 7,
     "metadata": {},
     "output_type": "execute_result"
    }
   ],
   "source": [
    "# Distribution of the results length\n",
    "\n",
    "from collections import Counter\n",
    "\n",
    "Counter([len(res['score']) for result in results.values() for res in result.values()])"
   ],
   "metadata": {
    "collapsed": false,
    "pycharm": {
     "name": "#%%\n"
    }
   }
  },
  {
   "cell_type": "code",
   "execution_count": 8,
   "outputs": [
    {
     "data": {
      "text/plain": "[{'site': 'politicalmayhem.news', 'score': [], 'audience_geography': []},\n {'site': 'france24-tv.com', 'score': [], 'audience_geography': []},\n {'site': 'amazingnews.net', 'score': [], 'audience_geography': []},\n {'site': 'newsandstoriesfromusa.com', 'score': [], 'audience_geography': []},\n {'site': 'offendedamerica.com', 'score': [], 'audience_geography': []},\n {'site': 'leftsideofhistory.com', 'score': [], 'audience_geography': []},\n {'site': 'patriotfires.com', 'score': [], 'audience_geography': []},\n {'site': 'democraticreview.com', 'score': [], 'audience_geography': []},\n {'site': 'chicksontheright.com', 'score': [], 'audience_geography': []},\n {'site': 'hemaven.net', 'score': [], 'audience_geography': []},\n {'site': 'truthexaminer.com', 'score': [], 'audience_geography': []},\n {'site': 'stocksnewsdaily.com', 'score': [], 'audience_geography': []},\n {'site': 'conservativebyte.com', 'score': [], 'audience_geography': []},\n {'site': 'liberalsociety.com', 'score': [], 'audience_geography': []},\n {'site': 'researchantisemitism.ca', 'score': [], 'audience_geography': []},\n {'site': 'freedomcrossroads.com', 'score': [], 'audience_geography': []},\n {'site': 'usaconservativereport.com', 'score': [], 'audience_geography': []},\n {'site': 'consmovement.com', 'score': [], 'audience_geography': []},\n {'site': 'hoggwatch.com', 'score': [], 'audience_geography': []},\n {'site': 'leftscoop.com', 'score': [], 'audience_geography': []},\n {'site': 'bullshitnews.org', 'score': [], 'audience_geography': []},\n {'site': 'thepeoplestruth.com', 'score': [], 'audience_geography': []},\n {'site': 'againstcronycapitalism.org', 'score': [], 'audience_geography': []},\n {'site': 'rightalerts.com', 'score': [], 'audience_geography': []},\n {'site': 'chroniclesofdemocracy.com', 'score': [], 'audience_geography': []},\n {'site': 'pmnightlynews.com', 'score': [], 'audience_geography': []},\n {'site': 'politicalsitenews.com', 'score': [], 'audience_geography': []},\n {'site': 'understandrealitythroughscience.blogspot.com',\n  'score': [],\n  'audience_geography': []},\n {'site': 'economyincrisis.org', 'score': [], 'audience_geography': []},\n {'site': 'realtimepolitics.com', 'score': [], 'audience_geography': []},\n {'site': 'dailyworldinformation.com', 'score': [], 'audience_geography': []},\n {'site': 'thewhim.com', 'score': [], 'audience_geography': []},\n {'site': 'speakgov.com', 'score': [], 'audience_geography': []},\n {'site': 'newsheist.com', 'score': [], 'audience_geography': []},\n {'site': 'ozy.com',\n  'score': [],\n  'audience_geography': [{'country': 'United States', 'percent': 58.9},\n   {'country': 'Brazil', 'percent': 10.6},\n   {'country': 'India', 'percent': 10.6}]},\n {'site': 'biggovernment.news', 'score': [], 'audience_geography': []},\n {'site': 'defiantamerica.com', 'score': [], 'audience_geography': []},\n {'site': 'teddystick.com', 'score': [], 'audience_geography': []},\n {'site': 'plymouthpatriotpost.com', 'score': [], 'audience_geography': []},\n {'site': 'undergroundjournalist.org', 'score': [], 'audience_geography': []},\n {'site': 'viraltitle.com', 'score': [], 'audience_geography': []},\n {'site': 'nottnews.com', 'score': [], 'audience_geography': []},\n {'site': 'restoreamericanglory.com', 'score': [], 'audience_geography': []},\n {'site': 'defund.com', 'score': [], 'audience_geography': []},\n {'site': 'cctv-america.com', 'score': [], 'audience_geography': []},\n {'site': 'usadosenews.com', 'score': [], 'audience_geography': []},\n {'site': 'knoxreport.com', 'score': [], 'audience_geography': []},\n {'site': 'factbox.tv', 'score': [], 'audience_geography': []},\n {'site': 'christwire.org', 'score': [], 'audience_geography': []},\n {'site': 'futureinamerica.com', 'score': [], 'audience_geography': []},\n {'site': 'bluetribune.com', 'score': [], 'audience_geography': []},\n {'site': 'thedcgazette.com', 'score': [], 'audience_geography': []},\n {'site': 'freakoutnation.com', 'score': [], 'audience_geography': []},\n {'site': 'cnntimes.online', 'score': [], 'audience_geography': []},\n {'site': 'observeronline.news', 'score': [], 'audience_geography': []},\n {'site': 'schmedium.org', 'score': [], 'audience_geography': []},\n {'site': 'theoswatch.com', 'score': [], 'audience_geography': []},\n {'site': 'mediazone.news', 'score': [], 'audience_geography': []},\n {'site': 'the-daily-news.co.uk', 'score': [], 'audience_geography': []},\n {'site': 'truebluescoop.com', 'score': [], 'audience_geography': []},\n {'site': 'therantidote.com', 'score': [], 'audience_geography': []},\n {'site': 'usafirstinformation.com', 'score': [], 'audience_geography': []},\n {'site': 'patriotupdate.com', 'score': [], 'audience_geography': []}]"
     },
     "execution_count": 8,
     "metadata": {},
     "output_type": "execute_result"
    }
   ],
   "source": [
    "# Records with no Audience overlap\n",
    "\n",
    "[res for result in results.values() for res in result.values() if len(res['score']) == 0]"
   ],
   "metadata": {
    "collapsed": false,
    "pycharm": {
     "name": "#%%\n"
    }
   }
  },
  {
   "cell_type": "markdown",
   "source": [
    "# Save results from scrapping level 0"
   ],
   "metadata": {
    "collapsed": false,
    "pycharm": {
     "name": "#%% md\n"
    }
   }
  },
  {
   "cell_type": "code",
   "execution_count": 9,
   "outputs": [],
   "source": [
    "import json\n",
    "\n",
    "with open(\"/home/paco/Documents/site_similarity/data/scrapping_results/processed level 0 results.json\", 'w') as f:\n",
    "    json.dump(results, f, indent=4)"
   ],
   "metadata": {
    "collapsed": false,
    "pycharm": {
     "name": "#%%\n"
    }
   }
  }
 ],
 "metadata": {
  "kernelspec": {
   "display_name": "Python 3",
   "language": "python",
   "name": "python3"
  },
  "language_info": {
   "codemirror_mode": {
    "name": "ipython",
    "version": 2
   },
   "file_extension": ".py",
   "mimetype": "text/x-python",
   "name": "python",
   "nbconvert_exporter": "python",
   "pygments_lexer": "ipython2",
   "version": "2.7.6"
  }
 },
 "nbformat": 4,
 "nbformat_minor": 0
}